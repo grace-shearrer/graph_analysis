{
 "cells": [
  {
   "cell_type": "code",
   "execution_count": 1,
   "metadata": {},
   "outputs": [],
   "source": [
    "import pandas as pd\n",
    "import glob\n",
    "import os\n",
    "import numpy as np\n",
    "import pickle\n",
    "import statistics\n",
    "import community\n",
    "import matplotlib as mlp\n",
    "# mlp.use(\"Qt5Agg\")\n",
    "import matplotlib.pyplot as plt\n",
    "%matplotlib inline\n",
    "import networkx as nx\n",
    "\n",
    "import analysis as an\n",
    "import pandas as pd\n",
    "import statsmodels as st\n",
    "import statsmodels.api as sm\n",
    "from statsmodels.formula.api import ols\n",
    "\n",
    "# from visbrain.objects import BrainObj, ColorbarObj, SceneObj, SourceObj\n",
    "# from visbrain.io import download_file, read_stc\n",
    "\n",
    "# from nilearn.connectome import ConnectivityMeasure\n",
    "\n",
    "# from nilearn import plotting\n",
    "#plt.matshow(rwd_mean_correlation_matrix,cmap='hot')\n",
    "\n",
    "import numpy as np\n",
    "import seaborn as sns\n",
    "\n",
    "from scipy import stats as spy_stats\n",
    "import scipy\n",
    "import pprint as pp"
   ]
  },
  {
   "cell_type": "code",
   "execution_count": null,
   "metadata": {},
   "outputs": [],
   "source": [
    "basepath='/Users/gracer/Google Drive/HCP/HCP_graph/1200/datasets/'"
   ]
  },
  {
   "cell_type": "code",
   "execution_count": 85,
   "metadata": {},
   "outputs": [],
   "source": [
    "labels = pd.read_csv(os.path.join(basepath,'tmp','mod_labels.csv'), sep=',')"
   ]
  },
  {
   "cell_type": "code",
   "execution_count": null,
   "metadata": {
    "scrolled": true
   },
   "outputs": [],
   "source": [
    "labels"
   ]
  },
  {
   "cell_type": "code",
   "execution_count": 86,
   "metadata": {},
   "outputs": [],
   "source": [
    "labels.set_index('Index', inplace=True)"
   ]
  },
  {
   "cell_type": "code",
   "execution_count": null,
   "metadata": {},
   "outputs": [],
   "source": [
    "labels.head()"
   ]
  },
  {
   "cell_type": "code",
   "execution_count": null,
   "metadata": {},
   "outputs": [],
   "source": [
    "note_dict={}\n",
    "for i,j in labels.iterrows():\n",
    "    print(i)\n",
    "    print(j['area'])\n",
    "    note_dict[i]=j['area']"
   ]
  },
  {
   "cell_type": "code",
   "execution_count": null,
   "metadata": {
    "scrolled": true
   },
   "outputs": [],
   "source": [
    "note_dict"
   ]
  },
  {
   "cell_type": "code",
   "execution_count": null,
   "metadata": {},
   "outputs": [],
   "source": [
    "summary_dict=an.onetoughjar(os.path.join(basepath,'tmp','5_summary_dict_07-31-2020_12-26-08'))"
   ]
  },
  {
   "cell_type": "code",
   "execution_count": null,
   "metadata": {},
   "outputs": [],
   "source": [
    "summary_dict['NR']['ov']['modules'].keys()"
   ]
  },
  {
   "cell_type": "code",
   "execution_count": null,
   "metadata": {},
   "outputs": [],
   "source": [
    "for key, value in summary_dict['NR'].items():\n",
    "    for subkey, subvalue in value.items():\n",
    "#         print(subkey)\n",
    "        if subkey == 'modules':\n",
    "            print(subvalue.keys())\n",
    "            summary_dict['NR'][key][subkey]['Q']=community.modularity(subvalue['partition'], subvalue['graph'], weight='weight')"
   ]
  },
  {
   "cell_type": "code",
   "execution_count": null,
   "metadata": {},
   "outputs": [],
   "source": [
    "print(summary_dict['NR']['no']['modules']['Q'])\n",
    "print(summary_dict['NR']['ov']['modules']['Q'])\n",
    "print(summary_dict['NR']['ob']['modules']['Q'])"
   ]
  },
  {
   "cell_type": "code",
   "execution_count": null,
   "metadata": {},
   "outputs": [],
   "source": [
    "for key, value in summary_dict['NR'].items():\n",
    "    for subkey, subvalue in value.items():\n",
    "#         print(subkey)\n",
    "        if subkey == 'modules':\n",
    "            print(subvalue.keys())\n",
    "            summary_dict['NR'][key][subkey]['dendrogram']=community.generate_dendrogram(subvalue['graph'],   weight='weight')"
   ]
  },
  {
   "cell_type": "code",
   "execution_count": null,
   "metadata": {
    "scrolled": true
   },
   "outputs": [],
   "source": [
    "x = summary_dict['NR']['ob']['modules']['dendrogram']"
   ]
  },
  {
   "cell_type": "code",
   "execution_count": null,
   "metadata": {},
   "outputs": [],
   "source": [
    "G=nx.erdos_renyi_graph(100, 0.01)\n",
    "dendo = community.generate_dendrogram(G)\n",
    "\n",
    "for level in range(len(x) - 1) :\n",
    "    print(\"partition at level\", level,\"is\", community.partition_at_level(dendo, level))\n"
   ]
  },
  {
   "cell_type": "code",
   "execution_count": null,
   "metadata": {
    "scrolled": true
   },
   "outputs": [],
   "source": []
  },
  {
   "cell_type": "code",
   "execution_count": null,
   "metadata": {},
   "outputs": [],
   "source": []
  },
  {
   "cell_type": "code",
   "execution_count": null,
   "metadata": {},
   "outputs": [],
   "source": []
  },
  {
   "cell_type": "code",
   "execution_count": null,
   "metadata": {},
   "outputs": [],
   "source": []
  },
  {
   "cell_type": "code",
   "execution_count": null,
   "metadata": {},
   "outputs": [],
   "source": []
  },
  {
   "cell_type": "code",
   "execution_count": null,
   "metadata": {},
   "outputs": [],
   "source": []
  },
  {
   "cell_type": "code",
   "execution_count": null,
   "metadata": {},
   "outputs": [],
   "source": []
  },
  {
   "cell_type": "code",
   "execution_count": null,
   "metadata": {
    "scrolled": false
   },
   "outputs": [],
   "source": [
    "#summary_dict=an.onetoughjar(os.path.join(basepath,'tmp','5_summary_dict_12-05-2019_03-29-19'))\n",
    "\n",
    "summary_dict['NR']['no']['graphs'].nodes(data=True)\n",
    "\n",
    "x=an.grace_graph(summary_dict['NR']['no']['graphs'],'Normal weight', thresh= 97, metric = 'centrality', position='spectral', basepath = basepath)\n",
    "\n",
    "y=an.grace_graph(summary_dict['NR']['ov']['graphs'],  'Overweight',   thresh= 97, metric = 'centrality', position='spectral', basepath = basepath)\n",
    "\n",
    "z=an.grace_graph(summary_dict['NR']['ob']['graphs'], 'Obese',  thresh= 97, metric = 'centrality', position='spectral',basepath = basepath)\n",
    "\n",
    "\n",
    "\n"
   ]
  },
  {
   "cell_type": "code",
   "execution_count": null,
   "metadata": {
    "scrolled": true
   },
   "outputs": [],
   "source": [
    "summary_dict['NR']['no']['graphs'].nodes(data=True)"
   ]
  },
  {
   "cell_type": "code",
   "execution_count": null,
   "metadata": {},
   "outputs": [],
   "source": [
    "# basepath='/Users/gracer/Google Drive/HCP_graph/1200/datasets/'\n",
    "demo_dict=an.onetoughjar(os.path.join(basepath,'tmp','demo_dict_11-13-2019_02-07-22'))\n"
   ]
  },
  {
   "cell_type": "code",
   "execution_count": null,
   "metadata": {},
   "outputs": [],
   "source": [
    "demo_dict['NR'].values()"
   ]
  },
  {
   "cell_type": "code",
   "execution_count": null,
   "metadata": {},
   "outputs": [],
   "source": [
    "demos=pd.DataFrame.from_dict(demo_dict['NR'], orient='index')"
   ]
  },
  {
   "cell_type": "code",
   "execution_count": null,
   "metadata": {},
   "outputs": [],
   "source": [
    "# demos.to_csv(os.path.join(basepath,'demos.csv'), sep=',')"
   ]
  },
  {
   "cell_type": "code",
   "execution_count": null,
   "metadata": {
    "scrolled": true
   },
   "outputs": [],
   "source": [
    "print(z.sort_values(by=['degree'], ascending=False).head())\n",
    "print(y.sort_values(by=['degree'], ascending=False).head())\n",
    "print(x.sort_values(by=['degree'], ascending=False).head())"
   ]
  },
  {
   "cell_type": "markdown",
   "metadata": {},
   "source": [
    "# Full graph metrics"
   ]
  },
  {
   "cell_type": "code",
   "execution_count": null,
   "metadata": {},
   "outputs": [],
   "source": [
    "basepath='/Users/gracer/Google Drive/HCP_graph/1200/datasets/'\n",
    "#Load data from pickle if needed\n",
    "# save_dict=an.onetoughjar(os.path.join(basepath,'tmp','save_dict_11-14-2019_02-46-01'))"
   ]
  },
  {
   "cell_type": "code",
   "execution_count": null,
   "metadata": {},
   "outputs": [],
   "source": [
    "stat_dict={'MZ':{'mean_FC':{'no':{},'ov':{},'ob':{}}, 'clustering_coeff':{'no':{},'ov':{},'ob':{}}, 'btn_centrality':{'no':{},'ov':{},'ob':{}}, 'PC':{'no':{},'ov':{},'ob':{}}},\n",
    "           'DZ':{'mean_FC':{'no':{},'ov':{},'ob':{}}, 'clustering_coeff':{'no':{},'ov':{},'ob':{}}, 'btn_centrality':{'no':{},'ov':{},'ob':{}}, 'PC':{'no':{},'ov':{},'ob':{}}},\n",
    "           'NR':{'mean_FC':{'no':{},'ov':{},'ob':{}}, 'clustering_coeff':{'no':{},'ov':{},'ob':{}}, 'btn_centrality':{'no':{},'ov':{},'ob':{}}, 'PC':{'no':{},'ov':{},'ob':{}}}}"
   ]
  },
  {
   "cell_type": "code",
   "execution_count": null,
   "metadata": {
    "scrolled": true
   },
   "outputs": [],
   "source": [
    "stat_dict={'MZ':{'mean_FC':{'no':{},'ov':{},'ob':{}}, 'clustering_coeff':{'no':{},'ov':{},'ob':{}}, 'btn_centrality':{'no':{},'ov':{},'ob':{}}, 'PC':{'no':{},'ov':{},'ob':{}}},\n",
    "           'DZ':{'mean_FC':{'no':{},'ov':{},'ob':{}}, 'clustering_coeff':{'no':{},'ov':{},'ob':{}}, 'btn_centrality':{'no':{},'ov':{},'ob':{}}, 'PC':{'no':{},'ov':{},'ob':{}}},\n",
    "           'NR':{'mean_FC':{'no':{},'ov':{},'ob':{}}, 'clustering_coeff':{'no':{},'ov':{},'ob':{}}, 'btn_centrality':{'no':{},'ov':{},'ob':{}}, 'PC':{'no':{},'ov':{},'ob':{}}}}\n",
    "for key, value in save_dict.items():\n",
    "    for subkey,subval in value.items():\n",
    "        for k,v in subval.items():\n",
    "            if k in ['mean_FC','clustering_coeff','btn_centrality','PC']:\n",
    "                stat_dict[key][k][subkey]=pd.DataFrame.from_dict(v, 'index')\n",
    "                new_name=[]\n",
    "                for item in list(stat_dict[key][k][subkey].columns[0:100]):\n",
    "                    new_name.append('IC_%s'%(item+1))\n",
    "                stat_dict[key][k][subkey].columns=new_name\n",
    "                stat_dict[key][k][subkey]['group'] = subkey\n",
    "\n",
    "for key, value in stat_dict.items():\n",
    "    print(key)\n",
    "    for k,v in value.items():\n",
    "        print(k)\n",
    "        df = pd.concat([v['no'],v['ov']], axis=0)\n",
    "        df = pd.concat([df,v['ob']], axis=0)\n",
    "        if k in ['clustering_coeff', 'btn_centrality', 'PC']:\n",
    "            keys = []\n",
    "            tables = []\n",
    "            for variable in list(df.columns)[0:100]:\n",
    "                m='%s ~ group'%variable\n",
    "                model = ols(m, data=df).fit()\n",
    "                anova_table = sm.stats.anova_lm(model, typ=2)\n",
    "\n",
    "                keys.append(variable)\n",
    "                tables.append(anova_table)\n",
    "\n",
    "            df_anova = pd.concat(tables, keys=keys, axis=0)\n",
    "            raw_p=df_anova['PR(>F)'].dropna()\n",
    "            fdr=st.stats.multitest.fdrcorrection(raw_p, alpha=0.05, method='indep', is_sorted=False)\n",
    "            stat_dict[key][k].update({'full':df, 'anova':df_anova, 'FDR':fdr})\n",
    "        else:\n",
    "            print(df)\n",
    "            keys = []\n",
    "            tables = []\n",
    "            variable='IC_1'\n",
    "            m='%s ~ group'%variable\n",
    "            model = ols(m, data=df).fit()\n",
    "            anova_table = sm.stats.anova_lm(model, typ=2)\n",
    "\n",
    "            keys.append(variable)\n",
    "            tables.append(anova_table)\n",
    "\n",
    "            df_anova = pd.concat(tables, keys=keys, axis=0)\n",
    "            raw_p=df_anova['PR(>F)'].dropna()\n",
    "            fdr=st.stats.multitest.fdrcorrection(raw_p, alpha=0.05, method='indep', is_sorted=False)\n",
    "            stat_dict[key][k].update({'full':df, 'anova':df_anova, 'FDR':fdr})\n",
    "\n"
   ]
  },
  {
   "cell_type": "code",
   "execution_count": null,
   "metadata": {},
   "outputs": [],
   "source": [
    "stat_dict['NR'].keys()"
   ]
  },
  {
   "cell_type": "code",
   "execution_count": null,
   "metadata": {
    "scrolled": true
   },
   "outputs": [],
   "source": [
    "for key, value in stat_dict.items():\n",
    "    for subkey,subval in value.items():\n",
    "        for k,v in subval.items():\n",
    "            if k == 'FDR':\n",
    "                s = set(v[0])\n",
    "                if True in s:\n",
    "                    print('there is a significant value here %s %s'%(key,subkey))\n",
    "                    print(stat_dict[key][subkey]['FDR'][1])\n",
    "                    print(stat_dict[key][subkey]['anova'])\n",
    "                "
   ]
  },
  {
   "cell_type": "code",
   "execution_count": null,
   "metadata": {},
   "outputs": [],
   "source": [
    "df=stat_dict['MZ']['btn_centrality']['full']\n",
    "m='%s ~ group'%'IC_2'\n",
    "model = ols(m, data=df).fit()\n",
    "anova_table = sm.stats.anova_lm(model, typ=2)\n",
    "model.summary()"
   ]
  },
  {
   "cell_type": "markdown",
   "metadata": {},
   "source": [
    "Did not find any differences in the nodal metrics between groups in the not related condition  \n",
    "IC_2 shows significantly different betweenness centrality between the obese and normal weight monozygotic twin subset. Probably due to a false discovery "
   ]
  },
  {
   "cell_type": "code",
   "execution_count": null,
   "metadata": {
    "scrolled": true
   },
   "outputs": [],
   "source": [
    "# an.adillyofapickle('/Users/gracer/Google Drive/HCP_graph/1200/datasets',stat_dict,'6_stat_dict')"
   ]
  },
  {
   "cell_type": "code",
   "execution_count": null,
   "metadata": {},
   "outputs": [],
   "source": [
    "# stat_dict=an.onetoughjar(os.path.join(basepath,'tmp','6_stat_dict_11-20-2019_10-37-43'))\n"
   ]
  },
  {
   "cell_type": "code",
   "execution_count": null,
   "metadata": {},
   "outputs": [],
   "source": [
    "summary_dict['NR']['no'].keys()"
   ]
  },
  {
   "cell_type": "code",
   "execution_count": null,
   "metadata": {},
   "outputs": [],
   "source": [
    "no_edge_btw=nx.edge_betweenness_centrality(summary_dict['NR']['no']['graphs'], normalized=True, weight='weight')"
   ]
  },
  {
   "cell_type": "code",
   "execution_count": null,
   "metadata": {},
   "outputs": [],
   "source": [
    "no_edge_btw"
   ]
  },
  {
   "cell_type": "code",
   "execution_count": null,
   "metadata": {},
   "outputs": [],
   "source": [
    "ov_edge_btw=nx.edge_betweenness_centrality(summary_dict['NR']['ov']['graphs'], normalized=True, weight='weight')"
   ]
  },
  {
   "cell_type": "code",
   "execution_count": null,
   "metadata": {},
   "outputs": [],
   "source": [
    "ob_edge_btw=nx.edge_betweenness_centrality(summary_dict['NR']['ob']['graphs'], normalized=True, weight='weight')"
   ]
  },
  {
   "cell_type": "code",
   "execution_count": null,
   "metadata": {},
   "outputs": [],
   "source": [
    "summary_dict['NR']['ob']['edge_btw']=ob_edge_btw\n",
    "summary_dict['NR']['ov']['edge_btw']=ov_edge_btw\n",
    "summary_dict['NR']['no']['edge_btw']=no_edge_btw"
   ]
  },
  {
   "cell_type": "code",
   "execution_count": null,
   "metadata": {},
   "outputs": [],
   "source": [
    "nx.set_edge_attributes(summary_dict['NR']['ob']['graphs'], ob_edge_btw, 'betweenness')\n",
    "nx.set_edge_attributes(summary_dict['NR']['ov']['graphs'], ov_edge_btw, 'betweenness')\n",
    "nx.set_edge_attributes(summary_dict['NR']['no']['graphs'], no_edge_btw, 'betweenness')"
   ]
  },
  {
   "cell_type": "code",
   "execution_count": null,
   "metadata": {},
   "outputs": [],
   "source": [
    "an.adillyofapickle('/Users/gracer/Google Drive/HCP_graph/1200/datasets',summary_dict,'5_summary_dict')"
   ]
  },
  {
   "cell_type": "code",
   "execution_count": null,
   "metadata": {},
   "outputs": [],
   "source": [
    "def grace_graph(graph, group,  **kwargs):\n",
    "    e,w = zip(*nx.get_edge_attributes(graph, 'weight').items())\n",
    "    if bool(kwargs) == False:\n",
    "        positions = nx.circular_layout(graph)\n",
    "        size = 100\n",
    "        title= \"Modularity and edge weights \\n of average %s graph\"%(group)\n",
    "        save=\"%s_graph.png\"%(group)\n",
    "    else:\n",
    "        if 'edges' in kwargs:\n",
    "            print('this is a betweenness graph')\n",
    "            edges, weights = zip(*nx.get_edge_attributes(graph, 'betweenness').items())\n",
    "        else:\n",
    "            edges, weights = zip(*nx.get_edge_attributes(graph, 'weight').items())\n",
    "        if 'position' in kwargs and kwargs['position']=='spectral':\n",
    "            positions = nx.spectral_layout(graph)\n",
    "            title= \"Spectral modularity and edge weights \\n of average %s graph\"%(group)\n",
    "            save=\"Spectral_%s_graph.png\"%(group)\n",
    "        elif 'position' in kwargs and kwargs['position']=='spring':\n",
    "            positions = nx.spring_layout(graph)\n",
    "            title= \"Spring modularity and edge weights \\n of average %s graph\"%(group)\n",
    "            save=\"Sping_%s_graph.png\"%(group)\n",
    "        else:\n",
    "            positions = nx.circular_layout(graph)\n",
    "            title= \"Circle modularity and edge weights \\n of average %s graph\"%(group)\n",
    "            save=\"Circle_%s_graph.png\"%(group)\n",
    "        if 'metric' in kwargs:\n",
    "            nodes, size = zip(*nx.get_node_attributes(graph, kwargs['metric']).items())\n",
    "        else:\n",
    "            size = 100\n",
    "            title = \"basic\"\n",
    "            save=\"%s_graph.png\"%(group)\n",
    "        if 'thresh' in kwargs:\n",
    "            tile=kwargs['thresh']\n",
    "            purr=np.percentile(w, tile)\n",
    "            print(purr)\n",
    "            graph=an.threshold2(graph,purr)\n",
    "        \n",
    "    nodes, color = zip(*nx.get_node_attributes(graph, 'modules').items()) #if your modules are named different change here\n",
    "    # nodes, names = zip(*nx.get_node_attributes(graph, 'label').items()) #if your modules are named different change here\n",
    "    g=graph\n",
    "    #Figure size\n",
    "    plt.figure(figsize=(80,50))\n",
    "\n",
    "    #draws nodes\n",
    "    color = np.array(color)\n",
    "    n_color=len(list(set(color)))\n",
    "    # nColormap=plt.cm.Set3 #check here if you want different colors https://matplotlib.org/3.1.1/gallery/color/colormap_reference.html\n",
    "    cM=color.max()\n",
    "    cm=color.min()\n",
    "    # get discrete colormap\n",
    "    nColormap = plt.get_cmap('Set3', n_color)\n",
    "\n",
    "    # scaling\n",
    "    sz=np.array(size)\n",
    "    scale=15000/sz.max()\n",
    "    sza=sz*scale\n",
    "    # print(sz.shape)\n",
    "\n",
    "    y=nx.draw_networkx_nodes(g,positions,\n",
    "                           node_color=color,\n",
    "                           node_size=sza,\n",
    "                           alpha=0.8,\n",
    "                           cmap= nColormap,\n",
    "                           vmin=cm ,vmax=cM)\n",
    "\n",
    "    #Styling for labels\n",
    "    nx.draw_networkx_labels(g, positions,\n",
    "                            # labels = label_dict,\n",
    "                            font_size=50,\n",
    "                            font_family='sans-serif',\n",
    "                            fontweight = 'bold')\n",
    "\n",
    "    #draw edges\n",
    "#     print(weights)\n",
    "    weights=np.array(weights)\n",
    "    eColormap=plt.cm.gist_rainbow #check here if you want different colors https://matplotlib.org/3.1.1/gallery/color/colormap_reference.html\n",
    "    # scaling\n",
    "    wt=list(set(weights))\n",
    "    wt=np.array(wt)\n",
    "    wt2=-np.sort(-wt)\n",
    "    wt0=wt2[1]\n",
    "\n",
    "    escale=1/wt0\n",
    "    esza=weights*escale\n",
    "    E=list(set(esza))\n",
    "    E2=-np.sort(-np.array(E))\n",
    "    M=E2[1]\n",
    "    m=esza.min()\n",
    "\n",
    "    x=nx.draw_networkx_edges(g, positions,\n",
    "                           edge_list=edges,\n",
    "                           style='solid',\n",
    "                           width = np.square(esza)*5,\n",
    "                           edge_color = esza,\n",
    "                           edge_cmap=eColormap,\n",
    "                           edge_vmin=m,\n",
    "                           edge_vmax=M)\n",
    "\n",
    "    #COLORBAR STUFF\n",
    "    node_bar=plt.colorbar(y, label='Module value')\n",
    "\n",
    "    tick_locs = (np.arange(n_color) + 0.5)*(n_color-1)/n_color\n",
    "    node_bar.set_ticks(tick_locs)\n",
    "\n",
    "    # set tick labels (as before)\n",
    "    node_bar.set_ticklabels(np.arange(n_color))\n",
    "\n",
    "\n",
    "    sm = plt.cm.ScalarMappable(cmap=eColormap, norm=plt.Normalize(vmin = m, vmax=M))\n",
    "    sm._A = []\n",
    "    edge_bar=plt.colorbar(sm)\n",
    "\n",
    "    for l in edge_bar.ax.yaxis.get_ticklabels():\n",
    "        l.set_size(50)\n",
    "    for l in node_bar.ax.yaxis.get_ticklabels():\n",
    "        l.set_size(50)\n",
    "        l.set_verticalalignment('center')\n",
    "\n",
    "    node_bar.set_label('Modularity',fontsize = 50)\n",
    "    edge_bar.set_label('Strength of edge weight',fontsize = 50)\n",
    "    # Final plot stuff\n",
    "    plt.axis('off')\n",
    "\n",
    "    plt.title(title, fontsize = 100)\n",
    "    basepath='/Users/gracer/Google Drive/HCP/HCP_graph/1200/images'\n",
    "\n",
    "    plt.savefig(os.path.join(basepath,save), format=\"PNG\")\n",
    "    plt.show()\n",
    "    return()"
   ]
  },
  {
   "cell_type": "code",
   "execution_count": null,
   "metadata": {
    "scrolled": true
   },
   "outputs": [],
   "source": [
    "summary_dict['NR']['ob']['graphs'].nodes(data=True)"
   ]
  },
  {
   "cell_type": "code",
   "execution_count": null,
   "metadata": {
    "scrolled": false
   },
   "outputs": [],
   "source": [
    "grace_graph(summary_dict['NR']['ob']['graphs'], 'Obese',  thresh= 0, metric = 'centrality', position='circle', edges=True)\n",
    "\n",
    "grace_graph(summary_dict['NR']['ov']['graphs'], 'Overweight',  thresh= 0, metric = 'centrality', position='circle', edges=True)\n",
    "\n",
    "grace_graph(summary_dict['NR']['no']['graphs'], 'Normal weight',  thresh= 0, metric = 'centrality', position='circle', edges=True)\n",
    "\n"
   ]
  },
  {
   "cell_type": "markdown",
   "metadata": {},
   "source": [
    "## Checking functional connectivity "
   ]
  },
  {
   "cell_type": "code",
   "execution_count": null,
   "metadata": {},
   "outputs": [],
   "source": [
    "def plot_matrices(matrices, matrix_kind):\n",
    "    n_matrices = len(matrices)\n",
    "    fig = plt.figure(figsize=(n_matrices * 4, 4))\n",
    "    for n_subject, matrix in enumerate(matrices):\n",
    "        plt.subplot(1, n_matrices, n_subject + 1)\n",
    "        matrix = matrix.copy()  # avoid side effects\n",
    "        # Set diagonal to zero, for better visualization\n",
    "        np.fill_diagonal(matrix, 0)\n",
    "        vmax = np.max(np.abs(matrix))\n",
    "        title = '{0}, subject {1}'.format(matrix_kind, n_subject)\n",
    "        plotting.plot_matrix(matrix, vmin=-vmax, vmax=vmax, cmap='RdBu_r',\n",
    "                             title=title, figure=fig, colorbar=False)\n",
    "        \n"
   ]
  },
  {
   "cell_type": "code",
   "execution_count": null,
   "metadata": {},
   "outputs": [],
   "source": [
    "basepath='/Users/gracer/Google Drive/HCP_graph/1200/datasets/'\n",
    "file_dict=an.onetoughjar(os.path.join(basepath,'tmp','file_dict_11-14-2019_10-07-24'))\n"
   ]
  },
  {
   "cell_type": "code",
   "execution_count": null,
   "metadata": {
    "scrolled": true
   },
   "outputs": [],
   "source": [
    "file_dict['NR']['ov']['134223']"
   ]
  },
  {
   "cell_type": "code",
   "execution_count": null,
   "metadata": {},
   "outputs": [],
   "source": [
    "listcorr_dict={'MZ':{'no':[],'ov':[],'ob':[]},'DZ':{'no':[],'ov':[],'ob':[]},'NR':{'no':[],'ov':[],'ob':[]}}\n",
    "for key, value in file_dict.items():\n",
    "    for subkey, subval in value.items():\n",
    "        print(subkey)\n",
    "        for k,v in subval.items():\n",
    "            listcorr_dict[key][subkey].append(v.to_numpy())"
   ]
  },
  {
   "cell_type": "code",
   "execution_count": null,
   "metadata": {
    "scrolled": false
   },
   "outputs": [],
   "source": [
    "correlation_measure = ConnectivityMeasure(kind='correlation')\n",
    "\n",
    "for key, value in listcorr_dict['NR'].items():\n",
    "    correlation_matrices = correlation_measure.fit_transform(value)\n",
    "    # All individual coefficients are stacked in a unique 2D matrix.\n",
    "    print('Correlations of %s subjects are stacked in an array of shape {0}'%key\n",
    "          .format(correlation_matrices.shape))\n",
    "    mean_correlation_matrix = correlation_measure.mean_\n",
    "    print('Mean correlation has shape {0}.'.format(mean_correlation_matrix.shape))\n",
    "\n",
    "\n",
    "    plt.figure(figsize=(40,25))\n",
    "    ax = sns.heatmap(mean_correlation_matrix, linewidth=0.5, cmap='coolwarm')\n",
    "\n",
    "    #Save the figure\n",
    "    # ax.figure.savefig(\"/Users/jennygilbert/Documents/betaseries_bevel/reward_coor_mat.png\")\n",
    "\n",
    "    #plot_matrices(rwd_correlation_matrices[:5], 'reward')\n",
    "    #plot_matrices(rwd_mean_correlation_matrix, 'reward')\n",
    "\n",
    "\n",
    "\n",
    "    plt.show()"
   ]
  },
  {
   "cell_type": "code",
   "execution_count": null,
   "metadata": {},
   "outputs": [],
   "source": [
    "def corrector(x, alpha):\n",
    "    results=x[1].ravel()\n",
    "    mask = np.isfinite(results)\n",
    "    pval_corrected = np.empty(results.shape)\n",
    "    pval_corrected.fill(np.nan)\n",
    "    pval_corrected[mask] = st.stats.multitest.multipletests(results[mask],alpha=alpha,method='fdr_bh')[1]\n",
    "    p=np.reshape(pval_corrected, (100, 100))\n",
    "    print(np.nanmin(p))\n",
    "    ps = 1-p\n",
    "    print(np.nanmax(ps))\n",
    "    coor_fig(ps)\n",
    "    return(p)"
   ]
  },
  {
   "cell_type": "code",
   "execution_count": null,
   "metadata": {
    "scrolled": false
   },
   "outputs": [],
   "source": [
    "def coor_fig(df):\n",
    "    plt.figure(figsize=(40,25))\n",
    "    m=np.nanmin(df)\n",
    "    M=np.nanmax(df)\n",
    "    print('The max p value is %f'%M)\n",
    "    sns.heatmap(df, linewidth=0.5, \n",
    "                vmin=m, vmax=1, \n",
    "                cmap=sns.cubehelix_palette(10000), \n",
    "                cbar_kws={'ticks': [0.0, 0.2, 0.4, 0.5, 0.7, 0.8,0.975 ,1.0]})\n",
    "    return(plt.show())"
   ]
  },
  {
   "cell_type": "code",
   "execution_count": null,
   "metadata": {},
   "outputs": [],
   "source": [
    "a=listcorr_dict['NR']['no']\n",
    "b=listcorr_dict['NR']['ov']\n",
    "c=listcorr_dict['NR']['ob']\n",
    "test=spy_stats.f_oneway(a, b, c)\n",
    "anova_results=corrector(test, 0.05)"
   ]
  },
  {
   "cell_type": "markdown",
   "metadata": {},
   "source": [
    "### Between no and ov & no and ob\n",
    "p=0.05/2  \n",
    "p=0.025"
   ]
  },
  {
   "cell_type": "code",
   "execution_count": null,
   "metadata": {},
   "outputs": [],
   "source": [
    "no_ov=spy_stats.ttest_ind(a, b, nan_policy='omit')\n",
    "no_ov_results=corrector(no_ov, 0.025)"
   ]
  },
  {
   "cell_type": "code",
   "execution_count": null,
   "metadata": {},
   "outputs": [],
   "source": [
    "no_ob=spy_stats.ttest_ind(a, c, nan_policy='omit')\n",
    "no_ob_results=corrector(no_ob, 0.025)"
   ]
  },
  {
   "cell_type": "markdown",
   "metadata": {},
   "source": [
    "## Summary\n",
    "There appears to be no differences in the graph metrics between nodes. Nor a difference in functional connectivity"
   ]
  },
  {
   "cell_type": "markdown",
   "metadata": {},
   "source": [
    "# Between modules metrics"
   ]
  },
  {
   "cell_type": "code",
   "execution_count": null,
   "metadata": {},
   "outputs": [],
   "source": [
    "# basepath='/Users/gracer/Google Drive/HCP_graph/1200/datasets/'\n",
    "# #Load data from pickle if needed\n",
    "# summary_dict=an.onetoughjar(os.path.join(basepath,'tmp','summary_dict_11-14-2019_04-33-33'))\n",
    "for key, value in summary_dict.items():\n",
    "    for k,v in value.items():\n",
    "        # community.induced_graph(partition dictionary, graph)\n",
    "         comm_graph = community.induced_graph(v['modules']['partition'], v['graphs'])\n",
    "         v.update(comm_graph = comm_graph)"
   ]
  },
  {
   "cell_type": "code",
   "execution_count": null,
   "metadata": {},
   "outputs": [],
   "source": [
    "summary_dict['NR']['no']['comm_graph'].nodes(data=True)"
   ]
  },
  {
   "cell_type": "code",
   "execution_count": null,
   "metadata": {
    "scrolled": true
   },
   "outputs": [],
   "source": [
    "btw_no=nx.edge_betweenness_centrality(summary_dict['NR']['no']['comm_graph'], weight=True,  normalized = True)\n",
    "btw_no"
   ]
  },
  {
   "cell_type": "code",
   "execution_count": null,
   "metadata": {
    "scrolled": true
   },
   "outputs": [],
   "source": [
    "btw_ov=nx.edge_betweenness_centrality(summary_dict['NR']['ov']['comm_graph'], weight=True, normalized = True)\n",
    "btw_ov"
   ]
  },
  {
   "cell_type": "code",
   "execution_count": null,
   "metadata": {
    "scrolled": true
   },
   "outputs": [],
   "source": [
    "btw_ob=nx.edge_betweenness_centrality(summary_dict['NR']['ob']['comm_graph'], weight=True, normalized = True)\n",
    "btw_ob"
   ]
  },
  {
   "cell_type": "code",
   "execution_count": null,
   "metadata": {},
   "outputs": [],
   "source": [
    "def corr_mod(mat):\n",
    "    plt.figure(figsize=(5,5))\n",
    "    ax = sns.heatmap(mat, linewidth=0.5, cmap='coolwarm')\n",
    "    return(plt.show())"
   ]
  },
  {
   "cell_type": "code",
   "execution_count": null,
   "metadata": {},
   "outputs": [],
   "source": [
    "A = nx.to_numpy_matrix(summary_dict['NR']['no']['comm_graph'])\n",
    "B = nx.to_numpy_matrix(summary_dict['NR']['ov']['comm_graph'])\n",
    "C = nx.to_numpy_matrix(summary_dict['NR']['ob']['comm_graph'])"
   ]
  },
  {
   "cell_type": "code",
   "execution_count": null,
   "metadata": {},
   "outputs": [],
   "source": [
    "nx.to_pandas_adjacency(summary_dict['NR']['no']['comm_graph'])"
   ]
  },
  {
   "cell_type": "code",
   "execution_count": null,
   "metadata": {
    "scrolled": true
   },
   "outputs": [],
   "source": [
    "corr_mod(A)\n",
    "corr_mod(B)\n",
    "corr_mod(C)"
   ]
  },
  {
   "cell_type": "code",
   "execution_count": null,
   "metadata": {},
   "outputs": [],
   "source": [
    "def module_fig(G, Type):\n",
    "    edges,weights = zip(*nx.get_edge_attributes(G,'weight').items())\n",
    "    #nodes, size = zip(*nx.get_node_attributes(G,'clustering').items())\n",
    "\n",
    "    positions=nx.circular_layout(G)\n",
    "    plt.figure(figsize=(80,50))\n",
    "    ### NODES ####\n",
    "    color = np.array(list(G.nodes))\n",
    "    color = np.array(color)\n",
    "    n_color=len(list(set(color)))\n",
    "    nColormap = plt.get_cmap('Set3', n_color)\n",
    "    cM=color.max()\n",
    "    cm=color.min()\n",
    "    y=nx.draw_networkx_nodes(G,positions,\n",
    "                           node_color=color,\n",
    "                           node_size=15000,\n",
    "                           alpha=1.0,\n",
    "                           cmap= nColormap,\n",
    "                           vmin=cm,vmax=cM )\n",
    "\n",
    "    #Styling for labels\n",
    "    nx.draw_networkx_labels(G, positions, font_size=100,\n",
    "                            font_family='sans-serif', fontweight = 'bold')\n",
    "    \n",
    "    ### EDGES ####\n",
    "    weights=np.array(weights)\n",
    "    # scaling\n",
    "    wt=list(set(weights))\n",
    "    wt=np.array(wt)\n",
    "    wt2=-np.sort(-wt)\n",
    "    wt0=wt2[1]\n",
    "\n",
    "    escale=1/wt0\n",
    "    esza=weights*escale\n",
    "    E=list(set(esza))\n",
    "    E2=-np.sort(-np.array(E))\n",
    "    M=E2[1]\n",
    "    m=esza.min()\n",
    "    \n",
    "    \n",
    "    eColormap=plt.cm.gist_rainbow\n",
    "    \n",
    "    x=nx.draw_networkx_edges(G, positions, \n",
    "                             edge_list=edges,\n",
    "                             style='solid', \n",
    "                             width = np.square(esza*5),\n",
    "                             edge_color = weights, \n",
    "                             edge_vmin=m, \n",
    "                             edge_vmax=M, \n",
    "                             edge_cmap= eColormap)\n",
    "\n",
    "    \n",
    "    node_bar=plt.colorbar(y, label='Module value')\n",
    "    \n",
    "    tick_locs = (np.arange(n_color) + 0.5)*(n_color-1)/n_color\n",
    "    node_bar.set_ticks(tick_locs)\n",
    "\n",
    "    # set tick labels (as before)\n",
    "    node_bar.set_ticklabels(np.arange(n_color))\n",
    "\n",
    "\n",
    "    sm = plt.cm.ScalarMappable(cmap=eColormap, norm=plt.Normalize(vmin = m, vmax=M))\n",
    "    sm._A = []\n",
    "    edge_bar=plt.colorbar(sm)\n",
    "\n",
    "    for l in edge_bar.ax.yaxis.get_ticklabels():\n",
    "        l.set_size(50)\n",
    "    for l in node_bar.ax.yaxis.get_ticklabels():\n",
    "        l.set_size(50)\n",
    "        l.set_verticalalignment('center')\n",
    "\n",
    "    node_bar.set_label('Modularity',fontsize = 50)\n",
    "    edge_bar.set_label('Strength of edge weight',fontsize = 50)\n",
    "    \n",
    "    plt.title(\"Module Connectivity Weights %s\"%Type, fontsize = 100)\n",
    "    plt.axis('off')\n",
    "    basepath='/Users/gracer/Google Drive/HCP_graph/1200/images'\n",
    "    plt.savefig(os.path.join(basepath,\"modularity_%s.png\"%(Type)), format=\"PNG\")\n",
    "    # plt.show()"
   ]
  },
  {
   "cell_type": "code",
   "execution_count": null,
   "metadata": {},
   "outputs": [],
   "source": [
    "basepath"
   ]
  },
  {
   "cell_type": "code",
   "execution_count": null,
   "metadata": {
    "scrolled": false
   },
   "outputs": [],
   "source": [
    "an.module_fig(summary_dict['NR']['no']['comm_graph'], 'Normal', basepath = basepath)\n",
    "an.module_fig(summary_dict['NR']['ov']['comm_graph'], 'Overweight',basepath = basepath)\n",
    "an.module_fig(summary_dict['NR']['ob']['comm_graph'], 'Obese',basepath = basepath)"
   ]
  },
  {
   "cell_type": "markdown",
   "metadata": {},
   "source": [
    "## Creating subgraphs per module"
   ]
  },
  {
   "cell_type": "code",
   "execution_count": null,
   "metadata": {},
   "outputs": [],
   "source": [
    "unique, counts = np.unique(summary_dict['NR']['no']['modules']['values'], return_counts=True)\n",
    "print(np.asarray((unique, counts)).T)"
   ]
  },
  {
   "cell_type": "code",
   "execution_count": null,
   "metadata": {},
   "outputs": [],
   "source": [
    "mod_dict={'MZ':{'no':{}, 'ov':{}, 'ob':{}},\n",
    "           'DZ':{'no':{}, 'ov':{}, 'ob':{}},\n",
    "           'NR':{'no':{}, 'ov':{}, 'ob':{}}\n",
    "         }"
   ]
  },
  {
   "cell_type": "code",
   "execution_count": null,
   "metadata": {
    "scrolled": true
   },
   "outputs": [],
   "source": [
    "for key, values in summary_dict.items():\n",
    "    print(key)\n",
    "    for k,v in values.items():\n",
    "        print(k)\n",
    "        unique, counts = np.unique(summary_dict[key][k]['modules']['values'], return_counts=True)\n",
    "        for i in unique:\n",
    "            mod_dict[key][k].update({i:[]})\n",
    "        for q, w in summary_dict[key][k]['modules']['partition'].items():\n",
    "            mod_dict[key][k][w].append(q)"
   ]
  },
  {
   "cell_type": "code",
   "execution_count": null,
   "metadata": {
    "scrolled": true
   },
   "outputs": [],
   "source": [
    "mod_dict['NR']['no']"
   ]
  },
  {
   "cell_type": "code",
   "execution_count": null,
   "metadata": {},
   "outputs": [],
   "source": [
    "summary_dict['NR']['no'].keys()"
   ]
  },
  {
   "cell_type": "code",
   "execution_count": null,
   "metadata": {
    "scrolled": true
   },
   "outputs": [],
   "source": [
    "subgraph_dict={'MZ':{'no':{}, 'ov':{}, 'ob':{}},\n",
    "           'DZ':{'no':{}, 'ov':{}, 'ob':{}},\n",
    "           'NR':{'no':{}, 'ov':{}, 'ob':{}}\n",
    "         }\n",
    "for key, value in mod_dict.items():\n",
    "    print(key)\n",
    "    for k, v in value.items():\n",
    "        print(k)\n",
    "        G=summary_dict[key][k]['graphs']\n",
    "        for q,w in v.items():\n",
    "            print(q)\n",
    "            print(w)\n",
    "#             H=nx.subgraph_view(G,filter_node=w)\n",
    "            H = G.subgraph(w).copy()\n",
    "            subgraph_dict[key][k][q]=H\n",
    "            \n",
    "    "
   ]
  },
  {
   "cell_type": "code",
   "execution_count": null,
   "metadata": {
    "scrolled": true
   },
   "outputs": [],
   "source": [
    "subgraph_dict['NR']"
   ]
  },
  {
   "cell_type": "code",
   "execution_count": null,
   "metadata": {
    "scrolled": true
   },
   "outputs": [],
   "source": [
    "subgraph_dict['NR']['no'][6].nodes(data=True)"
   ]
  },
  {
   "cell_type": "code",
   "execution_count": null,
   "metadata": {},
   "outputs": [],
   "source": [
    "def threshold(G, min_correlation):\n",
    "    ##Creates a copy of the graph\n",
    "    H = G.copy()\n",
    "    ##Checks all the edges and removes some based on corr_direction\n",
    "    for stock1, stock2, weight in list(G.edges(data=True)):\n",
    "        ##if we only want to see the positive correlations we then delete the edges with weight smaller than 0\n",
    "#         print(min_correlation)\n",
    "        if weight[\"weight\"] < min_correlation:\n",
    "            H.remove_edge(stock1, stock2)\n",
    "    return(H)"
   ]
  },
  {
   "cell_type": "code",
   "execution_count": null,
   "metadata": {},
   "outputs": [],
   "source": [
    "#subgraph_dict=an.onetoughjar(os.path.join(basepath,'tmp','7_subgraph_dict_11-20-2019_10-40-04'))\n"
   ]
  },
  {
   "cell_type": "code",
   "execution_count": null,
   "metadata": {},
   "outputs": [],
   "source": [
    "def inner_mod(graph, metric, group, tile, style):\n",
    "    e,w = zip(*nx.get_edge_attributes(graph, 'weight').items())\n",
    "    purr=np.percentile(w, tile)\n",
    "    print(purr)\n",
    "    g=an.threshold2(graph,purr)\n",
    "\n",
    "    edges,weights = zip(*nx.get_edge_attributes(g, 'weight').items())\n",
    "    weights=np.array(weights)\n",
    "    print(weights.min())\n",
    "    \n",
    "    nodes, color = zip(*nx.get_node_attributes(g, metric).items()) \n",
    "    nodes, size = zip(*nx.get_node_attributes(g, metric).items())\n",
    "    nodes, positions = zip(*nx.get_node_attributes(g,'modules').items())\n",
    "    #positions\n",
    "    if style == 'spectral':\n",
    "        positions=nx.spectral_layout(g) #this is defining a circluar graph, if you want a different one you change the circular part of this line\n",
    "    elif style == 'spring':\n",
    "        positions=nx.spring_layout(g)\n",
    "    else:\n",
    "        positions=nx.circular_layout(g)\n",
    "    #Figure size\n",
    "    plt.figure(figsize=(80,50))\n",
    "\n",
    "    #draws nodes\n",
    "    color = np.array(color)\n",
    "    colz=scipy.stats.zscore(color)\n",
    "    nColormap=plt.cm.cool #check here if you want different colors https://matplotlib.org/3.1.1/gallery/color/colormap_reference.html\n",
    "    cM=colz.max()\n",
    "    cm=colz.min()\n",
    "    \n",
    "\n",
    "    scale=15000/colz.max()\n",
    "    y=nx.draw_networkx_nodes(g,positions,\n",
    "                           node_color=colz,\n",
    "                           node_size=np.square(colz)*scale,\n",
    "                           alpha=0.8,\n",
    "                           cmap= nColormap,\n",
    "                           vmin=cm ,vmax=cM)\n",
    "\n",
    "    #Styling for labels\n",
    "    keeps=g.nodes()\n",
    "    dict_you_want = { your_key: note_dict[your_key] for your_key in keeps }\n",
    "    nx.draw_networkx_labels(g, positions, font_size=50,\n",
    "                            labels=dict_you_want,\n",
    "                            font_family='sans-serif', \n",
    "                            fontweight = 'bold')\n",
    "\n",
    "    #draw edges\n",
    "    weights=np.array(weights)\n",
    "    eColormap=plt.cm.gist_rainbow #check here if you want different colors https://matplotlib.org/3.1.1/gallery/color/colormap_reference.html\n",
    "    # scaling\n",
    "    wt=list(set(weights))\n",
    "    wt=np.array(wt)\n",
    "    wt2=-np.sort(-wt)\n",
    "    wt0=wt2[1]\n",
    "\n",
    "    escale=1/wt0\n",
    "    esza=weights*escale\n",
    "    E=list(set(esza))\n",
    "    E2=-np.sort(-np.array(E))\n",
    "    M=E2[1]\n",
    "    m=esza.min()\n",
    "\n",
    "    x=nx.draw_networkx_edges(g, positions,\n",
    "                           edge_list=edges,\n",
    "                           style='solid',\n",
    "                           width = np.square(esza)*5,\n",
    "                           edge_color = esza,\n",
    "                           edge_cmap=eColormap,\n",
    "                           edge_vmin=m,\n",
    "                           edge_vmax=M)\n",
    "\n",
    "    #format the colorbar\n",
    "    node_bar=plt.colorbar(y, label='Module value')\n",
    "\n",
    "    sm = plt.cm.ScalarMappable(cmap=eColormap, norm=plt.Normalize(vmin = m, vmax=M))\n",
    "    sm._A = []\n",
    "    edge_bar=plt.colorbar(sm)\n",
    "\n",
    "\n",
    "    for l in edge_bar.ax.yaxis.get_ticklabels():\n",
    "        l.set_size(50)\n",
    "    for l in node_bar.ax.yaxis.get_ticklabels():\n",
    "        l.set_size(50)\n",
    "        \n",
    "    node_bar.set_label('%s'%metric,fontsize = 50)\n",
    "    edge_bar.set_label('Strength of edge weight',fontsize = 50)\n",
    "\n",
    "    plt.axis('off')\n",
    "    plt.title(\"%s and edge weights of \\n average %s graph\"%(metric, group), fontsize = 100)\n",
    "    basepath='/Users/gracer/Google Drive/HCP/HCP_graph/1200/images'\n",
    "\n",
    "    plt.savefig(os.path.join(basepath,\"%s_%s_%s.png\"%(metric,style,group)), format=\"PNG\")\n",
    "    plt.show()\n"
   ]
  },
  {
   "cell_type": "code",
   "execution_count": null,
   "metadata": {},
   "outputs": [],
   "source": [
    "subgraph_dict['NR']['ov']"
   ]
  },
  {
   "cell_type": "code",
   "execution_count": null,
   "metadata": {
    "scrolled": true
   },
   "outputs": [],
   "source": [
    "inner_mod(subgraph_dict['NR']['ov'][8], 'centrality', '%s module %s'%('ov','8'), 40, 'circle')"
   ]
  },
  {
   "cell_type": "code",
   "execution_count": null,
   "metadata": {
    "scrolled": false
   },
   "outputs": [],
   "source": [
    "interest = [1,2,4,5,6,8]\n",
    "for i in interest:\n",
    "    for key, value in subgraph_dict['NR'].items():    \n",
    "        print(key)\n",
    "        inner_mod(value[i], 'centrality', '%s module %s'%(key,i), 40, 'circle')"
   ]
  },
  {
   "cell_type": "code",
   "execution_count": null,
   "metadata": {},
   "outputs": [],
   "source": [
    "#an.adillyofapickle('/Users/gracer/Google Drive/HCP_graph/1200/datasets',subgraph_dict,'7_subgraph_dict')"
   ]
  },
  {
   "cell_type": "code",
   "execution_count": null,
   "metadata": {},
   "outputs": [],
   "source": [
    "subgraph_dict['NR']['no'][0].nodes(data=True)"
   ]
  },
  {
   "cell_type": "code",
   "execution_count": null,
   "metadata": {},
   "outputs": [],
   "source": [
    "modstat_dict={'MZ':{'no':{}, 'ov':{}, 'ob':{}},\n",
    "           'DZ':{'no':{}, 'ov':{}, 'ob':{}},\n",
    "           'NR':{'no':{}, 'ov':{}, 'ob':{}}\n",
    "         }"
   ]
  },
  {
   "cell_type": "code",
   "execution_count": null,
   "metadata": {},
   "outputs": [],
   "source": [
    "for key, value in subgraph_dict.items():\n",
    "    print(key)\n",
    "    for subkey,subval in value.items():\n",
    "        print(subkey)\n",
    "        liist=list(subgraph_dict[key][subkey].keys())\n",
    "        for i in liist:\n",
    "            modstat_dict[key][subkey].update({i:[]})\n",
    "        for k,v in subval.items():\n",
    "            print(k)\n",
    "            print(subkey)\n",
    "#             print(dict(v.nodes(data=True)))\n",
    "            modstat_dict[key][subkey][k]=pd.DataFrame.from_dict(dict(subgraph_dict[key][subkey][k].nodes(data=True)), orient='index')\n",
    "            modstat_dict[key][subkey][k]['group']=subkey\n"
   ]
  },
  {
   "cell_type": "code",
   "execution_count": null,
   "metadata": {},
   "outputs": [],
   "source": [
    "list(modstat_dict['NR']['ov'].values())"
   ]
  },
  {
   "cell_type": "code",
   "execution_count": null,
   "metadata": {},
   "outputs": [],
   "source": [
    "pandas_dict={'MZ':{'no':{}, 'ov':{}, 'ob':{}},\n",
    "           'DZ':{'no':{}, 'ov':{}, 'ob':{}},\n",
    "           'NR':{'no':{}, 'ov':{}, 'ob':{}}\n",
    "         }\n",
    "for key, item in modstat_dict.items():\n",
    "    print(key)\n",
    "    for k, i in item.items():\n",
    "        print(i)\n",
    "        pandas_dict[key][k]=pd.concat(list(modstat_dict['NR'][k].values()))\n",
    "        "
   ]
  },
  {
   "cell_type": "code",
   "execution_count": null,
   "metadata": {
    "scrolled": true
   },
   "outputs": [],
   "source": [
    "pandas_dict['NR']"
   ]
  },
  {
   "cell_type": "code",
   "execution_count": null,
   "metadata": {},
   "outputs": [],
   "source": [
    "an.adillyofapickle('/Users/gracer/Google Drive/HCP_graph/1200/datasets',pandas_dict,'8_modulemetrics_dict')"
   ]
  },
  {
   "cell_type": "code",
   "execution_count": null,
   "metadata": {},
   "outputs": [],
   "source": [
    "# test=an.onetoughjar(os.path.join(basepath,'tmp','8_modulemetrics_dict_11-20-2019_10-40-13'))"
   ]
  },
  {
   "cell_type": "code",
   "execution_count": null,
   "metadata": {},
   "outputs": [],
   "source": [
    "df=pd.concat(list(pandas_dict['NR'].values()))"
   ]
  },
  {
   "cell_type": "code",
   "execution_count": null,
   "metadata": {},
   "outputs": [],
   "source": [
    "df['group'].value_counts()"
   ]
  },
  {
   "cell_type": "code",
   "execution_count": null,
   "metadata": {},
   "outputs": [],
   "source": [
    "df['group'] = df['group'].astype('category')\n",
    "df['group'].cat.reorder_categories(['no', 'ov','ob'], inplace=True)\n",
    "df['modules'] = df['modules'].astype('category')"
   ]
  },
  {
   "cell_type": "code",
   "execution_count": null,
   "metadata": {},
   "outputs": [],
   "source": [
    "# basepath = '/Users/gracer/Google Drive/HCP/HCP_graph/1200/datasets/'\n",
    "# file_dict=an.onetoughjar(os.path.join(basepath,'tmp','5_summary_dict_07-31-2020_12-26-08'))"
   ]
  },
  {
   "cell_type": "code",
   "execution_count": null,
   "metadata": {},
   "outputs": [],
   "source": [
    "pandas_dict['NR']['no'].keys()"
   ]
  },
  {
   "cell_type": "code",
   "execution_count": null,
   "metadata": {},
   "outputs": [],
   "source": [
    "def zed(dicti):\n",
    "    tmp_dict={}\n",
    "    for key, value in dicti.items():\n",
    "        print(key)\n",
    "        for k, v in value['modules'].items():\n",
    "            print(k)"
   ]
  },
  {
   "cell_type": "code",
   "execution_count": null,
   "metadata": {},
   "outputs": [],
   "source": [
    "zed(pandas_dict['NR'])"
   ]
  },
  {
   "cell_type": "code",
   "execution_count": null,
   "metadata": {},
   "outputs": [],
   "source": [
    "def zed(dicti):\n",
    "    tmp_dict={}\n",
    "    for key, item in dicti.items():\n",
    "        print(key)\n",
    "        for subkey, value in item.items():\n",
    "            print(subkey)\n",
    "            if subkey in ['modules']:\n",
    "                for x, y in value.items():\n",
    "#                     print(x)\n",
    "                    if x == 'partition':\n",
    "                        df=pd.DataFrame.from_dict(y, orient='index')\n",
    "                        df.rename({0: 'module'}, axis=1, inplace = True)\n",
    "                        df['group']=key\n",
    "                    if x == 'zdegree':\n",
    "                        df['zdegree']=y\n",
    "                        tmp_dict[key]=df\n",
    "                    else:\n",
    "                        continue\n",
    "    total_df=pd.concat(list(tmp_dict.values()))\n",
    "    return(total_df)\n",
    "\n"
   ]
  },
  {
   "cell_type": "code",
   "execution_count": null,
   "metadata": {},
   "outputs": [],
   "source": [
    "df_z=zed(pandas_dict['NR'])"
   ]
  },
  {
   "cell_type": "code",
   "execution_count": null,
   "metadata": {},
   "outputs": [],
   "source": [
    "df_z"
   ]
  },
  {
   "cell_type": "code",
   "execution_count": null,
   "metadata": {},
   "outputs": [],
   "source": [
    "df.columns"
   ]
  },
  {
   "cell_type": "code",
   "execution_count": null,
   "metadata": {},
   "outputs": [],
   "source": [
    "df_result = pd.merge(df, df_z, left_index=True, right_index=True)"
   ]
  },
  {
   "cell_type": "code",
   "execution_count": null,
   "metadata": {},
   "outputs": [],
   "source": [
    "df_result"
   ]
  },
  {
   "cell_type": "code",
   "execution_count": null,
   "metadata": {},
   "outputs": [],
   "source": [
    "df.to_csv(os.path.join(basepath, 'tmp', 'mod_data.csv'))"
   ]
  },
  {
   "cell_type": "markdown",
   "metadata": {},
   "source": [
    "## Summary\n",
    "No differences in the graph metrics between modules between groups"
   ]
  },
  {
   "cell_type": "code",
   "execution_count": null,
   "metadata": {},
   "outputs": [],
   "source": [
    "subgraph_dict['NR']['no'].keys()"
   ]
  },
  {
   "cell_type": "code",
   "execution_count": null,
   "metadata": {},
   "outputs": [],
   "source": [
    "subgraph_dict['NR']['no']"
   ]
  },
  {
   "cell_type": "code",
   "execution_count": null,
   "metadata": {
    "scrolled": true
   },
   "outputs": [],
   "source": [
    "edgestat_dict={'MZ':{'no':{}, 'ov':{}, 'ob':{}},\n",
    "           'DZ':{'no':{}, 'ov':{}, 'ob':{}},\n",
    "           'NR':{'no':{}, 'ov':{}, 'ob':{}}\n",
    "         }\n",
    "for key, value in subgraph_dict['NR'].items():\n",
    "    print(key)        \n",
    "    liist=list(subgraph_dict['NR'][key].keys())\n",
    "    for i in liist:\n",
    "        modstat_dict['NR'][key].update({i:[]})\n",
    "    for k,v in subval.items():\n",
    "        print(k)\n",
    "        print(subkey)\n",
    "        edgestat_dict['NR'][key][k]=nx.to_numpy_matrix(v)\n",
    "\n"
   ]
  },
  {
   "cell_type": "code",
   "execution_count": null,
   "metadata": {},
   "outputs": [],
   "source": [
    "edgestat_dict['NR']"
   ]
  },
  {
   "cell_type": "code",
   "execution_count": null,
   "metadata": {},
   "outputs": [],
   "source": [
    "an.adillyofapickle('/Users/gracer/Google Drive/HCP_graph/1200/datasets',edgestat_dict,'9_edgestat_dict')"
   ]
  },
  {
   "cell_type": "code",
   "execution_count": null,
   "metadata": {},
   "outputs": [],
   "source": [
    "edgestat_dict['NR']['ov']"
   ]
  },
  {
   "cell_type": "code",
   "execution_count": null,
   "metadata": {},
   "outputs": [],
   "source": [
    "edgestat_dict['NR']['no'].keys()"
   ]
  },
  {
   "cell_type": "code",
   "execution_count": null,
   "metadata": {
    "scrolled": true
   },
   "outputs": [],
   "source": [
    "for key, value in edgestat_dict['NR'].items():\n",
    "    for k,v in value.items():\n",
    "        print(\"This is the %s for the %s module\"%(key,k))\n",
    "#         print(edgestat_dict['NR'][key][k])\n",
    "        corr_mod(edgestat_dict['NR'][key][k])"
   ]
  },
  {
   "cell_type": "code",
   "execution_count": null,
   "metadata": {},
   "outputs": [],
   "source": [
    "def corrector(x, alpha):\n",
    "    sh=x.shape\n",
    "    print(sh)\n",
    "    results=x[1].ravel()\n",
    "    mask = np.isfinite(results)\n",
    "    pval_corrected = np.empty(results.shape)\n",
    "    pval_corrected.fill(np.nan)\n",
    "    pval_corrected[mask] = st.stats.multitest.multipletests(results[mask],alpha=alpha,method='fdr_bh')[1]\n",
    "    p=np.reshape(pval_corrected, sh)\n",
    "    print(np.nanmin(p))\n",
    "    ps = 1-p\n",
    "    print(np.nanmax(ps))\n",
    "    coor_fig(ps)\n",
    "    return(p)\n",
    "\n",
    "def coor_fig(df):\n",
    "    plt.figure(figsize=(40,25))\n",
    "    m=np.nanmin(df)\n",
    "    M=np.nanmax(df)\n",
    "    print('The max p value is %f'%M)\n",
    "    sns.heatmap(df, linewidth=0.5, \n",
    "                vmin=m, vmax=1, \n",
    "                cmap=sns.cubehelix_palette(10000), \n",
    "                cbar_kws={'ticks': [0.0, 0.2, 0.4, 0.5, 0.7, 0.8,0.975 ,1.0]})\n",
    "    return(plt.show())\n"
   ]
  },
  {
   "cell_type": "code",
   "execution_count": null,
   "metadata": {},
   "outputs": [],
   "source": [
    "def compar(di,mod):\n",
    "    a=di['NR']['no'][mod]\n",
    "    print(a)\n",
    "    b=di['NR']['ov'][mod]\n",
    "    c=di['NR']['ob'][mod]\n",
    "    test=spy_stats.f_oneway(a, b, c)\n",
    "    print(test[1])\n",
    "    p=corrector(test[1], 0.05)\n",
    "#     coor_fig(p)"
   ]
  },
  {
   "cell_type": "code",
   "execution_count": null,
   "metadata": {},
   "outputs": [],
   "source": [
    "di=edgestat_dict\n",
    "mod=0\n",
    "a=di['NR']['no'][mod]\n",
    "b=di['NR']['ov'][mod]\n",
    "c=di['NR']['ob'][mod]\n",
    "test=spy_stats.f_oneway(a, b, c)"
   ]
  },
  {
   "cell_type": "code",
   "execution_count": null,
   "metadata": {},
   "outputs": [],
   "source": [
    "c"
   ]
  },
  {
   "cell_type": "code",
   "execution_count": null,
   "metadata": {},
   "outputs": [],
   "source": [
    "no_ob=spy_stats.ttest_ind(a, c, nan_policy='omit')\n",
    "no_ob_results=corrector(no_ob[1], 0.025)"
   ]
  },
  {
   "cell_type": "code",
   "execution_count": null,
   "metadata": {},
   "outputs": [],
   "source": [
    "compar(edgestat_dict, 0)"
   ]
  },
  {
   "cell_type": "markdown",
   "metadata": {},
   "source": [
    "### Between no and ov & no and ob\n",
    "p=0.05/2  \n",
    "p=0.025"
   ]
  },
  {
   "cell_type": "code",
   "execution_count": null,
   "metadata": {},
   "outputs": [],
   "source": [
    "no_ov=spy_stats.ttest_ind(a, b, nan_policy='omit')\n",
    "no_ov_results=corrector(no_ov, 0.025)"
   ]
  },
  {
   "cell_type": "code",
   "execution_count": null,
   "metadata": {},
   "outputs": [],
   "source": [
    "no_ob=spy_stats.ttest_ind(a, c, nan_policy='omit')\n",
    "no_ob_results=corrector(no_ob, 0.025)"
   ]
  },
  {
   "cell_type": "code",
   "execution_count": null,
   "metadata": {},
   "outputs": [],
   "source": []
  },
  {
   "cell_type": "markdown",
   "metadata": {},
   "source": [
    "# Within module metrics"
   ]
  },
  {
   "cell_type": "markdown",
   "metadata": {},
   "source": [
    "# Edge analysis"
   ]
  },
  {
   "cell_type": "code",
   "execution_count": 75,
   "metadata": {},
   "outputs": [
    {
     "name": "stdout",
     "output_type": "stream",
     "text": [
      "/Users/gracer/Google Drive/HCP/HCP_graph/1200/datasets/tmp/9_edgestat_dict_11-20-2019_10-58-20\n"
     ]
    }
   ],
   "source": [
    "latest_file3=an.find_latest(os.path.join(basepath,'tmp'),'9_*')\n",
    "save_dict=an.onetoughjar(latest_file3)"
   ]
  },
  {
   "cell_type": "code",
   "execution_count": 80,
   "metadata": {},
   "outputs": [
    {
     "data": {
      "text/plain": [
       "matrix([[1.        , 0.53620703, 0.46850508, 0.369626  ],\n",
       "        [0.53620703, 1.        , 0.4558616 , 0.46609469],\n",
       "        [0.46850508, 0.4558616 , 1.        , 0.36166069],\n",
       "        [0.369626  , 0.46609469, 0.36166069, 1.        ]])"
      ]
     },
     "execution_count": 80,
     "metadata": {},
     "output_type": "execute_result"
    }
   ],
   "source": [
    "save_dict['NR']['no'][0]"
   ]
  },
  {
   "cell_type": "code",
   "execution_count": 81,
   "metadata": {},
   "outputs": [
    {
     "name": "stdout",
     "output_type": "stream",
     "text": [
      "0\n",
      "1\n",
      "2\n",
      "3\n",
      "4\n",
      "5\n",
      "6\n",
      "7\n",
      "8\n",
      "0\n",
      "1\n",
      "2\n",
      "3\n",
      "4\n",
      "5\n",
      "6\n",
      "7\n",
      "8\n",
      "0\n",
      "1\n",
      "2\n",
      "3\n",
      "4\n",
      "5\n",
      "6\n",
      "7\n",
      "8\n"
     ]
    }
   ],
   "source": [
    "for key, item in save_dict['NR'].items():\n",
    "    for subkey, value in item.items():\n",
    "        print(subkey)\n",
    "        if subkey in ['mean_FC']:\n",
    "            tmp=pd.DataFrame.from_dict(value, orient='index')\n",
    "            tmp['group'] = '%s'%key\n",
    "            tmp.to_csv(os.path.join(basepath,'tmp','%s_%s_data_per_sub.csv'%(key,subkey)), sep=',')\n"
   ]
  },
  {
   "cell_type": "markdown",
   "metadata": {},
   "source": [
    "# Looking at modules 8/7/2020"
   ]
  },
  {
   "cell_type": "code",
   "execution_count": 2,
   "metadata": {},
   "outputs": [
    {
     "name": "stdout",
     "output_type": "stream",
     "text": [
      "/Users/gracer/Google Drive/HCP/HCP_graph/1200/datasets/tmp/6_submod_dict_08-03-2020_02-57-12\n"
     ]
    }
   ],
   "source": [
    "basepath='/Users/gracer/Google Drive/HCP/HCP_graph/1200/datasets/'\n",
    "latest_file=an.find_latest(os.path.join(basepath,'tmp'),'6_*')\n",
    "submod_dict=an.onetoughjar(latest_file)\n"
   ]
  },
  {
   "cell_type": "code",
   "execution_count": 83,
   "metadata": {},
   "outputs": [
    {
     "data": {
      "text/plain": [
       "dict_keys([0, 1, 2, 3, 4, 5, 6, 7, 8])"
      ]
     },
     "execution_count": 83,
     "metadata": {},
     "output_type": "execute_result"
    }
   ],
   "source": [
    "submod_dict['no'].keys()"
   ]
  },
  {
   "cell_type": "code",
   "execution_count": 87,
   "metadata": {},
   "outputs": [
    {
     "name": "stdout",
     "output_type": "stream",
     "text": [
      "no\n",
      "0\n",
      "1\n",
      "2\n",
      "3\n",
      "4\n",
      "5\n",
      "6\n",
      "7\n",
      "8\n",
      "ov\n",
      "0\n",
      "1\n",
      "2\n",
      "3\n",
      "4\n",
      "5\n",
      "6\n",
      "7\n",
      "ob\n",
      "0\n",
      "1\n",
      "2\n",
      "3\n",
      "4\n",
      "5\n",
      "6\n",
      "7\n",
      "8\n"
     ]
    }
   ],
   "source": [
    "z={}\n",
    "for group, dat in submod_dict.items():\n",
    "    print(group)\n",
    "    z[group]={}\n",
    "    for module, data in dat.items():\n",
    "        print(module)\n",
    "        z[group][module]=data.join(labels)\n",
    "no=pd.concat(list(z['no'].values()))\n",
    "ov=pd.concat(list(z['ov'].values()))\n",
    "ob=pd.concat(list(z['ob'].values()))\n",
    "total=pd.concat([no,ov,ob])"
   ]
  },
  {
   "cell_type": "code",
   "execution_count": 100,
   "metadata": {},
   "outputs": [
    {
     "data": {
      "text/html": [
       "<div>\n",
       "<style scoped>\n",
       "    .dataframe tbody tr th:only-of-type {\n",
       "        vertical-align: middle;\n",
       "    }\n",
       "\n",
       "    .dataframe tbody tr th {\n",
       "        vertical-align: top;\n",
       "    }\n",
       "\n",
       "    .dataframe thead tr th {\n",
       "        text-align: left;\n",
       "    }\n",
       "\n",
       "    .dataframe thead tr:last-of-type th {\n",
       "        text-align: right;\n",
       "    }\n",
       "</style>\n",
       "<table border=\"1\" class=\"dataframe\">\n",
       "  <thead>\n",
       "    <tr>\n",
       "      <th></th>\n",
       "      <th></th>\n",
       "      <th colspan=\"8\" halign=\"left\">zDegree</th>\n",
       "    </tr>\n",
       "    <tr>\n",
       "      <th></th>\n",
       "      <th></th>\n",
       "      <th>count</th>\n",
       "      <th>mean</th>\n",
       "      <th>std</th>\n",
       "      <th>min</th>\n",
       "      <th>25%</th>\n",
       "      <th>50%</th>\n",
       "      <th>75%</th>\n",
       "      <th>max</th>\n",
       "    </tr>\n",
       "    <tr>\n",
       "      <th>area</th>\n",
       "      <th>group</th>\n",
       "      <th></th>\n",
       "      <th></th>\n",
       "      <th></th>\n",
       "      <th></th>\n",
       "      <th></th>\n",
       "      <th></th>\n",
       "      <th></th>\n",
       "      <th></th>\n",
       "    </tr>\n",
       "  </thead>\n",
       "  <tbody>\n",
       "    <tr>\n",
       "      <th rowspan=\"3\" valign=\"top\">Amygdala</th>\n",
       "      <th>normal</th>\n",
       "      <td>1.0</td>\n",
       "      <td>-1.336331</td>\n",
       "      <td>NaN</td>\n",
       "      <td>-1.336331</td>\n",
       "      <td>-1.336331</td>\n",
       "      <td>-1.336331</td>\n",
       "      <td>-1.336331</td>\n",
       "      <td>-1.336331</td>\n",
       "    </tr>\n",
       "    <tr>\n",
       "      <th>obese</th>\n",
       "      <td>1.0</td>\n",
       "      <td>-0.419779</td>\n",
       "      <td>NaN</td>\n",
       "      <td>-0.419779</td>\n",
       "      <td>-0.419779</td>\n",
       "      <td>-0.419779</td>\n",
       "      <td>-0.419779</td>\n",
       "      <td>-0.419779</td>\n",
       "    </tr>\n",
       "    <tr>\n",
       "      <th>overweight</th>\n",
       "      <td>1.0</td>\n",
       "      <td>-0.833934</td>\n",
       "      <td>NaN</td>\n",
       "      <td>-0.833934</td>\n",
       "      <td>-0.833934</td>\n",
       "      <td>-0.833934</td>\n",
       "      <td>-0.833934</td>\n",
       "      <td>-0.833934</td>\n",
       "    </tr>\n",
       "    <tr>\n",
       "      <th rowspan=\"3\" valign=\"top\">Auditory</th>\n",
       "      <th>normal</th>\n",
       "      <td>1.0</td>\n",
       "      <td>-1.336331</td>\n",
       "      <td>NaN</td>\n",
       "      <td>-1.336331</td>\n",
       "      <td>-1.336331</td>\n",
       "      <td>-1.336331</td>\n",
       "      <td>-1.336331</td>\n",
       "      <td>-1.336331</td>\n",
       "    </tr>\n",
       "    <tr>\n",
       "      <th>obese</th>\n",
       "      <td>1.0</td>\n",
       "      <td>-2.021285</td>\n",
       "      <td>NaN</td>\n",
       "      <td>-2.021285</td>\n",
       "      <td>-2.021285</td>\n",
       "      <td>-2.021285</td>\n",
       "      <td>-2.021285</td>\n",
       "      <td>-2.021285</td>\n",
       "    </tr>\n",
       "    <tr>\n",
       "      <th>overweight</th>\n",
       "      <td>1.0</td>\n",
       "      <td>-1.837210</td>\n",
       "      <td>NaN</td>\n",
       "      <td>-1.837210</td>\n",
       "      <td>-1.837210</td>\n",
       "      <td>-1.837210</td>\n",
       "      <td>-1.837210</td>\n",
       "      <td>-1.837210</td>\n",
       "    </tr>\n",
       "    <tr>\n",
       "      <th rowspan=\"3\" valign=\"top\">BrainStem</th>\n",
       "      <th>normal</th>\n",
       "      <td>8.0</td>\n",
       "      <td>0.153557</td>\n",
       "      <td>8.606943e-01</td>\n",
       "      <td>-0.567951</td>\n",
       "      <td>-0.567951</td>\n",
       "      <td>-0.283975</td>\n",
       "      <td>1.166752</td>\n",
       "      <td>1.166752</td>\n",
       "    </tr>\n",
       "    <tr>\n",
       "      <th>obese</th>\n",
       "      <td>8.0</td>\n",
       "      <td>0.522112</td>\n",
       "      <td>1.936577e+00</td>\n",
       "      <td>-2.833991</td>\n",
       "      <td>-0.505321</td>\n",
       "      <td>1.806434</td>\n",
       "      <td>1.806434</td>\n",
       "      <td>1.806434</td>\n",
       "    </tr>\n",
       "    <tr>\n",
       "      <th>overweight</th>\n",
       "      <td>8.0</td>\n",
       "      <td>-0.105102</td>\n",
       "      <td>1.145437e+00</td>\n",
       "      <td>-1.837210</td>\n",
       "      <td>-0.642928</td>\n",
       "      <td>-0.642928</td>\n",
       "      <td>1.189368</td>\n",
       "      <td>1.189368</td>\n",
       "    </tr>\n",
       "    <tr>\n",
       "      <th rowspan=\"3\" valign=\"top\">Caudate</th>\n",
       "      <th>normal</th>\n",
       "      <td>2.0</td>\n",
       "      <td>-1.501742</td>\n",
       "      <td>0.000000e+00</td>\n",
       "      <td>-1.501742</td>\n",
       "      <td>-1.501742</td>\n",
       "      <td>-1.501742</td>\n",
       "      <td>-1.501742</td>\n",
       "      <td>-1.501742</td>\n",
       "    </tr>\n",
       "    <tr>\n",
       "      <th>obese</th>\n",
       "      <td>2.0</td>\n",
       "      <td>-1.638017</td>\n",
       "      <td>0.000000e+00</td>\n",
       "      <td>-1.638017</td>\n",
       "      <td>-1.638017</td>\n",
       "      <td>-1.638017</td>\n",
       "      <td>-1.638017</td>\n",
       "      <td>-1.638017</td>\n",
       "    </tr>\n",
       "    <tr>\n",
       "      <th>overweight</th>\n",
       "      <td>2.0</td>\n",
       "      <td>-1.516495</td>\n",
       "      <td>0.000000e+00</td>\n",
       "      <td>-1.516495</td>\n",
       "      <td>-1.516495</td>\n",
       "      <td>-1.516495</td>\n",
       "      <td>-1.516495</td>\n",
       "      <td>-1.516495</td>\n",
       "    </tr>\n",
       "    <tr>\n",
       "      <th rowspan=\"3\" valign=\"top\">Cerebellum</th>\n",
       "      <th>normal</th>\n",
       "      <td>32.0</td>\n",
       "      <td>0.636108</td>\n",
       "      <td>1.634343e+00</td>\n",
       "      <td>-1.219002</td>\n",
       "      <td>-1.022928</td>\n",
       "      <td>2.146098</td>\n",
       "      <td>2.146098</td>\n",
       "      <td>2.146098</td>\n",
       "    </tr>\n",
       "    <tr>\n",
       "      <th>obese</th>\n",
       "      <td>32.0</td>\n",
       "      <td>-1.952696</td>\n",
       "      <td>9.642978e-01</td>\n",
       "      <td>-2.833991</td>\n",
       "      <td>-2.833991</td>\n",
       "      <td>-2.833991</td>\n",
       "      <td>-1.036066</td>\n",
       "      <td>-0.419779</td>\n",
       "    </tr>\n",
       "    <tr>\n",
       "      <th>overweight</th>\n",
       "      <td>32.0</td>\n",
       "      <td>0.749396</td>\n",
       "      <td>1.544974e+00</td>\n",
       "      <td>-1.837210</td>\n",
       "      <td>-0.833934</td>\n",
       "      <td>2.166712</td>\n",
       "      <td>2.166712</td>\n",
       "      <td>2.166712</td>\n",
       "    </tr>\n",
       "    <tr>\n",
       "      <th rowspan=\"3\" valign=\"top\">CinguloOperc</th>\n",
       "      <th>normal</th>\n",
       "      <td>3.0</td>\n",
       "      <td>-1.219002</td>\n",
       "      <td>0.000000e+00</td>\n",
       "      <td>-1.219002</td>\n",
       "      <td>-1.219002</td>\n",
       "      <td>-1.219002</td>\n",
       "      <td>-1.219002</td>\n",
       "      <td>-1.219002</td>\n",
       "    </tr>\n",
       "    <tr>\n",
       "      <th>obese</th>\n",
       "      <td>3.0</td>\n",
       "      <td>-2.563089</td>\n",
       "      <td>4.692160e-01</td>\n",
       "      <td>-2.833991</td>\n",
       "      <td>-2.833991</td>\n",
       "      <td>-2.833991</td>\n",
       "      <td>-2.427638</td>\n",
       "      <td>-2.021285</td>\n",
       "    </tr>\n",
       "    <tr>\n",
       "      <th>overweight</th>\n",
       "      <td>3.0</td>\n",
       "      <td>-1.021945</td>\n",
       "      <td>7.060402e-01</td>\n",
       "      <td>-1.837210</td>\n",
       "      <td>-1.225761</td>\n",
       "      <td>-0.614313</td>\n",
       "      <td>-0.614313</td>\n",
       "      <td>-0.614313</td>\n",
       "    </tr>\n",
       "    <tr>\n",
       "      <th rowspan=\"3\" valign=\"top\">Default</th>\n",
       "      <th>normal</th>\n",
       "      <td>7.0</td>\n",
       "      <td>-1.022928</td>\n",
       "      <td>0.000000e+00</td>\n",
       "      <td>-1.022928</td>\n",
       "      <td>-1.022928</td>\n",
       "      <td>-1.022928</td>\n",
       "      <td>-1.022928</td>\n",
       "      <td>-1.022928</td>\n",
       "    </tr>\n",
       "    <tr>\n",
       "      <th>obese</th>\n",
       "      <td>7.0</td>\n",
       "      <td>-0.771943</td>\n",
       "      <td>3.294197e-01</td>\n",
       "      <td>-1.036066</td>\n",
       "      <td>-1.036066</td>\n",
       "      <td>-1.036066</td>\n",
       "      <td>-0.419779</td>\n",
       "      <td>-0.419779</td>\n",
       "    </tr>\n",
       "    <tr>\n",
       "      <th>overweight</th>\n",
       "      <td>7.0</td>\n",
       "      <td>-0.833934</td>\n",
       "      <td>2.398356e-16</td>\n",
       "      <td>-0.833934</td>\n",
       "      <td>-0.833934</td>\n",
       "      <td>-0.833934</td>\n",
       "      <td>-0.833934</td>\n",
       "      <td>-0.833934</td>\n",
       "    </tr>\n",
       "    <tr>\n",
       "      <th rowspan=\"3\" valign=\"top\">DorsalAttn</th>\n",
       "      <th>normal</th>\n",
       "      <td>4.0</td>\n",
       "      <td>-1.169984</td>\n",
       "      <td>9.803693e-02</td>\n",
       "      <td>-1.219002</td>\n",
       "      <td>-1.219002</td>\n",
       "      <td>-1.219002</td>\n",
       "      <td>-1.169984</td>\n",
       "      <td>-1.022928</td>\n",
       "    </tr>\n",
       "    <tr>\n",
       "      <th>obese</th>\n",
       "      <td>4.0</td>\n",
       "      <td>-1.880757</td>\n",
       "      <td>9.076758e-01</td>\n",
       "      <td>-2.833991</td>\n",
       "      <td>-2.224462</td>\n",
       "      <td>-2.021285</td>\n",
       "      <td>-1.677580</td>\n",
       "      <td>-0.646466</td>\n",
       "    </tr>\n",
       "    <tr>\n",
       "      <th>overweight</th>\n",
       "      <td>4.0</td>\n",
       "      <td>-1.225761</td>\n",
       "      <td>7.060402e-01</td>\n",
       "      <td>-1.837210</td>\n",
       "      <td>-1.837210</td>\n",
       "      <td>-1.225761</td>\n",
       "      <td>-0.614313</td>\n",
       "      <td>-0.614313</td>\n",
       "    </tr>\n",
       "    <tr>\n",
       "      <th rowspan=\"3\" valign=\"top\">FrontoParietal</th>\n",
       "      <th>normal</th>\n",
       "      <td>6.0</td>\n",
       "      <td>-1.022928</td>\n",
       "      <td>0.000000e+00</td>\n",
       "      <td>-1.022928</td>\n",
       "      <td>-1.022928</td>\n",
       "      <td>-1.022928</td>\n",
       "      <td>-1.022928</td>\n",
       "      <td>-1.022928</td>\n",
       "    </tr>\n",
       "    <tr>\n",
       "      <th>obese</th>\n",
       "      <td>6.0</td>\n",
       "      <td>-0.711399</td>\n",
       "      <td>1.590537e-01</td>\n",
       "      <td>-1.036066</td>\n",
       "      <td>-0.646466</td>\n",
       "      <td>-0.646466</td>\n",
       "      <td>-0.646466</td>\n",
       "      <td>-0.646466</td>\n",
       "    </tr>\n",
       "    <tr>\n",
       "      <th>overweight</th>\n",
       "      <td>6.0</td>\n",
       "      <td>-0.724124</td>\n",
       "      <td>1.202919e-01</td>\n",
       "      <td>-0.833934</td>\n",
       "      <td>-0.833934</td>\n",
       "      <td>-0.724124</td>\n",
       "      <td>-0.614313</td>\n",
       "      <td>-0.614313</td>\n",
       "    </tr>\n",
       "    <tr>\n",
       "      <th rowspan=\"3\" valign=\"top\">MedialParietal</th>\n",
       "      <th>normal</th>\n",
       "      <td>1.0</td>\n",
       "      <td>-1.022928</td>\n",
       "      <td>NaN</td>\n",
       "      <td>-1.022928</td>\n",
       "      <td>-1.022928</td>\n",
       "      <td>-1.022928</td>\n",
       "      <td>-1.022928</td>\n",
       "      <td>-1.022928</td>\n",
       "    </tr>\n",
       "    <tr>\n",
       "      <th>obese</th>\n",
       "      <td>1.0</td>\n",
       "      <td>-0.419779</td>\n",
       "      <td>NaN</td>\n",
       "      <td>-0.419779</td>\n",
       "      <td>-0.419779</td>\n",
       "      <td>-0.419779</td>\n",
       "      <td>-0.419779</td>\n",
       "      <td>-0.419779</td>\n",
       "    </tr>\n",
       "    <tr>\n",
       "      <th>overweight</th>\n",
       "      <td>1.0</td>\n",
       "      <td>-0.833934</td>\n",
       "      <td>NaN</td>\n",
       "      <td>-0.833934</td>\n",
       "      <td>-0.833934</td>\n",
       "      <td>-0.833934</td>\n",
       "      <td>-0.833934</td>\n",
       "      <td>-0.833934</td>\n",
       "    </tr>\n",
       "    <tr>\n",
       "      <th rowspan=\"3\" valign=\"top\">None</th>\n",
       "      <th>normal</th>\n",
       "      <td>1.0</td>\n",
       "      <td>-1.336331</td>\n",
       "      <td>NaN</td>\n",
       "      <td>-1.336331</td>\n",
       "      <td>-1.336331</td>\n",
       "      <td>-1.336331</td>\n",
       "      <td>-1.336331</td>\n",
       "      <td>-1.336331</td>\n",
       "    </tr>\n",
       "    <tr>\n",
       "      <th>obese</th>\n",
       "      <td>1.0</td>\n",
       "      <td>-0.419779</td>\n",
       "      <td>NaN</td>\n",
       "      <td>-0.419779</td>\n",
       "      <td>-0.419779</td>\n",
       "      <td>-0.419779</td>\n",
       "      <td>-0.419779</td>\n",
       "      <td>-0.419779</td>\n",
       "    </tr>\n",
       "    <tr>\n",
       "      <th>overweight</th>\n",
       "      <td>1.0</td>\n",
       "      <td>-0.833934</td>\n",
       "      <td>NaN</td>\n",
       "      <td>-0.833934</td>\n",
       "      <td>-0.833934</td>\n",
       "      <td>-0.833934</td>\n",
       "      <td>-0.833934</td>\n",
       "      <td>-0.833934</td>\n",
       "    </tr>\n",
       "    <tr>\n",
       "      <th rowspan=\"3\" valign=\"top\">Putamen</th>\n",
       "      <th>normal</th>\n",
       "      <td>3.0</td>\n",
       "      <td>-1.501742</td>\n",
       "      <td>0.000000e+00</td>\n",
       "      <td>-1.501742</td>\n",
       "      <td>-1.501742</td>\n",
       "      <td>-1.501742</td>\n",
       "      <td>-1.501742</td>\n",
       "      <td>-1.501742</td>\n",
       "    </tr>\n",
       "    <tr>\n",
       "      <th>obese</th>\n",
       "      <td>3.0</td>\n",
       "      <td>-1.638017</td>\n",
       "      <td>2.719480e-16</td>\n",
       "      <td>-1.638017</td>\n",
       "      <td>-1.638017</td>\n",
       "      <td>-1.638017</td>\n",
       "      <td>-1.638017</td>\n",
       "      <td>-1.638017</td>\n",
       "    </tr>\n",
       "    <tr>\n",
       "      <th>overweight</th>\n",
       "      <td>3.0</td>\n",
       "      <td>-1.516495</td>\n",
       "      <td>0.000000e+00</td>\n",
       "      <td>-1.516495</td>\n",
       "      <td>-1.516495</td>\n",
       "      <td>-1.516495</td>\n",
       "      <td>-1.516495</td>\n",
       "      <td>-1.516495</td>\n",
       "    </tr>\n",
       "    <tr>\n",
       "      <th rowspan=\"3\" valign=\"top\">Smhand</th>\n",
       "      <th>normal</th>\n",
       "      <td>4.0</td>\n",
       "      <td>-1.277666</td>\n",
       "      <td>6.773950e-02</td>\n",
       "      <td>-1.336331</td>\n",
       "      <td>-1.336331</td>\n",
       "      <td>-1.277666</td>\n",
       "      <td>-1.219002</td>\n",
       "      <td>-1.219002</td>\n",
       "    </tr>\n",
       "    <tr>\n",
       "      <th>obese</th>\n",
       "      <td>4.0</td>\n",
       "      <td>-2.021285</td>\n",
       "      <td>0.000000e+00</td>\n",
       "      <td>-2.021285</td>\n",
       "      <td>-2.021285</td>\n",
       "      <td>-2.021285</td>\n",
       "      <td>-2.021285</td>\n",
       "      <td>-2.021285</td>\n",
       "    </tr>\n",
       "    <tr>\n",
       "      <th>overweight</th>\n",
       "      <td>4.0</td>\n",
       "      <td>-1.837210</td>\n",
       "      <td>0.000000e+00</td>\n",
       "      <td>-1.837210</td>\n",
       "      <td>-1.837210</td>\n",
       "      <td>-1.837210</td>\n",
       "      <td>-1.837210</td>\n",
       "      <td>-1.837210</td>\n",
       "    </tr>\n",
       "    <tr>\n",
       "      <th rowspan=\"3\" valign=\"top\">Smmouth</th>\n",
       "      <th>normal</th>\n",
       "      <td>2.0</td>\n",
       "      <td>-1.336331</td>\n",
       "      <td>0.000000e+00</td>\n",
       "      <td>-1.336331</td>\n",
       "      <td>-1.336331</td>\n",
       "      <td>-1.336331</td>\n",
       "      <td>-1.336331</td>\n",
       "      <td>-1.336331</td>\n",
       "    </tr>\n",
       "    <tr>\n",
       "      <th>obese</th>\n",
       "      <td>2.0</td>\n",
       "      <td>-2.021285</td>\n",
       "      <td>0.000000e+00</td>\n",
       "      <td>-2.021285</td>\n",
       "      <td>-2.021285</td>\n",
       "      <td>-2.021285</td>\n",
       "      <td>-2.021285</td>\n",
       "      <td>-2.021285</td>\n",
       "    </tr>\n",
       "    <tr>\n",
       "      <th>overweight</th>\n",
       "      <td>2.0</td>\n",
       "      <td>-1.837210</td>\n",
       "      <td>0.000000e+00</td>\n",
       "      <td>-1.837210</td>\n",
       "      <td>-1.837210</td>\n",
       "      <td>-1.837210</td>\n",
       "      <td>-1.837210</td>\n",
       "      <td>-1.837210</td>\n",
       "    </tr>\n",
       "    <tr>\n",
       "      <th rowspan=\"3\" valign=\"top\">Thalamus</th>\n",
       "      <th>normal</th>\n",
       "      <td>4.0</td>\n",
       "      <td>-1.084954</td>\n",
       "      <td>7.274933e-01</td>\n",
       "      <td>-1.501742</td>\n",
       "      <td>-1.501742</td>\n",
       "      <td>-1.419036</td>\n",
       "      <td>-1.002248</td>\n",
       "      <td>0.000000</td>\n",
       "    </tr>\n",
       "    <tr>\n",
       "      <th>obese</th>\n",
       "      <td>4.0</td>\n",
       "      <td>-1.829651</td>\n",
       "      <td>2.212799e-01</td>\n",
       "      <td>-2.021285</td>\n",
       "      <td>-2.021285</td>\n",
       "      <td>-1.829651</td>\n",
       "      <td>-1.638017</td>\n",
       "      <td>-1.638017</td>\n",
       "    </tr>\n",
       "    <tr>\n",
       "      <th>overweight</th>\n",
       "      <td>4.0</td>\n",
       "      <td>-1.676853</td>\n",
       "      <td>1.851647e-01</td>\n",
       "      <td>-1.837210</td>\n",
       "      <td>-1.837210</td>\n",
       "      <td>-1.676853</td>\n",
       "      <td>-1.516495</td>\n",
       "      <td>-1.516495</td>\n",
       "    </tr>\n",
       "    <tr>\n",
       "      <th rowspan=\"3\" valign=\"top\">VentralAttn</th>\n",
       "      <th>normal</th>\n",
       "      <td>2.0</td>\n",
       "      <td>-1.277666</td>\n",
       "      <td>8.296360e-02</td>\n",
       "      <td>-1.336331</td>\n",
       "      <td>-1.306998</td>\n",
       "      <td>-1.277666</td>\n",
       "      <td>-1.248334</td>\n",
       "      <td>-1.219002</td>\n",
       "    </tr>\n",
       "    <tr>\n",
       "      <th>obese</th>\n",
       "      <td>2.0</td>\n",
       "      <td>-1.740228</td>\n",
       "      <td>1.546814e+00</td>\n",
       "      <td>-2.833991</td>\n",
       "      <td>-2.287110</td>\n",
       "      <td>-1.740228</td>\n",
       "      <td>-1.193347</td>\n",
       "      <td>-0.646466</td>\n",
       "    </tr>\n",
       "    <tr>\n",
       "      <th>overweight</th>\n",
       "      <td>2.0</td>\n",
       "      <td>-0.724124</td>\n",
       "      <td>1.552962e-01</td>\n",
       "      <td>-0.833934</td>\n",
       "      <td>-0.779029</td>\n",
       "      <td>-0.724124</td>\n",
       "      <td>-0.669218</td>\n",
       "      <td>-0.614313</td>\n",
       "    </tr>\n",
       "    <tr>\n",
       "      <th rowspan=\"3\" valign=\"top\">VentralDiencephalon</th>\n",
       "      <th>normal</th>\n",
       "      <td>2.0</td>\n",
       "      <td>-1.501742</td>\n",
       "      <td>0.000000e+00</td>\n",
       "      <td>-1.501742</td>\n",
       "      <td>-1.501742</td>\n",
       "      <td>-1.501742</td>\n",
       "      <td>-1.501742</td>\n",
       "      <td>-1.501742</td>\n",
       "    </tr>\n",
       "    <tr>\n",
       "      <th>obese</th>\n",
       "      <td>2.0</td>\n",
       "      <td>1.806434</td>\n",
       "      <td>0.000000e+00</td>\n",
       "      <td>1.806434</td>\n",
       "      <td>1.806434</td>\n",
       "      <td>1.806434</td>\n",
       "      <td>1.806434</td>\n",
       "      <td>1.806434</td>\n",
       "    </tr>\n",
       "    <tr>\n",
       "      <th>overweight</th>\n",
       "      <td>2.0</td>\n",
       "      <td>-1.516495</td>\n",
       "      <td>0.000000e+00</td>\n",
       "      <td>-1.516495</td>\n",
       "      <td>-1.516495</td>\n",
       "      <td>-1.516495</td>\n",
       "      <td>-1.516495</td>\n",
       "      <td>-1.516495</td>\n",
       "    </tr>\n",
       "    <tr>\n",
       "      <th rowspan=\"3\" valign=\"top\">Visual</th>\n",
       "      <th>normal</th>\n",
       "      <td>15.0</td>\n",
       "      <td>-1.071816</td>\n",
       "      <td>4.540438e-01</td>\n",
       "      <td>-1.336331</td>\n",
       "      <td>-1.336331</td>\n",
       "      <td>-1.336331</td>\n",
       "      <td>-0.840366</td>\n",
       "      <td>-0.344401</td>\n",
       "    </tr>\n",
       "    <tr>\n",
       "      <th>obese</th>\n",
       "      <td>15.0</td>\n",
       "      <td>-1.599926</td>\n",
       "      <td>7.232695e-01</td>\n",
       "      <td>-2.021285</td>\n",
       "      <td>-2.021285</td>\n",
       "      <td>-2.021285</td>\n",
       "      <td>-1.231237</td>\n",
       "      <td>-0.441189</td>\n",
       "    </tr>\n",
       "    <tr>\n",
       "      <th>overweight</th>\n",
       "      <td>15.0</td>\n",
       "      <td>-1.426233</td>\n",
       "      <td>7.054480e-01</td>\n",
       "      <td>-1.837210</td>\n",
       "      <td>-1.837210</td>\n",
       "      <td>-1.837210</td>\n",
       "      <td>-1.066629</td>\n",
       "      <td>-0.296048</td>\n",
       "    </tr>\n",
       "  </tbody>\n",
       "</table>\n",
       "</div>"
      ],
      "text/plain": [
       "                               zDegree                                    \\\n",
       "                                 count      mean           std       min   \n",
       "area                group                                                  \n",
       "Amygdala            normal         1.0 -1.336331           NaN -1.336331   \n",
       "                    obese          1.0 -0.419779           NaN -0.419779   \n",
       "                    overweight     1.0 -0.833934           NaN -0.833934   \n",
       "Auditory            normal         1.0 -1.336331           NaN -1.336331   \n",
       "                    obese          1.0 -2.021285           NaN -2.021285   \n",
       "                    overweight     1.0 -1.837210           NaN -1.837210   \n",
       "BrainStem           normal         8.0  0.153557  8.606943e-01 -0.567951   \n",
       "                    obese          8.0  0.522112  1.936577e+00 -2.833991   \n",
       "                    overweight     8.0 -0.105102  1.145437e+00 -1.837210   \n",
       "Caudate             normal         2.0 -1.501742  0.000000e+00 -1.501742   \n",
       "                    obese          2.0 -1.638017  0.000000e+00 -1.638017   \n",
       "                    overweight     2.0 -1.516495  0.000000e+00 -1.516495   \n",
       "Cerebellum          normal        32.0  0.636108  1.634343e+00 -1.219002   \n",
       "                    obese         32.0 -1.952696  9.642978e-01 -2.833991   \n",
       "                    overweight    32.0  0.749396  1.544974e+00 -1.837210   \n",
       "CinguloOperc        normal         3.0 -1.219002  0.000000e+00 -1.219002   \n",
       "                    obese          3.0 -2.563089  4.692160e-01 -2.833991   \n",
       "                    overweight     3.0 -1.021945  7.060402e-01 -1.837210   \n",
       "Default             normal         7.0 -1.022928  0.000000e+00 -1.022928   \n",
       "                    obese          7.0 -0.771943  3.294197e-01 -1.036066   \n",
       "                    overweight     7.0 -0.833934  2.398356e-16 -0.833934   \n",
       "DorsalAttn          normal         4.0 -1.169984  9.803693e-02 -1.219002   \n",
       "                    obese          4.0 -1.880757  9.076758e-01 -2.833991   \n",
       "                    overweight     4.0 -1.225761  7.060402e-01 -1.837210   \n",
       "FrontoParietal      normal         6.0 -1.022928  0.000000e+00 -1.022928   \n",
       "                    obese          6.0 -0.711399  1.590537e-01 -1.036066   \n",
       "                    overweight     6.0 -0.724124  1.202919e-01 -0.833934   \n",
       "MedialParietal      normal         1.0 -1.022928           NaN -1.022928   \n",
       "                    obese          1.0 -0.419779           NaN -0.419779   \n",
       "                    overweight     1.0 -0.833934           NaN -0.833934   \n",
       "None                normal         1.0 -1.336331           NaN -1.336331   \n",
       "                    obese          1.0 -0.419779           NaN -0.419779   \n",
       "                    overweight     1.0 -0.833934           NaN -0.833934   \n",
       "Putamen             normal         3.0 -1.501742  0.000000e+00 -1.501742   \n",
       "                    obese          3.0 -1.638017  2.719480e-16 -1.638017   \n",
       "                    overweight     3.0 -1.516495  0.000000e+00 -1.516495   \n",
       "Smhand              normal         4.0 -1.277666  6.773950e-02 -1.336331   \n",
       "                    obese          4.0 -2.021285  0.000000e+00 -2.021285   \n",
       "                    overweight     4.0 -1.837210  0.000000e+00 -1.837210   \n",
       "Smmouth             normal         2.0 -1.336331  0.000000e+00 -1.336331   \n",
       "                    obese          2.0 -2.021285  0.000000e+00 -2.021285   \n",
       "                    overweight     2.0 -1.837210  0.000000e+00 -1.837210   \n",
       "Thalamus            normal         4.0 -1.084954  7.274933e-01 -1.501742   \n",
       "                    obese          4.0 -1.829651  2.212799e-01 -2.021285   \n",
       "                    overweight     4.0 -1.676853  1.851647e-01 -1.837210   \n",
       "VentralAttn         normal         2.0 -1.277666  8.296360e-02 -1.336331   \n",
       "                    obese          2.0 -1.740228  1.546814e+00 -2.833991   \n",
       "                    overweight     2.0 -0.724124  1.552962e-01 -0.833934   \n",
       "VentralDiencephalon normal         2.0 -1.501742  0.000000e+00 -1.501742   \n",
       "                    obese          2.0  1.806434  0.000000e+00  1.806434   \n",
       "                    overweight     2.0 -1.516495  0.000000e+00 -1.516495   \n",
       "Visual              normal        15.0 -1.071816  4.540438e-01 -1.336331   \n",
       "                    obese         15.0 -1.599926  7.232695e-01 -2.021285   \n",
       "                    overweight    15.0 -1.426233  7.054480e-01 -1.837210   \n",
       "\n",
       "                                                                        \n",
       "                                     25%       50%       75%       max  \n",
       "area                group                                               \n",
       "Amygdala            normal     -1.336331 -1.336331 -1.336331 -1.336331  \n",
       "                    obese      -0.419779 -0.419779 -0.419779 -0.419779  \n",
       "                    overweight -0.833934 -0.833934 -0.833934 -0.833934  \n",
       "Auditory            normal     -1.336331 -1.336331 -1.336331 -1.336331  \n",
       "                    obese      -2.021285 -2.021285 -2.021285 -2.021285  \n",
       "                    overweight -1.837210 -1.837210 -1.837210 -1.837210  \n",
       "BrainStem           normal     -0.567951 -0.283975  1.166752  1.166752  \n",
       "                    obese      -0.505321  1.806434  1.806434  1.806434  \n",
       "                    overweight -0.642928 -0.642928  1.189368  1.189368  \n",
       "Caudate             normal     -1.501742 -1.501742 -1.501742 -1.501742  \n",
       "                    obese      -1.638017 -1.638017 -1.638017 -1.638017  \n",
       "                    overweight -1.516495 -1.516495 -1.516495 -1.516495  \n",
       "Cerebellum          normal     -1.022928  2.146098  2.146098  2.146098  \n",
       "                    obese      -2.833991 -2.833991 -1.036066 -0.419779  \n",
       "                    overweight -0.833934  2.166712  2.166712  2.166712  \n",
       "CinguloOperc        normal     -1.219002 -1.219002 -1.219002 -1.219002  \n",
       "                    obese      -2.833991 -2.833991 -2.427638 -2.021285  \n",
       "                    overweight -1.225761 -0.614313 -0.614313 -0.614313  \n",
       "Default             normal     -1.022928 -1.022928 -1.022928 -1.022928  \n",
       "                    obese      -1.036066 -1.036066 -0.419779 -0.419779  \n",
       "                    overweight -0.833934 -0.833934 -0.833934 -0.833934  \n",
       "DorsalAttn          normal     -1.219002 -1.219002 -1.169984 -1.022928  \n",
       "                    obese      -2.224462 -2.021285 -1.677580 -0.646466  \n",
       "                    overweight -1.837210 -1.225761 -0.614313 -0.614313  \n",
       "FrontoParietal      normal     -1.022928 -1.022928 -1.022928 -1.022928  \n",
       "                    obese      -0.646466 -0.646466 -0.646466 -0.646466  \n",
       "                    overweight -0.833934 -0.724124 -0.614313 -0.614313  \n",
       "MedialParietal      normal     -1.022928 -1.022928 -1.022928 -1.022928  \n",
       "                    obese      -0.419779 -0.419779 -0.419779 -0.419779  \n",
       "                    overweight -0.833934 -0.833934 -0.833934 -0.833934  \n",
       "None                normal     -1.336331 -1.336331 -1.336331 -1.336331  \n",
       "                    obese      -0.419779 -0.419779 -0.419779 -0.419779  \n",
       "                    overweight -0.833934 -0.833934 -0.833934 -0.833934  \n",
       "Putamen             normal     -1.501742 -1.501742 -1.501742 -1.501742  \n",
       "                    obese      -1.638017 -1.638017 -1.638017 -1.638017  \n",
       "                    overweight -1.516495 -1.516495 -1.516495 -1.516495  \n",
       "Smhand              normal     -1.336331 -1.277666 -1.219002 -1.219002  \n",
       "                    obese      -2.021285 -2.021285 -2.021285 -2.021285  \n",
       "                    overweight -1.837210 -1.837210 -1.837210 -1.837210  \n",
       "Smmouth             normal     -1.336331 -1.336331 -1.336331 -1.336331  \n",
       "                    obese      -2.021285 -2.021285 -2.021285 -2.021285  \n",
       "                    overweight -1.837210 -1.837210 -1.837210 -1.837210  \n",
       "Thalamus            normal     -1.501742 -1.419036 -1.002248  0.000000  \n",
       "                    obese      -2.021285 -1.829651 -1.638017 -1.638017  \n",
       "                    overweight -1.837210 -1.676853 -1.516495 -1.516495  \n",
       "VentralAttn         normal     -1.306998 -1.277666 -1.248334 -1.219002  \n",
       "                    obese      -2.287110 -1.740228 -1.193347 -0.646466  \n",
       "                    overweight -0.779029 -0.724124 -0.669218 -0.614313  \n",
       "VentralDiencephalon normal     -1.501742 -1.501742 -1.501742 -1.501742  \n",
       "                    obese       1.806434  1.806434  1.806434  1.806434  \n",
       "                    overweight -1.516495 -1.516495 -1.516495 -1.516495  \n",
       "Visual              normal     -1.336331 -1.336331 -0.840366 -0.344401  \n",
       "                    obese      -2.021285 -2.021285 -1.231237 -0.441189  \n",
       "                    overweight -1.837210 -1.837210 -1.066629 -0.296048  "
      ]
     },
     "execution_count": 100,
     "metadata": {},
     "output_type": "execute_result"
    }
   ],
   "source": [
    "x=total[['zDegree','group','area']].groupby(['area','group'])\n",
    "x.describe()"
   ]
  },
  {
   "cell_type": "code",
   "execution_count": 3,
   "metadata": {},
   "outputs": [
    {
     "name": "stdout",
     "output_type": "stream",
     "text": [
      "/Users/gracer/Google Drive/HCP/HCP_graph/1200/datasets/tmp/5_summary_dict_07-31-2020_05-51-27\n"
     ]
    }
   ],
   "source": [
    "latest_file2=an.find_latest(os.path.join(basepath,'tmp'),'5_*')\n",
    "summary_dict=an.onetoughjar(latest_file2)\n",
    "summary_dict=summary_dict['NR']"
   ]
  },
  {
   "cell_type": "code",
   "execution_count": 4,
   "metadata": {},
   "outputs": [],
   "source": [
    "for k,v in summary_dict.items():\n",
    "    # community.induced_graph(partition dictionary, graph)\n",
    "     comm_graph = community.induced_graph(v['modules']['partition'], v['graphs'])\n",
    "     v.update(comm_graph = comm_graph)\n"
   ]
  },
  {
   "cell_type": "code",
   "execution_count": 5,
   "metadata": {},
   "outputs": [
    {
     "data": {
      "text/plain": [
       "EdgeDataView([(0, 0, {'weight': 6.839178153846154}), (0, 1, {'weight': 3.7528853205128194}), (0, 2, {'weight': 0.5984933653846161}), (0, 3, {'weight': -1.9528489615384617}), (0, 4, {'weight': -0.2731012051282051}), (0, 5, {'weight': 0.8566804999999997}), (0, 6, {'weight': 0.004130653846153857}), (0, 7, {'weight': 0.07169598717948716}), (0, 8, {'weight': 0.028760711538461534}), (1, 1, {'weight': 79.41627096153847}), (1, 2, {'weight': -55.2613072179487}), (1, 3, {'weight': -39.88840911538465}), (1, 4, {'weight': 0.3884086410256411}), (1, 5, {'weight': 4.1987276025641025}), (1, 6, {'weight': 1.5629482692307697}), (1, 7, {'weight': -1.7110686474358976}), (1, 8, {'weight': 1.4723761794871797}), (2, 2, {'weight': 55.802742653846195}), (2, 3, {'weight': 11.788456326923075}), (2, 4, {'weight': -22.808463762820523}), (2, 5, {'weight': -15.754678666666669}), (2, 6, {'weight': -3.273405743589744}), (2, 7, {'weight': 1.1842951346153847}), (2, 8, {'weight': -2.896960782051281}), (3, 3, {'weight': 26.721035205128207}), (3, 4, {'weight': 7.158701826923075}), (3, 5, {'weight': -1.5268039807692309}), (3, 6, {'weight': -1.3876801666666663}), (3, 7, {'weight': 0.5926828141025641}), (3, 8, {'weight': -1.4910206153846157}), (4, 4, {'weight': 32.33031562820511}), (4, 5, {'weight': 4.868985750000001}), (4, 6, {'weight': 1.4330968910256408}), (4, 7, {'weight': -1.1081717820512822}), (4, 8, {'weight': 0.20420832692307697}), (5, 5, {'weight': 12.53936955128205}), (5, 6, {'weight': 0.4670076730769231}), (5, 7, {'weight': 0.16396800641025644}), (5, 8, {'weight': 0.40087290384615387}), (6, 6, {'weight': 3.1495833846153847}), (6, 7, {'weight': -0.05829514102564102}), (6, 8, {'weight': 0.08177813461538458}), (7, 7, {'weight': 2.061813358974359}), (7, 8, {'weight': 0.004455782051282048}), (8, 8, {'weight': 4.177454955128205})])"
      ]
     },
     "execution_count": 5,
     "metadata": {},
     "output_type": "execute_result"
    }
   ],
   "source": [
    "summary_dict['no']['comm_graph'].edges(data=True)"
   ]
  },
  {
   "cell_type": "code",
   "execution_count": 6,
   "metadata": {},
   "outputs": [],
   "source": [
    "no_df = nx.to_pandas_edgelist(summary_dict['no']['comm_graph'])"
   ]
  },
  {
   "cell_type": "code",
   "execution_count": 20,
   "metadata": {},
   "outputs": [
    {
     "name": "stdout",
     "output_type": "stream",
     "text": [
      "no\n",
      "ov\n",
      "ob\n"
     ]
    }
   ],
   "source": [
    "edges = {}\n",
    "\n",
    "for group, stuff in summary_dict.items():\n",
    "    print(group)\n",
    "    _df = nx.to_pandas_edgelist(stuff['comm_graph'])\n",
    "#     _df[(_df['source'] != _df['target']), 'weight'] == 0\n",
    "    _df.loc[(_df['source'] == _df['target']), 'weight'] = 0\n",
    "\n",
    "    _df['group']=group\n",
    "    edges[group]=_df\n",
    "\n",
    "edge_df=pd.concat(list(edges.values()))"
   ]
  },
  {
   "cell_type": "code",
   "execution_count": 21,
   "metadata": {},
   "outputs": [
    {
     "data": {
      "text/html": [
       "<div>\n",
       "<style scoped>\n",
       "    .dataframe tbody tr th:only-of-type {\n",
       "        vertical-align: middle;\n",
       "    }\n",
       "\n",
       "    .dataframe tbody tr th {\n",
       "        vertical-align: top;\n",
       "    }\n",
       "\n",
       "    .dataframe thead th {\n",
       "        text-align: right;\n",
       "    }\n",
       "</style>\n",
       "<table border=\"1\" class=\"dataframe\">\n",
       "  <thead>\n",
       "    <tr style=\"text-align: right;\">\n",
       "      <th></th>\n",
       "      <th>source</th>\n",
       "      <th>target</th>\n",
       "      <th>weight</th>\n",
       "      <th>group</th>\n",
       "    </tr>\n",
       "  </thead>\n",
       "  <tbody>\n",
       "    <tr>\n",
       "      <th>0</th>\n",
       "      <td>0</td>\n",
       "      <td>0</td>\n",
       "      <td>0.000000</td>\n",
       "      <td>no</td>\n",
       "    </tr>\n",
       "    <tr>\n",
       "      <th>1</th>\n",
       "      <td>0</td>\n",
       "      <td>1</td>\n",
       "      <td>3.752885</td>\n",
       "      <td>no</td>\n",
       "    </tr>\n",
       "    <tr>\n",
       "      <th>2</th>\n",
       "      <td>0</td>\n",
       "      <td>2</td>\n",
       "      <td>0.598493</td>\n",
       "      <td>no</td>\n",
       "    </tr>\n",
       "    <tr>\n",
       "      <th>3</th>\n",
       "      <td>0</td>\n",
       "      <td>3</td>\n",
       "      <td>-1.952849</td>\n",
       "      <td>no</td>\n",
       "    </tr>\n",
       "    <tr>\n",
       "      <th>4</th>\n",
       "      <td>0</td>\n",
       "      <td>4</td>\n",
       "      <td>-0.273101</td>\n",
       "      <td>no</td>\n",
       "    </tr>\n",
       "    <tr>\n",
       "      <th>...</th>\n",
       "      <td>...</td>\n",
       "      <td>...</td>\n",
       "      <td>...</td>\n",
       "      <td>...</td>\n",
       "    </tr>\n",
       "    <tr>\n",
       "      <th>40</th>\n",
       "      <td>6</td>\n",
       "      <td>7</td>\n",
       "      <td>-0.067282</td>\n",
       "      <td>ob</td>\n",
       "    </tr>\n",
       "    <tr>\n",
       "      <th>41</th>\n",
       "      <td>6</td>\n",
       "      <td>8</td>\n",
       "      <td>0.585246</td>\n",
       "      <td>ob</td>\n",
       "    </tr>\n",
       "    <tr>\n",
       "      <th>42</th>\n",
       "      <td>7</td>\n",
       "      <td>7</td>\n",
       "      <td>0.000000</td>\n",
       "      <td>ob</td>\n",
       "    </tr>\n",
       "    <tr>\n",
       "      <th>43</th>\n",
       "      <td>7</td>\n",
       "      <td>8</td>\n",
       "      <td>0.009891</td>\n",
       "      <td>ob</td>\n",
       "    </tr>\n",
       "    <tr>\n",
       "      <th>44</th>\n",
       "      <td>8</td>\n",
       "      <td>8</td>\n",
       "      <td>0.000000</td>\n",
       "      <td>ob</td>\n",
       "    </tr>\n",
       "  </tbody>\n",
       "</table>\n",
       "<p>126 rows × 4 columns</p>\n",
       "</div>"
      ],
      "text/plain": [
       "    source  target    weight group\n",
       "0        0       0  0.000000    no\n",
       "1        0       1  3.752885    no\n",
       "2        0       2  0.598493    no\n",
       "3        0       3 -1.952849    no\n",
       "4        0       4 -0.273101    no\n",
       "..     ...     ...       ...   ...\n",
       "40       6       7 -0.067282    ob\n",
       "41       6       8  0.585246    ob\n",
       "42       7       7  0.000000    ob\n",
       "43       7       8  0.009891    ob\n",
       "44       8       8  0.000000    ob\n",
       "\n",
       "[126 rows x 4 columns]"
      ]
     },
     "execution_count": 21,
     "metadata": {},
     "output_type": "execute_result"
    }
   ],
   "source": [
    "edge_df"
   ]
  },
  {
   "cell_type": "code",
   "execution_count": 22,
   "metadata": {},
   "outputs": [],
   "source": [
    "def zscore(col):\n",
    "    col_z = (col - col.mean())/col.std(ddof=0)\n",
    "    return(col_z)"
   ]
  },
  {
   "cell_type": "code",
   "execution_count": 23,
   "metadata": {},
   "outputs": [],
   "source": [
    "edge_df['z_weight']=zscore(edge_df['weight'])"
   ]
  },
  {
   "cell_type": "code",
   "execution_count": 24,
   "metadata": {},
   "outputs": [
    {
     "data": {
      "text/plain": [
       "count    1.260000e+02\n",
       "mean    -2.224852e-17\n",
       "std      1.003992e+00\n",
       "min     -6.171075e+00\n",
       "25%      1.697817e-01\n",
       "50%      2.230776e-01\n",
       "75%      2.619328e-01\n",
       "max      1.239880e+00\n",
       "Name: z_weight, dtype: float64"
      ]
     },
     "execution_count": 24,
     "metadata": {},
     "output_type": "execute_result"
    }
   ],
   "source": [
    "edge_df['z_weight'].describe()"
   ]
  },
  {
   "cell_type": "code",
   "execution_count": 25,
   "metadata": {},
   "outputs": [
    {
     "data": {
      "text/plain": [
       "<matplotlib.axes._subplots.AxesSubplot at 0x1a1ca79518>"
      ]
     },
     "execution_count": 25,
     "metadata": {},
     "output_type": "execute_result"
    },
    {
     "data": {
      "image/png": "[encoded data removed]",
      "text/plain": [
       "<Figure size 432x288 with 1 Axes>"
      ]
     },
     "metadata": {
      "needs_background": "light"
     },
     "output_type": "display_data"
    }
   ],
   "source": [
    "# edge_df\n",
    "%matplotlib inline\n",
    "fig, ax = plt.subplots()\n",
    "edge_df['z_weight'].plot(ax=ax, kind='bar')"
   ]
  },
  {
   "cell_type": "code",
   "execution_count": 54,
   "metadata": {},
   "outputs": [],
   "source": [
    "for k,v in summary_dict.items():\n",
    "    test=edge_df[edge_df['group']==k]\n",
    "    keyz = list(zip(test['source'],test['target']))\n",
    "    values=test['z_weight']\n",
    "    up_dict={}\n",
    "    for i in range(len(keyz)):\n",
    "        up_dict[keyz[i]]={'z_edge':values[i]}\n",
    "    nx.set_edge_attributes(v['comm_graph'], up_dict)\n"
   ]
  },
  {
   "cell_type": "code",
   "execution_count": 58,
   "metadata": {},
   "outputs": [
    {
     "data": {
      "text/plain": [
       "EdgeDataView([(0, 0, {'weight': 6.65795508974359, 'z_edge': 0.22307762216209612}), (0, 1, {'weight': 0.9875995384615381, 'z_edge': 0.3082620740780772}), (0, 2, {'weight': 0.886660628205128, 'z_edge': 0.2995556850890917}), (0, 3, {'weight': -0.13270837179487185, 'z_edge': 0.21163098870819777}), (0, 4, {'weight': 0.2652431282051283, 'z_edge': 0.24595591404124334}), (0, 5, {'weight': 0.20460096153846155, 'z_edge': 0.24072528206004098}), (0, 6, {'weight': 0.5071846153846155, 'z_edge': 0.2668243452003215}), (0, 7, {'weight': -0.06306864102564103, 'z_edge': 0.21763769696000043}), (0, 8, {'weight': -0.040346384615384596, 'z_edge': 0.2195975834152101}), (1, 1, {'weight': 56.76909293589743, 'z_edge': 0.22307762216209612}), (1, 2, {'weight': -69.8420087948718, 'z_edge': -5.801077926928399}), (1, 3, {'weight': -0.8431240128205109, 'z_edge': 0.15035476828024924}), (1, 4, {'weight': 7.152836320512822, 'z_edge': 0.8400386654578218}), (1, 5, {'weight': 7.3683165769230765, 'z_edge': 0.858624708510876}), (1, 6, {'weight': 2.665096987179487, 'z_edge': 0.4529530092136855}), (1, 7, {'weight': 0.29868438461538466, 'z_edge': 0.24884035757098322}), (1, 8, {'weight': 2.80931323076923, 'z_edge': 0.46539224312291877}), (2, 2, {'weight': 73.94913637179489, 'z_edge': 0.22307762216209612}), (2, 3, {'weight': -3.6193585641025634, 'z_edge': -0.0891066828759286}), (2, 4, {'weight': -8.379694525641026, 'z_edge': -0.49970490009591495}), (2, 5, {'weight': -7.641641538461532, 'z_edge': -0.43604484685634337}), (2, 6, {'weight': -10.818168102564098, 'z_edge': -0.7100331020363246}), (2, 7, {'weight': -0.633655923076923, 'z_edge': 0.16842223765806122}), (2, 8, {'weight': -7.64446791025641, 'z_edge': -0.43628863284740665}), (3, 3, {'weight': 40.92354311538464, 'z_edge': 0.22307762216209612}), (3, 4, {'weight': -14.349338525641022, 'z_edge': -1.0146108234681432}), (3, 5, {'weight': -3.564242615384615, 'z_edge': -0.08435270952891634}), (3, 6, {'weight': 2.75005076923077, 'z_edge': 0.4602806162855777}), (3, 7, {'weight': 0.14591626923076922, 'z_edge': 0.23566349015410704}), (3, 8, {'weight': 0.023589410256410055, 'z_edge': 0.22511230414143743}), (4, 4, {'weight': 11.622262192307693, 'z_edge': 0.22307762216209612}), (4, 5, {'weight': -0.995417525641026, 'z_edge': 0.1372188372527964}), (4, 6, {'weight': -1.568936025641026, 'z_edge': 0.08775054855525337}), (4, 7, {'weight': -0.14365091025641025, 'z_edge': 0.21068715053785217}), (4, 8, {'weight': -0.03507542307692304, 'z_edge': 0.2200522251523088}), (5, 5, {'weight': 11.773469884615384, 'z_edge': 0.22307762216209612}), (5, 6, {'weight': 0.10190924358974347, 'z_edge': 0.23186770632301798}), (5, 7, {'weight': -0.1368919487179487, 'z_edge': 0.2112701382892154}), (5, 8, {'weight': -0.8151457051282052, 'z_edge': 0.15276801040267715}), (6, 6, {'weight': 9.47471153846154, 'z_edge': 0.22307762216209612}), (6, 7, {'weight': -0.06728162820512819, 'z_edge': 0.21727430978753096}), (6, 8, {'weight': 0.5852464102564103, 'z_edge': 0.273557490521643}), (7, 7, {'weight': 1.0, 'z_edge': 0.22307762216209612}), (7, 8, {'weight': 0.009890769230769232, 'z_edge': 0.22393074098520027}), (8, 8, {'weight': 7.624126641025642, 'z_edge': 0.22307762216209612})])"
      ]
     },
     "execution_count": 58,
     "metadata": {},
     "output_type": "execute_result"
    }
   ],
   "source": [
    "summary_dict['ob']['comm_graph'].edges(data=True)"
   ]
  },
  {
   "cell_type": "code",
   "execution_count": null,
   "metadata": {},
   "outputs": [],
   "source": [
    "an.module_fig(summary_dict['no']['modules']['graph'], 'Normal', basepath)"
   ]
  },
  {
   "cell_type": "markdown",
   "metadata": {},
   "source": [
    "# Using visbrain to look at the cifti files"
   ]
  },
  {
   "cell_type": "code",
   "execution_count": null,
   "metadata": {},
   "outputs": [],
   "source": [
    "# Scene creation\n",
    "sc = SceneObj(bgcolor='black', size=(1400, 1000))\n",
    "# Colorbar default arguments. See `visbrain.objects.ColorbarObj`\n",
    "CBAR_STATE = dict(cbtxtsz=12, txtsz=10., width=.1, cbtxtsh=3.,\n",
    "                  rect=(-.3, -2., 1., 4.))\n",
    "KW = dict(title_size=14., zoom=1.2)\n"
   ]
  },
  {
   "cell_type": "code",
   "execution_count": null,
   "metadata": {},
   "outputs": [],
   "source": [
    "# Download the annotation file of the left hemisphere lh.aparc.a2009s.annot\n",
    "path_to_file1 = download_file('lh.aparc.a2009s.annot', astype='example_data')\n",
    "# Define the brain object (now you should know how to do it)\n",
    "b_obj_parl = BrainObj('inflated', hemisphere='left', translucent=False)\n",
    "# Print parcellates included in the file\n",
    "# print(b_obj_parl.get_parcellates(path_to_file1))\n",
    "# Finally, parcellize the brain and add the brain to the scene\n",
    "b_obj_parl.parcellize(path_to_file1)\n",
    "sc.add_to_subplot(b_obj_parl, row=1, col=1, rotate='left',\n",
    "                  title='Parcellize using the Desikan Atlas', **KW)\n"
   ]
  },
  {
   "cell_type": "code",
   "execution_count": null,
   "metadata": {},
   "outputs": [],
   "source": [
    "# Download the lh.sig.nii.gz file\n",
    "file = download_file('lh.sig.nii.gz', astype='example_data')\n",
    "# Define the [...] you know\n",
    "b_obj_fmri = BrainObj('inflated', translucent=False, sulcus=True)\n",
    "# Add fMRI activation and hide every activation that is under 5.\n",
    "b_obj_fmri.add_activation(file=file, clim=(5., 20.), hide_under=5,\n",
    "                          cmap='viridis', hemisphere='left')\n",
    "sc.add_to_subplot(b_obj_fmri, row=2, col=1, title='Add fMRI activation',\n",
    "                  rotate='left', **KW)\n"
   ]
  },
  {
   "cell_type": "code",
   "execution_count": null,
   "metadata": {},
   "outputs": [],
   "source": [
    "# Link the rotation of subplots (row=0, col=1) and (row=1, col=2)\n",
    "# sc.link((0, 1), (1, 2))\n",
    "# Screenshot of the scene\n",
    "# sc.screenshot('ex_brain_obj.png', transparent=True)\n",
    "\n",
    "sc.preview()"
   ]
  },
  {
   "cell_type": "code",
   "execution_count": null,
   "metadata": {},
   "outputs": [],
   "source": []
  }
 ],
 "metadata": {
  "kernelspec": {
   "display_name": "Python 3",
   "language": "python",
   "name": "python3"
  },
  "language_info": {
   "codemirror_mode": {
    "name": "ipython",
    "version": 3
   },
   "file_extension": ".py",
   "mimetype": "text/x-python",
   "name": "python",
   "nbconvert_exporter": "python",
   "pygments_lexer": "ipython3",
   "version": "3.7.2"
  }
 },
 "nbformat": 4,
 "nbformat_minor": 2
}
