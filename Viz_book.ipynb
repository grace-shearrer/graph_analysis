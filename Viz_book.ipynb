{
 "cells": [
  {
   "cell_type": "code",
   "execution_count": 6,
   "metadata": {},
   "outputs": [
    {
     "name": "stderr",
     "output_type": "stream",
     "text": [
      "/Users/gracer/.local/lib/python3.6/site-packages/vispy/visuals/isocurve.py:22: UserWarning: VisPy is not yet compatible with matplotlib 2.2+\n",
      "  warnings.warn(\"VisPy is not yet compatible with matplotlib 2.2+\")\n"
     ]
    }
   ],
   "source": [
    "import pandas as pd\n",
    "import glob\n",
    "import os\n",
    "import numpy as np\n",
    "import pickle\n",
    "import statistics\n",
    "import community\n",
    "import matplotlib\n",
    "# matplotlib.use(\"Qt5Agg\")\n",
    "import matplotlib.pyplot as plt\n",
    "\n",
    "import networkx as nx\n",
    "\n",
    "import analysis as an\n",
    "\n",
    "from visbrain.objects import BrainObj, ColorbarObj, SceneObj, SourceObj\n",
    "from visbrain.io import download_file, read_stc"
   ]
  },
  {
   "cell_type": "code",
   "execution_count": 4,
   "metadata": {},
   "outputs": [
    {
     "name": "stdout",
     "output_type": "stream",
     "text": [
      "(100,)\n",
      "(100,)\n",
      "(100,)\n"
     ]
    }
   ],
   "source": [
    "basepath='/Users/gracer/Google Drive/HCP_graph/1200/datasets/'\n",
    "summary_dict=an.onetoughjar(os.path.join(basepath,'tmp','summary_dict_11-14-2019_04-33-33'))\n",
    "# dict_keys(['mean_FC', 'graphs', 'clustering_coeff', 'btn_centrality', 'PC', 'modules'])\n",
    "# summary_dict['NR']['no']['modules']['partition']\n",
    "summary_dict['NR']['no']['graphs'].nodes(data=True)\n",
    "\n",
    "an.grace_graph(summary_dict['NR']['no']['graphs'], 'clustering', 'Normal weight', 1)\n",
    "an.grace_graph(summary_dict['NR']['ov']['graphs'], 'clustering', 'Overweight', 1)\n",
    "an.grace_graph(summary_dict['NR']['ob']['graphs'], 'clustering', 'Obese', 1)\n",
    "\n",
    "for key, value in summary_dict.items():\n",
    "    for k,v in value.items():\n",
    "        # community.induced_graph(partition dictionary, graph)\n",
    "         comm_graph = community.induced_graph(v['modules']['partition'], v['graphs'])\n",
    "         v.update(comm_graph = comm_graph)"
   ]
  },
  {
   "cell_type": "code",
   "execution_count": 5,
   "metadata": {},
   "outputs": [],
   "source": [
    "an.module_fig(summary_dict['NR']['no']['comm_graph'], 'Normal')\n",
    "an.module_fig(summary_dict['NR']['ov']['comm_graph'], 'Overweight')\n",
    "an.module_fig(summary_dict['NR']['ob']['comm_graph'], 'Obese')"
   ]
  },
  {
   "cell_type": "markdown",
   "metadata": {},
   "source": [
    "# Using visbrain to look at the cifti files"
   ]
  },
  {
   "cell_type": "code",
   "execution_count": 7,
   "metadata": {},
   "outputs": [
    {
     "name": "stderr",
     "output_type": "stream",
     "text": [
      "Creation of a scene\n",
      "11-15-2019_10-58-19 Creation of a scene \n"
     ]
    }
   ],
   "source": [
    "# Scene creation\n",
    "sc = SceneObj(bgcolor='black', size=(1400, 1000))\n",
    "# Colorbar default arguments. See `visbrain.objects.ColorbarObj`\n",
    "CBAR_STATE = dict(cbtxtsz=12, txtsz=10., width=.1, cbtxtsh=3.,\n",
    "                  rect=(-.3, -2., 1., 4.))\n",
    "KW = dict(title_size=14., zoom=1.2)\n"
   ]
  },
  {
   "cell_type": "code",
   "execution_count": 8,
   "metadata": {},
   "outputs": [
    {
     "name": "stderr",
     "output_type": "stream",
     "text": [
      "Downloading /Users/gracer/visbrain_data/example_data/lh.aparc.a2009s.annot\n",
      "11-15-2019_10-58-20 Downloading /Users/gracer/visbrain_data/example_data/lh.aparc.a2009s.annot \n",
      "STATUS : 100.0% 1318912 / 1314060\n",
      "BrainObj(name='inflated') created\n",
      "11-15-2019_10-58-21 BrainObj(name='inflated') created \n",
      "    Annot file loaded (/Users/gracer/visbrain_data/example_data/lh.aparc.a2009s.annot)\n",
      "11-15-2019_10-58-22     Annot file loaded (/Users/gracer/visbrain_data/example_data/lh.aparc.a2009s.annot) \n",
      "\u001b[1m\u001b[1;33mWARNING\u001b[0m | left hemisphere(s) inferred from filename\n",
      "11-15-2019_10-58-22 left hemisphere(s) inferred from filename \n",
      "    Select all parcellates\n",
      "11-15-2019_10-58-22     Select all parcellates \n",
      "    Use default color included in the file\n",
      "11-15-2019_10-58-22     Use default color included in the file \n",
      "    Search parcellates using labels\n",
      "11-15-2019_10-58-22     Search parcellates using labels \n",
      "    Selected parcellates : G_and_S_frontomargin, G_and_S_occipital_inf, G_and_S_paracentral, G_and_S_subcentral, G_and_S_transv_frontopol, G_and_S_cingul-Ant, G_and_S_cingul-Mid-Ant, G_and_S_cingul-Mid-Post, G_cingul-Post-dorsal, G_cingul-Post-ventral, G_cuneus, G_front_inf-Opercular, G_front_inf-Orbital, G_front_inf-Triangul, G_front_middle, G_front_sup, G_Ins_lg_and_S_cent_ins, G_insular_short, G_occipital_middle, G_occipital_sup, G_oc-temp_lat-fusifor, G_oc-temp_med-Lingual, G_oc-temp_med-Parahip, G_orbital, G_pariet_inf-Angular, G_pariet_inf-Supramar, G_parietal_sup, G_postcentral, G_precentral, G_precuneus, G_rectus, G_subcallosal, G_temp_sup-G_T_transv, G_temp_sup-Lateral, G_temp_sup-Plan_polar, G_temp_sup-Plan_tempo, G_temporal_inf, G_temporal_middle, Lat_Fis-ant-Horizont, Lat_Fis-ant-Vertical, Lat_Fis-post, Medial_wall, Pole_occipital, Pole_temporal, S_calcarine, S_central, S_cingul-Marginalis, S_circular_insula_ant, S_circular_insula_inf, S_circular_insula_sup, S_collat_transv_ant, S_collat_transv_post, S_front_inf, S_front_middle, S_front_sup, S_interm_prim-Jensen, S_intrapariet_and_P_trans, S_oc_middle_and_Lunatus, S_oc_sup_and_transversal, S_occipital_ant, S_oc-temp_lat, S_oc-temp_med_and_Lingual, S_orbital_lateral, S_orbital_med-olfact, S_orbital-H_Shaped, S_parieto_occipital, S_pericallosal, S_postcentral, S_precentral-inf-part, S_precentral-sup-part, S_suborbital, S_subparietal, S_temporal_inf, S_temporal_sup, S_temporal_transverse\n",
      "11-15-2019_10-58-22     Selected parcellates : G_and_S_frontomargin, G_and_S_occipital_inf, G_and_S_paracentral, G_and_S_subcentral, G_and_S_transv_frontopol, G_and_S_cingul-Ant, G_and_S_cingul-Mid-Ant, G_and_S_cingul-Mid-Post, G_cingul-Post-dorsal, G_cingul-Post-ventral, G_cuneus, G_front_inf-Opercular, G_front_inf-Orbital, G_front_inf-Triangul, G_front_middle, G_front_sup, G_Ins_lg_and_S_cent_ins, G_insular_short, G_occipital_middle, G_occipital_sup, G_oc-temp_lat-fusifor, G_oc-temp_med-Lingual, G_oc-temp_med-Parahip, G_orbital, G_pariet_inf-Angular, G_pariet_inf-Supramar, G_parietal_sup, G_postcentral, G_precentral, G_precuneus, G_rectus, G_subcallosal, G_temp_sup-G_T_transv, G_temp_sup-Lateral, G_temp_sup-Plan_polar, G_temp_sup-Plan_tempo, G_temporal_inf, G_temporal_middle, Lat_Fis-ant-Horizont, Lat_Fis-ant-Vertical, Lat_Fis-post, Medial_wall, Pole_occipital, Pole_temporal, S_calcarine, S_central, S_cingul-Marginalis, S_circular_insula_ant, S_circular_insula_inf, S_circular_insula_sup, S_collat_transv_ant, S_collat_transv_post, S_front_inf, S_front_middle, S_front_sup, S_interm_prim-Jensen, S_intrapariet_and_P_trans, S_oc_middle_and_Lunatus, S_oc_sup_and_transversal, S_occipital_ant, S_oc-temp_lat, S_oc-temp_med_and_Lingual, S_orbital_lateral, S_orbital_med-olfact, S_orbital-H_Shaped, S_parieto_occipital, S_pericallosal, S_postcentral, S_precentral-inf-part, S_precentral-sup-part, S_suborbital, S_subparietal, S_temporal_inf, S_temporal_sup, S_temporal_transverse \n",
      "    BrainObj(name='inflated') added to the scene\n",
      "11-15-2019_10-58-22     BrainObj(name='inflated') added to the scene \n"
     ]
    }
   ],
   "source": [
    "# Download the annotation file of the left hemisphere lh.aparc.a2009s.annot\n",
    "path_to_file1 = download_file('lh.aparc.a2009s.annot', astype='example_data')\n",
    "# Define the brain object (now you should know how to do it)\n",
    "b_obj_parl = BrainObj('inflated', hemisphere='left', translucent=False)\n",
    "# Print parcellates included in the file\n",
    "# print(b_obj_parl.get_parcellates(path_to_file1))\n",
    "# Finally, parcellize the brain and add the brain to the scene\n",
    "b_obj_parl.parcellize(path_to_file1)\n",
    "sc.add_to_subplot(b_obj_parl, row=1, col=1, rotate='left',\n",
    "                  title='Parcellize using the Desikan Atlas', **KW)\n"
   ]
  },
  {
   "cell_type": "code",
   "execution_count": 9,
   "metadata": {},
   "outputs": [
    {
     "name": "stderr",
     "output_type": "stream",
     "text": [
      "Downloading /Users/gracer/visbrain_data/example_data/lh.sig.nii.gz\n",
      "11-15-2019_10-58-22 Downloading /Users/gracer/visbrain_data/example_data/lh.sig.nii.gz \n",
      "STATUS : 100.0% 557056 / 555499\n",
      "BrainObj(name='inflated') created\n",
      "11-15-2019_10-58-23 BrainObj(name='inflated') created \n",
      "    Add overlay to the inflated brain template (/Users/gracer/visbrain_data/example_data/lh.sig.nii.gz)\n",
      "11-15-2019_10-58-23     Add overlay to the inflated brain template (/Users/gracer/visbrain_data/example_data/lh.sig.nii.gz) \n",
      "    BrainObj(name='inflated') added to the scene\n",
      "11-15-2019_10-58-23     BrainObj(name='inflated') added to the scene \n"
     ]
    }
   ],
   "source": [
    "# Download the lh.sig.nii.gz file\n",
    "file = download_file('lh.sig.nii.gz', astype='example_data')\n",
    "# Define the [...] you know\n",
    "b_obj_fmri = BrainObj('inflated', translucent=False, sulcus=True)\n",
    "# Add fMRI activation and hide every activation that is under 5.\n",
    "b_obj_fmri.add_activation(file=file, clim=(5., 20.), hide_under=5,\n",
    "                          cmap='viridis', hemisphere='left')\n",
    "sc.add_to_subplot(b_obj_fmri, row=2, col=1, title='Add fMRI activation',\n",
    "                  rotate='left', **KW)\n"
   ]
  },
  {
   "cell_type": "code",
   "execution_count": 10,
   "metadata": {},
   "outputs": [
    {
     "name": "stderr",
     "output_type": "stream",
     "text": [
      "11-15-2019_10-58-28 No OpenGL_accelerate module loaded: No module named 'OpenGL_accelerate' \n"
     ]
    }
   ],
   "source": [
    "# Link the rotation of subplots (row=0, col=1) and (row=1, col=2)\n",
    "# sc.link((0, 1), (1, 2))\n",
    "# Screenshot of the scene\n",
    "# sc.screenshot('ex_brain_obj.png', transparent=True)\n",
    "\n",
    "sc.preview()"
   ]
  },
  {
   "cell_type": "code",
   "execution_count": null,
   "metadata": {},
   "outputs": [],
   "source": []
  }
 ],
 "metadata": {
  "kernelspec": {
   "display_name": "Python 3",
   "language": "python",
   "name": "python3"
  },
  "language_info": {
   "codemirror_mode": {
    "name": "ipython",
    "version": 3
   },
   "file_extension": ".py",
   "mimetype": "text/x-python",
   "name": "python",
   "nbconvert_exporter": "python",
   "pygments_lexer": "ipython3",
   "version": "3.6.5"
  }
 },
 "nbformat": 4,
 "nbformat_minor": 2
}
