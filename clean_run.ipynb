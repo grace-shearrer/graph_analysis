{
 "cells": [
  {
   "cell_type": "code",
   "execution_count": 1,
   "metadata": {},
   "outputs": [],
   "source": [
    "import pandas as pd\n",
    "import glob\n",
    "import os\n",
    "import numpy as np\n",
    "import pickle\n",
    "import statistics\n",
    "import community\n",
    "import matplotlib as mlp\n",
    "# mlp.use(\"Qt5Agg\")\n",
    "import matplotlib.pyplot as plt\n",
    "%matplotlib inline\n",
    "import networkx as nx\n",
    "\n",
    "import analysis as an\n",
    "import pandas as pd\n",
    "\n",
    "\n",
    "import numpy as np\n",
    "import seaborn as sns\n",
    "\n",
    "from scipy import stats \n",
    "import scipy\n",
    "import pprint as pp"
   ]
  },
  {
   "cell_type": "code",
   "execution_count": 2,
   "metadata": {},
   "outputs": [],
   "source": [
    "labels = pd.read_csv('/Users/gracer/Google Drive/HCP/HCP_graph/1200/datasets/tmp/mod_labels.csv', sep=',')"
   ]
  },
  {
   "cell_type": "code",
   "execution_count": 3,
   "metadata": {},
   "outputs": [
    {
     "data": {
      "text/html": [
       "<div>\n",
       "<style scoped>\n",
       "    .dataframe tbody tr th:only-of-type {\n",
       "        vertical-align: middle;\n",
       "    }\n",
       "\n",
       "    .dataframe tbody tr th {\n",
       "        vertical-align: top;\n",
       "    }\n",
       "\n",
       "    .dataframe thead th {\n",
       "        text-align: right;\n",
       "    }\n",
       "</style>\n",
       "<table border=\"1\" class=\"dataframe\">\n",
       "  <thead>\n",
       "    <tr style=\"text-align: right;\">\n",
       "      <th></th>\n",
       "      <th>Index</th>\n",
       "      <th>label</th>\n",
       "      <th>Unnamed: 2</th>\n",
       "      <th>area</th>\n",
       "      <th>IC</th>\n",
       "    </tr>\n",
       "  </thead>\n",
       "  <tbody>\n",
       "    <tr>\n",
       "      <th>0</th>\n",
       "      <td>73</td>\n",
       "      <td>R_Cerebellum</td>\n",
       "      <td>R_Cerebellum</td>\n",
       "      <td>Cerebellum</td>\n",
       "      <td>IC_73</td>\n",
       "    </tr>\n",
       "    <tr>\n",
       "      <th>1</th>\n",
       "      <td>59</td>\n",
       "      <td>R_Amygdala</td>\n",
       "      <td>R_Amygdala</td>\n",
       "      <td>Amygdala</td>\n",
       "      <td>IC_59</td>\n",
       "    </tr>\n",
       "    <tr>\n",
       "      <th>2</th>\n",
       "      <td>44</td>\n",
       "      <td>R_Auditory_18</td>\n",
       "      <td>R_A4_ROI</td>\n",
       "      <td>Auditory</td>\n",
       "      <td>IC_44</td>\n",
       "    </tr>\n",
       "    <tr>\n",
       "      <th>3</th>\n",
       "      <td>70</td>\n",
       "      <td>BrainStem</td>\n",
       "      <td>BrainStem</td>\n",
       "      <td>BrainStem</td>\n",
       "      <td>IC_70</td>\n",
       "    </tr>\n",
       "    <tr>\n",
       "      <th>4</th>\n",
       "      <td>79</td>\n",
       "      <td>BrainStem</td>\n",
       "      <td>BrainStem</td>\n",
       "      <td>BrainStem</td>\n",
       "      <td>IC_79</td>\n",
       "    </tr>\n",
       "    <tr>\n",
       "      <th>...</th>\n",
       "      <td>...</td>\n",
       "      <td>...</td>\n",
       "      <td>...</td>\n",
       "      <td>...</td>\n",
       "      <td>...</td>\n",
       "    </tr>\n",
       "    <tr>\n",
       "      <th>95</th>\n",
       "      <td>29</td>\n",
       "      <td>R_Visual_29</td>\n",
       "      <td>R_MST_ROI</td>\n",
       "      <td>Visual</td>\n",
       "      <td>IC_29</td>\n",
       "    </tr>\n",
       "    <tr>\n",
       "      <th>96</th>\n",
       "      <td>31</td>\n",
       "      <td>R_Visual_28</td>\n",
       "      <td>R_V3_ROI</td>\n",
       "      <td>Visual</td>\n",
       "      <td>IC_31</td>\n",
       "    </tr>\n",
       "    <tr>\n",
       "      <th>97</th>\n",
       "      <td>38</td>\n",
       "      <td>R_Visual_37</td>\n",
       "      <td>R_V2_ROI</td>\n",
       "      <td>Visual</td>\n",
       "      <td>IC_38</td>\n",
       "    </tr>\n",
       "    <tr>\n",
       "      <th>98</th>\n",
       "      <td>53</td>\n",
       "      <td>NaN</td>\n",
       "      <td>NaN</td>\n",
       "      <td>NaN</td>\n",
       "      <td>IC_53</td>\n",
       "    </tr>\n",
       "    <tr>\n",
       "      <th>99</th>\n",
       "      <td>60</td>\n",
       "      <td>NaN</td>\n",
       "      <td>NaN</td>\n",
       "      <td>NaN</td>\n",
       "      <td>IC_60</td>\n",
       "    </tr>\n",
       "  </tbody>\n",
       "</table>\n",
       "<p>100 rows × 5 columns</p>\n",
       "</div>"
      ],
      "text/plain": [
       "    Index          label    Unnamed: 2        area     IC\n",
       "0      73   R_Cerebellum  R_Cerebellum  Cerebellum  IC_73\n",
       "1      59     R_Amygdala    R_Amygdala    Amygdala  IC_59\n",
       "2      44  R_Auditory_18      R_A4_ROI    Auditory  IC_44\n",
       "3      70      BrainStem     BrainStem   BrainStem  IC_70\n",
       "4      79      BrainStem     BrainStem   BrainStem  IC_79\n",
       "..    ...            ...           ...         ...    ...\n",
       "95     29    R_Visual_29     R_MST_ROI      Visual  IC_29\n",
       "96     31    R_Visual_28      R_V3_ROI      Visual  IC_31\n",
       "97     38    R_Visual_37      R_V2_ROI      Visual  IC_38\n",
       "98     53            NaN           NaN         NaN  IC_53\n",
       "99     60            NaN           NaN         NaN  IC_60\n",
       "\n",
       "[100 rows x 5 columns]"
      ]
     },
     "execution_count": 3,
     "metadata": {},
     "output_type": "execute_result"
    }
   ],
   "source": [
    "labels"
   ]
  },
  {
   "cell_type": "code",
   "execution_count": 4,
   "metadata": {},
   "outputs": [
    {
     "name": "stdout",
     "output_type": "stream",
     "text": [
      "/Users/gracer/Google Drive/HCP/HCP_graph/1200/datasets/tmp/6_submod_dict_08-31-2020_10-01-19\n"
     ]
    }
   ],
   "source": [
    "basepath='/Users/gracer/Google Drive/HCP/HCP_graph/1200/datasets/'\n",
    "latest_file=an.find_latest(os.path.join(basepath,'tmp'),'6_*')\n",
    "submod_dict=an.onetoughjar(latest_file)"
   ]
  },
  {
   "cell_type": "code",
   "execution_count": 5,
   "metadata": {},
   "outputs": [
    {
     "name": "stdout",
     "output_type": "stream",
     "text": [
      "/Users/gracer/Google Drive/HCP/HCP_graph/1200/datasets/tmp/5_summary_dict_12-05-2019_03-29-19\n"
     ]
    }
   ],
   "source": [
    "latest_file=an.find_latest(os.path.join(basepath,'tmp'),'5_*')\n",
    "summary_dict=an.onetoughjar(latest_file)"
   ]
  },
  {
   "cell_type": "code",
   "execution_count": 6,
   "metadata": {
    "scrolled": true
   },
   "outputs": [
    {
     "data": {
      "text/plain": [
       "NodeDataView({0: {'centrality': 0.0064897671177409555, 'clustering': 0.6437710437710438, 'PC': -1.0326969056632502, 'modules': 0}, 1: {'centrality': 0.002973716896117888, 'clustering': 0.7468599033816425, 'PC': -136.6879917661603, 'modules': 1}, 2: {'centrality': 0.004613266626234078, 'clustering': 0.6115384615384616, 'PC': -2.5791553363466524, 'modules': 2}, 3: {'centrality': 0.0021067150470575765, 'clustering': 0.7252252252252253, 'PC': -1655.6730753160027, 'modules': 2}, 4: {'centrality': 0.005504181704497122, 'clustering': 0.6303191489361702, 'PC': -46.63350345353303, 'modules': 3}, 5: {'centrality': 0.005469547439511589, 'clustering': 0.581081081081081, 'PC': -7.605033006414443, 'modules': 1}, 6: {'centrality': 0.005565460193765314, 'clustering': 0.6334693877551021, 'PC': -0.9582213701859268, 'modules': 1}, 7: {'centrality': 0.0031554850913130426, 'clustering': 0.6693657219973009, 'PC': -37.85627528677132, 'modules': 2}, 8: {'centrality': 0.003099278857443236, 'clustering': 0.7323671497584541, 'PC': -212.6330218752351, 'modules': 1}, 9: {'centrality': 0.010938433379893862, 'clustering': 0.4975609756097561, 'PC': -37.9280712359824, 'modules': 1}, 10: {'centrality': 0.002674346571550022, 'clustering': 0.6904761904761905, 'PC': -658.889859775967, 'modules': 2}, 11: {'centrality': 0.003908304402685893, 'clustering': 0.6914893617021277, 'PC': -7.163538500966105, 'modules': 1}, 12: {'centrality': 0.0027761437449522527, 'clustering': 0.6948717948717948, 'PC': -23.45392057976988, 'modules': 2}, 13: {'centrality': 0.005087939293813753, 'clustering': 0.5692307692307692, 'PC': -1.9610113878185, 'modules': 1}, 14: {'centrality': 0.006567527337632642, 'clustering': 0.6508295625942685, 'PC': -12.9303031203431, 'modules': 1}, 15: {'centrality': 0.0028382766302348854, 'clustering': 0.6842105263157895, 'PC': -9.004181032610564, 'modules': 2}, 16: {'centrality': 0.0036364854098812865, 'clustering': 0.6576576576576577, 'PC': -378.2375025990802, 'modules': 2}, 17: {'centrality': 0.00646098921839335, 'clustering': 0.600177304964539, 'PC': -2.856311044592902, 'modules': 3}, 18: {'centrality': 0.00694978517086194, 'clustering': 0.5272938443670151, 'PC': -2.7587298863621936, 'modules': 2}, 19: {'centrality': 0.004118075043992761, 'clustering': 0.6285714285714286, 'PC': -195.69832807668556, 'modules': 2}, 20: {'centrality': 0.0023320465915836705, 'clustering': 0.7011494252873564, 'PC': -54.40580532762141, 'modules': 2}, 21: {'centrality': 0.0035733989230131488, 'clustering': 0.7073170731707317, 'PC': -300.4926484271749, 'modules': 1}, 22: {'centrality': 0.0057113475327099225, 'clustering': 0.6051103368176539, 'PC': -33.985974446703956, 'modules': 2}, 23: {'centrality': 0.002821982063385405, 'clustering': 0.6858974358974359, 'PC': -2.5228873527981936, 'modules': 1}, 24: {'centrality': 0.01252232649388041, 'clustering': 0.6076388888888888, 'PC': 0.47330230071858304, 'modules': 0}, 25: {'centrality': 0.008049702482822689, 'clustering': 0.5902597402597403, 'PC': -3.960575985617531, 'modules': 3}, 26: {'centrality': 0.004604995774797733, 'clustering': 0.6323366555924695, 'PC': -65.29675664559375, 'modules': 2}, 27: {'centrality': 0.0015004524117019403, 'clustering': 0.7641129032258065, 'PC': -223.849459414326, 'modules': 2}, 28: {'centrality': 0.00678772852772288, 'clustering': 0.5037878787878788, 'PC': -3.707025497877442, 'modules': 1}, 29: {'centrality': 0.0025404238959967833, 'clustering': 0.7012012012012012, 'PC': -294.92900432676635, 'modules': 2}, 30: {'centrality': 0.008419337488902069, 'clustering': 0.5673469387755102, 'PC': -14.659482405334499, 'modules': 3}, 31: {'centrality': 0.011105955087203292, 'clustering': 0.6101694915254238, 'PC': 0.5433342508090113, 'modules': 0}, 32: {'centrality': 0.002888207920111285, 'clustering': 0.6736353077816493, 'PC': -6.466037562741742, 'modules': 1}, 33: {'centrality': 0.004992963079529265, 'clustering': 0.6025641025641025, 'PC': -54.675059416412715, 'modules': 2}, 34: {'centrality': 0.006677348208821877, 'clustering': 0.603145235892692, 'PC': -655.4205835599497, 'modules': 2}, 35: {'centrality': 0.0031559702832517776, 'clustering': 0.6823529411764706, 'PC': -5.875813582077732, 'modules': 1}, 36: {'centrality': 0.00982273197675142, 'clustering': 0.4610917537746806, 'PC': -1.293145437404113, 'modules': 1}, 37: {'centrality': 0.004358783055683226, 'clustering': 0.6543340380549683, 'PC': -248.32557752745615, 'modules': 2}, 38: {'centrality': 0.0065647443593222984, 'clustering': 0.5475609756097561, 'PC': 0.16462839848007893, 'modules': 0}, 39: {'centrality': 0.004589030429679188, 'clustering': 0.5924426450742241, 'PC': -7.7359026244337326, 'modules': 1}, 40: {'centrality': 0.0022881813393925946, 'clustering': 0.696969696969697, 'PC': -285.5973855443704, 'modules': 2}, 41: {'centrality': 0.006715246577072463, 'clustering': 0.6689291101055806, 'PC': -13.658977344546352, 'modules': 1}, 42: {'centrality': 0.002974637121255826, 'clustering': 0.6951871657754011, 'PC': -171.9166268262161, 'modules': 2}, 43: {'centrality': 0.0028612231593882318, 'clustering': 0.6720142602495544, 'PC': -2634.807514249537, 'modules': 1}, 44: {'centrality': 0.002184123552921044, 'clustering': 0.714795008912656, 'PC': -29.097974691519674, 'modules': 2}, 45: {'centrality': 0.004379861218346454, 'clustering': 0.7286195286195286, 'PC': -12.983730581580533, 'modules': 1}, 46: {'centrality': 0.0024500929994082806, 'clustering': 0.7007575757575758, 'PC': -54.39825810821735, 'modules': 2}, 47: {'centrality': 0.003314186983311501, 'clustering': 0.7351502445842069, 'PC': -6.9017428494989685, 'modules': 1}, 48: {'centrality': 0.0061381917467055735, 'clustering': 0.6784434203789043, 'PC': 0.07320795844820238, 'modules': 4}, 49: {'centrality': 0.0048546219693152695, 'clustering': 0.7032786885245902, 'PC': -6.014161182843948, 'modules': 1}, 50: {'centrality': 0.003780612665418947, 'clustering': 0.7329047340736411, 'PC': -4.991871652081121, 'modules': 1}, 51: {'centrality': 0.004821180441239273, 'clustering': 0.7080909571655208, 'PC': -5.113859612997895, 'modules': 1}, 52: {'centrality': 0.004680220665888528, 'clustering': 0.7005444646098004, 'PC': -4.810651553178125, 'modules': 1}, 53: {'centrality': 0.003747714739044786, 'clustering': 0.7257142857142858, 'PC': -16.742599383342576, 'modules': 1}, 54: {'centrality': 0.0040771983250403295, 'clustering': 0.705800139762404, 'PC': -1.9564872943866352, 'modules': 4}, 55: {'centrality': 0.006280640868493545, 'clustering': 0.6811210999471179, 'PC': -0.7146780207970378, 'modules': 1}, 56: {'centrality': 0.004908137164977363, 'clustering': 0.7043715846994536, 'PC': -4.26435574878682, 'modules': 1}, 57: {'centrality': 0.00973690250421171, 'clustering': 0.6010928961748634, 'PC': -0.7892119003604705, 'modules': 3}, 58: {'centrality': 0.004495086699527979, 'clustering': 0.7120218579234973, 'PC': -3.8430907846414444, 'modules': 4}, 59: {'centrality': 0.005040039229408756, 'clustering': 0.5470085470085471, 'PC': 0.12008245247832428, 'modules': 1}, 60: {'centrality': 0.004594608829419821, 'clustering': 0.6981132075471698, 'PC': -5.817761189027465, 'modules': 1}, 61: {'centrality': 0.01312933742205124, 'clustering': 0.5958041958041959, 'PC': 0.02486079873042124, 'modules': 4}, 62: {'centrality': 0.0031075816191374127, 'clustering': 0.7091836734693877, 'PC': -2.3606720252093885, 'modules': 5}, 63: {'centrality': 0.00713427018414999, 'clustering': 0.638961038961039, 'PC': -1.0815619219757302, 'modules': 1}, 64: {'centrality': 0.0028049362128225357, 'clustering': 0.7414965986394558, 'PC': -16.753787506842585, 'modules': 5}, 65: {'centrality': 0.007867422716700562, 'clustering': 0.6484848484848484, 'PC': -1.2180592098341307, 'modules': 1}, 66: {'centrality': 0.005626126260900243, 'clustering': 0.6819672131147541, 'PC': -2.3148335755758453, 'modules': 5}, 67: {'centrality': 0.0046932718998574235, 'clustering': 0.7054644808743169, 'PC': -0.8728736145217522, 'modules': 4}, 68: {'centrality': 0.0038709401509369286, 'clustering': 0.7295597484276729, 'PC': -4.85852119673616, 'modules': 5}, 69: {'centrality': 0.007692424019983939, 'clustering': 0.5942684766214178, 'PC': -3.6492751234366736, 'modules': 3}, 70: {'centrality': 0.0026298687658100153, 'clustering': 0.7437557816836263, 'PC': -4.451451548909475, 'modules': 6}, 71: {'centrality': 0.00853293752766019, 'clustering': 0.6110102843315185, 'PC': -0.7338199627954387, 'modules': 3}, 72: {'centrality': 0.004979674877020149, 'clustering': 0.6988388969521045, 'PC': -10.571140450666961, 'modules': 1}, 73: {'centrality': 0.005947131105656626, 'clustering': 0.6845878136200717, 'PC': -6.328187864444492, 'modules': 4}, 74: {'centrality': 0.007894595473733284, 'clustering': 0.6206636500754148, 'PC': -1.727022051229215, 'modules': 4}, 75: {'centrality': 0.005155795722486779, 'clustering': 0.6625544267053701, 'PC': -5.316170974723335, 'modules': 5}, 76: {'centrality': 0.005829683611651752, 'clustering': 0.6589371980676328, 'PC': -1.417182682622971, 'modules': 4}, 77: {'centrality': 0.005498246896390435, 'clustering': 0.6954545454545454, 'PC': -2.606095695343968, 'modules': 4}, 78: {'centrality': 0.0028139380560153093, 'clustering': 0.7631027253668763, 'PC': -8.256908165716338, 'modules': 5}, 79: {'centrality': 0.00321107854887138, 'clustering': 0.7428355957767723, 'PC': -4.341724003425407, 'modules': 6}, 80: {'centrality': 0.009873379450735712, 'clustering': 0.507399577167019, 'PC': -5.973272866328267, 'modules': 2}, 81: {'centrality': 0.009857978344323025, 'clustering': 0.6, 'PC': -1.0360312469415538, 'modules': 4}, 82: {'centrality': 0.004481582696231425, 'clustering': 0.6894049346879536, 'PC': -3.2853155827051435, 'modules': 4}, 83: {'centrality': 0.005971835600305406, 'clustering': 0.6778476589797344, 'PC': -1.8020682004231063, 'modules': 4}, 84: {'centrality': 0.008376727667330603, 'clustering': 0.5303030303030303, 'PC': -3.001367451930009, 'modules': 4}, 85: {'centrality': 0.004102513939763891, 'clustering': 0.6995645863570392, 'PC': -2.903856328833683, 'modules': 7}, 86: {'centrality': 0.005728641804420161, 'clustering': 0.6715583508036338, 'PC': -14.841446124392208, 'modules': 5}, 87: {'centrality': 0.007806909604805046, 'clustering': 0.5834542815674891, 'PC': -1.6884138217565923, 'modules': 2}, 88: {'centrality': 0.008065998259261803, 'clustering': 0.6215488215488215, 'PC': -1.6534979540483845, 'modules': 4}, 89: {'centrality': 0.00478883550986361, 'clustering': 0.673469387755102, 'PC': -1.3365861005060986, 'modules': 4}, 90: {'centrality': 0.002649909684422194, 'clustering': 0.7345050878815911, 'PC': -5.2125074237026965, 'modules': 7}, 91: {'centrality': 0.0074396933361095905, 'clustering': 0.643265306122449, 'PC': -1.071905134856968, 'modules': 4}, 92: {'centrality': 0.006382731374066925, 'clustering': 0.6799758015728977, 'PC': -2.882908242529774, 'modules': 4}, 93: {'centrality': 0.002259377465477576, 'clustering': 0.7756862745098039, 'PC': -13.469435891056907, 'modules': 6}, 94: {'centrality': 0.003175855487324343, 'clustering': 0.7104532839962997, 'PC': -5.279551153251236, 'modules': 7}, 95: {'centrality': 0.00346174016157796, 'clustering': 0.6681681681681682, 'PC': -45605.099632383, 'modules': 2}, 96: {'centrality': 0.009057932573721622, 'clustering': 0.5365402405180388, 'PC': -27.279013620118796, 'modules': 2}, 97: {'centrality': 0.0023530862765810843, 'clustering': 0.5815384615384616, 'PC': -609.6236242518138, 'modules': 7}, 98: {'centrality': 0.0038171686692841105, 'clustering': 0.7293233082706767, 'PC': -24.473398861494818, 'modules': 5}, 99: {'centrality': 0.0036685973311354095, 'clustering': 0.7344155844155844, 'PC': -7.317192254193634, 'modules': 5}})"
      ]
     },
     "execution_count": 6,
     "metadata": {},
     "output_type": "execute_result"
    }
   ],
   "source": [
    "summary_dict['NR']['no']['graphs'].nodes(data=True)"
   ]
  },
  {
   "cell_type": "code",
   "execution_count": 7,
   "metadata": {},
   "outputs": [
    {
     "name": "stdout",
     "output_type": "stream",
     "text": [
      "/Users/gracer/Google Drive/HCP/HCP_graph/1200/datasets/tmp/7_subgraph_dict_08-31-2020_10-01-32\n"
     ]
    }
   ],
   "source": [
    "latest_file=an.find_latest(os.path.join(basepath,'tmp'),'7_*')\n",
    "subgraph_dict=an.onetoughjar(latest_file)"
   ]
  },
  {
   "cell_type": "code",
   "execution_count": 8,
   "metadata": {},
   "outputs": [
    {
     "data": {
      "text/plain": [
       "NodeDataView({0: {'centrality': 0.0064897671177409555, 'clustering': 0.6437710437710438, 'PC': 0.7357095304000456, 'modules': 0, 'zDegree': -0.3444005599566023, 'sub_modules': 0, 'sub_zDegree': 0.0}, 24: {'centrality': 0.01252232649388041, 'clustering': 0.6076388888888888, 'PC': 0.680346907450359, 'modules': 0, 'zDegree': -0.3444005599566023, 'sub_modules': 1, 'sub_zDegree': 0.0}, 38: {'centrality': 0.0065647443593222984, 'clustering': 0.5475609756097561, 'PC': 0.6335861534898246, 'modules': 0, 'zDegree': -0.3444005599566023, 'sub_modules': 2, 'sub_zDegree': 0.0}, 31: {'centrality': 0.011105955087203292, 'clustering': 0.6101694915254238, 'PC': 0.6983508309851283, 'modules': 0, 'zDegree': -0.3444005599566023, 'sub_modules': 3, 'sub_zDegree': 0.0}})"
      ]
     },
     "execution_count": 8,
     "metadata": {},
     "output_type": "execute_result"
    }
   ],
   "source": [
    "subgraph_dict['no'][0].nodes(data=True)"
   ]
  },
  {
   "cell_type": "code",
   "execution_count": 9,
   "metadata": {
    "scrolled": true
   },
   "outputs": [
    {
     "data": {
      "text/html": [
       "<div>\n",
       "<style scoped>\n",
       "    .dataframe tbody tr th:only-of-type {\n",
       "        vertical-align: middle;\n",
       "    }\n",
       "\n",
       "    .dataframe tbody tr th {\n",
       "        vertical-align: top;\n",
       "    }\n",
       "\n",
       "    .dataframe thead th {\n",
       "        text-align: right;\n",
       "    }\n",
       "</style>\n",
       "<table border=\"1\" class=\"dataframe\">\n",
       "  <thead>\n",
       "    <tr style=\"text-align: right;\">\n",
       "      <th></th>\n",
       "      <th>centrality</th>\n",
       "      <th>clustering</th>\n",
       "      <th>PC</th>\n",
       "      <th>modules</th>\n",
       "      <th>zDegree</th>\n",
       "      <th>sub_modules</th>\n",
       "      <th>sub_zDegree</th>\n",
       "      <th>group</th>\n",
       "      <th>hub</th>\n",
       "      <th>node_type</th>\n",
       "    </tr>\n",
       "  </thead>\n",
       "  <tbody>\n",
       "    <tr>\n",
       "      <th>0</th>\n",
       "      <td>0.006490</td>\n",
       "      <td>0.643771</td>\n",
       "      <td>0.735710</td>\n",
       "      <td>0</td>\n",
       "      <td>-0.344401</td>\n",
       "      <td>0</td>\n",
       "      <td>0.0</td>\n",
       "      <td>normal</td>\n",
       "      <td>no</td>\n",
       "      <td>connector</td>\n",
       "    </tr>\n",
       "    <tr>\n",
       "      <th>24</th>\n",
       "      <td>0.012522</td>\n",
       "      <td>0.607639</td>\n",
       "      <td>0.680347</td>\n",
       "      <td>0</td>\n",
       "      <td>-0.344401</td>\n",
       "      <td>1</td>\n",
       "      <td>0.0</td>\n",
       "      <td>normal</td>\n",
       "      <td>no</td>\n",
       "      <td>connector</td>\n",
       "    </tr>\n",
       "    <tr>\n",
       "      <th>38</th>\n",
       "      <td>0.006565</td>\n",
       "      <td>0.547561</td>\n",
       "      <td>0.633586</td>\n",
       "      <td>0</td>\n",
       "      <td>-0.344401</td>\n",
       "      <td>2</td>\n",
       "      <td>0.0</td>\n",
       "      <td>normal</td>\n",
       "      <td>no</td>\n",
       "      <td>connector</td>\n",
       "    </tr>\n",
       "    <tr>\n",
       "      <th>31</th>\n",
       "      <td>0.011106</td>\n",
       "      <td>0.610169</td>\n",
       "      <td>0.698351</td>\n",
       "      <td>0</td>\n",
       "      <td>-0.344401</td>\n",
       "      <td>3</td>\n",
       "      <td>0.0</td>\n",
       "      <td>normal</td>\n",
       "      <td>no</td>\n",
       "      <td>connector</td>\n",
       "    </tr>\n",
       "  </tbody>\n",
       "</table>\n",
       "</div>"
      ],
      "text/plain": [
       "    centrality  clustering        PC  modules   zDegree  sub_modules  \\\n",
       "0     0.006490    0.643771  0.735710        0 -0.344401            0   \n",
       "24    0.012522    0.607639  0.680347        0 -0.344401            1   \n",
       "38    0.006565    0.547561  0.633586        0 -0.344401            2   \n",
       "31    0.011106    0.610169  0.698351        0 -0.344401            3   \n",
       "\n",
       "    sub_zDegree   group hub  node_type  \n",
       "0           0.0  normal  no  connector  \n",
       "24          0.0  normal  no  connector  \n",
       "38          0.0  normal  no  connector  \n",
       "31          0.0  normal  no  connector  "
      ]
     },
     "execution_count": 9,
     "metadata": {},
     "output_type": "execute_result"
    }
   ],
   "source": [
    "submod_dict['no'][0]"
   ]
  },
  {
   "cell_type": "code",
   "execution_count": 10,
   "metadata": {},
   "outputs": [],
   "source": [
    "for k,v in summary_dict['NR'].items():\n",
    "    # community.induced_graph(partition dictionary, graph)\n",
    "     comm_graph = community.induced_graph(v['modules']['partition'], v['graphs'])\n",
    "     v.update(comm_graph = comm_graph)"
   ]
  },
  {
   "cell_type": "code",
   "execution_count": 11,
   "metadata": {},
   "outputs": [
    {
     "name": "stdout",
     "output_type": "stream",
     "text": [
      "no\n",
      "ov\n",
      "ob\n"
     ]
    }
   ],
   "source": [
    "edges = {}\n",
    "\n",
    "for group, stuff in summary_dict['NR'].items():\n",
    "    print(group)\n",
    "    _df = nx.to_pandas_edgelist(stuff['comm_graph'])\n",
    "#     _df[(_df['source'] != _df['target']), 'weight'] == 0\n",
    "    _df.loc[(_df['source'] == _df['target']), 'weight'] = 0\n",
    "\n",
    "    _df['group']=group\n",
    "    edges[group]=_df\n",
    "\n",
    "edge_df=pd.concat(list(edges.values()))"
   ]
  },
  {
   "cell_type": "code",
   "execution_count": 12,
   "metadata": {},
   "outputs": [
    {
     "data": {
      "text/html": [
       "<div>\n",
       "<style scoped>\n",
       "    .dataframe tbody tr th:only-of-type {\n",
       "        vertical-align: middle;\n",
       "    }\n",
       "\n",
       "    .dataframe tbody tr th {\n",
       "        vertical-align: top;\n",
       "    }\n",
       "\n",
       "    .dataframe thead th {\n",
       "        text-align: right;\n",
       "    }\n",
       "</style>\n",
       "<table border=\"1\" class=\"dataframe\">\n",
       "  <thead>\n",
       "    <tr style=\"text-align: right;\">\n",
       "      <th></th>\n",
       "      <th>source</th>\n",
       "      <th>target</th>\n",
       "      <th>weight</th>\n",
       "      <th>group</th>\n",
       "    </tr>\n",
       "  </thead>\n",
       "  <tbody>\n",
       "    <tr>\n",
       "      <th>0</th>\n",
       "      <td>0</td>\n",
       "      <td>0</td>\n",
       "      <td>0.000000</td>\n",
       "      <td>no</td>\n",
       "    </tr>\n",
       "    <tr>\n",
       "      <th>1</th>\n",
       "      <td>0</td>\n",
       "      <td>1</td>\n",
       "      <td>3.152175</td>\n",
       "      <td>no</td>\n",
       "    </tr>\n",
       "    <tr>\n",
       "      <th>2</th>\n",
       "      <td>0</td>\n",
       "      <td>2</td>\n",
       "      <td>-0.499674</td>\n",
       "      <td>no</td>\n",
       "    </tr>\n",
       "    <tr>\n",
       "      <th>3</th>\n",
       "      <td>0</td>\n",
       "      <td>3</td>\n",
       "      <td>-0.182275</td>\n",
       "      <td>no</td>\n",
       "    </tr>\n",
       "    <tr>\n",
       "      <th>4</th>\n",
       "      <td>0</td>\n",
       "      <td>4</td>\n",
       "      <td>-0.273101</td>\n",
       "      <td>no</td>\n",
       "    </tr>\n",
       "    <tr>\n",
       "      <th>...</th>\n",
       "      <td>...</td>\n",
       "      <td>...</td>\n",
       "      <td>...</td>\n",
       "      <td>...</td>\n",
       "    </tr>\n",
       "    <tr>\n",
       "      <th>40</th>\n",
       "      <td>6</td>\n",
       "      <td>7</td>\n",
       "      <td>0.296809</td>\n",
       "      <td>ob</td>\n",
       "    </tr>\n",
       "    <tr>\n",
       "      <th>41</th>\n",
       "      <td>6</td>\n",
       "      <td>8</td>\n",
       "      <td>0.585246</td>\n",
       "      <td>ob</td>\n",
       "    </tr>\n",
       "    <tr>\n",
       "      <th>42</th>\n",
       "      <td>7</td>\n",
       "      <td>7</td>\n",
       "      <td>0.000000</td>\n",
       "      <td>ob</td>\n",
       "    </tr>\n",
       "    <tr>\n",
       "      <th>43</th>\n",
       "      <td>7</td>\n",
       "      <td>8</td>\n",
       "      <td>0.624541</td>\n",
       "      <td>ob</td>\n",
       "    </tr>\n",
       "    <tr>\n",
       "      <th>44</th>\n",
       "      <td>8</td>\n",
       "      <td>8</td>\n",
       "      <td>0.000000</td>\n",
       "      <td>ob</td>\n",
       "    </tr>\n",
       "  </tbody>\n",
       "</table>\n",
       "<p>136 rows × 4 columns</p>\n",
       "</div>"
      ],
      "text/plain": [
       "    source  target    weight group\n",
       "0        0       0  0.000000    no\n",
       "1        0       1  3.152175    no\n",
       "2        0       2 -0.499674    no\n",
       "3        0       3 -0.182275    no\n",
       "4        0       4 -0.273101    no\n",
       "..     ...     ...       ...   ...\n",
       "40       6       7  0.296809    ob\n",
       "41       6       8  0.585246    ob\n",
       "42       7       7  0.000000    ob\n",
       "43       7       8  0.624541    ob\n",
       "44       8       8  0.000000    ob\n",
       "\n",
       "[136 rows x 4 columns]"
      ]
     },
     "execution_count": 12,
     "metadata": {},
     "output_type": "execute_result"
    }
   ],
   "source": [
    "edge_df"
   ]
  },
  {
   "cell_type": "code",
   "execution_count": 13,
   "metadata": {},
   "outputs": [
    {
     "data": {
      "text/plain": [
       "dict_keys(['mean_FC', 'graphs', 'clustering_coeff', 'btn_centrality', 'PC', 'modules', 'edge_btw', 'comm_graph'])"
      ]
     },
     "execution_count": 13,
     "metadata": {},
     "output_type": "execute_result"
    }
   ],
   "source": [
    "summary_dict['NR']['no'].keys()"
   ]
  },
  {
   "cell_type": "code",
   "execution_count": 14,
   "metadata": {},
   "outputs": [],
   "source": [
    "def zscore(col):\n",
    "    col_z = (col - col.mean())/col.std(ddof=0)\n",
    "    return(col_z)"
   ]
  },
  {
   "cell_type": "code",
   "execution_count": 15,
   "metadata": {},
   "outputs": [
    {
     "name": "stderr",
     "output_type": "stream",
     "text": [
      "09-01-2020_06-44-52 NumExpr defaulting to 4 threads. \n"
     ]
    }
   ],
   "source": [
    "edge_df['z_weight']=zscore(edge_df['weight'])"
   ]
  },
  {
   "cell_type": "code",
   "execution_count": 16,
   "metadata": {},
   "outputs": [],
   "source": [
    "for k,v in summary_dict['NR'].items():\n",
    "    test=edge_df[edge_df['group']==k]\n",
    "    keyz = list(zip(test['source'],test['target']))\n",
    "    values=test['z_weight']\n",
    "    up_dict={}\n",
    "    for i in range(len(keyz)):\n",
    "        up_dict[keyz[i]]={'z_edge':values[i]}\n",
    "    nx.set_edge_attributes(v['comm_graph'], up_dict)\n"
   ]
  },
  {
   "cell_type": "code",
   "execution_count": 17,
   "metadata": {},
   "outputs": [
    {
     "name": "stdout",
     "output_type": "stream",
     "text": [
      "no\n",
      "8\n",
      "ov\n",
      "10\n",
      "ob\n",
      "9\n"
     ]
    }
   ],
   "source": [
    "aes_dict={'no':{},\n",
    "          'ov':{},\n",
    "          'ob':{}}\n",
    "for group, stuff in summary_dict['NR'].items():\n",
    "    print(group)\n",
    "    G=stuff['comm_graph']\n",
    "    aes_dict[group]=an.aesthetics(G,15000,100, 'sans-serif', 'Bold', 'z_edge', (80,50), 1)"
   ]
  },
  {
   "cell_type": "code",
   "execution_count": 18,
   "metadata": {
    "scrolled": false
   },
   "outputs": [
    {
     "name": "stdout",
     "output_type": "stream",
     "text": [
      "no\n",
      "8\n",
      "8\n",
      "[0.4375 1.3125 2.1875 3.0625 3.9375 4.8125 5.6875 6.5625]\n",
      "ov\n",
      "10\n",
      "10\n",
      "[0.45 1.35 2.25 3.15 4.05 4.95 5.85 6.75 7.65 8.55]\n",
      "ob\n",
      "9\n",
      "9\n",
      "[0.44444444 1.33333333 2.22222222 3.11111111 4.         4.88888889\n",
      " 5.77777778 6.66666667 7.55555556]\n"
     ]
    }
   ],
   "source": [
    "for key, graph in summary_dict['NR'].items():\n",
    "    print(key)\n",
    "    G=graph['comm_graph']\n",
    "    aes=aes_dict[key]\n",
    "    an.module_fig(G,'%s z-score'%key, basepath, aes)"
   ]
  },
  {
   "cell_type": "code",
   "execution_count": 19,
   "metadata": {},
   "outputs": [
    {
     "data": {
      "text/html": [
       "<div>\n",
       "<style scoped>\n",
       "    .dataframe tbody tr th:only-of-type {\n",
       "        vertical-align: middle;\n",
       "    }\n",
       "\n",
       "    .dataframe tbody tr th {\n",
       "        vertical-align: top;\n",
       "    }\n",
       "\n",
       "    .dataframe thead th {\n",
       "        text-align: right;\n",
       "    }\n",
       "</style>\n",
       "<table border=\"1\" class=\"dataframe\">\n",
       "  <thead>\n",
       "    <tr style=\"text-align: right;\">\n",
       "      <th></th>\n",
       "      <th>Index</th>\n",
       "      <th>label</th>\n",
       "      <th>Unnamed: 2</th>\n",
       "      <th>area</th>\n",
       "      <th>IC</th>\n",
       "    </tr>\n",
       "  </thead>\n",
       "  <tbody>\n",
       "    <tr>\n",
       "      <th>0</th>\n",
       "      <td>73</td>\n",
       "      <td>R_Cerebellum</td>\n",
       "      <td>R_Cerebellum</td>\n",
       "      <td>Cerebellum</td>\n",
       "      <td>IC_73</td>\n",
       "    </tr>\n",
       "    <tr>\n",
       "      <th>1</th>\n",
       "      <td>59</td>\n",
       "      <td>R_Amygdala</td>\n",
       "      <td>R_Amygdala</td>\n",
       "      <td>Amygdala</td>\n",
       "      <td>IC_59</td>\n",
       "    </tr>\n",
       "    <tr>\n",
       "      <th>2</th>\n",
       "      <td>44</td>\n",
       "      <td>R_Auditory_18</td>\n",
       "      <td>R_A4_ROI</td>\n",
       "      <td>Auditory</td>\n",
       "      <td>IC_44</td>\n",
       "    </tr>\n",
       "    <tr>\n",
       "      <th>3</th>\n",
       "      <td>70</td>\n",
       "      <td>BrainStem</td>\n",
       "      <td>BrainStem</td>\n",
       "      <td>BrainStem</td>\n",
       "      <td>IC_70</td>\n",
       "    </tr>\n",
       "    <tr>\n",
       "      <th>4</th>\n",
       "      <td>79</td>\n",
       "      <td>BrainStem</td>\n",
       "      <td>BrainStem</td>\n",
       "      <td>BrainStem</td>\n",
       "      <td>IC_79</td>\n",
       "    </tr>\n",
       "    <tr>\n",
       "      <th>...</th>\n",
       "      <td>...</td>\n",
       "      <td>...</td>\n",
       "      <td>...</td>\n",
       "      <td>...</td>\n",
       "      <td>...</td>\n",
       "    </tr>\n",
       "    <tr>\n",
       "      <th>95</th>\n",
       "      <td>29</td>\n",
       "      <td>R_Visual_29</td>\n",
       "      <td>R_MST_ROI</td>\n",
       "      <td>Visual</td>\n",
       "      <td>IC_29</td>\n",
       "    </tr>\n",
       "    <tr>\n",
       "      <th>96</th>\n",
       "      <td>31</td>\n",
       "      <td>R_Visual_28</td>\n",
       "      <td>R_V3_ROI</td>\n",
       "      <td>Visual</td>\n",
       "      <td>IC_31</td>\n",
       "    </tr>\n",
       "    <tr>\n",
       "      <th>97</th>\n",
       "      <td>38</td>\n",
       "      <td>R_Visual_37</td>\n",
       "      <td>R_V2_ROI</td>\n",
       "      <td>Visual</td>\n",
       "      <td>IC_38</td>\n",
       "    </tr>\n",
       "    <tr>\n",
       "      <th>98</th>\n",
       "      <td>53</td>\n",
       "      <td>NaN</td>\n",
       "      <td>NaN</td>\n",
       "      <td>NaN</td>\n",
       "      <td>IC_53</td>\n",
       "    </tr>\n",
       "    <tr>\n",
       "      <th>99</th>\n",
       "      <td>60</td>\n",
       "      <td>NaN</td>\n",
       "      <td>NaN</td>\n",
       "      <td>NaN</td>\n",
       "      <td>IC_60</td>\n",
       "    </tr>\n",
       "  </tbody>\n",
       "</table>\n",
       "<p>100 rows × 5 columns</p>\n",
       "</div>"
      ],
      "text/plain": [
       "    Index          label    Unnamed: 2        area     IC\n",
       "0      73   R_Cerebellum  R_Cerebellum  Cerebellum  IC_73\n",
       "1      59     R_Amygdala    R_Amygdala    Amygdala  IC_59\n",
       "2      44  R_Auditory_18      R_A4_ROI    Auditory  IC_44\n",
       "3      70      BrainStem     BrainStem   BrainStem  IC_70\n",
       "4      79      BrainStem     BrainStem   BrainStem  IC_79\n",
       "..    ...            ...           ...         ...    ...\n",
       "95     29    R_Visual_29     R_MST_ROI      Visual  IC_29\n",
       "96     31    R_Visual_28      R_V3_ROI      Visual  IC_31\n",
       "97     38    R_Visual_37      R_V2_ROI      Visual  IC_38\n",
       "98     53            NaN           NaN         NaN  IC_53\n",
       "99     60            NaN           NaN         NaN  IC_60\n",
       "\n",
       "[100 rows x 5 columns]"
      ]
     },
     "execution_count": 19,
     "metadata": {},
     "output_type": "execute_result"
    }
   ],
   "source": [
    "labels"
   ]
  },
  {
   "cell_type": "code",
   "execution_count": 20,
   "metadata": {},
   "outputs": [],
   "source": [
    "labels.set_index('Index', inplace=True)"
   ]
  },
  {
   "cell_type": "code",
   "execution_count": 21,
   "metadata": {},
   "outputs": [],
   "source": [
    "lab_dict=labels.to_dict('index')"
   ]
  },
  {
   "cell_type": "code",
   "execution_count": 22,
   "metadata": {},
   "outputs": [],
   "source": [
    "for group, mods in subgraph_dict.items():\n",
    "    for mod, G in mods.items():\n",
    "        nx.set_node_attributes(G,lab_dict, \"labels\")"
   ]
  },
  {
   "cell_type": "code",
   "execution_count": 23,
   "metadata": {
    "scrolled": true
   },
   "outputs": [],
   "source": [
    "g=subgraph_dict['no'][1]"
   ]
  },
  {
   "cell_type": "code",
   "execution_count": 24,
   "metadata": {},
   "outputs": [],
   "source": [
    "nodes, color = zip(*nx.get_node_attributes(g, 'labels').items())"
   ]
  },
  {
   "cell_type": "code",
   "execution_count": 25,
   "metadata": {},
   "outputs": [
    {
     "data": {
      "text/plain": [
       "'Default'"
      ]
     },
     "execution_count": 25,
     "metadata": {},
     "output_type": "execute_result"
    }
   ],
   "source": [
    "nx.get_node_attributes(g, 'labels')[1]['area']\n",
    "# nx.get_node_attributes(g, 'labels').values()\n"
   ]
  },
  {
   "cell_type": "code",
   "execution_count": 26,
   "metadata": {},
   "outputs": [],
   "source": [
    "new={}\n",
    "for x,y in nx.get_node_attributes(g, 'labels').items():\n",
    "#     print(x)\n",
    "    new[x]=y['area']"
   ]
  },
  {
   "cell_type": "code",
   "execution_count": 27,
   "metadata": {},
   "outputs": [
    {
     "data": {
      "text/plain": [
       "{1: 'Default',\n",
       " 6: 'FrontoParietal',\n",
       " 11: 'Default',\n",
       " 13: 'DorsalAttn',\n",
       " 23: 'FrontoParietal',\n",
       " 32: 'FrontoParietal',\n",
       " 39: 'FrontoParietal',\n",
       " 45: 'Cerebellum',\n",
       " 47: 'FrontoParietal',\n",
       " 49: 'Cerebellum',\n",
       " 50: 'Cerebellum',\n",
       " 51: 'Cerebellum',\n",
       " 52: 'Cerebellum',\n",
       " 53: nan,\n",
       " 54: 'Cerebellum',\n",
       " 55: 'Cerebellum',\n",
       " 56: 'Cerebellum',\n",
       " 58: 'Cerebellum',\n",
       " 60: nan,\n",
       " 65: 'Cerebellum',\n",
       " 73: 'Cerebellum'}"
      ]
     },
     "execution_count": 27,
     "metadata": {},
     "output_type": "execute_result"
    }
   ],
   "source": [
    "new"
   ]
  },
  {
   "cell_type": "code",
   "execution_count": 28,
   "metadata": {},
   "outputs": [
    {
     "name": "stdout",
     "output_type": "stream",
     "text": [
      "Default\n",
      "FrontoParietal\n",
      "Default\n",
      "DorsalAttn\n",
      "FrontoParietal\n",
      "FrontoParietal\n",
      "FrontoParietal\n",
      "Cerebellum\n",
      "FrontoParietal\n",
      "Cerebellum\n",
      "Cerebellum\n",
      "Cerebellum\n",
      "Cerebellum\n",
      "nan\n",
      "Cerebellum\n",
      "Cerebellum\n",
      "Cerebellum\n",
      "Cerebellum\n",
      "nan\n",
      "Cerebellum\n",
      "Cerebellum\n"
     ]
    }
   ],
   "source": [
    "for x in color:\n",
    "    print(x['area'])"
   ]
  },
  {
   "cell_type": "code",
   "execution_count": 29,
   "metadata": {},
   "outputs": [],
   "source": [
    "def aesthetics(graph, node_size, font_size, font_family, font_weight, edge_att, plot_size, mod):\n",
    "    aes={'general':{},\n",
    "         'nodes':{},\n",
    "         'edges':{}}\n",
    "    # nodes\n",
    "    color = np.array(list(graph.nodes))\n",
    "    color = np.array(color)\n",
    "    n_color=len(list(set(color)))\n",
    "    print(n_color)\n",
    "    aes['nodes']['color'] = color\n",
    "    aes['nodes']['colormap'] = ['Set3', n_color]\n",
    "    aes['nodes']['n_color'] = n_color\n",
    "    aes['nodes']['max'] = float(color.max())\n",
    "    aes['nodes']['min'] = float(color.min())\n",
    "    aes['nodes']['font_size'] = int(font_size)\n",
    "    aes['nodes']['font_family'] = font_family\n",
    "    aes['nodes']['font_weight'] = font_weight\n",
    "    aes['nodes']['node_size'] = int(node_size)\n",
    "    #edges\n",
    "    aes['edges']['colormap'] = plt.cm.gist_rainbow\n",
    "    edges,weights = zip(*nx.get_edge_attributes(graph,edge_att).items())\n",
    "    weights=np.array(weights)\n",
    "    aes['edges']['width mod'] = mod\n",
    "    aes['edges']['min'] = weights.min()\n",
    "    aes['edges']['max'] = weights.max()\n",
    "    # General\n",
    "    aes['general']['plot_size']=plot_size #tuple 80,50\n",
    "    return(aes)"
   ]
  },
  {
   "cell_type": "code",
   "execution_count": 30,
   "metadata": {},
   "outputs": [],
   "source": [
    "from mpl_toolkits.axes_grid1.inset_locator import inset_axes\n",
    "\n",
    "def basic_graph(graph, scl, FONT, metric, size, tile, basepath, bmi, mod):\n",
    "    #threshold\n",
    "    e,w = zip(*nx.get_edge_attributes(graph, 'weight').items())\n",
    "    purr=np.percentile(w, tile)\n",
    "    g=an.threshold2(graph,purr)\n",
    "    # style\n",
    "    fig = plt.figure(figsize = size)\n",
    "    ax1 = plt.subplot(111, aspect = 'equal')\n",
    "    plt.subplots_adjust(left=0.25, bottom=0, right=0.75, top=1, wspace=0.2, hspace=0)\n",
    "\n",
    "    positions=nx.circular_layout(g)\n",
    "    \n",
    "    # NODES\n",
    "    nodes, color = zip(*nx.get_node_attributes(g, metric).items())\n",
    "    nodes, label = zip(*nx.get_node_attributes(g, 'labels').items())\n",
    "    nodes, size = zip(*nx.get_node_attributes(g, metric).items())\n",
    "    new={}\n",
    "    for x,y in nx.get_node_attributes(g, 'labels').items():\n",
    "        new[x]=y['area']\n",
    "    \n",
    "    #draws nodes\n",
    "    color = np.array(color)\n",
    "    colz=stats.zscore(color)\n",
    "    nColormap=plt.cm.cool \n",
    "    cM=colz.max()\n",
    "    cm=colz.min()\n",
    "\n",
    "    scale=scl/colz.max()\n",
    "    nx.draw_networkx_nodes(g,\n",
    "                             positions,\n",
    "                             node_color=colz,\n",
    "                             node_size=np.square(colz)*scale,\n",
    "                             alpha=0.8,\n",
    "                             cmap= nColormap,\n",
    "                             vmin=cm ,vmax=cM)\n",
    "\n",
    "    #Styling for labels\n",
    "    nx.draw_networkx_labels(g, \n",
    "                            positions,\n",
    "                            new,\n",
    "                            font_size=FONT,\n",
    "                            font_family='sans-serif',\n",
    "                            fontweight = 'bold',\n",
    "                            horizontalalignment = 'center',\n",
    "                            verticalalignment = 'top')\n",
    "\n",
    "\n",
    "    # EDGES \n",
    "    edges,weights = zip(*nx.get_edge_attributes(g, 'weight').items())\n",
    "    #draw edges\n",
    "    weights=np.array(weights)\n",
    "    eColormap=plt.cm.gist_rainbow #check here if you want different colors https://matplotlib.org/3.1.1/gallery/color/colormap_reference.html\n",
    "\n",
    "    nx.draw_networkx_edges(g, \n",
    "                             positions,\n",
    "                             edge_list=edges,\n",
    "                             style='solid',\n",
    "                             width = np.square(weights)*200,\n",
    "                             edge_color = weights,\n",
    "                             edge_cmap=eColormap,\n",
    "                             edge_vmin=weights.min(),\n",
    "                             edge_vmax=weights.max())\n",
    "    \n",
    "    #FInishing touches\n",
    "\n",
    "\n",
    "    plt.axis('off')\n",
    "    if bmi == 'no':\n",
    "        plt.title(\"%s and edge weights of \\n %s graph\"%(metric, 'Average BMI'), fontsize = FONT)\n",
    "    if bmi == 'ov':\n",
    "        plt.title(\"%s and edge weights of \\n %s graph\"%(metric, 'High BMI'), fontsize = FONT)\n",
    "    if bmi == 'ob':\n",
    "        plt.title(\"%s and edge weights of \\n %s graph\"%(metric, 'Very high BMI'), fontsize = FONT)\n",
    "    \n",
    "\n",
    "    axins1 = inset_axes(ax1,\n",
    "                    width=\"2.5%\",  # width = 50% of parent_bbox width\n",
    "                    height=\"100%\",  # height : 5%\n",
    "                    loc='right',\n",
    "                    bbox_to_anchor=(0.15, 0., 1, 1), #(x0, y0, width, height)\n",
    "                    bbox_transform=ax1.transAxes,\n",
    "                    borderpad=1)\n",
    "    \n",
    "    axins2 = inset_axes(ax1,\n",
    "                    width=\"2.5%\",  # width = 50% of parent_bbox width\n",
    "                    height=\"100%\",  # height : 5%\n",
    "                    loc='right',\n",
    "                    bbox_to_anchor=(.25, 0, 1, 1),\n",
    "                    bbox_transform=ax1.transAxes,\n",
    "                    borderpad=1)\n",
    "\n",
    "    sm = plt.cm.ScalarMappable(cmap=eColormap, norm=plt.Normalize(vmin = weights.min(), vmax=weights.max()))\n",
    "    sm._A = []\n",
    "\n",
    "    edge_bar=fig.colorbar(sm, cax=axins1, orientation=\"vertical\")\n",
    "    for l in edge_bar.ax.yaxis.get_ticklabels():\n",
    "        l.set_size(FONT)\n",
    "    edge_bar.set_label('Strength of edge weight', fontsize = FONT)\n",
    "    \n",
    "    sn = plt.cm.ScalarMappable(cmap=nColormap, norm=plt.Normalize(vmin = cm, vmax=cM))\n",
    "    sn._A = []\n",
    "    \n",
    "    rgb = sn.to_rgba(x=colz)\n",
    "    save={}\n",
    "    i = 0\n",
    "    for x,y in nx.get_node_attributes(g, 'labels').items():\n",
    "        save[x]=[y['IC'], y['area'], np.round(rgb[i]*255)]\n",
    "        i=i+1\n",
    "    \n",
    "    node_bar=fig.colorbar(sn, cax=axins2, label='Module value')\n",
    "    for l in node_bar.ax.yaxis.get_ticklabels():\n",
    "        l.set_size(FONT)\n",
    "    node_bar.set_label('%s'%metric,fontsize = FONT)\n",
    "    \n",
    "    \n",
    "    basepath='/Users/gracer/Google Drive/HCP/HCP_graph/1200/images'\n",
    "    if bmi == 'no':\n",
    "        plt.savefig(os.path.join(basepath,\"%s_%s_%s.png\"%(metric, 'Average BMI', mod)), format=\"PNG\")\n",
    "    if bmi == 'ov':\n",
    "        plt.savefig(os.path.join(basepath,\"%s_%s_%s.png\"%(metric, 'High BMI', mod)), format=\"PNG\")\n",
    "    if bmi == 'ob':\n",
    "        plt.savefig(os.path.join(basepath,\"%s_%s_%s.png\"%(metric, 'Very high BMI', mod)), format=\"PNG\")\n",
    "    plt.show()\n",
    "    return(save)\n"
   ]
  },
  {
   "cell_type": "code",
   "execution_count": 35,
   "metadata": {},
   "outputs": [
    {
     "data": {
      "text/plain": [
       "{64: ['IC_64', 'Putamen', array([ 99., 156., 255., 255.])],\n",
       " 97: ['IC_97', 'BrainStem', array([  0., 255., 255., 255.])],\n",
       " 66: ['IC_66', 'Thalamus', array([255.,   0., 255., 255.])],\n",
       " 98: ['IC_98', 'VentralDiencephalon', array([ 78., 177., 255., 255.])],\n",
       " 68: ['IC_68', 'Putamen', array([172.,  83., 255., 255.])],\n",
       " 99: ['IC_99', 'VentralDiencephalon', array([120., 135., 255., 255.])],\n",
       " 75: ['IC_75', 'Putamen', array([121., 134., 255., 255.])],\n",
       " 78: ['IC_78', 'Caudate', array([179.,  76., 255., 255.])],\n",
       " 79: ['IC_79', 'BrainStem', array([205.,  50., 255., 255.])],\n",
       " 85: ['IC_85', 'BrainStem', array([158.,  97., 255., 255.])],\n",
       " 86: ['IC_86', 'Thalamus', array([130., 125., 255., 255.])],\n",
       " 94: ['IC_94', 'BrainStem', array([113., 142., 255., 255.])],\n",
       " 90: ['IC_90', 'BrainStem', array([ 81., 174., 255., 255.])],\n",
       " 62: ['IC_62', 'Caudate', array([227.,  28., 255., 255.])]}"
      ]
     },
     "execution_count": 35,
     "metadata": {},
     "output_type": "execute_result"
    }
   ],
   "source": [
    "basic_graph(subgraph_dict[group][mod], 50000, 50, 'PC', (75,50), 80, basepath, '%s'%group, '%i'%mod)"
   ]
  },
  {
   "cell_type": "code",
   "execution_count": 31,
   "metadata": {
    "scrolled": true
   },
   "outputs": [
    {
     "name": "stdout",
     "output_type": "stream",
     "text": [
      "no\n",
      "2\n",
      "4\n",
      "ov\n",
      "0\n",
      "5\n",
      "ob\n",
      "2\n",
      "6\n"
     ]
    }
   ],
   "source": [
    "wb_con = {\n",
    "    'no':{2:{},4:{}},\n",
    "    'ov': {0:{}, 5:{}},\n",
    "    'ob':{2:{}, 6:{}}\n",
    "}\n",
    "\n",
    "for group, mods in wb_con.items():\n",
    "    print(group)\n",
    "    for mod, blank in mods.items():\n",
    "        print(mod)  \n",
    "        wb_con[group][mod]=basic_graph(subgraph_dict[group][mod], 50000, 50, 'PC', (75,50), 80, basepath, '%s'%group, '%i'%mod)"
   ]
  },
  {
   "cell_type": "markdown",
   "metadata": {},
   "source": [
    "## Get the colors for workbench"
   ]
  },
  {
   "cell_type": "code",
   "execution_count": 32,
   "metadata": {
    "scrolled": true
   },
   "outputs": [
    {
     "name": "stdout",
     "output_type": "stream",
     "text": [
      "no\n",
      "2\n",
      "2\n",
      "[137. 118. 255. 255.]\n",
      "3\n",
      "[  0. 255. 255. 255.]\n",
      "4\n",
      "[240.  15. 255. 255.]\n",
      "7\n",
      "[ 40. 215. 255. 255.]\n",
      "10\n",
      "[  4. 251. 255. 255.]\n",
      "12\n",
      "[ 29. 226. 255. 255.]\n",
      "15\n",
      "[ 60. 195. 255. 255.]\n",
      "16\n",
      "[ 14. 241. 255. 255.]\n",
      "17\n",
      "[198.  57. 255. 255.]\n",
      "18\n",
      "[151. 104. 255. 255.]\n",
      "19\n",
      "[ 69. 186. 255. 255.]\n",
      "20\n",
      "[ 71. 184. 255. 255.]\n",
      "22\n",
      "[ 82. 173. 255. 255.]\n",
      "26\n",
      "[ 69. 186. 255. 255.]\n",
      "27\n",
      "[ 19. 236. 255. 255.]\n",
      "29\n",
      "[ 32. 223. 255. 255.]\n",
      "30\n",
      "[255.   0. 255. 255.]\n",
      "33\n",
      "[ 84. 171. 255. 255.]\n",
      "34\n",
      "[ 64. 191. 255. 255.]\n",
      "37\n",
      "[ 74. 181. 255. 255.]\n",
      "40\n",
      "[ 72. 183. 255. 255.]\n",
      "42\n",
      "[ 73. 182. 255. 255.]\n",
      "44\n",
      "[ 18. 237. 255. 255.]\n",
      "46\n",
      "[ 50. 205. 255. 255.]\n",
      "80\n",
      "[ 90. 165. 255. 255.]\n",
      "87\n",
      "[152. 103. 255. 255.]\n",
      "95\n",
      "[  5. 250. 255. 255.]\n",
      "96\n",
      "[101. 154. 255. 255.]\n",
      "4\n",
      "64\n",
      "[  0. 255. 255. 255.]\n",
      "66\n",
      "[180.  75. 255. 255.]\n",
      "67\n",
      "[223.  32. 255. 255.]\n",
      "68\n",
      "[146. 109. 255. 255.]\n",
      "75\n",
      "[ 64. 191. 255. 255.]\n",
      "14\n",
      "[211.  44. 255. 255.]\n",
      "78\n",
      "[160.  95. 255. 255.]\n",
      "48\n",
      "[226.  29. 255. 255.]\n",
      "86\n",
      "[102. 153. 255. 255.]\n",
      "25\n",
      "[205.  50. 255. 255.]\n",
      "63\n",
      "[255.   0. 255. 255.]\n",
      "62\n",
      "[107. 148. 255. 255.]\n",
      "57\n",
      "[204.  51. 255. 255.]\n",
      "ov\n",
      "0\n",
      "0\n",
      "[255.   0. 255. 255.]\n",
      "2\n",
      "[ 27. 228. 255. 255.]\n",
      "3\n",
      "[ 21. 234. 255. 255.]\n",
      "7\n",
      "[ 39. 216. 255. 255.]\n",
      "10\n",
      "[  2. 253. 255. 255.]\n",
      "12\n",
      "[ 38. 217. 255. 255.]\n",
      "15\n",
      "[ 23. 232. 255. 255.]\n",
      "16\n",
      "[ 32. 223. 255. 255.]\n",
      "18\n",
      "[107. 148. 255. 255.]\n",
      "19\n",
      "[150. 105. 255. 255.]\n",
      "20\n",
      "[ 92. 163. 255. 255.]\n",
      "22\n",
      "[183.  72. 255. 255.]\n",
      "24\n",
      "[160.  95. 255. 255.]\n",
      "26\n",
      "[128. 127. 255. 255.]\n",
      "27\n",
      "[  0. 255. 255. 255.]\n",
      "29\n",
      "[ 77. 178. 255. 255.]\n",
      "31\n",
      "[150. 105. 255. 255.]\n",
      "33\n",
      "[174.  81. 255. 255.]\n",
      "34\n",
      "[150. 105. 255. 255.]\n",
      "37\n",
      "[150. 105. 255. 255.]\n",
      "38\n",
      "[ 78. 177. 255. 255.]\n",
      "40\n",
      "[ 88. 167. 255. 255.]\n",
      "42\n",
      "[ 94. 161. 255. 255.]\n",
      "44\n",
      "[ 50. 205. 255. 255.]\n",
      "46\n",
      "[ 61. 194. 255. 255.]\n",
      "80\n",
      "[ 94. 161. 255. 255.]\n",
      "95\n",
      "[ 10. 245. 255. 255.]\n",
      "96\n",
      "[113. 142. 255. 255.]\n",
      "5\n",
      "64\n",
      "[  0. 255. 255. 255.]\n",
      "66\n",
      "[255.   0. 255. 255.]\n",
      "68\n",
      "[119. 136. 255. 255.]\n",
      "75\n",
      "[ 79. 176. 255. 255.]\n",
      "78\n",
      "[117. 138. 255. 255.]\n",
      "86\n",
      "[166.  89. 255. 255.]\n",
      "62\n",
      "[196.  59. 255. 255.]\n",
      "ob\n",
      "2\n",
      "96\n",
      "[190.  65. 255. 255.]\n",
      "2\n",
      "[214.  41. 255. 255.]\n",
      "3\n",
      "[ 12. 243. 255. 255.]\n",
      "7\n",
      "[104. 151. 255. 255.]\n",
      "40\n",
      "[229.  26. 255. 255.]\n",
      "10\n",
      "[  0. 255. 255. 255.]\n",
      "42\n",
      "[240.  15. 255. 255.]\n",
      "12\n",
      "[ 94. 161. 255. 255.]\n",
      "44\n",
      "[144. 111. 255. 255.]\n",
      "46\n",
      "[160.  95. 255. 255.]\n",
      "15\n",
      "[ 74. 181. 255. 255.]\n",
      "16\n",
      "[ 26. 229. 255. 255.]\n",
      "80\n",
      "[117. 138. 255. 255.]\n",
      "18\n",
      "[218.  37. 255. 255.]\n",
      "19\n",
      "[255.   0. 255. 255.]\n",
      "20\n",
      "[188.  67. 255. 255.]\n",
      "27\n",
      "[ 12. 243. 255. 255.]\n",
      "29\n",
      "[121. 134. 255. 255.]\n",
      "95\n",
      "[ 33. 222. 255. 255.]\n",
      "6\n",
      "64\n",
      "[ 99. 156. 255. 255.]\n",
      "97\n",
      "[  0. 255. 255. 255.]\n",
      "66\n",
      "[255.   0. 255. 255.]\n",
      "98\n",
      "[ 78. 177. 255. 255.]\n",
      "68\n",
      "[172.  83. 255. 255.]\n",
      "99\n",
      "[120. 135. 255. 255.]\n",
      "75\n",
      "[121. 134. 255. 255.]\n",
      "78\n",
      "[179.  76. 255. 255.]\n",
      "79\n",
      "[205.  50. 255. 255.]\n",
      "85\n",
      "[158.  97. 255. 255.]\n",
      "86\n",
      "[130. 125. 255. 255.]\n",
      "94\n",
      "[113. 142. 255. 255.]\n",
      "90\n",
      "[ 81. 174. 255. 255.]\n",
      "62\n",
      "[227.  28. 255. 255.]\n"
     ]
    }
   ],
   "source": [
    "for group, mods in wb_con.items():\n",
    "    print(group)\n",
    "    for mod, data in mods.items():\n",
    "        print(mod)\n",
    "        writepath = os.path.join(basepath,'%s_%i.txt'%(group, mod))\n",
    "        f = open(writepath, \"w\")\n",
    "        for key, value in data.items():\n",
    "            print(key)\n",
    "            x = value[2]\n",
    "            print(x)\n",
    "            f.write('LABEL_%i\\n'%(key+1))\n",
    "            f.write('%i %i %i %i %i\\n'%(key+1, x[0], x[1], x[2], x[3]))\n",
    "        f.close()"
   ]
  },
  {
   "cell_type": "markdown",
   "metadata": {},
   "source": [
    "## Get ICnames"
   ]
  },
  {
   "cell_type": "code",
   "execution_count": 33,
   "metadata": {},
   "outputs": [],
   "source": [
    "g = subgraph_dict['ob'][6]\n",
    "new={}\n",
    "for x,y in nx.get_node_attributes(g, 'labels').items():\n",
    "        new[x]=[y['IC'], y['area']]"
   ]
  },
  {
   "cell_type": "code",
   "execution_count": 34,
   "metadata": {},
   "outputs": [
    {
     "data": {
      "text/plain": [
       "{64: ['IC_64', 'Putamen'],\n",
       " 97: ['IC_97', 'BrainStem'],\n",
       " 66: ['IC_66', 'Thalamus'],\n",
       " 98: ['IC_98', 'VentralDiencephalon'],\n",
       " 68: ['IC_68', 'Putamen'],\n",
       " 99: ['IC_99', 'VentralDiencephalon'],\n",
       " 75: ['IC_75', 'Putamen'],\n",
       " 78: ['IC_78', 'Caudate'],\n",
       " 79: ['IC_79', 'BrainStem'],\n",
       " 85: ['IC_85', 'BrainStem'],\n",
       " 86: ['IC_86', 'Thalamus'],\n",
       " 94: ['IC_94', 'BrainStem'],\n",
       " 90: ['IC_90', 'BrainStem'],\n",
       " 62: ['IC_62', 'Caudate']}"
      ]
     },
     "execution_count": 34,
     "metadata": {},
     "output_type": "execute_result"
    }
   ],
   "source": [
    "new"
   ]
  },
  {
   "cell_type": "code",
   "execution_count": null,
   "metadata": {},
   "outputs": [],
   "source": []
  }
 ],
 "metadata": {
  "kernelspec": {
   "display_name": "Python 3",
   "language": "python",
   "name": "python3"
  },
  "language_info": {
   "codemirror_mode": {
    "name": "ipython",
    "version": 3
   },
   "file_extension": ".py",
   "mimetype": "text/x-python",
   "name": "python",
   "nbconvert_exporter": "python",
   "pygments_lexer": "ipython3",
   "version": "3.7.2"
  }
 },
 "nbformat": 4,
 "nbformat_minor": 4
}
