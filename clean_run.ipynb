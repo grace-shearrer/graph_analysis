{
 "cells": [
  {
   "cell_type": "code",
   "execution_count": 1,
   "metadata": {},
   "outputs": [],
   "source": [
    "import pandas as pd\n",
    "import glob\n",
    "import os\n",
    "import numpy as np\n",
    "import pickle\n",
    "import statistics\n",
    "import community\n",
    "import matplotlib as mlp\n",
    "# mlp.use(\"Qt5Agg\")\n",
    "import matplotlib.pyplot as plt\n",
    "%matplotlib inline\n",
    "import networkx as nx\n",
    "\n",
    "import analysis as an\n",
    "import pandas as pd\n",
    "\n",
    "\n",
    "import numpy as np\n",
    "import seaborn as sns\n",
    "\n",
    "from scipy import stats \n",
    "import scipy\n",
    "import pprint as pp"
   ]
  },
  {
   "cell_type": "code",
   "execution_count": 2,
   "metadata": {},
   "outputs": [],
   "source": [
    "def zscore(col):\n",
    "    col_z = (col - col.mean())/col.std(ddof=0)\n",
    "    return(col_z)"
   ]
  },
  {
   "cell_type": "code",
   "execution_count": 3,
   "metadata": {},
   "outputs": [],
   "source": [
    "p='/Users/gracer/Google Drive/HCP/HCP_graph/1200/'\n",
    "atlas=pd.read_csv(os.path.join(p,'brains','atlas.csv'), sep=',')\n"
   ]
  },
  {
   "cell_type": "code",
   "execution_count": 4,
   "metadata": {},
   "outputs": [],
   "source": [
    "labels = pd.read_csv('/Users/gracer/Google Drive/HCP/HCP_graph/1200/datasets/tmp/mod_labels.csv', sep=',')"
   ]
  },
  {
   "cell_type": "code",
   "execution_count": 5,
   "metadata": {},
   "outputs": [],
   "source": [
    "basepath='/Users/gracer/Google Drive/HCP/HCP_graph/1200/datasets/'"
   ]
  },
  {
   "cell_type": "code",
   "execution_count": 6,
   "metadata": {},
   "outputs": [
    {
     "name": "stdout",
     "output_type": "stream",
     "text": [
      "/Users/gracer/Google Drive/HCP/HCP_graph/1200/datasets/tmp/6_submod_dict_09-14-2020_04-46-07\n"
     ]
    }
   ],
   "source": [
    "latest_file=an.find_latest(os.path.join(basepath,'tmp'),'6_*')\n",
    "submod_dict=an.onetoughjar(latest_file)"
   ]
  },
  {
   "cell_type": "code",
   "execution_count": 7,
   "metadata": {},
   "outputs": [
    {
     "name": "stdout",
     "output_type": "stream",
     "text": [
      "/Users/gracer/Google Drive/HCP/HCP_graph/1200/datasets/tmp/5_summary_dict_09-14-2020_04-30-45\n",
      "no\n",
      "ov\n",
      "ob\n"
     ]
    }
   ],
   "source": [
    "latest_file=an.find_latest(os.path.join(basepath,'tmp'),'5_*')\n",
    "presummary_dict=an.onetoughjar(latest_file)\n",
    "summary_dict = {}\n",
    "for key, value in presummary_dict.items():\n",
    "    print(key)\n",
    "    summary_dict[key] = {**value[0], **value[1]}\n"
   ]
  },
  {
   "cell_type": "code",
   "execution_count": 11,
   "metadata": {},
   "outputs": [
    {
     "data": {
      "text/plain": [
       "dict_keys(['mean_FC', 'graphs', 'modules', 'corrmat', 'clustering_coeff', 'btn_centrality', 'PC'])"
      ]
     },
     "execution_count": 11,
     "metadata": {},
     "output_type": "execute_result"
    }
   ],
   "source": [
    "summary_dict['no'].keys()"
   ]
  },
  {
   "cell_type": "code",
   "execution_count": 9,
   "metadata": {},
   "outputs": [
    {
     "name": "stdout",
     "output_type": "stream",
     "text": [
      "/Users/gracer/Google Drive/HCP/HCP_graph/1200/datasets/tmp/7_subgraph_dict_09-14-2020_04-48-27\n"
     ]
    }
   ],
   "source": [
    "latest_file=an.find_latest(os.path.join(basepath,'tmp'),'7_*')\n",
    "subgraph_dict=an.onetoughjar(latest_file)"
   ]
  },
  {
   "cell_type": "code",
   "execution_count": 10,
   "metadata": {
    "scrolled": false
   },
   "outputs": [
    {
     "data": {
      "text/plain": [
       "NodeDataView({0: {'clustering': 0.6437710437710438, 'centrality': 0.0064897671177409555, 'PC': 0.7294094283256284, 'sub_modules': 0, 'sub_zDegree': 0.0}, 24: {'clustering': 0.6076388888888888, 'centrality': 0.01252232649388041, 'PC': 0.6808717410992082, 'sub_modules': 1, 'sub_zDegree': 0.0}, 38: {'clustering': 0.5475609756097561, 'centrality': 0.0065647443593222984, 'PC': 0.6353580020933413, 'sub_modules': 2, 'sub_zDegree': 0.0}, 31: {'clustering': 0.6101694915254238, 'centrality': 0.011105955087203292, 'PC': 0.6970049919030915, 'sub_modules': 3, 'sub_zDegree': 0.0}})"
      ]
     },
     "execution_count": 10,
     "metadata": {},
     "output_type": "execute_result"
    }
   ],
   "source": [
    "subgraph_dict['no'][0].nodes(data=True)"
   ]
  },
  {
   "cell_type": "code",
   "execution_count": 12,
   "metadata": {},
   "outputs": [],
   "source": [
    "for k,v in summary_dict.items():\n",
    "    # community.induced_graph(partition dictionary, graph)\n",
    "     comm_graph = community.induced_graph(v['modules']['partition'], v['graphs'])\n",
    "     v.update(comm_graph = comm_graph)"
   ]
  },
  {
   "cell_type": "code",
   "execution_count": 13,
   "metadata": {},
   "outputs": [
    {
     "data": {
      "text/plain": [
       "dict_keys(['mean_FC', 'graphs', 'modules', 'corrmat', 'clustering_coeff', 'btn_centrality', 'PC', 'comm_graph'])"
      ]
     },
     "execution_count": 13,
     "metadata": {},
     "output_type": "execute_result"
    }
   ],
   "source": [
    "summary_dict['no'].keys()"
   ]
  },
  {
   "cell_type": "code",
   "execution_count": 14,
   "metadata": {},
   "outputs": [
    {
     "data": {
      "text/plain": [
       "NodeDataView({0: {}, 1: {}, 2: {}, 3: {}, 4: {}, 5: {}, 6: {}, 7: {}})"
      ]
     },
     "execution_count": 14,
     "metadata": {},
     "output_type": "execute_result"
    }
   ],
   "source": [
    "summary_dict['no']['comm_graph'].nodes(data=True)"
   ]
  },
  {
   "cell_type": "code",
   "execution_count": 15,
   "metadata": {
    "scrolled": true
   },
   "outputs": [
    {
     "data": {
      "text/plain": [
       "NodeDataView({0: {}, 1: {}, 2: {}, 3: {}, 4: {}, 5: {}, 6: {}, 7: {}, 8: {}})"
      ]
     },
     "execution_count": 15,
     "metadata": {},
     "output_type": "execute_result"
    }
   ],
   "source": [
    "summary_dict['ob']['comm_graph'].nodes(data=True)"
   ]
  },
  {
   "cell_type": "code",
   "execution_count": 16,
   "metadata": {},
   "outputs": [
    {
     "data": {
      "text/plain": [
       "NodeDataView({0: {}, 1: {}, 2: {}, 3: {}, 4: {}, 5: {}, 6: {}, 7: {}, 8: {}})"
      ]
     },
     "execution_count": 16,
     "metadata": {},
     "output_type": "execute_result"
    }
   ],
   "source": [
    "summary_dict['ov']['comm_graph'].nodes(data=True)"
   ]
  },
  {
   "cell_type": "code",
   "execution_count": 17,
   "metadata": {},
   "outputs": [
    {
     "name": "stdout",
     "output_type": "stream",
     "text": [
      "no\n",
      "ov\n",
      "ob\n"
     ]
    }
   ],
   "source": [
    "edges = {}\n",
    "\n",
    "for group, stuff in summary_dict.items():\n",
    "    print(group)\n",
    "    _df = nx.to_pandas_edgelist(stuff['comm_graph'])\n",
    "    _df.loc[(_df['source'] == _df['target']), 'weight'] = 0\n",
    "\n",
    "    _df['group']=group\n",
    "    edges[group]=_df\n",
    "\n",
    "edge_df=pd.concat(list(edges.values()))"
   ]
  },
  {
   "cell_type": "code",
   "execution_count": 18,
   "metadata": {},
   "outputs": [
    {
     "name": "stderr",
     "output_type": "stream",
     "text": [
      "09-14-2020_04-54-19 NumExpr defaulting to 4 threads. \n"
     ]
    }
   ],
   "source": [
    "edge_df['z_weight']=zscore(edge_df['weight'])"
   ]
  },
  {
   "cell_type": "code",
   "execution_count": 19,
   "metadata": {},
   "outputs": [
    {
     "data": {
      "text/html": [
       "<div>\n",
       "<style scoped>\n",
       "    .dataframe tbody tr th:only-of-type {\n",
       "        vertical-align: middle;\n",
       "    }\n",
       "\n",
       "    .dataframe tbody tr th {\n",
       "        vertical-align: top;\n",
       "    }\n",
       "\n",
       "    .dataframe thead th {\n",
       "        text-align: right;\n",
       "    }\n",
       "</style>\n",
       "<table border=\"1\" class=\"dataframe\">\n",
       "  <thead>\n",
       "    <tr style=\"text-align: right;\">\n",
       "      <th></th>\n",
       "      <th>source</th>\n",
       "      <th>target</th>\n",
       "      <th>weight</th>\n",
       "      <th>z_weight</th>\n",
       "    </tr>\n",
       "  </thead>\n",
       "  <tbody>\n",
       "    <tr>\n",
       "      <th>count</th>\n",
       "      <td>126.000000</td>\n",
       "      <td>126.000000</td>\n",
       "      <td>126.000000</td>\n",
       "      <td>1.260000e+02</td>\n",
       "    </tr>\n",
       "    <tr>\n",
       "      <th>mean</th>\n",
       "      <td>2.571429</td>\n",
       "      <td>5.142857</td>\n",
       "      <td>-2.550741</td>\n",
       "      <td>3.965082e-18</td>\n",
       "    </tr>\n",
       "    <tr>\n",
       "      <th>std</th>\n",
       "      <td>2.159365</td>\n",
       "      <td>2.175185</td>\n",
       "      <td>11.558860</td>\n",
       "      <td>1.003992e+00</td>\n",
       "    </tr>\n",
       "    <tr>\n",
       "      <th>min</th>\n",
       "      <td>0.000000</td>\n",
       "      <td>0.000000</td>\n",
       "      <td>-82.851796</td>\n",
       "      <td>-6.974876e+00</td>\n",
       "    </tr>\n",
       "    <tr>\n",
       "      <th>25%</th>\n",
       "      <td>1.000000</td>\n",
       "      <td>4.000000</td>\n",
       "      <td>-1.060795</td>\n",
       "      <td>1.294154e-01</td>\n",
       "    </tr>\n",
       "    <tr>\n",
       "      <th>50%</th>\n",
       "      <td>2.000000</td>\n",
       "      <td>5.500000</td>\n",
       "      <td>0.000000</td>\n",
       "      <td>2.215550e-01</td>\n",
       "    </tr>\n",
       "    <tr>\n",
       "      <th>75%</th>\n",
       "      <td>4.000000</td>\n",
       "      <td>7.000000</td>\n",
       "      <td>0.535471</td>\n",
       "      <td>2.680655e-01</td>\n",
       "    </tr>\n",
       "    <tr>\n",
       "      <th>max</th>\n",
       "      <td>8.000000</td>\n",
       "      <td>8.000000</td>\n",
       "      <td>10.353384</td>\n",
       "      <td>1.120840e+00</td>\n",
       "    </tr>\n",
       "  </tbody>\n",
       "</table>\n",
       "</div>"
      ],
      "text/plain": [
       "           source      target      weight      z_weight\n",
       "count  126.000000  126.000000  126.000000  1.260000e+02\n",
       "mean     2.571429    5.142857   -2.550741  3.965082e-18\n",
       "std      2.159365    2.175185   11.558860  1.003992e+00\n",
       "min      0.000000    0.000000  -82.851796 -6.974876e+00\n",
       "25%      1.000000    4.000000   -1.060795  1.294154e-01\n",
       "50%      2.000000    5.500000    0.000000  2.215550e-01\n",
       "75%      4.000000    7.000000    0.535471  2.680655e-01\n",
       "max      8.000000    8.000000   10.353384  1.120840e+00"
      ]
     },
     "execution_count": 19,
     "metadata": {},
     "output_type": "execute_result"
    }
   ],
   "source": [
    "edge_df.describe()"
   ]
  },
  {
   "cell_type": "code",
   "execution_count": 20,
   "metadata": {},
   "outputs": [],
   "source": [
    "for k,v in summary_dict.items():\n",
    "    test=edge_df[edge_df['group']==k]\n",
    "    keyz = list(zip(test['source'],test['target']))\n",
    "    values=test['z_weight']\n",
    "    up_dict={}\n",
    "    for i in range(len(keyz)):\n",
    "        up_dict[keyz[i]]={'z_edge':values[i]}\n",
    "    nx.set_edge_attributes(v['comm_graph'], up_dict)\n"
   ]
  },
  {
   "cell_type": "code",
   "execution_count": 21,
   "metadata": {},
   "outputs": [
    {
     "name": "stdout",
     "output_type": "stream",
     "text": [
      "no\n",
      "8\n",
      "ov\n",
      "9\n",
      "ob\n",
      "9\n"
     ]
    }
   ],
   "source": [
    "aes_dict={'no':{},\n",
    "          'ov':{},\n",
    "          'ob':{}}\n",
    "for group, stuff in summary_dict.items():\n",
    "    print(group)\n",
    "    G=stuff['comm_graph']\n",
    "    aes_dict[group]=an.aesthetics(G,15000,100, 'sans-serif', 'Bold', 'z_edge', (80,50), 1)"
   ]
  },
  {
   "cell_type": "code",
   "execution_count": 22,
   "metadata": {
    "scrolled": false
   },
   "outputs": [
    {
     "name": "stdout",
     "output_type": "stream",
     "text": [
      "no\n",
      "8\n",
      "8\n",
      "[0.4375 1.3125 2.1875 3.0625 3.9375 4.8125 5.6875 6.5625]\n",
      "ov\n",
      "9\n",
      "9\n",
      "[0.44444444 1.33333333 2.22222222 3.11111111 4.         4.88888889\n",
      " 5.77777778 6.66666667 7.55555556]\n",
      "ob\n",
      "9\n",
      "9\n",
      "[0.44444444 1.33333333 2.22222222 3.11111111 4.         4.88888889\n",
      " 5.77777778 6.66666667 7.55555556]\n"
     ]
    }
   ],
   "source": [
    "for key, graph in summary_dict.items():\n",
    "    print(key)\n",
    "    G=graph['comm_graph']\n",
    "    aes=aes_dict[key]\n",
    "    an.module_fig(G,'%s z-score'%key, basepath, aes)"
   ]
  },
  {
   "cell_type": "code",
   "execution_count": 23,
   "metadata": {},
   "outputs": [],
   "source": [
    "labels.set_index('Index', inplace=True)"
   ]
  },
  {
   "cell_type": "code",
   "execution_count": 24,
   "metadata": {},
   "outputs": [],
   "source": [
    "lab_dict=labels.to_dict('index')"
   ]
  },
  {
   "cell_type": "code",
   "execution_count": 25,
   "metadata": {},
   "outputs": [],
   "source": [
    "for group, mods in subgraph_dict.items():\n",
    "    for mod, G in mods.items():\n",
    "        nx.set_node_attributes(G,lab_dict, \"labels\")"
   ]
  },
  {
   "cell_type": "code",
   "execution_count": 26,
   "metadata": {
    "scrolled": true
   },
   "outputs": [],
   "source": [
    "g=subgraph_dict['no'][1]"
   ]
  },
  {
   "cell_type": "code",
   "execution_count": 27,
   "metadata": {},
   "outputs": [],
   "source": [
    "nodes, color = zip(*nx.get_node_attributes(g, 'labels').items())"
   ]
  },
  {
   "cell_type": "code",
   "execution_count": 28,
   "metadata": {},
   "outputs": [
    {
     "data": {
      "text/plain": [
       "'Default'"
      ]
     },
     "execution_count": 28,
     "metadata": {},
     "output_type": "execute_result"
    }
   ],
   "source": [
    "nx.get_node_attributes(g, 'labels')[1]['area']\n",
    "# nx.get_node_attributes(g, 'labels').values()\n"
   ]
  },
  {
   "cell_type": "code",
   "execution_count": 29,
   "metadata": {},
   "outputs": [],
   "source": [
    "new={}\n",
    "for x,y in nx.get_node_attributes(g, 'labels').items():\n",
    "#     print(x)\n",
    "    new[x]=y['area']"
   ]
  },
  {
   "cell_type": "code",
   "execution_count": 30,
   "metadata": {},
   "outputs": [
    {
     "name": "stdout",
     "output_type": "stream",
     "text": [
      "Default\n",
      "FrontoParietal\n",
      "Default\n",
      "Default\n",
      "DorsalAttn\n",
      "Default\n",
      "FrontoParietal\n",
      "None\n",
      "FrontoParietal\n",
      "VentralAttn\n",
      "FrontoParietal\n",
      "Cerebellum\n",
      "FrontoParietal\n",
      "Cerebellum\n",
      "FrontoParietal\n",
      "Cerebellum\n",
      "Cerebellum\n",
      "Cerebellum\n",
      "Cerebellum\n",
      "nan\n",
      "Cerebellum\n",
      "Cerebellum\n",
      "Cerebellum\n",
      "Cerebellum\n",
      "nan\n",
      "Cerebellum\n",
      "Cerebellum\n"
     ]
    }
   ],
   "source": [
    "for x in color:\n",
    "    print(x['area'])"
   ]
  },
  {
   "cell_type": "code",
   "execution_count": null,
   "metadata": {
    "scrolled": true
   },
   "outputs": [],
   "source": [
    "groups = ['no','ov','ob']\n",
    "mods = [2,4,0,5,2,6]\n",
    "cc_=[11,16, 27, 35, 54, 58, 85]\n",
    "for group in groups:\n",
    "    for mod in mods:\n",
    "        for x in cc_:\n",
    "            if x in list(subgraph_dict[group][mod].nodes()):\n",
    "                print('for %s in mod %i and node %i'%(group, mod, x))\n",
    "                print(subgraph_dict[group][mod].nodes(data=True)[x])"
   ]
  },
  {
   "cell_type": "code",
   "execution_count": 31,
   "metadata": {},
   "outputs": [],
   "source": [
    "def aesthetics(graph, node_size, font_size, font_family, font_weight, edge_att, plot_size, mod):\n",
    "    aes={'general':{},\n",
    "         'nodes':{},\n",
    "         'edges':{}}\n",
    "    # nodes\n",
    "    color = np.array(list(graph.nodes))\n",
    "    color = np.array(color)\n",
    "    n_color=len(list(set(color)))\n",
    "    print(n_color)\n",
    "    aes['nodes']['color'] = color\n",
    "    aes['nodes']['colormap'] = ['Set3', n_color]\n",
    "    aes['nodes']['n_color'] = n_color\n",
    "    aes['nodes']['max'] = float(color.max())\n",
    "    aes['nodes']['min'] = float(color.min())\n",
    "    aes['nodes']['font_size'] = int(font_size)\n",
    "    aes['nodes']['font_family'] = font_family\n",
    "    aes['nodes']['font_weight'] = font_weight\n",
    "    aes['nodes']['node_size'] = int(node_size)\n",
    "    #edges\n",
    "    aes['edges']['colormap'] = plt.cm.gist_rainbow\n",
    "    edges,weights = zip(*nx.get_edge_attributes(graph,edge_att).items())\n",
    "    weights=np.array(weights)\n",
    "    aes['edges']['width mod'] = mod\n",
    "    aes['edges']['min'] = weights.min()\n",
    "    aes['edges']['max'] = weights.max()\n",
    "    # General\n",
    "    aes['general']['plot_size']=plot_size #tuple 80,50\n",
    "    return(aes)"
   ]
  },
  {
   "cell_type": "code",
   "execution_count": 32,
   "metadata": {},
   "outputs": [],
   "source": [
    "from mpl_toolkits.axes_grid1.inset_locator import inset_axes\n",
    "\n",
    "def basic_graph(graph, scl, FONT, metric, size, tile, basepath, bmi, mod):\n",
    "    #threshold\n",
    "    e,w = zip(*nx.get_edge_attributes(graph, 'weight').items())\n",
    "    purr=np.percentile(w, tile)\n",
    "    g=an.threshold2(graph,purr)\n",
    "    # style\n",
    "    fig = plt.figure(figsize = size)\n",
    "    ax1 = plt.subplot(111, aspect = 'equal')\n",
    "    plt.subplots_adjust(left=0.25, bottom=0, right=0.75, top=1, wspace=0.2, hspace=0)\n",
    "\n",
    "    positions=nx.circular_layout(g)\n",
    "    \n",
    "    # NODES\n",
    "    nodes, color = zip(*nx.get_node_attributes(g, metric).items())\n",
    "    nodes, label = zip(*nx.get_node_attributes(g, 'labels').items())\n",
    "    nodes, size = zip(*nx.get_node_attributes(g, metric).items())\n",
    "    new={}\n",
    "    for x,y in nx.get_node_attributes(g, 'labels').items():\n",
    "        new[x]=y['area']\n",
    "    \n",
    "    #draws nodes\n",
    "    color = np.array(color)\n",
    "    colz=stats.zscore(color)\n",
    "    nColormap=plt.cm.cool \n",
    "    cM=colz.max()\n",
    "    cm=colz.min()\n",
    "\n",
    "    scale=scl/colz.max()\n",
    "    nx.draw_networkx_nodes(g,\n",
    "                             positions,\n",
    "                             node_color=colz,\n",
    "                             node_size=np.square(colz)*scale,\n",
    "                             alpha=0.8,\n",
    "                             cmap= nColormap,\n",
    "                             vmin=cm ,vmax=cM)\n",
    "\n",
    "    #Styling for labels\n",
    "    nx.draw_networkx_labels(g, \n",
    "                            positions,\n",
    "                            new,\n",
    "                            font_size=FONT,\n",
    "                            font_family='sans-serif',\n",
    "                            fontweight = 'bold',\n",
    "                            horizontalalignment = 'center',\n",
    "                            verticalalignment = 'top')\n",
    "\n",
    "\n",
    "    # EDGES \n",
    "    edges,weights = zip(*nx.get_edge_attributes(g, 'weight').items())\n",
    "    #draw edges\n",
    "    weights=np.array(weights)\n",
    "    eColormap=plt.cm.gist_rainbow #check here if you want different colors https://matplotlib.org/3.1.1/gallery/color/colormap_reference.html\n",
    "\n",
    "    nx.draw_networkx_edges(g, \n",
    "                             positions,\n",
    "                             edge_list=edges,\n",
    "                             style='solid',\n",
    "                             width = np.square(weights)*200,\n",
    "                             edge_color = weights,\n",
    "                             edge_cmap=eColormap,\n",
    "                             edge_vmin=weights.min(),\n",
    "                             edge_vmax=weights.max())\n",
    "    \n",
    "    #FInishing touches\n",
    "\n",
    "\n",
    "    plt.axis('off')\n",
    "    if bmi == 'no':\n",
    "        plt.title(\"%s and edge weights of \\n %s graph\"%(metric, 'Average BMI'), fontsize = FONT)\n",
    "    if bmi == 'ov':\n",
    "        plt.title(\"%s and edge weights of \\n %s graph\"%(metric, 'High BMI'), fontsize = FONT)\n",
    "    if bmi == 'ob':\n",
    "        plt.title(\"%s and edge weights of \\n %s graph\"%(metric, 'Very high BMI'), fontsize = FONT)\n",
    "    \n",
    "\n",
    "    axins1 = inset_axes(ax1,\n",
    "                    width=\"2.5%\",  # width = 50% of parent_bbox width\n",
    "                    height=\"100%\",  # height : 5%\n",
    "                    loc='right',\n",
    "                    bbox_to_anchor=(0.15, 0., 1, 1), #(x0, y0, width, height)\n",
    "                    bbox_transform=ax1.transAxes,\n",
    "                    borderpad=1)\n",
    "    \n",
    "    axins2 = inset_axes(ax1,\n",
    "                    width=\"2.5%\",  # width = 50% of parent_bbox width\n",
    "                    height=\"100%\",  # height : 5%\n",
    "                    loc='right',\n",
    "                    bbox_to_anchor=(.25, 0, 1, 1),\n",
    "                    bbox_transform=ax1.transAxes,\n",
    "                    borderpad=1)\n",
    "\n",
    "    sm = plt.cm.ScalarMappable(cmap=eColormap, norm=plt.Normalize(vmin = weights.min(), vmax=weights.max()))\n",
    "    sm._A = []\n",
    "\n",
    "    edge_bar=fig.colorbar(sm, cax=axins1, orientation=\"vertical\")\n",
    "    for l in edge_bar.ax.yaxis.get_ticklabels():\n",
    "        l.set_size(FONT)\n",
    "    edge_bar.set_label('Strength of edge weight', fontsize = FONT)\n",
    "    \n",
    "    sn = plt.cm.ScalarMappable(cmap=nColormap, norm=plt.Normalize(vmin = cm, vmax=cM))\n",
    "    sn._A = []\n",
    "    \n",
    "    rgb = sn.to_rgba(x=colz)\n",
    "    save={}\n",
    "    i = 0\n",
    "    for x,y in nx.get_node_attributes(g, 'labels').items():\n",
    "        save[x]=[y['IC'], y['area'], np.round(rgb[i]*255)]\n",
    "        i=i+1\n",
    "    \n",
    "    node_bar=fig.colorbar(sn, cax=axins2, label='Module value')\n",
    "    for l in node_bar.ax.yaxis.get_ticklabels():\n",
    "        l.set_size(FONT)\n",
    "    node_bar.set_label('%s'%metric,fontsize = FONT)\n",
    "    \n",
    "    \n",
    "    basepath='/Users/gracer/Google Drive/HCP/HCP_graph/1200/images'\n",
    "    if bmi == 'no':\n",
    "        plt.savefig(os.path.join(basepath,\"%s_%s_%s.png\"%(metric, 'Average BMI', mod)), format=\"PNG\")\n",
    "    if bmi == 'ov':\n",
    "        plt.savefig(os.path.join(basepath,\"%s_%s_%s.png\"%(metric, 'High BMI', mod)), format=\"PNG\")\n",
    "    if bmi == 'ob':\n",
    "        plt.savefig(os.path.join(basepath,\"%s_%s_%s.png\"%(metric, 'Very high BMI', mod)), format=\"PNG\")\n",
    "    plt.show()\n",
    "    return(save)\n"
   ]
  },
  {
   "cell_type": "code",
   "execution_count": 33,
   "metadata": {},
   "outputs": [
    {
     "data": {
      "text/plain": [
       "{97: ['IC_97', 'BrainStem', array([  0., 255., 255., 255.])],\n",
       " 98: ['IC_98', 'VentralDiencephalon', array([188.,  67., 255., 255.])],\n",
       " 99: ['IC_99', 'VentralDiencephalon', array([201.,  54., 255., 255.])],\n",
       " 79: ['IC_79', 'BrainStem', array([245.,  10., 255., 255.])],\n",
       " 85: ['IC_85', 'BrainStem', array([227.,  28., 255., 255.])],\n",
       " 90: ['IC_90', 'BrainStem', array([114., 141., 255., 255.])],\n",
       " 93: ['IC_93', 'BrainStem', array([255.,   0., 255., 255.])],\n",
       " 94: ['IC_94', 'BrainStem', array([128., 127., 255., 255.])]}"
      ]
     },
     "execution_count": 33,
     "metadata": {},
     "output_type": "execute_result"
    }
   ],
   "source": [
    "basic_graph(subgraph_dict[group][mod], 50000, 50, 'PC', (75,50), 80, basepath, '%s'%group, '%i'%mod)"
   ]
  },
  {
   "cell_type": "code",
   "execution_count": 38,
   "metadata": {
    "scrolled": true
   },
   "outputs": [
    {
     "name": "stdout",
     "output_type": "stream",
     "text": [
      "no\n",
      "2\n",
      "5\n",
      "ov\n",
      "2\n",
      "5\n",
      "ob\n",
      "2\n",
      "6\n"
     ]
    }
   ],
   "source": [
    "wb_con = {\n",
    "    'no':{2:{},5:{}},\n",
    "    'ov': {2:{}, 5:{}},\n",
    "    'ob':{2:{}, 6:{}}\n",
    "}\n",
    "\n",
    "for group, mods in wb_con.items():\n",
    "    print(group)\n",
    "    for mod, blank in mods.items():\n",
    "        print(mod)  \n",
    "        wb_con[group][mod]=basic_graph(subgraph_dict[group][mod], 50000, 50, 'PC', (75,50), 80, basepath, '%s'%group, '%i'%mod)"
   ]
  },
  {
   "cell_type": "markdown",
   "metadata": {},
   "source": [
    "## Get the colors for workbench"
   ]
  },
  {
   "cell_type": "code",
   "execution_count": 35,
   "metadata": {
    "scrolled": true
   },
   "outputs": [
    {
     "name": "stdout",
     "output_type": "stream",
     "text": [
      "no\n",
      "2\n",
      "2\n",
      "[163.  92. 255. 255.]\n",
      "3\n",
      "[  4. 251. 255. 255.]\n",
      "7\n",
      "[ 47. 208. 255. 255.]\n",
      "10\n",
      "[  0. 255. 255. 255.]\n",
      "12\n",
      "[ 36. 219. 255. 255.]\n",
      "15\n",
      "[ 71. 184. 255. 255.]\n",
      "16\n",
      "[ 16. 239. 255. 255.]\n",
      "17\n",
      "[255.   0. 255. 255.]\n",
      "18\n",
      "[179.  76. 255. 255.]\n",
      "19\n",
      "[102. 153. 255. 255.]\n",
      "20\n",
      "[ 83. 172. 255. 255.]\n",
      "22\n",
      "[112. 143. 255. 255.]\n",
      "26\n",
      "[120. 135. 255. 255.]\n",
      "27\n",
      "[ 18. 237. 255. 255.]\n",
      "29\n",
      "[ 48. 207. 255. 255.]\n",
      "33\n",
      "[109. 146. 255. 255.]\n",
      "34\n",
      "[108. 147. 255. 255.]\n",
      "37\n",
      "[125. 130. 255. 255.]\n",
      "40\n",
      "[ 83. 172. 255. 255.]\n",
      "42\n",
      "[ 86. 169. 255. 255.]\n",
      "44\n",
      "[ 37. 218. 255. 255.]\n",
      "46\n",
      "[ 57. 198. 255. 255.]\n",
      "80\n",
      "[105. 150. 255. 255.]\n",
      "87\n",
      "[191.  64. 255. 255.]\n",
      "95\n",
      "[  4. 251. 255. 255.]\n",
      "96\n",
      "[131. 124. 255. 255.]\n",
      "5\n",
      "64\n",
      "[  0. 255. 255. 255.]\n",
      "66\n",
      "[243.  12. 255. 255.]\n",
      "67\n",
      "[208.  47. 255. 255.]\n",
      "68\n",
      "[123. 132. 255. 255.]\n",
      "98\n",
      "[133. 122. 255. 255.]\n",
      "99\n",
      "[148. 107. 255. 255.]\n",
      "75\n",
      "[ 46. 209. 255. 255.]\n",
      "78\n",
      "[134. 121. 255. 255.]\n",
      "48\n",
      "[255.   0. 255. 255.]\n",
      "86\n",
      "[160.  95. 255. 255.]\n",
      "62\n",
      "[156.  99. 255. 255.]\n",
      "ov\n",
      "0\n",
      "0\n",
      "[255.   0. 255. 255.]\n",
      "24\n",
      "[118. 137. 255. 255.]\n",
      "38\n",
      "[  0. 255. 255. 255.]\n",
      "31\n",
      "[113. 142. 255. 255.]\n",
      "5\n",
      "67\n",
      "[173.  82. 255. 255.]\n",
      "74\n",
      "[125. 130. 255. 255.]\n",
      "76\n",
      "[  0. 255. 255. 255.]\n",
      "77\n",
      "[110. 145. 255. 255.]\n",
      "48\n",
      "[255.   0. 255. 255.]\n",
      "81\n",
      "[ 49. 206. 255. 255.]\n",
      "82\n",
      "[182.  73. 255. 255.]\n",
      "83\n",
      "[ 26. 229. 255. 255.]\n",
      "84\n",
      "[ 87. 168. 255. 255.]\n",
      "88\n",
      "[ 55. 200. 255. 255.]\n",
      "89\n",
      "[103. 152. 255. 255.]\n",
      "91\n",
      "[  7. 248. 255. 255.]\n",
      "92\n",
      "[106. 149. 255. 255.]\n",
      "61\n",
      "[227.  28. 255. 255.]\n",
      "ob\n",
      "2\n",
      "33\n",
      "[157.  98. 255. 255.]\n",
      "34\n",
      "[116. 139. 255. 255.]\n",
      "4\n",
      "[  0. 255. 255. 255.]\n",
      "37\n",
      "[196.  59. 255. 255.]\n",
      "69\n",
      "[143. 112. 255. 255.]\n",
      "71\n",
      "[ 91. 164. 255. 255.]\n",
      "17\n",
      "[168.  87. 255. 255.]\n",
      "22\n",
      "[166.  89. 255. 255.]\n",
      "87\n",
      "[169.  86. 255. 255.]\n",
      "25\n",
      "[253.   2. 255. 255.]\n",
      "26\n",
      "[169.  86. 255. 255.]\n",
      "30\n",
      "[217.  38. 255. 255.]\n",
      "57\n",
      "[255.   0. 255. 255.]\n",
      "6\n",
      "64\n",
      "[  4. 251. 255. 255.]\n",
      "96\n",
      "[155. 100. 255. 255.]\n",
      "66\n",
      "[255.   0. 255. 255.]\n",
      "68\n",
      "[114. 141. 255. 255.]\n",
      "75\n",
      "[  0. 255. 255. 255.]\n",
      "78\n",
      "[117. 138. 255. 255.]\n",
      "86\n",
      "[129. 126. 255. 255.]\n",
      "62\n",
      "[202.  53. 255. 255.]\n"
     ]
    }
   ],
   "source": [
    "for group, mods in wb_con.items():\n",
    "    print(group)\n",
    "    for mod, data in mods.items():\n",
    "        print(mod)\n",
    "        writepath = os.path.join(basepath,'%s_%i.txt'%(group, mod))\n",
    "        f = open(writepath, \"w\")\n",
    "        for key, value in data.items():\n",
    "            print(key)\n",
    "            x = value[2]\n",
    "            print(x)\n",
    "            f.write('LABEL_%i\\n'%(key+1))\n",
    "            f.write('%i %i %i %i %i\\n'%(key+1, x[0], x[1], x[2], x[3]))\n",
    "        f.close()"
   ]
  },
  {
   "cell_type": "markdown",
   "metadata": {},
   "source": [
    "## Get ICnames"
   ]
  },
  {
   "cell_type": "code",
   "execution_count": null,
   "metadata": {},
   "outputs": [],
   "source": [
    "g = subgraph_dict['ob'][6]\n",
    "new={}\n",
    "for x,y in nx.get_node_attributes(g, 'labels').items():\n",
    "        new[x]=[y['IC'], y['area']]"
   ]
  },
  {
   "cell_type": "code",
   "execution_count": null,
   "metadata": {},
   "outputs": [],
   "source": [
    "new"
   ]
  },
  {
   "cell_type": "code",
   "execution_count": null,
   "metadata": {
    "scrolled": true
   },
   "outputs": [],
   "source": [
    "z={}\n",
    "for group, dat in submod_dict.items():\n",
    "    print(group)\n",
    "    z[group]={}\n",
    "    for module, data in dat.items():\n",
    "        print(module)\n",
    "        z[group][module]=data.join(labels)\n",
    "no=pd.concat(list(z['no'].values()))\n",
    "ov=pd.concat(list(z['ov'].values()))\n",
    "ob=pd.concat(list(z['ob'].values()))\n",
    "total=pd.concat([no,ov,ob])\n",
    "total.rename(columns={'Unnamed: 2': 'ROI'}, inplace=True)\n",
    "# new_df = total.merge(atlas[['X','Y','Z','ROI']], left_on='ROI', right_on = 'ROI', how='left')\n",
    "# new_df.to_csv(os.path.join(basepath,'tmp','submodule_data.csv'), sep=',')\n"
   ]
  },
  {
   "cell_type": "code",
   "execution_count": null,
   "metadata": {},
   "outputs": [],
   "source": [
    "total['modules'].describe()"
   ]
  },
  {
   "cell_type": "code",
   "execution_count": null,
   "metadata": {},
   "outputs": [],
   "source": []
  }
 ],
 "metadata": {
  "kernelspec": {
   "display_name": "Python 3",
   "language": "python",
   "name": "python3"
  },
  "language_info": {
   "codemirror_mode": {
    "name": "ipython",
    "version": 3
   },
   "file_extension": ".py",
   "mimetype": "text/x-python",
   "name": "python",
   "nbconvert_exporter": "python",
   "pygments_lexer": "ipython3",
   "version": "3.7.2"
  }
 },
 "nbformat": 4,
 "nbformat_minor": 4
}
