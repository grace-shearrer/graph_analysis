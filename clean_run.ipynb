{
 "cells": [
  {
   "cell_type": "code",
   "execution_count": 1,
   "metadata": {},
   "outputs": [],
   "source": [
    "import pandas as pd\n",
    "import glob\n",
    "import os\n",
    "import numpy as np\n",
    "import pickle\n",
    "import statistics\n",
    "import community\n",
    "import matplotlib as mlp\n",
    "# mlp.use(\"Qt5Agg\")\n",
    "import matplotlib.pyplot as plt\n",
    "%matplotlib inline\n",
    "import networkx as nx\n",
    "\n",
    "import analysis as an\n",
    "import pandas as pd\n",
    "\n",
    "\n",
    "import numpy as np\n",
    "import seaborn as sns\n",
    "\n",
    "from scipy import stats \n",
    "import scipy\n",
    "import pprint as pp\n",
    "import bct as bct"
   ]
  },
  {
   "cell_type": "code",
   "execution_count": 2,
   "metadata": {},
   "outputs": [],
   "source": [
    "basepath='/Users/gracer/Google Drive/HCP/HCP_graph/1200/datasets/'\n"
   ]
  },
  {
   "cell_type": "code",
   "execution_count": null,
   "metadata": {},
   "outputs": [],
   "source": [
    "#making a dataframe\n",
    "_dfs=[]\n",
    "for group, data in subedge_dict.items():\n",
    "    print(group)\n",
    "    for sub, dat in data['graphs'].items():\n",
    "        print(sub)\n",
    "        tmp = pd.DataFrame.from_dict(dict(dat.nodes(data =True)), orient='index')\n",
    "        tmp['subject'] = sub\n",
    "        tmp['group'] = group\n",
    "        tmp['IC'] = tmp.index\n",
    "#         tmp['IC']='IC_%i'%tmp['IC']\n",
    "        tmp['IC'] = 'IC_' + tmp['IC'].astype(str)\n",
    "        _dfs.append(tmp)\n",
    "total = pd.concat(_dfs)\n",
    "latest_file=an.find_latest(os.path.join(basepath,'tmp'),'demo*')\n",
    "demo_dict=an.onetoughjar(latest_file)\n",
    "demo_df = pd.DataFrame.from_dict(demo_dict['NR'], orient='index')\n",
    "demo_df['subject'] = demo_df.index\n",
    "demo_df.reset_index(inplace = True)\n",
    "demo_df[\"subject\"]=pd.to_numeric(demo_df[\"subject\"])\n",
    "total[\"subject\"]=pd.to_numeric(total[\"subject\"])\n",
    "complete_df=pd.merge(demo_df, total, on=\"subject\")\n",
    "#complete_df.to_csv(os.path.join(basepath,'tmp','complete_data.csv'), sep=',')\n",
    "#an.adillyofapickle('/Users/gracer/Google Drive/HCP/HCP_graph/1200/datasets',complete_df,'11_complete_df')\n"
   ]
  },
  {
   "cell_type": "code",
   "execution_count": null,
   "metadata": {},
   "outputs": [],
   "source": [
    "def zscore(col):\n",
    "    col_z = (col - col.mean())/col.std(ddof=0)\n",
    "    return(col_z)"
   ]
  },
  {
   "cell_type": "code",
   "execution_count": null,
   "metadata": {},
   "outputs": [],
   "source": [
    "p='/Users/gracer/Google Drive/HCP/HCP_graph/1200/'\n",
    "atlas=pd.read_csv(os.path.join(p,'brains','atlas.csv'), sep=',')\n"
   ]
  },
  {
   "cell_type": "code",
   "execution_count": null,
   "metadata": {},
   "outputs": [],
   "source": [
    "labels = pd.read_csv('/Users/gracer/Google Drive/HCP/HCP_graph/1200/datasets/tmp/mod_labels.csv', sep=',')"
   ]
  },
  {
   "cell_type": "code",
   "execution_count": 4,
   "metadata": {},
   "outputs": [
    {
     "name": "stdout",
     "output_type": "stream",
     "text": [
      "/Users/gracer/Google Drive/HCP/HCP_graph/1200/datasets/tmp/6_submod_dict_09-15-2020_03-49-48\n"
     ]
    }
   ],
   "source": [
    "# this is a dataframe\n",
    "latest_file=an.find_latest(os.path.join(basepath,'tmp'),'6_*')\n",
    "submod_dict=an.onetoughjar(latest_file)"
   ]
  },
  {
   "cell_type": "code",
   "execution_count": 5,
   "metadata": {},
   "outputs": [
    {
     "name": "stdout",
     "output_type": "stream",
     "text": [
      "/Users/gracer/Google Drive/HCP/HCP_graph/1200/datasets/tmp/5_summary_dict_09-15-2020_03-49-44\n"
     ]
    }
   ],
   "source": [
    "# this is the graph\n",
    "latest_file=an.find_latest(os.path.join(basepath,'tmp'),'5_*')\n",
    "summary_dict=an.onetoughjar(latest_file)"
   ]
  },
  {
   "cell_type": "code",
   "execution_count": 6,
   "metadata": {},
   "outputs": [
    {
     "name": "stdout",
     "output_type": "stream",
     "text": [
      "/Users/gracer/Google Drive/HCP/HCP_graph/1200/datasets/tmp/7_subgraph_dict_09-17-2020_08-55-55\n"
     ]
    }
   ],
   "source": [
    "# this is the graph\n",
    "latest_file=an.find_latest(os.path.join(basepath,'tmp'),'7_*')\n",
    "subgraph_dict=an.onetoughjar(latest_file)"
   ]
  },
  {
   "cell_type": "code",
   "execution_count": 7,
   "metadata": {},
   "outputs": [
    {
     "name": "stdout",
     "output_type": "stream",
     "text": [
      "/Users/gracer/Google Drive/HCP/HCP_graph/1200/datasets/tmp/10_subedge_dict_09-17-2020_09-43-31\n"
     ]
    }
   ],
   "source": [
    "# this is the graph\n",
    "latest_file=an.find_latest(os.path.join(basepath,'tmp'),'10_*')\n",
    "subedge_dict=an.onetoughjar(latest_file)"
   ]
  },
  {
   "cell_type": "code",
   "execution_count": null,
   "metadata": {
    "scrolled": true
   },
   "outputs": [],
   "source": [
    "subedge_dict['no'].keys()"
   ]
  },
  {
   "cell_type": "code",
   "execution_count": null,
   "metadata": {
    "scrolled": true
   },
   "outputs": [],
   "source": [
    "test = dict(subedge_dict['no']['graphs']['138837'].nodes(data=True))"
   ]
  },
  {
   "cell_type": "code",
   "execution_count": null,
   "metadata": {},
   "outputs": [],
   "source": [
    "pd.DataFrame.from_dict(test, orient='index')"
   ]
  },
  {
   "cell_type": "code",
   "execution_count": null,
   "metadata": {},
   "outputs": [],
   "source": [
    "_dfs=[]\n",
    "for group, data in subedge_dict.items():\n",
    "    print(group)\n",
    "    for sub, dat in data['graphs'].items():\n",
    "        print(sub)\n",
    "        tmp = pd.DataFrame.from_dict(test, orient='index')\n",
    "        tmp['subject'] = sub\n",
    "        tmp['group'] = group\n",
    "        tmp['IC'] = tmp.index\n",
    "        tmp['IC']=tmp['IC']+1\n",
    "        _dfs.append(tmp)\n",
    "total = pd.concat(_dfs)"
   ]
  },
  {
   "cell_type": "code",
   "execution_count": null,
   "metadata": {},
   "outputs": [],
   "source": [
    "total"
   ]
  },
  {
   "cell_type": "code",
   "execution_count": null,
   "metadata": {
    "scrolled": true
   },
   "outputs": [],
   "source": [
    "demo_dict['NR'].keys()"
   ]
  },
  {
   "cell_type": "code",
   "execution_count": null,
   "metadata": {},
   "outputs": [],
   "source": [
    "demo_df = pd.DataFrame.from_dict(demo_dict['NR'], orient='index')"
   ]
  },
  {
   "cell_type": "code",
   "execution_count": null,
   "metadata": {},
   "outputs": [],
   "source": [
    "demo_df['subject'] = demo_df.index\n",
    "demo_df.reset_index(inplace = True)"
   ]
  },
  {
   "cell_type": "code",
   "execution_count": null,
   "metadata": {
    "scrolled": true
   },
   "outputs": [],
   "source": [
    "demo_df"
   ]
  },
  {
   "cell_type": "code",
   "execution_count": null,
   "metadata": {},
   "outputs": [],
   "source": [
    "demo_df[\"subject\"]=pd.to_numeric(demo_df[\"subject\"])\n",
    "total[\"subject\"]=pd.to_numeric(total[\"subject\"])"
   ]
  },
  {
   "cell_type": "code",
   "execution_count": null,
   "metadata": {},
   "outputs": [],
   "source": [
    "pd.merge(demo_df, total, on=\"subject\")"
   ]
  },
  {
   "cell_type": "code",
   "execution_count": null,
   "metadata": {},
   "outputs": [],
   "source": [
    "x"
   ]
  },
  {
   "cell_type": "code",
   "execution_count": null,
   "metadata": {},
   "outputs": [],
   "source": [
    "part = pd.DataFrame.from_dict(summary_dict['no']['modules']['partition'], orient='index', columns = ['module'])\n"
   ]
  },
  {
   "cell_type": "code",
   "execution_count": null,
   "metadata": {},
   "outputs": [],
   "source": []
  },
  {
   "cell_type": "markdown",
   "metadata": {},
   "source": [
    "Making an edge data frame"
   ]
  },
  {
   "cell_type": "code",
   "execution_count": null,
   "metadata": {},
   "outputs": [],
   "source": [
    "edges = {}\n",
    "\n",
    "for group, stuff in summary_dict.items():\n",
    "    print(group)\n",
    "    _df = nx.to_pandas_edgelist(stuff['comm_graph'])\n",
    "    _df.loc[(_df['source'] == _df['target']), 'weight'] = 0\n",
    "\n",
    "    _df['group']=group\n",
    "    edges[group]=_df\n",
    "\n",
    "edge_df=pd.concat(list(edges.values()))"
   ]
  },
  {
   "cell_type": "code",
   "execution_count": null,
   "metadata": {},
   "outputs": [],
   "source": [
    "edge_df['z_weight']=an.zscore(edge_df['weight'])\n",
    "\n",
    "# Set normalized edge as an get_edge_attributes\n",
    "for k,v in update_dict.items():\n",
    "    test=edge_df[edge_df['group']==k]\n",
    "    keyz = list(zip(test['source'],test['target']))\n",
    "    values=test['z_weight']\n",
    "    up_dict={}\n",
    "    for i in range(len(keyz)):\n",
    "        up_dict[keyz[i]]={'z_edge':values[i]}\n",
    "    nx.set_edge_attributes(v['comm_graph'], up_dict)\n"
   ]
  },
  {
   "cell_type": "code",
   "execution_count": null,
   "metadata": {},
   "outputs": [],
   "source": [
    "edge_df"
   ]
  },
  {
   "cell_type": "markdown",
   "metadata": {},
   "source": [
    "Checking the save dict to calculcate differences in edges "
   ]
  },
  {
   "cell_type": "code",
   "execution_count": 9,
   "metadata": {},
   "outputs": [
    {
     "name": "stdout",
     "output_type": "stream",
     "text": [
      "/Users/gracer/Google Drive/HCP/HCP_graph/1200/datasets/tmp/3_save_dict_08-31-2020_09-48-50\n"
     ]
    }
   ],
   "source": [
    "# this is a dataframe\n",
    "latest_file=an.find_latest(os.path.join(basepath,'tmp'),'3_*')\n",
    "save_dict=an.onetoughjar(latest_file)"
   ]
  },
  {
   "cell_type": "code",
   "execution_count": null,
   "metadata": {},
   "outputs": [],
   "source": [
    "for group, values in save_dict['NR'].items():\n",
    "    print(group)\n",
    "    values['modules'] = summary_dict[group]['modules']['partition']\n",
    "    for sub, graph in values['graphs'].items():\n",
    "        print(sub)\n",
    "        G = graph\n",
    "        modules = summary_dict[group]['modules']['partition']\n",
    "        nx.set_node_attributes(G, modules, 'modules')"
   ]
  },
  {
   "cell_type": "code",
   "execution_count": null,
   "metadata": {
    "scrolled": true
   },
   "outputs": [],
   "source": [
    "save_dict['NR']['no'].keys()"
   ]
  },
  {
   "cell_type": "code",
   "execution_count": null,
   "metadata": {},
   "outputs": [],
   "source": [
    "edges = {}\n",
    "\n",
    "for group, stuff in save_dict['NR'].items():\n",
    "    print(group)\n",
    "    for sub, graph in stuff['graphs'].items():\n",
    "        print(sub)\n",
    "        _df = nx.to_pandas_edgelist(graph)\n",
    "        _df.loc[(_df['source'] == _df['target']), 'weight'] = 0\n",
    "\n",
    "        _df['group']=group\n",
    "        edges[group]=_df\n",
    "\n",
    "sub_edge_df=pd.concat(list(edges.values()))"
   ]
  },
  {
   "cell_type": "code",
   "execution_count": null,
   "metadata": {},
   "outputs": [],
   "source": [
    "sub_edge_df = sub_edge_df[sub_edge_df['source'] != sub_edge_df['target']]"
   ]
  },
  {
   "cell_type": "code",
   "execution_count": null,
   "metadata": {},
   "outputs": [],
   "source": [
    "#sub_edge_df.to_csv(os.path.join(basepath,'tmp','sub_edge_data.csv'), sep=',')"
   ]
  },
  {
   "cell_type": "code",
   "execution_count": null,
   "metadata": {},
   "outputs": [],
   "source": [
    "sub_edge_df['z_weight']=an.zscore(sub_edge_df['weight'])"
   ]
  },
  {
   "cell_type": "code",
   "execution_count": null,
   "metadata": {},
   "outputs": [],
   "source": [
    "# Set normalized edge as an get_edge_attributes\n",
    "for group,v in save_dict['NR'].items():\n",
    "    for sub, graph in v['graphs'].items():\n",
    "        test=sub_edge_df[sub_edge_df['group']==group]\n",
    "        keyz = list(zip(test['source'],test['target']))\n",
    "        values=test['z_weight']\n",
    "        up_dict={}\n",
    "        for i in range(len(keyz)):\n",
    "            up_dict[keyz[i]]={'z_edge':values[i]}\n",
    "        nx.set_edge_attributes(graph, up_dict)\n"
   ]
  },
  {
   "cell_type": "markdown",
   "metadata": {},
   "source": [
    "Make individual comm graphs"
   ]
  },
  {
   "cell_type": "code",
   "execution_count": null,
   "metadata": {
    "scrolled": true
   },
   "outputs": [],
   "source": [
    "save_dict['NR']['no']['comm_graph']['200513'].edges(data=True)"
   ]
  },
  {
   "cell_type": "code",
   "execution_count": null,
   "metadata": {},
   "outputs": [],
   "source": []
  },
  {
   "cell_type": "code",
   "execution_count": null,
   "metadata": {},
   "outputs": [],
   "source": [
    "# Make community graph\n",
    "for group,v in save_dict['NR'].items():\n",
    "    print(group)\n",
    "    v.update(comm_graph = {})\n",
    "    for sub, data in v['graphs'].items():\n",
    "        print(sub)\n",
    "        comm_graph = community.induced_graph(v['modules'], data)\n",
    "        v['comm_graph'][sub] = comm_graph\n"
   ]
  },
  {
   "cell_type": "code",
   "execution_count": null,
   "metadata": {},
   "outputs": [],
   "source": [
    "def cal_edges(dic, basepath, group):\n",
    "    edges = {}\n",
    "    for sub, graph in dic.items():\n",
    "        print(sub)\n",
    "        _df = nx.to_pandas_edgelist(graph)\n",
    "        _df.loc[(_df['source'] == _df['target']), 'weight'] = 0\n",
    "        _df = _df[_df['source'] != _df['target']]\n",
    "        _df['group']=group\n",
    "        _df['z_weight']=an.zscore(_df['weight'])\n",
    "        edges[sub]=_df\n",
    "    return(edges)\n",
    "    \n",
    "    \n",
    "\n",
    "\n",
    "    "
   ]
  },
  {
   "cell_type": "code",
   "execution_count": null,
   "metadata": {},
   "outputs": [],
   "source": [
    "save_dict['NR']['no']['comm_graph']['157437']"
   ]
  },
  {
   "cell_type": "code",
   "execution_count": null,
   "metadata": {},
   "outputs": [],
   "source": [
    "tmp_dict = {'no':{}, 'ov': {}, 'ob': {}}\n",
    "for group, dat in save_dict['NR'].items():\n",
    "    print(group)\n",
    "    x=cal_edges(dat['comm_graph'], basepath, group)\n",
    "    tmp_dict[group]=pd.concat(list(x.values()))\n"
   ]
  },
  {
   "cell_type": "code",
   "execution_count": null,
   "metadata": {
    "scrolled": true
   },
   "outputs": [],
   "source": [
    "tmp_dict['ob']"
   ]
  },
  {
   "cell_type": "code",
   "execution_count": null,
   "metadata": {},
   "outputs": [],
   "source": [
    "sub_comm_edge_df=pd.concat(list(tmp_dict.values()))\n"
   ]
  },
  {
   "cell_type": "code",
   "execution_count": null,
   "metadata": {},
   "outputs": [],
   "source": [
    "#sub_comm_edge_df.to_csv(os.path.join(basepath,'tmp','sub_comm_edge_data.csv'), sep=',')"
   ]
  },
  {
   "cell_type": "code",
   "execution_count": null,
   "metadata": {},
   "outputs": [],
   "source": [
    "edges = {}\n",
    "\n",
    "for group, stuff in save_dict['NR'].items():\n",
    "    print(group)\n",
    "    for sub, graph in stuff['graphs'].items():\n",
    "        print(sub)\n",
    "        _df = nx.to_pandas_edgelist(graph)\n",
    "        _df.loc[(_df['source'] == _df['target']), 'weight'] = 0\n",
    "\n",
    "        _df['group']=group\n",
    "        edges[group]=_df\n",
    "\n",
    "sub_edge_df=pd.concat(list(edges.values()))\n",
    "sub_edge_df = sub_edge_df[sub_edge_df['source'] != sub_edge_df['target']]\n",
    "# sub_edge_df['z_weight']=an.zscore(sub_edge_df['weight'])\n",
    "# sub_edge_df.to_csv(os.path.join(basepath,'tmp','sub_edge_data.csv'), sep=',')\n"
   ]
  },
  {
   "cell_type": "code",
   "execution_count": null,
   "metadata": {},
   "outputs": [],
   "source": [
    "# Set normalized edge as an get_edge_attributes\n",
    "for group,v in save_dict['NR'].items():\n",
    "    for sub, graph in v['graphs'].items():\n",
    "        test=sub_edge_df[sub_edge_df['group']==group]\n",
    "        keyz = list(zip(test['source'],test['target']))\n",
    "        values=test['z_weight']\n",
    "        up_dict={}\n",
    "        for i in range(len(keyz)):\n",
    "            up_dict[keyz[i]]={'z_edge':values[i]}\n",
    "        nx.set_edge_attributes(graph, up_dict)\n"
   ]
  },
  {
   "cell_type": "code",
   "execution_count": null,
   "metadata": {},
   "outputs": [],
   "source": [
    "#an.adillyofapickle('/Users/gracer/Google Drive/HCP/HCP_graph/1200/datasets',save_dict['NR'],'10_subedge_dict')"
   ]
  },
  {
   "cell_type": "code",
   "execution_count": null,
   "metadata": {},
   "outputs": [],
   "source": [
    "def mod_loc(group, module): \n",
    "    columns=['Index','area', 'label']\n",
    "    data = []\n",
    "    part = pd.DataFrame.from_dict(summary_dict[group]['modules']['partition'], orient='index', columns = ['module'])\n",
    "    x = part.loc[part['module'] == module].index\n",
    "    for item in x:\n",
    "        data.append(labels[['Index','area', 'label']].loc[labels['Index'][item]])    \n",
    "    df = pd.DataFrame(data, columns=columns)\n",
    "    return(df)"
   ]
  },
  {
   "cell_type": "code",
   "execution_count": null,
   "metadata": {},
   "outputs": [],
   "source": [
    "mod_loc('no', 0)"
   ]
  },
  {
   "cell_type": "code",
   "execution_count": null,
   "metadata": {},
   "outputs": [],
   "source": []
  },
  {
   "cell_type": "code",
   "execution_count": null,
   "metadata": {},
   "outputs": [],
   "source": []
  },
  {
   "cell_type": "markdown",
   "metadata": {},
   "source": [
    "# Graphs! Figures!"
   ]
  },
  {
   "cell_type": "code",
   "execution_count": 10,
   "metadata": {},
   "outputs": [
    {
     "name": "stdout",
     "output_type": "stream",
     "text": [
      "no\n",
      "8\n",
      "ov\n",
      "9\n",
      "ob\n",
      "9\n"
     ]
    }
   ],
   "source": [
    "aes_dict={'no':{},\n",
    "          'ov':{},\n",
    "          'ob':{}}\n",
    "for group, stuff in summary_dict.items():\n",
    "    print(group)\n",
    "    G=stuff['comm_graph']\n",
    "    aes_dict[group]=an.aesthetics(G,15000,100, 'sans-serif', 'Bold', 'z_edge', (80,50), 1)"
   ]
  },
  {
   "cell_type": "code",
   "execution_count": null,
   "metadata": {},
   "outputs": [],
   "source": [
    "def module_fig(G, Type, basepath, aes):\n",
    "    edges,weights = zip(*nx.get_edge_attributes(G,'weight').items())\n",
    "    #nodes, size = zip(*nx.get_node_attributes(G,'clustering').items())\n",
    "\n",
    "    positions=nx.circular_layout(G)\n",
    "    plt.figure(figsize= aes['general']['plot_size'])\n",
    "    ### NODES ####\n",
    "    print(len(G.nodes()))\n",
    "    y=nx.draw_networkx_nodes(\n",
    "        G,positions,\n",
    "        node_color = aes['nodes']['color'],\n",
    "        node_size = aes['nodes']['node_size'],\n",
    "        alpha=1.0,\n",
    "        cmap= plt.get_cmap('Set3', aes['nodes']['n_color']),\n",
    "        vmin=aes['nodes']['min'],\n",
    "        vmax=aes['nodes']['max'])\n",
    "\n",
    "    #Styling for node labels\n",
    "    nx.draw_networkx_labels(G,\n",
    "                            positions,\n",
    "                            font_size = aes['nodes']['font_size'],\n",
    "                            font_family= aes['nodes']['font_family'],\n",
    "                            fontweight = aes['nodes']['font_weight'])\n",
    "    #Node color bar stuff\n",
    "    n_color = aes['nodes']['n_color']\n",
    "    print(n_color)\n",
    "    node_bar=plt.colorbar(y, label='Module value')\n",
    "    tick_locs = (np.arange(n_color) + 0.5)*(n_color-1)/n_color\n",
    "    print(tick_locs)\n",
    "    node_bar.set_ticks(tick_locs)\n",
    "\n",
    "    # set tick labels (as before)\n",
    "    node_bar.set_ticklabels(np.arange(n_color))\n",
    "    node_bar.set_label('Modularity', fontsize =  aes['nodes']['font_size'])\n",
    "\n",
    "    ## EDGES ##\n",
    "    x=nx.draw_networkx_edges(G,\n",
    "                             positions,\n",
    "                             edge_list=edges,\n",
    "                             style='solid',\n",
    "                             width = weights*aes['edges']['width mod'],\n",
    "                             edge_color = weights,\n",
    "                             edge_vmin=aes['edges']['min'],\n",
    "                             edge_vmax=aes['edges']['max'],\n",
    "                             edge_cmap= aes['edges']['colormap'])\n",
    "    # Edge color bar stuff\n",
    "    sm = plt.cm.ScalarMappable(cmap=aes['edges']['colormap'],\n",
    "                               norm=plt.Normalize(vmin = aes['edges']['min'], vmax=aes['edges']['max']))\n",
    "    sm._A = []\n",
    "    edge_bar=plt.colorbar(sm)\n",
    "\n",
    "    for l in edge_bar.ax.yaxis.get_ticklabels():\n",
    "        l.set_size(aes['nodes']['font_size'])\n",
    "    for l in node_bar.ax.yaxis.get_ticklabels():\n",
    "        l.set_size(aes['nodes']['font_size'])\n",
    "        l.set_verticalalignment('center')\n",
    "\n",
    "    edge_bar.set_label('Strength of edge weight', fontsize = aes['nodes']['font_size'])\n",
    "    # Title things\n",
    "    plt.title(\"Module Connectivity Weights %s\"%Type, fontsize = aes['nodes']['font_size']*2)\n",
    "    plt.axis('off')\n",
    "    basepath= os.path.join(basepath,'images')\n",
    "    plt.savefig(os.path.join(basepath,\"modularity_%s.png\"%(Type)), format=\"PNG\")\n",
    "    # plt.show()"
   ]
  },
  {
   "cell_type": "code",
   "execution_count": 15,
   "metadata": {},
   "outputs": [
    {
     "data": {
      "text/plain": [
       "NodeDataView({0: {}, 1: {}, 2: {}, 3: {}, 4: {}, 5: {}, 6: {}, 7: {}})"
      ]
     },
     "execution_count": 15,
     "metadata": {},
     "output_type": "execute_result"
    }
   ],
   "source": [
    "summary_dict['no']['comm_graph'].nodes(data=True)"
   ]
  },
  {
   "cell_type": "code",
   "execution_count": 11,
   "metadata": {
    "scrolled": false
   },
   "outputs": [
    {
     "name": "stdout",
     "output_type": "stream",
     "text": [
      "no\n",
      "8\n",
      "8\n",
      "[0.4375 1.3125 2.1875 3.0625 3.9375 4.8125 5.6875 6.5625]\n",
      "ov\n",
      "9\n",
      "9\n",
      "[0.44444444 1.33333333 2.22222222 3.11111111 4.         4.88888889\n",
      " 5.77777778 6.66666667 7.55555556]\n",
      "ob\n",
      "9\n",
      "9\n",
      "[0.44444444 1.33333333 2.22222222 3.11111111 4.         4.88888889\n",
      " 5.77777778 6.66666667 7.55555556]\n"
     ]
    }
   ],
   "source": [
    "for key, graph in summary_dict.items():\n",
    "    print(key)\n",
    "    G=graph['comm_graph']\n",
    "    aes=aes_dict[key]\n",
    "    an.module_fig(G,'%s z-score'%key, basepath, aes)"
   ]
  },
  {
   "cell_type": "code",
   "execution_count": null,
   "metadata": {
    "scrolled": true
   },
   "outputs": [],
   "source": [
    "groups = ['no','ov','ob']\n",
    "mods = [2,4,0,5,2,6]\n",
    "IC_=[11,16, 27, 35, 54, 58, 85]\n",
    "for group in groups:\n",
    "    for mod in mods:\n",
    "        for x in IC_:\n",
    "            if x in list(subgraph_dict[group][mod].nodes()):\n",
    "                print('for %s in mod %i and node %i'%(group, mod, x))\n",
    "                print(subgraph_dict[group][mod].nodes(data=True)[x])"
   ]
  },
  {
   "cell_type": "code",
   "execution_count": null,
   "metadata": {},
   "outputs": [],
   "source": [
    "def aesthetics(graph, node_size, font_size, font_family, font_weight, edge_att, plot_size, mod):\n",
    "    aes={'general':{},\n",
    "         'nodes':{},\n",
    "         'edges':{}}\n",
    "    # nodes\n",
    "    color = np.array(list(graph.nodes))\n",
    "    color = np.array(color)\n",
    "    n_color=len(list(set(color)))\n",
    "    print(n_color)\n",
    "    aes['nodes']['color'] = color\n",
    "    aes['nodes']['colormap'] = ['Set3', n_color]\n",
    "    aes['nodes']['n_color'] = n_color\n",
    "    aes['nodes']['max'] = float(color.max())\n",
    "    aes['nodes']['min'] = float(color.min())\n",
    "    aes['nodes']['font_size'] = int(font_size)\n",
    "    aes['nodes']['font_family'] = font_family\n",
    "    aes['nodes']['font_weight'] = font_weight\n",
    "    aes['nodes']['node_size'] = int(node_size)\n",
    "    #edges\n",
    "    aes['edges']['colormap'] = plt.cm.gist_rainbow\n",
    "    edges,weights = zip(*nx.get_edge_attributes(graph,edge_att).items())\n",
    "    weights=np.array(weights)\n",
    "    aes['edges']['width mod'] = mod\n",
    "    aes['edges']['min'] = weights.min()\n",
    "    aes['edges']['max'] = weights.max()\n",
    "    # General\n",
    "    aes['general']['plot_size']=plot_size #tuple 80,50\n",
    "    return(aes)"
   ]
  },
  {
   "cell_type": "code",
   "execution_count": 13,
   "metadata": {},
   "outputs": [],
   "source": [
    "from mpl_toolkits.axes_grid1.inset_locator import inset_axes\n",
    "\n",
    "def basic_graph(graph, scl, FONT, metric, size, tile, basepath, bmi, mod):\n",
    "    #threshold\n",
    "    e,w = zip(*nx.get_edge_attributes(graph, 'weight').items())\n",
    "    purr=np.percentile(w, tile)\n",
    "    g=an.threshold2(graph,purr)\n",
    "    # style\n",
    "    fig = plt.figure(figsize = size)\n",
    "    ax1 = plt.subplot(111, aspect = 'equal')\n",
    "    plt.subplots_adjust(left=0.25, bottom=0, right=0.75, top=1, wspace=0.2, hspace=0)\n",
    "\n",
    "    positions=nx.circular_layout(g)\n",
    "    \n",
    "    # NODES\n",
    "    nodes, color = zip(*nx.get_node_attributes(g, metric).items())\n",
    "    nodes, label = zip(*nx.get_node_attributes(g, 'labels').items())\n",
    "    nodes, size = zip(*nx.get_node_attributes(g, metric).items())\n",
    "    new={}\n",
    "    for x,y in nx.get_node_attributes(g, 'labels').items():\n",
    "        new[x]=y['area']\n",
    "    \n",
    "    #draws nodes\n",
    "    color = np.array(color)\n",
    "    colz=stats.zscore(color)\n",
    "    nColormap=plt.cm.cool \n",
    "    cM=colz.max()\n",
    "    cm=colz.min()\n",
    "\n",
    "    scale=scl/colz.max()\n",
    "    nx.draw_networkx_nodes(g,\n",
    "                             positions,\n",
    "                             node_color=colz,\n",
    "                             node_size=np.square(colz)*scale,\n",
    "                             alpha=0.8,\n",
    "                             cmap= nColormap,\n",
    "                             vmin=cm ,vmax=cM)\n",
    "\n",
    "    #Styling for labels\n",
    "    nx.draw_networkx_labels(g, \n",
    "                            positions,\n",
    "                            new,\n",
    "                            font_size=FONT,\n",
    "                            font_family='sans-serif',\n",
    "                            fontweight = 'bold',\n",
    "                            horizontalalignment = 'center',\n",
    "                            verticalalignment = 'top')\n",
    "\n",
    "\n",
    "    # EDGES \n",
    "    edges,weights = zip(*nx.get_edge_attributes(g, 'weight').items())\n",
    "    #draw edges\n",
    "    weights=np.array(weights)\n",
    "    eColormap=plt.cm.gist_rainbow #check here if you want different colors https://matplotlib.org/3.1.1/gallery/color/colormap_reference.html\n",
    "\n",
    "    nx.draw_networkx_edges(g, \n",
    "                             positions,\n",
    "                             edge_list=edges,\n",
    "                             style='solid',\n",
    "                             width = np.square(weights)*200,\n",
    "                             edge_color = weights,\n",
    "                             edge_cmap=eColormap,\n",
    "                             edge_vmin=weights.min(),\n",
    "                             edge_vmax=weights.max())\n",
    "    \n",
    "    #FInishing touches\n",
    "\n",
    "\n",
    "    plt.axis('off')\n",
    "    if bmi == 'no':\n",
    "        plt.title(\"%s and edge weights of \\n %s graph\"%(metric, 'Average BMI'), fontsize = FONT)\n",
    "    if bmi == 'ov':\n",
    "        plt.title(\"%s and edge weights of \\n %s graph\"%(metric, 'High BMI'), fontsize = FONT)\n",
    "    if bmi == 'ob':\n",
    "        plt.title(\"%s and edge weights of \\n %s graph\"%(metric, 'Very high BMI'), fontsize = FONT)\n",
    "    \n",
    "\n",
    "    axins1 = inset_axes(ax1,\n",
    "                    width=\"2.5%\",  # width = 50% of parent_bbox width\n",
    "                    height=\"100%\",  # height : 5%\n",
    "                    loc='right',\n",
    "                    bbox_to_anchor=(0.15, 0., 1, 1), #(x0, y0, width, height)\n",
    "                    bbox_transform=ax1.transAxes,\n",
    "                    borderpad=1)\n",
    "    \n",
    "    axins2 = inset_axes(ax1,\n",
    "                    width=\"2.5%\",  # width = 50% of parent_bbox width\n",
    "                    height=\"100%\",  # height : 5%\n",
    "                    loc='right',\n",
    "                    bbox_to_anchor=(.25, 0, 1, 1),\n",
    "                    bbox_transform=ax1.transAxes,\n",
    "                    borderpad=1)\n",
    "\n",
    "    sm = plt.cm.ScalarMappable(cmap=eColormap, norm=plt.Normalize(vmin = weights.min(), vmax=weights.max()))\n",
    "    sm._A = []\n",
    "\n",
    "    edge_bar=fig.colorbar(sm, cax=axins1, orientation=\"vertical\")\n",
    "    for l in edge_bar.ax.yaxis.get_ticklabels():\n",
    "        l.set_size(FONT)\n",
    "    edge_bar.set_label('Strength of edge weight', fontsize = FONT)\n",
    "    \n",
    "    sn = plt.cm.ScalarMappable(cmap=nColormap, norm=plt.Normalize(vmin = cm, vmax=cM))\n",
    "    sn._A = []\n",
    "    \n",
    "    rgb = sn.to_rgba(x=colz)\n",
    "    save={}\n",
    "    i = 0\n",
    "    for x,y in nx.get_node_attributes(g, 'labels').items():\n",
    "        save[x]=[y['IC'], y['area'], np.round(rgb[i]*255)]\n",
    "        i=i+1\n",
    "    \n",
    "    node_bar=fig.colorbar(sn, cax=axins2, label='Module value')\n",
    "    for l in node_bar.ax.yaxis.get_ticklabels():\n",
    "        l.set_size(FONT)\n",
    "    node_bar.set_label('%s'%metric,fontsize = FONT)\n",
    "    \n",
    "    \n",
    "    basepath='/Users/gracer/Google Drive/HCP/HCP_graph/1200/images'\n",
    "    if bmi == 'no':\n",
    "        plt.savefig(os.path.join(basepath,\"%s_%s_%s.png\"%(metric, 'Average BMI', mod)), format=\"PNG\")\n",
    "    if bmi == 'ov':\n",
    "        plt.savefig(os.path.join(basepath,\"%s_%s_%s.png\"%(metric, 'High BMI', mod)), format=\"PNG\")\n",
    "    if bmi == 'ob':\n",
    "        plt.savefig(os.path.join(basepath,\"%s_%s_%s.png\"%(metric, 'Very high BMI', mod)), format=\"PNG\")\n",
    "    plt.show()\n",
    "    return(save)\n"
   ]
  },
  {
   "cell_type": "code",
   "execution_count": null,
   "metadata": {},
   "outputs": [],
   "source": []
  },
  {
   "cell_type": "markdown",
   "metadata": {},
   "source": [
    "participation coefficient "
   ]
  },
  {
   "cell_type": "code",
   "execution_count": 28,
   "metadata": {
    "scrolled": true
   },
   "outputs": [
    {
     "name": "stdout",
     "output_type": "stream",
     "text": [
      "no\n",
      "2\n",
      "5\n",
      "0\n",
      "ov\n",
      "2\n",
      "6\n",
      "0\n",
      "ob\n",
      "4\n",
      "6\n",
      "0\n"
     ]
    }
   ],
   "source": [
    "wb_con_PC = {\n",
    "    'no':{2:{}, 5:{}, 0:{}},\n",
    "    'ov': {2:{}, 6:{}, 0:{}},\n",
    "    'ob':{4:{}, 6:{}, 0:{}}\n",
    "}\n",
    "\n",
    "for group, mods in wb_con_PC.items():\n",
    "    print(group)\n",
    "    for mod, blank in mods.items():\n",
    "        print(mod)  \n",
    "        wb_con_PC[group][mod]=basic_graph(subgraph_dict[group][mod], 50000, 50, 'PC', (75,50), 80, basepath, '%s'%group, '%i'%mod)"
   ]
  },
  {
   "cell_type": "markdown",
   "metadata": {},
   "source": [
    "clustering coefficient "
   ]
  },
  {
   "cell_type": "code",
   "execution_count": 29,
   "metadata": {},
   "outputs": [
    {
     "name": "stdout",
     "output_type": "stream",
     "text": [
      "no\n",
      "2\n",
      "5\n",
      "ov\n",
      "2\n",
      "6\n",
      "ob\n",
      "4\n",
      "6\n"
     ]
    }
   ],
   "source": [
    "wb_con_CC = {\n",
    "    'no':{2:{},5:{}},\n",
    "    'ov': {2:{}, 6:{}},\n",
    "    'ob':{4:{}, 6:{}}\n",
    "}\n",
    "\n",
    "for group, mods in wb_con_CC.items():\n",
    "    print(group)\n",
    "    for mod, blank in mods.items():\n",
    "        print(mod)  \n",
    "        wb_con_CC[group][mod]=basic_graph(subgraph_dict[group][mod], 50000, 50, 'clustering', (75,50), 80, basepath, '%s'%group, '%i'%mod)"
   ]
  },
  {
   "cell_type": "markdown",
   "metadata": {},
   "source": [
    "Betweenness centrality"
   ]
  },
  {
   "cell_type": "code",
   "execution_count": 30,
   "metadata": {},
   "outputs": [
    {
     "name": "stdout",
     "output_type": "stream",
     "text": [
      "no\n",
      "0\n",
      "ov\n",
      "0\n",
      "ob\n",
      "0\n"
     ]
    }
   ],
   "source": [
    "wb_con_BC = {\n",
    "    'no':{0:{}},\n",
    "    'ov': {0:{}},\n",
    "    'ob':{0:{}}\n",
    "}\n",
    "\n",
    "for group, mods in wb_con_BC.items():\n",
    "    print(group)\n",
    "    for mod, blank in mods.items():\n",
    "        print(mod)  \n",
    "        wb_con_BC[group][mod]=basic_graph(subgraph_dict[group][mod], 50000, 50, 'centrality', (75,50), 80, basepath, '%s'%group, '%i'%mod)"
   ]
  },
  {
   "cell_type": "code",
   "execution_count": 31,
   "metadata": {},
   "outputs": [],
   "source": [
    "wb_con = {'CC':wb_con_CC, 'PC':wb_con_PC, 'BC':wb_con_BC}"
   ]
  },
  {
   "cell_type": "markdown",
   "metadata": {},
   "source": [
    "## Get the colors for workbench"
   ]
  },
  {
   "cell_type": "code",
   "execution_count": null,
   "metadata": {},
   "outputs": [],
   "source": [
    "pth='/Users/gracer/Google Drive/HCP/HCP_graph/1200/brains/color_brain'"
   ]
  },
  {
   "cell_type": "code",
   "execution_count": 33,
   "metadata": {
    "scrolled": true
   },
   "outputs": [
    {
     "name": "stdout",
     "output_type": "stream",
     "text": [
      "CC\n",
      "no\n",
      "2\n",
      "2\n",
      "[103. 152. 255. 255.]\n",
      "3\n",
      "[217.  38. 255. 255.]\n",
      "7\n",
      "[161.  94. 255. 255.]\n",
      "10\n",
      "[182.  73. 255. 255.]\n",
      "12\n",
      "[186.  69. 255. 255.]\n",
      "15\n",
      "[176.  79. 255. 255.]\n",
      "16\n",
      "[149. 106. 255. 255.]\n",
      "17\n",
      "[ 92. 163. 255. 255.]\n",
      "18\n",
      "[ 19. 236. 255. 255.]\n",
      "19\n",
      "[120. 135. 255. 255.]\n",
      "20\n",
      "[193.  62. 255. 255.]\n",
      "22\n",
      "[ 97. 158. 255. 255.]\n",
      "26\n",
      "[124. 131. 255. 255.]\n",
      "27\n",
      "[255.   0. 255. 255.]\n",
      "29\n",
      "[193.  62. 255. 255.]\n",
      "33\n",
      "[ 94. 161. 255. 255.]\n",
      "34\n",
      "[ 95. 160. 255. 255.]\n",
      "37\n",
      "[146. 109. 255. 255.]\n",
      "40\n",
      "[189.  66. 255. 255.]\n",
      "42\n",
      "[187.  68. 255. 255.]\n",
      "44\n",
      "[206.  49. 255. 255.]\n",
      "46\n",
      "[192.  63. 255. 255.]\n",
      "80\n",
      "[  0. 255. 255. 255.]\n",
      "87\n",
      "[ 75. 180. 255. 255.]\n",
      "95\n",
      "[160.  95. 255. 255.]\n",
      "96\n",
      "[ 29. 226. 255. 255.]\n",
      "5\n",
      "64\n",
      "[200.  55. 255. 255.]\n",
      "66\n",
      "[ 49. 206. 255. 255.]\n",
      "67\n",
      "[109. 146. 255. 255.]\n",
      "68\n",
      "[170.  85. 255. 255.]\n",
      "98\n",
      "[169.  86. 255. 255.]\n",
      "99\n",
      "[182.  73. 255. 255.]\n",
      "75\n",
      "[  0. 255. 255. 255.]\n",
      "78\n",
      "[255.   0. 255. 255.]\n",
      "48\n",
      "[ 40. 215. 255. 255.]\n",
      "86\n",
      "[ 22. 233. 255. 255.]\n",
      "62\n",
      "[118. 137. 255. 255.]\n",
      "ov\n",
      "2\n",
      "2\n",
      "[118. 137. 255. 255.]\n",
      "3\n",
      "[229.  26. 255. 255.]\n",
      "7\n",
      "[179.  76. 255. 255.]\n",
      "10\n",
      "[232.  23. 255. 255.]\n",
      "12\n",
      "[224.  31. 255. 255.]\n",
      "15\n",
      "[181.  74. 255. 255.]\n",
      "16\n",
      "[191.  64. 255. 255.]\n",
      "18\n",
      "[ 88. 167. 255. 255.]\n",
      "19\n",
      "[150. 105. 255. 255.]\n",
      "20\n",
      "[244.  11. 255. 255.]\n",
      "22\n",
      "[ 91. 164. 255. 255.]\n",
      "26\n",
      "[145. 110. 255. 255.]\n",
      "27\n",
      "[246.   9. 255. 255.]\n",
      "29\n",
      "[255.   0. 255. 255.]\n",
      "33\n",
      "[107. 148. 255. 255.]\n",
      "34\n",
      "[110. 145. 255. 255.]\n",
      "37\n",
      "[194.  61. 255. 255.]\n",
      "40\n",
      "[177.  78. 255. 255.]\n",
      "42\n",
      "[154. 101. 255. 255.]\n",
      "44\n",
      "[230.  25. 255. 255.]\n",
      "46\n",
      "[175.  80. 255. 255.]\n",
      "80\n",
      "[  0. 255. 255. 255.]\n",
      "87\n",
      "[ 43. 212. 255. 255.]\n",
      "95\n",
      "[182.  73. 255. 255.]\n",
      "96\n",
      "[ 28. 227. 255. 255.]\n",
      "6\n",
      "64\n",
      "[189.  66. 255. 255.]\n",
      "66\n",
      "[145. 110. 255. 255.]\n",
      "98\n",
      "[192.  63. 255. 255.]\n",
      "68\n",
      "[150. 105. 255. 255.]\n",
      "99\n",
      "[201.  54. 255. 255.]\n",
      "75\n",
      "[ 92. 163. 255. 255.]\n",
      "78\n",
      "[255.   0. 255. 255.]\n",
      "86\n",
      "[  0. 255. 255. 255.]\n",
      "62\n",
      "[149. 106. 255. 255.]\n",
      "ob\n",
      "4\n",
      "36\n",
      "[  0. 255. 255. 255.]\n",
      "40\n",
      "[162.  93. 255. 255.]\n",
      "42\n",
      "[146. 109. 255. 255.]\n",
      "44\n",
      "[255.   0. 255. 255.]\n",
      "46\n",
      "[153. 102. 255. 255.]\n",
      "80\n",
      "[ 62. 193. 255. 255.]\n",
      "20\n",
      "[245.  10. 255. 255.]\n",
      "59\n",
      "[133. 122. 255. 255.]\n",
      "28\n",
      "[ 60. 195. 255. 255.]\n",
      "6\n",
      "64\n",
      "[162.  93. 255. 255.]\n",
      "96\n",
      "[  0. 255. 255. 255.]\n",
      "66\n",
      "[148. 107. 255. 255.]\n",
      "68\n",
      "[175.  80. 255. 255.]\n",
      "75\n",
      "[135. 120. 255. 255.]\n",
      "78\n",
      "[255.   0. 255. 255.]\n",
      "86\n",
      "[131. 124. 255. 255.]\n",
      "62\n",
      "[170.  85. 255. 255.]\n",
      "PC\n",
      "no\n",
      "2\n",
      "2\n",
      "[163.  92. 255. 255.]\n",
      "3\n",
      "[  4. 251. 255. 255.]\n",
      "7\n",
      "[ 47. 208. 255. 255.]\n",
      "10\n",
      "[  0. 255. 255. 255.]\n",
      "12\n",
      "[ 36. 219. 255. 255.]\n",
      "15\n",
      "[ 71. 184. 255. 255.]\n",
      "16\n",
      "[ 16. 239. 255. 255.]\n",
      "17\n",
      "[255.   0. 255. 255.]\n",
      "18\n",
      "[179.  76. 255. 255.]\n",
      "19\n",
      "[102. 153. 255. 255.]\n",
      "20\n",
      "[ 83. 172. 255. 255.]\n",
      "22\n",
      "[112. 143. 255. 255.]\n",
      "26\n",
      "[120. 135. 255. 255.]\n",
      "27\n",
      "[ 18. 237. 255. 255.]\n",
      "29\n",
      "[ 48. 207. 255. 255.]\n",
      "33\n",
      "[109. 146. 255. 255.]\n",
      "34\n",
      "[108. 147. 255. 255.]\n",
      "37\n",
      "[125. 130. 255. 255.]\n",
      "40\n",
      "[ 83. 172. 255. 255.]\n",
      "42\n",
      "[ 86. 169. 255. 255.]\n",
      "44\n",
      "[ 37. 218. 255. 255.]\n",
      "46\n",
      "[ 57. 198. 255. 255.]\n",
      "80\n",
      "[105. 150. 255. 255.]\n",
      "87\n",
      "[191.  64. 255. 255.]\n",
      "95\n",
      "[  4. 251. 255. 255.]\n",
      "96\n",
      "[131. 124. 255. 255.]\n",
      "5\n",
      "64\n",
      "[  0. 255. 255. 255.]\n",
      "66\n",
      "[243.  12. 255. 255.]\n",
      "67\n",
      "[208.  47. 255. 255.]\n",
      "68\n",
      "[123. 132. 255. 255.]\n",
      "98\n",
      "[133. 122. 255. 255.]\n",
      "99\n",
      "[148. 107. 255. 255.]\n",
      "75\n",
      "[ 46. 209. 255. 255.]\n",
      "78\n",
      "[134. 121. 255. 255.]\n",
      "48\n",
      "[255.   0. 255. 255.]\n",
      "86\n",
      "[160.  95. 255. 255.]\n",
      "62\n",
      "[156.  99. 255. 255.]\n",
      "0\n",
      "0\n",
      "[255.   0. 255. 255.]\n",
      "24\n",
      "[123. 132. 255. 255.]\n",
      "38\n",
      "[  0. 255. 255. 255.]\n",
      "31\n",
      "[167.  88. 255. 255.]\n",
      "ov\n",
      "2\n",
      "2\n",
      "[202.  53. 255. 255.]\n",
      "3\n",
      "[ 10. 245. 255. 255.]\n",
      "7\n",
      "[ 80. 175. 255. 255.]\n",
      "10\n",
      "[ 11. 244. 255. 255.]\n",
      "12\n",
      "[ 56. 199. 255. 255.]\n",
      "15\n",
      "[ 88. 167. 255. 255.]\n",
      "16\n",
      "[ 27. 228. 255. 255.]\n",
      "18\n",
      "[232.  23. 255. 255.]\n",
      "19\n",
      "[166.  89. 255. 255.]\n",
      "20\n",
      "[ 92. 163. 255. 255.]\n",
      "22\n",
      "[196.  59. 255. 255.]\n",
      "26\n",
      "[125. 130. 255. 255.]\n",
      "27\n",
      "[ 25. 230. 255. 255.]\n",
      "29\n",
      "[ 78. 177. 255. 255.]\n",
      "33\n",
      "[190.  65. 255. 255.]\n",
      "34\n",
      "[154. 101. 255. 255.]\n",
      "37\n",
      "[156.  99. 255. 255.]\n",
      "40\n",
      "[ 92. 163. 255. 255.]\n",
      "42\n",
      "[101. 154. 255. 255.]\n",
      "44\n",
      "[ 37. 218. 255. 255.]\n",
      "46\n",
      "[ 66. 189. 255. 255.]\n",
      "80\n",
      "[102. 153. 255. 255.]\n",
      "87\n",
      "[255.   0. 255. 255.]\n",
      "95\n",
      "[  0. 255. 255. 255.]\n",
      "96\n",
      "[139. 116. 255. 255.]\n",
      "6\n",
      "64\n",
      "[  0. 255. 255. 255.]\n",
      "66\n",
      "[255.   0. 255. 255.]\n",
      "98\n",
      "[115. 140. 255. 255.]\n",
      "68\n",
      "[142. 113. 255. 255.]\n",
      "99\n",
      "[138. 117. 255. 255.]\n",
      "75\n",
      "[ 87. 168. 255. 255.]\n",
      "78\n",
      "[119. 136. 255. 255.]\n",
      "86\n",
      "[145. 110. 255. 255.]\n",
      "62\n",
      "[189.  66. 255. 255.]\n",
      "0\n",
      "0\n",
      "[255.   0. 255. 255.]\n",
      "24\n",
      "[118. 137. 255. 255.]\n",
      "38\n",
      "[  0. 255. 255. 255.]\n",
      "31\n",
      "[113. 142. 255. 255.]\n",
      "ob\n",
      "4\n",
      "36\n",
      "[255.   0. 255. 255.]\n",
      "40\n",
      "[160.  95. 255. 255.]\n",
      "42\n",
      "[171.  84. 255. 255.]\n",
      "44\n",
      "[114. 141. 255. 255.]\n",
      "46\n",
      "[  0. 255. 255. 255.]\n",
      "80\n",
      "[ 90. 165. 255. 255.]\n",
      "20\n",
      "[ 68. 187. 255. 255.]\n",
      "59\n",
      "[ 27. 228. 255. 255.]\n",
      "28\n",
      "[222.  33. 255. 255.]\n",
      "6\n",
      "64\n",
      "[  4. 251. 255. 255.]\n",
      "96\n",
      "[155. 100. 255. 255.]\n",
      "66\n",
      "[255.   0. 255. 255.]\n",
      "68\n",
      "[114. 141. 255. 255.]\n",
      "75\n",
      "[  0. 255. 255. 255.]\n",
      "78\n",
      "[117. 138. 255. 255.]\n",
      "86\n",
      "[129. 126. 255. 255.]\n",
      "62\n",
      "[202.  53. 255. 255.]\n",
      "0\n",
      "0\n",
      "[247.   8. 255. 255.]\n",
      "2\n",
      "[ 54. 201. 255. 255.]\n",
      "3\n",
      "[170.  85. 255. 255.]\n",
      "38\n",
      "[  0. 255. 255. 255.]\n",
      "7\n",
      "[147. 108. 255. 255.]\n",
      "10\n",
      "[141. 114. 255. 255.]\n",
      "12\n",
      "[155. 100. 255. 255.]\n",
      "15\n",
      "[ 35. 220. 255. 255.]\n",
      "16\n",
      "[162.  93. 255. 255.]\n",
      "18\n",
      "[ 71. 184. 255. 255.]\n",
      "19\n",
      "[228.  27. 255. 255.]\n",
      "24\n",
      "[114. 141. 255. 255.]\n",
      "27\n",
      "[146. 109. 255. 255.]\n",
      "29\n",
      "[255.   0. 255. 255.]\n",
      "95\n",
      "[223.  32. 255. 255.]\n",
      "31\n",
      "[170.  85. 255. 255.]\n",
      "BC\n",
      "no\n",
      "0\n",
      "0\n",
      "[  0. 255. 255. 255.]\n",
      "24\n",
      "[255.   0. 255. 255.]\n",
      "38\n",
      "[  3. 252. 255. 255.]\n",
      "31\n",
      "[195.  60. 255. 255.]\n",
      "ov\n",
      "0\n",
      "0\n",
      "[144. 111. 255. 255.]\n",
      "24\n",
      "[255.   0. 255. 255.]\n",
      "38\n",
      "[  0. 255. 255. 255.]\n",
      "31\n",
      "[218.  37. 255. 255.]\n",
      "ob\n",
      "0\n",
      "0\n",
      "[164.  91. 255. 255.]\n",
      "2\n",
      "[ 47. 208. 255. 255.]\n",
      "3\n",
      "[ 14. 241. 255. 255.]\n",
      "38\n",
      "[120. 135. 255. 255.]\n",
      "7\n",
      "[ 36. 219. 255. 255.]\n",
      "10\n",
      "[  3. 252. 255. 255.]\n",
      "12\n",
      "[  0. 255. 255. 255.]\n",
      "15\n",
      "[ 40. 215. 255. 255.]\n",
      "16\n",
      "[ 34. 221. 255. 255.]\n",
      "18\n",
      "[165.  90. 255. 255.]\n",
      "19\n",
      "[ 34. 221. 255. 255.]\n",
      "24\n",
      "[205.  50. 255. 255.]\n",
      "27\n",
      "[ 13. 242. 255. 255.]\n",
      "29\n",
      "[ 22. 233. 255. 255.]\n",
      "95\n",
      "[ 76. 179. 255. 255.]\n",
      "31\n",
      "[255.   0. 255. 255.]\n"
     ]
    }
   ],
   "source": [
    "for measure, _con in wb_con.items():\n",
    "    print(measure)\n",
    "    for group, mods in _con.items():\n",
    "        print(group)\n",
    "        for mod, data in mods.items():\n",
    "            print(mod)\n",
    "            writepath = os.path.join(pth,'%s_%s_%i.txt'%(measure, group, mod))\n",
    "            f = open(writepath, \"w\")\n",
    "            for key, value in data.items():\n",
    "                print(key)\n",
    "                x = value[2]\n",
    "                print(x)\n",
    "                f.write('LABEL_%i\\n'%(key+1))\n",
    "                f.write('%i %i %i %i %i\\n'%(key+1, x[0], x[1], x[2], x[3]))\n",
    "            f.close()"
   ]
  },
  {
   "cell_type": "code",
   "execution_count": 45,
   "metadata": {
    "scrolled": true
   },
   "outputs": [],
   "source": [
    "import subprocess\n",
    "import glob\n",
    "for x in glob.glob(os.path.join(pth,'*.txt')):\n",
    "    name=x.split('.')[0]\n",
    "    cmd = ['wb_command', '-cifti-label-import', '%s'%(os.path.join(pth,'melodic_IC_ftb_copy.dlabel.nii')), '%s'%(os.path.join(pth,'%s'%x)),'%s'%(os.path.join(pth, '%s.dlabel.nii'%name)), '-discard-others']\n",
    "    process=subprocess.Popen(cmd, stdout=subprocess.PIPE, stderr=subprocess.PIPE)\n",
    "    stdout, stderr = process.communicate()\n",
    "    process.wait()"
   ]
  },
  {
   "cell_type": "markdown",
   "metadata": {},
   "source": [
    "## Get ICnames"
   ]
  },
  {
   "cell_type": "code",
   "execution_count": null,
   "metadata": {},
   "outputs": [],
   "source": [
    "g = subgraph_dict['ob'][6]\n",
    "new={}\n",
    "for x,y in nx.get_node_attributes(g, 'labels').items():\n",
    "        new[x]=[y['IC'], y['area']]"
   ]
  }
 ],
 "metadata": {
  "kernelspec": {
   "display_name": "Python 3",
   "language": "python",
   "name": "python3"
  },
  "language_info": {
   "codemirror_mode": {
    "name": "ipython",
    "version": 3
   },
   "file_extension": ".py",
   "mimetype": "text/x-python",
   "name": "python",
   "nbconvert_exporter": "python",
   "pygments_lexer": "ipython3",
   "version": "3.7.2"
  }
 },
 "nbformat": 4,
 "nbformat_minor": 4
}
