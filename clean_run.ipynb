{
 "cells": [
  {
   "cell_type": "code",
   "execution_count": 2,
   "metadata": {},
   "outputs": [],
   "source": [
    "import pandas as pd\n",
    "import glob\n",
    "import os\n",
    "import numpy as np\n",
    "import pickle\n",
    "import statistics\n",
    "import community\n",
    "import matplotlib as mlp\n",
    "# mlp.use(\"Qt5Agg\")\n",
    "import matplotlib.pyplot as plt\n",
    "%matplotlib inline\n",
    "import networkx as nx\n",
    "\n",
    "import analysis as an\n",
    "import pandas as pd\n",
    "\n",
    "\n",
    "import numpy as np\n",
    "import seaborn as sns\n",
    "\n",
    "from scipy import stats \n",
    "import scipy\n",
    "import pprint as pp\n",
    "import bct as bct"
   ]
  },
  {
   "cell_type": "code",
   "execution_count": 3,
   "metadata": {},
   "outputs": [],
   "source": [
    "def zscore(col):\n",
    "    col_z = (col - col.mean())/col.std(ddof=0)\n",
    "    return(col_z)"
   ]
  },
  {
   "cell_type": "code",
   "execution_count": 4,
   "metadata": {},
   "outputs": [],
   "source": [
    "p='/Users/gracer/Google Drive/HCP/HCP_graph/1200/'\n",
    "atlas=pd.read_csv(os.path.join(p,'brains','atlas.csv'), sep=',')\n"
   ]
  },
  {
   "cell_type": "code",
   "execution_count": 5,
   "metadata": {},
   "outputs": [],
   "source": [
    "labels = pd.read_csv('/Users/gracer/Google Drive/HCP/HCP_graph/1200/datasets/tmp/mod_labels.csv', sep=',')"
   ]
  },
  {
   "cell_type": "code",
   "execution_count": 6,
   "metadata": {},
   "outputs": [],
   "source": [
    "basepath='/Users/gracer/Google Drive/HCP/HCP_graph/1200/datasets/'"
   ]
  },
  {
   "cell_type": "code",
   "execution_count": 7,
   "metadata": {},
   "outputs": [
    {
     "name": "stdout",
     "output_type": "stream",
     "text": [
      "/Users/gracer/Google Drive/HCP/HCP_graph/1200/datasets/tmp/6_submod_dict_09-15-2020_03-49-48\n"
     ]
    }
   ],
   "source": [
    "# this is a dataframe\n",
    "latest_file=an.find_latest(os.path.join(basepath,'tmp'),'6_*')\n",
    "submod_dict=an.onetoughjar(latest_file)"
   ]
  },
  {
   "cell_type": "code",
   "execution_count": 8,
   "metadata": {},
   "outputs": [
    {
     "name": "stdout",
     "output_type": "stream",
     "text": [
      "/Users/gracer/Google Drive/HCP/HCP_graph/1200/datasets/tmp/5_summary_dict_09-15-2020_03-49-44\n"
     ]
    }
   ],
   "source": [
    "# this is the graph\n",
    "latest_file=an.find_latest(os.path.join(basepath,'tmp'),'5_*')\n",
    "summary_dict=an.onetoughjar(latest_file)"
   ]
  },
  {
   "cell_type": "code",
   "execution_count": 34,
   "metadata": {},
   "outputs": [
    {
     "name": "stdout",
     "output_type": "stream",
     "text": [
      "/Users/gracer/Google Drive/HCP/HCP_graph/1200/datasets/tmp/7_subgraph_dict_09-17-2020_08-55-55\n"
     ]
    }
   ],
   "source": [
    "# this is the graph\n",
    "latest_file=an.find_latest(os.path.join(basepath,'tmp'),'7_*')\n",
    "subgraph_dict=an.onetoughjar(latest_file)"
   ]
  },
  {
   "cell_type": "code",
   "execution_count": 36,
   "metadata": {},
   "outputs": [
    {
     "data": {
      "text/plain": [
       "NodeDataView({2: {'clustering': 0.5991902834008097, 'centrality': 0.004510244577008662, 'PC': 0.4628229166318576, 'sub_modules': 0, 'sub_zDegree': -1.0032981833987777, 'labels': {'label': 'L_Visual_9', 'Unnamed: 2': 'L_V4_ROI', 'area': 'Visual', 'IC': 'IC_2'}}, 3: {'clustering': 0.6856330014224751, 'centrality': 0.0028652023065557303, 'PC': 0.1422732361259007, 'sub_modules': 1, 'sub_zDegree': -1.8890631466012802, 'labels': {'label': 'R_Visual_26', 'Unnamed: 2': 'R_V3_ROI', 'area': 'Visual', 'IC': 'IC_3'}}, 7: {'clustering': 0.6464237516869096, 'centrality': 0.0034776577499919816, 'PC': 0.2600282707217255, 'sub_modules': 0, 'sub_zDegree': -1.0032981833987777, 'labels': {'label': 'R_Visual_27', 'Unnamed: 2': 'R_IP0_ROI', 'area': 'Visual', 'IC': 'IC_7'}}, 10: {'clustering': 0.6873949579831933, 'centrality': 0.0026755200922479656, 'PC': 0.14449823038730059, 'sub_modules': 1, 'sub_zDegree': -1.8890631466012802, 'labels': {'label': 'L_Visual_18', 'Unnamed: 2': 'L_V4_ROI', 'area': 'Visual', 'IC': 'IC_10'}}, 12: {'clustering': 0.6815114709851552, 'centrality': 0.002869083176866643, 'PC': 0.21913823041804004, 'sub_modules': 1, 'sub_zDegree': -1.8890631466012802, 'labels': {'label': 'L_Visual_1', 'Unnamed: 2': 'L_V3B_ROI', 'area': 'Visual', 'IC': 'IC_12'}}, 15: {'clustering': 0.6477732793522267, 'centrality': 0.0034891662389615304, 'PC': 0.27303450879680435, 'sub_modules': 1, 'sub_zDegree': -1.8890631466012802, 'labels': {'label': 'R_Visual_35', 'Unnamed: 2': 'R_V2_ROI', 'area': 'Visual', 'IC': 'IC_15'}}, 16: {'clustering': 0.6555555555555556, 'centrality': 0.0032462784190018675, 'PC': 0.17108334266813618, 'sub_modules': 1, 'sub_zDegree': -1.8890631466012802, 'labels': {'label': 'L_Visual_7', 'Unnamed: 2': 'L_V6_ROI', 'area': 'Visual', 'IC': 'IC_16'}}, 18: {'clustering': 0.5761024182076814, 'centrality': 0.004546720548988675, 'PC': 0.5136794781253806, 'sub_modules': 1, 'sub_zDegree': -1.8890631466012802, 'labels': {'label': 'L_Visual_3', 'Unnamed: 2': 'L_V1_ROI', 'area': 'Visual', 'IC': 'IC_18'}}, 19: {'clustering': 0.6238095238095238, 'centrality': 0.0038558898766946847, 'PC': 0.4030972249899474, 'sub_modules': 2, 'sub_zDegree': 0.8472715221685962, 'labels': {'label': 'L_Visual_8', 'Unnamed: 2': 'L_V3CD_ROI', 'area': 'Visual', 'IC': 'IC_19'}}, 20: {'clustering': 0.6970443349753694, 'centrality': 0.0020606174135305664, 'PC': 0.27991175436778537, 'sub_modules': 3, 'sub_zDegree': -1.1464050490757716, 'labels': {'label': 'L_SMmouth_1', 'Unnamed: 2': 'L_4_ROI', 'area': 'Smmouth', 'IC': 'IC_20'}}, 22: {'clustering': 0.578397212543554, 'centrality': 0.006034113950255179, 'PC': 0.4528891093664653, 'sub_modules': 2, 'sub_zDegree': 0.8472715221685962, 'labels': {'label': 'L_DorsalAttn_14', 'Unnamed: 2': 'L_PH_ROI', 'area': 'DorsalAttn', 'IC': 'IC_22'}}, 26: {'clustering': 0.6202090592334495, 'centrality': 0.004596832670287014, 'PC': 0.33482037534302256, 'sub_modules': 3, 'sub_zDegree': -1.1464050490757716, 'labels': {'label': 'R_SMhand_19', 'Unnamed: 2': 'R_7AL_ROI', 'area': 'Smhand', 'IC': 'IC_26'}}, 27: {'clustering': 0.6987522281639929, 'centrality': 0.0026793947022035946, 'PC': 0.16707324418541003, 'sub_modules': 0, 'sub_zDegree': -1.0032981833987777, 'labels': {'label': 'L_Visual_14', 'Unnamed: 2': 'L_V2_ROI', 'area': 'Visual', 'IC': 'IC_27'}}, 29: {'clustering': 0.7058823529411765, 'centrality': 0.002201363715666161, 'PC': 0.25576212512427354, 'sub_modules': 0, 'sub_zDegree': -1.0032981833987777, 'labels': {'label': 'R_Visual_29', 'Unnamed: 2': 'R_MST_ROI', 'area': 'Visual', 'IC': 'IC_29'}}, 33: {'clustering': 0.591025641025641, 'centrality': 0.005182844814814473, 'PC': 0.4425978240658295, 'sub_modules': 2, 'sub_zDegree': 0.8472715221685962, 'labels': {'label': 'L_DorsalAttn_9', 'Unnamed: 2': 'L_MIP_ROI', 'area': 'DorsalAttn', 'IC': 'IC_33'}}, 34: {'clustering': 0.5929694727104533, 'centrality': 0.006903815263236643, 'PC': 0.3829571081473392, 'sub_modules': 3, 'sub_zDegree': -1.1464050490757716, 'labels': {'label': 'L_SMhand_15', 'Unnamed: 2': 'L_2_ROI', 'area': 'Smhand', 'IC': 'IC_34'}}, 37: {'clustering': 0.6585365853658537, 'centrality': 0.003876926704797539, 'PC': 0.38596120934116607, 'sub_modules': 3, 'sub_zDegree': -1.1464050490757716, 'labels': {'label': 'R_CinguloOperc_27', 'Unnamed: 2': 'R_SCEF_ROI', 'area': 'CinguloOperc', 'IC': 'IC_37'}}, 40: {'clustering': 0.6452762923351159, 'centrality': 0.003066673111795671, 'PC': 0.27974016068756413, 'sub_modules': 3, 'sub_zDegree': -1.1464050490757716, 'labels': {'label': 'L_SMmouth_4', 'Unnamed: 2': 'L_3b_ROI', 'area': 'Smmouth', 'IC': 'IC_40'}}, 42: {'clustering': 0.626984126984127, 'centrality': 0.004322420083259482, 'PC': 0.2946773998359341, 'sub_modules': 3, 'sub_zDegree': -1.1464050490757716, 'labels': {'label': 'R_SMhand_37', 'Unnamed: 2': 'R_2_ROI', 'area': 'Smhand', 'IC': 'IC_42'}}, 44: {'clustering': 0.6862745098039216, 'centrality': 0.0027040354126631363, 'PC': 0.18747588314672714, 'sub_modules': 3, 'sub_zDegree': -1.1464050490757716, 'labels': {'label': 'R_Auditory_18', 'Unnamed: 2': 'R_A4_ROI', 'area': 'Auditory', 'IC': 'IC_44'}}, 46: {'clustering': 0.6431451612903226, 'centrality': 0.0031061912023553568, 'PC': 0.2368130840706344, 'sub_modules': 3, 'sub_zDegree': -1.1464050490757716, 'labels': {'label': 'L_SMhand_6', 'Unnamed: 2': 'L_5L_ROI', 'area': 'Smhand', 'IC': 'IC_46'}}, 80: {'clustering': 0.507399577167019, 'centrality': 0.008925958149236262, 'PC': 0.2963620947557708, 'sub_modules': 4, 'sub_zDegree': 0.0, 'labels': {'label': 'BrainStem', 'Unnamed: 2': 'BrainStem', 'area': 'BrainStem', 'IC': 'IC_80'}}, 87: {'clustering': 0.5413533834586466, 'centrality': 0.010950465695640595, 'PC': 0.5527294131063281, 'sub_modules': 5, 'sub_zDegree': 0.0, 'labels': {'label': 'R_Cerebellum', 'Unnamed: 2': 'R_Cerebellum', 'area': 'Cerebellum', 'IC': 'IC_87'}}, 95: {'clustering': 0.6486486486486487, 'centrality': 0.0035901577001218217, 'PC': 0.12508296103966032, 'sub_modules': 6, 'sub_zDegree': 0.0, 'labels': {'label': 'L_Thalamus', 'Unnamed: 2': 'L_Thalamus', 'area': 'Thalamus', 'IC': 'IC_95'}}, 96: {'clustering': 0.5294685990338164, 'centrality': 0.00843848307101143, 'PC': 0.3586866648930708, 'sub_modules': 7, 'sub_zDegree': 0.0, 'labels': {'label': 'R_Thalamus', 'Unnamed: 2': 'R_Thalamus', 'area': 'Thalamus', 'IC': 'IC_96'}}})"
      ]
     },
     "execution_count": 36,
     "metadata": {},
     "output_type": "execute_result"
    }
   ],
   "source": [
    "subgraph_dict['ov'][2].nodes(data = True)"
   ]
  },
  {
   "cell_type": "code",
   "execution_count": 10,
   "metadata": {},
   "outputs": [],
   "source": [
    "part = pd.DataFrame.from_dict(summary_dict['no']['modules']['partition'], orient='index', columns = ['module'])\n"
   ]
  },
  {
   "cell_type": "markdown",
   "metadata": {},
   "source": [
    "Making an edge data frame"
   ]
  },
  {
   "cell_type": "code",
   "execution_count": null,
   "metadata": {},
   "outputs": [],
   "source": [
    "edges = {}\n",
    "\n",
    "for group, stuff in summary_dict.items():\n",
    "    print(group)\n",
    "    _df = nx.to_pandas_edgelist(stuff['comm_graph'])\n",
    "    _df.loc[(_df['source'] == _df['target']), 'weight'] = 0\n",
    "\n",
    "    _df['group']=group\n",
    "    edges[group]=_df\n",
    "\n",
    "edge_df=pd.concat(list(edges.values()))"
   ]
  },
  {
   "cell_type": "code",
   "execution_count": null,
   "metadata": {},
   "outputs": [],
   "source": [
    "edge_df['z_weight']=an.zscore(edge_df['weight'])\n",
    "\n",
    "# Set normalized edge as an get_edge_attributes\n",
    "for k,v in update_dict.items():\n",
    "    test=edge_df[edge_df['group']==k]\n",
    "    keyz = list(zip(test['source'],test['target']))\n",
    "    values=test['z_weight']\n",
    "    up_dict={}\n",
    "    for i in range(len(keyz)):\n",
    "        up_dict[keyz[i]]={'z_edge':values[i]}\n",
    "    nx.set_edge_attributes(v['comm_graph'], up_dict)\n"
   ]
  },
  {
   "cell_type": "code",
   "execution_count": null,
   "metadata": {},
   "outputs": [],
   "source": [
    "edge_df"
   ]
  },
  {
   "cell_type": "markdown",
   "metadata": {},
   "source": [
    "Checking the save dict to calculcate differences in edges "
   ]
  },
  {
   "cell_type": "code",
   "execution_count": null,
   "metadata": {},
   "outputs": [],
   "source": [
    "# this is a dataframe\n",
    "latest_file=an.find_latest(os.path.join(basepath,'tmp'),'3_*')\n",
    "save_dict=an.onetoughjar(latest_file)"
   ]
  },
  {
   "cell_type": "code",
   "execution_count": 1,
   "metadata": {},
   "outputs": [
    {
     "ename": "NameError",
     "evalue": "name 'save_dict' is not defined",
     "output_type": "error",
     "traceback": [
      "\u001b[0;31m---------------------------------------------------------------------------\u001b[0m",
      "\u001b[0;31mNameError\u001b[0m                                 Traceback (most recent call last)",
      "\u001b[0;32m<ipython-input-1-8b397720aea9>\u001b[0m in \u001b[0;36m<module>\u001b[0;34m\u001b[0m\n\u001b[0;32m----> 1\u001b[0;31m \u001b[0;32mfor\u001b[0m \u001b[0mgroup\u001b[0m\u001b[0;34m,\u001b[0m \u001b[0mvalues\u001b[0m \u001b[0;32min\u001b[0m \u001b[0msave_dict\u001b[0m\u001b[0;34m[\u001b[0m\u001b[0;34m'NR'\u001b[0m\u001b[0;34m]\u001b[0m\u001b[0;34m.\u001b[0m\u001b[0mitems\u001b[0m\u001b[0;34m(\u001b[0m\u001b[0;34m)\u001b[0m\u001b[0;34m:\u001b[0m\u001b[0;34m\u001b[0m\u001b[0;34m\u001b[0m\u001b[0m\n\u001b[0m\u001b[1;32m      2\u001b[0m     \u001b[0mprint\u001b[0m\u001b[0;34m(\u001b[0m\u001b[0mgroup\u001b[0m\u001b[0;34m)\u001b[0m\u001b[0;34m\u001b[0m\u001b[0;34m\u001b[0m\u001b[0m\n\u001b[1;32m      3\u001b[0m     \u001b[0mvalues\u001b[0m\u001b[0;34m[\u001b[0m\u001b[0;34m'modules'\u001b[0m\u001b[0;34m]\u001b[0m \u001b[0;34m=\u001b[0m \u001b[0msummary_dict\u001b[0m\u001b[0;34m[\u001b[0m\u001b[0mgroup\u001b[0m\u001b[0;34m]\u001b[0m\u001b[0;34m[\u001b[0m\u001b[0;34m'modules'\u001b[0m\u001b[0;34m]\u001b[0m\u001b[0;34m[\u001b[0m\u001b[0;34m'partition'\u001b[0m\u001b[0;34m]\u001b[0m\u001b[0;34m\u001b[0m\u001b[0;34m\u001b[0m\u001b[0m\n\u001b[1;32m      4\u001b[0m     \u001b[0;32mfor\u001b[0m \u001b[0msub\u001b[0m\u001b[0;34m,\u001b[0m \u001b[0mgraph\u001b[0m \u001b[0;32min\u001b[0m \u001b[0mvalues\u001b[0m\u001b[0;34m[\u001b[0m\u001b[0;34m'graphs'\u001b[0m\u001b[0;34m]\u001b[0m\u001b[0;34m.\u001b[0m\u001b[0mitems\u001b[0m\u001b[0;34m(\u001b[0m\u001b[0;34m)\u001b[0m\u001b[0;34m:\u001b[0m\u001b[0;34m\u001b[0m\u001b[0;34m\u001b[0m\u001b[0m\n\u001b[1;32m      5\u001b[0m         \u001b[0mprint\u001b[0m\u001b[0;34m(\u001b[0m\u001b[0msub\u001b[0m\u001b[0;34m)\u001b[0m\u001b[0;34m\u001b[0m\u001b[0;34m\u001b[0m\u001b[0m\n",
      "\u001b[0;31mNameError\u001b[0m: name 'save_dict' is not defined"
     ]
    }
   ],
   "source": [
    "for group, values in save_dict['NR'].items():\n",
    "    print(group)\n",
    "    values['modules'] = summary_dict[group]['modules']['partition']\n",
    "    for sub, graph in values['graphs'].items():\n",
    "        print(sub)\n",
    "        G = graph\n",
    "        modules = summary_dict[group]['modules']['partition']\n",
    "        nx.set_node_attributes(G, modules, 'modules')"
   ]
  },
  {
   "cell_type": "code",
   "execution_count": null,
   "metadata": {
    "scrolled": true
   },
   "outputs": [],
   "source": [
    "save_dict['NR']['no'].keys()"
   ]
  },
  {
   "cell_type": "code",
   "execution_count": null,
   "metadata": {},
   "outputs": [],
   "source": [
    "edges = {}\n",
    "\n",
    "for group, stuff in save_dict['NR'].items():\n",
    "    print(group)\n",
    "    for sub, graph in stuff['graphs'].items():\n",
    "        print(sub)\n",
    "        _df = nx.to_pandas_edgelist(graph)\n",
    "        _df.loc[(_df['source'] == _df['target']), 'weight'] = 0\n",
    "\n",
    "        _df['group']=group\n",
    "        edges[group]=_df\n",
    "\n",
    "sub_edge_df=pd.concat(list(edges.values()))"
   ]
  },
  {
   "cell_type": "code",
   "execution_count": null,
   "metadata": {},
   "outputs": [],
   "source": [
    "sub_edge_df = sub_edge_df[sub_edge_df['source'] != sub_edge_df['target']]"
   ]
  },
  {
   "cell_type": "code",
   "execution_count": null,
   "metadata": {},
   "outputs": [],
   "source": [
    "sub_edge_df.to_csv(os.path.join(basepath,'tmp','sub_edge_data.csv'), sep=',')"
   ]
  },
  {
   "cell_type": "code",
   "execution_count": null,
   "metadata": {},
   "outputs": [],
   "source": [
    "sub_edge_df['z_weight']=an.zscore(sub_edge_df['weight'])"
   ]
  },
  {
   "cell_type": "code",
   "execution_count": null,
   "metadata": {},
   "outputs": [],
   "source": [
    "# Set normalized edge as an get_edge_attributes\n",
    "for group,v in save_dict['NR'].items():\n",
    "    for sub, graph in v['graphs'].items():\n",
    "        test=sub_edge_df[sub_edge_df['group']==group]\n",
    "        keyz = list(zip(test['source'],test['target']))\n",
    "        values=test['z_weight']\n",
    "        up_dict={}\n",
    "        for i in range(len(keyz)):\n",
    "            up_dict[keyz[i]]={'z_edge':values[i]}\n",
    "        nx.set_edge_attributes(graph, up_dict)\n"
   ]
  },
  {
   "cell_type": "markdown",
   "metadata": {},
   "source": [
    "Make individual comm graphs"
   ]
  },
  {
   "cell_type": "code",
   "execution_count": null,
   "metadata": {
    "scrolled": true
   },
   "outputs": [],
   "source": [
    "save_dict['NR']['no']['comm_graph']['200513'].edges(data=True)"
   ]
  },
  {
   "cell_type": "code",
   "execution_count": null,
   "metadata": {},
   "outputs": [],
   "source": []
  },
  {
   "cell_type": "code",
   "execution_count": null,
   "metadata": {},
   "outputs": [],
   "source": [
    "# Make community graph\n",
    "for group,v in save_dict['NR'].items():\n",
    "    print(group)\n",
    "    v.update(comm_graph = {})\n",
    "    for sub, data in v['graphs'].items():\n",
    "        print(sub)\n",
    "        comm_graph = community.induced_graph(v['modules'], data)\n",
    "        v['comm_graph'][sub] = comm_graph\n"
   ]
  },
  {
   "cell_type": "code",
   "execution_count": null,
   "metadata": {},
   "outputs": [],
   "source": [
    "def cal_edges(dic, basepath, group):\n",
    "    edges = {}\n",
    "    for sub, graph in dic.items():\n",
    "        print(sub)\n",
    "        _df = nx.to_pandas_edgelist(graph)\n",
    "        _df.loc[(_df['source'] == _df['target']), 'weight'] = 0\n",
    "        _df = _df[_df['source'] != _df['target']]\n",
    "        _df['group']=group\n",
    "        _df['z_weight']=an.zscore(_df['weight'])\n",
    "        edges[sub]=_df\n",
    "    return(edges)\n",
    "    \n",
    "    \n",
    "\n",
    "\n",
    "    "
   ]
  },
  {
   "cell_type": "code",
   "execution_count": null,
   "metadata": {},
   "outputs": [],
   "source": [
    "save_dict['NR']['no']['comm_graph']['157437']"
   ]
  },
  {
   "cell_type": "code",
   "execution_count": null,
   "metadata": {},
   "outputs": [],
   "source": [
    "tmp_dict = {'no':{}, 'ov': {}, 'ob': {}}\n",
    "for group, dat in save_dict['NR'].items():\n",
    "    print(group)\n",
    "    x=cal_edges(dat['comm_graph'], basepath, group)\n",
    "    tmp_dict[group]=pd.concat(list(x.values()))\n"
   ]
  },
  {
   "cell_type": "code",
   "execution_count": null,
   "metadata": {
    "scrolled": true
   },
   "outputs": [],
   "source": [
    "tmp_dict['ob']"
   ]
  },
  {
   "cell_type": "code",
   "execution_count": null,
   "metadata": {},
   "outputs": [],
   "source": [
    "sub_comm_edge_df=pd.concat(list(tmp_dict.values()))\n"
   ]
  },
  {
   "cell_type": "code",
   "execution_count": null,
   "metadata": {},
   "outputs": [],
   "source": [
    "sub_comm_edge_df.to_csv(os.path.join(basepath,'tmp','sub_comm_edge_data.csv'), sep=',')"
   ]
  },
  {
   "cell_type": "code",
   "execution_count": null,
   "metadata": {},
   "outputs": [],
   "source": [
    "edges = {}\n",
    "\n",
    "for group, stuff in save_dict['NR'].items():\n",
    "    print(group)\n",
    "    for sub, graph in stuff['graphs'].items():\n",
    "        print(sub)\n",
    "        _df = nx.to_pandas_edgelist(graph)\n",
    "        _df.loc[(_df['source'] == _df['target']), 'weight'] = 0\n",
    "\n",
    "        _df['group']=group\n",
    "        edges[group]=_df\n",
    "\n",
    "sub_edge_df=pd.concat(list(edges.values()))\n",
    "sub_edge_df = sub_edge_df[sub_edge_df['source'] != sub_edge_df['target']]\n",
    "sub_edge_df['z_weight']=an.zscore(sub_edge_df['weight'])\n",
    "sub_edge_df.to_csv(os.path.join(basepath,'tmp','sub_edge_data.csv'), sep=',')\n"
   ]
  },
  {
   "cell_type": "code",
   "execution_count": null,
   "metadata": {},
   "outputs": [],
   "source": [
    "# Set normalized edge as an get_edge_attributes\n",
    "for group,v in save_dict['NR'].items():\n",
    "    for sub, graph in v['graphs'].items():\n",
    "        test=sub_edge_df[sub_edge_df['group']==group]\n",
    "        keyz = list(zip(test['source'],test['target']))\n",
    "        values=test['z_weight']\n",
    "        up_dict={}\n",
    "        for i in range(len(keyz)):\n",
    "            up_dict[keyz[i]]={'z_edge':values[i]}\n",
    "        nx.set_edge_attributes(graph, up_dict)\n"
   ]
  },
  {
   "cell_type": "code",
   "execution_count": null,
   "metadata": {},
   "outputs": [],
   "source": [
    "#an.adillyofapickle('/Users/gracer/Google Drive/HCP/HCP_graph/1200/datasets',save_dict['NR'],'10_subedge_dict')"
   ]
  },
  {
   "cell_type": "code",
   "execution_count": 11,
   "metadata": {},
   "outputs": [],
   "source": [
    "def mod_loc(group, module): \n",
    "    columns=['Index','area', 'label']\n",
    "    data = []\n",
    "    part = pd.DataFrame.from_dict(summary_dict[group]['modules']['partition'], orient='index', columns = ['module'])\n",
    "    x = part.loc[part['module'] == module].index\n",
    "    for item in x:\n",
    "        data.append(labels[['Index','area', 'label']].loc[labels['Index'][item]])    \n",
    "    df = pd.DataFrame(data, columns=columns)\n",
    "    return(df)"
   ]
  },
  {
   "cell_type": "code",
   "execution_count": 12,
   "metadata": {},
   "outputs": [
    {
     "data": {
      "text/html": [
       "<div>\n",
       "<style scoped>\n",
       "    .dataframe tbody tr th:only-of-type {\n",
       "        vertical-align: middle;\n",
       "    }\n",
       "\n",
       "    .dataframe tbody tr th {\n",
       "        vertical-align: top;\n",
       "    }\n",
       "\n",
       "    .dataframe thead th {\n",
       "        text-align: right;\n",
       "    }\n",
       "</style>\n",
       "<table border=\"1\" class=\"dataframe\">\n",
       "  <thead>\n",
       "    <tr style=\"text-align: right;\">\n",
       "      <th></th>\n",
       "      <th>Index</th>\n",
       "      <th>area</th>\n",
       "      <th>label</th>\n",
       "    </tr>\n",
       "  </thead>\n",
       "  <tbody>\n",
       "    <tr>\n",
       "      <th>73</th>\n",
       "      <td>20</td>\n",
       "      <td>Smmouth</td>\n",
       "      <td>L_SMmouth_1</td>\n",
       "    </tr>\n",
       "    <tr>\n",
       "      <th>58</th>\n",
       "      <td>6</td>\n",
       "      <td>FrontoParietal</td>\n",
       "      <td>R_FrontoParietal_10</td>\n",
       "    </tr>\n",
       "    <tr>\n",
       "      <th>72</th>\n",
       "      <td>46</td>\n",
       "      <td>Smhand</td>\n",
       "      <td>L_SMhand_6</td>\n",
       "    </tr>\n",
       "    <tr>\n",
       "      <th>84</th>\n",
       "      <td>2</td>\n",
       "      <td>Visual</td>\n",
       "      <td>L_Visual_9</td>\n",
       "    </tr>\n",
       "  </tbody>\n",
       "</table>\n",
       "</div>"
      ],
      "text/plain": [
       "    Index            area                label\n",
       "73     20         Smmouth          L_SMmouth_1\n",
       "58      6  FrontoParietal  R_FrontoParietal_10\n",
       "72     46          Smhand           L_SMhand_6\n",
       "84      2          Visual           L_Visual_9"
      ]
     },
     "execution_count": 12,
     "metadata": {},
     "output_type": "execute_result"
    }
   ],
   "source": [
    "mod_loc('no', 0)"
   ]
  },
  {
   "cell_type": "code",
   "execution_count": 13,
   "metadata": {},
   "outputs": [
    {
     "name": "stdout",
     "output_type": "stream",
     "text": [
      "no\n",
      "8\n",
      "ov\n",
      "9\n",
      "ob\n",
      "9\n"
     ]
    }
   ],
   "source": [
    "aes_dict={'no':{},\n",
    "          'ov':{},\n",
    "          'ob':{}}\n",
    "for group, stuff in summary_dict.items():\n",
    "    print(group)\n",
    "    G=stuff['comm_graph']\n",
    "    aes_dict[group]=an.aesthetics(G,15000,100, 'sans-serif', 'Bold', 'z_edge', (80,50), 1)"
   ]
  },
  {
   "cell_type": "code",
   "execution_count": 14,
   "metadata": {
    "scrolled": false
   },
   "outputs": [
    {
     "name": "stdout",
     "output_type": "stream",
     "text": [
      "no\n",
      "8\n",
      "8\n",
      "[0.4375 1.3125 2.1875 3.0625 3.9375 4.8125 5.6875 6.5625]\n",
      "ov\n",
      "9\n",
      "9\n",
      "[0.44444444 1.33333333 2.22222222 3.11111111 4.         4.88888889\n",
      " 5.77777778 6.66666667 7.55555556]\n",
      "ob\n",
      "9\n",
      "9\n",
      "[0.44444444 1.33333333 2.22222222 3.11111111 4.         4.88888889\n",
      " 5.77777778 6.66666667 7.55555556]\n"
     ]
    }
   ],
   "source": [
    "for key, graph in summary_dict.items():\n",
    "    print(key)\n",
    "    G=graph['comm_graph']\n",
    "    aes=aes_dict[key]\n",
    "    an.module_fig(G,'%s z-score'%key, basepath, aes)"
   ]
  },
  {
   "cell_type": "code",
   "execution_count": null,
   "metadata": {
    "scrolled": true
   },
   "outputs": [],
   "source": [
    "groups = ['no','ov','ob']\n",
    "mods = [2,4,0,5,2,6]\n",
    "IC_=[11,16, 27, 35, 54, 58, 85]\n",
    "for group in groups:\n",
    "    for mod in mods:\n",
    "        for x in IC_:\n",
    "            if x in list(subgraph_dict[group][mod].nodes()):\n",
    "                print('for %s in mod %i and node %i'%(group, mod, x))\n",
    "                print(subgraph_dict[group][mod].nodes(data=True)[x])"
   ]
  },
  {
   "cell_type": "code",
   "execution_count": 15,
   "metadata": {},
   "outputs": [],
   "source": [
    "def aesthetics(graph, node_size, font_size, font_family, font_weight, edge_att, plot_size, mod):\n",
    "    aes={'general':{},\n",
    "         'nodes':{},\n",
    "         'edges':{}}\n",
    "    # nodes\n",
    "    color = np.array(list(graph.nodes))\n",
    "    color = np.array(color)\n",
    "    n_color=len(list(set(color)))\n",
    "    print(n_color)\n",
    "    aes['nodes']['color'] = color\n",
    "    aes['nodes']['colormap'] = ['Set3', n_color]\n",
    "    aes['nodes']['n_color'] = n_color\n",
    "    aes['nodes']['max'] = float(color.max())\n",
    "    aes['nodes']['min'] = float(color.min())\n",
    "    aes['nodes']['font_size'] = int(font_size)\n",
    "    aes['nodes']['font_family'] = font_family\n",
    "    aes['nodes']['font_weight'] = font_weight\n",
    "    aes['nodes']['node_size'] = int(node_size)\n",
    "    #edges\n",
    "    aes['edges']['colormap'] = plt.cm.gist_rainbow\n",
    "    edges,weights = zip(*nx.get_edge_attributes(graph,edge_att).items())\n",
    "    weights=np.array(weights)\n",
    "    aes['edges']['width mod'] = mod\n",
    "    aes['edges']['min'] = weights.min()\n",
    "    aes['edges']['max'] = weights.max()\n",
    "    # General\n",
    "    aes['general']['plot_size']=plot_size #tuple 80,50\n",
    "    return(aes)"
   ]
  },
  {
   "cell_type": "code",
   "execution_count": 16,
   "metadata": {},
   "outputs": [],
   "source": [
    "from mpl_toolkits.axes_grid1.inset_locator import inset_axes\n",
    "\n",
    "def basic_graph(graph, scl, FONT, metric, size, tile, basepath, bmi, mod):\n",
    "    #threshold\n",
    "    e,w = zip(*nx.get_edge_attributes(graph, 'weight').items())\n",
    "    purr=np.percentile(w, tile)\n",
    "    g=an.threshold2(graph,purr)\n",
    "    # style\n",
    "    fig = plt.figure(figsize = size)\n",
    "    ax1 = plt.subplot(111, aspect = 'equal')\n",
    "    plt.subplots_adjust(left=0.25, bottom=0, right=0.75, top=1, wspace=0.2, hspace=0)\n",
    "\n",
    "    positions=nx.circular_layout(g)\n",
    "    \n",
    "    # NODES\n",
    "    nodes, color = zip(*nx.get_node_attributes(g, metric).items())\n",
    "    nodes, label = zip(*nx.get_node_attributes(g, 'labels').items())\n",
    "    nodes, size = zip(*nx.get_node_attributes(g, metric).items())\n",
    "    new={}\n",
    "    for x,y in nx.get_node_attributes(g, 'labels').items():\n",
    "        new[x]=y['area']\n",
    "    \n",
    "    #draws nodes\n",
    "    color = np.array(color)\n",
    "    colz=stats.zscore(color)\n",
    "    nColormap=plt.cm.cool \n",
    "    cM=colz.max()\n",
    "    cm=colz.min()\n",
    "\n",
    "    scale=scl/colz.max()\n",
    "    nx.draw_networkx_nodes(g,\n",
    "                             positions,\n",
    "                             node_color=colz,\n",
    "                             node_size=np.square(colz)*scale,\n",
    "                             alpha=0.8,\n",
    "                             cmap= nColormap,\n",
    "                             vmin=cm ,vmax=cM)\n",
    "\n",
    "    #Styling for labels\n",
    "    nx.draw_networkx_labels(g, \n",
    "                            positions,\n",
    "                            new,\n",
    "                            font_size=FONT,\n",
    "                            font_family='sans-serif',\n",
    "                            fontweight = 'bold',\n",
    "                            horizontalalignment = 'center',\n",
    "                            verticalalignment = 'top')\n",
    "\n",
    "\n",
    "    # EDGES \n",
    "    edges,weights = zip(*nx.get_edge_attributes(g, 'weight').items())\n",
    "    #draw edges\n",
    "    weights=np.array(weights)\n",
    "    eColormap=plt.cm.gist_rainbow #check here if you want different colors https://matplotlib.org/3.1.1/gallery/color/colormap_reference.html\n",
    "\n",
    "    nx.draw_networkx_edges(g, \n",
    "                             positions,\n",
    "                             edge_list=edges,\n",
    "                             style='solid',\n",
    "                             width = np.square(weights)*200,\n",
    "                             edge_color = weights,\n",
    "                             edge_cmap=eColormap,\n",
    "                             edge_vmin=weights.min(),\n",
    "                             edge_vmax=weights.max())\n",
    "    \n",
    "    #FInishing touches\n",
    "\n",
    "\n",
    "    plt.axis('off')\n",
    "    if bmi == 'no':\n",
    "        plt.title(\"%s and edge weights of \\n %s graph\"%(metric, 'Average BMI'), fontsize = FONT)\n",
    "    if bmi == 'ov':\n",
    "        plt.title(\"%s and edge weights of \\n %s graph\"%(metric, 'High BMI'), fontsize = FONT)\n",
    "    if bmi == 'ob':\n",
    "        plt.title(\"%s and edge weights of \\n %s graph\"%(metric, 'Very high BMI'), fontsize = FONT)\n",
    "    \n",
    "\n",
    "    axins1 = inset_axes(ax1,\n",
    "                    width=\"2.5%\",  # width = 50% of parent_bbox width\n",
    "                    height=\"100%\",  # height : 5%\n",
    "                    loc='right',\n",
    "                    bbox_to_anchor=(0.15, 0., 1, 1), #(x0, y0, width, height)\n",
    "                    bbox_transform=ax1.transAxes,\n",
    "                    borderpad=1)\n",
    "    \n",
    "    axins2 = inset_axes(ax1,\n",
    "                    width=\"2.5%\",  # width = 50% of parent_bbox width\n",
    "                    height=\"100%\",  # height : 5%\n",
    "                    loc='right',\n",
    "                    bbox_to_anchor=(.25, 0, 1, 1),\n",
    "                    bbox_transform=ax1.transAxes,\n",
    "                    borderpad=1)\n",
    "\n",
    "    sm = plt.cm.ScalarMappable(cmap=eColormap, norm=plt.Normalize(vmin = weights.min(), vmax=weights.max()))\n",
    "    sm._A = []\n",
    "\n",
    "    edge_bar=fig.colorbar(sm, cax=axins1, orientation=\"vertical\")\n",
    "    for l in edge_bar.ax.yaxis.get_ticklabels():\n",
    "        l.set_size(FONT)\n",
    "    edge_bar.set_label('Strength of edge weight', fontsize = FONT)\n",
    "    \n",
    "    sn = plt.cm.ScalarMappable(cmap=nColormap, norm=plt.Normalize(vmin = cm, vmax=cM))\n",
    "    sn._A = []\n",
    "    \n",
    "    rgb = sn.to_rgba(x=colz)\n",
    "    save={}\n",
    "    i = 0\n",
    "    for x,y in nx.get_node_attributes(g, 'labels').items():\n",
    "        save[x]=[y['IC'], y['area'], np.round(rgb[i]*255)]\n",
    "        i=i+1\n",
    "    \n",
    "    node_bar=fig.colorbar(sn, cax=axins2, label='Module value')\n",
    "    for l in node_bar.ax.yaxis.get_ticklabels():\n",
    "        l.set_size(FONT)\n",
    "    node_bar.set_label('%s'%metric,fontsize = FONT)\n",
    "    \n",
    "    \n",
    "    basepath='/Users/gracer/Google Drive/HCP/HCP_graph/1200/images'\n",
    "    if bmi == 'no':\n",
    "        plt.savefig(os.path.join(basepath,\"%s_%s_%s.png\"%(metric, 'Average BMI', mod)), format=\"PNG\")\n",
    "    if bmi == 'ov':\n",
    "        plt.savefig(os.path.join(basepath,\"%s_%s_%s.png\"%(metric, 'High BMI', mod)), format=\"PNG\")\n",
    "    if bmi == 'ob':\n",
    "        plt.savefig(os.path.join(basepath,\"%s_%s_%s.png\"%(metric, 'Very high BMI', mod)), format=\"PNG\")\n",
    "    plt.show()\n",
    "    return(save)\n"
   ]
  },
  {
   "cell_type": "code",
   "execution_count": null,
   "metadata": {},
   "outputs": [],
   "source": []
  },
  {
   "cell_type": "code",
   "execution_count": 17,
   "metadata": {},
   "outputs": [
    {
     "ename": "NameError",
     "evalue": "name 'mod' is not defined",
     "output_type": "error",
     "traceback": [
      "\u001b[0;31m---------------------------------------------------------------------------\u001b[0m",
      "\u001b[0;31mNameError\u001b[0m                                 Traceback (most recent call last)",
      "\u001b[0;32m<ipython-input-17-d85ad1ea5ad1>\u001b[0m in \u001b[0;36m<module>\u001b[0;34m\u001b[0m\n\u001b[0;32m----> 1\u001b[0;31m \u001b[0mbasic_graph\u001b[0m\u001b[0;34m(\u001b[0m\u001b[0msubgraph_dict\u001b[0m\u001b[0;34m[\u001b[0m\u001b[0mgroup\u001b[0m\u001b[0;34m]\u001b[0m\u001b[0;34m[\u001b[0m\u001b[0mmod\u001b[0m\u001b[0;34m]\u001b[0m\u001b[0;34m,\u001b[0m \u001b[0;36m50000\u001b[0m\u001b[0;34m,\u001b[0m \u001b[0;36m50\u001b[0m\u001b[0;34m,\u001b[0m \u001b[0;34m'PC'\u001b[0m\u001b[0;34m,\u001b[0m \u001b[0;34m(\u001b[0m\u001b[0;36m75\u001b[0m\u001b[0;34m,\u001b[0m\u001b[0;36m50\u001b[0m\u001b[0;34m)\u001b[0m\u001b[0;34m,\u001b[0m \u001b[0;36m80\u001b[0m\u001b[0;34m,\u001b[0m \u001b[0mbasepath\u001b[0m\u001b[0;34m,\u001b[0m \u001b[0;34m'%s'\u001b[0m\u001b[0;34m%\u001b[0m\u001b[0mgroup\u001b[0m\u001b[0;34m,\u001b[0m \u001b[0;34m'%i'\u001b[0m\u001b[0;34m%\u001b[0m\u001b[0mmod\u001b[0m\u001b[0;34m)\u001b[0m\u001b[0;34m\u001b[0m\u001b[0;34m\u001b[0m\u001b[0m\n\u001b[0m",
      "\u001b[0;31mNameError\u001b[0m: name 'mod' is not defined"
     ]
    }
   ],
   "source": [
    "basic_graph(subgraph_dict[group][mod], 50000, 50, 'PC', (75,50), 80, basepath, '%s'%group, '%i'%mod)"
   ]
  },
  {
   "cell_type": "code",
   "execution_count": 18,
   "metadata": {
    "scrolled": true
   },
   "outputs": [
    {
     "name": "stdout",
     "output_type": "stream",
     "text": [
      "no\n",
      "2\n"
     ]
    },
    {
     "ename": "ValueError",
     "evalue": "not enough values to unpack (expected 2, got 0)",
     "output_type": "error",
     "traceback": [
      "\u001b[0;31m---------------------------------------------------------------------------\u001b[0m",
      "\u001b[0;31mValueError\u001b[0m                                Traceback (most recent call last)",
      "\u001b[0;32m<ipython-input-18-7eff112026e2>\u001b[0m in \u001b[0;36m<module>\u001b[0;34m\u001b[0m\n\u001b[1;32m      9\u001b[0m     \u001b[0;32mfor\u001b[0m \u001b[0mmod\u001b[0m\u001b[0;34m,\u001b[0m \u001b[0mblank\u001b[0m \u001b[0;32min\u001b[0m \u001b[0mmods\u001b[0m\u001b[0;34m.\u001b[0m\u001b[0mitems\u001b[0m\u001b[0;34m(\u001b[0m\u001b[0;34m)\u001b[0m\u001b[0;34m:\u001b[0m\u001b[0;34m\u001b[0m\u001b[0;34m\u001b[0m\u001b[0m\n\u001b[1;32m     10\u001b[0m         \u001b[0mprint\u001b[0m\u001b[0;34m(\u001b[0m\u001b[0mmod\u001b[0m\u001b[0;34m)\u001b[0m\u001b[0;34m\u001b[0m\u001b[0;34m\u001b[0m\u001b[0m\n\u001b[0;32m---> 11\u001b[0;31m         \u001b[0mwb_con\u001b[0m\u001b[0;34m[\u001b[0m\u001b[0mgroup\u001b[0m\u001b[0;34m]\u001b[0m\u001b[0;34m[\u001b[0m\u001b[0mmod\u001b[0m\u001b[0;34m]\u001b[0m\u001b[0;34m=\u001b[0m\u001b[0mbasic_graph\u001b[0m\u001b[0;34m(\u001b[0m\u001b[0msubgraph_dict\u001b[0m\u001b[0;34m[\u001b[0m\u001b[0mgroup\u001b[0m\u001b[0;34m]\u001b[0m\u001b[0;34m[\u001b[0m\u001b[0mmod\u001b[0m\u001b[0;34m]\u001b[0m\u001b[0;34m,\u001b[0m \u001b[0;36m50000\u001b[0m\u001b[0;34m,\u001b[0m \u001b[0;36m50\u001b[0m\u001b[0;34m,\u001b[0m \u001b[0;34m'PC'\u001b[0m\u001b[0;34m,\u001b[0m \u001b[0;34m(\u001b[0m\u001b[0;36m75\u001b[0m\u001b[0;34m,\u001b[0m\u001b[0;36m50\u001b[0m\u001b[0;34m)\u001b[0m\u001b[0;34m,\u001b[0m \u001b[0;36m80\u001b[0m\u001b[0;34m,\u001b[0m \u001b[0mbasepath\u001b[0m\u001b[0;34m,\u001b[0m \u001b[0;34m'%s'\u001b[0m\u001b[0;34m%\u001b[0m\u001b[0mgroup\u001b[0m\u001b[0;34m,\u001b[0m \u001b[0;34m'%i'\u001b[0m\u001b[0;34m%\u001b[0m\u001b[0mmod\u001b[0m\u001b[0;34m)\u001b[0m\u001b[0;34m\u001b[0m\u001b[0;34m\u001b[0m\u001b[0m\n\u001b[0m",
      "\u001b[0;32m<ipython-input-16-40a0f219158c>\u001b[0m in \u001b[0;36mbasic_graph\u001b[0;34m(graph, scl, FONT, metric, size, tile, basepath, bmi, mod)\u001b[0m\n\u001b[1;32m     15\u001b[0m     \u001b[0;31m# NODES\u001b[0m\u001b[0;34m\u001b[0m\u001b[0;34m\u001b[0m\u001b[0;34m\u001b[0m\u001b[0m\n\u001b[1;32m     16\u001b[0m     \u001b[0mnodes\u001b[0m\u001b[0;34m,\u001b[0m \u001b[0mcolor\u001b[0m \u001b[0;34m=\u001b[0m \u001b[0mzip\u001b[0m\u001b[0;34m(\u001b[0m\u001b[0;34m*\u001b[0m\u001b[0mnx\u001b[0m\u001b[0;34m.\u001b[0m\u001b[0mget_node_attributes\u001b[0m\u001b[0;34m(\u001b[0m\u001b[0mg\u001b[0m\u001b[0;34m,\u001b[0m \u001b[0mmetric\u001b[0m\u001b[0;34m)\u001b[0m\u001b[0;34m.\u001b[0m\u001b[0mitems\u001b[0m\u001b[0;34m(\u001b[0m\u001b[0;34m)\u001b[0m\u001b[0;34m)\u001b[0m\u001b[0;34m\u001b[0m\u001b[0;34m\u001b[0m\u001b[0m\n\u001b[0;32m---> 17\u001b[0;31m     \u001b[0mnodes\u001b[0m\u001b[0;34m,\u001b[0m \u001b[0mlabel\u001b[0m \u001b[0;34m=\u001b[0m \u001b[0mzip\u001b[0m\u001b[0;34m(\u001b[0m\u001b[0;34m*\u001b[0m\u001b[0mnx\u001b[0m\u001b[0;34m.\u001b[0m\u001b[0mget_node_attributes\u001b[0m\u001b[0;34m(\u001b[0m\u001b[0mg\u001b[0m\u001b[0;34m,\u001b[0m \u001b[0;34m'labels'\u001b[0m\u001b[0;34m)\u001b[0m\u001b[0;34m.\u001b[0m\u001b[0mitems\u001b[0m\u001b[0;34m(\u001b[0m\u001b[0;34m)\u001b[0m\u001b[0;34m)\u001b[0m\u001b[0;34m\u001b[0m\u001b[0;34m\u001b[0m\u001b[0m\n\u001b[0m\u001b[1;32m     18\u001b[0m     \u001b[0mnodes\u001b[0m\u001b[0;34m,\u001b[0m \u001b[0msize\u001b[0m \u001b[0;34m=\u001b[0m \u001b[0mzip\u001b[0m\u001b[0;34m(\u001b[0m\u001b[0;34m*\u001b[0m\u001b[0mnx\u001b[0m\u001b[0;34m.\u001b[0m\u001b[0mget_node_attributes\u001b[0m\u001b[0;34m(\u001b[0m\u001b[0mg\u001b[0m\u001b[0;34m,\u001b[0m \u001b[0mmetric\u001b[0m\u001b[0;34m)\u001b[0m\u001b[0;34m.\u001b[0m\u001b[0mitems\u001b[0m\u001b[0;34m(\u001b[0m\u001b[0;34m)\u001b[0m\u001b[0;34m)\u001b[0m\u001b[0;34m\u001b[0m\u001b[0;34m\u001b[0m\u001b[0m\n\u001b[1;32m     19\u001b[0m     \u001b[0mnew\u001b[0m\u001b[0;34m=\u001b[0m\u001b[0;34m{\u001b[0m\u001b[0;34m}\u001b[0m\u001b[0;34m\u001b[0m\u001b[0;34m\u001b[0m\u001b[0m\n",
      "\u001b[0;31mValueError\u001b[0m: not enough values to unpack (expected 2, got 0)"
     ]
    }
   ],
   "source": [
    "wb_con = {\n",
    "    'no':{2:{},5:{}},\n",
    "    'ov': {2:{}, 6:{}},\n",
    "    'ob':{4:{}, 6:{}}\n",
    "}\n",
    "\n",
    "for group, mods in wb_con.items():\n",
    "    print(group)\n",
    "    for mod, blank in mods.items():\n",
    "        print(mod)  \n",
    "        wb_con[group][mod]=basic_graph(subgraph_dict[group][mod], 50000, 50, 'PC', (75,50), 80, basepath, '%s'%group, '%i'%mod)"
   ]
  },
  {
   "cell_type": "markdown",
   "metadata": {},
   "source": [
    "## Get the colors for workbench"
   ]
  },
  {
   "cell_type": "code",
   "execution_count": null,
   "metadata": {
    "scrolled": true
   },
   "outputs": [],
   "source": [
    "for group, mods in wb_con.items():\n",
    "    print(group)\n",
    "    for mod, data in mods.items():\n",
    "        print(mod)\n",
    "        writepath = os.path.join(basepath,'%s_%i.txt'%(group, mod))\n",
    "        f = open(writepath, \"w\")\n",
    "        for key, value in data.items():\n",
    "            print(key)\n",
    "            x = value[2]\n",
    "            print(x)\n",
    "            f.write('LABEL_%i\\n'%(key+1))\n",
    "            f.write('%i %i %i %i %i\\n'%(key+1, x[0], x[1], x[2], x[3]))\n",
    "        f.close()"
   ]
  },
  {
   "cell_type": "markdown",
   "metadata": {},
   "source": [
    "## Get ICnames"
   ]
  },
  {
   "cell_type": "code",
   "execution_count": null,
   "metadata": {},
   "outputs": [],
   "source": [
    "g = subgraph_dict['ob'][6]\n",
    "new={}\n",
    "for x,y in nx.get_node_attributes(g, 'labels').items():\n",
    "        new[x]=[y['IC'], y['area']]"
   ]
  },
  {
   "cell_type": "code",
   "execution_count": null,
   "metadata": {},
   "outputs": [],
   "source": []
  }
 ],
 "metadata": {
  "kernelspec": {
   "display_name": "Python 3",
   "language": "python",
   "name": "python3"
  },
  "language_info": {
   "codemirror_mode": {
    "name": "ipython",
    "version": 3
   },
   "file_extension": ".py",
   "mimetype": "text/x-python",
   "name": "python",
   "nbconvert_exporter": "python",
   "pygments_lexer": "ipython3",
   "version": "3.7.2"
  }
 },
 "nbformat": 4,
 "nbformat_minor": 4
}
