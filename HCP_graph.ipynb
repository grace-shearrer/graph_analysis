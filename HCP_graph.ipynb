{
 "cells": [
  {
   "cell_type": "markdown",
   "metadata": {},
   "source": [
    "https://journals.plos.org/plosbiology/article?id=10.1371/journal.pbio.1002328"
   ]
  },
  {
   "cell_type": "code",
   "execution_count": 62,
   "metadata": {},
   "outputs": [],
   "source": [
    "import pandas as pd\n",
    "import glob\n",
    "import os\n",
    "import numpy as np\n",
    "from zipfile import ZipFile\n",
    "import tarfile\n",
    "# import fslnets as fsln\n",
    "import os\n",
    "from string import Template\n",
    "import pickle\n",
    "import statistics\n",
    "import community\n",
    "import matplotlib\n",
    "matplotlib.use(\"Qt5Agg\")\n",
    "import matplotlib.pyplot as plt\n"
   ]
  },
  {
   "cell_type": "code",
   "execution_count": 2,
   "metadata": {},
   "outputs": [],
   "source": [
    "df = pd.read_csv('/Users/gracer/Google Drive/HCP_graph/1200/datasets/RESTRICTED_gshearrer_4_19_2018_11_33_34.csv', sep=',')"
   ]
  },
  {
   "cell_type": "code",
   "execution_count": 3,
   "metadata": {},
   "outputs": [
    {
     "data": {
      "text/html": [
       "<div>\n",
       "<style scoped>\n",
       "    .dataframe tbody tr th:only-of-type {\n",
       "        vertical-align: middle;\n",
       "    }\n",
       "\n",
       "    .dataframe tbody tr th {\n",
       "        vertical-align: top;\n",
       "    }\n",
       "\n",
       "    .dataframe thead th {\n",
       "        text-align: right;\n",
       "    }\n",
       "</style>\n",
       "<table border=\"1\" class=\"dataframe\">\n",
       "  <thead>\n",
       "    <tr style=\"text-align: right;\">\n",
       "      <th></th>\n",
       "      <th>Subject</th>\n",
       "      <th>Age_in_Yrs</th>\n",
       "      <th>HasGT</th>\n",
       "      <th>ZygositySR</th>\n",
       "      <th>ZygosityGT</th>\n",
       "      <th>Family_ID</th>\n",
       "      <th>Mother_ID</th>\n",
       "      <th>Father_ID</th>\n",
       "      <th>TestRetestInterval</th>\n",
       "      <th>Race</th>\n",
       "      <th>...</th>\n",
       "      <th>SSAGA_Times_Used_Illicits</th>\n",
       "      <th>SSAGA_Times_Used_Cocaine</th>\n",
       "      <th>SSAGA_Times_Used_Hallucinogens</th>\n",
       "      <th>SSAGA_Times_Used_Opiates</th>\n",
       "      <th>SSAGA_Times_Used_Sedatives</th>\n",
       "      <th>SSAGA_Times_Used_Stimulants</th>\n",
       "      <th>SSAGA_Mj_Use</th>\n",
       "      <th>SSAGA_Mj_Ab_Dep</th>\n",
       "      <th>SSAGA_Mj_Age_1st_Use</th>\n",
       "      <th>SSAGA_Mj_Times_Used</th>\n",
       "    </tr>\n",
       "  </thead>\n",
       "  <tbody>\n",
       "    <tr>\n",
       "      <th>0</th>\n",
       "      <td>100004</td>\n",
       "      <td>24</td>\n",
       "      <td>True</td>\n",
       "      <td>NotTwin</td>\n",
       "      <td></td>\n",
       "      <td>52259_82122</td>\n",
       "      <td>52259</td>\n",
       "      <td>82122</td>\n",
       "      <td>NaN</td>\n",
       "      <td>White</td>\n",
       "      <td>...</td>\n",
       "      <td>0.0</td>\n",
       "      <td>0.0</td>\n",
       "      <td>0.0</td>\n",
       "      <td>0.0</td>\n",
       "      <td>0.0</td>\n",
       "      <td>0.0</td>\n",
       "      <td>0.0</td>\n",
       "      <td>0.0</td>\n",
       "      <td>NaN</td>\n",
       "      <td>0.0</td>\n",
       "    </tr>\n",
       "    <tr>\n",
       "      <th>1</th>\n",
       "      <td>100206</td>\n",
       "      <td>27</td>\n",
       "      <td>True</td>\n",
       "      <td>NotTwin</td>\n",
       "      <td></td>\n",
       "      <td>56037_85858</td>\n",
       "      <td>56037</td>\n",
       "      <td>85858</td>\n",
       "      <td>NaN</td>\n",
       "      <td>White</td>\n",
       "      <td>...</td>\n",
       "      <td>0.0</td>\n",
       "      <td>0.0</td>\n",
       "      <td>0.0</td>\n",
       "      <td>0.0</td>\n",
       "      <td>0.0</td>\n",
       "      <td>0.0</td>\n",
       "      <td>0.0</td>\n",
       "      <td>0.0</td>\n",
       "      <td>NaN</td>\n",
       "      <td>0.0</td>\n",
       "    </tr>\n",
       "    <tr>\n",
       "      <th>2</th>\n",
       "      <td>100307</td>\n",
       "      <td>27</td>\n",
       "      <td>True</td>\n",
       "      <td>NotMZ</td>\n",
       "      <td>MZ</td>\n",
       "      <td>51488_81352</td>\n",
       "      <td>51488</td>\n",
       "      <td>81352</td>\n",
       "      <td>NaN</td>\n",
       "      <td>White</td>\n",
       "      <td>...</td>\n",
       "      <td>0.0</td>\n",
       "      <td>0.0</td>\n",
       "      <td>0.0</td>\n",
       "      <td>0.0</td>\n",
       "      <td>0.0</td>\n",
       "      <td>0.0</td>\n",
       "      <td>1.0</td>\n",
       "      <td>0.0</td>\n",
       "      <td>2.0</td>\n",
       "      <td>1.0</td>\n",
       "    </tr>\n",
       "    <tr>\n",
       "      <th>3</th>\n",
       "      <td>100408</td>\n",
       "      <td>33</td>\n",
       "      <td>True</td>\n",
       "      <td>MZ</td>\n",
       "      <td>MZ</td>\n",
       "      <td>51730_81594</td>\n",
       "      <td>51730</td>\n",
       "      <td>81594</td>\n",
       "      <td>NaN</td>\n",
       "      <td>White</td>\n",
       "      <td>...</td>\n",
       "      <td>4.0</td>\n",
       "      <td>5.0</td>\n",
       "      <td>5.0</td>\n",
       "      <td>5.0</td>\n",
       "      <td>0.0</td>\n",
       "      <td>0.0</td>\n",
       "      <td>1.0</td>\n",
       "      <td>1.0</td>\n",
       "      <td>2.0</td>\n",
       "      <td>4.0</td>\n",
       "    </tr>\n",
       "    <tr>\n",
       "      <th>4</th>\n",
       "      <td>100610</td>\n",
       "      <td>27</td>\n",
       "      <td>True</td>\n",
       "      <td>NotMZ</td>\n",
       "      <td>DZ</td>\n",
       "      <td>52813_82634</td>\n",
       "      <td>52813</td>\n",
       "      <td>82634</td>\n",
       "      <td>NaN</td>\n",
       "      <td>White</td>\n",
       "      <td>...</td>\n",
       "      <td>0.0</td>\n",
       "      <td>0.0</td>\n",
       "      <td>0.0</td>\n",
       "      <td>0.0</td>\n",
       "      <td>0.0</td>\n",
       "      <td>0.0</td>\n",
       "      <td>0.0</td>\n",
       "      <td>0.0</td>\n",
       "      <td>NaN</td>\n",
       "      <td>0.0</td>\n",
       "    </tr>\n",
       "  </tbody>\n",
       "</table>\n",
       "<p>5 rows × 201 columns</p>\n",
       "</div>"
      ],
      "text/plain": [
       "   Subject  Age_in_Yrs  HasGT ZygositySR ZygosityGT    Family_ID  Mother_ID  \\\n",
       "0   100004          24   True    NotTwin             52259_82122      52259   \n",
       "1   100206          27   True    NotTwin             56037_85858      56037   \n",
       "2   100307          27   True      NotMZ         MZ  51488_81352      51488   \n",
       "3   100408          33   True         MZ         MZ  51730_81594      51730   \n",
       "4   100610          27   True      NotMZ         DZ  52813_82634      52813   \n",
       "\n",
       "   Father_ID  TestRetestInterval   Race  ... SSAGA_Times_Used_Illicits  \\\n",
       "0      82122                 NaN  White  ...                       0.0   \n",
       "1      85858                 NaN  White  ...                       0.0   \n",
       "2      81352                 NaN  White  ...                       0.0   \n",
       "3      81594                 NaN  White  ...                       4.0   \n",
       "4      82634                 NaN  White  ...                       0.0   \n",
       "\n",
       "   SSAGA_Times_Used_Cocaine  SSAGA_Times_Used_Hallucinogens  \\\n",
       "0                       0.0                             0.0   \n",
       "1                       0.0                             0.0   \n",
       "2                       0.0                             0.0   \n",
       "3                       5.0                             5.0   \n",
       "4                       0.0                             0.0   \n",
       "\n",
       "   SSAGA_Times_Used_Opiates  SSAGA_Times_Used_Sedatives  \\\n",
       "0                       0.0                         0.0   \n",
       "1                       0.0                         0.0   \n",
       "2                       0.0                         0.0   \n",
       "3                       5.0                         0.0   \n",
       "4                       0.0                         0.0   \n",
       "\n",
       "   SSAGA_Times_Used_Stimulants  SSAGA_Mj_Use  SSAGA_Mj_Ab_Dep  \\\n",
       "0                          0.0           0.0              0.0   \n",
       "1                          0.0           0.0              0.0   \n",
       "2                          0.0           1.0              0.0   \n",
       "3                          0.0           1.0              1.0   \n",
       "4                          0.0           0.0              0.0   \n",
       "\n",
       "   SSAGA_Mj_Age_1st_Use  SSAGA_Mj_Times_Used  \n",
       "0                   NaN                  0.0  \n",
       "1                   NaN                  0.0  \n",
       "2                   2.0                  1.0  \n",
       "3                   2.0                  4.0  \n",
       "4                   NaN                  0.0  \n",
       "\n",
       "[5 rows x 201 columns]"
      ]
     },
     "execution_count": 3,
     "metadata": {},
     "output_type": "execute_result"
    }
   ],
   "source": [
    "df.head()"
   ]
  },
  {
   "cell_type": "code",
   "execution_count": 4,
   "metadata": {},
   "outputs": [
    {
     "data": {
      "text/plain": [
       "['Subject',\n",
       " 'Age_in_Yrs',\n",
       " 'HasGT',\n",
       " 'ZygositySR',\n",
       " 'ZygosityGT',\n",
       " 'Family_ID',\n",
       " 'Mother_ID',\n",
       " 'Father_ID',\n",
       " 'TestRetestInterval',\n",
       " 'Race',\n",
       " 'Ethnicity',\n",
       " 'Handedness',\n",
       " 'SSAGA_Employ',\n",
       " 'SSAGA_Income',\n",
       " 'SSAGA_Educ',\n",
       " 'SSAGA_InSchool',\n",
       " 'SSAGA_Rlshp',\n",
       " 'SSAGA_MOBorn',\n",
       " 'Height',\n",
       " 'Weight',\n",
       " 'BMI',\n",
       " 'SSAGA_BMICat',\n",
       " 'SSAGA_BMICatHeaviest',\n",
       " 'Blood_Drawn',\n",
       " 'Hematocrit_1',\n",
       " 'Hematocrit_2',\n",
       " 'BPSystolic',\n",
       " 'BPDiastolic',\n",
       " 'ThyroidHormone',\n",
       " 'HbA1C',\n",
       " 'Hypothyroidism',\n",
       " 'Hypothyroidism_Onset',\n",
       " 'Hyperthyroidism',\n",
       " 'Hyperthyroidism_Onset',\n",
       " 'OtherEndocrn_Prob',\n",
       " 'OtherEndocrine_ProbOnset',\n",
       " 'Menstrual_RegCycles',\n",
       " 'Menstrual_Explain',\n",
       " 'Menstrual_AgeBegan',\n",
       " 'Menstrual_CycleLength',\n",
       " 'Menstrual_DaysSinceLast',\n",
       " 'Menstrual_AgeIrreg',\n",
       " 'Menstrual_AgeStop',\n",
       " 'Menstrual_MonthsSinceStop',\n",
       " 'Menstrual_UsingBirthControl',\n",
       " 'Menstrual_BirthControlCode',\n",
       " 'FamHist_Moth_Scz',\n",
       " 'FamHist_Fath_Scz',\n",
       " 'FamHist_Moth_Dep',\n",
       " 'FamHist_Fath_Dep',\n",
       " 'FamHist_Moth_BP',\n",
       " 'FamHist_Fath_BP',\n",
       " 'FamHist_Moth_Anx',\n",
       " 'FamHist_Fath_Anx',\n",
       " 'FamHist_Moth_DrgAlc',\n",
       " 'FamHist_Fath_DrgAlc',\n",
       " 'FamHist_Moth_Alz',\n",
       " 'FamHist_Fath_Alz',\n",
       " 'FamHist_Moth_PD',\n",
       " 'FamHist_Fath_PD',\n",
       " 'FamHist_Moth_TS',\n",
       " 'FamHist_Fath_TS',\n",
       " 'FamHist_Moth_None',\n",
       " 'FamHist_Fath_None',\n",
       " 'ASR_Anxd_Raw',\n",
       " 'ASR_Anxd_Pct',\n",
       " 'ASR_Witd_Raw',\n",
       " 'ASR_Witd_T',\n",
       " 'ASR_Soma_Raw',\n",
       " 'ASR_Soma_T',\n",
       " 'ASR_Thot_Raw',\n",
       " 'ASR_Thot_T',\n",
       " 'ASR_Attn_Raw',\n",
       " 'ASR_Attn_T',\n",
       " 'ASR_Aggr_Raw',\n",
       " 'ASR_Aggr_T',\n",
       " 'ASR_Rule_Raw',\n",
       " 'ASR_Rule_T',\n",
       " 'ASR_Intr_Raw',\n",
       " 'ASR_Intr_T',\n",
       " 'ASR_Oth_Raw',\n",
       " 'ASR_Crit_Raw',\n",
       " 'ASR_Intn_Raw',\n",
       " 'ASR_Intn_T',\n",
       " 'ASR_Extn_Raw',\n",
       " 'ASR_Extn_T',\n",
       " 'ASR_TAO_Sum',\n",
       " 'ASR_Totp_Raw',\n",
       " 'ASR_Totp_T',\n",
       " 'DSM_Depr_Raw',\n",
       " 'DSM_Depr_T',\n",
       " 'DSM_Anxi_Raw',\n",
       " 'DSM_Anxi_T',\n",
       " 'DSM_Somp_Raw',\n",
       " 'DSM_Somp_T',\n",
       " 'DSM_Avoid_Raw',\n",
       " 'DSM_Avoid_T',\n",
       " 'DSM_Adh_Raw',\n",
       " 'DSM_Adh_T',\n",
       " 'DSM_Inat_Raw',\n",
       " 'DSM_Hype_Raw',\n",
       " 'DSM_Antis_Raw',\n",
       " 'DSM_Antis_T',\n",
       " 'SSAGA_ChildhoodConduct',\n",
       " 'SSAGA_PanicDisorder',\n",
       " 'SSAGA_Agoraphobia',\n",
       " 'SSAGA_Depressive_Ep',\n",
       " 'SSAGA_Depressive_Sx',\n",
       " 'Color_Vision',\n",
       " 'Eye',\n",
       " 'EVA_Num',\n",
       " 'EVA_Denom',\n",
       " 'Correction',\n",
       " 'Breathalyzer_Over_05',\n",
       " 'Breathalyzer_Over_08',\n",
       " 'Cocaine',\n",
       " 'THC',\n",
       " 'Opiates',\n",
       " 'Amphetamines',\n",
       " 'MethAmphetamine',\n",
       " 'Oxycontin',\n",
       " 'Total_Drinks_7days',\n",
       " 'Num_Days_Drank_7days',\n",
       " 'Avg_Weekday_Drinks_7days',\n",
       " 'Avg_Weekend_Drinks_7days',\n",
       " 'Total_Beer_Wine_Cooler_7days',\n",
       " 'Avg_Weekday_Beer_Wine_Cooler_7days',\n",
       " 'Avg_Weekend_Beer_Wine_Cooler_7days',\n",
       " 'Total_Malt_Liquor_7days',\n",
       " 'Avg_Weekday_Malt_Liquor_7days',\n",
       " 'Avg_Weekend_Malt_Liquor_7days',\n",
       " 'Total_Wine_7days',\n",
       " 'Avg_Weekday_Wine_7days',\n",
       " 'Avg_Weekend_Wine_7days',\n",
       " 'Total_Hard_Liquor_7days',\n",
       " 'Avg_Weekday_Hard_Liquor_7days',\n",
       " 'Avg_Weekend_Hard_Liquor_7days',\n",
       " 'Total_Other_Alc_7days',\n",
       " 'Avg_Weekday_Other_Alc_7days',\n",
       " 'Avg_Weekend_Other_Alc_7days',\n",
       " 'SSAGA_Alc_D4_Dp_Sx',\n",
       " 'SSAGA_Alc_D4_Ab_Dx',\n",
       " 'SSAGA_Alc_D4_Ab_Sx',\n",
       " 'SSAGA_Alc_D4_Dp_Dx',\n",
       " 'SSAGA_Alc_12_Drinks_Per_Day',\n",
       " 'SSAGA_Alc_12_Frq',\n",
       " 'SSAGA_Alc_12_Frq_5plus',\n",
       " 'SSAGA_Alc_12_Frq_Drk',\n",
       " 'SSAGA_Alc_12_Max_Drinks',\n",
       " 'SSAGA_Alc_Age_1st_Use',\n",
       " 'SSAGA_Alc_Hvy_Drinks_Per_Day',\n",
       " 'SSAGA_Alc_Hvy_Frq',\n",
       " 'SSAGA_Alc_Hvy_Frq_5plus',\n",
       " 'SSAGA_Alc_Hvy_Frq_Drk',\n",
       " 'SSAGA_Alc_Hvy_Max_Drinks',\n",
       " 'Total_Any_Tobacco_7days',\n",
       " 'Times_Used_Any_Tobacco_Today',\n",
       " 'Num_Days_Used_Any_Tobacco_7days',\n",
       " 'Avg_Weekday_Any_Tobacco_7days',\n",
       " 'Avg_Weekend_Any_Tobacco_7days',\n",
       " 'Total_Cigarettes_7days',\n",
       " 'Avg_Weekday_Cigarettes_7days',\n",
       " 'Avg_Weekend_Cigarettes_7days',\n",
       " 'Total_Cigars_7days',\n",
       " 'Avg_Weekday_Cigars_7days',\n",
       " 'Avg_Weekend_Cigars_7days',\n",
       " 'Total_Pipes_7days',\n",
       " 'Avg_Weekday_Pipes_7days',\n",
       " 'Avg_Weekend_Pipes_7days',\n",
       " 'Total_Chew_7days',\n",
       " 'Avg_Weekday_Chew_7days',\n",
       " 'Avg_Weekend_Chew_7days',\n",
       " 'Total_Snuff_7days',\n",
       " 'Avg_Weekday_Snuff_7days',\n",
       " 'Avg_Weekend_Snuff_7days',\n",
       " 'Total_Other_Tobacco_7days',\n",
       " 'Avg_Weekday_Other_Tobacco_7days',\n",
       " 'Avg_Weekend_Other_Tobacco_7days',\n",
       " 'SSAGA_FTND_Score',\n",
       " 'SSAGA_HSI_Score',\n",
       " 'SSAGA_TB_Age_1st_Cig',\n",
       " 'SSAGA_TB_DSM_Difficulty_Quitting',\n",
       " 'SSAGA_TB_DSM_Tolerance',\n",
       " 'SSAGA_TB_DSM_Withdrawal',\n",
       " 'SSAGA_TB_Hvy_CPD',\n",
       " 'SSAGA_TB_Max_Cigs',\n",
       " 'SSAGA_TB_Reg_CPD',\n",
       " 'SSAGA_TB_Smoking_History',\n",
       " 'SSAGA_TB_Still_Smoking',\n",
       " 'SSAGA_TB_Yrs_Since_Quit',\n",
       " 'SSAGA_TB_Yrs_Smoked',\n",
       " 'SSAGA_Times_Used_Illicits',\n",
       " 'SSAGA_Times_Used_Cocaine',\n",
       " 'SSAGA_Times_Used_Hallucinogens',\n",
       " 'SSAGA_Times_Used_Opiates',\n",
       " 'SSAGA_Times_Used_Sedatives',\n",
       " 'SSAGA_Times_Used_Stimulants',\n",
       " 'SSAGA_Mj_Use',\n",
       " 'SSAGA_Mj_Ab_Dep',\n",
       " 'SSAGA_Mj_Age_1st_Use',\n",
       " 'SSAGA_Mj_Times_Used']"
      ]
     },
     "execution_count": 4,
     "metadata": {},
     "output_type": "execute_result"
    }
   ],
   "source": [
    "list(df.columns)"
   ]
  },
  {
   "cell_type": "code",
   "execution_count": 5,
   "metadata": {},
   "outputs": [],
   "source": [
    "myvars=['Subject', 'Age_in_Yrs', 'ZygosityGT', 'Race', 'Ethnicity', 'BMI', 'HbA1C', 'Hypothyroidism',\n",
    " 'Hyperthyroidism',\n",
    " 'OtherEndocrn_Prob', 'Mother_ID','Father_ID']"
   ]
  },
  {
   "cell_type": "code",
   "execution_count": 6,
   "metadata": {},
   "outputs": [],
   "source": [
    "df=df[myvars]"
   ]
  },
  {
   "cell_type": "code",
   "execution_count": 7,
   "metadata": {},
   "outputs": [
    {
     "data": {
      "text/plain": [
       "(1206, 12)"
      ]
     },
     "execution_count": 7,
     "metadata": {},
     "output_type": "execute_result"
    }
   ],
   "source": [
    "df.shape"
   ]
  },
  {
   "cell_type": "code",
   "execution_count": 8,
   "metadata": {},
   "outputs": [],
   "source": [
    "df=df.loc[df['Hypothyroidism'] != 1]"
   ]
  },
  {
   "cell_type": "code",
   "execution_count": 9,
   "metadata": {},
   "outputs": [
    {
     "data": {
      "text/plain": [
       "(1202, 12)"
      ]
     },
     "execution_count": 9,
     "metadata": {},
     "output_type": "execute_result"
    }
   ],
   "source": [
    "df.shape"
   ]
  },
  {
   "cell_type": "code",
   "execution_count": 10,
   "metadata": {},
   "outputs": [],
   "source": [
    "df=df.loc[df['Hyperthyroidism'] != 1]"
   ]
  },
  {
   "cell_type": "code",
   "execution_count": 11,
   "metadata": {},
   "outputs": [
    {
     "data": {
      "text/plain": [
       "(1200, 12)"
      ]
     },
     "execution_count": 11,
     "metadata": {},
     "output_type": "execute_result"
    }
   ],
   "source": [
    "df.shape"
   ]
  },
  {
   "cell_type": "code",
   "execution_count": 12,
   "metadata": {},
   "outputs": [],
   "source": [
    "df=df.loc[df['OtherEndocrn_Prob'] != 1]"
   ]
  },
  {
   "cell_type": "code",
   "execution_count": 13,
   "metadata": {},
   "outputs": [
    {
     "data": {
      "text/plain": [
       "(1180, 12)"
      ]
     },
     "execution_count": 13,
     "metadata": {},
     "output_type": "execute_result"
    }
   ],
   "source": [
    "df.shape"
   ]
  },
  {
   "cell_type": "code",
   "execution_count": 14,
   "metadata": {},
   "outputs": [
    {
     "data": {
      "text/plain": [
       "count    1179.000000\n",
       "mean       27.024139\n",
       "std         5.734938\n",
       "min        16.480000\n",
       "25%        22.960000\n",
       "50%        25.820000\n",
       "75%        29.990000\n",
       "max        48.250000\n",
       "Name: BMI, dtype: float64"
      ]
     },
     "execution_count": 14,
     "metadata": {},
     "output_type": "execute_result"
    }
   ],
   "source": [
    "df['BMI'].describe()"
   ]
  },
  {
   "cell_type": "code",
   "execution_count": 15,
   "metadata": {},
   "outputs": [],
   "source": [
    "df=df.loc[df['BMI'] > 18]"
   ]
  },
  {
   "cell_type": "code",
   "execution_count": 16,
   "metadata": {},
   "outputs": [
    {
     "data": {
      "text/plain": [
       "(1169, 12)"
      ]
     },
     "execution_count": 16,
     "metadata": {},
     "output_type": "execute_result"
    }
   ],
   "source": [
    "df.shape"
   ]
  },
  {
   "cell_type": "code",
   "execution_count": 17,
   "metadata": {},
   "outputs": [],
   "source": [
    "df=df.dropna(subset=['BMI'])"
   ]
  },
  {
   "cell_type": "code",
   "execution_count": 18,
   "metadata": {},
   "outputs": [
    {
     "data": {
      "text/plain": [
       "(1169, 12)"
      ]
     },
     "execution_count": 18,
     "metadata": {},
     "output_type": "execute_result"
    }
   ],
   "source": [
    "df.shape"
   ]
  },
  {
   "cell_type": "code",
   "execution_count": 19,
   "metadata": {},
   "outputs": [
    {
     "data": {
      "text/plain": [
       "count     1169\n",
       "unique       3\n",
       "top           \n",
       "freq       701\n",
       "Name: ZygosityGT, dtype: object"
      ]
     },
     "execution_count": 19,
     "metadata": {},
     "output_type": "execute_result"
    }
   ],
   "source": [
    "df['ZygosityGT'].describe()"
   ]
  },
  {
   "cell_type": "code",
   "execution_count": 20,
   "metadata": {},
   "outputs": [
    {
     "data": {
      "text/plain": [
       "      701\n",
       "MZ    288\n",
       "DZ    180\n",
       "Name: ZygosityGT, dtype: int64"
      ]
     },
     "execution_count": 20,
     "metadata": {},
     "output_type": "execute_result"
    }
   ],
   "source": [
    "df['ZygosityGT'].value_counts()"
   ]
  },
  {
   "cell_type": "code",
   "execution_count": 21,
   "metadata": {},
   "outputs": [],
   "source": [
    "df_mz=df.loc[df['ZygosityGT'] == 'MZ']"
   ]
  },
  {
   "cell_type": "code",
   "execution_count": 22,
   "metadata": {},
   "outputs": [],
   "source": [
    "df_dz=df.loc[df['ZygosityGT'] == 'DZ']"
   ]
  },
  {
   "cell_type": "code",
   "execution_count": 23,
   "metadata": {},
   "outputs": [],
   "source": [
    "df_nt=df.loc[df['ZygosityGT'] == ' ']"
   ]
  },
  {
   "cell_type": "code",
   "execution_count": 24,
   "metadata": {
    "scrolled": true
   },
   "outputs": [
    {
     "data": {
      "text/plain": [
       "(701, 12)"
      ]
     },
     "execution_count": 24,
     "metadata": {},
     "output_type": "execute_result"
    }
   ],
   "source": [
    "df_nt.shape"
   ]
  },
  {
   "cell_type": "code",
   "execution_count": 25,
   "metadata": {},
   "outputs": [
    {
     "name": "stderr",
     "output_type": "stream",
     "text": [
      "/Users/gracer/anaconda3/envs/py36/lib/python3.6/site-packages/ipykernel_launcher.py:1: SettingWithCopyWarning: \n",
      "A value is trying to be set on a copy of a slice from a DataFrame.\n",
      "Try using .loc[row_indexer,col_indexer] = value instead\n",
      "\n",
      "See the caveats in the documentation: http://pandas.pydata.org/pandas-docs/stable/indexing.html#indexing-view-versus-copy\n",
      "  \"\"\"Entry point for launching an IPython kernel.\n"
     ]
    },
    {
     "data": {
      "text/plain": [
       "count       701\n",
       "unique      404\n",
       "top       52385\n",
       "freq          5\n",
       "Name: Mother_ID, dtype: int64"
      ]
     },
     "execution_count": 25,
     "metadata": {},
     "output_type": "execute_result"
    }
   ],
   "source": [
    "df_nt['Mother_ID'] = pd.Categorical(df_nt.Mother_ID)\n",
    "df_nt['Mother_ID'].describe()"
   ]
  },
  {
   "cell_type": "code",
   "execution_count": 26,
   "metadata": {},
   "outputs": [],
   "source": [
    "df_unt=df_nt.drop_duplicates(['Mother_ID','Father_ID'])"
   ]
  },
  {
   "cell_type": "code",
   "execution_count": 27,
   "metadata": {},
   "outputs": [
    {
     "data": {
      "text/plain": [
       "(415, 12)"
      ]
     },
     "execution_count": 27,
     "metadata": {},
     "output_type": "execute_result"
    }
   ],
   "source": [
    "df_unt.shape"
   ]
  },
  {
   "cell_type": "code",
   "execution_count": 28,
   "metadata": {},
   "outputs": [
    {
     "name": "stderr",
     "output_type": "stream",
     "text": [
      "/Users/gracer/anaconda3/envs/py36/lib/python3.6/site-packages/pandas/core/indexing.py:362: SettingWithCopyWarning: \n",
      "A value is trying to be set on a copy of a slice from a DataFrame.\n",
      "Try using .loc[row_indexer,col_indexer] = value instead\n",
      "\n",
      "See the caveats in the documentation: http://pandas.pydata.org/pandas-docs/stable/indexing.html#indexing-view-versus-copy\n",
      "  self.obj[key] = _infer_fill_value(value)\n",
      "/Users/gracer/anaconda3/envs/py36/lib/python3.6/site-packages/pandas/core/indexing.py:543: SettingWithCopyWarning: \n",
      "A value is trying to be set on a copy of a slice from a DataFrame.\n",
      "Try using .loc[row_indexer,col_indexer] = value instead\n",
      "\n",
      "See the caveats in the documentation: http://pandas.pydata.org/pandas-docs/stable/indexing.html#indexing-view-versus-copy\n",
      "  self.obj[item] = s\n"
     ]
    }
   ],
   "source": [
    "df_unt.loc[df_unt['BMI'] <25 , 'ov_ob'] = 'no'\n",
    "df_unt.loc[(df_unt['BMI'] >= 25) & (df_unt['BMI'] < 30), 'ov_ob'] = 'ov'\n",
    "df_unt.loc[df_unt['BMI'] >= 30, 'ov_ob'] = 'ob'"
   ]
  },
  {
   "cell_type": "code",
   "execution_count": 29,
   "metadata": {},
   "outputs": [
    {
     "data": {
      "text/plain": [
       "no    177\n",
       "ov    126\n",
       "ob    112\n",
       "Name: ov_ob, dtype: int64"
      ]
     },
     "execution_count": 29,
     "metadata": {},
     "output_type": "execute_result"
    }
   ],
   "source": [
    "df_unt['ov_ob'].value_counts()"
   ]
  },
  {
   "cell_type": "code",
   "execution_count": 30,
   "metadata": {},
   "outputs": [],
   "source": [
    "df_unt.to_csv('/Users/gracer/Google Drive/HCP_graph/1200/datasets/not_related.csv', sep=',')"
   ]
  },
  {
   "cell_type": "code",
   "execution_count": 31,
   "metadata": {},
   "outputs": [],
   "source": [
    "list_int = [os.path.join('node_timeseries/3T_HCP1200_MSMAll_d100_ts2/','%s.txt'%x) for x in df_unt['Subject']]"
   ]
  },
  {
   "cell_type": "code",
   "execution_count": 32,
   "metadata": {},
   "outputs": [],
   "source": [
    "def tar_heel(X, liist, out):\n",
    "    tar = tarfile.open(X)\n",
    "    tar.extractall(out, members=[m for m in tar.getmembers() if m.name in liist])\n",
    "    tar.close()"
   ]
  },
  {
   "cell_type": "code",
   "execution_count": 33,
   "metadata": {},
   "outputs": [],
   "source": [
    "basepath='/Users/gracer/Google Drive/HCP_graph/1200'\n",
    "\n",
    "yarp=os.path.join(basepath,'datasets','HCP_PTN1200')\n",
    "narp= os.path.join(basepath,'datasets','HCP_PTN1200','graph_analysis')# Macintosh HD⁩ ▸ ⁨Users⁩ ▸ ⁨gracer⁩ ▸ ⁨Google Drive⁩ ▸ ⁨HCP_graph⁩ ▸ ⁨1200⁩ ▸ ⁨datasets⁩ ▸ ⁨HCP_PTN1200⁩\n",
    "# tar_heel(os.path.join(yarp,'NodeTimeseries_3T_HCP1200_MSMAll_ICAd100_ts2.tar.gz'), list_int, narp)"
   ]
  },
  {
   "cell_type": "code",
   "execution_count": 34,
   "metadata": {},
   "outputs": [],
   "source": [
    "ovob_dict={'no':{},'ov':{},'ob':{}}"
   ]
  },
  {
   "cell_type": "code",
   "execution_count": 35,
   "metadata": {},
   "outputs": [],
   "source": [
    "df_unt=df_unt.set_index('Subject')\n",
    "base_dict=df_unt.to_dict('index')"
   ]
  },
  {
   "cell_type": "code",
   "execution_count": 36,
   "metadata": {},
   "outputs": [
    {
     "data": {
      "text/plain": [
       "{100004: {'Age_in_Yrs': 24,\n",
       "  'BMI': 25.49,\n",
       "  'Ethnicity': 'Not Hispanic/Latino',\n",
       "  'Father_ID': 82122,\n",
       "  'HbA1C': 5.4,\n",
       "  'Hyperthyroidism': nan,\n",
       "  'Hypothyroidism': nan,\n",
       "  'Mother_ID': 52259,\n",
       "  'OtherEndocrn_Prob': nan,\n",
       "  'Race': 'White',\n",
       "  'ZygosityGT': ' ',\n",
       "  'ov_ob': 'ov'},\n",
       " 100206: {'Age_in_Yrs': 27,\n",
       "  'BMI': 26.64,\n",
       "  'Ethnicity': 'Not Hispanic/Latino',\n",
       "  'Father_ID': 85858,\n",
       "  'HbA1C': nan,\n",
       "  'Hyperthyroidism': nan,\n",
       "  'Hypothyroidism': nan,\n",
       "  'Mother_ID': 56037,\n",
       "  'OtherEndocrn_Prob': nan,\n",
       "  'Race': 'White',\n",
       "  'ZygosityGT': ' ',\n",
       "  'ov_ob': 'ov'},\n",
       " 101006: {'Age_in_Yrs': 35,\n",
       "  'BMI': 30.27,\n",
       "  'Ethnicity': 'Not Hispanic/Latino',\n",
       "  'Father_ID': 81149,\n",
       "  'HbA1C': 6.0,\n",
       "  'Hyperthyroidism': 0.0,\n",
       "  'Hypothyroidism': 0.0,\n",
       "  'Mother_ID': 51283,\n",
       "  'OtherEndocrn_Prob': 0.0,\n",
       "  'Race': 'Black or African Am.',\n",
       "  'ZygosityGT': ' ',\n",
       "  'ov_ob': 'ob'},\n",
       " 101107: {'Age_in_Yrs': 22,\n",
       "  'BMI': 21.13,\n",
       "  'Ethnicity': 'Not Hispanic/Latino',\n",
       "  'Father_ID': 81833,\n",
       "  'HbA1C': nan,\n",
       "  'Hyperthyroidism': nan,\n",
       "  'Hypothyroidism': nan,\n",
       "  'Mother_ID': 51969,\n",
       "  'OtherEndocrn_Prob': nan,\n",
       "  'Race': 'White',\n",
       "  'ZygosityGT': ' ',\n",
       "  'ov_ob': 'no'},\n",
       " 101309: {'Age_in_Yrs': 29,\n",
       "  'BMI': 22.2,\n",
       "  'Ethnicity': 'Not Hispanic/Latino',\n",
       "  'Father_ID': 82248,\n",
       "  'HbA1C': 5.4,\n",
       "  'Hyperthyroidism': nan,\n",
       "  'Hypothyroidism': nan,\n",
       "  'Mother_ID': 52385,\n",
       "  'OtherEndocrn_Prob': nan,\n",
       "  'Race': 'Black or African Am.',\n",
       "  'ZygosityGT': ' ',\n",
       "  'ov_ob': 'no'},\n",
       " 101410: {'Age_in_Yrs': 29,\n",
       "  'BMI': 24.27,\n",
       "  'Ethnicity': 'Not Hispanic/Latino',\n",
       "  'Father_ID': 82061,\n",
       "  'HbA1C': 5.1,\n",
       "  'Hyperthyroidism': nan,\n",
       "  'Hypothyroidism': nan,\n",
       "  'Mother_ID': 52198,\n",
       "  'OtherEndocrn_Prob': nan,\n",
       "  'Race': 'White',\n",
       "  'ZygosityGT': ' ',\n",
       "  'ov_ob': 'no'},\n",
       " 101612: {'Age_in_Yrs': 30,\n",
       "  'BMI': 40.72,\n",
       "  'Ethnicity': 'Not Hispanic/Latino',\n",
       "  'Father_ID': 81145,\n",
       "  'HbA1C': 5.2,\n",
       "  'Hyperthyroidism': 0.0,\n",
       "  'Hypothyroidism': 0.0,\n",
       "  'Mother_ID': 51279,\n",
       "  'OtherEndocrn_Prob': 0.0,\n",
       "  'Race': 'White',\n",
       "  'ZygosityGT': ' ',\n",
       "  'ov_ob': 'ob'},\n",
       " 101915: {'Age_in_Yrs': 35,\n",
       "  'BMI': 20.42,\n",
       "  'Ethnicity': 'Hispanic/Latino',\n",
       "  'Father_ID': 81841,\n",
       "  'HbA1C': 5.3,\n",
       "  'Hyperthyroidism': 0.0,\n",
       "  'Hypothyroidism': 0.0,\n",
       "  'Mother_ID': 51977,\n",
       "  'OtherEndocrn_Prob': 0.0,\n",
       "  'Race': 'White',\n",
       "  'ZygosityGT': ' ',\n",
       "  'ov_ob': 'no'},\n",
       " 102008: {'Age_in_Yrs': 24,\n",
       "  'BMI': 31.42,\n",
       "  'Ethnicity': 'Hispanic/Latino',\n",
       "  'Father_ID': 81882,\n",
       "  'HbA1C': 5.3,\n",
       "  'Hyperthyroidism': nan,\n",
       "  'Hypothyroidism': nan,\n",
       "  'Mother_ID': 52018,\n",
       "  'OtherEndocrn_Prob': nan,\n",
       "  'Race': 'White',\n",
       "  'ZygosityGT': ' ',\n",
       "  'ov_ob': 'ob'},\n",
       " 102109: {'Age_in_Yrs': 27,\n",
       "  'BMI': 22.59,\n",
       "  'Ethnicity': 'Not Hispanic/Latino',\n",
       "  'Father_ID': 82723,\n",
       "  'HbA1C': 5.4,\n",
       "  'Hyperthyroidism': nan,\n",
       "  'Hypothyroidism': nan,\n",
       "  'Mother_ID': 52901,\n",
       "  'OtherEndocrn_Prob': nan,\n",
       "  'Race': 'White',\n",
       "  'ZygosityGT': ' ',\n",
       "  'ov_ob': 'no'},\n",
       " 102513: {'Age_in_Yrs': 30,\n",
       "  'BMI': 25.85,\n",
       "  'Ethnicity': 'Not Hispanic/Latino',\n",
       "  'Father_ID': 85897,\n",
       "  'HbA1C': 5.1,\n",
       "  'Hyperthyroidism': nan,\n",
       "  'Hypothyroidism': nan,\n",
       "  'Mother_ID': 56077,\n",
       "  'OtherEndocrn_Prob': nan,\n",
       "  'Race': 'White',\n",
       "  'ZygosityGT': ' ',\n",
       "  'ov_ob': 'ov'},\n",
       " 102614: {'Age_in_Yrs': 23,\n",
       "  'BMI': 25.49,\n",
       "  'Ethnicity': 'Not Hispanic/Latino',\n",
       "  'Father_ID': 82659,\n",
       "  'HbA1C': 5.4,\n",
       "  'Hyperthyroidism': nan,\n",
       "  'Hypothyroidism': nan,\n",
       "  'Mother_ID': 52838,\n",
       "  'OtherEndocrn_Prob': nan,\n",
       "  'Race': 'White',\n",
       "  'ZygosityGT': ' ',\n",
       "  'ov_ob': 'ov'},\n",
       " 102715: {'Age_in_Yrs': 26,\n",
       "  'BMI': 24.52,\n",
       "  'Ethnicity': 'Not Hispanic/Latino',\n",
       "  'Father_ID': 81334,\n",
       "  'HbA1C': 4.7,\n",
       "  'Hyperthyroidism': nan,\n",
       "  'Hypothyroidism': nan,\n",
       "  'Mother_ID': 51469,\n",
       "  'OtherEndocrn_Prob': nan,\n",
       "  'Race': 'White',\n",
       "  'ZygosityGT': ' ',\n",
       "  'ov_ob': 'no'},\n",
       " 103111: {'Age_in_Yrs': 30,\n",
       "  'BMI': 33.24,\n",
       "  'Ethnicity': 'Not Hispanic/Latino',\n",
       "  'Father_ID': 81216,\n",
       "  'HbA1C': nan,\n",
       "  'Hyperthyroidism': nan,\n",
       "  'Hypothyroidism': nan,\n",
       "  'Mother_ID': 51351,\n",
       "  'OtherEndocrn_Prob': nan,\n",
       "  'Race': 'White',\n",
       "  'ZygosityGT': ' ',\n",
       "  'ov_ob': 'ob'},\n",
       " 103212: {'Age_in_Yrs': 34,\n",
       "  'BMI': 30.92,\n",
       "  'Ethnicity': 'Not Hispanic/Latino',\n",
       "  'Father_ID': 85925,\n",
       "  'HbA1C': 4.6,\n",
       "  'Hyperthyroidism': nan,\n",
       "  'Hypothyroidism': nan,\n",
       "  'Mother_ID': 56105,\n",
       "  'OtherEndocrn_Prob': nan,\n",
       "  'Race': 'White',\n",
       "  'ZygosityGT': ' ',\n",
       "  'ov_ob': 'ob'},\n",
       " 104113: {'Age_in_Yrs': 26,\n",
       "  'BMI': 32.38,\n",
       "  'Ethnicity': 'Not Hispanic/Latino',\n",
       "  'Father_ID': 85631,\n",
       "  'HbA1C': 5.9,\n",
       "  'Hyperthyroidism': nan,\n",
       "  'Hypothyroidism': nan,\n",
       "  'Mother_ID': 55810,\n",
       "  'OtherEndocrn_Prob': nan,\n",
       "  'Race': 'Black or African Am.',\n",
       "  'ZygosityGT': ' ',\n",
       "  'ov_ob': 'ob'},\n",
       " 105216: {'Age_in_Yrs': 27,\n",
       "  'BMI': 25.16,\n",
       "  'Ethnicity': 'Not Hispanic/Latino',\n",
       "  'Father_ID': 81391,\n",
       "  'HbA1C': 5.2,\n",
       "  'Hyperthyroidism': nan,\n",
       "  'Hypothyroidism': nan,\n",
       "  'Mother_ID': 51527,\n",
       "  'OtherEndocrn_Prob': nan,\n",
       "  'Race': 'White',\n",
       "  'ZygosityGT': ' ',\n",
       "  'ov_ob': 'ov'},\n",
       " 105620: {'Age_in_Yrs': 34,\n",
       "  'BMI': 18.42,\n",
       "  'Ethnicity': 'Not Hispanic/Latino',\n",
       "  'Father_ID': 85517,\n",
       "  'HbA1C': 4.7,\n",
       "  'Hyperthyroidism': 0.0,\n",
       "  'Hypothyroidism': 0.0,\n",
       "  'Mother_ID': 55695,\n",
       "  'OtherEndocrn_Prob': 0.0,\n",
       "  'Race': 'White',\n",
       "  'ZygosityGT': ' ',\n",
       "  'ov_ob': 'no'},\n",
       " 105923: {'Age_in_Yrs': 33,\n",
       "  'BMI': 19.57,\n",
       "  'Ethnicity': 'Not Hispanic/Latino',\n",
       "  'Father_ID': 82747,\n",
       "  'HbA1C': 5.5,\n",
       "  'Hyperthyroidism': 0.0,\n",
       "  'Hypothyroidism': 0.0,\n",
       "  'Mother_ID': 52925,\n",
       "  'OtherEndocrn_Prob': 0.0,\n",
       "  'Race': 'White',\n",
       "  'ZygosityGT': ' ',\n",
       "  'ov_ob': 'no'},\n",
       " 106218: {'Age_in_Yrs': 28,\n",
       "  'BMI': 29.21,\n",
       "  'Ethnicity': 'Not Hispanic/Latino',\n",
       "  'Father_ID': 82184,\n",
       "  'HbA1C': nan,\n",
       "  'Hyperthyroidism': nan,\n",
       "  'Hypothyroidism': nan,\n",
       "  'Mother_ID': 52321,\n",
       "  'OtherEndocrn_Prob': nan,\n",
       "  'Race': 'Black or African Am.',\n",
       "  'ZygosityGT': ' ',\n",
       "  'ov_ob': 'ov'},\n",
       " 107119: {'Age_in_Yrs': 36,\n",
       "  'BMI': 44.21,\n",
       "  'Ethnicity': 'Not Hispanic/Latino',\n",
       "  'Father_ID': 82763,\n",
       "  'HbA1C': nan,\n",
       "  'Hyperthyroidism': nan,\n",
       "  'Hypothyroidism': nan,\n",
       "  'Mother_ID': 52941,\n",
       "  'OtherEndocrn_Prob': nan,\n",
       "  'Race': 'Black or African Am.',\n",
       "  'ZygosityGT': ' ',\n",
       "  'ov_ob': 'ob'},\n",
       " 107220: {'Age_in_Yrs': 26,\n",
       "  'BMI': 37.07,\n",
       "  'Ethnicity': 'Not Hispanic/Latino',\n",
       "  'Father_ID': 85527,\n",
       "  'HbA1C': 5.0,\n",
       "  'Hyperthyroidism': 0.0,\n",
       "  'Hypothyroidism': 0.0,\n",
       "  'Mother_ID': 55705,\n",
       "  'OtherEndocrn_Prob': 0.0,\n",
       "  'Race': 'White',\n",
       "  'ZygosityGT': ' ',\n",
       "  'ov_ob': 'ob'},\n",
       " 107321: {'Age_in_Yrs': 25,\n",
       "  'BMI': 23.96,\n",
       "  'Ethnicity': 'Not Hispanic/Latino',\n",
       "  'Father_ID': 82328,\n",
       "  'HbA1C': nan,\n",
       "  'Hyperthyroidism': 0.0,\n",
       "  'Hypothyroidism': 0.0,\n",
       "  'Mother_ID': 52493,\n",
       "  'OtherEndocrn_Prob': 0.0,\n",
       "  'Race': 'Black or African Am.',\n",
       "  'ZygosityGT': ' ',\n",
       "  'ov_ob': 'no'},\n",
       " 107523: {'Age_in_Yrs': 23,\n",
       "  'BMI': 42.87,\n",
       "  'Ethnicity': 'Not Hispanic/Latino',\n",
       "  'Father_ID': 85843,\n",
       "  'HbA1C': nan,\n",
       "  'Hyperthyroidism': nan,\n",
       "  'Hypothyroidism': nan,\n",
       "  'Mother_ID': 56022,\n",
       "  'OtherEndocrn_Prob': nan,\n",
       "  'Race': 'Black or African Am.',\n",
       "  'ZygosityGT': ' ',\n",
       "  'ov_ob': 'ob'},\n",
       " 107725: {'Age_in_Yrs': 35,\n",
       "  'BMI': 29.23,\n",
       "  'Ethnicity': 'Not Hispanic/Latino',\n",
       "  'Father_ID': 82743,\n",
       "  'HbA1C': 5.9,\n",
       "  'Hyperthyroidism': 0.0,\n",
       "  'Hypothyroidism': 0.0,\n",
       "  'Mother_ID': 52921,\n",
       "  'OtherEndocrn_Prob': 0.0,\n",
       "  'Race': 'Am. Indian/Alaskan Nat.',\n",
       "  'ZygosityGT': ' ',\n",
       "  'ov_ob': 'ov'},\n",
       " 108121: {'Age_in_Yrs': 27,\n",
       "  'BMI': 31.95,\n",
       "  'Ethnicity': 'Not Hispanic/Latino',\n",
       "  'Father_ID': 81430,\n",
       "  'HbA1C': 5.3,\n",
       "  'Hyperthyroidism': 0.0,\n",
       "  'Hypothyroidism': 0.0,\n",
       "  'Mother_ID': 51566,\n",
       "  'OtherEndocrn_Prob': 0.0,\n",
       "  'Race': 'White',\n",
       "  'ZygosityGT': ' ',\n",
       "  'ov_ob': 'ob'},\n",
       " 108525: {'Age_in_Yrs': 23,\n",
       "  'BMI': 25.4,\n",
       "  'Ethnicity': 'Not Hispanic/Latino',\n",
       "  'Father_ID': 99991,\n",
       "  'HbA1C': 5.4,\n",
       "  'Hyperthyroidism': nan,\n",
       "  'Hypothyroidism': nan,\n",
       "  'Mother_ID': 52586,\n",
       "  'OtherEndocrn_Prob': nan,\n",
       "  'Race': 'More than one',\n",
       "  'ZygosityGT': ' ',\n",
       "  'ov_ob': 'ov'},\n",
       " 108828: {'Age_in_Yrs': 32,\n",
       "  'BMI': 29.37,\n",
       "  'Ethnicity': 'Hispanic/Latino',\n",
       "  'Father_ID': 81918,\n",
       "  'HbA1C': 5.1,\n",
       "  'Hyperthyroidism': nan,\n",
       "  'Hypothyroidism': nan,\n",
       "  'Mother_ID': 52054,\n",
       "  'OtherEndocrn_Prob': nan,\n",
       "  'Race': 'Unknown or Not Reported',\n",
       "  'ZygosityGT': ' ',\n",
       "  'ov_ob': 'ov'},\n",
       " 109325: {'Age_in_Yrs': 31,\n",
       "  'BMI': 35.26,\n",
       "  'Ethnicity': 'Not Hispanic/Latino',\n",
       "  'Father_ID': 82133,\n",
       "  'HbA1C': 5.5,\n",
       "  'Hyperthyroidism': nan,\n",
       "  'Hypothyroidism': nan,\n",
       "  'Mother_ID': 52270,\n",
       "  'OtherEndocrn_Prob': nan,\n",
       "  'Race': 'White',\n",
       "  'ZygosityGT': ' ',\n",
       "  'ov_ob': 'ob'},\n",
       " 109830: {'Age_in_Yrs': 33,\n",
       "  'BMI': 22.1,\n",
       "  'Ethnicity': 'Not Hispanic/Latino',\n",
       "  'Father_ID': 84428,\n",
       "  'HbA1C': nan,\n",
       "  'Hyperthyroidism': 0.0,\n",
       "  'Hypothyroidism': 0.0,\n",
       "  'Mother_ID': 54606,\n",
       "  'OtherEndocrn_Prob': 0.0,\n",
       "  'Race': 'Asian/Nat. Hawaiian/Othr Pacific Is.',\n",
       "  'ZygosityGT': ' ',\n",
       "  'ov_ob': 'no'},\n",
       " 110411: {'Age_in_Yrs': 31,\n",
       "  'BMI': 18.71,\n",
       "  'Ethnicity': 'Not Hispanic/Latino',\n",
       "  'Father_ID': 81168,\n",
       "  'HbA1C': nan,\n",
       "  'Hyperthyroidism': nan,\n",
       "  'Hypothyroidism': nan,\n",
       "  'Mother_ID': 51303,\n",
       "  'OtherEndocrn_Prob': nan,\n",
       "  'Race': 'White',\n",
       "  'ZygosityGT': ' ',\n",
       "  'ov_ob': 'no'},\n",
       " 110613: {'Age_in_Yrs': 29,\n",
       "  'BMI': 25.2,\n",
       "  'Ethnicity': 'Not Hispanic/Latino',\n",
       "  'Father_ID': 85914,\n",
       "  'HbA1C': 4.9,\n",
       "  'Hyperthyroidism': nan,\n",
       "  'Hypothyroidism': nan,\n",
       "  'Mother_ID': 56094,\n",
       "  'OtherEndocrn_Prob': nan,\n",
       "  'Race': 'White',\n",
       "  'ZygosityGT': ' ',\n",
       "  'ov_ob': 'ov'},\n",
       " 111716: {'Age_in_Yrs': 32,\n",
       "  'BMI': 23.8,\n",
       "  'Ethnicity': 'Hispanic/Latino',\n",
       "  'Father_ID': 81940,\n",
       "  'HbA1C': 5.3,\n",
       "  'Hyperthyroidism': 0.0,\n",
       "  'Hypothyroidism': 0.0,\n",
       "  'Mother_ID': 52076,\n",
       "  'OtherEndocrn_Prob': 0.0,\n",
       "  'Race': 'White',\n",
       "  'ZygosityGT': ' ',\n",
       "  'ov_ob': 'no'},\n",
       " 112112: {'Age_in_Yrs': 27,\n",
       "  'BMI': 19.92,\n",
       "  'Ethnicity': 'Hispanic/Latino',\n",
       "  'Father_ID': 82481,\n",
       "  'HbA1C': 5.0,\n",
       "  'Hyperthyroidism': nan,\n",
       "  'Hypothyroidism': nan,\n",
       "  'Mother_ID': 52662,\n",
       "  'OtherEndocrn_Prob': nan,\n",
       "  'Race': 'White',\n",
       "  'ZygosityGT': ' ',\n",
       "  'ov_ob': 'no'},\n",
       " 112314: {'Age_in_Yrs': 30,\n",
       "  'BMI': 33.37,\n",
       "  'Ethnicity': 'Not Hispanic/Latino',\n",
       "  'Father_ID': 83073,\n",
       "  'HbA1C': 5.8,\n",
       "  'Hyperthyroidism': 0.0,\n",
       "  'Hypothyroidism': 0.0,\n",
       "  'Mother_ID': 53251,\n",
       "  'OtherEndocrn_Prob': 0.0,\n",
       "  'Race': 'More than one',\n",
       "  'ZygosityGT': ' ',\n",
       "  'ov_ob': 'ob'},\n",
       " 112920: {'Age_in_Yrs': 31,\n",
       "  'BMI': 28.63,\n",
       "  'Ethnicity': 'Not Hispanic/Latino',\n",
       "  'Father_ID': 81662,\n",
       "  'HbA1C': 5.5,\n",
       "  'Hyperthyroidism': nan,\n",
       "  'Hypothyroidism': nan,\n",
       "  'Mother_ID': 51798,\n",
       "  'OtherEndocrn_Prob': nan,\n",
       "  'Race': 'White',\n",
       "  'ZygosityGT': ' ',\n",
       "  'ov_ob': 'ov'},\n",
       " 113215: {'Age_in_Yrs': 26,\n",
       "  'BMI': 26.0,\n",
       "  'Ethnicity': 'Not Hispanic/Latino',\n",
       "  'Father_ID': 81289,\n",
       "  'HbA1C': 5.3,\n",
       "  'Hyperthyroidism': 0.0,\n",
       "  'Hypothyroidism': 0.0,\n",
       "  'Mother_ID': 51424,\n",
       "  'OtherEndocrn_Prob': 0.0,\n",
       "  'Race': 'White',\n",
       "  'ZygosityGT': ' ',\n",
       "  'ov_ob': 'ov'},\n",
       " 113619: {'Age_in_Yrs': 34,\n",
       "  'BMI': 24.48,\n",
       "  'Ethnicity': 'Not Hispanic/Latino',\n",
       "  'Father_ID': 81614,\n",
       "  'HbA1C': nan,\n",
       "  'Hyperthyroidism': 0.0,\n",
       "  'Hypothyroidism': 0.0,\n",
       "  'Mother_ID': 51750,\n",
       "  'OtherEndocrn_Prob': 0.0,\n",
       "  'Race': 'White',\n",
       "  'ZygosityGT': ' ',\n",
       "  'ov_ob': 'no'},\n",
       " 113821: {'Age_in_Yrs': 26,\n",
       "  'BMI': 27.28,\n",
       "  'Ethnicity': 'Hispanic/Latino',\n",
       "  'Father_ID': 81974,\n",
       "  'HbA1C': nan,\n",
       "  'Hyperthyroidism': 0.0,\n",
       "  'Hypothyroidism': 0.0,\n",
       "  'Mother_ID': 52110,\n",
       "  'OtherEndocrn_Prob': 0.0,\n",
       "  'Race': 'Unknown or Not Reported',\n",
       "  'ZygosityGT': ' ',\n",
       "  'ov_ob': 'ov'},\n",
       " 114318: {'Age_in_Yrs': 22,\n",
       "  'BMI': 23.59,\n",
       "  'Ethnicity': 'Hispanic/Latino',\n",
       "  'Father_ID': 81853,\n",
       "  'HbA1C': nan,\n",
       "  'Hyperthyroidism': 0.0,\n",
       "  'Hypothyroidism': 0.0,\n",
       "  'Mother_ID': 51989,\n",
       "  'OtherEndocrn_Prob': 0.0,\n",
       "  'Race': 'White',\n",
       "  'ZygosityGT': ' ',\n",
       "  'ov_ob': 'no'},\n",
       " 114419: {'Age_in_Yrs': 33,\n",
       "  'BMI': 34.41,\n",
       "  'Ethnicity': 'Not Hispanic/Latino',\n",
       "  'Father_ID': 82694,\n",
       "  'HbA1C': 5.5,\n",
       "  'Hyperthyroidism': nan,\n",
       "  'Hypothyroidism': nan,\n",
       "  'Mother_ID': 52872,\n",
       "  'OtherEndocrn_Prob': nan,\n",
       "  'Race': 'White',\n",
       "  'ZygosityGT': ' ',\n",
       "  'ov_ob': 'ob'},\n",
       " 114621: {'Age_in_Yrs': 29,\n",
       "  'BMI': 26.99,\n",
       "  'Ethnicity': 'Not Hispanic/Latino',\n",
       "  'Father_ID': 83125,\n",
       "  'HbA1C': 5.6,\n",
       "  'Hyperthyroidism': nan,\n",
       "  'Hypothyroidism': nan,\n",
       "  'Mother_ID': 53303,\n",
       "  'OtherEndocrn_Prob': nan,\n",
       "  'Race': 'White',\n",
       "  'ZygosityGT': ' ',\n",
       "  'ov_ob': 'ov'},\n",
       " 114823: {'Age_in_Yrs': 33,\n",
       "  'BMI': 20.55,\n",
       "  'Ethnicity': 'Not Hispanic/Latino',\n",
       "  'Father_ID': 99997,\n",
       "  'HbA1C': 5.4,\n",
       "  'Hyperthyroidism': 0.0,\n",
       "  'Hypothyroidism': 0.0,\n",
       "  'Mother_ID': 99996,\n",
       "  'OtherEndocrn_Prob': 0.0,\n",
       "  'Race': 'White',\n",
       "  'ZygosityGT': ' ',\n",
       "  'ov_ob': 'no'},\n",
       " 115219: {'Age_in_Yrs': 33,\n",
       "  'BMI': 29.95,\n",
       "  'Ethnicity': 'Not Hispanic/Latino',\n",
       "  'Father_ID': 82644,\n",
       "  'HbA1C': 5.2,\n",
       "  'Hyperthyroidism': nan,\n",
       "  'Hypothyroidism': nan,\n",
       "  'Mother_ID': 52823,\n",
       "  'OtherEndocrn_Prob': nan,\n",
       "  'Race': 'White',\n",
       "  'ZygosityGT': ' ',\n",
       "  'ov_ob': 'ov'},\n",
       " 116120: {'Age_in_Yrs': 34,\n",
       "  'BMI': 18.08,\n",
       "  'Ethnicity': 'Not Hispanic/Latino',\n",
       "  'Father_ID': 81185,\n",
       "  'HbA1C': nan,\n",
       "  'Hyperthyroidism': 0.0,\n",
       "  'Hypothyroidism': 0.0,\n",
       "  'Mother_ID': 51320,\n",
       "  'OtherEndocrn_Prob': 0.0,\n",
       "  'Race': 'White',\n",
       "  'ZygosityGT': ' ',\n",
       "  'ov_ob': 'no'},\n",
       " 117122: {'Age_in_Yrs': 30,\n",
       "  'BMI': 20.97,\n",
       "  'Ethnicity': 'Not Hispanic/Latino',\n",
       "  'Father_ID': 81320,\n",
       "  'HbA1C': nan,\n",
       "  'Hyperthyroidism': 0.0,\n",
       "  'Hypothyroidism': 0.0,\n",
       "  'Mother_ID': 51455,\n",
       "  'OtherEndocrn_Prob': 0.0,\n",
       "  'Race': 'Asian/Nat. Hawaiian/Othr Pacific Is.',\n",
       "  'ZygosityGT': ' ',\n",
       "  'ov_ob': 'no'},\n",
       " 117324: {'Age_in_Yrs': 24,\n",
       "  'BMI': 19.92,\n",
       "  'Ethnicity': 'Not Hispanic/Latino',\n",
       "  'Father_ID': 82672,\n",
       "  'HbA1C': nan,\n",
       "  'Hyperthyroidism': 0.0,\n",
       "  'Hypothyroidism': 0.0,\n",
       "  'Mother_ID': 51529,\n",
       "  'OtherEndocrn_Prob': 0.0,\n",
       "  'Race': 'Black or African Am.',\n",
       "  'ZygosityGT': ' ',\n",
       "  'ov_ob': 'no'},\n",
       " 117728: {'Age_in_Yrs': 22,\n",
       "  'BMI': 37.11,\n",
       "  'Ethnicity': 'Not Hispanic/Latino',\n",
       "  'Father_ID': 83099,\n",
       "  'HbA1C': 5.3,\n",
       "  'Hyperthyroidism': 0.0,\n",
       "  'Hypothyroidism': 0.0,\n",
       "  'Mother_ID': 53277,\n",
       "  'OtherEndocrn_Prob': 0.0,\n",
       "  'Race': 'More than one',\n",
       "  'ZygosityGT': ' ',\n",
       "  'ov_ob': 'ob'},\n",
       " 117930: {'Age_in_Yrs': 33,\n",
       "  'BMI': 33.89,\n",
       "  'Ethnicity': 'Not Hispanic/Latino',\n",
       "  'Father_ID': 85940,\n",
       "  'HbA1C': nan,\n",
       "  'Hyperthyroidism': 0.0,\n",
       "  'Hypothyroidism': 0.0,\n",
       "  'Mother_ID': 56120,\n",
       "  'OtherEndocrn_Prob': 0.0,\n",
       "  'Race': 'White',\n",
       "  'ZygosityGT': ' ',\n",
       "  'ov_ob': 'ob'},\n",
       " 118124: {'Age_in_Yrs': 34,\n",
       "  'BMI': 32.09,\n",
       "  'Ethnicity': 'Not Hispanic/Latino',\n",
       "  'Father_ID': 81286,\n",
       "  'HbA1C': 5.7,\n",
       "  'Hyperthyroidism': 0.0,\n",
       "  'Hypothyroidism': 0.0,\n",
       "  'Mother_ID': 51421,\n",
       "  'OtherEndocrn_Prob': 0.0,\n",
       "  'Race': 'Black or African Am.',\n",
       "  'ZygosityGT': ' ',\n",
       "  'ov_ob': 'ob'},\n",
       " 118528: {'Age_in_Yrs': 29,\n",
       "  'BMI': 25.13,\n",
       "  'Ethnicity': 'Not Hispanic/Latino',\n",
       "  'Father_ID': 99995,\n",
       "  'HbA1C': 5.2,\n",
       "  'Hyperthyroidism': 0.0,\n",
       "  'Hypothyroidism': 0.0,\n",
       "  'Mother_ID': 52514,\n",
       "  'OtherEndocrn_Prob': 0.0,\n",
       "  'Race': 'Black or African Am.',\n",
       "  'ZygosityGT': ' ',\n",
       "  'ov_ob': 'ov'},\n",
       " 118730: {'Age_in_Yrs': 23,\n",
       "  'BMI': 31.99,\n",
       "  'Ethnicity': 'Not Hispanic/Latino',\n",
       "  'Father_ID': 81284,\n",
       "  'HbA1C': nan,\n",
       "  'Hyperthyroidism': nan,\n",
       "  'Hypothyroidism': nan,\n",
       "  'Mother_ID': 51419,\n",
       "  'OtherEndocrn_Prob': nan,\n",
       "  'Race': 'White',\n",
       "  'ZygosityGT': ' ',\n",
       "  'ov_ob': 'ob'},\n",
       " 118932: {'Age_in_Yrs': 26,\n",
       "  'BMI': 28.87,\n",
       "  'Ethnicity': 'Not Hispanic/Latino',\n",
       "  'Father_ID': 81161,\n",
       "  'HbA1C': nan,\n",
       "  'Hyperthyroidism': nan,\n",
       "  'Hypothyroidism': nan,\n",
       "  'Mother_ID': 51295,\n",
       "  'OtherEndocrn_Prob': nan,\n",
       "  'Race': 'White',\n",
       "  'ZygosityGT': ' ',\n",
       "  'ov_ob': 'ov'},\n",
       " 119025: {'Age_in_Yrs': 29,\n",
       "  'BMI': 27.41,\n",
       "  'Ethnicity': 'Not Hispanic/Latino',\n",
       "  'Father_ID': 85855,\n",
       "  'HbA1C': nan,\n",
       "  'Hyperthyroidism': nan,\n",
       "  'Hypothyroidism': nan,\n",
       "  'Mother_ID': 56034,\n",
       "  'OtherEndocrn_Prob': nan,\n",
       "  'Race': 'White',\n",
       "  'ZygosityGT': ' ',\n",
       "  'ov_ob': 'ov'},\n",
       " 119126: {'Age_in_Yrs': 25,\n",
       "  'BMI': 30.46,\n",
       "  'Ethnicity': 'Hispanic/Latino',\n",
       "  'Father_ID': 81927,\n",
       "  'HbA1C': 4.6,\n",
       "  'Hyperthyroidism': 0.0,\n",
       "  'Hypothyroidism': 0.0,\n",
       "  'Mother_ID': 52063,\n",
       "  'OtherEndocrn_Prob': 0.0,\n",
       "  'Race': 'Unknown or Not Reported',\n",
       "  'ZygosityGT': ' ',\n",
       "  'ov_ob': 'ob'},\n",
       " 119732: {'Age_in_Yrs': 33,\n",
       "  'BMI': 21.87,\n",
       "  'Ethnicity': 'Not Hispanic/Latino',\n",
       "  'Father_ID': 85523,\n",
       "  'HbA1C': 4.4,\n",
       "  'Hyperthyroidism': 0.0,\n",
       "  'Hypothyroidism': 0.0,\n",
       "  'Mother_ID': 55701,\n",
       "  'OtherEndocrn_Prob': 0.0,\n",
       "  'Race': 'White',\n",
       "  'ZygosityGT': ' ',\n",
       "  'ov_ob': 'no'},\n",
       " 120010: {'Age_in_Yrs': 26,\n",
       "  'BMI': 18.29,\n",
       "  'Ethnicity': 'Not Hispanic/Latino',\n",
       "  'Father_ID': 82993,\n",
       "  'HbA1C': 5.4,\n",
       "  'Hyperthyroidism': 0.0,\n",
       "  'Hypothyroidism': 0.0,\n",
       "  'Mother_ID': 53171,\n",
       "  'OtherEndocrn_Prob': 0.0,\n",
       "  'Race': 'Asian/Nat. Hawaiian/Othr Pacific Is.',\n",
       "  'ZygosityGT': ' ',\n",
       "  'ov_ob': 'no'},\n",
       " 120414: {'Age_in_Yrs': 26,\n",
       "  'BMI': 21.48,\n",
       "  'Ethnicity': 'Not Hispanic/Latino',\n",
       "  'Father_ID': 81482,\n",
       "  'HbA1C': 5.4,\n",
       "  'Hyperthyroidism': 0.0,\n",
       "  'Hypothyroidism': 0.0,\n",
       "  'Mother_ID': 51618,\n",
       "  'OtherEndocrn_Prob': 0.0,\n",
       "  'Race': 'White',\n",
       "  'ZygosityGT': ' ',\n",
       "  'ov_ob': 'no'},\n",
       " 120515: {'Age_in_Yrs': 26,\n",
       "  'BMI': 27.99,\n",
       "  'Ethnicity': 'Not Hispanic/Latino',\n",
       "  'Father_ID': 82308,\n",
       "  'HbA1C': 5.8,\n",
       "  'Hyperthyroidism': 0.0,\n",
       "  'Hypothyroidism': 0.0,\n",
       "  'Mother_ID': 52468,\n",
       "  'OtherEndocrn_Prob': 0.0,\n",
       "  'Race': 'Black or African Am.',\n",
       "  'ZygosityGT': ' ',\n",
       "  'ov_ob': 'ov'},\n",
       " 120717: {'Age_in_Yrs': 35,\n",
       "  'BMI': 22.85,\n",
       "  'Ethnicity': 'Not Hispanic/Latino',\n",
       "  'Father_ID': 85528,\n",
       "  'HbA1C': 5.1,\n",
       "  'Hyperthyroidism': 0.0,\n",
       "  'Hypothyroidism': 0.0,\n",
       "  'Mother_ID': 55706,\n",
       "  'OtherEndocrn_Prob': 0.0,\n",
       "  'Race': 'White',\n",
       "  'ZygosityGT': ' ',\n",
       "  'ov_ob': 'no'},\n",
       " 121315: {'Age_in_Yrs': 29,\n",
       "  'BMI': 28.5,\n",
       "  'Ethnicity': 'Not Hispanic/Latino',\n",
       "  'Father_ID': 99979,\n",
       "  'HbA1C': 5.7,\n",
       "  'Hyperthyroidism': nan,\n",
       "  'Hypothyroidism': nan,\n",
       "  'Mother_ID': 52410,\n",
       "  'OtherEndocrn_Prob': nan,\n",
       "  'Race': 'Black or African Am.',\n",
       "  'ZygosityGT': ' ',\n",
       "  'ov_ob': 'ov'},\n",
       " 121416: {'Age_in_Yrs': 26,\n",
       "  'BMI': 26.0,\n",
       "  'Ethnicity': 'Hispanic/Latino',\n",
       "  'Father_ID': 81809,\n",
       "  'HbA1C': 5.4,\n",
       "  'Hyperthyroidism': nan,\n",
       "  'Hypothyroidism': nan,\n",
       "  'Mother_ID': 51945,\n",
       "  'OtherEndocrn_Prob': nan,\n",
       "  'Race': 'Unknown or Not Reported',\n",
       "  'ZygosityGT': ' ',\n",
       "  'ov_ob': 'ov'},\n",
       " 121618: {'Age_in_Yrs': 32,\n",
       "  'BMI': 27.03,\n",
       "  'Ethnicity': 'Not Hispanic/Latino',\n",
       "  'Father_ID': 82729,\n",
       "  'HbA1C': 5.3,\n",
       "  'Hyperthyroidism': nan,\n",
       "  'Hypothyroidism': nan,\n",
       "  'Mother_ID': 52907,\n",
       "  'OtherEndocrn_Prob': nan,\n",
       "  'Race': 'Black or African Am.',\n",
       "  'ZygosityGT': ' ',\n",
       "  'ov_ob': 'ov'},\n",
       " 121719: {'Age_in_Yrs': 33,\n",
       "  'BMI': 32.94,\n",
       "  'Ethnicity': 'Not Hispanic/Latino',\n",
       "  'Father_ID': 81537,\n",
       "  'HbA1C': 5.2,\n",
       "  'Hyperthyroidism': 0.0,\n",
       "  'Hypothyroidism': 0.0,\n",
       "  'Mother_ID': 51673,\n",
       "  'OtherEndocrn_Prob': 0.0,\n",
       "  'Race': 'White',\n",
       "  'ZygosityGT': ' ',\n",
       "  'ov_ob': 'ob'},\n",
       " 122317: {'Age_in_Yrs': 31,\n",
       "  'BMI': 21.45,\n",
       "  'Ethnicity': 'Not Hispanic/Latino',\n",
       "  'Father_ID': 81666,\n",
       "  'HbA1C': 4.9,\n",
       "  'Hyperthyroidism': nan,\n",
       "  'Hypothyroidism': nan,\n",
       "  'Mother_ID': 51802,\n",
       "  'OtherEndocrn_Prob': nan,\n",
       "  'Race': 'White',\n",
       "  'ZygosityGT': ' ',\n",
       "  'ov_ob': 'no'},\n",
       " 122418: {'Age_in_Yrs': 29,\n",
       "  'BMI': 23.02,\n",
       "  'Ethnicity': 'Not Hispanic/Latino',\n",
       "  'Father_ID': 81456,\n",
       "  'HbA1C': nan,\n",
       "  'Hyperthyroidism': 0.0,\n",
       "  'Hypothyroidism': 0.0,\n",
       "  'Mother_ID': 51592,\n",
       "  'OtherEndocrn_Prob': 0.0,\n",
       "  'Race': 'White',\n",
       "  'ZygosityGT': ' ',\n",
       "  'ov_ob': 'no'},\n",
       " 122519: {'Age_in_Yrs': 35,\n",
       "  'BMI': 40.38,\n",
       "  'Ethnicity': 'Not Hispanic/Latino',\n",
       "  'Father_ID': 81646,\n",
       "  'HbA1C': 5.7,\n",
       "  'Hyperthyroidism': 0.0,\n",
       "  'Hypothyroidism': 0.0,\n",
       "  'Mother_ID': 51782,\n",
       "  'OtherEndocrn_Prob': 0.0,\n",
       "  'Race': 'White',\n",
       "  'ZygosityGT': ' ',\n",
       "  'ov_ob': 'ob'},\n",
       " 122620: {'Age_in_Yrs': 26,\n",
       "  'BMI': 20.09,\n",
       "  'Ethnicity': 'Not Hispanic/Latino',\n",
       "  'Father_ID': 81257,\n",
       "  'HbA1C': 5.1,\n",
       "  'Hyperthyroidism': nan,\n",
       "  'Hypothyroidism': nan,\n",
       "  'Mother_ID': 51392,\n",
       "  'OtherEndocrn_Prob': nan,\n",
       "  'Race': 'White',\n",
       "  'ZygosityGT': ' ',\n",
       "  'ov_ob': 'no'},\n",
       " 123117: {'Age_in_Yrs': 29,\n",
       "  'BMI': 36.96,\n",
       "  'Ethnicity': 'Not Hispanic/Latino',\n",
       "  'Father_ID': 82331,\n",
       "  'HbA1C': nan,\n",
       "  'Hyperthyroidism': nan,\n",
       "  'Hypothyroidism': nan,\n",
       "  'Mother_ID': 52496,\n",
       "  'OtherEndocrn_Prob': nan,\n",
       "  'Race': 'Black or African Am.',\n",
       "  'ZygosityGT': ' ',\n",
       "  'ov_ob': 'ob'},\n",
       " 123420: {'Age_in_Yrs': 28,\n",
       "  'BMI': 25.96,\n",
       "  'Ethnicity': 'Hispanic/Latino',\n",
       "  'Father_ID': 81780,\n",
       "  'HbA1C': 5.3,\n",
       "  'Hyperthyroidism': 0.0,\n",
       "  'Hypothyroidism': 0.0,\n",
       "  'Mother_ID': 51916,\n",
       "  'OtherEndocrn_Prob': 0.0,\n",
       "  'Race': 'White',\n",
       "  'ZygosityGT': ' ',\n",
       "  'ov_ob': 'ov'},\n",
       " 124220: {'Age_in_Yrs': 33,\n",
       "  'BMI': 33.77,\n",
       "  'Ethnicity': 'Not Hispanic/Latino',\n",
       "  'Father_ID': 81349,\n",
       "  'HbA1C': 5.5,\n",
       "  'Hyperthyroidism': nan,\n",
       "  'Hypothyroidism': nan,\n",
       "  'Mother_ID': 51485,\n",
       "  'OtherEndocrn_Prob': nan,\n",
       "  'Race': 'White',\n",
       "  'ZygosityGT': ' ',\n",
       "  'ov_ob': 'ob'},\n",
       " 125222: {'Age_in_Yrs': 26,\n",
       "  'BMI': 24.27,\n",
       "  'Ethnicity': 'Not Hispanic/Latino',\n",
       "  'Father_ID': 81701,\n",
       "  'HbA1C': 5.6,\n",
       "  'Hyperthyroidism': nan,\n",
       "  'Hypothyroidism': nan,\n",
       "  'Mother_ID': 51837,\n",
       "  'OtherEndocrn_Prob': nan,\n",
       "  'Race': 'White',\n",
       "  'ZygosityGT': ' ',\n",
       "  'ov_ob': 'no'},\n",
       " 126628: {'Age_in_Yrs': 33,\n",
       "  'BMI': 28.89,\n",
       "  'Ethnicity': 'Not Hispanic/Latino',\n",
       "  'Father_ID': 82201,\n",
       "  'HbA1C': 5.0,\n",
       "  'Hyperthyroidism': nan,\n",
       "  'Hypothyroidism': nan,\n",
       "  'Mother_ID': 52338,\n",
       "  'OtherEndocrn_Prob': nan,\n",
       "  'Race': 'White',\n",
       "  'ZygosityGT': ' ',\n",
       "  'ov_ob': 'ov'},\n",
       " 127327: {'Age_in_Yrs': 23,\n",
       "  'BMI': 27.47,\n",
       "  'Ethnicity': 'Not Hispanic/Latino',\n",
       "  'Father_ID': 82091,\n",
       "  'HbA1C': 5.5,\n",
       "  'Hyperthyroidism': nan,\n",
       "  'Hypothyroidism': nan,\n",
       "  'Mother_ID': 52228,\n",
       "  'OtherEndocrn_Prob': nan,\n",
       "  'Race': 'White',\n",
       "  'ZygosityGT': ' ',\n",
       "  'ov_ob': 'ov'},\n",
       " 127630: {'Age_in_Yrs': 25,\n",
       "  'BMI': 28.5,\n",
       "  'Ethnicity': 'Not Hispanic/Latino',\n",
       "  'Father_ID': 82359,\n",
       "  'HbA1C': nan,\n",
       "  'Hyperthyroidism': 0.0,\n",
       "  'Hypothyroidism': 0.0,\n",
       "  'Mother_ID': 52526,\n",
       "  'OtherEndocrn_Prob': 0.0,\n",
       "  'Race': 'Black or African Am.',\n",
       "  'ZygosityGT': ' ',\n",
       "  'ov_ob': 'ov'},\n",
       " 127933: {'Age_in_Yrs': 32,\n",
       "  'BMI': 26.53,\n",
       "  'Ethnicity': 'Not Hispanic/Latino',\n",
       "  'Father_ID': 81695,\n",
       "  'HbA1C': 5.0,\n",
       "  'Hyperthyroidism': nan,\n",
       "  'Hypothyroidism': nan,\n",
       "  'Mother_ID': 51831,\n",
       "  'OtherEndocrn_Prob': nan,\n",
       "  'Race': 'White',\n",
       "  'ZygosityGT': ' ',\n",
       "  'ov_ob': 'ov'},\n",
       " 128026: {'Age_in_Yrs': 30,\n",
       "  'BMI': 35.11,\n",
       "  'Ethnicity': 'Not Hispanic/Latino',\n",
       "  'Father_ID': 85970,\n",
       "  'HbA1C': 5.1,\n",
       "  'Hyperthyroidism': 0.0,\n",
       "  'Hypothyroidism': 0.0,\n",
       "  'Mother_ID': 56150,\n",
       "  'OtherEndocrn_Prob': 0.0,\n",
       "  'Race': 'White',\n",
       "  'ZygosityGT': ' ',\n",
       "  'ov_ob': 'ob'},\n",
       " 128127: {'Age_in_Yrs': 27,\n",
       "  'BMI': 24.21,\n",
       "  'Ethnicity': 'Not Hispanic/Latino',\n",
       "  'Father_ID': 81457,\n",
       "  'HbA1C': 5.0,\n",
       "  'Hyperthyroidism': 0.0,\n",
       "  'Hypothyroidism': 0.0,\n",
       "  'Mother_ID': 51593,\n",
       "  'OtherEndocrn_Prob': 0.0,\n",
       "  'Race': 'White',\n",
       "  'ZygosityGT': ' ',\n",
       "  'ov_ob': 'no'},\n",
       " 128329: {'Age_in_Yrs': 35,\n",
       "  'BMI': 31.77,\n",
       "  'Ethnicity': 'Not Hispanic/Latino',\n",
       "  'Father_ID': 82697,\n",
       "  'HbA1C': 5.8,\n",
       "  'Hyperthyroidism': 0.0,\n",
       "  'Hypothyroidism': 0.0,\n",
       "  'Mother_ID': 52875,\n",
       "  'OtherEndocrn_Prob': 0.0,\n",
       "  'Race': 'White',\n",
       "  'ZygosityGT': ' ',\n",
       "  'ov_ob': 'ob'},\n",
       " 129129: {'Age_in_Yrs': 33,\n",
       "  'BMI': 31.6,\n",
       "  'Ethnicity': 'Not Hispanic/Latino',\n",
       "  'Father_ID': 81542,\n",
       "  'HbA1C': 5.2,\n",
       "  'Hyperthyroidism': 0.0,\n",
       "  'Hypothyroidism': 0.0,\n",
       "  'Mother_ID': 51678,\n",
       "  'OtherEndocrn_Prob': 0.0,\n",
       "  'Race': 'White',\n",
       "  'ZygosityGT': ' ',\n",
       "  'ov_ob': 'ob'},\n",
       " 129634: {'Age_in_Yrs': 22,\n",
       "  'BMI': 22.5,\n",
       "  'Ethnicity': 'Hispanic/Latino',\n",
       "  'Father_ID': 81933,\n",
       "  'HbA1C': 5.5,\n",
       "  'Hyperthyroidism': nan,\n",
       "  'Hypothyroidism': nan,\n",
       "  'Mother_ID': 52069,\n",
       "  'OtherEndocrn_Prob': nan,\n",
       "  'Race': 'White',\n",
       "  'ZygosityGT': ' ',\n",
       "  'ov_ob': 'no'},\n",
       " 130013: {'Age_in_Yrs': 26,\n",
       "  'BMI': 24.26,\n",
       "  'Ethnicity': 'Not Hispanic/Latino',\n",
       "  'Father_ID': 81342,\n",
       "  'HbA1C': nan,\n",
       "  'Hyperthyroidism': nan,\n",
       "  'Hypothyroidism': nan,\n",
       "  'Mother_ID': 51478,\n",
       "  'OtherEndocrn_Prob': nan,\n",
       "  'Race': 'White',\n",
       "  'ZygosityGT': ' ',\n",
       "  'ov_ob': 'no'},\n",
       " 130821: {'Age_in_Yrs': 25,\n",
       "  'BMI': 23.26,\n",
       "  'Ethnicity': 'Not Hispanic/Latino',\n",
       "  'Father_ID': 99974,\n",
       "  'HbA1C': nan,\n",
       "  'Hyperthyroidism': 0.0,\n",
       "  'Hypothyroidism': 0.0,\n",
       "  'Mother_ID': 56016,\n",
       "  'OtherEndocrn_Prob': 0.0,\n",
       "  'Race': 'Black or African Am.',\n",
       "  'ZygosityGT': ' ',\n",
       "  'ov_ob': 'no'},\n",
       " 131419: {'Age_in_Yrs': 28,\n",
       "  'BMI': 20.03,\n",
       "  'Ethnicity': 'Not Hispanic/Latino',\n",
       "  'Father_ID': 85508,\n",
       "  'HbA1C': 5.2,\n",
       "  'Hyperthyroidism': 0.0,\n",
       "  'Hypothyroidism': 0.0,\n",
       "  'Mother_ID': 55686,\n",
       "  'OtherEndocrn_Prob': 0.0,\n",
       "  'Race': 'White',\n",
       "  'ZygosityGT': ' ',\n",
       "  'ov_ob': 'no'},\n",
       " 132017: {'Age_in_Yrs': 23,\n",
       "  'BMI': 24.54,\n",
       "  'Ethnicity': 'Not Hispanic/Latino',\n",
       "  'Father_ID': 82822,\n",
       "  'HbA1C': nan,\n",
       "  'Hyperthyroidism': 0.0,\n",
       "  'Hypothyroidism': 0.0,\n",
       "  'Mother_ID': 53000,\n",
       "  'OtherEndocrn_Prob': 0.0,\n",
       "  'Race': 'Asian/Nat. Hawaiian/Othr Pacific Is.',\n",
       "  'ZygosityGT': ' ',\n",
       "  'ov_ob': 'no'},\n",
       " 132320: {'Age_in_Yrs': 29,\n",
       "  'BMI': 39.22,\n",
       "  'Ethnicity': 'Not Hispanic/Latino',\n",
       "  'Father_ID': 82389,\n",
       "  'HbA1C': nan,\n",
       "  'Hyperthyroidism': 0.0,\n",
       "  'Hypothyroidism': 0.0,\n",
       "  'Mother_ID': 52564,\n",
       "  'OtherEndocrn_Prob': 0.0,\n",
       "  'Race': 'Black or African Am.',\n",
       "  'ZygosityGT': ' ',\n",
       "  'ov_ob': 'ob'},\n",
       " 133221: {'Age_in_Yrs': 28,\n",
       "  'BMI': 26.73,\n",
       "  'Ethnicity': 'Not Hispanic/Latino',\n",
       "  'Father_ID': 82206,\n",
       "  'HbA1C': 5.3,\n",
       "  'Hyperthyroidism': nan,\n",
       "  'Hypothyroidism': nan,\n",
       "  'Mother_ID': 52343,\n",
       "  'OtherEndocrn_Prob': nan,\n",
       "  'Race': 'White',\n",
       "  'ZygosityGT': ' ',\n",
       "  'ov_ob': 'ov'},\n",
       " 133827: {'Age_in_Yrs': 25,\n",
       "  'BMI': 35.7,\n",
       "  'Ethnicity': 'Not Hispanic/Latino',\n",
       "  'Father_ID': 81259,\n",
       "  'HbA1C': 5.4,\n",
       "  'Hyperthyroidism': nan,\n",
       "  'Hypothyroidism': nan,\n",
       "  'Mother_ID': 51394,\n",
       "  'OtherEndocrn_Prob': nan,\n",
       "  'Race': 'Black or African Am.',\n",
       "  'ZygosityGT': ' ',\n",
       "  'ov_ob': 'ob'},\n",
       " 133928: {'Age_in_Yrs': 27,\n",
       "  'BMI': 29.4,\n",
       "  'Ethnicity': 'Not Hispanic/Latino',\n",
       "  'Father_ID': 82528,\n",
       "  'HbA1C': 5.5,\n",
       "  'Hyperthyroidism': nan,\n",
       "  'Hypothyroidism': nan,\n",
       "  'Mother_ID': 51716,\n",
       "  'OtherEndocrn_Prob': nan,\n",
       "  'Race': 'Black or African Am.',\n",
       "  'ZygosityGT': ' ',\n",
       "  'ov_ob': 'ov'},\n",
       " 134223: {'Age_in_Yrs': 29,\n",
       "  'BMI': 26.14,\n",
       "  'Ethnicity': 'Not Hispanic/Latino',\n",
       "  'Father_ID': 81419,\n",
       "  'HbA1C': nan,\n",
       "  'Hyperthyroidism': 0.0,\n",
       "  'Hypothyroidism': 0.0,\n",
       "  'Mother_ID': 51555,\n",
       "  'OtherEndocrn_Prob': 0.0,\n",
       "  'Race': 'White',\n",
       "  'ZygosityGT': ' ',\n",
       "  'ov_ob': 'ov'},\n",
       " 134324: {'Age_in_Yrs': 30,\n",
       "  'BMI': 26.92,\n",
       "  'Ethnicity': 'Not Hispanic/Latino',\n",
       "  'Father_ID': 81201,\n",
       "  'HbA1C': 5.3,\n",
       "  'Hyperthyroidism': nan,\n",
       "  'Hypothyroidism': nan,\n",
       "  'Mother_ID': 51336,\n",
       "  'OtherEndocrn_Prob': nan,\n",
       "  'Race': 'White',\n",
       "  'ZygosityGT': ' ',\n",
       "  'ov_ob': 'ov'},\n",
       " 135225: {'Age_in_Yrs': 22,\n",
       "  'BMI': 24.27,\n",
       "  'Ethnicity': 'Hispanic/Latino',\n",
       "  'Father_ID': 81870,\n",
       "  'HbA1C': 5.5,\n",
       "  'Hyperthyroidism': 0.0,\n",
       "  'Hypothyroidism': 0.0,\n",
       "  'Mother_ID': 52006,\n",
       "  'OtherEndocrn_Prob': 0.0,\n",
       "  'Race': 'White',\n",
       "  'ZygosityGT': ' ',\n",
       "  'ov_ob': 'no'},\n",
       " 135427: {'Age_in_Yrs': 25,\n",
       "  'BMI': 36.37,\n",
       "  'Ethnicity': 'Hispanic/Latino',\n",
       "  'Father_ID': 81820,\n",
       "  'HbA1C': 5.1,\n",
       "  'Hyperthyroidism': nan,\n",
       "  'Hypothyroidism': nan,\n",
       "  'Mother_ID': 51956,\n",
       "  'OtherEndocrn_Prob': nan,\n",
       "  'Race': 'White',\n",
       "  'ZygosityGT': ' ',\n",
       "  'ov_ob': 'ob'},\n",
       " 135629: {'Age_in_Yrs': 24,\n",
       "  'BMI': 21.76,\n",
       "  'Ethnicity': 'Not Hispanic/Latino',\n",
       "  'Father_ID': 85609,\n",
       "  'HbA1C': 5.1,\n",
       "  'Hyperthyroidism': nan,\n",
       "  'Hypothyroidism': nan,\n",
       "  'Mother_ID': 55788,\n",
       "  'OtherEndocrn_Prob': nan,\n",
       "  'Race': 'White',\n",
       "  'ZygosityGT': ' ',\n",
       "  'ov_ob': 'no'},\n",
       " 136126: {'Age_in_Yrs': 27,\n",
       "  'BMI': 26.58,\n",
       "  'Ethnicity': 'Not Hispanic/Latino',\n",
       "  'Father_ID': 82754,\n",
       "  'HbA1C': 5.2,\n",
       "  'Hyperthyroidism': nan,\n",
       "  'Hypothyroidism': nan,\n",
       "  'Mother_ID': 52932,\n",
       "  'OtherEndocrn_Prob': nan,\n",
       "  'Race': 'White',\n",
       "  'ZygosityGT': ' ',\n",
       "  'ov_ob': 'ov'},\n",
       " 136227: {'Age_in_Yrs': 31,\n",
       "  'BMI': 28.35,\n",
       "  'Ethnicity': 'Not Hispanic/Latino',\n",
       "  'Father_ID': 82576,\n",
       "  'HbA1C': 4.9,\n",
       "  'Hyperthyroidism': nan,\n",
       "  'Hypothyroidism': nan,\n",
       "  'Mother_ID': 52755,\n",
       "  'OtherEndocrn_Prob': nan,\n",
       "  'Race': 'White',\n",
       "  'ZygosityGT': ' ',\n",
       "  'ov_ob': 'ov'},\n",
       " 136631: {'Age_in_Yrs': 25,\n",
       "  'BMI': 31.89,\n",
       "  'Ethnicity': 'Not Hispanic/Latino',\n",
       "  'Father_ID': 82548,\n",
       "  'HbA1C': 5.4,\n",
       "  'Hyperthyroidism': nan,\n",
       "  'Hypothyroidism': nan,\n",
       "  'Mother_ID': 52727,\n",
       "  'OtherEndocrn_Prob': nan,\n",
       "  'Race': 'White',\n",
       "  'ZygosityGT': ' ',\n",
       "  'ov_ob': 'ob'},\n",
       " 136732: {'Age_in_Yrs': 31,\n",
       "  'BMI': 33.41,\n",
       "  'Ethnicity': 'Not Hispanic/Latino',\n",
       "  'Father_ID': 81540,\n",
       "  'HbA1C': nan,\n",
       "  'Hyperthyroidism': 0.0,\n",
       "  'Hypothyroidism': 0.0,\n",
       "  'Mother_ID': 51676,\n",
       "  'OtherEndocrn_Prob': 0.0,\n",
       "  'Race': 'White',\n",
       "  'ZygosityGT': ' ',\n",
       "  'ov_ob': 'ob'},\n",
       " 136833: {'Age_in_Yrs': 33,\n",
       "  'BMI': 34.78,\n",
       "  'Ethnicity': 'Not Hispanic/Latino',\n",
       "  'Father_ID': 81390,\n",
       "  'HbA1C': nan,\n",
       "  'Hyperthyroidism': 0.0,\n",
       "  'Hypothyroidism': 0.0,\n",
       "  'Mother_ID': 51526,\n",
       "  'OtherEndocrn_Prob': 0.0,\n",
       "  'Race': 'White',\n",
       "  'ZygosityGT': ' ',\n",
       "  'ov_ob': 'ob'},\n",
       " 137027: {'Age_in_Yrs': 32,\n",
       "  'BMI': 23.24,\n",
       "  'Ethnicity': 'Not Hispanic/Latino',\n",
       "  'Father_ID': 81650,\n",
       "  'HbA1C': 5.3,\n",
       "  'Hyperthyroidism': nan,\n",
       "  'Hypothyroidism': nan,\n",
       "  'Mother_ID': 51786,\n",
       "  'OtherEndocrn_Prob': nan,\n",
       "  'Race': 'Black or African Am.',\n",
       "  'ZygosityGT': ' ',\n",
       "  'ov_ob': 'no'},\n",
       " 137229: {'Age_in_Yrs': 22,\n",
       "  'BMI': 32.28,\n",
       "  'Ethnicity': 'Not Hispanic/Latino',\n",
       "  'Father_ID': 85521,\n",
       "  'HbA1C': nan,\n",
       "  'Hyperthyroidism': nan,\n",
       "  'Hypothyroidism': nan,\n",
       "  'Mother_ID': 55699,\n",
       "  'OtherEndocrn_Prob': nan,\n",
       "  'Race': 'White',\n",
       "  'ZygosityGT': ' ',\n",
       "  'ov_ob': 'ob'},\n",
       " 137936: {'Age_in_Yrs': 32,\n",
       "  'BMI': 26.76,\n",
       "  'Ethnicity': 'Not Hispanic/Latino',\n",
       "  'Father_ID': 99986,\n",
       "  'HbA1C': nan,\n",
       "  'Hyperthyroidism': nan,\n",
       "  'Hypothyroidism': nan,\n",
       "  'Mother_ID': 52769,\n",
       "  'OtherEndocrn_Prob': nan,\n",
       "  'Race': 'Black or African Am.',\n",
       "  'ZygosityGT': ' ',\n",
       "  'ov_ob': 'ov'},\n",
       " 138130: {'Age_in_Yrs': 33,\n",
       "  'BMI': 30.69,\n",
       "  'Ethnicity': 'Not Hispanic/Latino',\n",
       "  'Father_ID': 82071,\n",
       "  'HbA1C': 5.1,\n",
       "  'Hyperthyroidism': 0.0,\n",
       "  'Hypothyroidism': 0.0,\n",
       "  'Mother_ID': 52208,\n",
       "  'OtherEndocrn_Prob': 0.0,\n",
       "  'Race': 'White',\n",
       "  'ZygosityGT': ' ',\n",
       "  'ov_ob': 'ob'},\n",
       " 138231: {'Age_in_Yrs': 33,\n",
       "  'BMI': 20.09,\n",
       "  'Ethnicity': 'Not Hispanic/Latino',\n",
       "  'Father_ID': 81169,\n",
       "  'HbA1C': nan,\n",
       "  'Hyperthyroidism': 0.0,\n",
       "  'Hypothyroidism': 0.0,\n",
       "  'Mother_ID': 51304,\n",
       "  'OtherEndocrn_Prob': 0.0,\n",
       "  'Race': 'White',\n",
       "  'ZygosityGT': ' ',\n",
       "  'ov_ob': 'no'},\n",
       " 138332: {'Age_in_Yrs': 29,\n",
       "  'BMI': 22.8,\n",
       "  'Ethnicity': 'Not Hispanic/Latino',\n",
       "  'Father_ID': 82790,\n",
       "  'HbA1C': 5.5,\n",
       "  'Hyperthyroidism': nan,\n",
       "  'Hypothyroidism': nan,\n",
       "  'Mother_ID': 52968,\n",
       "  'OtherEndocrn_Prob': nan,\n",
       "  'Race': 'Asian/Nat. Hawaiian/Othr Pacific Is.',\n",
       "  'ZygosityGT': ' ',\n",
       "  'ov_ob': 'no'},\n",
       " 138534: {'Age_in_Yrs': 25,\n",
       "  'BMI': 23.32,\n",
       "  'Ethnicity': 'Not Hispanic/Latino',\n",
       "  'Father_ID': 82243,\n",
       "  'HbA1C': nan,\n",
       "  'Hyperthyroidism': nan,\n",
       "  'Hypothyroidism': nan,\n",
       "  'Mother_ID': 52380,\n",
       "  'OtherEndocrn_Prob': nan,\n",
       "  'Race': 'Black or African Am.',\n",
       "  'ZygosityGT': ' ',\n",
       "  'ov_ob': 'no'},\n",
       " 138837: {'Age_in_Yrs': 23,\n",
       "  'BMI': 23.24,\n",
       "  'Ethnicity': 'Not Hispanic/Latino',\n",
       "  'Father_ID': 83214,\n",
       "  'HbA1C': 3.12,\n",
       "  'Hyperthyroidism': nan,\n",
       "  'Hypothyroidism': nan,\n",
       "  'Mother_ID': 53392,\n",
       "  'OtherEndocrn_Prob': nan,\n",
       "  'Race': 'Asian/Nat. Hawaiian/Othr Pacific Is.',\n",
       "  'ZygosityGT': ' ',\n",
       "  'ov_ob': 'no'},\n",
       " 139233: {'Age_in_Yrs': 34,\n",
       "  'BMI': 27.45,\n",
       "  'Ethnicity': 'Not Hispanic/Latino',\n",
       "  'Father_ID': 81177,\n",
       "  'HbA1C': 5.5,\n",
       "  'Hyperthyroidism': 0.0,\n",
       "  'Hypothyroidism': 0.0,\n",
       "  'Mother_ID': 51312,\n",
       "  'OtherEndocrn_Prob': 0.0,\n",
       "  'Race': 'White',\n",
       "  'ZygosityGT': ' ',\n",
       "  'ov_ob': 'ov'},\n",
       " 140319: {'Age_in_Yrs': 36,\n",
       "  'BMI': 20.97,\n",
       "  'Ethnicity': 'Not Hispanic/Latino',\n",
       "  'Father_ID': 81226,\n",
       "  'HbA1C': 5.1,\n",
       "  'Hyperthyroidism': 0.0,\n",
       "  'Hypothyroidism': 0.0,\n",
       "  'Mother_ID': 51361,\n",
       "  'OtherEndocrn_Prob': 0.0,\n",
       "  'Race': 'White',\n",
       "  'ZygosityGT': ' ',\n",
       "  'ov_ob': 'no'},\n",
       " 140723: {'Age_in_Yrs': 31,\n",
       "  'BMI': 35.87,\n",
       "  'Ethnicity': 'Not Hispanic/Latino',\n",
       "  'Father_ID': 82105,\n",
       "  'HbA1C': nan,\n",
       "  'Hyperthyroidism': nan,\n",
       "  'Hypothyroidism': nan,\n",
       "  'Mother_ID': 52242,\n",
       "  'OtherEndocrn_Prob': nan,\n",
       "  'Race': 'White',\n",
       "  'ZygosityGT': ' ',\n",
       "  'ov_ob': 'ob'},\n",
       " 140925: {'Age_in_Yrs': 25,\n",
       "  'BMI': 40.62,\n",
       "  'Ethnicity': 'Not Hispanic/Latino',\n",
       "  'Father_ID': 82406,\n",
       "  'HbA1C': 5.9,\n",
       "  'Hyperthyroidism': 0.0,\n",
       "  'Hypothyroidism': 0.0,\n",
       "  'Mother_ID': 52587,\n",
       "  'OtherEndocrn_Prob': 0.0,\n",
       "  'Race': 'Black or African Am.',\n",
       "  'ZygosityGT': ' ',\n",
       "  'ov_ob': 'ob'},\n",
       " 141624: {'Age_in_Yrs': 25,\n",
       "  'BMI': 19.22,\n",
       "  'Ethnicity': 'Not Hispanic/Latino',\n",
       "  'Father_ID': 82399,\n",
       "  'HbA1C': nan,\n",
       "  'Hyperthyroidism': 0.0,\n",
       "  'Hypothyroidism': 0.0,\n",
       "  'Mother_ID': 52575,\n",
       "  'OtherEndocrn_Prob': 0.0,\n",
       "  'Race': 'Black or African Am.',\n",
       "  'ZygosityGT': ' ',\n",
       "  'ov_ob': 'no'},\n",
       " 142424: {'Age_in_Yrs': 30,\n",
       "  'BMI': 27.02,\n",
       "  'Ethnicity': 'Not Hispanic/Latino',\n",
       "  'Father_ID': 82262,\n",
       "  'HbA1C': 5.4,\n",
       "  'Hyperthyroidism': nan,\n",
       "  'Hypothyroidism': nan,\n",
       "  'Mother_ID': 52405,\n",
       "  'OtherEndocrn_Prob': nan,\n",
       "  'Race': 'Black or African Am.',\n",
       "  'ZygosityGT': ' ',\n",
       "  'ov_ob': 'ov'},\n",
       " 142828: {'Age_in_Yrs': 31,\n",
       "  'BMI': 22.65,\n",
       "  'Ethnicity': 'Not Hispanic/Latino',\n",
       "  'Father_ID': 81344,\n",
       "  'HbA1C': nan,\n",
       "  'Hyperthyroidism': nan,\n",
       "  'Hypothyroidism': nan,\n",
       "  'Mother_ID': 51480,\n",
       "  'OtherEndocrn_Prob': nan,\n",
       "  'Race': 'White',\n",
       "  'ZygosityGT': ' ',\n",
       "  'ov_ob': 'no'},\n",
       " 143527: {'Age_in_Yrs': 27,\n",
       "  'BMI': 23.71,\n",
       "  'Ethnicity': 'Not Hispanic/Latino',\n",
       "  'Father_ID': 82348,\n",
       "  'HbA1C': 5.4,\n",
       "  'Hyperthyroidism': nan,\n",
       "  'Hypothyroidism': nan,\n",
       "  'Mother_ID': 52514,\n",
       "  'OtherEndocrn_Prob': nan,\n",
       "  'Race': 'Black or African Am.',\n",
       "  'ZygosityGT': ' ',\n",
       "  'ov_ob': 'no'},\n",
       " 144125: {'Age_in_Yrs': 33,\n",
       "  'BMI': 22.46,\n",
       "  'Ethnicity': 'Not Hispanic/Latino',\n",
       "  'Father_ID': 81559,\n",
       "  'HbA1C': nan,\n",
       "  'Hyperthyroidism': 0.0,\n",
       "  'Hypothyroidism': 0.0,\n",
       "  'Mother_ID': 51695,\n",
       "  'OtherEndocrn_Prob': 0.0,\n",
       "  'Race': 'White',\n",
       "  'ZygosityGT': ' ',\n",
       "  'ov_ob': 'no'},\n",
       " 144428: {'Age_in_Yrs': 25,\n",
       "  'BMI': 23.03,\n",
       "  'Ethnicity': 'Not Hispanic/Latino',\n",
       "  'Father_ID': 81581,\n",
       "  'HbA1C': nan,\n",
       "  'Hyperthyroidism': nan,\n",
       "  'Hypothyroidism': nan,\n",
       "  'Mother_ID': 51717,\n",
       "  'OtherEndocrn_Prob': nan,\n",
       "  'Race': 'White',\n",
       "  'ZygosityGT': ' ',\n",
       "  'ov_ob': 'no'},\n",
       " 144832: {'Age_in_Yrs': 22,\n",
       "  'BMI': 28.4,\n",
       "  'Ethnicity': 'Not Hispanic/Latino',\n",
       "  'Father_ID': 81291,\n",
       "  'HbA1C': 5.0,\n",
       "  'Hyperthyroidism': 0.0,\n",
       "  'Hypothyroidism': 0.0,\n",
       "  'Mother_ID': 51426,\n",
       "  'OtherEndocrn_Prob': 0.0,\n",
       "  'Race': 'White',\n",
       "  'ZygosityGT': ' ',\n",
       "  'ov_ob': 'ov'},\n",
       " 145127: {'Age_in_Yrs': 23,\n",
       "  'BMI': 22.38,\n",
       "  'Ethnicity': 'Not Hispanic/Latino',\n",
       "  'Father_ID': 84445,\n",
       "  'HbA1C': 5.6,\n",
       "  'Hyperthyroidism': nan,\n",
       "  'Hypothyroidism': nan,\n",
       "  'Mother_ID': 54623,\n",
       "  'OtherEndocrn_Prob': nan,\n",
       "  'Race': 'Asian/Nat. Hawaiian/Othr Pacific Is.',\n",
       "  'ZygosityGT': ' ',\n",
       "  'ov_ob': 'no'},\n",
       " 145531: {'Age_in_Yrs': 31,\n",
       "  'BMI': 39.68,\n",
       "  'Ethnicity': 'Not Hispanic/Latino',\n",
       "  'Father_ID': 82616,\n",
       "  'HbA1C': nan,\n",
       "  'Hyperthyroidism': nan,\n",
       "  'Hypothyroidism': nan,\n",
       "  'Mother_ID': 52795,\n",
       "  'OtherEndocrn_Prob': nan,\n",
       "  'Race': 'Black or African Am.',\n",
       "  'ZygosityGT': ' ',\n",
       "  'ov_ob': 'ob'},\n",
       " 146331: {'Age_in_Yrs': 26,\n",
       "  'BMI': 21.79,\n",
       "  'Ethnicity': 'Not Hispanic/Latino',\n",
       "  'Father_ID': 99993,\n",
       "  'HbA1C': nan,\n",
       "  'Hyperthyroidism': 0.0,\n",
       "  'Hypothyroidism': 0.0,\n",
       "  'Mother_ID': 52586,\n",
       "  'OtherEndocrn_Prob': 0.0,\n",
       "  'Race': 'Black or African Am.',\n",
       "  'ZygosityGT': ' ',\n",
       "  'ov_ob': 'no'},\n",
       " 146533: {'Age_in_Yrs': 28,\n",
       "  'BMI': 23.77,\n",
       "  'Ethnicity': 'Unknown or Not Reported',\n",
       "  'Father_ID': 82660,\n",
       "  'HbA1C': 4.9,\n",
       "  'Hyperthyroidism': nan,\n",
       "  'Hypothyroidism': nan,\n",
       "  'Mother_ID': 52839,\n",
       "  'OtherEndocrn_Prob': nan,\n",
       "  'Race': 'White',\n",
       "  'ZygosityGT': ' ',\n",
       "  'ov_ob': 'no'},\n",
       " 146836: {'Age_in_Yrs': 28,\n",
       "  'BMI': 28.24,\n",
       "  'Ethnicity': 'Not Hispanic/Latino',\n",
       "  'Father_ID': 85724,\n",
       "  'HbA1C': 4.8,\n",
       "  'Hyperthyroidism': nan,\n",
       "  'Hypothyroidism': nan,\n",
       "  'Mother_ID': 55904,\n",
       "  'OtherEndocrn_Prob': nan,\n",
       "  'Race': 'White',\n",
       "  'ZygosityGT': ' ',\n",
       "  'ov_ob': 'ov'},\n",
       " 147030: {'Age_in_Yrs': 29,\n",
       "  'BMI': 35.29,\n",
       "  'Ethnicity': 'Not Hispanic/Latino',\n",
       "  'Father_ID': 81696,\n",
       "  'HbA1C': 5.8,\n",
       "  'Hyperthyroidism': nan,\n",
       "  'Hypothyroidism': nan,\n",
       "  'Mother_ID': 51832,\n",
       "  'OtherEndocrn_Prob': nan,\n",
       "  'Race': 'White',\n",
       "  'ZygosityGT': ' ',\n",
       "  'ov_ob': 'ob'},\n",
       " 147636: {'Age_in_Yrs': 24,\n",
       "  'BMI': 27.8,\n",
       "  'Ethnicity': 'Not Hispanic/Latino',\n",
       "  'Father_ID': 81617,\n",
       "  'HbA1C': nan,\n",
       "  'Hyperthyroidism': 0.0,\n",
       "  'Hypothyroidism': 0.0,\n",
       "  'Mother_ID': 51753,\n",
       "  'OtherEndocrn_Prob': 0.0,\n",
       "  'Race': 'White',\n",
       "  'ZygosityGT': ' ',\n",
       "  'ov_ob': 'ov'},\n",
       " 147737: {'Age_in_Yrs': 34,\n",
       "  'BMI': 33.83,\n",
       "  'Ethnicity': 'Not Hispanic/Latino',\n",
       "  'Father_ID': 82002,\n",
       "  'HbA1C': 5.0,\n",
       "  'Hyperthyroidism': 0.0,\n",
       "  'Hypothyroidism': 0.0,\n",
       "  'Mother_ID': 52138,\n",
       "  'OtherEndocrn_Prob': 0.0,\n",
       "  'Race': 'White',\n",
       "  'ZygosityGT': ' ',\n",
       "  'ov_ob': 'ob'},\n",
       " 148032: {'Age_in_Yrs': 31,\n",
       "  'BMI': 20.66,\n",
       "  'Ethnicity': 'Not Hispanic/Latino',\n",
       "  'Father_ID': 81594,\n",
       "  'HbA1C': 5.2,\n",
       "  'Hyperthyroidism': 0.0,\n",
       "  'Hypothyroidism': 0.0,\n",
       "  'Mother_ID': 51730,\n",
       "  'OtherEndocrn_Prob': 0.0,\n",
       "  'Race': 'White',\n",
       "  'ZygosityGT': ' ',\n",
       "  'ov_ob': 'no'},\n",
       " 148840: {'Age_in_Yrs': 23,\n",
       "  'BMI': 24.27,\n",
       "  'Ethnicity': 'Not Hispanic/Latino',\n",
       "  'Father_ID': 81562,\n",
       "  'HbA1C': nan,\n",
       "  'Hyperthyroidism': 0.0,\n",
       "  'Hypothyroidism': 0.0,\n",
       "  'Mother_ID': 51698,\n",
       "  'OtherEndocrn_Prob': 0.0,\n",
       "  'Race': 'White',\n",
       "  'ZygosityGT': ' ',\n",
       "  'ov_ob': 'no'},\n",
       " 149236: {'Age_in_Yrs': 23,\n",
       "  'BMI': 25.79,\n",
       "  'Ethnicity': 'Not Hispanic/Latino',\n",
       "  'Father_ID': 84467,\n",
       "  'HbA1C': 5.2,\n",
       "  'Hyperthyroidism': 0.0,\n",
       "  'Hypothyroidism': 0.0,\n",
       "  'Mother_ID': 54645,\n",
       "  'OtherEndocrn_Prob': 0.0,\n",
       "  'Race': 'Asian/Nat. Hawaiian/Othr Pacific Is.',\n",
       "  'ZygosityGT': ' ',\n",
       "  'ov_ob': 'ov'},\n",
       " 149842: {'Age_in_Yrs': 32,\n",
       "  'BMI': 21.59,\n",
       "  'Ethnicity': 'Not Hispanic/Latino',\n",
       "  'Father_ID': 85710,\n",
       "  'HbA1C': 5.2,\n",
       "  'Hyperthyroidism': 0.0,\n",
       "  'Hypothyroidism': 0.0,\n",
       "  'Mother_ID': 55890,\n",
       "  'OtherEndocrn_Prob': 0.0,\n",
       "  'Race': 'White',\n",
       "  'ZygosityGT': ' ',\n",
       "  'ov_ob': 'no'},\n",
       " 150019: {'Age_in_Yrs': 27,\n",
       "  'BMI': 23.85,\n",
       "  'Ethnicity': 'Not Hispanic/Latino',\n",
       "  'Father_ID': 85844,\n",
       "  'HbA1C': 5.0,\n",
       "  'Hyperthyroidism': nan,\n",
       "  'Hypothyroidism': nan,\n",
       "  'Mother_ID': 56023,\n",
       "  'OtherEndocrn_Prob': nan,\n",
       "  'Race': 'White',\n",
       "  'ZygosityGT': ' ',\n",
       "  'ov_ob': 'no'},\n",
       " 150524: {'Age_in_Yrs': 26,\n",
       "  'BMI': 23.08,\n",
       "  'Ethnicity': 'Not Hispanic/Latino',\n",
       "  'Father_ID': 81149,\n",
       "  'HbA1C': nan,\n",
       "  'Hyperthyroidism': 0.0,\n",
       "  'Hypothyroidism': 0.0,\n",
       "  'Mother_ID': 52850,\n",
       "  'OtherEndocrn_Prob': 0.0,\n",
       "  'Race': 'Black or African Am.',\n",
       "  'ZygosityGT': ' ',\n",
       "  'ov_ob': 'no'},\n",
       " 150726: {'Age_in_Yrs': 25,\n",
       "  'BMI': 25.22,\n",
       "  'Ethnicity': 'Not Hispanic/Latino',\n",
       "  'Father_ID': 81730,\n",
       "  'HbA1C': 4.9,\n",
       "  'Hyperthyroidism': nan,\n",
       "  'Hypothyroidism': nan,\n",
       "  'Mother_ID': 51866,\n",
       "  'OtherEndocrn_Prob': nan,\n",
       "  'Race': 'White',\n",
       "  'ZygosityGT': ' ',\n",
       "  'ov_ob': 'ov'},\n",
       " 151223: {'Age_in_Yrs': 26,\n",
       "  'BMI': 31.74,\n",
       "  'Ethnicity': 'Not Hispanic/Latino',\n",
       "  'Father_ID': 81194,\n",
       "  'HbA1C': nan,\n",
       "  'Hyperthyroidism': 0.0,\n",
       "  'Hypothyroidism': 0.0,\n",
       "  'Mother_ID': 51329,\n",
       "  'OtherEndocrn_Prob': 0.0,\n",
       "  'Race': 'White',\n",
       "  'ZygosityGT': ' ',\n",
       "  'ov_ob': 'ob'},\n",
       " 151324: {'Age_in_Yrs': 23,\n",
       "  'BMI': 33.45,\n",
       "  'Ethnicity': 'Hispanic/Latino',\n",
       "  'Father_ID': 81979,\n",
       "  'HbA1C': 5.4,\n",
       "  'Hyperthyroidism': nan,\n",
       "  'Hypothyroidism': nan,\n",
       "  'Mother_ID': 52115,\n",
       "  'OtherEndocrn_Prob': nan,\n",
       "  'Race': 'White',\n",
       "  'ZygosityGT': ' ',\n",
       "  'ov_ob': 'ob'},\n",
       " 151627: {'Age_in_Yrs': 30,\n",
       "  'BMI': 27.06,\n",
       "  'Ethnicity': 'Not Hispanic/Latino',\n",
       "  'Father_ID': 81155,\n",
       "  'HbA1C': 5.3,\n",
       "  'Hyperthyroidism': 0.0,\n",
       "  'Hypothyroidism': 0.0,\n",
       "  'Mother_ID': 51289,\n",
       "  'OtherEndocrn_Prob': 0.0,\n",
       "  'Race': 'White',\n",
       "  'ZygosityGT': ' ',\n",
       "  'ov_ob': 'ov'},\n",
       " 152225: {'Age_in_Yrs': 35,\n",
       "  'BMI': 26.87,\n",
       "  'Ethnicity': 'Not Hispanic/Latino',\n",
       "  'Father_ID': 85516,\n",
       "  'HbA1C': 5.5,\n",
       "  'Hyperthyroidism': nan,\n",
       "  'Hypothyroidism': nan,\n",
       "  'Mother_ID': 55694,\n",
       "  'OtherEndocrn_Prob': nan,\n",
       "  'Race': 'White',\n",
       "  'ZygosityGT': ' ',\n",
       "  'ov_ob': 'ov'},\n",
       " 152427: {'Age_in_Yrs': 31,\n",
       "  'BMI': 21.14,\n",
       "  'Ethnicity': 'Not Hispanic/Latino',\n",
       "  'Father_ID': 85990,\n",
       "  'HbA1C': 5.0,\n",
       "  'Hyperthyroidism': 0.0,\n",
       "  'Hypothyroidism': 0.0,\n",
       "  'Mother_ID': 56171,\n",
       "  'OtherEndocrn_Prob': 0.0,\n",
       "  'Race': 'White',\n",
       "  'ZygosityGT': ' ',\n",
       "  'ov_ob': 'no'},\n",
       " 153126: {'Age_in_Yrs': 29,\n",
       "  'BMI': 31.09,\n",
       "  'Ethnicity': 'Not Hispanic/Latino',\n",
       "  'Father_ID': 81473,\n",
       "  'HbA1C': 4.5,\n",
       "  'Hyperthyroidism': 0.0,\n",
       "  'Hypothyroidism': 0.0,\n",
       "  'Mother_ID': 51609,\n",
       "  'OtherEndocrn_Prob': 0.0,\n",
       "  'Race': 'White',\n",
       "  'ZygosityGT': ' ',\n",
       "  'ov_ob': 'ob'},\n",
       " 153227: {'Age_in_Yrs': 31,\n",
       "  'BMI': 25.69,\n",
       "  'Ethnicity': 'Not Hispanic/Latino',\n",
       "  'Father_ID': 85963,\n",
       "  'HbA1C': nan,\n",
       "  'Hyperthyroidism': 0.0,\n",
       "  'Hypothyroidism': 0.0,\n",
       "  'Mother_ID': 56143,\n",
       "  'OtherEndocrn_Prob': 0.0,\n",
       "  'Race': 'White',\n",
       "  'ZygosityGT': ' ',\n",
       "  'ov_ob': 'ov'},\n",
       " 153429: {'Age_in_Yrs': 34,\n",
       "  'BMI': 24.63,\n",
       "  'Ethnicity': 'Not Hispanic/Latino',\n",
       "  'Father_ID': 81212,\n",
       "  'HbA1C': nan,\n",
       "  'Hyperthyroidism': nan,\n",
       "  'Hypothyroidism': nan,\n",
       "  'Mother_ID': 51347,\n",
       "  'OtherEndocrn_Prob': nan,\n",
       "  'Race': 'White',\n",
       "  'ZygosityGT': ' ',\n",
       "  'ov_ob': 'no'},\n",
       " 153833: {'Age_in_Yrs': 23,\n",
       "  'BMI': 42.93,\n",
       "  'Ethnicity': 'Hispanic/Latino',\n",
       "  'Father_ID': 81887,\n",
       "  'HbA1C': nan,\n",
       "  'Hyperthyroidism': 0.0,\n",
       "  'Hypothyroidism': 0.0,\n",
       "  'Mother_ID': 52023,\n",
       "  'OtherEndocrn_Prob': 0.0,\n",
       "  'Race': 'White',\n",
       "  'ZygosityGT': ' ',\n",
       "  'ov_ob': 'ob'},\n",
       " 154229: {'Age_in_Yrs': 23,\n",
       "  'BMI': 25.82,\n",
       "  'Ethnicity': 'Not Hispanic/Latino',\n",
       "  'Father_ID': 83097,\n",
       "  'HbA1C': nan,\n",
       "  'Hyperthyroidism': 0.0,\n",
       "  'Hypothyroidism': 0.0,\n",
       "  'Mother_ID': 53275,\n",
       "  'OtherEndocrn_Prob': 0.0,\n",
       "  'Race': 'Asian/Nat. Hawaiian/Othr Pacific Is.',\n",
       "  'ZygosityGT': ' ',\n",
       "  'ov_ob': 'ov'},\n",
       " 154330: {'Age_in_Yrs': 29,\n",
       "  'BMI': 32.71,\n",
       "  'Ethnicity': 'Not Hispanic/Latino',\n",
       "  'Father_ID': 82232,\n",
       "  'HbA1C': 5.0,\n",
       "  'Hyperthyroidism': nan,\n",
       "  'Hypothyroidism': nan,\n",
       "  'Mother_ID': 52369,\n",
       "  'OtherEndocrn_Prob': nan,\n",
       "  'Race': 'White',\n",
       "  'ZygosityGT': ' ',\n",
       "  'ov_ob': 'ob'},\n",
       " 154734: {'Age_in_Yrs': 34,\n",
       "  'BMI': 22.96,\n",
       "  'Ethnicity': 'Not Hispanic/Latino',\n",
       "  'Father_ID': 81775,\n",
       "  'HbA1C': 5.2,\n",
       "  'Hyperthyroidism': nan,\n",
       "  'Hypothyroidism': nan,\n",
       "  'Mother_ID': 51911,\n",
       "  'OtherEndocrn_Prob': nan,\n",
       "  'Race': 'White',\n",
       "  'ZygosityGT': ' ',\n",
       "  'ov_ob': 'no'},\n",
       " 154936: {'Age_in_Yrs': 27,\n",
       "  'BMI': 29.7,\n",
       "  'Ethnicity': 'Not Hispanic/Latino',\n",
       "  'Father_ID': 82271,\n",
       "  'HbA1C': nan,\n",
       "  'Hyperthyroidism': nan,\n",
       "  'Hypothyroidism': nan,\n",
       "  'Mother_ID': 52419,\n",
       "  'OtherEndocrn_Prob': nan,\n",
       "  'Race': 'Black or African Am.',\n",
       "  'ZygosityGT': ' ',\n",
       "  'ov_ob': 'ov'},\n",
       " 155231: {'Age_in_Yrs': 32,\n",
       "  'BMI': 25.39,\n",
       "  'Ethnicity': 'Not Hispanic/Latino',\n",
       "  'Father_ID': 82582,\n",
       "  'HbA1C': 5.3,\n",
       "  'Hyperthyroidism': 0.0,\n",
       "  'Hypothyroidism': 0.0,\n",
       "  'Mother_ID': 52761,\n",
       "  'OtherEndocrn_Prob': 0.0,\n",
       "  'Race': 'White',\n",
       "  'ZygosityGT': ' ',\n",
       "  'ov_ob': 'ov'},\n",
       " 155635: {'Age_in_Yrs': 28,\n",
       "  'BMI': 30.99,\n",
       "  'Ethnicity': 'Not Hispanic/Latino',\n",
       "  'Father_ID': 81663,\n",
       "  'HbA1C': 5.3,\n",
       "  'Hyperthyroidism': 0.0,\n",
       "  'Hypothyroidism': 0.0,\n",
       "  'Mother_ID': 51799,\n",
       "  'OtherEndocrn_Prob': 0.0,\n",
       "  'Race': 'White',\n",
       "  'ZygosityGT': ' ',\n",
       "  'ov_ob': 'ob'},\n",
       " 156031: {'Age_in_Yrs': 30,\n",
       "  'BMI': 30.72,\n",
       "  'Ethnicity': 'Hispanic/Latino',\n",
       "  'Father_ID': 82943,\n",
       "  'HbA1C': 5.6,\n",
       "  'Hyperthyroidism': 0.0,\n",
       "  'Hypothyroidism': 0.0,\n",
       "  'Mother_ID': 53121,\n",
       "  'OtherEndocrn_Prob': 0.0,\n",
       "  'Race': 'More than one',\n",
       "  'ZygosityGT': ' ',\n",
       "  'ov_ob': 'ob'},\n",
       " 156233: {'Age_in_Yrs': 25,\n",
       "  'BMI': 29.18,\n",
       "  'Ethnicity': 'Not Hispanic/Latino',\n",
       "  'Father_ID': 81281,\n",
       "  'HbA1C': 5.5,\n",
       "  'Hyperthyroidism': 0.0,\n",
       "  'Hypothyroidism': 0.0,\n",
       "  'Mother_ID': 52851,\n",
       "  'OtherEndocrn_Prob': 0.0,\n",
       "  'Race': 'Black or African Am.',\n",
       "  'ZygosityGT': ' ',\n",
       "  'ov_ob': 'ov'},\n",
       " 156536: {'Age_in_Yrs': 22,\n",
       "  'BMI': 18.85,\n",
       "  'Ethnicity': 'Not Hispanic/Latino',\n",
       "  'Father_ID': 84471,\n",
       "  'HbA1C': 6.0,\n",
       "  'Hyperthyroidism': nan,\n",
       "  'Hypothyroidism': nan,\n",
       "  'Mother_ID': 54649,\n",
       "  'OtherEndocrn_Prob': nan,\n",
       "  'Race': 'Asian/Nat. Hawaiian/Othr Pacific Is.',\n",
       "  'ZygosityGT': ' ',\n",
       "  'ov_ob': 'no'},\n",
       " 156637: {'Age_in_Yrs': 31,\n",
       "  'BMI': 35.94,\n",
       "  'Ethnicity': 'Not Hispanic/Latino',\n",
       "  'Father_ID': 81153,\n",
       "  'HbA1C': nan,\n",
       "  'Hyperthyroidism': nan,\n",
       "  'Hypothyroidism': nan,\n",
       "  'Mother_ID': 51287,\n",
       "  'OtherEndocrn_Prob': nan,\n",
       "  'Race': 'White',\n",
       "  'ZygosityGT': ' ',\n",
       "  'ov_ob': 'ob'},\n",
       " 157437: {'Age_in_Yrs': 29,\n",
       "  'BMI': 21.3,\n",
       "  'Ethnicity': 'Not Hispanic/Latino',\n",
       "  'Father_ID': 81383,\n",
       "  'HbA1C': 5.3,\n",
       "  'Hyperthyroidism': 0.0,\n",
       "  'Hypothyroidism': 0.0,\n",
       "  'Mother_ID': 51519,\n",
       "  'OtherEndocrn_Prob': 0.0,\n",
       "  'Race': 'White',\n",
       "  'ZygosityGT': ' ',\n",
       "  'ov_ob': 'no'},\n",
       " 157942: {'Age_in_Yrs': 36,\n",
       "  'BMI': 21.3,\n",
       "  'Ethnicity': 'Hispanic/Latino',\n",
       "  'Father_ID': 81368,\n",
       "  'HbA1C': 5.6,\n",
       "  'Hyperthyroidism': 0.0,\n",
       "  'Hypothyroidism': 0.0,\n",
       "  'Mother_ID': 51504,\n",
       "  'OtherEndocrn_Prob': 0.0,\n",
       "  'Race': 'White',\n",
       "  'ZygosityGT': ' ',\n",
       "  'ov_ob': 'no'},\n",
       " 158843: {'Age_in_Yrs': 29,\n",
       "  'BMI': 22.5,\n",
       "  'Ethnicity': 'Not Hispanic/Latino',\n",
       "  'Father_ID': 82637,\n",
       "  'HbA1C': 4.7,\n",
       "  'Hyperthyroidism': nan,\n",
       "  'Hypothyroidism': nan,\n",
       "  'Mother_ID': 52816,\n",
       "  'OtherEndocrn_Prob': nan,\n",
       "  'Race': 'White',\n",
       "  'ZygosityGT': ' ',\n",
       "  'ov_ob': 'no'},\n",
       " 159744: {'Age_in_Yrs': 31,\n",
       "  'BMI': 27.33,\n",
       "  'Ethnicity': 'Not Hispanic/Latino',\n",
       "  'Father_ID': 85742,\n",
       "  'HbA1C': 5.3,\n",
       "  'Hyperthyroidism': nan,\n",
       "  'Hypothyroidism': nan,\n",
       "  'Mother_ID': 55922,\n",
       "  'OtherEndocrn_Prob': nan,\n",
       "  'Race': 'White',\n",
       "  'ZygosityGT': ' ',\n",
       "  'ov_ob': 'ov'},\n",
       " 159946: {'Age_in_Yrs': 29,\n",
       "  'BMI': 27.27,\n",
       "  'Ethnicity': 'Not Hispanic/Latino',\n",
       "  'Father_ID': 82669,\n",
       "  'HbA1C': nan,\n",
       "  'Hyperthyroidism': nan,\n",
       "  'Hypothyroidism': nan,\n",
       "  'Mother_ID': 52848,\n",
       "  'OtherEndocrn_Prob': nan,\n",
       "  'Race': 'White',\n",
       "  'ZygosityGT': ' ',\n",
       "  'ov_ob': 'ov'},\n",
       " 160123: {'Age_in_Yrs': 32,\n",
       "  'BMI': 22.38,\n",
       "  'Ethnicity': 'Not Hispanic/Latino',\n",
       "  'Father_ID': 82671,\n",
       "  'HbA1C': 5.7,\n",
       "  'Hyperthyroidism': nan,\n",
       "  'Hypothyroidism': nan,\n",
       "  'Mother_ID': 52493,\n",
       "  'OtherEndocrn_Prob': nan,\n",
       "  'Race': 'Black or African Am.',\n",
       "  'ZygosityGT': ' ',\n",
       "  'ov_ob': 'no'},\n",
       " 160729: {'Age_in_Yrs': 24,\n",
       "  'BMI': 21.28,\n",
       "  'Ethnicity': 'Not Hispanic/Latino',\n",
       "  'Father_ID': 82617,\n",
       "  'HbA1C': 4.8,\n",
       "  'Hyperthyroidism': 0.0,\n",
       "  'Hypothyroidism': 0.0,\n",
       "  'Mother_ID': 52796,\n",
       "  'OtherEndocrn_Prob': 0.0,\n",
       "  'Race': 'White',\n",
       "  'ZygosityGT': ' ',\n",
       "  'ov_ob': 'no'},\n",
       " 160830: {'Age_in_Yrs': 28,\n",
       "  'BMI': 29.47,\n",
       "  'Ethnicity': 'Not Hispanic/Latino',\n",
       "  'Father_ID': 82333,\n",
       "  'HbA1C': nan,\n",
       "  'Hyperthyroidism': 0.0,\n",
       "  'Hypothyroidism': 0.0,\n",
       "  'Mother_ID': 52498,\n",
       "  'OtherEndocrn_Prob': 0.0,\n",
       "  'Race': 'Black or African Am.',\n",
       "  'ZygosityGT': ' ',\n",
       "  'ov_ob': 'ov'},\n",
       " 160931: {'Age_in_Yrs': 31,\n",
       "  'BMI': 21.89,\n",
       "  'Ethnicity': 'Not Hispanic/Latino',\n",
       "  'Father_ID': 85587,\n",
       "  'HbA1C': 3.26,\n",
       "  'Hyperthyroidism': 0.0,\n",
       "  'Hypothyroidism': 0.0,\n",
       "  'Mother_ID': 55766,\n",
       "  'OtherEndocrn_Prob': 0.0,\n",
       "  'Race': 'White',\n",
       "  'ZygosityGT': ' ',\n",
       "  'ov_ob': 'no'},\n",
       " 161630: {'Age_in_Yrs': 27,\n",
       "  'BMI': 30.12,\n",
       "  'Ethnicity': 'Not Hispanic/Latino',\n",
       "  'Father_ID': 81448,\n",
       "  'HbA1C': nan,\n",
       "  'Hyperthyroidism': 0.0,\n",
       "  'Hypothyroidism': 0.0,\n",
       "  'Mother_ID': 51584,\n",
       "  'OtherEndocrn_Prob': 0.0,\n",
       "  'Race': 'White',\n",
       "  'ZygosityGT': ' ',\n",
       "  'ov_ob': 'ob'},\n",
       " 161731: {'Age_in_Yrs': 35,\n",
       "  'BMI': 21.28,\n",
       "  'Ethnicity': 'Not Hispanic/Latino',\n",
       "  'Father_ID': 81189,\n",
       "  'HbA1C': nan,\n",
       "  'Hyperthyroidism': 0.0,\n",
       "  'Hypothyroidism': 0.0,\n",
       "  'Mother_ID': 51324,\n",
       "  'OtherEndocrn_Prob': 0.0,\n",
       "  'Race': 'White',\n",
       "  'ZygosityGT': ' ',\n",
       "  'ov_ob': 'no'},\n",
       " 162228: {'Age_in_Yrs': 24,\n",
       "  'BMI': 24.34,\n",
       "  'Ethnicity': 'Not Hispanic/Latino',\n",
       "  'Father_ID': 82032,\n",
       "  'HbA1C': 5.6,\n",
       "  'Hyperthyroidism': nan,\n",
       "  'Hypothyroidism': nan,\n",
       "  'Mother_ID': 52169,\n",
       "  'OtherEndocrn_Prob': nan,\n",
       "  'Race': 'White',\n",
       "  'ZygosityGT': ' ',\n",
       "  'ov_ob': 'no'},\n",
       " 162329: {'Age_in_Yrs': 28,\n",
       "  'BMI': 31.47,\n",
       "  'Ethnicity': 'Not Hispanic/Latino',\n",
       "  'Father_ID': 81246,\n",
       "  'HbA1C': nan,\n",
       "  'Hyperthyroidism': 0.0,\n",
       "  'Hypothyroidism': 0.0,\n",
       "  'Mother_ID': 51381,\n",
       "  'OtherEndocrn_Prob': 0.0,\n",
       "  'Race': 'White',\n",
       "  'ZygosityGT': ' ',\n",
       "  'ov_ob': 'ob'},\n",
       " 162733: {'Age_in_Yrs': 26,\n",
       "  'BMI': 37.59,\n",
       "  'Ethnicity': 'Not Hispanic/Latino',\n",
       "  'Father_ID': 81463,\n",
       "  'HbA1C': 5.2,\n",
       "  'Hyperthyroidism': 0.0,\n",
       "  'Hypothyroidism': 0.0,\n",
       "  'Mother_ID': 51599,\n",
       "  'OtherEndocrn_Prob': 0.0,\n",
       "  'Race': 'White',\n",
       "  'ZygosityGT': ' ',\n",
       "  'ov_ob': 'ob'},\n",
       " 162834: {'Age_in_Yrs': 28,\n",
       "  'BMI': 35.39,\n",
       "  'Ethnicity': 'Not Hispanic/Latino',\n",
       "  'Father_ID': 85584,\n",
       "  'HbA1C': nan,\n",
       "  'Hyperthyroidism': 0.0,\n",
       "  'Hypothyroidism': 0.0,\n",
       "  'Mother_ID': 55763,\n",
       "  'OtherEndocrn_Prob': 0.0,\n",
       "  'Race': 'White',\n",
       "  'ZygosityGT': ' ',\n",
       "  'ov_ob': 'ob'},\n",
       " 163331: {'Age_in_Yrs': 35,\n",
       "  'BMI': 39.05,\n",
       "  'Ethnicity': 'Not Hispanic/Latino',\n",
       "  'Father_ID': 81638,\n",
       "  'HbA1C': 5.1,\n",
       "  'Hyperthyroidism': nan,\n",
       "  'Hypothyroidism': nan,\n",
       "  'Mother_ID': 51774,\n",
       "  'OtherEndocrn_Prob': nan,\n",
       "  'Race': 'White',\n",
       "  'ZygosityGT': ' ',\n",
       "  'ov_ob': 'ob'},\n",
       " 164030: {'Age_in_Yrs': 32,\n",
       "  'BMI': 25.22,\n",
       "  'Ethnicity': 'Not Hispanic/Latino',\n",
       "  'Father_ID': 81649,\n",
       "  'HbA1C': nan,\n",
       "  'Hyperthyroidism': nan,\n",
       "  'Hypothyroidism': nan,\n",
       "  'Mother_ID': 51785,\n",
       "  'OtherEndocrn_Prob': nan,\n",
       "  'Race': 'White',\n",
       "  'ZygosityGT': ' ',\n",
       "  'ov_ob': 'ov'},\n",
       " 164939: {'Age_in_Yrs': 29,\n",
       "  'BMI': 36.73,\n",
       "  'Ethnicity': 'Hispanic/Latino',\n",
       "  'Father_ID': 81956,\n",
       "  'HbA1C': 5.4,\n",
       "  'Hyperthyroidism': 0.0,\n",
       "  'Hypothyroidism': 0.0,\n",
       "  'Mother_ID': 52092,\n",
       "  'OtherEndocrn_Prob': 0.0,\n",
       "  'Race': 'Unknown or Not Reported',\n",
       "  'ZygosityGT': ' ',\n",
       "  'ov_ob': 'ob'},\n",
       " 165234: {'Age_in_Yrs': 23,\n",
       "  'BMI': 34.01,\n",
       "  'Ethnicity': 'Not Hispanic/Latino',\n",
       "  'Father_ID': 81423,\n",
       "  'HbA1C': 5.5,\n",
       "  'Hyperthyroidism': 0.0,\n",
       "  'Hypothyroidism': 0.0,\n",
       "  'Mother_ID': 51559,\n",
       "  'OtherEndocrn_Prob': 0.0,\n",
       "  'Race': 'White',\n",
       "  'ZygosityGT': ' ',\n",
       "  'ov_ob': 'ob'},\n",
       " 165840: {'Age_in_Yrs': 35,\n",
       "  'BMI': 29.7,\n",
       "  'Ethnicity': 'Not Hispanic/Latino',\n",
       "  'Father_ID': 82673,\n",
       "  'HbA1C': 5.4,\n",
       "  'Hyperthyroidism': nan,\n",
       "  'Hypothyroidism': nan,\n",
       "  'Mother_ID': 51538,\n",
       "  'OtherEndocrn_Prob': nan,\n",
       "  'Race': 'Black or African Am.',\n",
       "  'ZygosityGT': ' ',\n",
       "  'ov_ob': 'ov'},\n",
       " 167743: {'Age_in_Yrs': 26,\n",
       "  'BMI': 33.89,\n",
       "  'Ethnicity': 'Not Hispanic/Latino',\n",
       "  'Father_ID': 81240,\n",
       "  'HbA1C': nan,\n",
       "  'Hyperthyroidism': 0.0,\n",
       "  'Hypothyroidism': 0.0,\n",
       "  'Mother_ID': 51375,\n",
       "  'OtherEndocrn_Prob': 0.0,\n",
       "  'Race': 'White',\n",
       "  'ZygosityGT': ' ',\n",
       "  'ov_ob': 'ob'},\n",
       " 168038: {'Age_in_Yrs': 28,\n",
       "  'BMI': 21.06,\n",
       "  'Ethnicity': 'Not Hispanic/Latino',\n",
       "  'Father_ID': 81326,\n",
       "  'HbA1C': nan,\n",
       "  'Hyperthyroidism': nan,\n",
       "  'Hypothyroidism': nan,\n",
       "  'Mother_ID': 51461,\n",
       "  'OtherEndocrn_Prob': nan,\n",
       "  'Race': 'Black or African Am.',\n",
       "  'ZygosityGT': ' ',\n",
       "  'ov_ob': 'no'},\n",
       " 168139: {'Age_in_Yrs': 25,\n",
       "  'BMI': 20.2,\n",
       "  'Ethnicity': 'Not Hispanic/Latino',\n",
       "  'Father_ID': 81360,\n",
       "  'HbA1C': 5.5,\n",
       "  'Hyperthyroidism': nan,\n",
       "  'Hypothyroidism': nan,\n",
       "  'Mother_ID': 51496,\n",
       "  'OtherEndocrn_Prob': nan,\n",
       "  'Race': 'White',\n",
       "  'ZygosityGT': ' ',\n",
       "  'ov_ob': 'no'},\n",
       " 168745: {'Age_in_Yrs': 22,\n",
       "  'BMI': 25.24,\n",
       "  'Ethnicity': 'Not Hispanic/Latino',\n",
       "  'Father_ID': 84460,\n",
       "  'HbA1C': nan,\n",
       "  'Hyperthyroidism': 0.0,\n",
       "  'Hypothyroidism': 0.0,\n",
       "  'Mother_ID': 54638,\n",
       "  'OtherEndocrn_Prob': 0.0,\n",
       "  'Race': 'More than one',\n",
       "  'ZygosityGT': ' ',\n",
       "  'ov_ob': 'ov'},\n",
       " 169545: {'Age_in_Yrs': 22,\n",
       "  'BMI': 21.44,\n",
       "  'Ethnicity': 'Not Hispanic/Latino',\n",
       "  'Father_ID': 85519,\n",
       "  'HbA1C': 5.0,\n",
       "  'Hyperthyroidism': nan,\n",
       "  'Hypothyroidism': nan,\n",
       "  'Mother_ID': 55697,\n",
       "  'OtherEndocrn_Prob': nan,\n",
       "  'Race': 'White',\n",
       "  'ZygosityGT': ' ',\n",
       "  'ov_ob': 'no'},\n",
       " 170934: {'Age_in_Yrs': 28,\n",
       "  'BMI': 26.15,\n",
       "  'Ethnicity': 'Not Hispanic/Latino',\n",
       "  'Father_ID': 82293,\n",
       "  'HbA1C': nan,\n",
       "  'Hyperthyroidism': 0.0,\n",
       "  'Hypothyroidism': 0.0,\n",
       "  'Mother_ID': 52450,\n",
       "  'OtherEndocrn_Prob': 0.0,\n",
       "  'Race': 'Black or African Am.',\n",
       "  'ZygosityGT': ' ',\n",
       "  'ov_ob': 'ov'},\n",
       " 171431: {'Age_in_Yrs': 29,\n",
       "  'BMI': 44.48,\n",
       "  'Ethnicity': 'Not Hispanic/Latino',\n",
       "  'Father_ID': 99983,\n",
       "  'HbA1C': nan,\n",
       "  'Hyperthyroidism': 0.0,\n",
       "  'Hypothyroidism': 0.0,\n",
       "  'Mother_ID': 51090,\n",
       "  'OtherEndocrn_Prob': 0.0,\n",
       "  'Race': 'Black or African Am.',\n",
       "  'ZygosityGT': ' ',\n",
       "  'ov_ob': 'ob'},\n",
       " 171532: {'Age_in_Yrs': 33,\n",
       "  'BMI': 43.94,\n",
       "  'Ethnicity': 'Not Hispanic/Latino',\n",
       "  'Father_ID': 81279,\n",
       "  'HbA1C': nan,\n",
       "  'Hyperthyroidism': 0.0,\n",
       "  'Hypothyroidism': 0.0,\n",
       "  'Mother_ID': 51414,\n",
       "  'OtherEndocrn_Prob': 0.0,\n",
       "  'Race': 'Black or African Am.',\n",
       "  'ZygosityGT': ' ',\n",
       "  'ov_ob': 'ob'},\n",
       " 172534: {'Age_in_Yrs': 23,\n",
       "  'BMI': 18.11,\n",
       "  'Ethnicity': 'Not Hispanic/Latino',\n",
       "  'Father_ID': 81202,\n",
       "  'HbA1C': nan,\n",
       "  'Hyperthyroidism': 0.0,\n",
       "  'Hypothyroidism': 0.0,\n",
       "  'Mother_ID': 51337,\n",
       "  'OtherEndocrn_Prob': 0.0,\n",
       "  'Race': 'White',\n",
       "  'ZygosityGT': ' ',\n",
       "  'ov_ob': 'no'},\n",
       " 172635: {'Age_in_Yrs': 31,\n",
       "  'BMI': 23.49,\n",
       "  'Ethnicity': 'Not Hispanic/Latino',\n",
       "  'Father_ID': 81298,\n",
       "  'HbA1C': nan,\n",
       "  'Hyperthyroidism': nan,\n",
       "  'Hypothyroidism': nan,\n",
       "  'Mother_ID': 51433,\n",
       "  'OtherEndocrn_Prob': nan,\n",
       "  'Race': 'White',\n",
       "  'ZygosityGT': ' ',\n",
       "  'ov_ob': 'no'},\n",
       " 173132: {'Age_in_Yrs': 31,\n",
       "  'BMI': 27.83,\n",
       "  'Ethnicity': 'Not Hispanic/Latino',\n",
       "  'Father_ID': 82114,\n",
       "  'HbA1C': 5.2,\n",
       "  'Hyperthyroidism': nan,\n",
       "  'Hypothyroidism': nan,\n",
       "  'Mother_ID': 52251,\n",
       "  'OtherEndocrn_Prob': nan,\n",
       "  'Race': 'White',\n",
       "  'ZygosityGT': ' ',\n",
       "  'ov_ob': 'ov'},\n",
       " 173233: {'Age_in_Yrs': 30,\n",
       "  'BMI': 23.75,\n",
       "  'Ethnicity': 'Not Hispanic/Latino',\n",
       "  'Father_ID': 82574,\n",
       "  'HbA1C': 5.0,\n",
       "  'Hyperthyroidism': nan,\n",
       "  'Hypothyroidism': nan,\n",
       "  'Mother_ID': 52753,\n",
       "  'OtherEndocrn_Prob': nan,\n",
       "  'Race': 'White',\n",
       "  'ZygosityGT': ' ',\n",
       "  'ov_ob': 'no'},\n",
       " 173435: {'Age_in_Yrs': 29,\n",
       "  'BMI': 21.3,\n",
       "  'Ethnicity': 'Not Hispanic/Latino',\n",
       "  'Father_ID': 82448,\n",
       "  'HbA1C': 5.3,\n",
       "  'Hyperthyroidism': 0.0,\n",
       "  'Hypothyroidism': 0.0,\n",
       "  'Mother_ID': 52629,\n",
       "  'OtherEndocrn_Prob': 0.0,\n",
       "  'Race': 'White',\n",
       "  'ZygosityGT': ' ',\n",
       "  'ov_ob': 'no'},\n",
       " 173536: {'Age_in_Yrs': 35,\n",
       "  'BMI': 20.66,\n",
       "  'Ethnicity': 'Not Hispanic/Latino',\n",
       "  'Father_ID': 82758,\n",
       "  'HbA1C': 5.7,\n",
       "  'Hyperthyroidism': 0.0,\n",
       "  'Hypothyroidism': 0.0,\n",
       "  'Mother_ID': 52936,\n",
       "  'OtherEndocrn_Prob': 0.0,\n",
       "  'Race': 'White',\n",
       "  'ZygosityGT': ' ',\n",
       "  'ov_ob': 'no'},\n",
       " 173637: {'Age_in_Yrs': 23,\n",
       "  'BMI': 20.89,\n",
       "  'Ethnicity': 'Not Hispanic/Latino',\n",
       "  'Father_ID': 83052,\n",
       "  'HbA1C': 5.6,\n",
       "  'Hyperthyroidism': 0.0,\n",
       "  'Hypothyroidism': 0.0,\n",
       "  'Mother_ID': 53230,\n",
       "  'OtherEndocrn_Prob': 0.0,\n",
       "  'Race': 'More than one',\n",
       "  'ZygosityGT': ' ',\n",
       "  'ov_ob': 'no'},\n",
       " 173738: {'Age_in_Yrs': 32,\n",
       "  'BMI': 22.59,\n",
       "  'Ethnicity': 'Not Hispanic/Latino',\n",
       "  'Father_ID': 83984,\n",
       "  'HbA1C': 5.4,\n",
       "  'Hyperthyroidism': nan,\n",
       "  'Hypothyroidism': nan,\n",
       "  'Mother_ID': 54162,\n",
       "  'OtherEndocrn_Prob': nan,\n",
       "  'Race': 'Asian/Nat. Hawaiian/Othr Pacific Is.',\n",
       "  'ZygosityGT': ' ',\n",
       "  'ov_ob': 'no'},\n",
       " 173940: {'Age_in_Yrs': 27,\n",
       "  'BMI': 23.46,\n",
       "  'Ethnicity': 'Not Hispanic/Latino',\n",
       "  'Father_ID': 81221,\n",
       "  'HbA1C': 5.1,\n",
       "  'Hyperthyroidism': 0.0,\n",
       "  'Hypothyroidism': 0.0,\n",
       "  'Mother_ID': 51356,\n",
       "  'OtherEndocrn_Prob': 0.0,\n",
       "  'Race': 'White',\n",
       "  'ZygosityGT': ' ',\n",
       "  'ov_ob': 'no'},\n",
       " 174437: {'Age_in_Yrs': 32,\n",
       "  'BMI': 23.24,\n",
       "  'Ethnicity': 'Not Hispanic/Latino',\n",
       "  'Father_ID': 81219,\n",
       "  'HbA1C': nan,\n",
       "  'Hyperthyroidism': 0.0,\n",
       "  'Hypothyroidism': 0.0,\n",
       "  'Mother_ID': 51354,\n",
       "  'OtherEndocrn_Prob': 0.0,\n",
       "  'Race': 'Black or African Am.',\n",
       "  'ZygosityGT': ' ',\n",
       "  'ov_ob': 'no'},\n",
       " 175338: {'Age_in_Yrs': 22,\n",
       "  'BMI': 21.54,\n",
       "  'Ethnicity': 'Hispanic/Latino',\n",
       "  'Father_ID': 83079,\n",
       "  'HbA1C': 5.3,\n",
       "  'Hyperthyroidism': 0.0,\n",
       "  'Hypothyroidism': 0.0,\n",
       "  'Mother_ID': 53257,\n",
       "  'OtherEndocrn_Prob': 0.0,\n",
       "  'Race': 'More than one',\n",
       "  'ZygosityGT': ' ',\n",
       "  'ov_ob': 'no'},\n",
       " 175742: {'Age_in_Yrs': 35,\n",
       "  'BMI': 19.84,\n",
       "  'Ethnicity': 'Not Hispanic/Latino',\n",
       "  'Father_ID': 82058,\n",
       "  'HbA1C': 5.6,\n",
       "  'Hyperthyroidism': 0.0,\n",
       "  'Hypothyroidism': 0.0,\n",
       "  'Mother_ID': 52195,\n",
       "  'OtherEndocrn_Prob': 0.0,\n",
       "  'Race': 'White',\n",
       "  'ZygosityGT': ' ',\n",
       "  'ov_ob': 'no'},\n",
       " 176037: {'Age_in_Yrs': 30,\n",
       "  'BMI': 22.96,\n",
       "  'Ethnicity': 'Not Hispanic/Latino',\n",
       "  'Father_ID': 81205,\n",
       "  'HbA1C': 5.5,\n",
       "  'Hyperthyroidism': 0.0,\n",
       "  'Hypothyroidism': 0.0,\n",
       "  'Mother_ID': 51340,\n",
       "  'OtherEndocrn_Prob': 0.0,\n",
       "  'Race': 'White',\n",
       "  'ZygosityGT': ' ',\n",
       "  'ov_ob': 'no'},\n",
       " 176239: {'Age_in_Yrs': 33,\n",
       "  'BMI': 34.11,\n",
       "  'Ethnicity': 'Not Hispanic/Latino',\n",
       "  'Father_ID': 82630,\n",
       "  'HbA1C': nan,\n",
       "  'Hyperthyroidism': nan,\n",
       "  'Hypothyroidism': nan,\n",
       "  'Mother_ID': 52809,\n",
       "  'OtherEndocrn_Prob': nan,\n",
       "  'Race': 'White',\n",
       "  'ZygosityGT': ' ',\n",
       "  'ov_ob': 'ob'},\n",
       " 176441: {'Age_in_Yrs': 29,\n",
       "  'BMI': 22.38,\n",
       "  'Ethnicity': 'Not Hispanic/Latino',\n",
       "  'Father_ID': 85721,\n",
       "  'HbA1C': 5.0,\n",
       "  'Hyperthyroidism': nan,\n",
       "  'Hypothyroidism': nan,\n",
       "  'Mother_ID': 55901,\n",
       "  'OtherEndocrn_Prob': nan,\n",
       "  'Race': 'White',\n",
       "  'ZygosityGT': ' ',\n",
       "  'ov_ob': 'no'},\n",
       " 177241: {'Age_in_Yrs': 27,\n",
       "  'BMI': 25.59,\n",
       "  'Ethnicity': 'Not Hispanic/Latino',\n",
       "  'Father_ID': 82614,\n",
       "  'HbA1C': 5.3,\n",
       "  'Hyperthyroidism': nan,\n",
       "  'Hypothyroidism': nan,\n",
       "  'Mother_ID': 52793,\n",
       "  'OtherEndocrn_Prob': nan,\n",
       "  'Race': 'White',\n",
       "  'ZygosityGT': ' ',\n",
       "  'ov_ob': 'ov'},\n",
       " 178849: {'Age_in_Yrs': 24,\n",
       "  'BMI': 22.52,\n",
       "  'Ethnicity': 'Hispanic/Latino',\n",
       "  'Father_ID': 82516,\n",
       "  'HbA1C': 5.4,\n",
       "  'Hyperthyroidism': nan,\n",
       "  'Hypothyroidism': nan,\n",
       "  'Mother_ID': 52697,\n",
       "  'OtherEndocrn_Prob': nan,\n",
       "  'Race': 'White',\n",
       "  'ZygosityGT': ' ',\n",
       "  'ov_ob': 'no'},\n",
       " 178950: {'Age_in_Yrs': 34,\n",
       "  'BMI': 21.44,\n",
       "  'Ethnicity': 'Hispanic/Latino',\n",
       "  'Father_ID': 81755,\n",
       "  'HbA1C': 5.3,\n",
       "  'Hyperthyroidism': nan,\n",
       "  'Hypothyroidism': nan,\n",
       "  'Mother_ID': 51891,\n",
       "  'OtherEndocrn_Prob': nan,\n",
       "  'Race': 'White',\n",
       "  'ZygosityGT': ' ',\n",
       "  'ov_ob': 'no'},\n",
       " 179245: {'Age_in_Yrs': 32,\n",
       "  'BMI': 31.78,\n",
       "  'Ethnicity': 'Not Hispanic/Latino',\n",
       "  'Father_ID': 85916,\n",
       "  'HbA1C': nan,\n",
       "  'Hyperthyroidism': 0.0,\n",
       "  'Hypothyroidism': 0.0,\n",
       "  'Mother_ID': 56096,\n",
       "  'OtherEndocrn_Prob': 0.0,\n",
       "  'Race': 'Black or African Am.',\n",
       "  'ZygosityGT': ' ',\n",
       "  'ov_ob': 'ob'},\n",
       " 180129: {'Age_in_Yrs': 27,\n",
       "  'BMI': 33.64,\n",
       "  'Ethnicity': 'Hispanic/Latino',\n",
       "  'Father_ID': 81953,\n",
       "  'HbA1C': 5.6,\n",
       "  'Hyperthyroidism': 0.0,\n",
       "  'Hypothyroidism': 0.0,\n",
       "  'Mother_ID': 52089,\n",
       "  'OtherEndocrn_Prob': 0.0,\n",
       "  'Race': 'White',\n",
       "  'ZygosityGT': ' ',\n",
       "  'ov_ob': 'ob'},\n",
       " 180230: {'Age_in_Yrs': 27,\n",
       "  'BMI': 28.32,\n",
       "  'Ethnicity': 'Hispanic/Latino',\n",
       "  'Father_ID': 82459,\n",
       "  'HbA1C': 5.3,\n",
       "  'Hyperthyroidism': 0.0,\n",
       "  'Hypothyroidism': 0.0,\n",
       "  'Mother_ID': 52640,\n",
       "  'OtherEndocrn_Prob': 0.0,\n",
       "  'Race': 'White',\n",
       "  'ZygosityGT': ' ',\n",
       "  'ov_ob': 'ov'},\n",
       " 180432: {'Age_in_Yrs': 34,\n",
       "  'BMI': 18.48,\n",
       "  'Ethnicity': 'Not Hispanic/Latino',\n",
       "  'Father_ID': 82031,\n",
       "  'HbA1C': 4.9,\n",
       "  'Hyperthyroidism': 0.0,\n",
       "  'Hypothyroidism': 0.0,\n",
       "  'Mother_ID': 52168,\n",
       "  'OtherEndocrn_Prob': 0.0,\n",
       "  'Race': 'White',\n",
       "  'ZygosityGT': ' ',\n",
       "  'ov_ob': 'no'},\n",
       " 180735: {'Age_in_Yrs': 35,\n",
       "  'BMI': 21.3,\n",
       "  'Ethnicity': 'Not Hispanic/Latino',\n",
       "  'Father_ID': 82706,\n",
       "  'HbA1C': nan,\n",
       "  'Hyperthyroidism': 0.0,\n",
       "  'Hypothyroidism': 0.0,\n",
       "  'Mother_ID': 52884,\n",
       "  'OtherEndocrn_Prob': 0.0,\n",
       "  'Race': 'White',\n",
       "  'ZygosityGT': ' ',\n",
       "  'ov_ob': 'no'},\n",
       " 180836: {'Age_in_Yrs': 33,\n",
       "  'BMI': 23.57,\n",
       "  'Ethnicity': 'Not Hispanic/Latino',\n",
       "  'Father_ID': 99985,\n",
       "  'HbA1C': 5.2,\n",
       "  'Hyperthyroidism': 0.0,\n",
       "  'Hypothyroidism': 0.0,\n",
       "  'Mother_ID': 99984,\n",
       "  'OtherEndocrn_Prob': 0.0,\n",
       "  'Race': 'Black or African Am.',\n",
       "  'ZygosityGT': ' ',\n",
       "  'ov_ob': 'no'},\n",
       " 180937: {'Age_in_Yrs': 36,\n",
       "  'BMI': 23.19,\n",
       "  'Ethnicity': 'Not Hispanic/Latino',\n",
       "  'Father_ID': 81998,\n",
       "  'HbA1C': 5.3,\n",
       "  'Hyperthyroidism': nan,\n",
       "  'Hypothyroidism': nan,\n",
       "  'Mother_ID': 52134,\n",
       "  'OtherEndocrn_Prob': nan,\n",
       "  'Race': 'White',\n",
       "  'ZygosityGT': ' ',\n",
       "  'ov_ob': 'no'},\n",
       " 183741: {'Age_in_Yrs': 35,\n",
       "  'BMI': 30.17,\n",
       "  'Ethnicity': 'Not Hispanic/Latino',\n",
       "  'Father_ID': 85985,\n",
       "  'HbA1C': 4.9,\n",
       "  'Hyperthyroidism': nan,\n",
       "  'Hypothyroidism': nan,\n",
       "  'Mother_ID': 56166,\n",
       "  'OtherEndocrn_Prob': nan,\n",
       "  'Race': 'White',\n",
       "  'ZygosityGT': ' ',\n",
       "  'ov_ob': 'ob'},\n",
       " 185038: {'Age_in_Yrs': 31,\n",
       "  'BMI': 20.34,\n",
       "  'Ethnicity': 'Not Hispanic/Latino',\n",
       "  'Father_ID': 82290,\n",
       "  'HbA1C': 5.2,\n",
       "  'Hyperthyroidism': nan,\n",
       "  'Hypothyroidism': nan,\n",
       "  'Mother_ID': 52447,\n",
       "  'OtherEndocrn_Prob': nan,\n",
       "  'Race': 'Black or African Am.',\n",
       "  'ZygosityGT': ' ',\n",
       "  'ov_ob': 'no'},\n",
       " 185341: {'Age_in_Yrs': 24,\n",
       "  'BMI': 24.02,\n",
       "  'Ethnicity': 'Not Hispanic/Latino',\n",
       "  'Father_ID': 82732,\n",
       "  'HbA1C': 5.0,\n",
       "  'Hyperthyroidism': 0.0,\n",
       "  'Hypothyroidism': 0.0,\n",
       "  'Mother_ID': 52910,\n",
       "  'OtherEndocrn_Prob': 0.0,\n",
       "  'Race': 'White',\n",
       "  'ZygosityGT': ' ',\n",
       "  'ov_ob': 'no'},\n",
       " 185846: {'Age_in_Yrs': 26,\n",
       "  'BMI': 19.92,\n",
       "  'Ethnicity': 'Not Hispanic/Latino',\n",
       "  'Father_ID': 85473,\n",
       "  'HbA1C': nan,\n",
       "  'Hyperthyroidism': nan,\n",
       "  'Hypothyroidism': nan,\n",
       "  'Mother_ID': 55651,\n",
       "  'OtherEndocrn_Prob': nan,\n",
       "  'Race': 'White',\n",
       "  'ZygosityGT': ' ',\n",
       "  'ov_ob': 'no'},\n",
       " 186040: {'Age_in_Yrs': 26,\n",
       "  'BMI': 23.99,\n",
       "  'Ethnicity': 'Not Hispanic/Latino',\n",
       "  'Father_ID': 85621,\n",
       "  'HbA1C': nan,\n",
       "  'Hyperthyroidism': nan,\n",
       "  'Hypothyroidism': nan,\n",
       "  'Mother_ID': 55800,\n",
       "  'OtherEndocrn_Prob': nan,\n",
       "  'Race': 'White',\n",
       "  'ZygosityGT': ' ',\n",
       "  'ov_ob': 'no'},\n",
       " 186141: {'Age_in_Yrs': 31,\n",
       "  'BMI': 25.01,\n",
       "  'Ethnicity': 'Not Hispanic/Latino',\n",
       "  'Father_ID': 81690,\n",
       "  'HbA1C': 5.5,\n",
       "  'Hyperthyroidism': nan,\n",
       "  'Hypothyroidism': nan,\n",
       "  'Mother_ID': 51826,\n",
       "  'OtherEndocrn_Prob': nan,\n",
       "  'Race': 'Black or African Am.',\n",
       "  'ZygosityGT': ' ',\n",
       "  'ov_ob': 'ov'},\n",
       " 186444: {'Age_in_Yrs': 25,\n",
       "  'BMI': 19.39,\n",
       "  'Ethnicity': 'Not Hispanic/Latino',\n",
       "  'Father_ID': 83110,\n",
       "  'HbA1C': nan,\n",
       "  'Hyperthyroidism': 0.0,\n",
       "  'Hypothyroidism': 0.0,\n",
       "  'Mother_ID': 53288,\n",
       "  'OtherEndocrn_Prob': 0.0,\n",
       "  'Race': 'Asian/Nat. Hawaiian/Othr Pacific Is.',\n",
       "  'ZygosityGT': ' ',\n",
       "  'ov_ob': 'no'},\n",
       " 187143: {'Age_in_Yrs': 28,\n",
       "  'BMI': 35.14,\n",
       "  'Ethnicity': 'Hispanic/Latino',\n",
       "  'Father_ID': 81764,\n",
       "  'HbA1C': 5.7,\n",
       "  'Hyperthyroidism': nan,\n",
       "  'Hypothyroidism': nan,\n",
       "  'Mother_ID': 51900,\n",
       "  'OtherEndocrn_Prob': nan,\n",
       "  'Race': 'White',\n",
       "  'ZygosityGT': ' ',\n",
       "  'ov_ob': 'ob'},\n",
       " 188145: {'Age_in_Yrs': 32,\n",
       "  'BMI': 22.8,\n",
       "  'Ethnicity': 'Not Hispanic/Latino',\n",
       "  'Father_ID': 81399,\n",
       "  'HbA1C': 4.8,\n",
       "  'Hyperthyroidism': 0.0,\n",
       "  'Hypothyroidism': 0.0,\n",
       "  'Mother_ID': 51535,\n",
       "  'OtherEndocrn_Prob': 0.0,\n",
       "  'Race': 'White',\n",
       "  'ZygosityGT': ' ',\n",
       "  'ov_ob': 'no'},\n",
       " 189450: {'Age_in_Yrs': 23,\n",
       "  'BMI': 28.36,\n",
       "  'Ethnicity': 'Hispanic/Latino',\n",
       "  'Father_ID': 82479,\n",
       "  'HbA1C': 5.0,\n",
       "  'Hyperthyroidism': nan,\n",
       "  'Hypothyroidism': nan,\n",
       "  'Mother_ID': 52660,\n",
       "  'OtherEndocrn_Prob': nan,\n",
       "  'Race': 'More than one',\n",
       "  'ZygosityGT': ' ',\n",
       "  'ov_ob': 'ov'},\n",
       " 190031: {'Age_in_Yrs': 27,\n",
       "  'BMI': 24.48,\n",
       "  'Ethnicity': 'Hispanic/Latino',\n",
       "  'Father_ID': 81754,\n",
       "  'HbA1C': 5.2,\n",
       "  'Hyperthyroidism': 0.0,\n",
       "  'Hypothyroidism': 0.0,\n",
       "  'Mother_ID': 51890,\n",
       "  'OtherEndocrn_Prob': 0.0,\n",
       "  'Race': 'More than one',\n",
       "  'ZygosityGT': ' ',\n",
       "  'ov_ob': 'no'},\n",
       " 190940: {'Age_in_Yrs': 34,\n",
       "  'BMI': 28.89,\n",
       "  'Ethnicity': 'Not Hispanic/Latino',\n",
       "  'Father_ID': 85917,\n",
       "  'HbA1C': 5.7,\n",
       "  'Hyperthyroidism': nan,\n",
       "  'Hypothyroidism': nan,\n",
       "  'Mother_ID': 56097,\n",
       "  'OtherEndocrn_Prob': nan,\n",
       "  'Race': 'More than one',\n",
       "  'ZygosityGT': ' ',\n",
       "  'ov_ob': 'ov'},\n",
       " 191942: {'Age_in_Yrs': 27,\n",
       "  'BMI': 29.98,\n",
       "  'Ethnicity': 'Not Hispanic/Latino',\n",
       "  'Father_ID': 85850,\n",
       "  'HbA1C': nan,\n",
       "  'Hyperthyroidism': nan,\n",
       "  'Hypothyroidism': nan,\n",
       "  'Mother_ID': 56029,\n",
       "  'OtherEndocrn_Prob': nan,\n",
       "  'Race': 'White',\n",
       "  'ZygosityGT': ' ',\n",
       "  'ov_ob': 'ov'},\n",
       " 192136: {'Age_in_Yrs': 22,\n",
       "  'BMI': 26.08,\n",
       "  'Ethnicity': 'Not Hispanic/Latino',\n",
       "  'Father_ID': 82795,\n",
       "  'HbA1C': 4.8,\n",
       "  'Hyperthyroidism': nan,\n",
       "  'Hypothyroidism': nan,\n",
       "  'Mother_ID': 52973,\n",
       "  'OtherEndocrn_Prob': nan,\n",
       "  'Race': 'White',\n",
       "  'ZygosityGT': ' ',\n",
       "  'ov_ob': 'ov'},\n",
       " 192237: {'Age_in_Yrs': 35,\n",
       "  'BMI': 26.04,\n",
       "  'Ethnicity': 'Not Hispanic/Latino',\n",
       "  'Father_ID': 85525,\n",
       "  'HbA1C': 4.8,\n",
       "  'Hyperthyroidism': 0.0,\n",
       "  'Hypothyroidism': 0.0,\n",
       "  'Mother_ID': 55703,\n",
       "  'OtherEndocrn_Prob': 0.0,\n",
       "  'Race': 'White',\n",
       "  'ZygosityGT': ' ',\n",
       "  'ov_ob': 'ov'},\n",
       " 193239: {'Age_in_Yrs': 30,\n",
       "  'BMI': 23.02,\n",
       "  'Ethnicity': 'Not Hispanic/Latino',\n",
       "  'Father_ID': 81170,\n",
       "  'HbA1C': nan,\n",
       "  'Hyperthyroidism': 0.0,\n",
       "  'Hypothyroidism': 0.0,\n",
       "  'Mother_ID': 51305,\n",
       "  'OtherEndocrn_Prob': 0.0,\n",
       "  'Race': 'White',\n",
       "  'ZygosityGT': ' ',\n",
       "  'ov_ob': 'no'},\n",
       " 194746: {'Age_in_Yrs': 35,\n",
       "  'BMI': 28.12,\n",
       "  'Ethnicity': 'Not Hispanic/Latino',\n",
       "  'Father_ID': 82823,\n",
       "  'HbA1C': 4.8,\n",
       "  'Hyperthyroidism': nan,\n",
       "  'Hypothyroidism': nan,\n",
       "  'Mother_ID': 53001,\n",
       "  'OtherEndocrn_Prob': nan,\n",
       "  'Race': 'Asian/Nat. Hawaiian/Othr Pacific Is.',\n",
       "  'ZygosityGT': ' ',\n",
       "  'ov_ob': 'ov'},\n",
       " 194847: {'Age_in_Yrs': 34,\n",
       "  'BMI': 18.58,\n",
       "  'Ethnicity': 'Not Hispanic/Latino',\n",
       "  'Father_ID': 81616,\n",
       "  'HbA1C': nan,\n",
       "  'Hyperthyroidism': 0.0,\n",
       "  'Hypothyroidism': 0.0,\n",
       "  'Mother_ID': 51752,\n",
       "  'OtherEndocrn_Prob': 0.0,\n",
       "  'Race': 'White',\n",
       "  'ZygosityGT': ' ',\n",
       "  'ov_ob': 'no'},\n",
       " 194948: {'Age_in_Yrs': 31,\n",
       "  'BMI': 19.13,\n",
       "  'Ethnicity': 'Not Hispanic/Latino',\n",
       "  'Father_ID': 81357,\n",
       "  'HbA1C': 5.1,\n",
       "  'Hyperthyroidism': 0.0,\n",
       "  'Hypothyroidism': 0.0,\n",
       "  'Mother_ID': 51493,\n",
       "  'OtherEndocrn_Prob': 0.0,\n",
       "  'Race': 'White',\n",
       "  'ZygosityGT': ' ',\n",
       "  'ov_ob': 'no'},\n",
       " 195647: {'Age_in_Yrs': 35,\n",
       "  'BMI': 28.07,\n",
       "  'Ethnicity': 'Not Hispanic/Latino',\n",
       "  'Father_ID': 81242,\n",
       "  'HbA1C': nan,\n",
       "  'Hyperthyroidism': 0.0,\n",
       "  'Hypothyroidism': 0.0,\n",
       "  'Mother_ID': 51377,\n",
       "  'OtherEndocrn_Prob': 0.0,\n",
       "  'Race': 'White',\n",
       "  'ZygosityGT': ' ',\n",
       "  'ov_ob': 'ov'},\n",
       " 196346: {'Age_in_Yrs': 27,\n",
       "  'BMI': 29.81,\n",
       "  'Ethnicity': 'Not Hispanic/Latino',\n",
       "  'Father_ID': 85763,\n",
       "  'HbA1C': 5.6,\n",
       "  'Hyperthyroidism': nan,\n",
       "  'Hypothyroidism': nan,\n",
       "  'Mother_ID': 55943,\n",
       "  'OtherEndocrn_Prob': nan,\n",
       "  'Race': 'White',\n",
       "  'ZygosityGT': ' ',\n",
       "  'ov_ob': 'ov'},\n",
       " 197449: {'Age_in_Yrs': 23,\n",
       "  'BMI': 32.77,\n",
       "  'Ethnicity': 'Not Hispanic/Latino',\n",
       "  'Father_ID': 82266,\n",
       "  'HbA1C': 5.4,\n",
       "  'Hyperthyroidism': 0.0,\n",
       "  'Hypothyroidism': 0.0,\n",
       "  'Mother_ID': 52411,\n",
       "  'OtherEndocrn_Prob': 0.0,\n",
       "  'Race': 'Black or African Am.',\n",
       "  'ZygosityGT': ' ',\n",
       "  'ov_ob': 'ob'},\n",
       " 197550: {'Age_in_Yrs': 28,\n",
       "  'BMI': 32.59,\n",
       "  'Ethnicity': 'Not Hispanic/Latino',\n",
       "  'Father_ID': 81252,\n",
       "  'HbA1C': nan,\n",
       "  'Hyperthyroidism': 0.0,\n",
       "  'Hypothyroidism': 0.0,\n",
       "  'Mother_ID': 51387,\n",
       "  'OtherEndocrn_Prob': 0.0,\n",
       "  'Race': 'Black or African Am.',\n",
       "  'ZygosityGT': ' ',\n",
       "  'ov_ob': 'ob'},\n",
       " 197954: {'Age_in_Yrs': 31,\n",
       "  'BMI': 37.55,\n",
       "  'Ethnicity': 'Not Hispanic/Latino',\n",
       "  'Father_ID': 82568,\n",
       "  'HbA1C': 5.2,\n",
       "  'Hyperthyroidism': 0.0,\n",
       "  'Hypothyroidism': 0.0,\n",
       "  'Mother_ID': 52747,\n",
       "  'OtherEndocrn_Prob': 0.0,\n",
       "  'Race': 'White',\n",
       "  'ZygosityGT': ' ',\n",
       "  'ov_ob': 'ob'},\n",
       " 198451: {'Age_in_Yrs': 26,\n",
       "  'BMI': 23.67,\n",
       "  'Ethnicity': 'Not Hispanic/Latino',\n",
       "  'Father_ID': 81262,\n",
       "  'HbA1C': nan,\n",
       "  'Hyperthyroidism': nan,\n",
       "  'Hypothyroidism': nan,\n",
       "  'Mother_ID': 51397,\n",
       "  'OtherEndocrn_Prob': nan,\n",
       "  'Race': 'White',\n",
       "  'ZygosityGT': ' ',\n",
       "  'ov_ob': 'no'},\n",
       " 198855: {'Age_in_Yrs': 26,\n",
       "  'BMI': 22.74,\n",
       "  'Ethnicity': 'Hispanic/Latino',\n",
       "  'Father_ID': 82647,\n",
       "  'HbA1C': 5.2,\n",
       "  'Hyperthyroidism': nan,\n",
       "  'Hypothyroidism': nan,\n",
       "  'Mother_ID': 52826,\n",
       "  'OtherEndocrn_Prob': nan,\n",
       "  'Race': 'Black or African Am.',\n",
       "  'ZygosityGT': ' ',\n",
       "  'ov_ob': 'no'},\n",
       " 199352: {'Age_in_Yrs': 25,\n",
       "  'BMI': 22.14,\n",
       "  'Ethnicity': 'Not Hispanic/Latino',\n",
       "  'Father_ID': 84470,\n",
       "  'HbA1C': nan,\n",
       "  'Hyperthyroidism': 0.0,\n",
       "  'Hypothyroidism': 0.0,\n",
       "  'Mother_ID': 54648,\n",
       "  'OtherEndocrn_Prob': 0.0,\n",
       "  'Race': 'Asian/Nat. Hawaiian/Othr Pacific Is.',\n",
       "  'ZygosityGT': ' ',\n",
       "  'ov_ob': 'no'},\n",
       " 199554: {'Age_in_Yrs': 32,\n",
       "  'BMI': 28.26,\n",
       "  'Ethnicity': 'Not Hispanic/Latino',\n",
       "  'Father_ID': 82670,\n",
       "  'HbA1C': 5.4,\n",
       "  'Hyperthyroidism': nan,\n",
       "  'Hypothyroidism': nan,\n",
       "  'Mother_ID': 52411,\n",
       "  'OtherEndocrn_Prob': nan,\n",
       "  'Race': 'Black or African Am.',\n",
       "  'ZygosityGT': ' ',\n",
       "  'ov_ob': 'ov'},\n",
       " 199958: {'Age_in_Yrs': 31,\n",
       "  'BMI': 28.62,\n",
       "  'Ethnicity': 'Hispanic/Latino',\n",
       "  'Father_ID': 81874,\n",
       "  'HbA1C': 5.3,\n",
       "  'Hyperthyroidism': nan,\n",
       "  'Hypothyroidism': nan,\n",
       "  'Mother_ID': 52010,\n",
       "  'OtherEndocrn_Prob': nan,\n",
       "  'Race': 'White',\n",
       "  'ZygosityGT': ' ',\n",
       "  'ov_ob': 'ov'},\n",
       " 200513: {'Age_in_Yrs': 25,\n",
       "  'BMI': 23.65,\n",
       "  'Ethnicity': 'Not Hispanic/Latino',\n",
       "  'Father_ID': 85810,\n",
       "  'HbA1C': 4.8,\n",
       "  'Hyperthyroidism': nan,\n",
       "  'Hypothyroidism': nan,\n",
       "  'Mother_ID': 55989,\n",
       "  'OtherEndocrn_Prob': nan,\n",
       "  'Race': 'White',\n",
       "  'ZygosityGT': ' ',\n",
       "  'ov_ob': 'no'},\n",
       " 200917: {'Age_in_Yrs': 23,\n",
       "  'BMI': 21.03,\n",
       "  'Ethnicity': 'Not Hispanic/Latino',\n",
       "  'Father_ID': 99999,\n",
       "  'HbA1C': 5.4,\n",
       "  'Hyperthyroidism': 0.0,\n",
       "  'Hypothyroidism': 0.0,\n",
       "  'Mother_ID': 99998,\n",
       "  'OtherEndocrn_Prob': 0.0,\n",
       "  'Race': 'Asian/Nat. Hawaiian/Othr Pacific Is.',\n",
       "  'ZygosityGT': ' ',\n",
       "  'ov_ob': 'no'},\n",
       " 201717: {'Age_in_Yrs': 22,\n",
       "  'BMI': 27.25,\n",
       "  'Ethnicity': 'Not Hispanic/Latino',\n",
       "  'Father_ID': 82246,\n",
       "  'HbA1C': 4.1,\n",
       "  'Hyperthyroidism': nan,\n",
       "  'Hypothyroidism': nan,\n",
       "  'Mother_ID': 52383,\n",
       "  'OtherEndocrn_Prob': nan,\n",
       "  'Race': 'Black or African Am.',\n",
       "  'ZygosityGT': ' ',\n",
       "  'ov_ob': 'ov'},\n",
       " 202113: {'Age_in_Yrs': 23,\n",
       "  'BMI': 25.4,\n",
       "  'Ethnicity': 'Not Hispanic/Latino',\n",
       "  'Father_ID': 85575,\n",
       "  'HbA1C': 5.3,\n",
       "  'Hyperthyroidism': 0.0,\n",
       "  'Hypothyroidism': 0.0,\n",
       "  'Mother_ID': 55754,\n",
       "  'OtherEndocrn_Prob': 0.0,\n",
       "  'Race': 'White',\n",
       "  'ZygosityGT': ' ',\n",
       "  'ov_ob': 'ov'},\n",
       " 204016: {'Age_in_Yrs': 25,\n",
       "  'BMI': 26.28,\n",
       "  'Ethnicity': 'Not Hispanic/Latino',\n",
       "  'Father_ID': 99977,\n",
       "  'HbA1C': nan,\n",
       "  'Hyperthyroidism': 0.0,\n",
       "  'Hypothyroidism': 0.0,\n",
       "  'Mother_ID': 52715,\n",
       "  'OtherEndocrn_Prob': 0.0,\n",
       "  'Race': 'White',\n",
       "  'ZygosityGT': ' ',\n",
       "  'ov_ob': 'ov'},\n",
       " 204117: {'Age_in_Yrs': 27,\n",
       "  'BMI': 46.67,\n",
       "  'Ethnicity': 'Not Hispanic/Latino',\n",
       "  'Father_ID': 82265,\n",
       "  'HbA1C': nan,\n",
       "  'Hyperthyroidism': nan,\n",
       "  'Hypothyroidism': nan,\n",
       "  'Mother_ID': 52410,\n",
       "  'OtherEndocrn_Prob': nan,\n",
       "  'Race': 'Black or African Am.',\n",
       "  'ZygosityGT': ' ',\n",
       "  'ov_ob': 'ob'},\n",
       " 204218: {'Age_in_Yrs': 29,\n",
       "  'BMI': 25.68,\n",
       "  'Ethnicity': 'Hispanic/Latino',\n",
       "  'Father_ID': 81752,\n",
       "  'HbA1C': 5.2,\n",
       "  'Hyperthyroidism': nan,\n",
       "  'Hypothyroidism': nan,\n",
       "  'Mother_ID': 51888,\n",
       "  'OtherEndocrn_Prob': nan,\n",
       "  'Race': 'White',\n",
       "  'ZygosityGT': ' ',\n",
       "  'ov_ob': 'ov'},\n",
       " 204420: {'Age_in_Yrs': 28,\n",
       "  'BMI': 23.0,\n",
       "  'Ethnicity': 'Not Hispanic/Latino',\n",
       "  'Father_ID': 85608,\n",
       "  'HbA1C': nan,\n",
       "  'Hyperthyroidism': 0.0,\n",
       "  'Hypothyroidism': 0.0,\n",
       "  'Mother_ID': 55787,\n",
       "  'OtherEndocrn_Prob': 0.0,\n",
       "  'Race': 'Black or African Am.',\n",
       "  'ZygosityGT': ' ',\n",
       "  'ov_ob': 'no'},\n",
       " 204622: {'Age_in_Yrs': 30,\n",
       "  'BMI': 29.62,\n",
       "  'Ethnicity': 'Not Hispanic/Latino',\n",
       "  'Father_ID': 80975,\n",
       "  'HbA1C': 5.0,\n",
       "  'Hyperthyroidism': 0.0,\n",
       "  'Hypothyroidism': 0.0,\n",
       "  'Mother_ID': 51106,\n",
       "  'OtherEndocrn_Prob': 0.0,\n",
       "  'Race': 'Black or African Am.',\n",
       "  'ZygosityGT': ' ',\n",
       "  'ov_ob': 'ov'},\n",
       " 206222: {'Age_in_Yrs': 30,\n",
       "  'BMI': 20.58,\n",
       "  'Ethnicity': 'Not Hispanic/Latino',\n",
       "  'Father_ID': 85561,\n",
       "  'HbA1C': 4.8,\n",
       "  'Hyperthyroidism': nan,\n",
       "  'Hypothyroidism': nan,\n",
       "  'Mother_ID': 55740,\n",
       "  'OtherEndocrn_Prob': nan,\n",
       "  'Race': 'White',\n",
       "  'ZygosityGT': ' ',\n",
       "  'ov_ob': 'no'},\n",
       " 206323: {'Age_in_Yrs': 33,\n",
       "  'BMI': 29.45,\n",
       "  'Ethnicity': 'Not Hispanic/Latino',\n",
       "  'Father_ID': 85539,\n",
       "  'HbA1C': nan,\n",
       "  'Hyperthyroidism': 0.0,\n",
       "  'Hypothyroidism': 0.0,\n",
       "  'Mother_ID': 55718,\n",
       "  'OtherEndocrn_Prob': 0.0,\n",
       "  'Race': 'White',\n",
       "  'ZygosityGT': ' ',\n",
       "  'ov_ob': 'ov'},\n",
       " 206727: {'Age_in_Yrs': 25,\n",
       "  'BMI': 33.87,\n",
       "  'Ethnicity': 'Not Hispanic/Latino',\n",
       "  'Father_ID': 85818,\n",
       "  'HbA1C': 5.7,\n",
       "  'Hyperthyroidism': nan,\n",
       "  'Hypothyroidism': nan,\n",
       "  'Mother_ID': 55997,\n",
       "  'OtherEndocrn_Prob': nan,\n",
       "  'Race': 'White',\n",
       "  'ZygosityGT': ' ',\n",
       "  'ov_ob': 'ob'},\n",
       " 206828: {'Age_in_Yrs': 22,\n",
       "  'BMI': 39.47,\n",
       "  'Ethnicity': 'Not Hispanic/Latino',\n",
       "  'Father_ID': 85793,\n",
       "  'HbA1C': 5.2,\n",
       "  'Hyperthyroidism': nan,\n",
       "  'Hypothyroidism': nan,\n",
       "  'Mother_ID': 55972,\n",
       "  'OtherEndocrn_Prob': nan,\n",
       "  'Race': 'White',\n",
       "  'ZygosityGT': ' ',\n",
       "  'ov_ob': 'ob'},\n",
       " 206929: {'Age_in_Yrs': 33,\n",
       "  'BMI': 27.6,\n",
       "  'Ethnicity': 'Not Hispanic/Latino',\n",
       "  'Father_ID': 85947,\n",
       "  'HbA1C': 5.0,\n",
       "  'Hyperthyroidism': nan,\n",
       "  'Hypothyroidism': nan,\n",
       "  'Mother_ID': 56127,\n",
       "  'OtherEndocrn_Prob': nan,\n",
       "  'Race': 'White',\n",
       "  'ZygosityGT': ' ',\n",
       "  'ov_ob': 'ov'},\n",
       " 207628: {'Age_in_Yrs': 31,\n",
       "  'BMI': 26.54,\n",
       "  'Ethnicity': 'Not Hispanic/Latino',\n",
       "  'Father_ID': 81653,\n",
       "  'HbA1C': nan,\n",
       "  'Hyperthyroidism': nan,\n",
       "  'Hypothyroidism': nan,\n",
       "  'Mother_ID': 51789,\n",
       "  'OtherEndocrn_Prob': nan,\n",
       "  'Race': 'Black or African Am.',\n",
       "  'ZygosityGT': ' ',\n",
       "  'ov_ob': 'ov'},\n",
       " 208125: {'Age_in_Yrs': 26,\n",
       "  'BMI': 19.27,\n",
       "  'Ethnicity': 'Not Hispanic/Latino',\n",
       "  'Father_ID': 84446,\n",
       "  'HbA1C': 4.7,\n",
       "  'Hyperthyroidism': 0.0,\n",
       "  'Hypothyroidism': 0.0,\n",
       "  'Mother_ID': 54624,\n",
       "  'OtherEndocrn_Prob': 0.0,\n",
       "  'Race': 'Asian/Nat. Hawaiian/Othr Pacific Is.',\n",
       "  'ZygosityGT': ' ',\n",
       "  'ov_ob': 'no'},\n",
       " 208226: {'Age_in_Yrs': 24,\n",
       "  'BMI': 20.98,\n",
       "  'Ethnicity': 'Not Hispanic/Latino',\n",
       "  'Father_ID': 81156,\n",
       "  'HbA1C': 5.4,\n",
       "  'Hyperthyroidism': 0.0,\n",
       "  'Hypothyroidism': 0.0,\n",
       "  'Mother_ID': 51290,\n",
       "  'OtherEndocrn_Prob': 0.0,\n",
       "  'Race': 'White',\n",
       "  'ZygosityGT': ' ',\n",
       "  'ov_ob': 'no'},\n",
       " 208630: {'Age_in_Yrs': 33,\n",
       "  'BMI': 25.09,\n",
       "  'Ethnicity': 'Not Hispanic/Latino',\n",
       "  'Father_ID': 81476,\n",
       "  'HbA1C': 5.2,\n",
       "  'Hyperthyroidism': nan,\n",
       "  'Hypothyroidism': nan,\n",
       "  'Mother_ID': 51612,\n",
       "  'OtherEndocrn_Prob': nan,\n",
       "  'Race': 'White',\n",
       "  'ZygosityGT': ' ',\n",
       "  'ov_ob': 'ov'},\n",
       " 209127: {'Age_in_Yrs': 32,\n",
       "  'BMI': 32.12,\n",
       "  'Ethnicity': 'Not Hispanic/Latino',\n",
       "  'Father_ID': 82132,\n",
       "  'HbA1C': 5.3,\n",
       "  'Hyperthyroidism': 0.0,\n",
       "  'Hypothyroidism': 0.0,\n",
       "  'Mother_ID': 52269,\n",
       "  'OtherEndocrn_Prob': 0.0,\n",
       "  'Race': 'White',\n",
       "  'ZygosityGT': ' ',\n",
       "  'ov_ob': 'ob'},\n",
       " 210011: {'Age_in_Yrs': 24,\n",
       "  'BMI': 21.74,\n",
       "  'Ethnicity': 'Not Hispanic/Latino',\n",
       "  'Father_ID': 82154,\n",
       "  'HbA1C': 5.2,\n",
       "  'Hyperthyroidism': nan,\n",
       "  'Hypothyroidism': nan,\n",
       "  'Mother_ID': 52291,\n",
       "  'OtherEndocrn_Prob': nan,\n",
       "  'Race': 'White',\n",
       "  'ZygosityGT': ' ',\n",
       "  'ov_ob': 'no'},\n",
       " 210112: {'Age_in_Yrs': 25,\n",
       "  'BMI': 23.57,\n",
       "  'Ethnicity': 'Not Hispanic/Latino',\n",
       "  'Father_ID': 85746,\n",
       "  'HbA1C': 5.0,\n",
       "  'Hyperthyroidism': nan,\n",
       "  'Hypothyroidism': nan,\n",
       "  'Mother_ID': 55926,\n",
       "  'OtherEndocrn_Prob': nan,\n",
       "  'Race': 'White',\n",
       "  'ZygosityGT': ' ',\n",
       "  'ov_ob': 'no'},\n",
       " 210415: {'Age_in_Yrs': 26,\n",
       "  'BMI': 31.55,\n",
       "  'Ethnicity': 'Not Hispanic/Latino',\n",
       "  'Father_ID': 81619,\n",
       "  'HbA1C': 4.8,\n",
       "  'Hyperthyroidism': 0.0,\n",
       "  'Hypothyroidism': 0.0,\n",
       "  'Mother_ID': 51755,\n",
       "  'OtherEndocrn_Prob': 0.0,\n",
       "  'Race': 'White',\n",
       "  'ZygosityGT': ' ',\n",
       "  'ov_ob': 'ob'},\n",
       " 211114: {'Age_in_Yrs': 30,\n",
       "  'BMI': 30.21,\n",
       "  'Ethnicity': 'Not Hispanic/Latino',\n",
       "  'Father_ID': 82366,\n",
       "  'HbA1C': 5.6,\n",
       "  'Hyperthyroidism': 0.0,\n",
       "  'Hypothyroidism': 0.0,\n",
       "  'Mother_ID': 52535,\n",
       "  'OtherEndocrn_Prob': 0.0,\n",
       "  'Race': 'Black or African Am.',\n",
       "  'ZygosityGT': ' ',\n",
       "  'ov_ob': 'ob'},\n",
       " 211316: {'Age_in_Yrs': 31,\n",
       "  'BMI': 28.95,\n",
       "  'Ethnicity': 'Not Hispanic/Latino',\n",
       "  'Father_ID': 99985,\n",
       "  'HbA1C': 5.4,\n",
       "  'Hyperthyroidism': 0.0,\n",
       "  'Hypothyroidism': 0.0,\n",
       "  'Mother_ID': 51751,\n",
       "  'OtherEndocrn_Prob': 0.0,\n",
       "  'Race': 'Black or African Am.',\n",
       "  'ZygosityGT': ' ',\n",
       "  'ov_ob': 'ov'},\n",
       " 211417: {'Age_in_Yrs': 36,\n",
       "  'BMI': 23.18,\n",
       "  'Ethnicity': 'Hispanic/Latino',\n",
       "  'Father_ID': 81358,\n",
       "  'HbA1C': 5.7,\n",
       "  'Hyperthyroidism': nan,\n",
       "  'Hypothyroidism': nan,\n",
       "  'Mother_ID': 51494,\n",
       "  'OtherEndocrn_Prob': nan,\n",
       "  'Race': 'White',\n",
       "  'ZygosityGT': ' ',\n",
       "  'ov_ob': 'no'},\n",
       " 211518: {'Age_in_Yrs': 25,\n",
       "  'BMI': 39.68,\n",
       "  'Ethnicity': 'Not Hispanic/Latino',\n",
       "  'Father_ID': 82332,\n",
       "  'HbA1C': nan,\n",
       "  'Hyperthyroidism': 0.0,\n",
       "  'Hypothyroidism': 0.0,\n",
       "  'Mother_ID': 52497,\n",
       "  'OtherEndocrn_Prob': 0.0,\n",
       "  'Race': 'Black or African Am.',\n",
       "  'ZygosityGT': ' ',\n",
       "  'ov_ob': 'ob'},\n",
       " 212015: {'Age_in_Yrs': 25,\n",
       "  'BMI': 25.0,\n",
       "  'Ethnicity': 'Not Hispanic/Latino',\n",
       "  'Father_ID': 83122,\n",
       "  'HbA1C': nan,\n",
       "  'Hyperthyroidism': nan,\n",
       "  'Hypothyroidism': nan,\n",
       "  'Mother_ID': 53300,\n",
       "  'OtherEndocrn_Prob': nan,\n",
       "  'Race': 'Asian/Nat. Hawaiian/Othr Pacific Is.',\n",
       "  'ZygosityGT': ' ',\n",
       "  'ov_ob': 'ov'},\n",
       " 212217: {'Age_in_Yrs': 23,\n",
       "  'BMI': 26.26,\n",
       "  'Ethnicity': 'Not Hispanic/Latino',\n",
       "  'Father_ID': 82457,\n",
       "  'HbA1C': nan,\n",
       "  'Hyperthyroidism': 0.0,\n",
       "  'Hypothyroidism': 0.0,\n",
       "  'Mother_ID': 52638,\n",
       "  'OtherEndocrn_Prob': 0.0,\n",
       "  'Race': 'More than one',\n",
       "  'ZygosityGT': ' ',\n",
       "  'ov_ob': 'ov'},\n",
       " 212318: {'Age_in_Yrs': 34,\n",
       "  'BMI': 37.16,\n",
       "  'Ethnicity': 'Not Hispanic/Latino',\n",
       "  'Father_ID': 81175,\n",
       "  'HbA1C': nan,\n",
       "  'Hyperthyroidism': 0.0,\n",
       "  'Hypothyroidism': 0.0,\n",
       "  'Mother_ID': 51310,\n",
       "  'OtherEndocrn_Prob': 0.0,\n",
       "  'Race': 'Black or African Am.',\n",
       "  'ZygosityGT': ' ',\n",
       "  'ov_ob': 'ob'},\n",
       " 213017: {'Age_in_Yrs': 25,\n",
       "  'BMI': 31.63,\n",
       "  'Ethnicity': 'Hispanic/Latino',\n",
       "  'Father_ID': 80312,\n",
       "  'HbA1C': 5.4,\n",
       "  'Hyperthyroidism': nan,\n",
       "  'Hypothyroidism': nan,\n",
       "  'Mother_ID': 50373,\n",
       "  'OtherEndocrn_Prob': nan,\n",
       "  'Race': 'Unknown or Not Reported',\n",
       "  'ZygosityGT': ' ',\n",
       "  'ov_ob': 'ob'},\n",
       " 213421: {'Age_in_Yrs': 26,\n",
       "  'BMI': 37.3,\n",
       "  'Ethnicity': 'Not Hispanic/Latino',\n",
       "  'Father_ID': 80448,\n",
       "  'HbA1C': nan,\n",
       "  'Hyperthyroidism': 0.0,\n",
       "  'Hypothyroidism': 0.0,\n",
       "  'Mother_ID': 50532,\n",
       "  'OtherEndocrn_Prob': 0.0,\n",
       "  'Race': 'White',\n",
       "  'ZygosityGT': ' ',\n",
       "  'ov_ob': 'ob'},\n",
       " 213522: {'Age_in_Yrs': 26,\n",
       "  'BMI': 20.66,\n",
       "  'Ethnicity': 'Not Hispanic/Latino',\n",
       "  'Father_ID': 83000,\n",
       "  'HbA1C': nan,\n",
       "  'Hyperthyroidism': nan,\n",
       "  'Hypothyroidism': nan,\n",
       "  'Mother_ID': 53178,\n",
       "  'OtherEndocrn_Prob': nan,\n",
       "  'Race': 'Asian/Nat. Hawaiian/Othr Pacific Is.',\n",
       "  'ZygosityGT': ' ',\n",
       "  'ov_ob': 'no'},\n",
       " 214221: {'Age_in_Yrs': 25,\n",
       "  'BMI': 25.68,\n",
       "  'Ethnicity': 'Not Hispanic/Latino',\n",
       "  'Father_ID': 82529,\n",
       "  'HbA1C': nan,\n",
       "  'Hyperthyroidism': 0.0,\n",
       "  'Hypothyroidism': 0.0,\n",
       "  'Mother_ID': 51789,\n",
       "  'OtherEndocrn_Prob': 0.0,\n",
       "  'Race': 'Black or African Am.',\n",
       "  'ZygosityGT': ' ',\n",
       "  'ov_ob': 'ov'},\n",
       " 214423: {'Age_in_Yrs': 23,\n",
       "  'BMI': 24.4,\n",
       "  'Ethnicity': 'Not Hispanic/Latino',\n",
       "  'Father_ID': 81301,\n",
       "  'HbA1C': nan,\n",
       "  'Hyperthyroidism': nan,\n",
       "  'Hypothyroidism': nan,\n",
       "  'Mother_ID': 51436,\n",
       "  'OtherEndocrn_Prob': nan,\n",
       "  'Race': 'White',\n",
       "  'ZygosityGT': ' ',\n",
       "  'ov_ob': 'no'},\n",
       " 214726: {'Age_in_Yrs': 23,\n",
       "  'BMI': 23.6,\n",
       "  'Ethnicity': 'Not Hispanic/Latino',\n",
       "  'Father_ID': 82233,\n",
       "  'HbA1C': 5.6,\n",
       "  'Hyperthyroidism': nan,\n",
       "  'Hypothyroidism': nan,\n",
       "  'Mother_ID': 52370,\n",
       "  'OtherEndocrn_Prob': nan,\n",
       "  'Race': 'White',\n",
       "  'ZygosityGT': ' ',\n",
       "  'ov_ob': 'no'},\n",
       " 217126: {'Age_in_Yrs': 24,\n",
       "  'BMI': 19.93,\n",
       "  'Ethnicity': 'Not Hispanic/Latino',\n",
       "  'Father_ID': 82136,\n",
       "  'HbA1C': 5.4,\n",
       "  'Hyperthyroidism': nan,\n",
       "  'Hypothyroidism': nan,\n",
       "  'Mother_ID': 52273,\n",
       "  'OtherEndocrn_Prob': nan,\n",
       "  'Race': 'Black or African Am.',\n",
       "  'ZygosityGT': ' ',\n",
       "  'ov_ob': 'no'},\n",
       " 217429: {'Age_in_Yrs': 33,\n",
       "  'BMI': 20.6,\n",
       "  'Ethnicity': 'Not Hispanic/Latino',\n",
       "  'Father_ID': 81352,\n",
       "  'HbA1C': nan,\n",
       "  'Hyperthyroidism': 0.0,\n",
       "  'Hypothyroidism': 0.0,\n",
       "  'Mother_ID': 51488,\n",
       "  'OtherEndocrn_Prob': 0.0,\n",
       "  'Race': 'White',\n",
       "  'ZygosityGT': ' ',\n",
       "  'ov_ob': 'no'},\n",
       " 219231: {'Age_in_Yrs': 27,\n",
       "  'BMI': 25.19,\n",
       "  'Ethnicity': 'Hispanic/Latino',\n",
       "  'Father_ID': 81716,\n",
       "  'HbA1C': 5.1,\n",
       "  'Hyperthyroidism': nan,\n",
       "  'Hypothyroidism': nan,\n",
       "  'Mother_ID': 51852,\n",
       "  'OtherEndocrn_Prob': nan,\n",
       "  'Race': 'White',\n",
       "  'ZygosityGT': ' ',\n",
       "  'ov_ob': 'ov'},\n",
       " 220721: {'Age_in_Yrs': 28,\n",
       "  'BMI': 26.04,\n",
       "  'Ethnicity': 'Not Hispanic/Latino',\n",
       "  'Father_ID': 81989,\n",
       "  'HbA1C': 5.2,\n",
       "  'Hyperthyroidism': nan,\n",
       "  'Hypothyroidism': nan,\n",
       "  'Mother_ID': 52125,\n",
       "  'OtherEndocrn_Prob': nan,\n",
       "  'Race': 'White',\n",
       "  'ZygosityGT': ' ',\n",
       "  'ov_ob': 'ov'},\n",
       " 227432: {'Age_in_Yrs': 32,\n",
       "  'BMI': 24.1,\n",
       "  'Ethnicity': 'Not Hispanic/Latino',\n",
       "  'Father_ID': 84468,\n",
       "  'HbA1C': nan,\n",
       "  'Hyperthyroidism': nan,\n",
       "  'Hypothyroidism': nan,\n",
       "  'Mother_ID': 54646,\n",
       "  'OtherEndocrn_Prob': nan,\n",
       "  'Race': 'Asian/Nat. Hawaiian/Othr Pacific Is.',\n",
       "  'ZygosityGT': ' ',\n",
       "  'ov_ob': 'no'},\n",
       " 228434: {'Age_in_Yrs': 24,\n",
       "  'BMI': 20.72,\n",
       "  'Ethnicity': 'Not Hispanic/Latino',\n",
       "  'Father_ID': 85712,\n",
       "  'HbA1C': nan,\n",
       "  'Hyperthyroidism': 0.0,\n",
       "  'Hypothyroidism': 0.0,\n",
       "  'Mother_ID': 55892,\n",
       "  'OtherEndocrn_Prob': 0.0,\n",
       "  'Race': 'White',\n",
       "  'ZygosityGT': ' ',\n",
       "  'ov_ob': 'no'},\n",
       " 236130: {'Age_in_Yrs': 30,\n",
       "  'BMI': 28.45,\n",
       "  'Ethnicity': 'Not Hispanic/Latino',\n",
       "  'Father_ID': 85535,\n",
       "  'HbA1C': nan,\n",
       "  'Hyperthyroidism': 0.0,\n",
       "  'Hypothyroidism': 0.0,\n",
       "  'Mother_ID': 55714,\n",
       "  'OtherEndocrn_Prob': 0.0,\n",
       "  'Race': 'White',\n",
       "  'ZygosityGT': ' ',\n",
       "  'ov_ob': 'ov'},\n",
       " 238033: {'Age_in_Yrs': 34,\n",
       "  'BMI': 23.62,\n",
       "  'Ethnicity': 'Not Hispanic/Latino',\n",
       "  'Father_ID': 82048,\n",
       "  'HbA1C': 5.1,\n",
       "  'Hyperthyroidism': nan,\n",
       "  'Hypothyroidism': nan,\n",
       "  'Mother_ID': 52185,\n",
       "  'OtherEndocrn_Prob': nan,\n",
       "  'Race': 'White',\n",
       "  'ZygosityGT': ' ',\n",
       "  'ov_ob': 'no'},\n",
       " 239944: {'Age_in_Yrs': 32,\n",
       "  'BMI': 25.21,\n",
       "  'Ethnicity': 'Not Hispanic/Latino',\n",
       "  'Father_ID': 82005,\n",
       "  'HbA1C': 5.4,\n",
       "  'Hyperthyroidism': 0.0,\n",
       "  'Hypothyroidism': 0.0,\n",
       "  'Mother_ID': 52141,\n",
       "  'OtherEndocrn_Prob': 0.0,\n",
       "  'Race': 'White',\n",
       "  'ZygosityGT': ' ',\n",
       "  'ov_ob': 'ov'},\n",
       " 245333: {'Age_in_Yrs': 31,\n",
       "  'BMI': 20.11,\n",
       "  'Ethnicity': 'Not Hispanic/Latino',\n",
       "  'Father_ID': 82242,\n",
       "  'HbA1C': 5.5,\n",
       "  'Hyperthyroidism': 0.0,\n",
       "  'Hypothyroidism': 0.0,\n",
       "  'Mother_ID': 52379,\n",
       "  'OtherEndocrn_Prob': 0.0,\n",
       "  'Race': 'White',\n",
       "  'ZygosityGT': ' ',\n",
       "  'ov_ob': 'no'},\n",
       " 250932: {'Age_in_Yrs': 32,\n",
       "  'BMI': 19.84,\n",
       "  'Ethnicity': 'Not Hispanic/Latino',\n",
       "  'Father_ID': 81316,\n",
       "  'HbA1C': 5.2,\n",
       "  'Hyperthyroidism': 0.0,\n",
       "  'Hypothyroidism': 0.0,\n",
       "  'Mother_ID': 51451,\n",
       "  'OtherEndocrn_Prob': 0.0,\n",
       "  'Race': 'White',\n",
       "  'ZygosityGT': ' ',\n",
       "  'ov_ob': 'no'},\n",
       " 256540: {'Age_in_Yrs': 22,\n",
       "  'BMI': 22.15,\n",
       "  'Ethnicity': 'Not Hispanic/Latino',\n",
       "  'Father_ID': 99994,\n",
       "  'HbA1C': 5.4,\n",
       "  'Hyperthyroidism': 0.0,\n",
       "  'Hypothyroidism': 0.0,\n",
       "  'Mother_ID': 51644,\n",
       "  'OtherEndocrn_Prob': 0.0,\n",
       "  'Race': 'Black or African Am.',\n",
       "  'ZygosityGT': ' ',\n",
       "  'ov_ob': 'no'},\n",
       " 257946: {'Age_in_Yrs': 28,\n",
       "  'BMI': 26.95,\n",
       "  'Ethnicity': 'Hispanic/Latino',\n",
       "  'Father_ID': 80216,\n",
       "  'HbA1C': nan,\n",
       "  'Hyperthyroidism': 0.0,\n",
       "  'Hypothyroidism': 0.0,\n",
       "  'Mother_ID': 50263,\n",
       "  'OtherEndocrn_Prob': 0.0,\n",
       "  'Race': 'White',\n",
       "  'ZygosityGT': ' ',\n",
       "  'ov_ob': 'ov'},\n",
       " 268749: {'Age_in_Yrs': 29,\n",
       "  'BMI': 29.56,\n",
       "  'Ethnicity': 'Not Hispanic/Latino',\n",
       "  'Father_ID': 85887,\n",
       "  'HbA1C': nan,\n",
       "  'Hyperthyroidism': nan,\n",
       "  'Hypothyroidism': nan,\n",
       "  'Mother_ID': 56066,\n",
       "  'OtherEndocrn_Prob': nan,\n",
       "  'Race': 'White',\n",
       "  'ZygosityGT': ' ',\n",
       "  'ov_ob': 'ov'},\n",
       " 270332: {'Age_in_Yrs': 31,\n",
       "  'BMI': 25.36,\n",
       "  'Ethnicity': 'Not Hispanic/Latino',\n",
       "  'Father_ID': 81333,\n",
       "  'HbA1C': 5.0,\n",
       "  'Hyperthyroidism': nan,\n",
       "  'Hypothyroidism': nan,\n",
       "  'Mother_ID': 51468,\n",
       "  'OtherEndocrn_Prob': nan,\n",
       "  'Race': 'White',\n",
       "  'ZygosityGT': ' ',\n",
       "  'ov_ob': 'ov'},\n",
       " 275645: {'Age_in_Yrs': 24,\n",
       "  'BMI': 33.98,\n",
       "  'Ethnicity': 'Not Hispanic/Latino',\n",
       "  'Father_ID': 85885,\n",
       "  'HbA1C': 4.6,\n",
       "  'Hyperthyroidism': nan,\n",
       "  'Hypothyroidism': nan,\n",
       "  'Mother_ID': 56064,\n",
       "  'OtherEndocrn_Prob': nan,\n",
       "  'Race': 'White',\n",
       "  'ZygosityGT': ' ',\n",
       "  'ov_ob': 'ob'},\n",
       " 281135: {'Age_in_Yrs': 26,\n",
       "  'BMI': 20.09,\n",
       "  'Ethnicity': 'Unknown or Not Reported',\n",
       "  'Father_ID': 85617,\n",
       "  'HbA1C': nan,\n",
       "  'Hyperthyroidism': nan,\n",
       "  'Hypothyroidism': nan,\n",
       "  'Mother_ID': 55796,\n",
       "  'OtherEndocrn_Prob': nan,\n",
       "  'Race': 'White',\n",
       "  'ZygosityGT': ' ',\n",
       "  'ov_ob': 'no'},\n",
       " 285345: {'Age_in_Yrs': 33,\n",
       "  'BMI': 23.0,\n",
       "  'Ethnicity': 'Not Hispanic/Latino',\n",
       "  'Father_ID': 82696,\n",
       "  'HbA1C': 5.6,\n",
       "  'Hyperthyroidism': 0.0,\n",
       "  'Hypothyroidism': 0.0,\n",
       "  'Mother_ID': 52874,\n",
       "  'OtherEndocrn_Prob': 0.0,\n",
       "  'Race': 'White',\n",
       "  'ZygosityGT': ' ',\n",
       "  'ov_ob': 'no'},\n",
       " 285446: {'Age_in_Yrs': 32,\n",
       "  'BMI': 24.53,\n",
       "  'Ethnicity': 'Not Hispanic/Latino',\n",
       "  'Father_ID': 81728,\n",
       "  'HbA1C': 5.1,\n",
       "  'Hyperthyroidism': nan,\n",
       "  'Hypothyroidism': nan,\n",
       "  'Mother_ID': 51864,\n",
       "  'OtherEndocrn_Prob': nan,\n",
       "  'Race': 'White',\n",
       "  'ZygosityGT': ' ',\n",
       "  'ov_ob': 'no'},\n",
       " 286650: {'Age_in_Yrs': 30,\n",
       "  'BMI': 35.01,\n",
       "  'Ethnicity': 'Not Hispanic/Latino',\n",
       "  'Father_ID': 85665,\n",
       "  'HbA1C': 5.2,\n",
       "  'Hyperthyroidism': nan,\n",
       "  'Hypothyroidism': nan,\n",
       "  'Mother_ID': 55844,\n",
       "  'OtherEndocrn_Prob': nan,\n",
       "  'Race': 'White',\n",
       "  'ZygosityGT': ' ',\n",
       "  'ov_ob': 'ob'},\n",
       " 298051: {'Age_in_Yrs': 31,\n",
       "  'BMI': 41.76,\n",
       "  'Ethnicity': 'Not Hispanic/Latino',\n",
       "  'Father_ID': 81165,\n",
       "  'HbA1C': nan,\n",
       "  'Hyperthyroidism': 0.0,\n",
       "  'Hypothyroidism': 0.0,\n",
       "  'Mother_ID': 51299,\n",
       "  'OtherEndocrn_Prob': 0.0,\n",
       "  'Race': 'White',\n",
       "  'ZygosityGT': ' ',\n",
       "  'ov_ob': 'ob'},\n",
       " 304020: {'Age_in_Yrs': 35,\n",
       "  'BMI': 31.52,\n",
       "  'Ethnicity': 'Not Hispanic/Latino',\n",
       "  'Father_ID': 81220,\n",
       "  'HbA1C': nan,\n",
       "  'Hyperthyroidism': nan,\n",
       "  'Hypothyroidism': nan,\n",
       "  'Mother_ID': 51355,\n",
       "  'OtherEndocrn_Prob': nan,\n",
       "  'Race': 'White',\n",
       "  'ZygosityGT': ' ',\n",
       "  'ov_ob': 'ob'},\n",
       " 309636: {'Age_in_Yrs': 29,\n",
       "  'BMI': 20.77,\n",
       "  'Ethnicity': 'Not Hispanic/Latino',\n",
       "  'Father_ID': 82909,\n",
       "  'HbA1C': 5.4,\n",
       "  'Hyperthyroidism': 0.0,\n",
       "  'Hypothyroidism': 0.0,\n",
       "  'Mother_ID': 53087,\n",
       "  'OtherEndocrn_Prob': 0.0,\n",
       "  'Race': 'More than one',\n",
       "  'ZygosityGT': ' ',\n",
       "  'ov_ob': 'no'},\n",
       " 311320: {'Age_in_Yrs': 27,\n",
       "  'BMI': 41.03,\n",
       "  'Ethnicity': 'Not Hispanic/Latino',\n",
       "  'Father_ID': 99975,\n",
       "  'HbA1C': 9.6,\n",
       "  'Hyperthyroidism': nan,\n",
       "  'Hypothyroidism': nan,\n",
       "  'Mother_ID': 52873,\n",
       "  'OtherEndocrn_Prob': nan,\n",
       "  'Race': 'Black or African Am.',\n",
       "  'ZygosityGT': ' ',\n",
       "  'ov_ob': 'ob'},\n",
       " 314225: {'Age_in_Yrs': 24,\n",
       "  'BMI': 26.31,\n",
       "  'Ethnicity': 'Not Hispanic/Latino',\n",
       "  'Father_ID': 85795,\n",
       "  'HbA1C': nan,\n",
       "  'Hyperthyroidism': nan,\n",
       "  'Hypothyroidism': nan,\n",
       "  'Mother_ID': 55974,\n",
       "  'OtherEndocrn_Prob': nan,\n",
       "  'Race': 'White',\n",
       "  'ZygosityGT': ' ',\n",
       "  'ov_ob': 'ov'},\n",
       " 316633: {'Age_in_Yrs': 27,\n",
       "  'BMI': 22.67,\n",
       "  'Ethnicity': 'Hispanic/Latino',\n",
       "  'Father_ID': 82468,\n",
       "  'HbA1C': nan,\n",
       "  'Hyperthyroidism': 0.0,\n",
       "  'Hypothyroidism': 0.0,\n",
       "  'Mother_ID': 52649,\n",
       "  'OtherEndocrn_Prob': 0.0,\n",
       "  'Race': 'White',\n",
       "  'ZygosityGT': ' ',\n",
       "  'ov_ob': 'no'},\n",
       " 329440: {'Age_in_Yrs': 30,\n",
       "  'BMI': 24.26,\n",
       "  'Ethnicity': 'Not Hispanic/Latino',\n",
       "  'Father_ID': 81213,\n",
       "  'HbA1C': nan,\n",
       "  'Hyperthyroidism': nan,\n",
       "  'Hypothyroidism': nan,\n",
       "  'Mother_ID': 51348,\n",
       "  'OtherEndocrn_Prob': nan,\n",
       "  'Race': 'White',\n",
       "  'ZygosityGT': ' ',\n",
       "  'ov_ob': 'no'},\n",
       " 329844: {'Age_in_Yrs': 28,\n",
       "  'BMI': 25.21,\n",
       "  'Ethnicity': 'Not Hispanic/Latino',\n",
       "  'Father_ID': 84425,\n",
       "  'HbA1C': 5.4,\n",
       "  'Hyperthyroidism': nan,\n",
       "  'Hypothyroidism': nan,\n",
       "  'Mother_ID': 54603,\n",
       "  'OtherEndocrn_Prob': nan,\n",
       "  'Race': 'Black or African Am.',\n",
       "  'ZygosityGT': ' ',\n",
       "  'ov_ob': 'ov'},\n",
       " 336841: {'Age_in_Yrs': 27,\n",
       "  'BMI': 24.95,\n",
       "  'Ethnicity': 'Not Hispanic/Latino',\n",
       "  'Father_ID': 82784,\n",
       "  'HbA1C': 5.5,\n",
       "  'Hyperthyroidism': nan,\n",
       "  'Hypothyroidism': nan,\n",
       "  'Mother_ID': 52962,\n",
       "  'OtherEndocrn_Prob': nan,\n",
       "  'Race': 'More than one',\n",
       "  'ZygosityGT': ' ',\n",
       "  'ov_ob': 'no'},\n",
       " 346137: {'Age_in_Yrs': 29,\n",
       "  'BMI': 31.89,\n",
       "  'Ethnicity': 'Not Hispanic/Latino',\n",
       "  'Father_ID': 82760,\n",
       "  'HbA1C': 5.3,\n",
       "  'Hyperthyroidism': nan,\n",
       "  'Hypothyroidism': nan,\n",
       "  'Mother_ID': 52938,\n",
       "  'OtherEndocrn_Prob': nan,\n",
       "  'Race': 'White',\n",
       "  'ZygosityGT': ' ',\n",
       "  'ov_ob': 'ob'},\n",
       " 348545: {'Age_in_Yrs': 25,\n",
       "  'BMI': 25.66,\n",
       "  'Ethnicity': 'Hispanic/Latino',\n",
       "  'Father_ID': 84477,\n",
       "  'HbA1C': 5.0,\n",
       "  'Hyperthyroidism': nan,\n",
       "  'Hypothyroidism': nan,\n",
       "  'Mother_ID': 54655,\n",
       "  'OtherEndocrn_Prob': nan,\n",
       "  'Race': 'White',\n",
       "  'ZygosityGT': ' ',\n",
       "  'ov_ob': 'ov'},\n",
       " 349244: {'Age_in_Yrs': 26,\n",
       "  'BMI': 22.89,\n",
       "  'Ethnicity': 'Not Hispanic/Latino',\n",
       "  'Father_ID': 85647,\n",
       "  'HbA1C': 5.4,\n",
       "  'Hyperthyroidism': nan,\n",
       "  'Hypothyroidism': nan,\n",
       "  'Mother_ID': 55826,\n",
       "  'OtherEndocrn_Prob': nan,\n",
       "  'Race': 'White',\n",
       "  'ZygosityGT': ' ',\n",
       "  'ov_ob': 'no'},\n",
       " 350330: {'Age_in_Yrs': 24,\n",
       "  'BMI': 20.17,\n",
       "  'Ethnicity': 'Not Hispanic/Latino',\n",
       "  'Father_ID': 82855,\n",
       "  'HbA1C': 5.4,\n",
       "  'Hyperthyroidism': 0.0,\n",
       "  'Hypothyroidism': 0.0,\n",
       "  'Mother_ID': 53033,\n",
       "  'OtherEndocrn_Prob': 0.0,\n",
       "  'Race': 'Asian/Nat. Hawaiian/Othr Pacific Is.',\n",
       "  'ZygosityGT': ' ',\n",
       "  'ov_ob': 'no'},\n",
       " 351938: {'Age_in_Yrs': 25,\n",
       "  'BMI': 21.63,\n",
       "  'Ethnicity': 'Not Hispanic/Latino',\n",
       "  'Father_ID': 81341,\n",
       "  'HbA1C': 5.1,\n",
       "  'Hyperthyroidism': 0.0,\n",
       "  'Hypothyroidism': 0.0,\n",
       "  'Mother_ID': 51477,\n",
       "  'OtherEndocrn_Prob': 0.0,\n",
       "  'Race': 'White',\n",
       "  'ZygosityGT': ' ',\n",
       "  'ov_ob': 'no'},\n",
       " 355542: {'Age_in_Yrs': 29,\n",
       "  'BMI': 34.5,\n",
       "  'Ethnicity': 'Not Hispanic/Latino',\n",
       "  'Father_ID': 81350,\n",
       "  'HbA1C': nan,\n",
       "  'Hyperthyroidism': 0.0,\n",
       "  'Hypothyroidism': 0.0,\n",
       "  'Mother_ID': 51486,\n",
       "  'OtherEndocrn_Prob': 0.0,\n",
       "  'Race': 'White',\n",
       "  'ZygosityGT': ' ',\n",
       "  'ov_ob': 'ob'},\n",
       " 361234: {'Age_in_Yrs': 35,\n",
       "  'BMI': 24.95,\n",
       "  'Ethnicity': 'Not Hispanic/Latino',\n",
       "  'Father_ID': 81994,\n",
       "  'HbA1C': nan,\n",
       "  'Hyperthyroidism': 0.0,\n",
       "  'Hypothyroidism': 0.0,\n",
       "  'Mother_ID': 52130,\n",
       "  'OtherEndocrn_Prob': 0.0,\n",
       "  'Race': 'White',\n",
       "  'ZygosityGT': ' ',\n",
       "  'ov_ob': 'no'},\n",
       " 361941: {'Age_in_Yrs': 27,\n",
       "  'BMI': 21.29,\n",
       "  'Ethnicity': 'Hispanic/Latino',\n",
       "  'Father_ID': 81913,\n",
       "  'HbA1C': 5.2,\n",
       "  'Hyperthyroidism': nan,\n",
       "  'Hypothyroidism': nan,\n",
       "  'Mother_ID': 52049,\n",
       "  'OtherEndocrn_Prob': nan,\n",
       "  'Race': 'White',\n",
       "  'ZygosityGT': ' ',\n",
       "  'ov_ob': 'no'},\n",
       " 366042: {'Age_in_Yrs': 26,\n",
       "  'BMI': 22.35,\n",
       "  'Ethnicity': 'Not Hispanic/Latino',\n",
       "  'Father_ID': 81613,\n",
       "  'HbA1C': nan,\n",
       "  'Hyperthyroidism': 0.0,\n",
       "  'Hypothyroidism': 0.0,\n",
       "  'Mother_ID': 51749,\n",
       "  'OtherEndocrn_Prob': 0.0,\n",
       "  'Race': 'White',\n",
       "  'ZygosityGT': ' ',\n",
       "  'ov_ob': 'no'},\n",
       " 371843: {'Age_in_Yrs': 31,\n",
       "  'BMI': 21.92,\n",
       "  'Ethnicity': 'Not Hispanic/Latino',\n",
       "  'Father_ID': 81324,\n",
       "  'HbA1C': 5.4,\n",
       "  'Hyperthyroidism': 0.0,\n",
       "  'Hypothyroidism': 0.0,\n",
       "  'Mother_ID': 51459,\n",
       "  'OtherEndocrn_Prob': 0.0,\n",
       "  'Race': 'White',\n",
       "  'ZygosityGT': ' ',\n",
       "  'ov_ob': 'no'},\n",
       " 378857: {'Age_in_Yrs': 33,\n",
       "  'BMI': 24.85,\n",
       "  'Ethnicity': 'Not Hispanic/Latino',\n",
       "  'Father_ID': 81397,\n",
       "  'HbA1C': 5.2,\n",
       "  'Hyperthyroidism': 0.0,\n",
       "  'Hypothyroidism': 0.0,\n",
       "  'Mother_ID': 51533,\n",
       "  'OtherEndocrn_Prob': 0.0,\n",
       "  'Race': 'White',\n",
       "  'ZygosityGT': ' ',\n",
       "  'ov_ob': 'no'},\n",
       " 379657: {'Age_in_Yrs': 26,\n",
       "  'BMI': 23.17,\n",
       "  'Ethnicity': 'Not Hispanic/Latino',\n",
       "  'Father_ID': 85894,\n",
       "  'HbA1C': 4.8,\n",
       "  'Hyperthyroidism': 0.0,\n",
       "  'Hypothyroidism': 0.0,\n",
       "  'Mother_ID': 56073,\n",
       "  'OtherEndocrn_Prob': 0.0,\n",
       "  'Race': 'More than one',\n",
       "  'ZygosityGT': ' ',\n",
       "  'ov_ob': 'no'},\n",
       " 381543: {'Age_in_Yrs': 24,\n",
       "  'BMI': 20.19,\n",
       "  'Ethnicity': 'Not Hispanic/Latino',\n",
       "  'Father_ID': 85538,\n",
       "  'HbA1C': 4.8,\n",
       "  'Hyperthyroidism': 0.0,\n",
       "  'Hypothyroidism': 0.0,\n",
       "  'Mother_ID': 55717,\n",
       "  'OtherEndocrn_Prob': 0.0,\n",
       "  'Race': 'White',\n",
       "  'ZygosityGT': ' ',\n",
       "  'ov_ob': 'no'},\n",
       " 384448: {'Age_in_Yrs': 34,\n",
       "  'BMI': 33.81,\n",
       "  'Ethnicity': 'Hispanic/Latino',\n",
       "  'Father_ID': 81902,\n",
       "  'HbA1C': 6.0,\n",
       "  'Hyperthyroidism': nan,\n",
       "  'Hypothyroidism': nan,\n",
       "  'Mother_ID': 52038,\n",
       "  'OtherEndocrn_Prob': nan,\n",
       "  'Race': 'White',\n",
       "  'ZygosityGT': ' ',\n",
       "  'ov_ob': 'ob'},\n",
       " 386250: {'Age_in_Yrs': 24,\n",
       "  'BMI': 24.85,\n",
       "  'Ethnicity': 'Not Hispanic/Latino',\n",
       "  'Father_ID': 82205,\n",
       "  'HbA1C': 5.2,\n",
       "  'Hyperthyroidism': nan,\n",
       "  'Hypothyroidism': nan,\n",
       "  'Mother_ID': 52342,\n",
       "  'OtherEndocrn_Prob': nan,\n",
       "  'Race': 'White',\n",
       "  'ZygosityGT': ' ',\n",
       "  'ov_ob': 'no'},\n",
       " 387959: {'Age_in_Yrs': 26,\n",
       "  'BMI': 28.69,\n",
       "  'Ethnicity': 'Not Hispanic/Latino',\n",
       "  'Father_ID': 85616,\n",
       "  'HbA1C': 5.1,\n",
       "  'Hyperthyroidism': nan,\n",
       "  'Hypothyroidism': nan,\n",
       "  'Mother_ID': 55795,\n",
       "  'OtherEndocrn_Prob': nan,\n",
       "  'Race': 'White',\n",
       "  'ZygosityGT': ' ',\n",
       "  'ov_ob': 'ov'},\n",
       " 397154: {'Age_in_Yrs': 29,\n",
       "  'BMI': 21.14,\n",
       "  'Ethnicity': 'Not Hispanic/Latino',\n",
       "  'Father_ID': 99976,\n",
       "  'HbA1C': 4.8,\n",
       "  'Hyperthyroidism': 0.0,\n",
       "  'Hypothyroidism': 0.0,\n",
       "  'Mother_ID': 52761,\n",
       "  'OtherEndocrn_Prob': 0.0,\n",
       "  'Race': 'White',\n",
       "  'ZygosityGT': ' ',\n",
       "  'ov_ob': 'no'},\n",
       " 403628: {'Age_in_Yrs': 28,\n",
       "  'BMI': 48.25,\n",
       "  'Ethnicity': 'Not Hispanic/Latino',\n",
       "  'Father_ID': 99973,\n",
       "  'HbA1C': nan,\n",
       "  'Hyperthyroidism': 0.0,\n",
       "  'Hypothyroidism': 0.0,\n",
       "  'Mother_ID': 56022,\n",
       "  'OtherEndocrn_Prob': 0.0,\n",
       "  'Race': 'Black or African Am.',\n",
       "  'ZygosityGT': ' ',\n",
       "  'ov_ob': 'ob'},\n",
       " 419239: {'Age_in_Yrs': 28,\n",
       "  'BMI': 33.19,\n",
       "  'Ethnicity': 'Not Hispanic/Latino',\n",
       "  'Father_ID': 85504,\n",
       "  'HbA1C': nan,\n",
       "  'Hyperthyroidism': 0.0,\n",
       "  'Hypothyroidism': 0.0,\n",
       "  'Mother_ID': 55682,\n",
       "  'OtherEndocrn_Prob': 0.0,\n",
       "  'Race': 'Black or African Am.',\n",
       "  'ZygosityGT': ' ',\n",
       "  'ov_ob': 'ob'},\n",
       " 422632: {'Age_in_Yrs': 24,\n",
       "  'BMI': 27.45,\n",
       "  'Ethnicity': 'Not Hispanic/Latino',\n",
       "  'Father_ID': 81477,\n",
       "  'HbA1C': 5.3,\n",
       "  'Hyperthyroidism': 0.0,\n",
       "  'Hypothyroidism': 0.0,\n",
       "  'Mother_ID': 51613,\n",
       "  'OtherEndocrn_Prob': 0.0,\n",
       "  'Race': 'White',\n",
       "  'ZygosityGT': ' ',\n",
       "  'ov_ob': 'ov'},\n",
       " 432332: {'Age_in_Yrs': 33,\n",
       "  'BMI': 20.82,\n",
       "  'Ethnicity': 'Not Hispanic/Latino',\n",
       "  'Father_ID': 85922,\n",
       "  'HbA1C': nan,\n",
       "  'Hyperthyroidism': 0.0,\n",
       "  'Hypothyroidism': 0.0,\n",
       "  'Mother_ID': 56102,\n",
       "  'OtherEndocrn_Prob': 0.0,\n",
       "  'Race': 'White',\n",
       "  'ZygosityGT': ' ',\n",
       "  'ov_ob': 'no'},\n",
       " 435136: {'Age_in_Yrs': 32,\n",
       "  'BMI': 38.63,\n",
       "  'Ethnicity': 'Not Hispanic/Latino',\n",
       "  'Father_ID': 82195,\n",
       "  'HbA1C': 5.0,\n",
       "  'Hyperthyroidism': nan,\n",
       "  'Hypothyroidism': nan,\n",
       "  'Mother_ID': 52332,\n",
       "  'OtherEndocrn_Prob': nan,\n",
       "  'Race': 'White',\n",
       "  'ZygosityGT': ' ',\n",
       "  'ov_ob': 'ob'},\n",
       " 445543: {'Age_in_Yrs': 30,\n",
       "  'BMI': 29.87,\n",
       "  'Ethnicity': 'Not Hispanic/Latino',\n",
       "  'Father_ID': 81417,\n",
       "  'HbA1C': 4.9,\n",
       "  'Hyperthyroidism': nan,\n",
       "  'Hypothyroidism': nan,\n",
       "  'Mother_ID': 51553,\n",
       "  'OtherEndocrn_Prob': nan,\n",
       "  'Race': 'White',\n",
       "  'ZygosityGT': ' ',\n",
       "  'ov_ob': 'ov'},\n",
       " 448347: {'Age_in_Yrs': 26,\n",
       "  'BMI': 24.82,\n",
       "  'Ethnicity': 'Not Hispanic/Latino',\n",
       "  'Father_ID': 81172,\n",
       "  'HbA1C': nan,\n",
       "  'Hyperthyroidism': nan,\n",
       "  'Hypothyroidism': nan,\n",
       "  'Mother_ID': 51307,\n",
       "  'OtherEndocrn_Prob': nan,\n",
       "  'Race': 'White',\n",
       "  'ZygosityGT': ' ',\n",
       "  'ov_ob': 'no'},\n",
       " 454140: {'Age_in_Yrs': 33,\n",
       "  'BMI': 28.41,\n",
       "  'Ethnicity': 'Not Hispanic/Latino',\n",
       "  'Father_ID': 81529,\n",
       "  'HbA1C': 5.2,\n",
       "  'Hyperthyroidism': nan,\n",
       "  'Hypothyroidism': nan,\n",
       "  'Mother_ID': 51665,\n",
       "  'OtherEndocrn_Prob': nan,\n",
       "  'Race': 'White',\n",
       "  'ZygosityGT': ' ',\n",
       "  'ov_ob': 'ov'},\n",
       " 456346: {'Age_in_Yrs': 22,\n",
       "  'BMI': 38.73,\n",
       "  'Ethnicity': 'Not Hispanic/Latino',\n",
       "  'Father_ID': 82057,\n",
       "  'HbA1C': nan,\n",
       "  'Hyperthyroidism': 0.0,\n",
       "  'Hypothyroidism': 0.0,\n",
       "  'Mother_ID': 52194,\n",
       "  'OtherEndocrn_Prob': 0.0,\n",
       "  'Race': 'White',\n",
       "  'ZygosityGT': ' ',\n",
       "  'ov_ob': 'ob'},\n",
       " 459453: {'Age_in_Yrs': 29,\n",
       "  'BMI': 21.76,\n",
       "  'Ethnicity': 'Not Hispanic/Latino',\n",
       "  'Father_ID': 81681,\n",
       "  'HbA1C': 5.9,\n",
       "  'Hyperthyroidism': 0.0,\n",
       "  'Hypothyroidism': 0.0,\n",
       "  'Mother_ID': 51817,\n",
       "  'OtherEndocrn_Prob': 0.0,\n",
       "  'Race': 'White',\n",
       "  'ZygosityGT': ' ',\n",
       "  'ov_ob': 'no'},\n",
       " 465852: {'Age_in_Yrs': 27,\n",
       "  'BMI': 23.46,\n",
       "  'Ethnicity': 'Not Hispanic/Latino',\n",
       "  'Father_ID': 82364,\n",
       "  'HbA1C': nan,\n",
       "  'Hyperthyroidism': 0.0,\n",
       "  'Hypothyroidism': 0.0,\n",
       "  'Mother_ID': 52532,\n",
       "  'OtherEndocrn_Prob': 0.0,\n",
       "  'Race': 'Black or African Am.',\n",
       "  'ZygosityGT': ' ',\n",
       "  'ov_ob': 'no'},\n",
       " 468050: {'Age_in_Yrs': 32,\n",
       "  'BMI': 29.09,\n",
       "  'Ethnicity': 'Not Hispanic/Latino',\n",
       "  'Father_ID': 81222,\n",
       "  'HbA1C': nan,\n",
       "  'Hyperthyroidism': 0.0,\n",
       "  'Hypothyroidism': 0.0,\n",
       "  'Mother_ID': 51357,\n",
       "  'OtherEndocrn_Prob': 0.0,\n",
       "  'Race': 'White',\n",
       "  'ZygosityGT': ' ',\n",
       "  'ov_ob': 'ov'},\n",
       " 475855: {'Age_in_Yrs': 29,\n",
       "  'BMI': 24.74,\n",
       "  'Ethnicity': 'Not Hispanic/Latino',\n",
       "  'Father_ID': 81467,\n",
       "  'HbA1C': 5.2,\n",
       "  'Hyperthyroidism': 0.0,\n",
       "  'Hypothyroidism': 0.0,\n",
       "  'Mother_ID': 51603,\n",
       "  'OtherEndocrn_Prob': 0.0,\n",
       "  'Race': 'White',\n",
       "  'ZygosityGT': ' ',\n",
       "  'ov_ob': 'no'},\n",
       " 479762: {'Age_in_Yrs': 24,\n",
       "  'BMI': 21.06,\n",
       "  'Ethnicity': 'Not Hispanic/Latino',\n",
       "  'Father_ID': 81340,\n",
       "  'HbA1C': nan,\n",
       "  'Hyperthyroidism': nan,\n",
       "  'Hypothyroidism': nan,\n",
       "  'Mother_ID': 51476,\n",
       "  'OtherEndocrn_Prob': nan,\n",
       "  'Race': 'White',\n",
       "  'ZygosityGT': ' ',\n",
       "  'ov_ob': 'no'},\n",
       " 481143: {'Age_in_Yrs': 34,\n",
       "  'BMI': 42.61,\n",
       "  'Ethnicity': 'Not Hispanic/Latino',\n",
       "  'Father_ID': 81684,\n",
       "  'HbA1C': nan,\n",
       "  'Hyperthyroidism': 0.0,\n",
       "  'Hypothyroidism': 0.0,\n",
       "  'Mother_ID': 51820,\n",
       "  'OtherEndocrn_Prob': 0.0,\n",
       "  'Race': 'White',\n",
       "  'ZygosityGT': ' ',\n",
       "  'ov_ob': 'ob'},\n",
       " 485757: {'Age_in_Yrs': 34,\n",
       "  'BMI': 30.62,\n",
       "  'Ethnicity': 'Not Hispanic/Latino',\n",
       "  'Father_ID': 81670,\n",
       "  'HbA1C': nan,\n",
       "  'Hyperthyroidism': 0.0,\n",
       "  'Hypothyroidism': 0.0,\n",
       "  'Mother_ID': 51806,\n",
       "  'OtherEndocrn_Prob': 0.0,\n",
       "  'Race': 'Black or African Am.',\n",
       "  'ZygosityGT': ' ',\n",
       "  'ov_ob': 'ob'},\n",
       " 497764: {'Age_in_Yrs': 22,\n",
       "  'BMI': 42.21,\n",
       "  'Ethnicity': 'Not Hispanic/Latino',\n",
       "  'Father_ID': 82716,\n",
       "  'HbA1C': nan,\n",
       "  'Hyperthyroidism': nan,\n",
       "  'Hypothyroidism': nan,\n",
       "  'Mother_ID': 52894,\n",
       "  'OtherEndocrn_Prob': nan,\n",
       "  'Race': 'White',\n",
       "  'ZygosityGT': ' ',\n",
       "  'ov_ob': 'ob'},\n",
       " 499566: {'Age_in_Yrs': 28,\n",
       "  'BMI': 20.83,\n",
       "  'Ethnicity': 'Not Hispanic/Latino',\n",
       "  'Father_ID': 81282,\n",
       "  'HbA1C': nan,\n",
       "  'Hyperthyroidism': 0.0,\n",
       "  'Hypothyroidism': 0.0,\n",
       "  'Mother_ID': 51417,\n",
       "  'OtherEndocrn_Prob': 0.0,\n",
       "  'Race': 'White',\n",
       "  'ZygosityGT': ' ',\n",
       "  'ov_ob': 'no'},\n",
       " 510326: {'Age_in_Yrs': 29,\n",
       "  'BMI': 27.29,\n",
       "  'Ethnicity': 'Not Hispanic/Latino',\n",
       "  'Father_ID': 81553,\n",
       "  'HbA1C': 5.1,\n",
       "  'Hyperthyroidism': 0.0,\n",
       "  'Hypothyroidism': 0.0,\n",
       "  'Mother_ID': 51689,\n",
       "  'OtherEndocrn_Prob': 0.0,\n",
       "  'Race': 'White',\n",
       "  'ZygosityGT': ' ',\n",
       "  'ov_ob': 'ov'},\n",
       " 513736: {'Age_in_Yrs': 25,\n",
       "  'BMI': 20.67,\n",
       "  'Ethnicity': 'Not Hispanic/Latino',\n",
       "  'Father_ID': 84456,\n",
       "  'HbA1C': 5.3,\n",
       "  'Hyperthyroidism': 0.0,\n",
       "  'Hypothyroidism': 0.0,\n",
       "  'Mother_ID': 54634,\n",
       "  'OtherEndocrn_Prob': 0.0,\n",
       "  'Race': 'Asian/Nat. Hawaiian/Othr Pacific Is.',\n",
       "  'ZygosityGT': ' ',\n",
       "  'ov_ob': 'no'},\n",
       " 516742: {'Age_in_Yrs': 31,\n",
       "  'BMI': 24.82,\n",
       "  'Ethnicity': 'Not Hispanic/Latino',\n",
       "  'Father_ID': 99990,\n",
       "  'HbA1C': 4.6,\n",
       "  'Hyperthyroidism': nan,\n",
       "  'Hypothyroidism': nan,\n",
       "  'Mother_ID': 99989,\n",
       "  'OtherEndocrn_Prob': nan,\n",
       "  'Race': 'White',\n",
       "  'ZygosityGT': ' ',\n",
       "  'ov_ob': 'no'},\n",
       " 518746: {'Age_in_Yrs': 25,\n",
       "  'BMI': 32.1,\n",
       "  'Ethnicity': 'Unknown or Not Reported',\n",
       "  'Father_ID': 85736,\n",
       "  'HbA1C': 5.2,\n",
       "  'Hyperthyroidism': nan,\n",
       "  'Hypothyroidism': nan,\n",
       "  'Mother_ID': 55916,\n",
       "  'OtherEndocrn_Prob': nan,\n",
       "  'Race': 'White',\n",
       "  'ZygosityGT': ' ',\n",
       "  'ov_ob': 'ob'},\n",
       " 529549: {'Age_in_Yrs': 26,\n",
       "  'BMI': 20.36,\n",
       "  'Ethnicity': 'Not Hispanic/Latino',\n",
       "  'Father_ID': 84466,\n",
       "  'HbA1C': 5.3,\n",
       "  'Hyperthyroidism': 0.0,\n",
       "  'Hypothyroidism': 0.0,\n",
       "  'Mother_ID': 54644,\n",
       "  'OtherEndocrn_Prob': 0.0,\n",
       "  'Race': 'Asian/Nat. Hawaiian/Othr Pacific Is.',\n",
       "  'ZygosityGT': ' ',\n",
       "  'ov_ob': 'no'},\n",
       " 529953: {'Age_in_Yrs': 26,\n",
       "  'BMI': 27.89,\n",
       "  'Ethnicity': 'Not Hispanic/Latino',\n",
       "  'Father_ID': 85644,\n",
       "  'HbA1C': nan,\n",
       "  'Hyperthyroidism': nan,\n",
       "  'Hypothyroidism': nan,\n",
       "  'Mother_ID': 55823,\n",
       "  'OtherEndocrn_Prob': nan,\n",
       "  'Race': 'White',\n",
       "  'ZygosityGT': ' ',\n",
       "  'ov_ob': 'ov'},\n",
       " 550035: {'Age_in_Yrs': 27,\n",
       "  'BMI': 30.87,\n",
       "  'Ethnicity': 'Not Hispanic/Latino',\n",
       "  'Father_ID': 85775,\n",
       "  'HbA1C': 5.2,\n",
       "  'Hyperthyroidism': nan,\n",
       "  'Hypothyroidism': nan,\n",
       "  'Mother_ID': 55955,\n",
       "  'OtherEndocrn_Prob': nan,\n",
       "  'Race': 'White',\n",
       "  'ZygosityGT': ' ',\n",
       "  'ov_ob': 'ob'},\n",
       " 553344: {'Age_in_Yrs': 33,\n",
       "  'BMI': 22.83,\n",
       "  'Ethnicity': 'Not Hispanic/Latino',\n",
       "  'Father_ID': 81227,\n",
       "  'HbA1C': 5.0,\n",
       "  'Hyperthyroidism': 0.0,\n",
       "  'Hypothyroidism': 0.0,\n",
       "  'Mother_ID': 51362,\n",
       "  'OtherEndocrn_Prob': 0.0,\n",
       "  'Race': 'White',\n",
       "  'ZygosityGT': ' ',\n",
       "  'ov_ob': 'no'},\n",
       " 555651: {'Age_in_Yrs': 34,\n",
       "  'BMI': 19.97,\n",
       "  'Ethnicity': 'Not Hispanic/Latino',\n",
       "  'Father_ID': 83129,\n",
       "  'HbA1C': 4.8,\n",
       "  'Hyperthyroidism': 0.0,\n",
       "  'Hypothyroidism': 0.0,\n",
       "  'Mother_ID': 53307,\n",
       "  'OtherEndocrn_Prob': 0.0,\n",
       "  'Race': 'Asian/Nat. Hawaiian/Othr Pacific Is.',\n",
       "  'ZygosityGT': ' ',\n",
       "  'ov_ob': 'no'},\n",
       " 555954: {'Age_in_Yrs': 29,\n",
       "  'BMI': 29.7,\n",
       "  'Ethnicity': 'Not Hispanic/Latino',\n",
       "  'Father_ID': 82109,\n",
       "  'HbA1C': 5.5,\n",
       "  'Hyperthyroidism': nan,\n",
       "  'Hypothyroidism': nan,\n",
       "  'Mother_ID': 52246,\n",
       "  'OtherEndocrn_Prob': nan,\n",
       "  'Race': 'White',\n",
       "  'ZygosityGT': ' ',\n",
       "  'ov_ob': 'ov'},\n",
       " 558960: {'Age_in_Yrs': 33,\n",
       "  'BMI': 22.96,\n",
       "  'Ethnicity': 'Not Hispanic/Latino',\n",
       "  'Father_ID': 85646,\n",
       "  'HbA1C': nan,\n",
       "  'Hyperthyroidism': 0.0,\n",
       "  'Hypothyroidism': 0.0,\n",
       "  'Mother_ID': 55825,\n",
       "  'OtherEndocrn_Prob': 0.0,\n",
       "  'Race': 'White',\n",
       "  'ZygosityGT': ' ',\n",
       "  'ov_ob': 'no'},\n",
       " 561444: {'Age_in_Yrs': 23,\n",
       "  'BMI': 22.87,\n",
       "  'Ethnicity': 'Not Hispanic/Latino',\n",
       "  'Father_ID': 82856,\n",
       "  'HbA1C': 5.4,\n",
       "  'Hyperthyroidism': nan,\n",
       "  'Hypothyroidism': nan,\n",
       "  'Mother_ID': 53034,\n",
       "  'OtherEndocrn_Prob': nan,\n",
       "  'Race': 'Asian/Nat. Hawaiian/Othr Pacific Is.',\n",
       "  'ZygosityGT': ' ',\n",
       "  'ov_ob': 'no'},\n",
       " 567759: {'Age_in_Yrs': 30,\n",
       "  'BMI': 24.12,\n",
       "  'Ethnicity': 'Not Hispanic/Latino',\n",
       "  'Father_ID': 82036,\n",
       "  'HbA1C': nan,\n",
       "  'Hyperthyroidism': 0.0,\n",
       "  'Hypothyroidism': 0.0,\n",
       "  'Mother_ID': 52173,\n",
       "  'OtherEndocrn_Prob': 0.0,\n",
       "  'Race': 'White',\n",
       "  'ZygosityGT': ' ',\n",
       "  'ov_ob': 'no'},\n",
       " 569864: {'Age_in_Yrs': 27,\n",
       "  'BMI': 23.08,\n",
       "  'Ethnicity': 'Not Hispanic/Latino',\n",
       "  'Father_ID': 81416,\n",
       "  'HbA1C': 5.1,\n",
       "  'Hyperthyroidism': 0.0,\n",
       "  'Hypothyroidism': 0.0,\n",
       "  'Mother_ID': 51552,\n",
       "  'OtherEndocrn_Prob': 0.0,\n",
       "  'Race': 'White',\n",
       "  'ZygosityGT': ' ',\n",
       "  'ov_ob': 'no'},\n",
       " 569965: {'Age_in_Yrs': 31,\n",
       "  'BMI': 31.63,\n",
       "  'Ethnicity': 'Not Hispanic/Latino',\n",
       "  'Father_ID': 82097,\n",
       "  'HbA1C': 5.0,\n",
       "  'Hyperthyroidism': 0.0,\n",
       "  'Hypothyroidism': 0.0,\n",
       "  'Mother_ID': 52234,\n",
       "  'OtherEndocrn_Prob': 0.0,\n",
       "  'Race': 'White',\n",
       "  'ZygosityGT': ' ',\n",
       "  'ov_ob': 'ob'},\n",
       " 571144: {'Age_in_Yrs': 25,\n",
       "  'BMI': 23.32,\n",
       "  'Ethnicity': 'Hispanic/Latino',\n",
       "  'Father_ID': 80310,\n",
       "  'HbA1C': 4.9,\n",
       "  'Hyperthyroidism': nan,\n",
       "  'Hypothyroidism': nan,\n",
       "  'Mother_ID': 50371,\n",
       "  'OtherEndocrn_Prob': nan,\n",
       "  'Race': 'White',\n",
       "  'ZygosityGT': ' ',\n",
       "  'ov_ob': 'no'},\n",
       " 574958: {'Age_in_Yrs': 35,\n",
       "  'BMI': 37.02,\n",
       "  'Ethnicity': 'Not Hispanic/Latino',\n",
       "  'Father_ID': 84410,\n",
       "  'HbA1C': nan,\n",
       "  'Hyperthyroidism': nan,\n",
       "  'Hypothyroidism': nan,\n",
       "  'Mother_ID': 54588,\n",
       "  'OtherEndocrn_Prob': nan,\n",
       "  'Race': 'Asian/Nat. Hawaiian/Othr Pacific Is.',\n",
       "  'ZygosityGT': ' ',\n",
       "  'ov_ob': 'ob'},\n",
       " 576255: {'Age_in_Yrs': 35,\n",
       "  'BMI': 42.91,\n",
       "  'Ethnicity': 'Not Hispanic/Latino',\n",
       "  'Father_ID': 82725,\n",
       "  'HbA1C': nan,\n",
       "  'Hyperthyroidism': 0.0,\n",
       "  'Hypothyroidism': 0.0,\n",
       "  'Mother_ID': 52903,\n",
       "  'OtherEndocrn_Prob': 0.0,\n",
       "  'Race': 'White',\n",
       "  'ZygosityGT': ' ',\n",
       "  'ov_ob': 'ob'},\n",
       " 580347: {'Age_in_Yrs': 28,\n",
       "  'BMI': 23.29,\n",
       "  'Ethnicity': 'Not Hispanic/Latino',\n",
       "  'Father_ID': 81440,\n",
       "  'HbA1C': 5.3,\n",
       "  'Hyperthyroidism': 0.0,\n",
       "  'Hypothyroidism': 0.0,\n",
       "  'Mother_ID': 51576,\n",
       "  'OtherEndocrn_Prob': 0.0,\n",
       "  'Race': 'White',\n",
       "  'ZygosityGT': ' ',\n",
       "  'ov_ob': 'no'},\n",
       " 580751: {'Age_in_Yrs': 24,\n",
       "  'BMI': 25.29,\n",
       "  'Ethnicity': 'Not Hispanic/Latino',\n",
       "  'Father_ID': 82791,\n",
       "  'HbA1C': nan,\n",
       "  'Hyperthyroidism': nan,\n",
       "  'Hypothyroidism': nan,\n",
       "  'Mother_ID': 52969,\n",
       "  'OtherEndocrn_Prob': nan,\n",
       "  'Race': 'Asian/Nat. Hawaiian/Othr Pacific Is.',\n",
       "  'ZygosityGT': ' ',\n",
       "  'ov_ob': 'ov'},\n",
       " 583858: {'Age_in_Yrs': 32,\n",
       "  'BMI': 27.32,\n",
       "  'Ethnicity': 'Not Hispanic/Latino',\n",
       "  'Father_ID': 81536,\n",
       "  'HbA1C': 4.8,\n",
       "  'Hyperthyroidism': nan,\n",
       "  'Hypothyroidism': nan,\n",
       "  'Mother_ID': 51672,\n",
       "  'OtherEndocrn_Prob': nan,\n",
       "  'Race': 'White',\n",
       "  'ZygosityGT': ' ',\n",
       "  'ov_ob': 'ov'},\n",
       " 584355: {'Age_in_Yrs': 33,\n",
       "  'BMI': 36.72,\n",
       "  'Ethnicity': 'Not Hispanic/Latino',\n",
       "  'Father_ID': 82211,\n",
       "  'HbA1C': 5.6,\n",
       "  'Hyperthyroidism': nan,\n",
       "  'Hypothyroidism': nan,\n",
       "  'Mother_ID': 52348,\n",
       "  'OtherEndocrn_Prob': nan,\n",
       "  'Race': 'White',\n",
       "  'ZygosityGT': ' ',\n",
       "  'ov_ob': 'ob'},\n",
       " 588565: {'Age_in_Yrs': 33,\n",
       "  'BMI': 26.78,\n",
       "  'Ethnicity': 'Not Hispanic/Latino',\n",
       "  'Father_ID': 85553,\n",
       "  'HbA1C': 5.1,\n",
       "  'Hyperthyroidism': nan,\n",
       "  'Hypothyroidism': nan,\n",
       "  'Mother_ID': 55732,\n",
       "  'OtherEndocrn_Prob': nan,\n",
       "  'Race': 'White',\n",
       "  'ZygosityGT': ' ',\n",
       "  'ov_ob': 'ov'},\n",
       " 589567: {'Age_in_Yrs': 25,\n",
       "  'BMI': 31.3,\n",
       "  'Ethnicity': 'Hispanic/Latino',\n",
       "  'Father_ID': 80340,\n",
       "  'HbA1C': 5.0,\n",
       "  'Hyperthyroidism': nan,\n",
       "  'Hypothyroidism': nan,\n",
       "  'Mother_ID': 50406,\n",
       "  'OtherEndocrn_Prob': nan,\n",
       "  'Race': 'Unknown or Not Reported',\n",
       "  'ZygosityGT': ' ',\n",
       "  'ov_ob': 'ob'},\n",
       " 592455: {'Age_in_Yrs': 35,\n",
       "  'BMI': 37.25,\n",
       "  'Ethnicity': 'Not Hispanic/Latino',\n",
       "  'Father_ID': 81633,\n",
       "  'HbA1C': 5.4,\n",
       "  'Hyperthyroidism': nan,\n",
       "  'Hypothyroidism': nan,\n",
       "  'Mother_ID': 51769,\n",
       "  'OtherEndocrn_Prob': nan,\n",
       "  'Race': 'White',\n",
       "  'ZygosityGT': ' ',\n",
       "  'ov_ob': 'ob'},\n",
       " 609143: {'Age_in_Yrs': 32,\n",
       "  'BMI': 41.03,\n",
       "  'Ethnicity': 'Not Hispanic/Latino',\n",
       "  'Father_ID': 85590,\n",
       "  'HbA1C': 5.4,\n",
       "  'Hyperthyroidism': 0.0,\n",
       "  'Hypothyroidism': 0.0,\n",
       "  'Mother_ID': 55769,\n",
       "  'OtherEndocrn_Prob': 0.0,\n",
       "  'Race': 'White',\n",
       "  'ZygosityGT': ' ',\n",
       "  'ov_ob': 'ob'},\n",
       " 611231: {'Age_in_Yrs': 34,\n",
       "  'BMI': 32.27,\n",
       "  'Ethnicity': 'Not Hispanic/Latino',\n",
       "  'Father_ID': 82526,\n",
       "  'HbA1C': nan,\n",
       "  'Hyperthyroidism': 0.0,\n",
       "  'Hypothyroidism': 0.0,\n",
       "  'Mother_ID': 51354,\n",
       "  'OtherEndocrn_Prob': 0.0,\n",
       "  'Race': 'Black or African Am.',\n",
       "  'ZygosityGT': ' ',\n",
       "  'ov_ob': 'ob'},\n",
       " 613235: {'Age_in_Yrs': 28,\n",
       "  'BMI': 20.47,\n",
       "  'Ethnicity': 'Not Hispanic/Latino',\n",
       "  'Father_ID': 85614,\n",
       "  'HbA1C': 5.2,\n",
       "  'Hyperthyroidism': 0.0,\n",
       "  'Hypothyroidism': 0.0,\n",
       "  'Mother_ID': 55793,\n",
       "  'OtherEndocrn_Prob': 0.0,\n",
       "  'Race': 'White',\n",
       "  'ZygosityGT': ' ',\n",
       "  'ov_ob': 'no'},\n",
       " 616645: {'Age_in_Yrs': 25,\n",
       "  'BMI': 21.95,\n",
       "  'Ethnicity': 'Not Hispanic/Latino',\n",
       "  'Father_ID': 86019,\n",
       "  'HbA1C': 4.9,\n",
       "  'Hyperthyroidism': nan,\n",
       "  'Hypothyroidism': nan,\n",
       "  'Mother_ID': 56200,\n",
       "  'OtherEndocrn_Prob': nan,\n",
       "  'Race': 'White',\n",
       "  'ZygosityGT': ' ',\n",
       "  'ov_ob': 'no'},\n",
       " 618952: {'Age_in_Yrs': 22,\n",
       "  'BMI': 25.48,\n",
       "  'Ethnicity': 'Not Hispanic/Latino',\n",
       "  'Father_ID': 86021,\n",
       "  'HbA1C': 5.0,\n",
       "  'Hyperthyroidism': nan,\n",
       "  'Hypothyroidism': nan,\n",
       "  'Mother_ID': 56202,\n",
       "  'OtherEndocrn_Prob': nan,\n",
       "  'Race': 'White',\n",
       "  'ZygosityGT': ' ',\n",
       "  'ov_ob': 'ov'},\n",
       " 622236: {'Age_in_Yrs': 23,\n",
       "  'BMI': 23.32,\n",
       "  'Ethnicity': 'Not Hispanic/Latino',\n",
       "  'Father_ID': 81924,\n",
       "  'HbA1C': 5.3,\n",
       "  'Hyperthyroidism': nan,\n",
       "  'Hypothyroidism': nan,\n",
       "  'Mother_ID': 52060,\n",
       "  'OtherEndocrn_Prob': nan,\n",
       "  'Race': 'White',\n",
       "  'ZygosityGT': ' ',\n",
       "  'ov_ob': 'no'},\n",
       " 623137: {'Age_in_Yrs': 35,\n",
       "  'BMI': 23.08,\n",
       "  'Ethnicity': 'Not Hispanic/Latino',\n",
       "  'Father_ID': 82731,\n",
       "  'HbA1C': 4.6,\n",
       "  'Hyperthyroidism': 0.0,\n",
       "  'Hypothyroidism': 0.0,\n",
       "  'Mother_ID': 52909,\n",
       "  'OtherEndocrn_Prob': 0.0,\n",
       "  'Race': 'White',\n",
       "  'ZygosityGT': ' ',\n",
       "  'ov_ob': 'no'},\n",
       " 628248: {'Age_in_Yrs': 26,\n",
       "  'BMI': 29.56,\n",
       "  'Ethnicity': 'Not Hispanic/Latino',\n",
       "  'Father_ID': 85772,\n",
       "  'HbA1C': 5.6,\n",
       "  'Hyperthyroidism': nan,\n",
       "  'Hypothyroidism': nan,\n",
       "  'Mother_ID': 55952,\n",
       "  'OtherEndocrn_Prob': nan,\n",
       "  'Race': 'White',\n",
       "  'ZygosityGT': ' ',\n",
       "  'ov_ob': 'ov'},\n",
       " 630134: {'Age_in_Yrs': 31,\n",
       "  'BMI': 23.49,\n",
       "  'Ethnicity': 'Not Hispanic/Latino',\n",
       "  'Father_ID': 85955,\n",
       "  'HbA1C': nan,\n",
       "  'Hyperthyroidism': 0.0,\n",
       "  'Hypothyroidism': 0.0,\n",
       "  'Mother_ID': 56135,\n",
       "  'OtherEndocrn_Prob': 0.0,\n",
       "  'Race': 'White',\n",
       "  'ZygosityGT': ' ',\n",
       "  'ov_ob': 'no'},\n",
       " 645450: {'Age_in_Yrs': 30,\n",
       "  'BMI': 27.63,\n",
       "  'Ethnicity': 'Not Hispanic/Latino',\n",
       "  'Father_ID': 81166,\n",
       "  'HbA1C': 5.3,\n",
       "  'Hyperthyroidism': 0.0,\n",
       "  'Hypothyroidism': 0.0,\n",
       "  'Mother_ID': 51300,\n",
       "  'OtherEndocrn_Prob': 0.0,\n",
       "  'Race': 'White',\n",
       "  'ZygosityGT': ' ',\n",
       "  'ov_ob': 'ov'},\n",
       " 645551: {'Age_in_Yrs': 25,\n",
       "  'BMI': 21.46,\n",
       "  'Ethnicity': 'Hispanic/Latino',\n",
       "  'Father_ID': 81697,\n",
       "  'HbA1C': 4.9,\n",
       "  'Hyperthyroidism': 0.0,\n",
       "  'Hypothyroidism': 0.0,\n",
       "  'Mother_ID': 51833,\n",
       "  'OtherEndocrn_Prob': 0.0,\n",
       "  'Race': 'White',\n",
       "  'ZygosityGT': ' ',\n",
       "  'ov_ob': 'no'},\n",
       " 650746: {'Age_in_Yrs': 28,\n",
       "  'BMI': 28.28,\n",
       "  'Ethnicity': 'Not Hispanic/Latino',\n",
       "  'Father_ID': 99988,\n",
       "  'HbA1C': 5.1,\n",
       "  'Hyperthyroidism': nan,\n",
       "  'Hypothyroidism': nan,\n",
       "  'Mother_ID': 99987,\n",
       "  'OtherEndocrn_Prob': nan,\n",
       "  'Race': 'White',\n",
       "  'ZygosityGT': ' ',\n",
       "  'ov_ob': 'ov'},\n",
       " 654754: {'Age_in_Yrs': 34,\n",
       "  'BMI': 23.96,\n",
       "  'Ethnicity': 'Not Hispanic/Latino',\n",
       "  'Father_ID': 81283,\n",
       "  'HbA1C': nan,\n",
       "  'Hyperthyroidism': 0.0,\n",
       "  'Hypothyroidism': 0.0,\n",
       "  'Mother_ID': 51418,\n",
       "  'OtherEndocrn_Prob': 0.0,\n",
       "  'Race': 'Black or African Am.',\n",
       "  'ZygosityGT': ' ',\n",
       "  'ov_ob': 'no'},\n",
       " 656253: {'Age_in_Yrs': 28,\n",
       "  'BMI': 27.94,\n",
       "  'Ethnicity': 'Not Hispanic/Latino',\n",
       "  'Father_ID': 81554,\n",
       "  'HbA1C': 5.5,\n",
       "  'Hyperthyroidism': nan,\n",
       "  'Hypothyroidism': nan,\n",
       "  'Mother_ID': 51690,\n",
       "  'OtherEndocrn_Prob': nan,\n",
       "  'Race': 'White',\n",
       "  'ZygosityGT': ' ',\n",
       "  'ov_ob': 'ov'},\n",
       " 672756: {'Age_in_Yrs': 33,\n",
       "  'BMI': 30.54,\n",
       "  'Ethnicity': 'Not Hispanic/Latino',\n",
       "  'Father_ID': 81210,\n",
       "  'HbA1C': nan,\n",
       "  'Hyperthyroidism': nan,\n",
       "  'Hypothyroidism': nan,\n",
       "  'Mother_ID': 51345,\n",
       "  'OtherEndocrn_Prob': nan,\n",
       "  'Race': 'White',\n",
       "  'ZygosityGT': ' ',\n",
       "  'ov_ob': 'ob'},\n",
       " 685058: {'Age_in_Yrs': 33,\n",
       "  'BMI': 27.12,\n",
       "  'Ethnicity': 'Not Hispanic/Latino',\n",
       "  'Father_ID': 81232,\n",
       "  'HbA1C': nan,\n",
       "  'Hyperthyroidism': nan,\n",
       "  'Hypothyroidism': nan,\n",
       "  'Mother_ID': 51367,\n",
       "  'OtherEndocrn_Prob': nan,\n",
       "  'Race': 'White',\n",
       "  'ZygosityGT': ' ',\n",
       "  'ov_ob': 'ov'},\n",
       " 689470: {'Age_in_Yrs': 36,\n",
       "  'BMI': 22.73,\n",
       "  'Ethnicity': 'Not Hispanic/Latino',\n",
       "  'Father_ID': 81570,\n",
       "  'HbA1C': 4.9,\n",
       "  'Hyperthyroidism': nan,\n",
       "  'Hypothyroidism': nan,\n",
       "  'Mother_ID': 51706,\n",
       "  'OtherEndocrn_Prob': nan,\n",
       "  'Race': 'White',\n",
       "  'ZygosityGT': ' ',\n",
       "  'ov_ob': 'no'},\n",
       " 700634: {'Age_in_Yrs': 30,\n",
       "  'BMI': 30.27,\n",
       "  'Ethnicity': 'Not Hispanic/Latino',\n",
       "  'Father_ID': 82578,\n",
       "  'HbA1C': 5.2,\n",
       "  'Hyperthyroidism': nan,\n",
       "  'Hypothyroidism': nan,\n",
       "  'Mother_ID': 52757,\n",
       "  'OtherEndocrn_Prob': nan,\n",
       "  'Race': 'White',\n",
       "  'ZygosityGT': ' ',\n",
       "  'ov_ob': 'ob'},\n",
       " 701535: {'Age_in_Yrs': 33,\n",
       "  'BMI': 22.67,\n",
       "  'Ethnicity': 'Not Hispanic/Latino',\n",
       "  'Father_ID': 84482,\n",
       "  'HbA1C': 4.8,\n",
       "  'Hyperthyroidism': 0.0,\n",
       "  'Hypothyroidism': 0.0,\n",
       "  'Mother_ID': 54660,\n",
       "  'OtherEndocrn_Prob': 0.0,\n",
       "  'Race': 'Asian/Nat. Hawaiian/Othr Pacific Is.',\n",
       "  'ZygosityGT': ' ',\n",
       "  'ov_ob': 'no'},\n",
       " 704238: {'Age_in_Yrs': 26,\n",
       "  'BMI': 19.6,\n",
       "  'Ethnicity': 'Not Hispanic/Latino',\n",
       "  'Father_ID': 81579,\n",
       "  'HbA1C': 4.8,\n",
       "  'Hyperthyroidism': nan,\n",
       "  'Hypothyroidism': nan,\n",
       "  'Mother_ID': 51715,\n",
       "  'OtherEndocrn_Prob': nan,\n",
       "  'Race': 'White',\n",
       "  'ZygosityGT': ' ',\n",
       "  'ov_ob': 'no'},\n",
       " 715041: {'Age_in_Yrs': 32,\n",
       "  'BMI': 22.39,\n",
       "  'Ethnicity': 'Not Hispanic/Latino',\n",
       "  'Father_ID': 99981,\n",
       "  'HbA1C': nan,\n",
       "  'Hyperthyroidism': 0.0,\n",
       "  'Hypothyroidism': 0.0,\n",
       "  'Mother_ID': 51627,\n",
       "  'OtherEndocrn_Prob': 0.0,\n",
       "  'Race': 'Black or African Am.',\n",
       "  'ZygosityGT': ' ',\n",
       "  'ov_ob': 'no'},\n",
       " 727553: {'Age_in_Yrs': 27,\n",
       "  'BMI': 22.13,\n",
       "  'Ethnicity': 'Not Hispanic/Latino',\n",
       "  'Father_ID': 81425,\n",
       "  'HbA1C': nan,\n",
       "  'Hyperthyroidism': 0.0,\n",
       "  'Hypothyroidism': 0.0,\n",
       "  'Mother_ID': 51561,\n",
       "  'OtherEndocrn_Prob': 0.0,\n",
       "  'Race': 'White',\n",
       "  'ZygosityGT': ' ',\n",
       "  'ov_ob': 'no'},\n",
       " 729557: {'Age_in_Yrs': 24,\n",
       "  'BMI': 22.08,\n",
       "  'Ethnicity': 'Not Hispanic/Latino',\n",
       "  'Father_ID': 81265,\n",
       "  'HbA1C': nan,\n",
       "  'Hyperthyroidism': 0.0,\n",
       "  'Hypothyroidism': 0.0,\n",
       "  'Mother_ID': 51400,\n",
       "  'OtherEndocrn_Prob': 0.0,\n",
       "  'Race': 'Black or African Am.',\n",
       "  'ZygosityGT': ' ',\n",
       "  'ov_ob': 'no'},\n",
       " 734045: {'Age_in_Yrs': 23,\n",
       "  'BMI': 27.47,\n",
       "  'Ethnicity': 'Not Hispanic/Latino',\n",
       "  'Father_ID': 81673,\n",
       "  'HbA1C': nan,\n",
       "  'Hyperthyroidism': nan,\n",
       "  'Hypothyroidism': nan,\n",
       "  'Mother_ID': 51809,\n",
       "  'OtherEndocrn_Prob': nan,\n",
       "  'Race': 'White',\n",
       "  'ZygosityGT': ' ',\n",
       "  'ov_ob': 'ov'},\n",
       " 748258: {'Age_in_Yrs': 25,\n",
       "  'BMI': 28.45,\n",
       "  'Ethnicity': 'Not Hispanic/Latino',\n",
       "  'Father_ID': 81159,\n",
       "  'HbA1C': 5.1,\n",
       "  'Hyperthyroidism': 0.0,\n",
       "  'Hypothyroidism': 0.0,\n",
       "  'Mother_ID': 51293,\n",
       "  'OtherEndocrn_Prob': 0.0,\n",
       "  'Race': 'White',\n",
       "  'ZygosityGT': ' ',\n",
       "  'ov_ob': 'ov'},\n",
       " 748662: {'Age_in_Yrs': 33,\n",
       "  'BMI': 34.76,\n",
       "  'Ethnicity': 'Hispanic/Latino',\n",
       "  'Father_ID': 81878,\n",
       "  'HbA1C': 5.3,\n",
       "  'Hyperthyroidism': 0.0,\n",
       "  'Hypothyroidism': 0.0,\n",
       "  'Mother_ID': 52014,\n",
       "  'OtherEndocrn_Prob': 0.0,\n",
       "  'Race': 'White',\n",
       "  'ZygosityGT': ' ',\n",
       "  'ov_ob': 'ob'},\n",
       " 749361: {'Age_in_Yrs': 29,\n",
       "  'BMI': 23.63,\n",
       "  'Ethnicity': 'Not Hispanic/Latino',\n",
       "  'Father_ID': 82285,\n",
       "  'HbA1C': 5.5,\n",
       "  'Hyperthyroidism': 0.0,\n",
       "  'Hypothyroidism': 0.0,\n",
       "  'Mother_ID': 52442,\n",
       "  'OtherEndocrn_Prob': 0.0,\n",
       "  'Race': 'Black or African Am.',\n",
       "  'ZygosityGT': ' ',\n",
       "  'ov_ob': 'no'},\n",
       " 753251: {'Age_in_Yrs': 29,\n",
       "  'BMI': 34.86,\n",
       "  'Ethnicity': 'Not Hispanic/Latino',\n",
       "  'Father_ID': 81359,\n",
       "  'HbA1C': 5.3,\n",
       "  'Hyperthyroidism': nan,\n",
       "  'Hypothyroidism': nan,\n",
       "  'Mother_ID': 51495,\n",
       "  'OtherEndocrn_Prob': nan,\n",
       "  'Race': 'White',\n",
       "  'ZygosityGT': ' ',\n",
       "  'ov_ob': 'ob'},\n",
       " 774663: {'Age_in_Yrs': 28,\n",
       "  'BMI': 25.53,\n",
       "  'Ethnicity': 'Not Hispanic/Latino',\n",
       "  'Father_ID': 85762,\n",
       "  'HbA1C': 5.1,\n",
       "  'Hyperthyroidism': nan,\n",
       "  'Hypothyroidism': nan,\n",
       "  'Mother_ID': 55942,\n",
       "  'OtherEndocrn_Prob': nan,\n",
       "  'Race': 'White',\n",
       "  'ZygosityGT': ' ',\n",
       "  'ov_ob': 'ov'},\n",
       " 786569: {'Age_in_Yrs': 34,\n",
       "  'BMI': 26.52,\n",
       "  'Ethnicity': 'Not Hispanic/Latino',\n",
       "  'Father_ID': 82161,\n",
       "  'HbA1C': 5.3,\n",
       "  'Hyperthyroidism': 0.0,\n",
       "  'Hypothyroidism': 0.0,\n",
       "  'Mother_ID': 52298,\n",
       "  'OtherEndocrn_Prob': 0.0,\n",
       "  'Race': 'White',\n",
       "  'ZygosityGT': ' ',\n",
       "  'ov_ob': 'ov'},\n",
       " 792766: {'Age_in_Yrs': 32,\n",
       "  'BMI': 29.43,\n",
       "  'Ethnicity': 'Not Hispanic/Latino',\n",
       "  'Father_ID': 81566,\n",
       "  'HbA1C': 5.4,\n",
       "  'Hyperthyroidism': nan,\n",
       "  'Hypothyroidism': nan,\n",
       "  'Mother_ID': 51702,\n",
       "  'OtherEndocrn_Prob': nan,\n",
       "  'Race': 'White',\n",
       "  'ZygosityGT': ' ',\n",
       "  'ov_ob': 'ov'},\n",
       " 802844: {'Age_in_Yrs': 25,\n",
       "  'BMI': 24.63,\n",
       "  'Ethnicity': 'Not Hispanic/Latino',\n",
       "  'Father_ID': 81491,\n",
       "  'HbA1C': 5.7,\n",
       "  'Hyperthyroidism': 0.0,\n",
       "  'Hypothyroidism': 0.0,\n",
       "  'Mother_ID': 51627,\n",
       "  'OtherEndocrn_Prob': 0.0,\n",
       "  'Race': 'Black or African Am.',\n",
       "  'ZygosityGT': ' ',\n",
       "  'ov_ob': 'no'},\n",
       " 809252: {'Age_in_Yrs': 27,\n",
       "  'BMI': 25.09,\n",
       "  'Ethnicity': 'Not Hispanic/Latino',\n",
       "  'Father_ID': 86002,\n",
       "  'HbA1C': 5.2,\n",
       "  'Hyperthyroidism': 0.0,\n",
       "  'Hypothyroidism': 0.0,\n",
       "  'Mother_ID': 56183,\n",
       "  'OtherEndocrn_Prob': 0.0,\n",
       "  'Race': 'White',\n",
       "  'ZygosityGT': ' ',\n",
       "  'ov_ob': 'ov'},\n",
       " 810843: {'Age_in_Yrs': 34,\n",
       "  'BMI': 32.49,\n",
       "  'Ethnicity': 'Not Hispanic/Latino',\n",
       "  'Father_ID': 85961,\n",
       "  'HbA1C': 5.3,\n",
       "  'Hyperthyroidism': nan,\n",
       "  'Hypothyroidism': nan,\n",
       "  'Mother_ID': 56141,\n",
       "  'OtherEndocrn_Prob': nan,\n",
       "  'Race': 'White',\n",
       "  'ZygosityGT': ' ',\n",
       "  'ov_ob': 'ob'},\n",
       " 816653: {'Age_in_Yrs': 23,\n",
       "  'BMI': 26.88,\n",
       "  'Ethnicity': 'Not Hispanic/Latino',\n",
       "  'Father_ID': 82189,\n",
       "  'HbA1C': 5.1,\n",
       "  'Hyperthyroidism': 0.0,\n",
       "  'Hypothyroidism': 0.0,\n",
       "  'Mother_ID': 52326,\n",
       "  'OtherEndocrn_Prob': 0.0,\n",
       "  'Race': 'White',\n",
       "  'ZygosityGT': ' ',\n",
       "  'ov_ob': 'ov'},\n",
       " 818455: {'Age_in_Yrs': 32,\n",
       "  'BMI': 30.1,\n",
       "  'Ethnicity': 'Not Hispanic/Latino',\n",
       "  'Father_ID': 82634,\n",
       "  'HbA1C': 5.4,\n",
       "  'Hyperthyroidism': nan,\n",
       "  'Hypothyroidism': nan,\n",
       "  'Mother_ID': 52813,\n",
       "  'OtherEndocrn_Prob': nan,\n",
       "  'Race': 'White',\n",
       "  'ZygosityGT': ' ',\n",
       "  'ov_ob': 'ob'},\n",
       " 835657: {'Age_in_Yrs': 32,\n",
       "  'BMI': 24.29,\n",
       "  'Ethnicity': 'Not Hispanic/Latino',\n",
       "  'Father_ID': 82001,\n",
       "  'HbA1C': nan,\n",
       "  'Hyperthyroidism': 0.0,\n",
       "  'Hypothyroidism': 0.0,\n",
       "  'Mother_ID': 52137,\n",
       "  'OtherEndocrn_Prob': 0.0,\n",
       "  'Race': 'White',\n",
       "  'ZygosityGT': ' ',\n",
       "  'ov_ob': 'no'},\n",
       " 837560: {'Age_in_Yrs': 30,\n",
       "  'BMI': 23.46,\n",
       "  'Ethnicity': 'Not Hispanic/Latino',\n",
       "  'Father_ID': 82307,\n",
       "  'HbA1C': 5.2,\n",
       "  'Hyperthyroidism': nan,\n",
       "  'Hypothyroidism': nan,\n",
       "  'Mother_ID': 52467,\n",
       "  'OtherEndocrn_Prob': nan,\n",
       "  'Race': 'Black or African Am.',\n",
       "  'ZygosityGT': ' ',\n",
       "  'ov_ob': 'no'},\n",
       " 841349: {'Age_in_Yrs': 27,\n",
       "  'BMI': 26.62,\n",
       "  'Ethnicity': 'Not Hispanic/Latino',\n",
       "  'Father_ID': 85784,\n",
       "  'HbA1C': nan,\n",
       "  'Hyperthyroidism': 0.0,\n",
       "  'Hypothyroidism': 0.0,\n",
       "  'Mother_ID': 55963,\n",
       "  'OtherEndocrn_Prob': 0.0,\n",
       "  'Race': 'White',\n",
       "  'ZygosityGT': ' ',\n",
       "  'ov_ob': 'ov'},\n",
       " 849264: {'Age_in_Yrs': 32,\n",
       "  'BMI': 27.62,\n",
       "  'Ethnicity': 'Unknown or Not Reported',\n",
       "  'Father_ID': 99972,\n",
       "  'HbA1C': 5.4,\n",
       "  'Hyperthyroidism': 0.0,\n",
       "  'Hypothyroidism': 0.0,\n",
       "  'Mother_ID': 56096,\n",
       "  'OtherEndocrn_Prob': 0.0,\n",
       "  'Race': 'Black or African Am.',\n",
       "  'ZygosityGT': ' ',\n",
       "  'ov_ob': 'ov'},\n",
       " 849971: {'Age_in_Yrs': 25,\n",
       "  'BMI': 23.72,\n",
       "  'Ethnicity': 'Not Hispanic/Latino',\n",
       "  'Father_ID': 82622,\n",
       "  'HbA1C': 5.0,\n",
       "  'Hyperthyroidism': nan,\n",
       "  'Hypothyroidism': nan,\n",
       "  'Mother_ID': 52801,\n",
       "  'OtherEndocrn_Prob': nan,\n",
       "  'Race': 'White',\n",
       "  'ZygosityGT': ' ',\n",
       "  'ov_ob': 'no'},\n",
       " 857263: {'Age_in_Yrs': 22,\n",
       "  'BMI': 29.81,\n",
       "  'Ethnicity': 'Not Hispanic/Latino',\n",
       "  'Father_ID': 81401,\n",
       "  'HbA1C': 5.5,\n",
       "  'Hyperthyroidism': nan,\n",
       "  'Hypothyroidism': nan,\n",
       "  'Mother_ID': 52707,\n",
       "  'OtherEndocrn_Prob': nan,\n",
       "  'Race': 'Black or African Am.',\n",
       "  'ZygosityGT': ' ',\n",
       "  'ov_ob': 'ov'},\n",
       " 865363: {'Age_in_Yrs': 24,\n",
       "  'BMI': 25.77,\n",
       "  'Ethnicity': 'Not Hispanic/Latino',\n",
       "  'Father_ID': 81330,\n",
       "  'HbA1C': nan,\n",
       "  'Hyperthyroidism': nan,\n",
       "  'Hypothyroidism': nan,\n",
       "  'Mother_ID': 51465,\n",
       "  'OtherEndocrn_Prob': nan,\n",
       "  'Race': 'White',\n",
       "  'ZygosityGT': ' ',\n",
       "  'ov_ob': 'ov'},\n",
       " 869472: {'Age_in_Yrs': 23,\n",
       "  'BMI': 28.66,\n",
       "  'Ethnicity': 'Not Hispanic/Latino',\n",
       "  'Father_ID': 82636,\n",
       "  'HbA1C': nan,\n",
       "  'Hyperthyroidism': 0.0,\n",
       "  'Hypothyroidism': 0.0,\n",
       "  'Mother_ID': 52815,\n",
       "  'OtherEndocrn_Prob': 0.0,\n",
       "  'Race': 'White',\n",
       "  'ZygosityGT': ' ',\n",
       "  'ov_ob': 'ov'},\n",
       " 872562: {'Age_in_Yrs': 31,\n",
       "  'BMI': 25.18,\n",
       "  'Ethnicity': 'Not Hispanic/Latino',\n",
       "  'Father_ID': 81405,\n",
       "  'HbA1C': 5.2,\n",
       "  'Hyperthyroidism': 0.0,\n",
       "  'Hypothyroidism': 0.0,\n",
       "  'Mother_ID': 51541,\n",
       "  'OtherEndocrn_Prob': 0.0,\n",
       "  'Race': 'White',\n",
       "  'ZygosityGT': ' ',\n",
       "  'ov_ob': 'ov'},\n",
       " 889579: {'Age_in_Yrs': 33,\n",
       "  'BMI': 32.74,\n",
       "  'Ethnicity': 'Not Hispanic/Latino',\n",
       "  'Father_ID': 81264,\n",
       "  'HbA1C': nan,\n",
       "  'Hyperthyroidism': nan,\n",
       "  'Hypothyroidism': nan,\n",
       "  'Mother_ID': 51399,\n",
       "  'OtherEndocrn_Prob': nan,\n",
       "  'Race': 'White',\n",
       "  'ZygosityGT': ' ',\n",
       "  'ov_ob': 'ob'},\n",
       " 894067: {'Age_in_Yrs': 34,\n",
       "  'BMI': 30.12,\n",
       "  'Ethnicity': 'Not Hispanic/Latino',\n",
       "  'Father_ID': 99982,\n",
       "  'HbA1C': 5.1,\n",
       "  'Hyperthyroidism': nan,\n",
       "  'Hypothyroidism': nan,\n",
       "  'Mother_ID': 51582,\n",
       "  'OtherEndocrn_Prob': nan,\n",
       "  'Race': 'Black or African Am.',\n",
       "  'ZygosityGT': ' ',\n",
       "  'ov_ob': 'ob'},\n",
       " 894774: {'Age_in_Yrs': 27,\n",
       "  'BMI': 30.69,\n",
       "  'Ethnicity': 'Not Hispanic/Latino',\n",
       "  'Father_ID': 85853,\n",
       "  'HbA1C': nan,\n",
       "  'Hyperthyroidism': nan,\n",
       "  'Hypothyroidism': nan,\n",
       "  'Mother_ID': 56032,\n",
       "  'OtherEndocrn_Prob': nan,\n",
       "  'Race': 'White',\n",
       "  'ZygosityGT': ' ',\n",
       "  'ov_ob': 'ob'},\n",
       " 912548: {'Age_in_Yrs': 34,\n",
       "  'BMI': 28.73,\n",
       "  'Ethnicity': 'Not Hispanic/Latino',\n",
       "  'Father_ID': 82175,\n",
       "  'HbA1C': 5.5,\n",
       "  'Hyperthyroidism': 0.0,\n",
       "  'Hypothyroidism': 0.0,\n",
       "  'Mother_ID': 52312,\n",
       "  'OtherEndocrn_Prob': 0.0,\n",
       "  'Race': 'White',\n",
       "  'ZygosityGT': ' ',\n",
       "  'ov_ob': 'ov'},\n",
       " 915554: {'Age_in_Yrs': 22,\n",
       "  'BMI': 39.6,\n",
       "  'Ethnicity': 'Not Hispanic/Latino',\n",
       "  'Father_ID': 82334,\n",
       "  'HbA1C': 5.5,\n",
       "  'Hyperthyroidism': nan,\n",
       "  'Hypothyroidism': nan,\n",
       "  'Mother_ID': 52500,\n",
       "  'OtherEndocrn_Prob': nan,\n",
       "  'Race': 'Black or African Am.',\n",
       "  'ZygosityGT': ' ',\n",
       "  'ov_ob': 'ob'},\n",
       " 937160: {'Age_in_Yrs': 30,\n",
       "  'BMI': 39.02,\n",
       "  'Ethnicity': 'Not Hispanic/Latino',\n",
       "  'Father_ID': 81208,\n",
       "  'HbA1C': nan,\n",
       "  'Hyperthyroidism': nan,\n",
       "  'Hypothyroidism': nan,\n",
       "  'Mother_ID': 51343,\n",
       "  'OtherEndocrn_Prob': nan,\n",
       "  'Race': 'White',\n",
       "  'ZygosityGT': ' ',\n",
       "  'ov_ob': 'ob'},\n",
       " 940553: {'Age_in_Yrs': 25,\n",
       "  'BMI': 30.42,\n",
       "  'Ethnicity': 'Not Hispanic/Latino',\n",
       "  'Father_ID': 82302,\n",
       "  'HbA1C': 5.5,\n",
       "  'Hyperthyroidism': nan,\n",
       "  'Hypothyroidism': nan,\n",
       "  'Mother_ID': 52462,\n",
       "  'OtherEndocrn_Prob': nan,\n",
       "  'Race': 'Black or African Am.',\n",
       "  'ZygosityGT': ' ',\n",
       "  'ov_ob': 'ob'},\n",
       " 947668: {'Age_in_Yrs': 30,\n",
       "  'BMI': 43.76,\n",
       "  'Ethnicity': 'Hispanic/Latino',\n",
       "  'Father_ID': 81904,\n",
       "  'HbA1C': nan,\n",
       "  'Hyperthyroidism': 0.0,\n",
       "  'Hypothyroidism': 0.0,\n",
       "  'Mother_ID': 52040,\n",
       "  'OtherEndocrn_Prob': 0.0,\n",
       "  'Race': 'White',\n",
       "  'ZygosityGT': ' ',\n",
       "  'ov_ob': 'ob'},\n",
       " 970764: {'Age_in_Yrs': 22,\n",
       "  'BMI': 25.12,\n",
       "  'Ethnicity': 'Not Hispanic/Latino',\n",
       "  'Father_ID': 84431,\n",
       "  'HbA1C': nan,\n",
       "  'Hyperthyroidism': 0.0,\n",
       "  'Hypothyroidism': 0.0,\n",
       "  'Mother_ID': 54609,\n",
       "  'OtherEndocrn_Prob': 0.0,\n",
       "  'Race': 'Asian/Nat. Hawaiian/Othr Pacific Is.',\n",
       "  'ZygosityGT': ' ',\n",
       "  'ov_ob': 'ov'},\n",
       " 979984: {'Age_in_Yrs': 34,\n",
       "  'BMI': 24.23,\n",
       "  'Ethnicity': 'Not Hispanic/Latino',\n",
       "  'Father_ID': 99980,\n",
       "  'HbA1C': 5.6,\n",
       "  'Hyperthyroidism': 0.0,\n",
       "  'Hypothyroidism': 0.0,\n",
       "  'Mother_ID': 52164,\n",
       "  'OtherEndocrn_Prob': 0.0,\n",
       "  'Race': 'Black or African Am.',\n",
       "  'ZygosityGT': ' ',\n",
       "  'ov_ob': 'no'},\n",
       " 991267: {'Age_in_Yrs': 30,\n",
       "  'BMI': 27.34,\n",
       "  'Ethnicity': 'Not Hispanic/Latino',\n",
       "  'Father_ID': 81503,\n",
       "  'HbA1C': 5.2,\n",
       "  'Hyperthyroidism': nan,\n",
       "  'Hypothyroidism': nan,\n",
       "  'Mother_ID': 51639,\n",
       "  'OtherEndocrn_Prob': nan,\n",
       "  'Race': 'White',\n",
       "  'ZygosityGT': ' ',\n",
       "  'ov_ob': 'ov'},\n",
       " 994273: {'Age_in_Yrs': 30,\n",
       "  'BMI': 25.87,\n",
       "  'Ethnicity': 'Not Hispanic/Latino',\n",
       "  'Father_ID': 82227,\n",
       "  'HbA1C': 5.0,\n",
       "  'Hyperthyroidism': nan,\n",
       "  'Hypothyroidism': nan,\n",
       "  'Mother_ID': 52364,\n",
       "  'OtherEndocrn_Prob': nan,\n",
       "  'Race': 'White',\n",
       "  'ZygosityGT': ' ',\n",
       "  'ov_ob': 'ov'}}"
      ]
     },
     "execution_count": 36,
     "metadata": {},
     "output_type": "execute_result"
    }
   ],
   "source": [
    "base_dict"
   ]
  },
  {
   "cell_type": "code",
   "execution_count": 37,
   "metadata": {},
   "outputs": [],
   "source": [
    "datapath = os.path.join(basepath,\n",
    "                    'datasets','HCP_PTN1200','graph_analysis','node_timeseries','3T_HCP1200_MSMAll_d100_ts2')\n",
    "for key, value in base_dict.items():\n",
    "#     print(key)\n",
    "#     print(value['ov_ob'])\n",
    "    ovob_dict[value['ov_ob']][key]= os.path.join(datapath,'%s.txt'%key)"
   ]
  },
  {
   "cell_type": "code",
   "execution_count": 38,
   "metadata": {},
   "outputs": [],
   "source": [
    "corr_dict={'no':{},'ov':{},'ob':{}, 'miss':{}}"
   ]
  },
  {
   "cell_type": "code",
   "execution_count": 39,
   "metadata": {},
   "outputs": [
    {
     "data": {
      "text/plain": [
       "{100004: '/Users/gracer/Google Drive/HCP_graph/1200/datasets/HCP_PTN1200/graph_analysis/node_timeseries/3T_HCP1200_MSMAll_d100_ts2/100004.txt',\n",
       " 100206: '/Users/gracer/Google Drive/HCP_graph/1200/datasets/HCP_PTN1200/graph_analysis/node_timeseries/3T_HCP1200_MSMAll_d100_ts2/100206.txt',\n",
       " 102513: '/Users/gracer/Google Drive/HCP_graph/1200/datasets/HCP_PTN1200/graph_analysis/node_timeseries/3T_HCP1200_MSMAll_d100_ts2/102513.txt',\n",
       " 102614: '/Users/gracer/Google Drive/HCP_graph/1200/datasets/HCP_PTN1200/graph_analysis/node_timeseries/3T_HCP1200_MSMAll_d100_ts2/102614.txt',\n",
       " 105216: '/Users/gracer/Google Drive/HCP_graph/1200/datasets/HCP_PTN1200/graph_analysis/node_timeseries/3T_HCP1200_MSMAll_d100_ts2/105216.txt',\n",
       " 106218: '/Users/gracer/Google Drive/HCP_graph/1200/datasets/HCP_PTN1200/graph_analysis/node_timeseries/3T_HCP1200_MSMAll_d100_ts2/106218.txt',\n",
       " 107725: '/Users/gracer/Google Drive/HCP_graph/1200/datasets/HCP_PTN1200/graph_analysis/node_timeseries/3T_HCP1200_MSMAll_d100_ts2/107725.txt',\n",
       " 108525: '/Users/gracer/Google Drive/HCP_graph/1200/datasets/HCP_PTN1200/graph_analysis/node_timeseries/3T_HCP1200_MSMAll_d100_ts2/108525.txt',\n",
       " 108828: '/Users/gracer/Google Drive/HCP_graph/1200/datasets/HCP_PTN1200/graph_analysis/node_timeseries/3T_HCP1200_MSMAll_d100_ts2/108828.txt',\n",
       " 110613: '/Users/gracer/Google Drive/HCP_graph/1200/datasets/HCP_PTN1200/graph_analysis/node_timeseries/3T_HCP1200_MSMAll_d100_ts2/110613.txt',\n",
       " 112920: '/Users/gracer/Google Drive/HCP_graph/1200/datasets/HCP_PTN1200/graph_analysis/node_timeseries/3T_HCP1200_MSMAll_d100_ts2/112920.txt',\n",
       " 113215: '/Users/gracer/Google Drive/HCP_graph/1200/datasets/HCP_PTN1200/graph_analysis/node_timeseries/3T_HCP1200_MSMAll_d100_ts2/113215.txt',\n",
       " 113821: '/Users/gracer/Google Drive/HCP_graph/1200/datasets/HCP_PTN1200/graph_analysis/node_timeseries/3T_HCP1200_MSMAll_d100_ts2/113821.txt',\n",
       " 114621: '/Users/gracer/Google Drive/HCP_graph/1200/datasets/HCP_PTN1200/graph_analysis/node_timeseries/3T_HCP1200_MSMAll_d100_ts2/114621.txt',\n",
       " 115219: '/Users/gracer/Google Drive/HCP_graph/1200/datasets/HCP_PTN1200/graph_analysis/node_timeseries/3T_HCP1200_MSMAll_d100_ts2/115219.txt',\n",
       " 118528: '/Users/gracer/Google Drive/HCP_graph/1200/datasets/HCP_PTN1200/graph_analysis/node_timeseries/3T_HCP1200_MSMAll_d100_ts2/118528.txt',\n",
       " 118932: '/Users/gracer/Google Drive/HCP_graph/1200/datasets/HCP_PTN1200/graph_analysis/node_timeseries/3T_HCP1200_MSMAll_d100_ts2/118932.txt',\n",
       " 119025: '/Users/gracer/Google Drive/HCP_graph/1200/datasets/HCP_PTN1200/graph_analysis/node_timeseries/3T_HCP1200_MSMAll_d100_ts2/119025.txt',\n",
       " 120515: '/Users/gracer/Google Drive/HCP_graph/1200/datasets/HCP_PTN1200/graph_analysis/node_timeseries/3T_HCP1200_MSMAll_d100_ts2/120515.txt',\n",
       " 121315: '/Users/gracer/Google Drive/HCP_graph/1200/datasets/HCP_PTN1200/graph_analysis/node_timeseries/3T_HCP1200_MSMAll_d100_ts2/121315.txt',\n",
       " 121416: '/Users/gracer/Google Drive/HCP_graph/1200/datasets/HCP_PTN1200/graph_analysis/node_timeseries/3T_HCP1200_MSMAll_d100_ts2/121416.txt',\n",
       " 121618: '/Users/gracer/Google Drive/HCP_graph/1200/datasets/HCP_PTN1200/graph_analysis/node_timeseries/3T_HCP1200_MSMAll_d100_ts2/121618.txt',\n",
       " 123420: '/Users/gracer/Google Drive/HCP_graph/1200/datasets/HCP_PTN1200/graph_analysis/node_timeseries/3T_HCP1200_MSMAll_d100_ts2/123420.txt',\n",
       " 126628: '/Users/gracer/Google Drive/HCP_graph/1200/datasets/HCP_PTN1200/graph_analysis/node_timeseries/3T_HCP1200_MSMAll_d100_ts2/126628.txt',\n",
       " 127327: '/Users/gracer/Google Drive/HCP_graph/1200/datasets/HCP_PTN1200/graph_analysis/node_timeseries/3T_HCP1200_MSMAll_d100_ts2/127327.txt',\n",
       " 127630: '/Users/gracer/Google Drive/HCP_graph/1200/datasets/HCP_PTN1200/graph_analysis/node_timeseries/3T_HCP1200_MSMAll_d100_ts2/127630.txt',\n",
       " 127933: '/Users/gracer/Google Drive/HCP_graph/1200/datasets/HCP_PTN1200/graph_analysis/node_timeseries/3T_HCP1200_MSMAll_d100_ts2/127933.txt',\n",
       " 133221: '/Users/gracer/Google Drive/HCP_graph/1200/datasets/HCP_PTN1200/graph_analysis/node_timeseries/3T_HCP1200_MSMAll_d100_ts2/133221.txt',\n",
       " 133928: '/Users/gracer/Google Drive/HCP_graph/1200/datasets/HCP_PTN1200/graph_analysis/node_timeseries/3T_HCP1200_MSMAll_d100_ts2/133928.txt',\n",
       " 134223: '/Users/gracer/Google Drive/HCP_graph/1200/datasets/HCP_PTN1200/graph_analysis/node_timeseries/3T_HCP1200_MSMAll_d100_ts2/134223.txt',\n",
       " 134324: '/Users/gracer/Google Drive/HCP_graph/1200/datasets/HCP_PTN1200/graph_analysis/node_timeseries/3T_HCP1200_MSMAll_d100_ts2/134324.txt',\n",
       " 136126: '/Users/gracer/Google Drive/HCP_graph/1200/datasets/HCP_PTN1200/graph_analysis/node_timeseries/3T_HCP1200_MSMAll_d100_ts2/136126.txt',\n",
       " 136227: '/Users/gracer/Google Drive/HCP_graph/1200/datasets/HCP_PTN1200/graph_analysis/node_timeseries/3T_HCP1200_MSMAll_d100_ts2/136227.txt',\n",
       " 137936: '/Users/gracer/Google Drive/HCP_graph/1200/datasets/HCP_PTN1200/graph_analysis/node_timeseries/3T_HCP1200_MSMAll_d100_ts2/137936.txt',\n",
       " 139233: '/Users/gracer/Google Drive/HCP_graph/1200/datasets/HCP_PTN1200/graph_analysis/node_timeseries/3T_HCP1200_MSMAll_d100_ts2/139233.txt',\n",
       " 142424: '/Users/gracer/Google Drive/HCP_graph/1200/datasets/HCP_PTN1200/graph_analysis/node_timeseries/3T_HCP1200_MSMAll_d100_ts2/142424.txt',\n",
       " 144832: '/Users/gracer/Google Drive/HCP_graph/1200/datasets/HCP_PTN1200/graph_analysis/node_timeseries/3T_HCP1200_MSMAll_d100_ts2/144832.txt',\n",
       " 146836: '/Users/gracer/Google Drive/HCP_graph/1200/datasets/HCP_PTN1200/graph_analysis/node_timeseries/3T_HCP1200_MSMAll_d100_ts2/146836.txt',\n",
       " 147636: '/Users/gracer/Google Drive/HCP_graph/1200/datasets/HCP_PTN1200/graph_analysis/node_timeseries/3T_HCP1200_MSMAll_d100_ts2/147636.txt',\n",
       " 149236: '/Users/gracer/Google Drive/HCP_graph/1200/datasets/HCP_PTN1200/graph_analysis/node_timeseries/3T_HCP1200_MSMAll_d100_ts2/149236.txt',\n",
       " 150726: '/Users/gracer/Google Drive/HCP_graph/1200/datasets/HCP_PTN1200/graph_analysis/node_timeseries/3T_HCP1200_MSMAll_d100_ts2/150726.txt',\n",
       " 151627: '/Users/gracer/Google Drive/HCP_graph/1200/datasets/HCP_PTN1200/graph_analysis/node_timeseries/3T_HCP1200_MSMAll_d100_ts2/151627.txt',\n",
       " 152225: '/Users/gracer/Google Drive/HCP_graph/1200/datasets/HCP_PTN1200/graph_analysis/node_timeseries/3T_HCP1200_MSMAll_d100_ts2/152225.txt',\n",
       " 153227: '/Users/gracer/Google Drive/HCP_graph/1200/datasets/HCP_PTN1200/graph_analysis/node_timeseries/3T_HCP1200_MSMAll_d100_ts2/153227.txt',\n",
       " 154229: '/Users/gracer/Google Drive/HCP_graph/1200/datasets/HCP_PTN1200/graph_analysis/node_timeseries/3T_HCP1200_MSMAll_d100_ts2/154229.txt',\n",
       " 154936: '/Users/gracer/Google Drive/HCP_graph/1200/datasets/HCP_PTN1200/graph_analysis/node_timeseries/3T_HCP1200_MSMAll_d100_ts2/154936.txt',\n",
       " 155231: '/Users/gracer/Google Drive/HCP_graph/1200/datasets/HCP_PTN1200/graph_analysis/node_timeseries/3T_HCP1200_MSMAll_d100_ts2/155231.txt',\n",
       " 156233: '/Users/gracer/Google Drive/HCP_graph/1200/datasets/HCP_PTN1200/graph_analysis/node_timeseries/3T_HCP1200_MSMAll_d100_ts2/156233.txt',\n",
       " 159744: '/Users/gracer/Google Drive/HCP_graph/1200/datasets/HCP_PTN1200/graph_analysis/node_timeseries/3T_HCP1200_MSMAll_d100_ts2/159744.txt',\n",
       " 159946: '/Users/gracer/Google Drive/HCP_graph/1200/datasets/HCP_PTN1200/graph_analysis/node_timeseries/3T_HCP1200_MSMAll_d100_ts2/159946.txt',\n",
       " 160830: '/Users/gracer/Google Drive/HCP_graph/1200/datasets/HCP_PTN1200/graph_analysis/node_timeseries/3T_HCP1200_MSMAll_d100_ts2/160830.txt',\n",
       " 164030: '/Users/gracer/Google Drive/HCP_graph/1200/datasets/HCP_PTN1200/graph_analysis/node_timeseries/3T_HCP1200_MSMAll_d100_ts2/164030.txt',\n",
       " 165840: '/Users/gracer/Google Drive/HCP_graph/1200/datasets/HCP_PTN1200/graph_analysis/node_timeseries/3T_HCP1200_MSMAll_d100_ts2/165840.txt',\n",
       " 168745: '/Users/gracer/Google Drive/HCP_graph/1200/datasets/HCP_PTN1200/graph_analysis/node_timeseries/3T_HCP1200_MSMAll_d100_ts2/168745.txt',\n",
       " 170934: '/Users/gracer/Google Drive/HCP_graph/1200/datasets/HCP_PTN1200/graph_analysis/node_timeseries/3T_HCP1200_MSMAll_d100_ts2/170934.txt',\n",
       " 173132: '/Users/gracer/Google Drive/HCP_graph/1200/datasets/HCP_PTN1200/graph_analysis/node_timeseries/3T_HCP1200_MSMAll_d100_ts2/173132.txt',\n",
       " 177241: '/Users/gracer/Google Drive/HCP_graph/1200/datasets/HCP_PTN1200/graph_analysis/node_timeseries/3T_HCP1200_MSMAll_d100_ts2/177241.txt',\n",
       " 180230: '/Users/gracer/Google Drive/HCP_graph/1200/datasets/HCP_PTN1200/graph_analysis/node_timeseries/3T_HCP1200_MSMAll_d100_ts2/180230.txt',\n",
       " 186141: '/Users/gracer/Google Drive/HCP_graph/1200/datasets/HCP_PTN1200/graph_analysis/node_timeseries/3T_HCP1200_MSMAll_d100_ts2/186141.txt',\n",
       " 189450: '/Users/gracer/Google Drive/HCP_graph/1200/datasets/HCP_PTN1200/graph_analysis/node_timeseries/3T_HCP1200_MSMAll_d100_ts2/189450.txt',\n",
       " 190940: '/Users/gracer/Google Drive/HCP_graph/1200/datasets/HCP_PTN1200/graph_analysis/node_timeseries/3T_HCP1200_MSMAll_d100_ts2/190940.txt',\n",
       " 191942: '/Users/gracer/Google Drive/HCP_graph/1200/datasets/HCP_PTN1200/graph_analysis/node_timeseries/3T_HCP1200_MSMAll_d100_ts2/191942.txt',\n",
       " 192136: '/Users/gracer/Google Drive/HCP_graph/1200/datasets/HCP_PTN1200/graph_analysis/node_timeseries/3T_HCP1200_MSMAll_d100_ts2/192136.txt',\n",
       " 192237: '/Users/gracer/Google Drive/HCP_graph/1200/datasets/HCP_PTN1200/graph_analysis/node_timeseries/3T_HCP1200_MSMAll_d100_ts2/192237.txt',\n",
       " 194746: '/Users/gracer/Google Drive/HCP_graph/1200/datasets/HCP_PTN1200/graph_analysis/node_timeseries/3T_HCP1200_MSMAll_d100_ts2/194746.txt',\n",
       " 195647: '/Users/gracer/Google Drive/HCP_graph/1200/datasets/HCP_PTN1200/graph_analysis/node_timeseries/3T_HCP1200_MSMAll_d100_ts2/195647.txt',\n",
       " 196346: '/Users/gracer/Google Drive/HCP_graph/1200/datasets/HCP_PTN1200/graph_analysis/node_timeseries/3T_HCP1200_MSMAll_d100_ts2/196346.txt',\n",
       " 199554: '/Users/gracer/Google Drive/HCP_graph/1200/datasets/HCP_PTN1200/graph_analysis/node_timeseries/3T_HCP1200_MSMAll_d100_ts2/199554.txt',\n",
       " 199958: '/Users/gracer/Google Drive/HCP_graph/1200/datasets/HCP_PTN1200/graph_analysis/node_timeseries/3T_HCP1200_MSMAll_d100_ts2/199958.txt',\n",
       " 201717: '/Users/gracer/Google Drive/HCP_graph/1200/datasets/HCP_PTN1200/graph_analysis/node_timeseries/3T_HCP1200_MSMAll_d100_ts2/201717.txt',\n",
       " 202113: '/Users/gracer/Google Drive/HCP_graph/1200/datasets/HCP_PTN1200/graph_analysis/node_timeseries/3T_HCP1200_MSMAll_d100_ts2/202113.txt',\n",
       " 204016: '/Users/gracer/Google Drive/HCP_graph/1200/datasets/HCP_PTN1200/graph_analysis/node_timeseries/3T_HCP1200_MSMAll_d100_ts2/204016.txt',\n",
       " 204218: '/Users/gracer/Google Drive/HCP_graph/1200/datasets/HCP_PTN1200/graph_analysis/node_timeseries/3T_HCP1200_MSMAll_d100_ts2/204218.txt',\n",
       " 204622: '/Users/gracer/Google Drive/HCP_graph/1200/datasets/HCP_PTN1200/graph_analysis/node_timeseries/3T_HCP1200_MSMAll_d100_ts2/204622.txt',\n",
       " 206323: '/Users/gracer/Google Drive/HCP_graph/1200/datasets/HCP_PTN1200/graph_analysis/node_timeseries/3T_HCP1200_MSMAll_d100_ts2/206323.txt',\n",
       " 206929: '/Users/gracer/Google Drive/HCP_graph/1200/datasets/HCP_PTN1200/graph_analysis/node_timeseries/3T_HCP1200_MSMAll_d100_ts2/206929.txt',\n",
       " 207628: '/Users/gracer/Google Drive/HCP_graph/1200/datasets/HCP_PTN1200/graph_analysis/node_timeseries/3T_HCP1200_MSMAll_d100_ts2/207628.txt',\n",
       " 208630: '/Users/gracer/Google Drive/HCP_graph/1200/datasets/HCP_PTN1200/graph_analysis/node_timeseries/3T_HCP1200_MSMAll_d100_ts2/208630.txt',\n",
       " 211316: '/Users/gracer/Google Drive/HCP_graph/1200/datasets/HCP_PTN1200/graph_analysis/node_timeseries/3T_HCP1200_MSMAll_d100_ts2/211316.txt',\n",
       " 212015: '/Users/gracer/Google Drive/HCP_graph/1200/datasets/HCP_PTN1200/graph_analysis/node_timeseries/3T_HCP1200_MSMAll_d100_ts2/212015.txt',\n",
       " 212217: '/Users/gracer/Google Drive/HCP_graph/1200/datasets/HCP_PTN1200/graph_analysis/node_timeseries/3T_HCP1200_MSMAll_d100_ts2/212217.txt',\n",
       " 214221: '/Users/gracer/Google Drive/HCP_graph/1200/datasets/HCP_PTN1200/graph_analysis/node_timeseries/3T_HCP1200_MSMAll_d100_ts2/214221.txt',\n",
       " 219231: '/Users/gracer/Google Drive/HCP_graph/1200/datasets/HCP_PTN1200/graph_analysis/node_timeseries/3T_HCP1200_MSMAll_d100_ts2/219231.txt',\n",
       " 220721: '/Users/gracer/Google Drive/HCP_graph/1200/datasets/HCP_PTN1200/graph_analysis/node_timeseries/3T_HCP1200_MSMAll_d100_ts2/220721.txt',\n",
       " 236130: '/Users/gracer/Google Drive/HCP_graph/1200/datasets/HCP_PTN1200/graph_analysis/node_timeseries/3T_HCP1200_MSMAll_d100_ts2/236130.txt',\n",
       " 239944: '/Users/gracer/Google Drive/HCP_graph/1200/datasets/HCP_PTN1200/graph_analysis/node_timeseries/3T_HCP1200_MSMAll_d100_ts2/239944.txt',\n",
       " 257946: '/Users/gracer/Google Drive/HCP_graph/1200/datasets/HCP_PTN1200/graph_analysis/node_timeseries/3T_HCP1200_MSMAll_d100_ts2/257946.txt',\n",
       " 268749: '/Users/gracer/Google Drive/HCP_graph/1200/datasets/HCP_PTN1200/graph_analysis/node_timeseries/3T_HCP1200_MSMAll_d100_ts2/268749.txt',\n",
       " 270332: '/Users/gracer/Google Drive/HCP_graph/1200/datasets/HCP_PTN1200/graph_analysis/node_timeseries/3T_HCP1200_MSMAll_d100_ts2/270332.txt',\n",
       " 314225: '/Users/gracer/Google Drive/HCP_graph/1200/datasets/HCP_PTN1200/graph_analysis/node_timeseries/3T_HCP1200_MSMAll_d100_ts2/314225.txt',\n",
       " 329844: '/Users/gracer/Google Drive/HCP_graph/1200/datasets/HCP_PTN1200/graph_analysis/node_timeseries/3T_HCP1200_MSMAll_d100_ts2/329844.txt',\n",
       " 348545: '/Users/gracer/Google Drive/HCP_graph/1200/datasets/HCP_PTN1200/graph_analysis/node_timeseries/3T_HCP1200_MSMAll_d100_ts2/348545.txt',\n",
       " 387959: '/Users/gracer/Google Drive/HCP_graph/1200/datasets/HCP_PTN1200/graph_analysis/node_timeseries/3T_HCP1200_MSMAll_d100_ts2/387959.txt',\n",
       " 422632: '/Users/gracer/Google Drive/HCP_graph/1200/datasets/HCP_PTN1200/graph_analysis/node_timeseries/3T_HCP1200_MSMAll_d100_ts2/422632.txt',\n",
       " 445543: '/Users/gracer/Google Drive/HCP_graph/1200/datasets/HCP_PTN1200/graph_analysis/node_timeseries/3T_HCP1200_MSMAll_d100_ts2/445543.txt',\n",
       " 454140: '/Users/gracer/Google Drive/HCP_graph/1200/datasets/HCP_PTN1200/graph_analysis/node_timeseries/3T_HCP1200_MSMAll_d100_ts2/454140.txt',\n",
       " 468050: '/Users/gracer/Google Drive/HCP_graph/1200/datasets/HCP_PTN1200/graph_analysis/node_timeseries/3T_HCP1200_MSMAll_d100_ts2/468050.txt',\n",
       " 510326: '/Users/gracer/Google Drive/HCP_graph/1200/datasets/HCP_PTN1200/graph_analysis/node_timeseries/3T_HCP1200_MSMAll_d100_ts2/510326.txt',\n",
       " 529953: '/Users/gracer/Google Drive/HCP_graph/1200/datasets/HCP_PTN1200/graph_analysis/node_timeseries/3T_HCP1200_MSMAll_d100_ts2/529953.txt',\n",
       " 555954: '/Users/gracer/Google Drive/HCP_graph/1200/datasets/HCP_PTN1200/graph_analysis/node_timeseries/3T_HCP1200_MSMAll_d100_ts2/555954.txt',\n",
       " 580751: '/Users/gracer/Google Drive/HCP_graph/1200/datasets/HCP_PTN1200/graph_analysis/node_timeseries/3T_HCP1200_MSMAll_d100_ts2/580751.txt',\n",
       " 583858: '/Users/gracer/Google Drive/HCP_graph/1200/datasets/HCP_PTN1200/graph_analysis/node_timeseries/3T_HCP1200_MSMAll_d100_ts2/583858.txt',\n",
       " 588565: '/Users/gracer/Google Drive/HCP_graph/1200/datasets/HCP_PTN1200/graph_analysis/node_timeseries/3T_HCP1200_MSMAll_d100_ts2/588565.txt',\n",
       " 618952: '/Users/gracer/Google Drive/HCP_graph/1200/datasets/HCP_PTN1200/graph_analysis/node_timeseries/3T_HCP1200_MSMAll_d100_ts2/618952.txt',\n",
       " 628248: '/Users/gracer/Google Drive/HCP_graph/1200/datasets/HCP_PTN1200/graph_analysis/node_timeseries/3T_HCP1200_MSMAll_d100_ts2/628248.txt',\n",
       " 645450: '/Users/gracer/Google Drive/HCP_graph/1200/datasets/HCP_PTN1200/graph_analysis/node_timeseries/3T_HCP1200_MSMAll_d100_ts2/645450.txt',\n",
       " 650746: '/Users/gracer/Google Drive/HCP_graph/1200/datasets/HCP_PTN1200/graph_analysis/node_timeseries/3T_HCP1200_MSMAll_d100_ts2/650746.txt',\n",
       " 656253: '/Users/gracer/Google Drive/HCP_graph/1200/datasets/HCP_PTN1200/graph_analysis/node_timeseries/3T_HCP1200_MSMAll_d100_ts2/656253.txt',\n",
       " 685058: '/Users/gracer/Google Drive/HCP_graph/1200/datasets/HCP_PTN1200/graph_analysis/node_timeseries/3T_HCP1200_MSMAll_d100_ts2/685058.txt',\n",
       " 734045: '/Users/gracer/Google Drive/HCP_graph/1200/datasets/HCP_PTN1200/graph_analysis/node_timeseries/3T_HCP1200_MSMAll_d100_ts2/734045.txt',\n",
       " 748258: '/Users/gracer/Google Drive/HCP_graph/1200/datasets/HCP_PTN1200/graph_analysis/node_timeseries/3T_HCP1200_MSMAll_d100_ts2/748258.txt',\n",
       " 774663: '/Users/gracer/Google Drive/HCP_graph/1200/datasets/HCP_PTN1200/graph_analysis/node_timeseries/3T_HCP1200_MSMAll_d100_ts2/774663.txt',\n",
       " 786569: '/Users/gracer/Google Drive/HCP_graph/1200/datasets/HCP_PTN1200/graph_analysis/node_timeseries/3T_HCP1200_MSMAll_d100_ts2/786569.txt',\n",
       " 792766: '/Users/gracer/Google Drive/HCP_graph/1200/datasets/HCP_PTN1200/graph_analysis/node_timeseries/3T_HCP1200_MSMAll_d100_ts2/792766.txt',\n",
       " 809252: '/Users/gracer/Google Drive/HCP_graph/1200/datasets/HCP_PTN1200/graph_analysis/node_timeseries/3T_HCP1200_MSMAll_d100_ts2/809252.txt',\n",
       " 816653: '/Users/gracer/Google Drive/HCP_graph/1200/datasets/HCP_PTN1200/graph_analysis/node_timeseries/3T_HCP1200_MSMAll_d100_ts2/816653.txt',\n",
       " 841349: '/Users/gracer/Google Drive/HCP_graph/1200/datasets/HCP_PTN1200/graph_analysis/node_timeseries/3T_HCP1200_MSMAll_d100_ts2/841349.txt',\n",
       " 849264: '/Users/gracer/Google Drive/HCP_graph/1200/datasets/HCP_PTN1200/graph_analysis/node_timeseries/3T_HCP1200_MSMAll_d100_ts2/849264.txt',\n",
       " 857263: '/Users/gracer/Google Drive/HCP_graph/1200/datasets/HCP_PTN1200/graph_analysis/node_timeseries/3T_HCP1200_MSMAll_d100_ts2/857263.txt',\n",
       " 865363: '/Users/gracer/Google Drive/HCP_graph/1200/datasets/HCP_PTN1200/graph_analysis/node_timeseries/3T_HCP1200_MSMAll_d100_ts2/865363.txt',\n",
       " 869472: '/Users/gracer/Google Drive/HCP_graph/1200/datasets/HCP_PTN1200/graph_analysis/node_timeseries/3T_HCP1200_MSMAll_d100_ts2/869472.txt',\n",
       " 872562: '/Users/gracer/Google Drive/HCP_graph/1200/datasets/HCP_PTN1200/graph_analysis/node_timeseries/3T_HCP1200_MSMAll_d100_ts2/872562.txt',\n",
       " 912548: '/Users/gracer/Google Drive/HCP_graph/1200/datasets/HCP_PTN1200/graph_analysis/node_timeseries/3T_HCP1200_MSMAll_d100_ts2/912548.txt',\n",
       " 970764: '/Users/gracer/Google Drive/HCP_graph/1200/datasets/HCP_PTN1200/graph_analysis/node_timeseries/3T_HCP1200_MSMAll_d100_ts2/970764.txt',\n",
       " 991267: '/Users/gracer/Google Drive/HCP_graph/1200/datasets/HCP_PTN1200/graph_analysis/node_timeseries/3T_HCP1200_MSMAll_d100_ts2/991267.txt',\n",
       " 994273: '/Users/gracer/Google Drive/HCP_graph/1200/datasets/HCP_PTN1200/graph_analysis/node_timeseries/3T_HCP1200_MSMAll_d100_ts2/994273.txt'}"
      ]
     },
     "execution_count": 39,
     "metadata": {},
     "output_type": "execute_result"
    }
   ],
   "source": [
    "ovob_dict['ov']"
   ]
  },
  {
   "cell_type": "code",
   "execution_count": 40,
   "metadata": {},
   "outputs": [],
   "source": [
    "#from https://wiki.biac.duke.edu/biac:analysis:resting_pipeline\n",
    "import numpy as np\n",
    "import numpy.ma\n",
    "import nibabel\n",
    "from scipy import signal\n",
    "import os, sys, subprocess\n",
    "import string, random\n",
    "import re\n",
    "import networkx as nx\n",
    "from optparse import OptionParser, OptionGroup\n",
    "import logging\n",
    "import math\n",
    "from scipy import ndimage as nd\n",
    "import pdb\n",
    "logging.basicConfig(format='%(asctime)s %(message)s ', datefmt='%m/%d/%Y %I:%M:%S %p', level=logging.INFO)\n",
    "outpath=os.path.join(basepath,'test')\n",
    "\n",
    "def duke_corr(corrtxt):\n",
    "    sub=corrtxt.split('/')[-1].split('.')[0]\n",
    "    logging.info('starting correlation')\n",
    "    rmat = os.path.join(outpath,'%s_r_matrix.nii.gz'%sub)\n",
    "    rtxt = os.path.join(outpath,'%s_r_matrix.csv'%sub)\n",
    "    zmat = os.path.join(outpath,'%s_zr_matrix.nii.gz'%sub)\n",
    "    ztxt = os.path.join(outpath,'%s_zr_matrix.csv'%sub)\n",
    "    maskname = os.path.join(outpath,'%s_mask_matrix.nii.gz'%sub)\n",
    "\n",
    "    print(corrtxt)\n",
    "    timeseries = np.loadtxt(corrtxt,unpack=True)\n",
    "    myres = np.corrcoef(timeseries)\n",
    "    myres = np.nan_to_num(myres)\n",
    "#     print(myres)\n",
    "#     pdb.set_trace()\n",
    "    #convert corcoef\n",
    "    zrmaps = 0.5*np.log((1+myres)/(1-myres))\n",
    "    #find the inf vals on diagonal\n",
    "    infs = (zrmaps == np.inf).nonzero()\n",
    "\n",
    "    #replace the infs with 0            \n",
    "    for idx in range(len(infs[0])):\n",
    "        zrmaps[infs[0][idx]][infs[1][idx]] = 0\n",
    "\n",
    "    nibabel.save(nibabel.Nifti1Image(myres,None) ,rmat)\n",
    "    nibabel.save(nibabel.Nifti1Image(zrmaps,None) ,zmat)\n",
    "    np.savetxt(ztxt,zrmaps,fmt='%f',delimiter=',')\n",
    "    np.savetxt(rtxt,myres,fmt='%f',delimiter=',')\n",
    "\n",
    "    #create a mask for higher level, include everything below diagonal\n",
    "    mask = np.zeros_like(myres)\n",
    "    maskx,masky = mask.shape\n",
    "\n",
    "    for idx in range(maskx):\n",
    "        for idy in range(masky):\n",
    "            if idx > idy:\n",
    "                mask[idx][idy] = 1\n",
    "\n",
    "    nibabel.save(nibabel.Nifti1Image(mask,None) ,maskname)\n",
    "\n",
    "\n",
    "    #check for the resulting files\n",
    "    for fname in [rmat, zmat, maskname, ztxt, rtxt]:\n",
    "        if os.path.isfile( fname ):\n",
    "            logging.info('correlation matrix finished : ' + fname)\n",
    "        else:\n",
    "            logging.info('correlation failed')\n",
    "            raise SystemExit()     \n",
    "    return(myres)"
   ]
  },
  {
   "cell_type": "code",
   "execution_count": 41,
   "metadata": {},
   "outputs": [
    {
     "name": "stderr",
     "output_type": "stream",
     "text": [
      "11/12/2019 04:29:07 PM starting correlation \n"
     ]
    },
    {
     "name": "stdout",
     "output_type": "stream",
     "text": [
      "no\n",
      "101107\n",
      "/Users/gracer/Google Drive/HCP_graph/1200/datasets/HCP_PTN1200/graph_analysis/node_timeseries/3T_HCP1200_MSMAll_d100_ts2/101107.txt\n"
     ]
    },
    {
     "name": "stderr",
     "output_type": "stream",
     "text": [
      "/Users/gracer/anaconda3/envs/py36/lib/python3.6/site-packages/ipykernel_launcher.py:34: RuntimeWarning: divide by zero encountered in true_divide\n",
      "11/12/2019 04:29:08 PM correlation matrix finished : /Users/gracer/Google Drive/HCP_graph/1200/test/101107_r_matrix.nii.gz \n",
      "11/12/2019 04:29:08 PM correlation matrix finished : /Users/gracer/Google Drive/HCP_graph/1200/test/101107_zr_matrix.nii.gz \n",
      "11/12/2019 04:29:08 PM correlation matrix finished : /Users/gracer/Google Drive/HCP_graph/1200/test/101107_mask_matrix.nii.gz \n",
      "11/12/2019 04:29:08 PM correlation matrix finished : /Users/gracer/Google Drive/HCP_graph/1200/test/101107_zr_matrix.csv \n",
      "11/12/2019 04:29:08 PM correlation matrix finished : /Users/gracer/Google Drive/HCP_graph/1200/test/101107_r_matrix.csv \n",
      "11/12/2019 04:29:08 PM starting correlation \n"
     ]
    },
    {
     "name": "stdout",
     "output_type": "stream",
     "text": [
      "101309\n",
      "/Users/gracer/Google Drive/HCP_graph/1200/datasets/HCP_PTN1200/graph_analysis/node_timeseries/3T_HCP1200_MSMAll_d100_ts2/101309.txt\n"
     ]
    },
    {
     "name": "stderr",
     "output_type": "stream",
     "text": [
      "11/12/2019 04:29:08 PM correlation matrix finished : /Users/gracer/Google Drive/HCP_graph/1200/test/101309_r_matrix.nii.gz \n",
      "11/12/2019 04:29:08 PM correlation matrix finished : /Users/gracer/Google Drive/HCP_graph/1200/test/101309_zr_matrix.nii.gz \n",
      "11/12/2019 04:29:08 PM correlation matrix finished : /Users/gracer/Google Drive/HCP_graph/1200/test/101309_mask_matrix.nii.gz \n",
      "11/12/2019 04:29:08 PM correlation matrix finished : /Users/gracer/Google Drive/HCP_graph/1200/test/101309_zr_matrix.csv \n",
      "11/12/2019 04:29:08 PM correlation matrix finished : /Users/gracer/Google Drive/HCP_graph/1200/test/101309_r_matrix.csv \n",
      "11/12/2019 04:29:09 PM starting correlation \n"
     ]
    },
    {
     "name": "stdout",
     "output_type": "stream",
     "text": [
      "101410\n",
      "no 101410\n",
      "101915\n",
      "/Users/gracer/Google Drive/HCP_graph/1200/datasets/HCP_PTN1200/graph_analysis/node_timeseries/3T_HCP1200_MSMAll_d100_ts2/101915.txt\n"
     ]
    },
    {
     "name": "stderr",
     "output_type": "stream",
     "text": [
      "11/12/2019 04:29:09 PM correlation matrix finished : /Users/gracer/Google Drive/HCP_graph/1200/test/101915_r_matrix.nii.gz \n",
      "11/12/2019 04:29:09 PM correlation matrix finished : /Users/gracer/Google Drive/HCP_graph/1200/test/101915_zr_matrix.nii.gz \n",
      "11/12/2019 04:29:09 PM correlation matrix finished : /Users/gracer/Google Drive/HCP_graph/1200/test/101915_mask_matrix.nii.gz \n",
      "11/12/2019 04:29:09 PM correlation matrix finished : /Users/gracer/Google Drive/HCP_graph/1200/test/101915_zr_matrix.csv \n",
      "11/12/2019 04:29:09 PM correlation matrix finished : /Users/gracer/Google Drive/HCP_graph/1200/test/101915_r_matrix.csv \n",
      "11/12/2019 04:29:09 PM starting correlation \n"
     ]
    },
    {
     "name": "stdout",
     "output_type": "stream",
     "text": [
      "102109\n",
      "/Users/gracer/Google Drive/HCP_graph/1200/datasets/HCP_PTN1200/graph_analysis/node_timeseries/3T_HCP1200_MSMAll_d100_ts2/102109.txt\n"
     ]
    },
    {
     "name": "stderr",
     "output_type": "stream",
     "text": [
      "11/12/2019 04:29:11 PM correlation matrix finished : /Users/gracer/Google Drive/HCP_graph/1200/test/102109_r_matrix.nii.gz \n",
      "11/12/2019 04:29:11 PM correlation matrix finished : /Users/gracer/Google Drive/HCP_graph/1200/test/102109_zr_matrix.nii.gz \n",
      "11/12/2019 04:29:11 PM correlation matrix finished : /Users/gracer/Google Drive/HCP_graph/1200/test/102109_mask_matrix.nii.gz \n",
      "11/12/2019 04:29:11 PM correlation matrix finished : /Users/gracer/Google Drive/HCP_graph/1200/test/102109_zr_matrix.csv \n",
      "11/12/2019 04:29:11 PM correlation matrix finished : /Users/gracer/Google Drive/HCP_graph/1200/test/102109_r_matrix.csv \n",
      "11/12/2019 04:29:11 PM starting correlation \n"
     ]
    },
    {
     "name": "stdout",
     "output_type": "stream",
     "text": [
      "102715\n",
      "/Users/gracer/Google Drive/HCP_graph/1200/datasets/HCP_PTN1200/graph_analysis/node_timeseries/3T_HCP1200_MSMAll_d100_ts2/102715.txt\n"
     ]
    },
    {
     "name": "stderr",
     "output_type": "stream",
     "text": [
      "11/12/2019 04:29:13 PM correlation matrix finished : /Users/gracer/Google Drive/HCP_graph/1200/test/102715_r_matrix.nii.gz \n",
      "11/12/2019 04:29:13 PM correlation matrix finished : /Users/gracer/Google Drive/HCP_graph/1200/test/102715_zr_matrix.nii.gz \n",
      "11/12/2019 04:29:13 PM correlation matrix finished : /Users/gracer/Google Drive/HCP_graph/1200/test/102715_mask_matrix.nii.gz \n",
      "11/12/2019 04:29:13 PM correlation matrix finished : /Users/gracer/Google Drive/HCP_graph/1200/test/102715_zr_matrix.csv \n",
      "11/12/2019 04:29:13 PM correlation matrix finished : /Users/gracer/Google Drive/HCP_graph/1200/test/102715_r_matrix.csv \n",
      "11/12/2019 04:29:13 PM starting correlation \n"
     ]
    },
    {
     "name": "stdout",
     "output_type": "stream",
     "text": [
      "105620\n",
      "/Users/gracer/Google Drive/HCP_graph/1200/datasets/HCP_PTN1200/graph_analysis/node_timeseries/3T_HCP1200_MSMAll_d100_ts2/105620.txt\n"
     ]
    },
    {
     "name": "stderr",
     "output_type": "stream",
     "text": [
      "11/12/2019 04:29:15 PM correlation matrix finished : /Users/gracer/Google Drive/HCP_graph/1200/test/105620_r_matrix.nii.gz \n",
      "11/12/2019 04:29:15 PM correlation matrix finished : /Users/gracer/Google Drive/HCP_graph/1200/test/105620_zr_matrix.nii.gz \n",
      "11/12/2019 04:29:15 PM correlation matrix finished : /Users/gracer/Google Drive/HCP_graph/1200/test/105620_mask_matrix.nii.gz \n",
      "11/12/2019 04:29:15 PM correlation matrix finished : /Users/gracer/Google Drive/HCP_graph/1200/test/105620_zr_matrix.csv \n",
      "11/12/2019 04:29:15 PM correlation matrix finished : /Users/gracer/Google Drive/HCP_graph/1200/test/105620_r_matrix.csv \n",
      "11/12/2019 04:29:15 PM starting correlation \n"
     ]
    },
    {
     "name": "stdout",
     "output_type": "stream",
     "text": [
      "105923\n",
      "/Users/gracer/Google Drive/HCP_graph/1200/datasets/HCP_PTN1200/graph_analysis/node_timeseries/3T_HCP1200_MSMAll_d100_ts2/105923.txt\n"
     ]
    },
    {
     "name": "stderr",
     "output_type": "stream",
     "text": [
      "11/12/2019 04:29:17 PM correlation matrix finished : /Users/gracer/Google Drive/HCP_graph/1200/test/105923_r_matrix.nii.gz \n",
      "11/12/2019 04:29:17 PM correlation matrix finished : /Users/gracer/Google Drive/HCP_graph/1200/test/105923_zr_matrix.nii.gz \n",
      "11/12/2019 04:29:17 PM correlation matrix finished : /Users/gracer/Google Drive/HCP_graph/1200/test/105923_mask_matrix.nii.gz \n",
      "11/12/2019 04:29:17 PM correlation matrix finished : /Users/gracer/Google Drive/HCP_graph/1200/test/105923_zr_matrix.csv \n",
      "11/12/2019 04:29:17 PM correlation matrix finished : /Users/gracer/Google Drive/HCP_graph/1200/test/105923_r_matrix.csv \n",
      "11/12/2019 04:29:17 PM starting correlation \n"
     ]
    },
    {
     "name": "stdout",
     "output_type": "stream",
     "text": [
      "107321\n",
      "/Users/gracer/Google Drive/HCP_graph/1200/datasets/HCP_PTN1200/graph_analysis/node_timeseries/3T_HCP1200_MSMAll_d100_ts2/107321.txt\n"
     ]
    },
    {
     "name": "stderr",
     "output_type": "stream",
     "text": [
      "11/12/2019 04:29:18 PM correlation matrix finished : /Users/gracer/Google Drive/HCP_graph/1200/test/107321_r_matrix.nii.gz \n",
      "11/12/2019 04:29:18 PM correlation matrix finished : /Users/gracer/Google Drive/HCP_graph/1200/test/107321_zr_matrix.nii.gz \n",
      "11/12/2019 04:29:18 PM correlation matrix finished : /Users/gracer/Google Drive/HCP_graph/1200/test/107321_mask_matrix.nii.gz \n",
      "11/12/2019 04:29:18 PM correlation matrix finished : /Users/gracer/Google Drive/HCP_graph/1200/test/107321_zr_matrix.csv \n",
      "11/12/2019 04:29:18 PM correlation matrix finished : /Users/gracer/Google Drive/HCP_graph/1200/test/107321_r_matrix.csv \n",
      "11/12/2019 04:29:18 PM starting correlation \n"
     ]
    },
    {
     "name": "stdout",
     "output_type": "stream",
     "text": [
      "109830\n",
      "/Users/gracer/Google Drive/HCP_graph/1200/datasets/HCP_PTN1200/graph_analysis/node_timeseries/3T_HCP1200_MSMAll_d100_ts2/109830.txt\n"
     ]
    },
    {
     "name": "stderr",
     "output_type": "stream",
     "text": [
      "11/12/2019 04:29:18 PM correlation matrix finished : /Users/gracer/Google Drive/HCP_graph/1200/test/109830_r_matrix.nii.gz \n",
      "11/12/2019 04:29:18 PM correlation matrix finished : /Users/gracer/Google Drive/HCP_graph/1200/test/109830_zr_matrix.nii.gz \n",
      "11/12/2019 04:29:18 PM correlation matrix finished : /Users/gracer/Google Drive/HCP_graph/1200/test/109830_mask_matrix.nii.gz \n",
      "11/12/2019 04:29:18 PM correlation matrix finished : /Users/gracer/Google Drive/HCP_graph/1200/test/109830_zr_matrix.csv \n",
      "11/12/2019 04:29:18 PM correlation matrix finished : /Users/gracer/Google Drive/HCP_graph/1200/test/109830_r_matrix.csv \n",
      "11/12/2019 04:29:18 PM starting correlation \n"
     ]
    },
    {
     "name": "stdout",
     "output_type": "stream",
     "text": [
      "110411\n",
      "/Users/gracer/Google Drive/HCP_graph/1200/datasets/HCP_PTN1200/graph_analysis/node_timeseries/3T_HCP1200_MSMAll_d100_ts2/110411.txt\n"
     ]
    },
    {
     "name": "stderr",
     "output_type": "stream",
     "text": [
      "11/12/2019 04:29:19 PM correlation matrix finished : /Users/gracer/Google Drive/HCP_graph/1200/test/110411_r_matrix.nii.gz \n",
      "11/12/2019 04:29:19 PM correlation matrix finished : /Users/gracer/Google Drive/HCP_graph/1200/test/110411_zr_matrix.nii.gz \n",
      "11/12/2019 04:29:19 PM correlation matrix finished : /Users/gracer/Google Drive/HCP_graph/1200/test/110411_mask_matrix.nii.gz \n",
      "11/12/2019 04:29:19 PM correlation matrix finished : /Users/gracer/Google Drive/HCP_graph/1200/test/110411_zr_matrix.csv \n",
      "11/12/2019 04:29:19 PM correlation matrix finished : /Users/gracer/Google Drive/HCP_graph/1200/test/110411_r_matrix.csv \n",
      "11/12/2019 04:29:19 PM starting correlation \n"
     ]
    },
    {
     "name": "stdout",
     "output_type": "stream",
     "text": [
      "111716\n",
      "/Users/gracer/Google Drive/HCP_graph/1200/datasets/HCP_PTN1200/graph_analysis/node_timeseries/3T_HCP1200_MSMAll_d100_ts2/111716.txt\n"
     ]
    },
    {
     "name": "stderr",
     "output_type": "stream",
     "text": [
      "11/12/2019 04:29:20 PM correlation matrix finished : /Users/gracer/Google Drive/HCP_graph/1200/test/111716_r_matrix.nii.gz \n",
      "11/12/2019 04:29:20 PM correlation matrix finished : /Users/gracer/Google Drive/HCP_graph/1200/test/111716_zr_matrix.nii.gz \n",
      "11/12/2019 04:29:20 PM correlation matrix finished : /Users/gracer/Google Drive/HCP_graph/1200/test/111716_mask_matrix.nii.gz \n",
      "11/12/2019 04:29:20 PM correlation matrix finished : /Users/gracer/Google Drive/HCP_graph/1200/test/111716_zr_matrix.csv \n",
      "11/12/2019 04:29:20 PM correlation matrix finished : /Users/gracer/Google Drive/HCP_graph/1200/test/111716_r_matrix.csv \n",
      "11/12/2019 04:29:20 PM starting correlation \n"
     ]
    },
    {
     "name": "stdout",
     "output_type": "stream",
     "text": [
      "112112\n",
      "/Users/gracer/Google Drive/HCP_graph/1200/datasets/HCP_PTN1200/graph_analysis/node_timeseries/3T_HCP1200_MSMAll_d100_ts2/112112.txt\n"
     ]
    },
    {
     "name": "stderr",
     "output_type": "stream",
     "text": [
      "11/12/2019 04:29:20 PM correlation matrix finished : /Users/gracer/Google Drive/HCP_graph/1200/test/112112_r_matrix.nii.gz \n",
      "11/12/2019 04:29:20 PM correlation matrix finished : /Users/gracer/Google Drive/HCP_graph/1200/test/112112_zr_matrix.nii.gz \n",
      "11/12/2019 04:29:20 PM correlation matrix finished : /Users/gracer/Google Drive/HCP_graph/1200/test/112112_mask_matrix.nii.gz \n",
      "11/12/2019 04:29:20 PM correlation matrix finished : /Users/gracer/Google Drive/HCP_graph/1200/test/112112_zr_matrix.csv \n",
      "11/12/2019 04:29:20 PM correlation matrix finished : /Users/gracer/Google Drive/HCP_graph/1200/test/112112_r_matrix.csv \n",
      "11/12/2019 04:29:20 PM starting correlation \n"
     ]
    },
    {
     "name": "stdout",
     "output_type": "stream",
     "text": [
      "113619\n",
      "/Users/gracer/Google Drive/HCP_graph/1200/datasets/HCP_PTN1200/graph_analysis/node_timeseries/3T_HCP1200_MSMAll_d100_ts2/113619.txt\n"
     ]
    },
    {
     "name": "stderr",
     "output_type": "stream",
     "text": [
      "11/12/2019 04:29:21 PM correlation matrix finished : /Users/gracer/Google Drive/HCP_graph/1200/test/113619_r_matrix.nii.gz \n",
      "11/12/2019 04:29:21 PM correlation matrix finished : /Users/gracer/Google Drive/HCP_graph/1200/test/113619_zr_matrix.nii.gz \n",
      "11/12/2019 04:29:21 PM correlation matrix finished : /Users/gracer/Google Drive/HCP_graph/1200/test/113619_mask_matrix.nii.gz \n",
      "11/12/2019 04:29:21 PM correlation matrix finished : /Users/gracer/Google Drive/HCP_graph/1200/test/113619_zr_matrix.csv \n",
      "11/12/2019 04:29:21 PM correlation matrix finished : /Users/gracer/Google Drive/HCP_graph/1200/test/113619_r_matrix.csv \n",
      "11/12/2019 04:29:21 PM starting correlation \n"
     ]
    },
    {
     "name": "stdout",
     "output_type": "stream",
     "text": [
      "114318\n",
      "/Users/gracer/Google Drive/HCP_graph/1200/datasets/HCP_PTN1200/graph_analysis/node_timeseries/3T_HCP1200_MSMAll_d100_ts2/114318.txt\n"
     ]
    },
    {
     "name": "stderr",
     "output_type": "stream",
     "text": [
      "11/12/2019 04:29:21 PM correlation matrix finished : /Users/gracer/Google Drive/HCP_graph/1200/test/114318_r_matrix.nii.gz \n",
      "11/12/2019 04:29:21 PM correlation matrix finished : /Users/gracer/Google Drive/HCP_graph/1200/test/114318_zr_matrix.nii.gz \n",
      "11/12/2019 04:29:21 PM correlation matrix finished : /Users/gracer/Google Drive/HCP_graph/1200/test/114318_mask_matrix.nii.gz \n",
      "11/12/2019 04:29:21 PM correlation matrix finished : /Users/gracer/Google Drive/HCP_graph/1200/test/114318_zr_matrix.csv \n",
      "11/12/2019 04:29:21 PM correlation matrix finished : /Users/gracer/Google Drive/HCP_graph/1200/test/114318_r_matrix.csv \n",
      "11/12/2019 04:29:21 PM starting correlation \n"
     ]
    },
    {
     "name": "stdout",
     "output_type": "stream",
     "text": [
      "114823\n",
      "/Users/gracer/Google Drive/HCP_graph/1200/datasets/HCP_PTN1200/graph_analysis/node_timeseries/3T_HCP1200_MSMAll_d100_ts2/114823.txt\n"
     ]
    },
    {
     "name": "stderr",
     "output_type": "stream",
     "text": [
      "11/12/2019 04:29:22 PM correlation matrix finished : /Users/gracer/Google Drive/HCP_graph/1200/test/114823_r_matrix.nii.gz \n",
      "11/12/2019 04:29:22 PM correlation matrix finished : /Users/gracer/Google Drive/HCP_graph/1200/test/114823_zr_matrix.nii.gz \n",
      "11/12/2019 04:29:22 PM correlation matrix finished : /Users/gracer/Google Drive/HCP_graph/1200/test/114823_mask_matrix.nii.gz \n",
      "11/12/2019 04:29:22 PM correlation matrix finished : /Users/gracer/Google Drive/HCP_graph/1200/test/114823_zr_matrix.csv \n",
      "11/12/2019 04:29:22 PM correlation matrix finished : /Users/gracer/Google Drive/HCP_graph/1200/test/114823_r_matrix.csv \n",
      "11/12/2019 04:29:22 PM starting correlation \n"
     ]
    },
    {
     "name": "stdout",
     "output_type": "stream",
     "text": [
      "116120\n",
      "no 116120\n",
      "117122\n",
      "/Users/gracer/Google Drive/HCP_graph/1200/datasets/HCP_PTN1200/graph_analysis/node_timeseries/3T_HCP1200_MSMAll_d100_ts2/117122.txt\n"
     ]
    },
    {
     "name": "stderr",
     "output_type": "stream",
     "text": [
      "11/12/2019 04:29:22 PM correlation matrix finished : /Users/gracer/Google Drive/HCP_graph/1200/test/117122_r_matrix.nii.gz \n",
      "11/12/2019 04:29:22 PM correlation matrix finished : /Users/gracer/Google Drive/HCP_graph/1200/test/117122_zr_matrix.nii.gz \n",
      "11/12/2019 04:29:22 PM correlation matrix finished : /Users/gracer/Google Drive/HCP_graph/1200/test/117122_mask_matrix.nii.gz \n",
      "11/12/2019 04:29:22 PM correlation matrix finished : /Users/gracer/Google Drive/HCP_graph/1200/test/117122_zr_matrix.csv \n",
      "11/12/2019 04:29:22 PM correlation matrix finished : /Users/gracer/Google Drive/HCP_graph/1200/test/117122_r_matrix.csv \n",
      "11/12/2019 04:29:22 PM starting correlation \n"
     ]
    },
    {
     "name": "stdout",
     "output_type": "stream",
     "text": [
      "117324\n",
      "/Users/gracer/Google Drive/HCP_graph/1200/datasets/HCP_PTN1200/graph_analysis/node_timeseries/3T_HCP1200_MSMAll_d100_ts2/117324.txt\n"
     ]
    },
    {
     "name": "stderr",
     "output_type": "stream",
     "text": [
      "11/12/2019 04:29:23 PM correlation matrix finished : /Users/gracer/Google Drive/HCP_graph/1200/test/117324_r_matrix.nii.gz \n",
      "11/12/2019 04:29:23 PM correlation matrix finished : /Users/gracer/Google Drive/HCP_graph/1200/test/117324_zr_matrix.nii.gz \n",
      "11/12/2019 04:29:23 PM correlation matrix finished : /Users/gracer/Google Drive/HCP_graph/1200/test/117324_mask_matrix.nii.gz \n",
      "11/12/2019 04:29:23 PM correlation matrix finished : /Users/gracer/Google Drive/HCP_graph/1200/test/117324_zr_matrix.csv \n",
      "11/12/2019 04:29:23 PM correlation matrix finished : /Users/gracer/Google Drive/HCP_graph/1200/test/117324_r_matrix.csv \n",
      "11/12/2019 04:29:23 PM starting correlation \n"
     ]
    },
    {
     "name": "stdout",
     "output_type": "stream",
     "text": [
      "119732\n",
      "no 119732\n",
      "120010\n",
      "no 120010\n",
      "120414\n",
      "/Users/gracer/Google Drive/HCP_graph/1200/datasets/HCP_PTN1200/graph_analysis/node_timeseries/3T_HCP1200_MSMAll_d100_ts2/120414.txt\n"
     ]
    },
    {
     "name": "stderr",
     "output_type": "stream",
     "text": [
      "11/12/2019 04:29:24 PM correlation matrix finished : /Users/gracer/Google Drive/HCP_graph/1200/test/120414_r_matrix.nii.gz \n",
      "11/12/2019 04:29:24 PM correlation matrix finished : /Users/gracer/Google Drive/HCP_graph/1200/test/120414_zr_matrix.nii.gz \n",
      "11/12/2019 04:29:24 PM correlation matrix finished : /Users/gracer/Google Drive/HCP_graph/1200/test/120414_mask_matrix.nii.gz \n",
      "11/12/2019 04:29:24 PM correlation matrix finished : /Users/gracer/Google Drive/HCP_graph/1200/test/120414_zr_matrix.csv \n",
      "11/12/2019 04:29:24 PM correlation matrix finished : /Users/gracer/Google Drive/HCP_graph/1200/test/120414_r_matrix.csv \n",
      "11/12/2019 04:29:24 PM starting correlation \n"
     ]
    },
    {
     "name": "stdout",
     "output_type": "stream",
     "text": [
      "120717\n",
      "/Users/gracer/Google Drive/HCP_graph/1200/datasets/HCP_PTN1200/graph_analysis/node_timeseries/3T_HCP1200_MSMAll_d100_ts2/120717.txt\n"
     ]
    },
    {
     "name": "stderr",
     "output_type": "stream",
     "text": [
      "11/12/2019 04:29:24 PM correlation matrix finished : /Users/gracer/Google Drive/HCP_graph/1200/test/120717_r_matrix.nii.gz \n",
      "11/12/2019 04:29:24 PM correlation matrix finished : /Users/gracer/Google Drive/HCP_graph/1200/test/120717_zr_matrix.nii.gz \n",
      "11/12/2019 04:29:24 PM correlation matrix finished : /Users/gracer/Google Drive/HCP_graph/1200/test/120717_mask_matrix.nii.gz \n",
      "11/12/2019 04:29:24 PM correlation matrix finished : /Users/gracer/Google Drive/HCP_graph/1200/test/120717_zr_matrix.csv \n",
      "11/12/2019 04:29:24 PM correlation matrix finished : /Users/gracer/Google Drive/HCP_graph/1200/test/120717_r_matrix.csv \n",
      "11/12/2019 04:29:24 PM starting correlation \n"
     ]
    },
    {
     "name": "stdout",
     "output_type": "stream",
     "text": [
      "122317\n",
      "/Users/gracer/Google Drive/HCP_graph/1200/datasets/HCP_PTN1200/graph_analysis/node_timeseries/3T_HCP1200_MSMAll_d100_ts2/122317.txt\n"
     ]
    },
    {
     "name": "stderr",
     "output_type": "stream",
     "text": [
      "11/12/2019 04:29:25 PM correlation matrix finished : /Users/gracer/Google Drive/HCP_graph/1200/test/122317_r_matrix.nii.gz \n",
      "11/12/2019 04:29:25 PM correlation matrix finished : /Users/gracer/Google Drive/HCP_graph/1200/test/122317_zr_matrix.nii.gz \n",
      "11/12/2019 04:29:25 PM correlation matrix finished : /Users/gracer/Google Drive/HCP_graph/1200/test/122317_mask_matrix.nii.gz \n",
      "11/12/2019 04:29:25 PM correlation matrix finished : /Users/gracer/Google Drive/HCP_graph/1200/test/122317_zr_matrix.csv \n",
      "11/12/2019 04:29:25 PM correlation matrix finished : /Users/gracer/Google Drive/HCP_graph/1200/test/122317_r_matrix.csv \n",
      "11/12/2019 04:29:25 PM starting correlation \n"
     ]
    },
    {
     "name": "stdout",
     "output_type": "stream",
     "text": [
      "122418\n",
      "no 122418\n",
      "122620\n",
      "/Users/gracer/Google Drive/HCP_graph/1200/datasets/HCP_PTN1200/graph_analysis/node_timeseries/3T_HCP1200_MSMAll_d100_ts2/122620.txt\n"
     ]
    },
    {
     "name": "stderr",
     "output_type": "stream",
     "text": [
      "11/12/2019 04:29:25 PM correlation matrix finished : /Users/gracer/Google Drive/HCP_graph/1200/test/122620_r_matrix.nii.gz \n",
      "11/12/2019 04:29:25 PM correlation matrix finished : /Users/gracer/Google Drive/HCP_graph/1200/test/122620_zr_matrix.nii.gz \n",
      "11/12/2019 04:29:25 PM correlation matrix finished : /Users/gracer/Google Drive/HCP_graph/1200/test/122620_mask_matrix.nii.gz \n",
      "11/12/2019 04:29:25 PM correlation matrix finished : /Users/gracer/Google Drive/HCP_graph/1200/test/122620_zr_matrix.csv \n",
      "11/12/2019 04:29:25 PM correlation matrix finished : /Users/gracer/Google Drive/HCP_graph/1200/test/122620_r_matrix.csv \n",
      "11/12/2019 04:29:25 PM starting correlation \n"
     ]
    },
    {
     "name": "stdout",
     "output_type": "stream",
     "text": [
      "125222\n",
      "/Users/gracer/Google Drive/HCP_graph/1200/datasets/HCP_PTN1200/graph_analysis/node_timeseries/3T_HCP1200_MSMAll_d100_ts2/125222.txt\n"
     ]
    },
    {
     "name": "stderr",
     "output_type": "stream",
     "text": [
      "11/12/2019 04:29:26 PM correlation matrix finished : /Users/gracer/Google Drive/HCP_graph/1200/test/125222_r_matrix.nii.gz \n",
      "11/12/2019 04:29:26 PM correlation matrix finished : /Users/gracer/Google Drive/HCP_graph/1200/test/125222_zr_matrix.nii.gz \n",
      "11/12/2019 04:29:26 PM correlation matrix finished : /Users/gracer/Google Drive/HCP_graph/1200/test/125222_mask_matrix.nii.gz \n",
      "11/12/2019 04:29:26 PM correlation matrix finished : /Users/gracer/Google Drive/HCP_graph/1200/test/125222_zr_matrix.csv \n",
      "11/12/2019 04:29:26 PM correlation matrix finished : /Users/gracer/Google Drive/HCP_graph/1200/test/125222_r_matrix.csv \n",
      "11/12/2019 04:29:26 PM starting correlation \n"
     ]
    },
    {
     "name": "stdout",
     "output_type": "stream",
     "text": [
      "128127\n",
      "/Users/gracer/Google Drive/HCP_graph/1200/datasets/HCP_PTN1200/graph_analysis/node_timeseries/3T_HCP1200_MSMAll_d100_ts2/128127.txt\n"
     ]
    },
    {
     "name": "stderr",
     "output_type": "stream",
     "text": [
      "11/12/2019 04:29:27 PM correlation matrix finished : /Users/gracer/Google Drive/HCP_graph/1200/test/128127_r_matrix.nii.gz \n",
      "11/12/2019 04:29:27 PM correlation matrix finished : /Users/gracer/Google Drive/HCP_graph/1200/test/128127_zr_matrix.nii.gz \n",
      "11/12/2019 04:29:27 PM correlation matrix finished : /Users/gracer/Google Drive/HCP_graph/1200/test/128127_mask_matrix.nii.gz \n",
      "11/12/2019 04:29:27 PM correlation matrix finished : /Users/gracer/Google Drive/HCP_graph/1200/test/128127_zr_matrix.csv \n",
      "11/12/2019 04:29:27 PM correlation matrix finished : /Users/gracer/Google Drive/HCP_graph/1200/test/128127_r_matrix.csv \n",
      "11/12/2019 04:29:27 PM starting correlation \n"
     ]
    },
    {
     "name": "stdout",
     "output_type": "stream",
     "text": [
      "129634\n",
      "/Users/gracer/Google Drive/HCP_graph/1200/datasets/HCP_PTN1200/graph_analysis/node_timeseries/3T_HCP1200_MSMAll_d100_ts2/129634.txt\n"
     ]
    },
    {
     "name": "stderr",
     "output_type": "stream",
     "text": [
      "11/12/2019 04:29:27 PM correlation matrix finished : /Users/gracer/Google Drive/HCP_graph/1200/test/129634_r_matrix.nii.gz \n",
      "11/12/2019 04:29:27 PM correlation matrix finished : /Users/gracer/Google Drive/HCP_graph/1200/test/129634_zr_matrix.nii.gz \n",
      "11/12/2019 04:29:27 PM correlation matrix finished : /Users/gracer/Google Drive/HCP_graph/1200/test/129634_mask_matrix.nii.gz \n",
      "11/12/2019 04:29:27 PM correlation matrix finished : /Users/gracer/Google Drive/HCP_graph/1200/test/129634_zr_matrix.csv \n",
      "11/12/2019 04:29:27 PM correlation matrix finished : /Users/gracer/Google Drive/HCP_graph/1200/test/129634_r_matrix.csv \n",
      "11/12/2019 04:29:27 PM starting correlation \n"
     ]
    },
    {
     "name": "stdout",
     "output_type": "stream",
     "text": [
      "130013\n",
      "/Users/gracer/Google Drive/HCP_graph/1200/datasets/HCP_PTN1200/graph_analysis/node_timeseries/3T_HCP1200_MSMAll_d100_ts2/130013.txt\n"
     ]
    },
    {
     "name": "stderr",
     "output_type": "stream",
     "text": [
      "11/12/2019 04:29:28 PM correlation matrix finished : /Users/gracer/Google Drive/HCP_graph/1200/test/130013_r_matrix.nii.gz \n",
      "11/12/2019 04:29:28 PM correlation matrix finished : /Users/gracer/Google Drive/HCP_graph/1200/test/130013_zr_matrix.nii.gz \n",
      "11/12/2019 04:29:28 PM correlation matrix finished : /Users/gracer/Google Drive/HCP_graph/1200/test/130013_mask_matrix.nii.gz \n",
      "11/12/2019 04:29:28 PM correlation matrix finished : /Users/gracer/Google Drive/HCP_graph/1200/test/130013_zr_matrix.csv \n",
      "11/12/2019 04:29:28 PM correlation matrix finished : /Users/gracer/Google Drive/HCP_graph/1200/test/130013_r_matrix.csv \n",
      "11/12/2019 04:29:28 PM starting correlation \n"
     ]
    },
    {
     "name": "stdout",
     "output_type": "stream",
     "text": [
      "130821\n",
      "/Users/gracer/Google Drive/HCP_graph/1200/datasets/HCP_PTN1200/graph_analysis/node_timeseries/3T_HCP1200_MSMAll_d100_ts2/130821.txt\n"
     ]
    },
    {
     "name": "stderr",
     "output_type": "stream",
     "text": [
      "11/12/2019 04:29:29 PM correlation matrix finished : /Users/gracer/Google Drive/HCP_graph/1200/test/130821_r_matrix.nii.gz \n",
      "11/12/2019 04:29:29 PM correlation matrix finished : /Users/gracer/Google Drive/HCP_graph/1200/test/130821_zr_matrix.nii.gz \n",
      "11/12/2019 04:29:29 PM correlation matrix finished : /Users/gracer/Google Drive/HCP_graph/1200/test/130821_mask_matrix.nii.gz \n",
      "11/12/2019 04:29:29 PM correlation matrix finished : /Users/gracer/Google Drive/HCP_graph/1200/test/130821_zr_matrix.csv \n",
      "11/12/2019 04:29:29 PM correlation matrix finished : /Users/gracer/Google Drive/HCP_graph/1200/test/130821_r_matrix.csv \n",
      "11/12/2019 04:29:29 PM starting correlation \n"
     ]
    },
    {
     "name": "stdout",
     "output_type": "stream",
     "text": [
      "131419\n",
      "/Users/gracer/Google Drive/HCP_graph/1200/datasets/HCP_PTN1200/graph_analysis/node_timeseries/3T_HCP1200_MSMAll_d100_ts2/131419.txt\n"
     ]
    },
    {
     "name": "stderr",
     "output_type": "stream",
     "text": [
      "11/12/2019 04:29:29 PM correlation matrix finished : /Users/gracer/Google Drive/HCP_graph/1200/test/131419_r_matrix.nii.gz \n",
      "11/12/2019 04:29:29 PM correlation matrix finished : /Users/gracer/Google Drive/HCP_graph/1200/test/131419_zr_matrix.nii.gz \n",
      "11/12/2019 04:29:29 PM correlation matrix finished : /Users/gracer/Google Drive/HCP_graph/1200/test/131419_mask_matrix.nii.gz \n",
      "11/12/2019 04:29:29 PM correlation matrix finished : /Users/gracer/Google Drive/HCP_graph/1200/test/131419_zr_matrix.csv \n",
      "11/12/2019 04:29:29 PM correlation matrix finished : /Users/gracer/Google Drive/HCP_graph/1200/test/131419_r_matrix.csv \n",
      "11/12/2019 04:29:29 PM starting correlation \n"
     ]
    },
    {
     "name": "stdout",
     "output_type": "stream",
     "text": [
      "132017\n",
      "/Users/gracer/Google Drive/HCP_graph/1200/datasets/HCP_PTN1200/graph_analysis/node_timeseries/3T_HCP1200_MSMAll_d100_ts2/132017.txt\n"
     ]
    },
    {
     "name": "stderr",
     "output_type": "stream",
     "text": [
      "11/12/2019 04:29:30 PM correlation matrix finished : /Users/gracer/Google Drive/HCP_graph/1200/test/132017_r_matrix.nii.gz \n",
      "11/12/2019 04:29:30 PM correlation matrix finished : /Users/gracer/Google Drive/HCP_graph/1200/test/132017_zr_matrix.nii.gz \n",
      "11/12/2019 04:29:30 PM correlation matrix finished : /Users/gracer/Google Drive/HCP_graph/1200/test/132017_mask_matrix.nii.gz \n",
      "11/12/2019 04:29:30 PM correlation matrix finished : /Users/gracer/Google Drive/HCP_graph/1200/test/132017_zr_matrix.csv \n",
      "11/12/2019 04:29:30 PM correlation matrix finished : /Users/gracer/Google Drive/HCP_graph/1200/test/132017_r_matrix.csv \n",
      "11/12/2019 04:29:30 PM starting correlation \n"
     ]
    },
    {
     "name": "stdout",
     "output_type": "stream",
     "text": [
      "135225\n",
      "/Users/gracer/Google Drive/HCP_graph/1200/datasets/HCP_PTN1200/graph_analysis/node_timeseries/3T_HCP1200_MSMAll_d100_ts2/135225.txt\n"
     ]
    },
    {
     "name": "stderr",
     "output_type": "stream",
     "text": [
      "11/12/2019 04:29:31 PM correlation matrix finished : /Users/gracer/Google Drive/HCP_graph/1200/test/135225_r_matrix.nii.gz \n",
      "11/12/2019 04:29:31 PM correlation matrix finished : /Users/gracer/Google Drive/HCP_graph/1200/test/135225_zr_matrix.nii.gz \n",
      "11/12/2019 04:29:31 PM correlation matrix finished : /Users/gracer/Google Drive/HCP_graph/1200/test/135225_mask_matrix.nii.gz \n",
      "11/12/2019 04:29:31 PM correlation matrix finished : /Users/gracer/Google Drive/HCP_graph/1200/test/135225_zr_matrix.csv \n",
      "11/12/2019 04:29:31 PM correlation matrix finished : /Users/gracer/Google Drive/HCP_graph/1200/test/135225_r_matrix.csv \n",
      "11/12/2019 04:29:31 PM starting correlation \n"
     ]
    },
    {
     "name": "stdout",
     "output_type": "stream",
     "text": [
      "135629\n",
      "/Users/gracer/Google Drive/HCP_graph/1200/datasets/HCP_PTN1200/graph_analysis/node_timeseries/3T_HCP1200_MSMAll_d100_ts2/135629.txt\n"
     ]
    },
    {
     "name": "stderr",
     "output_type": "stream",
     "text": [
      "11/12/2019 04:29:31 PM correlation matrix finished : /Users/gracer/Google Drive/HCP_graph/1200/test/135629_r_matrix.nii.gz \n",
      "11/12/2019 04:29:31 PM correlation matrix finished : /Users/gracer/Google Drive/HCP_graph/1200/test/135629_zr_matrix.nii.gz \n",
      "11/12/2019 04:29:31 PM correlation matrix finished : /Users/gracer/Google Drive/HCP_graph/1200/test/135629_mask_matrix.nii.gz \n",
      "11/12/2019 04:29:31 PM correlation matrix finished : /Users/gracer/Google Drive/HCP_graph/1200/test/135629_zr_matrix.csv \n",
      "11/12/2019 04:29:31 PM correlation matrix finished : /Users/gracer/Google Drive/HCP_graph/1200/test/135629_r_matrix.csv \n",
      "11/12/2019 04:29:31 PM starting correlation \n"
     ]
    },
    {
     "name": "stdout",
     "output_type": "stream",
     "text": [
      "137027\n",
      "/Users/gracer/Google Drive/HCP_graph/1200/datasets/HCP_PTN1200/graph_analysis/node_timeseries/3T_HCP1200_MSMAll_d100_ts2/137027.txt\n"
     ]
    },
    {
     "name": "stderr",
     "output_type": "stream",
     "text": [
      "11/12/2019 04:29:32 PM correlation matrix finished : /Users/gracer/Google Drive/HCP_graph/1200/test/137027_r_matrix.nii.gz \n",
      "11/12/2019 04:29:32 PM correlation matrix finished : /Users/gracer/Google Drive/HCP_graph/1200/test/137027_zr_matrix.nii.gz \n",
      "11/12/2019 04:29:32 PM correlation matrix finished : /Users/gracer/Google Drive/HCP_graph/1200/test/137027_mask_matrix.nii.gz \n",
      "11/12/2019 04:29:32 PM correlation matrix finished : /Users/gracer/Google Drive/HCP_graph/1200/test/137027_zr_matrix.csv \n",
      "11/12/2019 04:29:32 PM correlation matrix finished : /Users/gracer/Google Drive/HCP_graph/1200/test/137027_r_matrix.csv \n",
      "11/12/2019 04:29:32 PM starting correlation \n"
     ]
    },
    {
     "name": "stdout",
     "output_type": "stream",
     "text": [
      "138231\n",
      "/Users/gracer/Google Drive/HCP_graph/1200/datasets/HCP_PTN1200/graph_analysis/node_timeseries/3T_HCP1200_MSMAll_d100_ts2/138231.txt\n"
     ]
    },
    {
     "name": "stderr",
     "output_type": "stream",
     "text": [
      "11/12/2019 04:29:32 PM correlation matrix finished : /Users/gracer/Google Drive/HCP_graph/1200/test/138231_r_matrix.nii.gz \n",
      "11/12/2019 04:29:32 PM correlation matrix finished : /Users/gracer/Google Drive/HCP_graph/1200/test/138231_zr_matrix.nii.gz \n",
      "11/12/2019 04:29:32 PM correlation matrix finished : /Users/gracer/Google Drive/HCP_graph/1200/test/138231_mask_matrix.nii.gz \n",
      "11/12/2019 04:29:32 PM correlation matrix finished : /Users/gracer/Google Drive/HCP_graph/1200/test/138231_zr_matrix.csv \n",
      "11/12/2019 04:29:32 PM correlation matrix finished : /Users/gracer/Google Drive/HCP_graph/1200/test/138231_r_matrix.csv \n",
      "11/12/2019 04:29:32 PM starting correlation \n"
     ]
    },
    {
     "name": "stdout",
     "output_type": "stream",
     "text": [
      "138332\n",
      "/Users/gracer/Google Drive/HCP_graph/1200/datasets/HCP_PTN1200/graph_analysis/node_timeseries/3T_HCP1200_MSMAll_d100_ts2/138332.txt\n"
     ]
    },
    {
     "name": "stderr",
     "output_type": "stream",
     "text": [
      "11/12/2019 04:29:33 PM correlation matrix finished : /Users/gracer/Google Drive/HCP_graph/1200/test/138332_r_matrix.nii.gz \n",
      "11/12/2019 04:29:33 PM correlation matrix finished : /Users/gracer/Google Drive/HCP_graph/1200/test/138332_zr_matrix.nii.gz \n",
      "11/12/2019 04:29:33 PM correlation matrix finished : /Users/gracer/Google Drive/HCP_graph/1200/test/138332_mask_matrix.nii.gz \n",
      "11/12/2019 04:29:33 PM correlation matrix finished : /Users/gracer/Google Drive/HCP_graph/1200/test/138332_zr_matrix.csv \n",
      "11/12/2019 04:29:33 PM correlation matrix finished : /Users/gracer/Google Drive/HCP_graph/1200/test/138332_r_matrix.csv \n",
      "11/12/2019 04:29:33 PM starting correlation \n"
     ]
    },
    {
     "name": "stdout",
     "output_type": "stream",
     "text": [
      "138534\n",
      "/Users/gracer/Google Drive/HCP_graph/1200/datasets/HCP_PTN1200/graph_analysis/node_timeseries/3T_HCP1200_MSMAll_d100_ts2/138534.txt\n"
     ]
    },
    {
     "name": "stderr",
     "output_type": "stream",
     "text": [
      "11/12/2019 04:29:34 PM correlation matrix finished : /Users/gracer/Google Drive/HCP_graph/1200/test/138534_r_matrix.nii.gz \n",
      "11/12/2019 04:29:34 PM correlation matrix finished : /Users/gracer/Google Drive/HCP_graph/1200/test/138534_zr_matrix.nii.gz \n",
      "11/12/2019 04:29:34 PM correlation matrix finished : /Users/gracer/Google Drive/HCP_graph/1200/test/138534_mask_matrix.nii.gz \n",
      "11/12/2019 04:29:34 PM correlation matrix finished : /Users/gracer/Google Drive/HCP_graph/1200/test/138534_zr_matrix.csv \n",
      "11/12/2019 04:29:34 PM correlation matrix finished : /Users/gracer/Google Drive/HCP_graph/1200/test/138534_r_matrix.csv \n",
      "11/12/2019 04:29:34 PM starting correlation \n"
     ]
    },
    {
     "name": "stdout",
     "output_type": "stream",
     "text": [
      "138837\n",
      "/Users/gracer/Google Drive/HCP_graph/1200/datasets/HCP_PTN1200/graph_analysis/node_timeseries/3T_HCP1200_MSMAll_d100_ts2/138837.txt\n"
     ]
    },
    {
     "name": "stderr",
     "output_type": "stream",
     "text": [
      "11/12/2019 04:29:34 PM correlation matrix finished : /Users/gracer/Google Drive/HCP_graph/1200/test/138837_r_matrix.nii.gz \n",
      "11/12/2019 04:29:34 PM correlation matrix finished : /Users/gracer/Google Drive/HCP_graph/1200/test/138837_zr_matrix.nii.gz \n",
      "11/12/2019 04:29:34 PM correlation matrix finished : /Users/gracer/Google Drive/HCP_graph/1200/test/138837_mask_matrix.nii.gz \n",
      "11/12/2019 04:29:34 PM correlation matrix finished : /Users/gracer/Google Drive/HCP_graph/1200/test/138837_zr_matrix.csv \n",
      "11/12/2019 04:29:34 PM correlation matrix finished : /Users/gracer/Google Drive/HCP_graph/1200/test/138837_r_matrix.csv \n",
      "11/12/2019 04:29:34 PM starting correlation \n"
     ]
    },
    {
     "name": "stdout",
     "output_type": "stream",
     "text": [
      "140319\n",
      "/Users/gracer/Google Drive/HCP_graph/1200/datasets/HCP_PTN1200/graph_analysis/node_timeseries/3T_HCP1200_MSMAll_d100_ts2/140319.txt\n"
     ]
    },
    {
     "name": "stderr",
     "output_type": "stream",
     "text": [
      "11/12/2019 04:29:35 PM correlation matrix finished : /Users/gracer/Google Drive/HCP_graph/1200/test/140319_r_matrix.nii.gz \n",
      "11/12/2019 04:29:35 PM correlation matrix finished : /Users/gracer/Google Drive/HCP_graph/1200/test/140319_zr_matrix.nii.gz \n",
      "11/12/2019 04:29:35 PM correlation matrix finished : /Users/gracer/Google Drive/HCP_graph/1200/test/140319_mask_matrix.nii.gz \n",
      "11/12/2019 04:29:35 PM correlation matrix finished : /Users/gracer/Google Drive/HCP_graph/1200/test/140319_zr_matrix.csv \n",
      "11/12/2019 04:29:35 PM correlation matrix finished : /Users/gracer/Google Drive/HCP_graph/1200/test/140319_r_matrix.csv \n",
      "11/12/2019 04:29:35 PM starting correlation \n"
     ]
    },
    {
     "name": "stdout",
     "output_type": "stream",
     "text": [
      "141624\n",
      "no 141624\n",
      "142828\n",
      "/Users/gracer/Google Drive/HCP_graph/1200/datasets/HCP_PTN1200/graph_analysis/node_timeseries/3T_HCP1200_MSMAll_d100_ts2/142828.txt\n"
     ]
    },
    {
     "name": "stderr",
     "output_type": "stream",
     "text": [
      "11/12/2019 04:29:35 PM correlation matrix finished : /Users/gracer/Google Drive/HCP_graph/1200/test/142828_r_matrix.nii.gz \n",
      "11/12/2019 04:29:35 PM correlation matrix finished : /Users/gracer/Google Drive/HCP_graph/1200/test/142828_zr_matrix.nii.gz \n",
      "11/12/2019 04:29:35 PM correlation matrix finished : /Users/gracer/Google Drive/HCP_graph/1200/test/142828_mask_matrix.nii.gz \n",
      "11/12/2019 04:29:35 PM correlation matrix finished : /Users/gracer/Google Drive/HCP_graph/1200/test/142828_zr_matrix.csv \n",
      "11/12/2019 04:29:35 PM correlation matrix finished : /Users/gracer/Google Drive/HCP_graph/1200/test/142828_r_matrix.csv \n",
      "11/12/2019 04:29:35 PM starting correlation \n"
     ]
    },
    {
     "name": "stdout",
     "output_type": "stream",
     "text": [
      "143527\n",
      "no 143527\n",
      "144125\n",
      "/Users/gracer/Google Drive/HCP_graph/1200/datasets/HCP_PTN1200/graph_analysis/node_timeseries/3T_HCP1200_MSMAll_d100_ts2/144125.txt\n"
     ]
    },
    {
     "name": "stderr",
     "output_type": "stream",
     "text": [
      "11/12/2019 04:29:36 PM correlation matrix finished : /Users/gracer/Google Drive/HCP_graph/1200/test/144125_r_matrix.nii.gz \n",
      "11/12/2019 04:29:36 PM correlation matrix finished : /Users/gracer/Google Drive/HCP_graph/1200/test/144125_zr_matrix.nii.gz \n",
      "11/12/2019 04:29:36 PM correlation matrix finished : /Users/gracer/Google Drive/HCP_graph/1200/test/144125_mask_matrix.nii.gz \n",
      "11/12/2019 04:29:36 PM correlation matrix finished : /Users/gracer/Google Drive/HCP_graph/1200/test/144125_zr_matrix.csv \n",
      "11/12/2019 04:29:36 PM correlation matrix finished : /Users/gracer/Google Drive/HCP_graph/1200/test/144125_r_matrix.csv \n",
      "11/12/2019 04:29:36 PM starting correlation \n"
     ]
    },
    {
     "name": "stdout",
     "output_type": "stream",
     "text": [
      "144428\n",
      "/Users/gracer/Google Drive/HCP_graph/1200/datasets/HCP_PTN1200/graph_analysis/node_timeseries/3T_HCP1200_MSMAll_d100_ts2/144428.txt\n"
     ]
    },
    {
     "name": "stderr",
     "output_type": "stream",
     "text": [
      "11/12/2019 04:29:36 PM correlation matrix finished : /Users/gracer/Google Drive/HCP_graph/1200/test/144428_r_matrix.nii.gz \n",
      "11/12/2019 04:29:36 PM correlation matrix finished : /Users/gracer/Google Drive/HCP_graph/1200/test/144428_zr_matrix.nii.gz \n",
      "11/12/2019 04:29:36 PM correlation matrix finished : /Users/gracer/Google Drive/HCP_graph/1200/test/144428_mask_matrix.nii.gz \n",
      "11/12/2019 04:29:36 PM correlation matrix finished : /Users/gracer/Google Drive/HCP_graph/1200/test/144428_zr_matrix.csv \n",
      "11/12/2019 04:29:36 PM correlation matrix finished : /Users/gracer/Google Drive/HCP_graph/1200/test/144428_r_matrix.csv \n",
      "11/12/2019 04:29:36 PM starting correlation \n"
     ]
    },
    {
     "name": "stdout",
     "output_type": "stream",
     "text": [
      "145127\n",
      "/Users/gracer/Google Drive/HCP_graph/1200/datasets/HCP_PTN1200/graph_analysis/node_timeseries/3T_HCP1200_MSMAll_d100_ts2/145127.txt\n"
     ]
    },
    {
     "name": "stderr",
     "output_type": "stream",
     "text": [
      "11/12/2019 04:29:37 PM correlation matrix finished : /Users/gracer/Google Drive/HCP_graph/1200/test/145127_r_matrix.nii.gz \n",
      "11/12/2019 04:29:37 PM correlation matrix finished : /Users/gracer/Google Drive/HCP_graph/1200/test/145127_zr_matrix.nii.gz \n",
      "11/12/2019 04:29:37 PM correlation matrix finished : /Users/gracer/Google Drive/HCP_graph/1200/test/145127_mask_matrix.nii.gz \n",
      "11/12/2019 04:29:37 PM correlation matrix finished : /Users/gracer/Google Drive/HCP_graph/1200/test/145127_zr_matrix.csv \n",
      "11/12/2019 04:29:37 PM correlation matrix finished : /Users/gracer/Google Drive/HCP_graph/1200/test/145127_r_matrix.csv \n",
      "11/12/2019 04:29:37 PM starting correlation \n"
     ]
    },
    {
     "name": "stdout",
     "output_type": "stream",
     "text": [
      "146331\n",
      "/Users/gracer/Google Drive/HCP_graph/1200/datasets/HCP_PTN1200/graph_analysis/node_timeseries/3T_HCP1200_MSMAll_d100_ts2/146331.txt\n"
     ]
    },
    {
     "name": "stderr",
     "output_type": "stream",
     "text": [
      "11/12/2019 04:29:38 PM correlation matrix finished : /Users/gracer/Google Drive/HCP_graph/1200/test/146331_r_matrix.nii.gz \n",
      "11/12/2019 04:29:38 PM correlation matrix finished : /Users/gracer/Google Drive/HCP_graph/1200/test/146331_zr_matrix.nii.gz \n",
      "11/12/2019 04:29:38 PM correlation matrix finished : /Users/gracer/Google Drive/HCP_graph/1200/test/146331_mask_matrix.nii.gz \n",
      "11/12/2019 04:29:38 PM correlation matrix finished : /Users/gracer/Google Drive/HCP_graph/1200/test/146331_zr_matrix.csv \n",
      "11/12/2019 04:29:38 PM correlation matrix finished : /Users/gracer/Google Drive/HCP_graph/1200/test/146331_r_matrix.csv \n",
      "11/12/2019 04:29:38 PM starting correlation \n"
     ]
    },
    {
     "name": "stdout",
     "output_type": "stream",
     "text": [
      "146533\n",
      "/Users/gracer/Google Drive/HCP_graph/1200/datasets/HCP_PTN1200/graph_analysis/node_timeseries/3T_HCP1200_MSMAll_d100_ts2/146533.txt\n"
     ]
    },
    {
     "name": "stderr",
     "output_type": "stream",
     "text": [
      "11/12/2019 04:29:38 PM correlation matrix finished : /Users/gracer/Google Drive/HCP_graph/1200/test/146533_r_matrix.nii.gz \n",
      "11/12/2019 04:29:38 PM correlation matrix finished : /Users/gracer/Google Drive/HCP_graph/1200/test/146533_zr_matrix.nii.gz \n",
      "11/12/2019 04:29:38 PM correlation matrix finished : /Users/gracer/Google Drive/HCP_graph/1200/test/146533_mask_matrix.nii.gz \n",
      "11/12/2019 04:29:38 PM correlation matrix finished : /Users/gracer/Google Drive/HCP_graph/1200/test/146533_zr_matrix.csv \n",
      "11/12/2019 04:29:38 PM correlation matrix finished : /Users/gracer/Google Drive/HCP_graph/1200/test/146533_r_matrix.csv \n",
      "11/12/2019 04:29:38 PM starting correlation \n"
     ]
    },
    {
     "name": "stdout",
     "output_type": "stream",
     "text": [
      "148032\n",
      "/Users/gracer/Google Drive/HCP_graph/1200/datasets/HCP_PTN1200/graph_analysis/node_timeseries/3T_HCP1200_MSMAll_d100_ts2/148032.txt\n"
     ]
    },
    {
     "name": "stderr",
     "output_type": "stream",
     "text": [
      "11/12/2019 04:29:39 PM correlation matrix finished : /Users/gracer/Google Drive/HCP_graph/1200/test/148032_r_matrix.nii.gz \n",
      "11/12/2019 04:29:39 PM correlation matrix finished : /Users/gracer/Google Drive/HCP_graph/1200/test/148032_zr_matrix.nii.gz \n",
      "11/12/2019 04:29:39 PM correlation matrix finished : /Users/gracer/Google Drive/HCP_graph/1200/test/148032_mask_matrix.nii.gz \n",
      "11/12/2019 04:29:39 PM correlation matrix finished : /Users/gracer/Google Drive/HCP_graph/1200/test/148032_zr_matrix.csv \n",
      "11/12/2019 04:29:39 PM correlation matrix finished : /Users/gracer/Google Drive/HCP_graph/1200/test/148032_r_matrix.csv \n",
      "11/12/2019 04:29:39 PM starting correlation \n"
     ]
    },
    {
     "name": "stdout",
     "output_type": "stream",
     "text": [
      "148840\n",
      "/Users/gracer/Google Drive/HCP_graph/1200/datasets/HCP_PTN1200/graph_analysis/node_timeseries/3T_HCP1200_MSMAll_d100_ts2/148840.txt\n"
     ]
    },
    {
     "name": "stderr",
     "output_type": "stream",
     "text": [
      "11/12/2019 04:29:39 PM correlation matrix finished : /Users/gracer/Google Drive/HCP_graph/1200/test/148840_r_matrix.nii.gz \n",
      "11/12/2019 04:29:39 PM correlation matrix finished : /Users/gracer/Google Drive/HCP_graph/1200/test/148840_zr_matrix.nii.gz \n",
      "11/12/2019 04:29:39 PM correlation matrix finished : /Users/gracer/Google Drive/HCP_graph/1200/test/148840_mask_matrix.nii.gz \n",
      "11/12/2019 04:29:39 PM correlation matrix finished : /Users/gracer/Google Drive/HCP_graph/1200/test/148840_zr_matrix.csv \n",
      "11/12/2019 04:29:39 PM correlation matrix finished : /Users/gracer/Google Drive/HCP_graph/1200/test/148840_r_matrix.csv \n",
      "11/12/2019 04:29:39 PM starting correlation \n"
     ]
    },
    {
     "name": "stdout",
     "output_type": "stream",
     "text": [
      "149842\n",
      "/Users/gracer/Google Drive/HCP_graph/1200/datasets/HCP_PTN1200/graph_analysis/node_timeseries/3T_HCP1200_MSMAll_d100_ts2/149842.txt\n"
     ]
    },
    {
     "name": "stderr",
     "output_type": "stream",
     "text": [
      "11/12/2019 04:29:41 PM correlation matrix finished : /Users/gracer/Google Drive/HCP_graph/1200/test/149842_r_matrix.nii.gz \n",
      "11/12/2019 04:29:41 PM correlation matrix finished : /Users/gracer/Google Drive/HCP_graph/1200/test/149842_zr_matrix.nii.gz \n",
      "11/12/2019 04:29:41 PM correlation matrix finished : /Users/gracer/Google Drive/HCP_graph/1200/test/149842_mask_matrix.nii.gz \n",
      "11/12/2019 04:29:41 PM correlation matrix finished : /Users/gracer/Google Drive/HCP_graph/1200/test/149842_zr_matrix.csv \n",
      "11/12/2019 04:29:41 PM correlation matrix finished : /Users/gracer/Google Drive/HCP_graph/1200/test/149842_r_matrix.csv \n",
      "11/12/2019 04:29:41 PM starting correlation \n"
     ]
    },
    {
     "name": "stdout",
     "output_type": "stream",
     "text": [
      "150019\n",
      "no 150019\n",
      "150524\n",
      "no 150524\n",
      "152427\n",
      "/Users/gracer/Google Drive/HCP_graph/1200/datasets/HCP_PTN1200/graph_analysis/node_timeseries/3T_HCP1200_MSMAll_d100_ts2/152427.txt\n"
     ]
    },
    {
     "name": "stderr",
     "output_type": "stream",
     "text": [
      "11/12/2019 04:29:41 PM correlation matrix finished : /Users/gracer/Google Drive/HCP_graph/1200/test/152427_r_matrix.nii.gz \n",
      "11/12/2019 04:29:41 PM correlation matrix finished : /Users/gracer/Google Drive/HCP_graph/1200/test/152427_zr_matrix.nii.gz \n",
      "11/12/2019 04:29:41 PM correlation matrix finished : /Users/gracer/Google Drive/HCP_graph/1200/test/152427_mask_matrix.nii.gz \n",
      "11/12/2019 04:29:41 PM correlation matrix finished : /Users/gracer/Google Drive/HCP_graph/1200/test/152427_zr_matrix.csv \n",
      "11/12/2019 04:29:41 PM correlation matrix finished : /Users/gracer/Google Drive/HCP_graph/1200/test/152427_r_matrix.csv \n",
      "11/12/2019 04:29:41 PM starting correlation \n"
     ]
    },
    {
     "name": "stdout",
     "output_type": "stream",
     "text": [
      "153429\n",
      "/Users/gracer/Google Drive/HCP_graph/1200/datasets/HCP_PTN1200/graph_analysis/node_timeseries/3T_HCP1200_MSMAll_d100_ts2/153429.txt\n"
     ]
    },
    {
     "name": "stderr",
     "output_type": "stream",
     "text": [
      "11/12/2019 04:29:42 PM correlation matrix finished : /Users/gracer/Google Drive/HCP_graph/1200/test/153429_r_matrix.nii.gz \n",
      "11/12/2019 04:29:42 PM correlation matrix finished : /Users/gracer/Google Drive/HCP_graph/1200/test/153429_zr_matrix.nii.gz \n",
      "11/12/2019 04:29:42 PM correlation matrix finished : /Users/gracer/Google Drive/HCP_graph/1200/test/153429_mask_matrix.nii.gz \n",
      "11/12/2019 04:29:42 PM correlation matrix finished : /Users/gracer/Google Drive/HCP_graph/1200/test/153429_zr_matrix.csv \n",
      "11/12/2019 04:29:42 PM correlation matrix finished : /Users/gracer/Google Drive/HCP_graph/1200/test/153429_r_matrix.csv \n",
      "11/12/2019 04:29:42 PM starting correlation \n"
     ]
    },
    {
     "name": "stdout",
     "output_type": "stream",
     "text": [
      "154734\n",
      "/Users/gracer/Google Drive/HCP_graph/1200/datasets/HCP_PTN1200/graph_analysis/node_timeseries/3T_HCP1200_MSMAll_d100_ts2/154734.txt\n"
     ]
    },
    {
     "name": "stderr",
     "output_type": "stream",
     "text": [
      "11/12/2019 04:29:43 PM correlation matrix finished : /Users/gracer/Google Drive/HCP_graph/1200/test/154734_r_matrix.nii.gz \n",
      "11/12/2019 04:29:43 PM correlation matrix finished : /Users/gracer/Google Drive/HCP_graph/1200/test/154734_zr_matrix.nii.gz \n",
      "11/12/2019 04:29:43 PM correlation matrix finished : /Users/gracer/Google Drive/HCP_graph/1200/test/154734_mask_matrix.nii.gz \n",
      "11/12/2019 04:29:43 PM correlation matrix finished : /Users/gracer/Google Drive/HCP_graph/1200/test/154734_zr_matrix.csv \n",
      "11/12/2019 04:29:43 PM correlation matrix finished : /Users/gracer/Google Drive/HCP_graph/1200/test/154734_r_matrix.csv \n",
      "11/12/2019 04:29:43 PM starting correlation \n"
     ]
    },
    {
     "name": "stdout",
     "output_type": "stream",
     "text": [
      "156536\n",
      "/Users/gracer/Google Drive/HCP_graph/1200/datasets/HCP_PTN1200/graph_analysis/node_timeseries/3T_HCP1200_MSMAll_d100_ts2/156536.txt\n"
     ]
    },
    {
     "name": "stderr",
     "output_type": "stream",
     "text": [
      "11/12/2019 04:29:44 PM correlation matrix finished : /Users/gracer/Google Drive/HCP_graph/1200/test/156536_r_matrix.nii.gz \n",
      "11/12/2019 04:29:44 PM correlation matrix finished : /Users/gracer/Google Drive/HCP_graph/1200/test/156536_zr_matrix.nii.gz \n",
      "11/12/2019 04:29:44 PM correlation matrix finished : /Users/gracer/Google Drive/HCP_graph/1200/test/156536_mask_matrix.nii.gz \n",
      "11/12/2019 04:29:44 PM correlation matrix finished : /Users/gracer/Google Drive/HCP_graph/1200/test/156536_zr_matrix.csv \n",
      "11/12/2019 04:29:44 PM correlation matrix finished : /Users/gracer/Google Drive/HCP_graph/1200/test/156536_r_matrix.csv \n",
      "11/12/2019 04:29:44 PM starting correlation \n"
     ]
    },
    {
     "name": "stdout",
     "output_type": "stream",
     "text": [
      "157437\n",
      "/Users/gracer/Google Drive/HCP_graph/1200/datasets/HCP_PTN1200/graph_analysis/node_timeseries/3T_HCP1200_MSMAll_d100_ts2/157437.txt\n"
     ]
    },
    {
     "name": "stderr",
     "output_type": "stream",
     "text": [
      "11/12/2019 04:29:45 PM correlation matrix finished : /Users/gracer/Google Drive/HCP_graph/1200/test/157437_r_matrix.nii.gz \n",
      "11/12/2019 04:29:45 PM correlation matrix finished : /Users/gracer/Google Drive/HCP_graph/1200/test/157437_zr_matrix.nii.gz \n",
      "11/12/2019 04:29:45 PM correlation matrix finished : /Users/gracer/Google Drive/HCP_graph/1200/test/157437_mask_matrix.nii.gz \n",
      "11/12/2019 04:29:45 PM correlation matrix finished : /Users/gracer/Google Drive/HCP_graph/1200/test/157437_zr_matrix.csv \n",
      "11/12/2019 04:29:45 PM correlation matrix finished : /Users/gracer/Google Drive/HCP_graph/1200/test/157437_r_matrix.csv \n",
      "11/12/2019 04:29:45 PM starting correlation \n"
     ]
    },
    {
     "name": "stdout",
     "output_type": "stream",
     "text": [
      "157942\n",
      "/Users/gracer/Google Drive/HCP_graph/1200/datasets/HCP_PTN1200/graph_analysis/node_timeseries/3T_HCP1200_MSMAll_d100_ts2/157942.txt\n"
     ]
    },
    {
     "name": "stderr",
     "output_type": "stream",
     "text": [
      "11/12/2019 04:29:46 PM correlation matrix finished : /Users/gracer/Google Drive/HCP_graph/1200/test/157942_r_matrix.nii.gz \n",
      "11/12/2019 04:29:46 PM correlation matrix finished : /Users/gracer/Google Drive/HCP_graph/1200/test/157942_zr_matrix.nii.gz \n",
      "11/12/2019 04:29:46 PM correlation matrix finished : /Users/gracer/Google Drive/HCP_graph/1200/test/157942_mask_matrix.nii.gz \n",
      "11/12/2019 04:29:46 PM correlation matrix finished : /Users/gracer/Google Drive/HCP_graph/1200/test/157942_zr_matrix.csv \n",
      "11/12/2019 04:29:46 PM correlation matrix finished : /Users/gracer/Google Drive/HCP_graph/1200/test/157942_r_matrix.csv \n",
      "11/12/2019 04:29:46 PM starting correlation \n"
     ]
    },
    {
     "name": "stdout",
     "output_type": "stream",
     "text": [
      "158843\n",
      "/Users/gracer/Google Drive/HCP_graph/1200/datasets/HCP_PTN1200/graph_analysis/node_timeseries/3T_HCP1200_MSMAll_d100_ts2/158843.txt\n"
     ]
    },
    {
     "name": "stderr",
     "output_type": "stream",
     "text": [
      "11/12/2019 04:29:47 PM correlation matrix finished : /Users/gracer/Google Drive/HCP_graph/1200/test/158843_r_matrix.nii.gz \n",
      "11/12/2019 04:29:47 PM correlation matrix finished : /Users/gracer/Google Drive/HCP_graph/1200/test/158843_zr_matrix.nii.gz \n",
      "11/12/2019 04:29:47 PM correlation matrix finished : /Users/gracer/Google Drive/HCP_graph/1200/test/158843_mask_matrix.nii.gz \n",
      "11/12/2019 04:29:47 PM correlation matrix finished : /Users/gracer/Google Drive/HCP_graph/1200/test/158843_zr_matrix.csv \n",
      "11/12/2019 04:29:47 PM correlation matrix finished : /Users/gracer/Google Drive/HCP_graph/1200/test/158843_r_matrix.csv \n",
      "11/12/2019 04:29:47 PM starting correlation \n"
     ]
    },
    {
     "name": "stdout",
     "output_type": "stream",
     "text": [
      "160123\n",
      "/Users/gracer/Google Drive/HCP_graph/1200/datasets/HCP_PTN1200/graph_analysis/node_timeseries/3T_HCP1200_MSMAll_d100_ts2/160123.txt\n"
     ]
    },
    {
     "name": "stderr",
     "output_type": "stream",
     "text": [
      "11/12/2019 04:29:48 PM correlation matrix finished : /Users/gracer/Google Drive/HCP_graph/1200/test/160123_r_matrix.nii.gz \n",
      "11/12/2019 04:29:48 PM correlation matrix finished : /Users/gracer/Google Drive/HCP_graph/1200/test/160123_zr_matrix.nii.gz \n",
      "11/12/2019 04:29:48 PM correlation matrix finished : /Users/gracer/Google Drive/HCP_graph/1200/test/160123_mask_matrix.nii.gz \n",
      "11/12/2019 04:29:48 PM correlation matrix finished : /Users/gracer/Google Drive/HCP_graph/1200/test/160123_zr_matrix.csv \n",
      "11/12/2019 04:29:48 PM correlation matrix finished : /Users/gracer/Google Drive/HCP_graph/1200/test/160123_r_matrix.csv \n",
      "11/12/2019 04:29:48 PM starting correlation \n"
     ]
    },
    {
     "name": "stdout",
     "output_type": "stream",
     "text": [
      "160729\n",
      "/Users/gracer/Google Drive/HCP_graph/1200/datasets/HCP_PTN1200/graph_analysis/node_timeseries/3T_HCP1200_MSMAll_d100_ts2/160729.txt\n"
     ]
    },
    {
     "name": "stderr",
     "output_type": "stream",
     "text": [
      "11/12/2019 04:29:49 PM correlation matrix finished : /Users/gracer/Google Drive/HCP_graph/1200/test/160729_r_matrix.nii.gz \n",
      "11/12/2019 04:29:49 PM correlation matrix finished : /Users/gracer/Google Drive/HCP_graph/1200/test/160729_zr_matrix.nii.gz \n",
      "11/12/2019 04:29:49 PM correlation matrix finished : /Users/gracer/Google Drive/HCP_graph/1200/test/160729_mask_matrix.nii.gz \n",
      "11/12/2019 04:29:49 PM correlation matrix finished : /Users/gracer/Google Drive/HCP_graph/1200/test/160729_zr_matrix.csv \n",
      "11/12/2019 04:29:49 PM correlation matrix finished : /Users/gracer/Google Drive/HCP_graph/1200/test/160729_r_matrix.csv \n",
      "11/12/2019 04:29:49 PM starting correlation \n"
     ]
    },
    {
     "name": "stdout",
     "output_type": "stream",
     "text": [
      "160931\n",
      "no 160931\n",
      "161731\n",
      "/Users/gracer/Google Drive/HCP_graph/1200/datasets/HCP_PTN1200/graph_analysis/node_timeseries/3T_HCP1200_MSMAll_d100_ts2/161731.txt\n"
     ]
    },
    {
     "name": "stderr",
     "output_type": "stream",
     "text": [
      "11/12/2019 04:29:50 PM correlation matrix finished : /Users/gracer/Google Drive/HCP_graph/1200/test/161731_r_matrix.nii.gz \n",
      "11/12/2019 04:29:50 PM correlation matrix finished : /Users/gracer/Google Drive/HCP_graph/1200/test/161731_zr_matrix.nii.gz \n",
      "11/12/2019 04:29:50 PM correlation matrix finished : /Users/gracer/Google Drive/HCP_graph/1200/test/161731_mask_matrix.nii.gz \n",
      "11/12/2019 04:29:50 PM correlation matrix finished : /Users/gracer/Google Drive/HCP_graph/1200/test/161731_zr_matrix.csv \n",
      "11/12/2019 04:29:50 PM correlation matrix finished : /Users/gracer/Google Drive/HCP_graph/1200/test/161731_r_matrix.csv \n",
      "11/12/2019 04:29:50 PM starting correlation \n"
     ]
    },
    {
     "name": "stdout",
     "output_type": "stream",
     "text": [
      "162228\n",
      "/Users/gracer/Google Drive/HCP_graph/1200/datasets/HCP_PTN1200/graph_analysis/node_timeseries/3T_HCP1200_MSMAll_d100_ts2/162228.txt\n"
     ]
    },
    {
     "name": "stderr",
     "output_type": "stream",
     "text": [
      "11/12/2019 04:29:51 PM correlation matrix finished : /Users/gracer/Google Drive/HCP_graph/1200/test/162228_r_matrix.nii.gz \n",
      "11/12/2019 04:29:51 PM correlation matrix finished : /Users/gracer/Google Drive/HCP_graph/1200/test/162228_zr_matrix.nii.gz \n",
      "11/12/2019 04:29:51 PM correlation matrix finished : /Users/gracer/Google Drive/HCP_graph/1200/test/162228_mask_matrix.nii.gz \n",
      "11/12/2019 04:29:51 PM correlation matrix finished : /Users/gracer/Google Drive/HCP_graph/1200/test/162228_zr_matrix.csv \n",
      "11/12/2019 04:29:51 PM correlation matrix finished : /Users/gracer/Google Drive/HCP_graph/1200/test/162228_r_matrix.csv \n",
      "11/12/2019 04:29:51 PM starting correlation \n"
     ]
    },
    {
     "name": "stdout",
     "output_type": "stream",
     "text": [
      "168038\n",
      "no 168038\n",
      "168139\n",
      "/Users/gracer/Google Drive/HCP_graph/1200/datasets/HCP_PTN1200/graph_analysis/node_timeseries/3T_HCP1200_MSMAll_d100_ts2/168139.txt\n"
     ]
    },
    {
     "name": "stderr",
     "output_type": "stream",
     "text": [
      "11/12/2019 04:29:52 PM correlation matrix finished : /Users/gracer/Google Drive/HCP_graph/1200/test/168139_r_matrix.nii.gz \n",
      "11/12/2019 04:29:52 PM correlation matrix finished : /Users/gracer/Google Drive/HCP_graph/1200/test/168139_zr_matrix.nii.gz \n",
      "11/12/2019 04:29:52 PM correlation matrix finished : /Users/gracer/Google Drive/HCP_graph/1200/test/168139_mask_matrix.nii.gz \n",
      "11/12/2019 04:29:52 PM correlation matrix finished : /Users/gracer/Google Drive/HCP_graph/1200/test/168139_zr_matrix.csv \n",
      "11/12/2019 04:29:52 PM correlation matrix finished : /Users/gracer/Google Drive/HCP_graph/1200/test/168139_r_matrix.csv \n",
      "11/12/2019 04:29:52 PM starting correlation \n"
     ]
    },
    {
     "name": "stdout",
     "output_type": "stream",
     "text": [
      "169545\n",
      "/Users/gracer/Google Drive/HCP_graph/1200/datasets/HCP_PTN1200/graph_analysis/node_timeseries/3T_HCP1200_MSMAll_d100_ts2/169545.txt\n"
     ]
    },
    {
     "name": "stderr",
     "output_type": "stream",
     "text": [
      "11/12/2019 04:29:52 PM correlation matrix finished : /Users/gracer/Google Drive/HCP_graph/1200/test/169545_r_matrix.nii.gz \n",
      "11/12/2019 04:29:52 PM correlation matrix finished : /Users/gracer/Google Drive/HCP_graph/1200/test/169545_zr_matrix.nii.gz \n",
      "11/12/2019 04:29:52 PM correlation matrix finished : /Users/gracer/Google Drive/HCP_graph/1200/test/169545_mask_matrix.nii.gz \n",
      "11/12/2019 04:29:52 PM correlation matrix finished : /Users/gracer/Google Drive/HCP_graph/1200/test/169545_zr_matrix.csv \n",
      "11/12/2019 04:29:52 PM correlation matrix finished : /Users/gracer/Google Drive/HCP_graph/1200/test/169545_r_matrix.csv \n",
      "11/12/2019 04:29:52 PM starting correlation \n"
     ]
    },
    {
     "name": "stdout",
     "output_type": "stream",
     "text": [
      "172534\n",
      "/Users/gracer/Google Drive/HCP_graph/1200/datasets/HCP_PTN1200/graph_analysis/node_timeseries/3T_HCP1200_MSMAll_d100_ts2/172534.txt\n"
     ]
    },
    {
     "name": "stderr",
     "output_type": "stream",
     "text": [
      "11/12/2019 04:29:53 PM correlation matrix finished : /Users/gracer/Google Drive/HCP_graph/1200/test/172534_r_matrix.nii.gz \n",
      "11/12/2019 04:29:53 PM correlation matrix finished : /Users/gracer/Google Drive/HCP_graph/1200/test/172534_zr_matrix.nii.gz \n",
      "11/12/2019 04:29:53 PM correlation matrix finished : /Users/gracer/Google Drive/HCP_graph/1200/test/172534_mask_matrix.nii.gz \n",
      "11/12/2019 04:29:53 PM correlation matrix finished : /Users/gracer/Google Drive/HCP_graph/1200/test/172534_zr_matrix.csv \n",
      "11/12/2019 04:29:53 PM correlation matrix finished : /Users/gracer/Google Drive/HCP_graph/1200/test/172534_r_matrix.csv \n",
      "11/12/2019 04:29:53 PM starting correlation \n"
     ]
    },
    {
     "name": "stdout",
     "output_type": "stream",
     "text": [
      "172635\n",
      "no 172635\n",
      "173233\n",
      "no 173233\n",
      "173435\n",
      "/Users/gracer/Google Drive/HCP_graph/1200/datasets/HCP_PTN1200/graph_analysis/node_timeseries/3T_HCP1200_MSMAll_d100_ts2/173435.txt\n"
     ]
    },
    {
     "name": "stderr",
     "output_type": "stream",
     "text": [
      "11/12/2019 04:29:54 PM correlation matrix finished : /Users/gracer/Google Drive/HCP_graph/1200/test/173435_r_matrix.nii.gz \n",
      "11/12/2019 04:29:54 PM correlation matrix finished : /Users/gracer/Google Drive/HCP_graph/1200/test/173435_zr_matrix.nii.gz \n",
      "11/12/2019 04:29:54 PM correlation matrix finished : /Users/gracer/Google Drive/HCP_graph/1200/test/173435_mask_matrix.nii.gz \n",
      "11/12/2019 04:29:54 PM correlation matrix finished : /Users/gracer/Google Drive/HCP_graph/1200/test/173435_zr_matrix.csv \n",
      "11/12/2019 04:29:54 PM correlation matrix finished : /Users/gracer/Google Drive/HCP_graph/1200/test/173435_r_matrix.csv \n",
      "11/12/2019 04:29:54 PM starting correlation \n"
     ]
    },
    {
     "name": "stdout",
     "output_type": "stream",
     "text": [
      "173536\n",
      "/Users/gracer/Google Drive/HCP_graph/1200/datasets/HCP_PTN1200/graph_analysis/node_timeseries/3T_HCP1200_MSMAll_d100_ts2/173536.txt\n"
     ]
    },
    {
     "name": "stderr",
     "output_type": "stream",
     "text": [
      "11/12/2019 04:29:55 PM correlation matrix finished : /Users/gracer/Google Drive/HCP_graph/1200/test/173536_r_matrix.nii.gz \n",
      "11/12/2019 04:29:55 PM correlation matrix finished : /Users/gracer/Google Drive/HCP_graph/1200/test/173536_zr_matrix.nii.gz \n",
      "11/12/2019 04:29:55 PM correlation matrix finished : /Users/gracer/Google Drive/HCP_graph/1200/test/173536_mask_matrix.nii.gz \n",
      "11/12/2019 04:29:55 PM correlation matrix finished : /Users/gracer/Google Drive/HCP_graph/1200/test/173536_zr_matrix.csv \n",
      "11/12/2019 04:29:55 PM correlation matrix finished : /Users/gracer/Google Drive/HCP_graph/1200/test/173536_r_matrix.csv \n",
      "11/12/2019 04:29:55 PM starting correlation \n"
     ]
    },
    {
     "name": "stdout",
     "output_type": "stream",
     "text": [
      "173637\n",
      "/Users/gracer/Google Drive/HCP_graph/1200/datasets/HCP_PTN1200/graph_analysis/node_timeseries/3T_HCP1200_MSMAll_d100_ts2/173637.txt\n"
     ]
    },
    {
     "name": "stderr",
     "output_type": "stream",
     "text": [
      "11/12/2019 04:29:56 PM correlation matrix finished : /Users/gracer/Google Drive/HCP_graph/1200/test/173637_r_matrix.nii.gz \n",
      "11/12/2019 04:29:56 PM correlation matrix finished : /Users/gracer/Google Drive/HCP_graph/1200/test/173637_zr_matrix.nii.gz \n",
      "11/12/2019 04:29:56 PM correlation matrix finished : /Users/gracer/Google Drive/HCP_graph/1200/test/173637_mask_matrix.nii.gz \n",
      "11/12/2019 04:29:56 PM correlation matrix finished : /Users/gracer/Google Drive/HCP_graph/1200/test/173637_zr_matrix.csv \n",
      "11/12/2019 04:29:56 PM correlation matrix finished : /Users/gracer/Google Drive/HCP_graph/1200/test/173637_r_matrix.csv \n",
      "11/12/2019 04:29:56 PM starting correlation \n"
     ]
    },
    {
     "name": "stdout",
     "output_type": "stream",
     "text": [
      "173738\n",
      "/Users/gracer/Google Drive/HCP_graph/1200/datasets/HCP_PTN1200/graph_analysis/node_timeseries/3T_HCP1200_MSMAll_d100_ts2/173738.txt\n"
     ]
    },
    {
     "name": "stderr",
     "output_type": "stream",
     "text": [
      "11/12/2019 04:29:56 PM correlation matrix finished : /Users/gracer/Google Drive/HCP_graph/1200/test/173738_r_matrix.nii.gz \n",
      "11/12/2019 04:29:56 PM correlation matrix finished : /Users/gracer/Google Drive/HCP_graph/1200/test/173738_zr_matrix.nii.gz \n",
      "11/12/2019 04:29:56 PM correlation matrix finished : /Users/gracer/Google Drive/HCP_graph/1200/test/173738_mask_matrix.nii.gz \n",
      "11/12/2019 04:29:56 PM correlation matrix finished : /Users/gracer/Google Drive/HCP_graph/1200/test/173738_zr_matrix.csv \n",
      "11/12/2019 04:29:56 PM correlation matrix finished : /Users/gracer/Google Drive/HCP_graph/1200/test/173738_r_matrix.csv \n",
      "11/12/2019 04:29:56 PM starting correlation \n"
     ]
    },
    {
     "name": "stdout",
     "output_type": "stream",
     "text": [
      "173940\n",
      "/Users/gracer/Google Drive/HCP_graph/1200/datasets/HCP_PTN1200/graph_analysis/node_timeseries/3T_HCP1200_MSMAll_d100_ts2/173940.txt\n"
     ]
    },
    {
     "name": "stderr",
     "output_type": "stream",
     "text": [
      "11/12/2019 04:29:57 PM correlation matrix finished : /Users/gracer/Google Drive/HCP_graph/1200/test/173940_r_matrix.nii.gz \n",
      "11/12/2019 04:29:57 PM correlation matrix finished : /Users/gracer/Google Drive/HCP_graph/1200/test/173940_zr_matrix.nii.gz \n",
      "11/12/2019 04:29:57 PM correlation matrix finished : /Users/gracer/Google Drive/HCP_graph/1200/test/173940_mask_matrix.nii.gz \n",
      "11/12/2019 04:29:57 PM correlation matrix finished : /Users/gracer/Google Drive/HCP_graph/1200/test/173940_zr_matrix.csv \n",
      "11/12/2019 04:29:57 PM correlation matrix finished : /Users/gracer/Google Drive/HCP_graph/1200/test/173940_r_matrix.csv \n",
      "11/12/2019 04:29:57 PM starting correlation \n"
     ]
    },
    {
     "name": "stdout",
     "output_type": "stream",
     "text": [
      "174437\n",
      "/Users/gracer/Google Drive/HCP_graph/1200/datasets/HCP_PTN1200/graph_analysis/node_timeseries/3T_HCP1200_MSMAll_d100_ts2/174437.txt\n"
     ]
    },
    {
     "name": "stderr",
     "output_type": "stream",
     "text": [
      "11/12/2019 04:29:58 PM correlation matrix finished : /Users/gracer/Google Drive/HCP_graph/1200/test/174437_r_matrix.nii.gz \n",
      "11/12/2019 04:29:58 PM correlation matrix finished : /Users/gracer/Google Drive/HCP_graph/1200/test/174437_zr_matrix.nii.gz \n",
      "11/12/2019 04:29:58 PM correlation matrix finished : /Users/gracer/Google Drive/HCP_graph/1200/test/174437_mask_matrix.nii.gz \n",
      "11/12/2019 04:29:58 PM correlation matrix finished : /Users/gracer/Google Drive/HCP_graph/1200/test/174437_zr_matrix.csv \n",
      "11/12/2019 04:29:58 PM correlation matrix finished : /Users/gracer/Google Drive/HCP_graph/1200/test/174437_r_matrix.csv \n",
      "11/12/2019 04:29:58 PM starting correlation \n"
     ]
    },
    {
     "name": "stdout",
     "output_type": "stream",
     "text": [
      "175338\n",
      "/Users/gracer/Google Drive/HCP_graph/1200/datasets/HCP_PTN1200/graph_analysis/node_timeseries/3T_HCP1200_MSMAll_d100_ts2/175338.txt\n"
     ]
    },
    {
     "name": "stderr",
     "output_type": "stream",
     "text": [
      "11/12/2019 04:29:58 PM correlation matrix finished : /Users/gracer/Google Drive/HCP_graph/1200/test/175338_r_matrix.nii.gz \n",
      "11/12/2019 04:29:58 PM correlation matrix finished : /Users/gracer/Google Drive/HCP_graph/1200/test/175338_zr_matrix.nii.gz \n",
      "11/12/2019 04:29:58 PM correlation matrix finished : /Users/gracer/Google Drive/HCP_graph/1200/test/175338_mask_matrix.nii.gz \n",
      "11/12/2019 04:29:58 PM correlation matrix finished : /Users/gracer/Google Drive/HCP_graph/1200/test/175338_zr_matrix.csv \n",
      "11/12/2019 04:29:58 PM correlation matrix finished : /Users/gracer/Google Drive/HCP_graph/1200/test/175338_r_matrix.csv \n",
      "11/12/2019 04:29:58 PM starting correlation \n"
     ]
    },
    {
     "name": "stdout",
     "output_type": "stream",
     "text": [
      "175742\n",
      "/Users/gracer/Google Drive/HCP_graph/1200/datasets/HCP_PTN1200/graph_analysis/node_timeseries/3T_HCP1200_MSMAll_d100_ts2/175742.txt\n"
     ]
    },
    {
     "name": "stderr",
     "output_type": "stream",
     "text": [
      "11/12/2019 04:29:59 PM correlation matrix finished : /Users/gracer/Google Drive/HCP_graph/1200/test/175742_r_matrix.nii.gz \n",
      "11/12/2019 04:29:59 PM correlation matrix finished : /Users/gracer/Google Drive/HCP_graph/1200/test/175742_zr_matrix.nii.gz \n",
      "11/12/2019 04:29:59 PM correlation matrix finished : /Users/gracer/Google Drive/HCP_graph/1200/test/175742_mask_matrix.nii.gz \n",
      "11/12/2019 04:29:59 PM correlation matrix finished : /Users/gracer/Google Drive/HCP_graph/1200/test/175742_zr_matrix.csv \n",
      "11/12/2019 04:29:59 PM correlation matrix finished : /Users/gracer/Google Drive/HCP_graph/1200/test/175742_r_matrix.csv \n",
      "11/12/2019 04:29:59 PM starting correlation \n"
     ]
    },
    {
     "name": "stdout",
     "output_type": "stream",
     "text": [
      "176037\n",
      "/Users/gracer/Google Drive/HCP_graph/1200/datasets/HCP_PTN1200/graph_analysis/node_timeseries/3T_HCP1200_MSMAll_d100_ts2/176037.txt\n"
     ]
    },
    {
     "name": "stderr",
     "output_type": "stream",
     "text": [
      "11/12/2019 04:30:01 PM correlation matrix finished : /Users/gracer/Google Drive/HCP_graph/1200/test/176037_r_matrix.nii.gz \n",
      "11/12/2019 04:30:01 PM correlation matrix finished : /Users/gracer/Google Drive/HCP_graph/1200/test/176037_zr_matrix.nii.gz \n",
      "11/12/2019 04:30:01 PM correlation matrix finished : /Users/gracer/Google Drive/HCP_graph/1200/test/176037_mask_matrix.nii.gz \n",
      "11/12/2019 04:30:01 PM correlation matrix finished : /Users/gracer/Google Drive/HCP_graph/1200/test/176037_zr_matrix.csv \n",
      "11/12/2019 04:30:01 PM correlation matrix finished : /Users/gracer/Google Drive/HCP_graph/1200/test/176037_r_matrix.csv \n",
      "11/12/2019 04:30:01 PM starting correlation \n"
     ]
    },
    {
     "name": "stdout",
     "output_type": "stream",
     "text": [
      "176441\n",
      "/Users/gracer/Google Drive/HCP_graph/1200/datasets/HCP_PTN1200/graph_analysis/node_timeseries/3T_HCP1200_MSMAll_d100_ts2/176441.txt\n"
     ]
    },
    {
     "name": "stderr",
     "output_type": "stream",
     "text": [
      "11/12/2019 04:30:03 PM correlation matrix finished : /Users/gracer/Google Drive/HCP_graph/1200/test/176441_r_matrix.nii.gz \n",
      "11/12/2019 04:30:03 PM correlation matrix finished : /Users/gracer/Google Drive/HCP_graph/1200/test/176441_zr_matrix.nii.gz \n",
      "11/12/2019 04:30:03 PM correlation matrix finished : /Users/gracer/Google Drive/HCP_graph/1200/test/176441_mask_matrix.nii.gz \n",
      "11/12/2019 04:30:03 PM correlation matrix finished : /Users/gracer/Google Drive/HCP_graph/1200/test/176441_zr_matrix.csv \n",
      "11/12/2019 04:30:03 PM correlation matrix finished : /Users/gracer/Google Drive/HCP_graph/1200/test/176441_r_matrix.csv \n",
      "11/12/2019 04:30:03 PM starting correlation \n"
     ]
    },
    {
     "name": "stdout",
     "output_type": "stream",
     "text": [
      "178849\n",
      "/Users/gracer/Google Drive/HCP_graph/1200/datasets/HCP_PTN1200/graph_analysis/node_timeseries/3T_HCP1200_MSMAll_d100_ts2/178849.txt\n"
     ]
    },
    {
     "name": "stderr",
     "output_type": "stream",
     "text": [
      "11/12/2019 04:30:04 PM correlation matrix finished : /Users/gracer/Google Drive/HCP_graph/1200/test/178849_r_matrix.nii.gz \n",
      "11/12/2019 04:30:04 PM correlation matrix finished : /Users/gracer/Google Drive/HCP_graph/1200/test/178849_zr_matrix.nii.gz \n",
      "11/12/2019 04:30:04 PM correlation matrix finished : /Users/gracer/Google Drive/HCP_graph/1200/test/178849_mask_matrix.nii.gz \n",
      "11/12/2019 04:30:04 PM correlation matrix finished : /Users/gracer/Google Drive/HCP_graph/1200/test/178849_zr_matrix.csv \n",
      "11/12/2019 04:30:04 PM correlation matrix finished : /Users/gracer/Google Drive/HCP_graph/1200/test/178849_r_matrix.csv \n",
      "11/12/2019 04:30:04 PM starting correlation \n"
     ]
    },
    {
     "name": "stdout",
     "output_type": "stream",
     "text": [
      "178950\n",
      "/Users/gracer/Google Drive/HCP_graph/1200/datasets/HCP_PTN1200/graph_analysis/node_timeseries/3T_HCP1200_MSMAll_d100_ts2/178950.txt\n"
     ]
    },
    {
     "name": "stderr",
     "output_type": "stream",
     "text": [
      "11/12/2019 04:30:06 PM correlation matrix finished : /Users/gracer/Google Drive/HCP_graph/1200/test/178950_r_matrix.nii.gz \n",
      "11/12/2019 04:30:06 PM correlation matrix finished : /Users/gracer/Google Drive/HCP_graph/1200/test/178950_zr_matrix.nii.gz \n",
      "11/12/2019 04:30:06 PM correlation matrix finished : /Users/gracer/Google Drive/HCP_graph/1200/test/178950_mask_matrix.nii.gz \n",
      "11/12/2019 04:30:06 PM correlation matrix finished : /Users/gracer/Google Drive/HCP_graph/1200/test/178950_zr_matrix.csv \n",
      "11/12/2019 04:30:06 PM correlation matrix finished : /Users/gracer/Google Drive/HCP_graph/1200/test/178950_r_matrix.csv \n",
      "11/12/2019 04:30:06 PM starting correlation \n"
     ]
    },
    {
     "name": "stdout",
     "output_type": "stream",
     "text": [
      "180432\n",
      "/Users/gracer/Google Drive/HCP_graph/1200/datasets/HCP_PTN1200/graph_analysis/node_timeseries/3T_HCP1200_MSMAll_d100_ts2/180432.txt\n"
     ]
    },
    {
     "name": "stderr",
     "output_type": "stream",
     "text": [
      "11/12/2019 04:30:07 PM correlation matrix finished : /Users/gracer/Google Drive/HCP_graph/1200/test/180432_r_matrix.nii.gz \n",
      "11/12/2019 04:30:07 PM correlation matrix finished : /Users/gracer/Google Drive/HCP_graph/1200/test/180432_zr_matrix.nii.gz \n",
      "11/12/2019 04:30:07 PM correlation matrix finished : /Users/gracer/Google Drive/HCP_graph/1200/test/180432_mask_matrix.nii.gz \n",
      "11/12/2019 04:30:07 PM correlation matrix finished : /Users/gracer/Google Drive/HCP_graph/1200/test/180432_zr_matrix.csv \n",
      "11/12/2019 04:30:07 PM correlation matrix finished : /Users/gracer/Google Drive/HCP_graph/1200/test/180432_r_matrix.csv \n",
      "11/12/2019 04:30:07 PM starting correlation \n"
     ]
    },
    {
     "name": "stdout",
     "output_type": "stream",
     "text": [
      "180735\n",
      "/Users/gracer/Google Drive/HCP_graph/1200/datasets/HCP_PTN1200/graph_analysis/node_timeseries/3T_HCP1200_MSMAll_d100_ts2/180735.txt\n"
     ]
    },
    {
     "name": "stderr",
     "output_type": "stream",
     "text": [
      "11/12/2019 04:30:09 PM correlation matrix finished : /Users/gracer/Google Drive/HCP_graph/1200/test/180735_r_matrix.nii.gz \n",
      "11/12/2019 04:30:09 PM correlation matrix finished : /Users/gracer/Google Drive/HCP_graph/1200/test/180735_zr_matrix.nii.gz \n",
      "11/12/2019 04:30:09 PM correlation matrix finished : /Users/gracer/Google Drive/HCP_graph/1200/test/180735_mask_matrix.nii.gz \n",
      "11/12/2019 04:30:09 PM correlation matrix finished : /Users/gracer/Google Drive/HCP_graph/1200/test/180735_zr_matrix.csv \n",
      "11/12/2019 04:30:09 PM correlation matrix finished : /Users/gracer/Google Drive/HCP_graph/1200/test/180735_r_matrix.csv \n",
      "11/12/2019 04:30:09 PM starting correlation \n"
     ]
    },
    {
     "name": "stdout",
     "output_type": "stream",
     "text": [
      "180836\n",
      "/Users/gracer/Google Drive/HCP_graph/1200/datasets/HCP_PTN1200/graph_analysis/node_timeseries/3T_HCP1200_MSMAll_d100_ts2/180836.txt\n"
     ]
    },
    {
     "name": "stderr",
     "output_type": "stream",
     "text": [
      "11/12/2019 04:30:09 PM correlation matrix finished : /Users/gracer/Google Drive/HCP_graph/1200/test/180836_r_matrix.nii.gz \n",
      "11/12/2019 04:30:09 PM correlation matrix finished : /Users/gracer/Google Drive/HCP_graph/1200/test/180836_zr_matrix.nii.gz \n",
      "11/12/2019 04:30:09 PM correlation matrix finished : /Users/gracer/Google Drive/HCP_graph/1200/test/180836_mask_matrix.nii.gz \n",
      "11/12/2019 04:30:09 PM correlation matrix finished : /Users/gracer/Google Drive/HCP_graph/1200/test/180836_zr_matrix.csv \n",
      "11/12/2019 04:30:09 PM correlation matrix finished : /Users/gracer/Google Drive/HCP_graph/1200/test/180836_r_matrix.csv \n",
      "11/12/2019 04:30:09 PM starting correlation \n"
     ]
    },
    {
     "name": "stdout",
     "output_type": "stream",
     "text": [
      "180937\n",
      "/Users/gracer/Google Drive/HCP_graph/1200/datasets/HCP_PTN1200/graph_analysis/node_timeseries/3T_HCP1200_MSMAll_d100_ts2/180937.txt\n"
     ]
    },
    {
     "name": "stderr",
     "output_type": "stream",
     "text": [
      "11/12/2019 04:30:10 PM correlation matrix finished : /Users/gracer/Google Drive/HCP_graph/1200/test/180937_r_matrix.nii.gz \n",
      "11/12/2019 04:30:10 PM correlation matrix finished : /Users/gracer/Google Drive/HCP_graph/1200/test/180937_zr_matrix.nii.gz \n",
      "11/12/2019 04:30:10 PM correlation matrix finished : /Users/gracer/Google Drive/HCP_graph/1200/test/180937_mask_matrix.nii.gz \n",
      "11/12/2019 04:30:10 PM correlation matrix finished : /Users/gracer/Google Drive/HCP_graph/1200/test/180937_zr_matrix.csv \n",
      "11/12/2019 04:30:10 PM correlation matrix finished : /Users/gracer/Google Drive/HCP_graph/1200/test/180937_r_matrix.csv \n",
      "11/12/2019 04:30:10 PM starting correlation \n"
     ]
    },
    {
     "name": "stdout",
     "output_type": "stream",
     "text": [
      "185038\n",
      "/Users/gracer/Google Drive/HCP_graph/1200/datasets/HCP_PTN1200/graph_analysis/node_timeseries/3T_HCP1200_MSMAll_d100_ts2/185038.txt\n"
     ]
    },
    {
     "name": "stderr",
     "output_type": "stream",
     "text": [
      "11/12/2019 04:30:11 PM correlation matrix finished : /Users/gracer/Google Drive/HCP_graph/1200/test/185038_r_matrix.nii.gz \n",
      "11/12/2019 04:30:11 PM correlation matrix finished : /Users/gracer/Google Drive/HCP_graph/1200/test/185038_zr_matrix.nii.gz \n",
      "11/12/2019 04:30:11 PM correlation matrix finished : /Users/gracer/Google Drive/HCP_graph/1200/test/185038_mask_matrix.nii.gz \n",
      "11/12/2019 04:30:11 PM correlation matrix finished : /Users/gracer/Google Drive/HCP_graph/1200/test/185038_zr_matrix.csv \n",
      "11/12/2019 04:30:11 PM correlation matrix finished : /Users/gracer/Google Drive/HCP_graph/1200/test/185038_r_matrix.csv \n",
      "11/12/2019 04:30:11 PM starting correlation \n"
     ]
    },
    {
     "name": "stdout",
     "output_type": "stream",
     "text": [
      "185341\n",
      "/Users/gracer/Google Drive/HCP_graph/1200/datasets/HCP_PTN1200/graph_analysis/node_timeseries/3T_HCP1200_MSMAll_d100_ts2/185341.txt\n"
     ]
    },
    {
     "name": "stderr",
     "output_type": "stream",
     "text": [
      "11/12/2019 04:30:12 PM correlation matrix finished : /Users/gracer/Google Drive/HCP_graph/1200/test/185341_r_matrix.nii.gz \n",
      "11/12/2019 04:30:12 PM correlation matrix finished : /Users/gracer/Google Drive/HCP_graph/1200/test/185341_zr_matrix.nii.gz \n",
      "11/12/2019 04:30:12 PM correlation matrix finished : /Users/gracer/Google Drive/HCP_graph/1200/test/185341_mask_matrix.nii.gz \n",
      "11/12/2019 04:30:12 PM correlation matrix finished : /Users/gracer/Google Drive/HCP_graph/1200/test/185341_zr_matrix.csv \n",
      "11/12/2019 04:30:12 PM correlation matrix finished : /Users/gracer/Google Drive/HCP_graph/1200/test/185341_r_matrix.csv \n",
      "11/12/2019 04:30:12 PM starting correlation \n"
     ]
    },
    {
     "name": "stdout",
     "output_type": "stream",
     "text": [
      "185846\n",
      "/Users/gracer/Google Drive/HCP_graph/1200/datasets/HCP_PTN1200/graph_analysis/node_timeseries/3T_HCP1200_MSMAll_d100_ts2/185846.txt\n"
     ]
    },
    {
     "name": "stderr",
     "output_type": "stream",
     "text": [
      "11/12/2019 04:30:13 PM correlation matrix finished : /Users/gracer/Google Drive/HCP_graph/1200/test/185846_r_matrix.nii.gz \n",
      "11/12/2019 04:30:13 PM correlation matrix finished : /Users/gracer/Google Drive/HCP_graph/1200/test/185846_zr_matrix.nii.gz \n",
      "11/12/2019 04:30:13 PM correlation matrix finished : /Users/gracer/Google Drive/HCP_graph/1200/test/185846_mask_matrix.nii.gz \n",
      "11/12/2019 04:30:13 PM correlation matrix finished : /Users/gracer/Google Drive/HCP_graph/1200/test/185846_zr_matrix.csv \n",
      "11/12/2019 04:30:13 PM correlation matrix finished : /Users/gracer/Google Drive/HCP_graph/1200/test/185846_r_matrix.csv \n",
      "11/12/2019 04:30:13 PM starting correlation \n"
     ]
    },
    {
     "name": "stdout",
     "output_type": "stream",
     "text": [
      "186040\n",
      "/Users/gracer/Google Drive/HCP_graph/1200/datasets/HCP_PTN1200/graph_analysis/node_timeseries/3T_HCP1200_MSMAll_d100_ts2/186040.txt\n"
     ]
    },
    {
     "name": "stderr",
     "output_type": "stream",
     "text": [
      "11/12/2019 04:30:13 PM correlation matrix finished : /Users/gracer/Google Drive/HCP_graph/1200/test/186040_r_matrix.nii.gz \n",
      "11/12/2019 04:30:13 PM correlation matrix finished : /Users/gracer/Google Drive/HCP_graph/1200/test/186040_zr_matrix.nii.gz \n",
      "11/12/2019 04:30:13 PM correlation matrix finished : /Users/gracer/Google Drive/HCP_graph/1200/test/186040_mask_matrix.nii.gz \n",
      "11/12/2019 04:30:13 PM correlation matrix finished : /Users/gracer/Google Drive/HCP_graph/1200/test/186040_zr_matrix.csv \n",
      "11/12/2019 04:30:13 PM correlation matrix finished : /Users/gracer/Google Drive/HCP_graph/1200/test/186040_r_matrix.csv \n",
      "11/12/2019 04:30:13 PM starting correlation \n"
     ]
    },
    {
     "name": "stdout",
     "output_type": "stream",
     "text": [
      "186444\n",
      "/Users/gracer/Google Drive/HCP_graph/1200/datasets/HCP_PTN1200/graph_analysis/node_timeseries/3T_HCP1200_MSMAll_d100_ts2/186444.txt\n"
     ]
    },
    {
     "name": "stderr",
     "output_type": "stream",
     "text": [
      "11/12/2019 04:30:14 PM correlation matrix finished : /Users/gracer/Google Drive/HCP_graph/1200/test/186444_r_matrix.nii.gz \n",
      "11/12/2019 04:30:14 PM correlation matrix finished : /Users/gracer/Google Drive/HCP_graph/1200/test/186444_zr_matrix.nii.gz \n",
      "11/12/2019 04:30:14 PM correlation matrix finished : /Users/gracer/Google Drive/HCP_graph/1200/test/186444_mask_matrix.nii.gz \n",
      "11/12/2019 04:30:14 PM correlation matrix finished : /Users/gracer/Google Drive/HCP_graph/1200/test/186444_zr_matrix.csv \n",
      "11/12/2019 04:30:14 PM correlation matrix finished : /Users/gracer/Google Drive/HCP_graph/1200/test/186444_r_matrix.csv \n",
      "11/12/2019 04:30:14 PM starting correlation \n"
     ]
    },
    {
     "name": "stdout",
     "output_type": "stream",
     "text": [
      "188145\n",
      "/Users/gracer/Google Drive/HCP_graph/1200/datasets/HCP_PTN1200/graph_analysis/node_timeseries/3T_HCP1200_MSMAll_d100_ts2/188145.txt\n"
     ]
    },
    {
     "name": "stderr",
     "output_type": "stream",
     "text": [
      "11/12/2019 04:30:15 PM correlation matrix finished : /Users/gracer/Google Drive/HCP_graph/1200/test/188145_r_matrix.nii.gz \n",
      "11/12/2019 04:30:15 PM correlation matrix finished : /Users/gracer/Google Drive/HCP_graph/1200/test/188145_zr_matrix.nii.gz \n",
      "11/12/2019 04:30:15 PM correlation matrix finished : /Users/gracer/Google Drive/HCP_graph/1200/test/188145_mask_matrix.nii.gz \n",
      "11/12/2019 04:30:15 PM correlation matrix finished : /Users/gracer/Google Drive/HCP_graph/1200/test/188145_zr_matrix.csv \n",
      "11/12/2019 04:30:15 PM correlation matrix finished : /Users/gracer/Google Drive/HCP_graph/1200/test/188145_r_matrix.csv \n",
      "11/12/2019 04:30:15 PM starting correlation \n"
     ]
    },
    {
     "name": "stdout",
     "output_type": "stream",
     "text": [
      "190031\n",
      "/Users/gracer/Google Drive/HCP_graph/1200/datasets/HCP_PTN1200/graph_analysis/node_timeseries/3T_HCP1200_MSMAll_d100_ts2/190031.txt\n"
     ]
    },
    {
     "name": "stderr",
     "output_type": "stream",
     "text": [
      "11/12/2019 04:30:16 PM correlation matrix finished : /Users/gracer/Google Drive/HCP_graph/1200/test/190031_r_matrix.nii.gz \n",
      "11/12/2019 04:30:16 PM correlation matrix finished : /Users/gracer/Google Drive/HCP_graph/1200/test/190031_zr_matrix.nii.gz \n",
      "11/12/2019 04:30:16 PM correlation matrix finished : /Users/gracer/Google Drive/HCP_graph/1200/test/190031_mask_matrix.nii.gz \n",
      "11/12/2019 04:30:16 PM correlation matrix finished : /Users/gracer/Google Drive/HCP_graph/1200/test/190031_zr_matrix.csv \n",
      "11/12/2019 04:30:16 PM correlation matrix finished : /Users/gracer/Google Drive/HCP_graph/1200/test/190031_r_matrix.csv \n",
      "11/12/2019 04:30:16 PM starting correlation \n"
     ]
    },
    {
     "name": "stdout",
     "output_type": "stream",
     "text": [
      "193239\n",
      "/Users/gracer/Google Drive/HCP_graph/1200/datasets/HCP_PTN1200/graph_analysis/node_timeseries/3T_HCP1200_MSMAll_d100_ts2/193239.txt\n"
     ]
    },
    {
     "name": "stderr",
     "output_type": "stream",
     "text": [
      "11/12/2019 04:30:16 PM correlation matrix finished : /Users/gracer/Google Drive/HCP_graph/1200/test/193239_r_matrix.nii.gz \n",
      "11/12/2019 04:30:16 PM correlation matrix finished : /Users/gracer/Google Drive/HCP_graph/1200/test/193239_zr_matrix.nii.gz \n",
      "11/12/2019 04:30:16 PM correlation matrix finished : /Users/gracer/Google Drive/HCP_graph/1200/test/193239_mask_matrix.nii.gz \n",
      "11/12/2019 04:30:17 PM correlation matrix finished : /Users/gracer/Google Drive/HCP_graph/1200/test/193239_zr_matrix.csv \n",
      "11/12/2019 04:30:17 PM correlation matrix finished : /Users/gracer/Google Drive/HCP_graph/1200/test/193239_r_matrix.csv \n",
      "11/12/2019 04:30:17 PM starting correlation \n"
     ]
    },
    {
     "name": "stdout",
     "output_type": "stream",
     "text": [
      "194847\n",
      "/Users/gracer/Google Drive/HCP_graph/1200/datasets/HCP_PTN1200/graph_analysis/node_timeseries/3T_HCP1200_MSMAll_d100_ts2/194847.txt\n"
     ]
    },
    {
     "name": "stderr",
     "output_type": "stream",
     "text": [
      "11/12/2019 04:30:18 PM correlation matrix finished : /Users/gracer/Google Drive/HCP_graph/1200/test/194847_r_matrix.nii.gz \n",
      "11/12/2019 04:30:18 PM correlation matrix finished : /Users/gracer/Google Drive/HCP_graph/1200/test/194847_zr_matrix.nii.gz \n",
      "11/12/2019 04:30:18 PM correlation matrix finished : /Users/gracer/Google Drive/HCP_graph/1200/test/194847_mask_matrix.nii.gz \n",
      "11/12/2019 04:30:18 PM correlation matrix finished : /Users/gracer/Google Drive/HCP_graph/1200/test/194847_zr_matrix.csv \n",
      "11/12/2019 04:30:18 PM correlation matrix finished : /Users/gracer/Google Drive/HCP_graph/1200/test/194847_r_matrix.csv \n",
      "11/12/2019 04:30:18 PM starting correlation \n"
     ]
    },
    {
     "name": "stdout",
     "output_type": "stream",
     "text": [
      "194948\n",
      "no 194948\n",
      "198451\n",
      "/Users/gracer/Google Drive/HCP_graph/1200/datasets/HCP_PTN1200/graph_analysis/node_timeseries/3T_HCP1200_MSMAll_d100_ts2/198451.txt\n"
     ]
    },
    {
     "name": "stderr",
     "output_type": "stream",
     "text": [
      "11/12/2019 04:30:18 PM correlation matrix finished : /Users/gracer/Google Drive/HCP_graph/1200/test/198451_r_matrix.nii.gz \n",
      "11/12/2019 04:30:18 PM correlation matrix finished : /Users/gracer/Google Drive/HCP_graph/1200/test/198451_zr_matrix.nii.gz \n",
      "11/12/2019 04:30:18 PM correlation matrix finished : /Users/gracer/Google Drive/HCP_graph/1200/test/198451_mask_matrix.nii.gz \n",
      "11/12/2019 04:30:18 PM correlation matrix finished : /Users/gracer/Google Drive/HCP_graph/1200/test/198451_zr_matrix.csv \n",
      "11/12/2019 04:30:18 PM correlation matrix finished : /Users/gracer/Google Drive/HCP_graph/1200/test/198451_r_matrix.csv \n",
      "11/12/2019 04:30:18 PM starting correlation \n"
     ]
    },
    {
     "name": "stdout",
     "output_type": "stream",
     "text": [
      "198855\n",
      "/Users/gracer/Google Drive/HCP_graph/1200/datasets/HCP_PTN1200/graph_analysis/node_timeseries/3T_HCP1200_MSMAll_d100_ts2/198855.txt\n"
     ]
    },
    {
     "name": "stderr",
     "output_type": "stream",
     "text": [
      "11/12/2019 04:30:19 PM correlation matrix finished : /Users/gracer/Google Drive/HCP_graph/1200/test/198855_r_matrix.nii.gz \n",
      "11/12/2019 04:30:19 PM correlation matrix finished : /Users/gracer/Google Drive/HCP_graph/1200/test/198855_zr_matrix.nii.gz \n",
      "11/12/2019 04:30:19 PM correlation matrix finished : /Users/gracer/Google Drive/HCP_graph/1200/test/198855_mask_matrix.nii.gz \n",
      "11/12/2019 04:30:19 PM correlation matrix finished : /Users/gracer/Google Drive/HCP_graph/1200/test/198855_zr_matrix.csv \n",
      "11/12/2019 04:30:19 PM correlation matrix finished : /Users/gracer/Google Drive/HCP_graph/1200/test/198855_r_matrix.csv \n",
      "11/12/2019 04:30:19 PM starting correlation \n"
     ]
    },
    {
     "name": "stdout",
     "output_type": "stream",
     "text": [
      "199352\n",
      "/Users/gracer/Google Drive/HCP_graph/1200/datasets/HCP_PTN1200/graph_analysis/node_timeseries/3T_HCP1200_MSMAll_d100_ts2/199352.txt\n"
     ]
    },
    {
     "name": "stderr",
     "output_type": "stream",
     "text": [
      "11/12/2019 04:30:20 PM correlation matrix finished : /Users/gracer/Google Drive/HCP_graph/1200/test/199352_r_matrix.nii.gz \n",
      "11/12/2019 04:30:20 PM correlation matrix finished : /Users/gracer/Google Drive/HCP_graph/1200/test/199352_zr_matrix.nii.gz \n",
      "11/12/2019 04:30:20 PM correlation matrix finished : /Users/gracer/Google Drive/HCP_graph/1200/test/199352_mask_matrix.nii.gz \n",
      "11/12/2019 04:30:20 PM correlation matrix finished : /Users/gracer/Google Drive/HCP_graph/1200/test/199352_zr_matrix.csv \n",
      "11/12/2019 04:30:20 PM correlation matrix finished : /Users/gracer/Google Drive/HCP_graph/1200/test/199352_r_matrix.csv \n",
      "11/12/2019 04:30:20 PM starting correlation \n"
     ]
    },
    {
     "name": "stdout",
     "output_type": "stream",
     "text": [
      "200513\n",
      "/Users/gracer/Google Drive/HCP_graph/1200/datasets/HCP_PTN1200/graph_analysis/node_timeseries/3T_HCP1200_MSMAll_d100_ts2/200513.txt\n"
     ]
    },
    {
     "name": "stderr",
     "output_type": "stream",
     "text": [
      "11/12/2019 04:30:20 PM correlation matrix finished : /Users/gracer/Google Drive/HCP_graph/1200/test/200513_r_matrix.nii.gz \n",
      "11/12/2019 04:30:20 PM correlation matrix finished : /Users/gracer/Google Drive/HCP_graph/1200/test/200513_zr_matrix.nii.gz \n",
      "11/12/2019 04:30:20 PM correlation matrix finished : /Users/gracer/Google Drive/HCP_graph/1200/test/200513_mask_matrix.nii.gz \n",
      "11/12/2019 04:30:20 PM correlation matrix finished : /Users/gracer/Google Drive/HCP_graph/1200/test/200513_zr_matrix.csv \n",
      "11/12/2019 04:30:20 PM correlation matrix finished : /Users/gracer/Google Drive/HCP_graph/1200/test/200513_r_matrix.csv \n",
      "11/12/2019 04:30:20 PM starting correlation \n"
     ]
    },
    {
     "name": "stdout",
     "output_type": "stream",
     "text": [
      "200917\n",
      "/Users/gracer/Google Drive/HCP_graph/1200/datasets/HCP_PTN1200/graph_analysis/node_timeseries/3T_HCP1200_MSMAll_d100_ts2/200917.txt\n"
     ]
    },
    {
     "name": "stderr",
     "output_type": "stream",
     "text": [
      "11/12/2019 04:30:21 PM correlation matrix finished : /Users/gracer/Google Drive/HCP_graph/1200/test/200917_r_matrix.nii.gz \n",
      "11/12/2019 04:30:21 PM correlation matrix finished : /Users/gracer/Google Drive/HCP_graph/1200/test/200917_zr_matrix.nii.gz \n",
      "11/12/2019 04:30:21 PM correlation matrix finished : /Users/gracer/Google Drive/HCP_graph/1200/test/200917_mask_matrix.nii.gz \n",
      "11/12/2019 04:30:21 PM correlation matrix finished : /Users/gracer/Google Drive/HCP_graph/1200/test/200917_zr_matrix.csv \n",
      "11/12/2019 04:30:21 PM correlation matrix finished : /Users/gracer/Google Drive/HCP_graph/1200/test/200917_r_matrix.csv \n",
      "11/12/2019 04:30:21 PM starting correlation \n"
     ]
    },
    {
     "name": "stdout",
     "output_type": "stream",
     "text": [
      "204420\n",
      "/Users/gracer/Google Drive/HCP_graph/1200/datasets/HCP_PTN1200/graph_analysis/node_timeseries/3T_HCP1200_MSMAll_d100_ts2/204420.txt\n"
     ]
    },
    {
     "name": "stderr",
     "output_type": "stream",
     "text": [
      "11/12/2019 04:30:21 PM correlation matrix finished : /Users/gracer/Google Drive/HCP_graph/1200/test/204420_r_matrix.nii.gz \n",
      "11/12/2019 04:30:21 PM correlation matrix finished : /Users/gracer/Google Drive/HCP_graph/1200/test/204420_zr_matrix.nii.gz \n",
      "11/12/2019 04:30:21 PM correlation matrix finished : /Users/gracer/Google Drive/HCP_graph/1200/test/204420_mask_matrix.nii.gz \n",
      "11/12/2019 04:30:22 PM correlation matrix finished : /Users/gracer/Google Drive/HCP_graph/1200/test/204420_zr_matrix.csv \n",
      "11/12/2019 04:30:22 PM correlation matrix finished : /Users/gracer/Google Drive/HCP_graph/1200/test/204420_r_matrix.csv \n",
      "11/12/2019 04:30:22 PM starting correlation \n"
     ]
    },
    {
     "name": "stdout",
     "output_type": "stream",
     "text": [
      "206222\n",
      "/Users/gracer/Google Drive/HCP_graph/1200/datasets/HCP_PTN1200/graph_analysis/node_timeseries/3T_HCP1200_MSMAll_d100_ts2/206222.txt\n"
     ]
    },
    {
     "name": "stderr",
     "output_type": "stream",
     "text": [
      "11/12/2019 04:30:22 PM correlation matrix finished : /Users/gracer/Google Drive/HCP_graph/1200/test/206222_r_matrix.nii.gz \n",
      "11/12/2019 04:30:22 PM correlation matrix finished : /Users/gracer/Google Drive/HCP_graph/1200/test/206222_zr_matrix.nii.gz \n",
      "11/12/2019 04:30:22 PM correlation matrix finished : /Users/gracer/Google Drive/HCP_graph/1200/test/206222_mask_matrix.nii.gz \n",
      "11/12/2019 04:30:22 PM correlation matrix finished : /Users/gracer/Google Drive/HCP_graph/1200/test/206222_zr_matrix.csv \n",
      "11/12/2019 04:30:22 PM correlation matrix finished : /Users/gracer/Google Drive/HCP_graph/1200/test/206222_r_matrix.csv \n",
      "11/12/2019 04:30:22 PM starting correlation \n"
     ]
    },
    {
     "name": "stdout",
     "output_type": "stream",
     "text": [
      "208125\n",
      "/Users/gracer/Google Drive/HCP_graph/1200/datasets/HCP_PTN1200/graph_analysis/node_timeseries/3T_HCP1200_MSMAll_d100_ts2/208125.txt\n"
     ]
    },
    {
     "name": "stderr",
     "output_type": "stream",
     "text": [
      "11/12/2019 04:30:23 PM correlation matrix finished : /Users/gracer/Google Drive/HCP_graph/1200/test/208125_r_matrix.nii.gz \n",
      "11/12/2019 04:30:23 PM correlation matrix finished : /Users/gracer/Google Drive/HCP_graph/1200/test/208125_zr_matrix.nii.gz \n",
      "11/12/2019 04:30:23 PM correlation matrix finished : /Users/gracer/Google Drive/HCP_graph/1200/test/208125_mask_matrix.nii.gz \n",
      "11/12/2019 04:30:23 PM correlation matrix finished : /Users/gracer/Google Drive/HCP_graph/1200/test/208125_zr_matrix.csv \n",
      "11/12/2019 04:30:23 PM correlation matrix finished : /Users/gracer/Google Drive/HCP_graph/1200/test/208125_r_matrix.csv \n",
      "11/12/2019 04:30:23 PM starting correlation \n"
     ]
    },
    {
     "name": "stdout",
     "output_type": "stream",
     "text": [
      "208226\n",
      "/Users/gracer/Google Drive/HCP_graph/1200/datasets/HCP_PTN1200/graph_analysis/node_timeseries/3T_HCP1200_MSMAll_d100_ts2/208226.txt\n"
     ]
    },
    {
     "name": "stderr",
     "output_type": "stream",
     "text": [
      "11/12/2019 04:30:23 PM correlation matrix finished : /Users/gracer/Google Drive/HCP_graph/1200/test/208226_r_matrix.nii.gz \n",
      "11/12/2019 04:30:23 PM correlation matrix finished : /Users/gracer/Google Drive/HCP_graph/1200/test/208226_zr_matrix.nii.gz \n",
      "11/12/2019 04:30:23 PM correlation matrix finished : /Users/gracer/Google Drive/HCP_graph/1200/test/208226_mask_matrix.nii.gz \n",
      "11/12/2019 04:30:23 PM correlation matrix finished : /Users/gracer/Google Drive/HCP_graph/1200/test/208226_zr_matrix.csv \n",
      "11/12/2019 04:30:23 PM correlation matrix finished : /Users/gracer/Google Drive/HCP_graph/1200/test/208226_r_matrix.csv \n",
      "11/12/2019 04:30:23 PM starting correlation \n"
     ]
    },
    {
     "name": "stdout",
     "output_type": "stream",
     "text": [
      "210011\n",
      "/Users/gracer/Google Drive/HCP_graph/1200/datasets/HCP_PTN1200/graph_analysis/node_timeseries/3T_HCP1200_MSMAll_d100_ts2/210011.txt\n"
     ]
    },
    {
     "name": "stderr",
     "output_type": "stream",
     "text": [
      "11/12/2019 04:30:24 PM correlation matrix finished : /Users/gracer/Google Drive/HCP_graph/1200/test/210011_r_matrix.nii.gz \n",
      "11/12/2019 04:30:24 PM correlation matrix finished : /Users/gracer/Google Drive/HCP_graph/1200/test/210011_zr_matrix.nii.gz \n",
      "11/12/2019 04:30:24 PM correlation matrix finished : /Users/gracer/Google Drive/HCP_graph/1200/test/210011_mask_matrix.nii.gz \n",
      "11/12/2019 04:30:24 PM correlation matrix finished : /Users/gracer/Google Drive/HCP_graph/1200/test/210011_zr_matrix.csv \n",
      "11/12/2019 04:30:24 PM correlation matrix finished : /Users/gracer/Google Drive/HCP_graph/1200/test/210011_r_matrix.csv \n",
      "11/12/2019 04:30:24 PM starting correlation \n"
     ]
    },
    {
     "name": "stdout",
     "output_type": "stream",
     "text": [
      "210112\n",
      "/Users/gracer/Google Drive/HCP_graph/1200/datasets/HCP_PTN1200/graph_analysis/node_timeseries/3T_HCP1200_MSMAll_d100_ts2/210112.txt\n"
     ]
    },
    {
     "name": "stderr",
     "output_type": "stream",
     "text": [
      "11/12/2019 04:30:25 PM correlation matrix finished : /Users/gracer/Google Drive/HCP_graph/1200/test/210112_r_matrix.nii.gz \n",
      "11/12/2019 04:30:25 PM correlation matrix finished : /Users/gracer/Google Drive/HCP_graph/1200/test/210112_zr_matrix.nii.gz \n",
      "11/12/2019 04:30:25 PM correlation matrix finished : /Users/gracer/Google Drive/HCP_graph/1200/test/210112_mask_matrix.nii.gz \n",
      "11/12/2019 04:30:25 PM correlation matrix finished : /Users/gracer/Google Drive/HCP_graph/1200/test/210112_zr_matrix.csv \n",
      "11/12/2019 04:30:25 PM correlation matrix finished : /Users/gracer/Google Drive/HCP_graph/1200/test/210112_r_matrix.csv \n",
      "11/12/2019 04:30:25 PM starting correlation \n"
     ]
    },
    {
     "name": "stdout",
     "output_type": "stream",
     "text": [
      "211417\n",
      "/Users/gracer/Google Drive/HCP_graph/1200/datasets/HCP_PTN1200/graph_analysis/node_timeseries/3T_HCP1200_MSMAll_d100_ts2/211417.txt\n"
     ]
    },
    {
     "name": "stderr",
     "output_type": "stream",
     "text": [
      "11/12/2019 04:30:26 PM correlation matrix finished : /Users/gracer/Google Drive/HCP_graph/1200/test/211417_r_matrix.nii.gz \n",
      "11/12/2019 04:30:26 PM correlation matrix finished : /Users/gracer/Google Drive/HCP_graph/1200/test/211417_zr_matrix.nii.gz \n",
      "11/12/2019 04:30:26 PM correlation matrix finished : /Users/gracer/Google Drive/HCP_graph/1200/test/211417_mask_matrix.nii.gz \n",
      "11/12/2019 04:30:26 PM correlation matrix finished : /Users/gracer/Google Drive/HCP_graph/1200/test/211417_zr_matrix.csv \n",
      "11/12/2019 04:30:26 PM correlation matrix finished : /Users/gracer/Google Drive/HCP_graph/1200/test/211417_r_matrix.csv \n",
      "11/12/2019 04:30:26 PM starting correlation \n"
     ]
    },
    {
     "name": "stdout",
     "output_type": "stream",
     "text": [
      "213522\n",
      "/Users/gracer/Google Drive/HCP_graph/1200/datasets/HCP_PTN1200/graph_analysis/node_timeseries/3T_HCP1200_MSMAll_d100_ts2/213522.txt\n"
     ]
    },
    {
     "name": "stderr",
     "output_type": "stream",
     "text": [
      "11/12/2019 04:30:26 PM correlation matrix finished : /Users/gracer/Google Drive/HCP_graph/1200/test/213522_r_matrix.nii.gz \n",
      "11/12/2019 04:30:26 PM correlation matrix finished : /Users/gracer/Google Drive/HCP_graph/1200/test/213522_zr_matrix.nii.gz \n",
      "11/12/2019 04:30:26 PM correlation matrix finished : /Users/gracer/Google Drive/HCP_graph/1200/test/213522_mask_matrix.nii.gz \n",
      "11/12/2019 04:30:26 PM correlation matrix finished : /Users/gracer/Google Drive/HCP_graph/1200/test/213522_zr_matrix.csv \n",
      "11/12/2019 04:30:26 PM correlation matrix finished : /Users/gracer/Google Drive/HCP_graph/1200/test/213522_r_matrix.csv \n",
      "11/12/2019 04:30:26 PM starting correlation \n"
     ]
    },
    {
     "name": "stdout",
     "output_type": "stream",
     "text": [
      "214423\n",
      "/Users/gracer/Google Drive/HCP_graph/1200/datasets/HCP_PTN1200/graph_analysis/node_timeseries/3T_HCP1200_MSMAll_d100_ts2/214423.txt\n"
     ]
    },
    {
     "name": "stderr",
     "output_type": "stream",
     "text": [
      "11/12/2019 04:30:27 PM correlation matrix finished : /Users/gracer/Google Drive/HCP_graph/1200/test/214423_r_matrix.nii.gz \n",
      "11/12/2019 04:30:27 PM correlation matrix finished : /Users/gracer/Google Drive/HCP_graph/1200/test/214423_zr_matrix.nii.gz \n",
      "11/12/2019 04:30:27 PM correlation matrix finished : /Users/gracer/Google Drive/HCP_graph/1200/test/214423_mask_matrix.nii.gz \n",
      "11/12/2019 04:30:27 PM correlation matrix finished : /Users/gracer/Google Drive/HCP_graph/1200/test/214423_zr_matrix.csv \n",
      "11/12/2019 04:30:27 PM correlation matrix finished : /Users/gracer/Google Drive/HCP_graph/1200/test/214423_r_matrix.csv \n",
      "11/12/2019 04:30:27 PM starting correlation \n"
     ]
    },
    {
     "name": "stdout",
     "output_type": "stream",
     "text": [
      "214726\n",
      "/Users/gracer/Google Drive/HCP_graph/1200/datasets/HCP_PTN1200/graph_analysis/node_timeseries/3T_HCP1200_MSMAll_d100_ts2/214726.txt\n"
     ]
    },
    {
     "name": "stderr",
     "output_type": "stream",
     "text": [
      "11/12/2019 04:30:28 PM correlation matrix finished : /Users/gracer/Google Drive/HCP_graph/1200/test/214726_r_matrix.nii.gz \n",
      "11/12/2019 04:30:28 PM correlation matrix finished : /Users/gracer/Google Drive/HCP_graph/1200/test/214726_zr_matrix.nii.gz \n",
      "11/12/2019 04:30:28 PM correlation matrix finished : /Users/gracer/Google Drive/HCP_graph/1200/test/214726_mask_matrix.nii.gz \n",
      "11/12/2019 04:30:28 PM correlation matrix finished : /Users/gracer/Google Drive/HCP_graph/1200/test/214726_zr_matrix.csv \n",
      "11/12/2019 04:30:28 PM correlation matrix finished : /Users/gracer/Google Drive/HCP_graph/1200/test/214726_r_matrix.csv \n",
      "11/12/2019 04:30:28 PM starting correlation \n"
     ]
    },
    {
     "name": "stdout",
     "output_type": "stream",
     "text": [
      "217126\n",
      "/Users/gracer/Google Drive/HCP_graph/1200/datasets/HCP_PTN1200/graph_analysis/node_timeseries/3T_HCP1200_MSMAll_d100_ts2/217126.txt\n"
     ]
    },
    {
     "name": "stderr",
     "output_type": "stream",
     "text": [
      "11/12/2019 04:30:28 PM correlation matrix finished : /Users/gracer/Google Drive/HCP_graph/1200/test/217126_r_matrix.nii.gz \n",
      "11/12/2019 04:30:28 PM correlation matrix finished : /Users/gracer/Google Drive/HCP_graph/1200/test/217126_zr_matrix.nii.gz \n",
      "11/12/2019 04:30:28 PM correlation matrix finished : /Users/gracer/Google Drive/HCP_graph/1200/test/217126_mask_matrix.nii.gz \n",
      "11/12/2019 04:30:28 PM correlation matrix finished : /Users/gracer/Google Drive/HCP_graph/1200/test/217126_zr_matrix.csv \n",
      "11/12/2019 04:30:28 PM correlation matrix finished : /Users/gracer/Google Drive/HCP_graph/1200/test/217126_r_matrix.csv \n",
      "11/12/2019 04:30:28 PM starting correlation \n"
     ]
    },
    {
     "name": "stdout",
     "output_type": "stream",
     "text": [
      "217429\n",
      "/Users/gracer/Google Drive/HCP_graph/1200/datasets/HCP_PTN1200/graph_analysis/node_timeseries/3T_HCP1200_MSMAll_d100_ts2/217429.txt\n"
     ]
    },
    {
     "name": "stderr",
     "output_type": "stream",
     "text": [
      "11/12/2019 04:30:29 PM correlation matrix finished : /Users/gracer/Google Drive/HCP_graph/1200/test/217429_r_matrix.nii.gz \n",
      "11/12/2019 04:30:29 PM correlation matrix finished : /Users/gracer/Google Drive/HCP_graph/1200/test/217429_zr_matrix.nii.gz \n",
      "11/12/2019 04:30:29 PM correlation matrix finished : /Users/gracer/Google Drive/HCP_graph/1200/test/217429_mask_matrix.nii.gz \n",
      "11/12/2019 04:30:29 PM correlation matrix finished : /Users/gracer/Google Drive/HCP_graph/1200/test/217429_zr_matrix.csv \n",
      "11/12/2019 04:30:29 PM correlation matrix finished : /Users/gracer/Google Drive/HCP_graph/1200/test/217429_r_matrix.csv \n",
      "11/12/2019 04:30:29 PM starting correlation \n"
     ]
    },
    {
     "name": "stdout",
     "output_type": "stream",
     "text": [
      "227432\n",
      "/Users/gracer/Google Drive/HCP_graph/1200/datasets/HCP_PTN1200/graph_analysis/node_timeseries/3T_HCP1200_MSMAll_d100_ts2/227432.txt\n"
     ]
    },
    {
     "name": "stderr",
     "output_type": "stream",
     "text": [
      "11/12/2019 04:30:30 PM correlation matrix finished : /Users/gracer/Google Drive/HCP_graph/1200/test/227432_r_matrix.nii.gz \n",
      "11/12/2019 04:30:30 PM correlation matrix finished : /Users/gracer/Google Drive/HCP_graph/1200/test/227432_zr_matrix.nii.gz \n",
      "11/12/2019 04:30:30 PM correlation matrix finished : /Users/gracer/Google Drive/HCP_graph/1200/test/227432_mask_matrix.nii.gz \n",
      "11/12/2019 04:30:30 PM correlation matrix finished : /Users/gracer/Google Drive/HCP_graph/1200/test/227432_zr_matrix.csv \n",
      "11/12/2019 04:30:30 PM correlation matrix finished : /Users/gracer/Google Drive/HCP_graph/1200/test/227432_r_matrix.csv \n",
      "11/12/2019 04:30:30 PM starting correlation \n"
     ]
    },
    {
     "name": "stdout",
     "output_type": "stream",
     "text": [
      "228434\n",
      "/Users/gracer/Google Drive/HCP_graph/1200/datasets/HCP_PTN1200/graph_analysis/node_timeseries/3T_HCP1200_MSMAll_d100_ts2/228434.txt\n"
     ]
    },
    {
     "name": "stderr",
     "output_type": "stream",
     "text": [
      "11/12/2019 04:30:31 PM correlation matrix finished : /Users/gracer/Google Drive/HCP_graph/1200/test/228434_r_matrix.nii.gz \n",
      "11/12/2019 04:30:31 PM correlation matrix finished : /Users/gracer/Google Drive/HCP_graph/1200/test/228434_zr_matrix.nii.gz \n",
      "11/12/2019 04:30:31 PM correlation matrix finished : /Users/gracer/Google Drive/HCP_graph/1200/test/228434_mask_matrix.nii.gz \n",
      "11/12/2019 04:30:31 PM correlation matrix finished : /Users/gracer/Google Drive/HCP_graph/1200/test/228434_zr_matrix.csv \n",
      "11/12/2019 04:30:31 PM correlation matrix finished : /Users/gracer/Google Drive/HCP_graph/1200/test/228434_r_matrix.csv \n",
      "11/12/2019 04:30:31 PM starting correlation \n"
     ]
    },
    {
     "name": "stdout",
     "output_type": "stream",
     "text": [
      "238033\n",
      "/Users/gracer/Google Drive/HCP_graph/1200/datasets/HCP_PTN1200/graph_analysis/node_timeseries/3T_HCP1200_MSMAll_d100_ts2/238033.txt\n"
     ]
    },
    {
     "name": "stderr",
     "output_type": "stream",
     "text": [
      "11/12/2019 04:30:31 PM correlation matrix finished : /Users/gracer/Google Drive/HCP_graph/1200/test/238033_r_matrix.nii.gz \n",
      "11/12/2019 04:30:31 PM correlation matrix finished : /Users/gracer/Google Drive/HCP_graph/1200/test/238033_zr_matrix.nii.gz \n",
      "11/12/2019 04:30:31 PM correlation matrix finished : /Users/gracer/Google Drive/HCP_graph/1200/test/238033_mask_matrix.nii.gz \n",
      "11/12/2019 04:30:31 PM correlation matrix finished : /Users/gracer/Google Drive/HCP_graph/1200/test/238033_zr_matrix.csv \n",
      "11/12/2019 04:30:31 PM correlation matrix finished : /Users/gracer/Google Drive/HCP_graph/1200/test/238033_r_matrix.csv \n",
      "11/12/2019 04:30:31 PM starting correlation \n"
     ]
    },
    {
     "name": "stdout",
     "output_type": "stream",
     "text": [
      "245333\n",
      "/Users/gracer/Google Drive/HCP_graph/1200/datasets/HCP_PTN1200/graph_analysis/node_timeseries/3T_HCP1200_MSMAll_d100_ts2/245333.txt\n"
     ]
    },
    {
     "name": "stderr",
     "output_type": "stream",
     "text": [
      "11/12/2019 04:30:32 PM correlation matrix finished : /Users/gracer/Google Drive/HCP_graph/1200/test/245333_r_matrix.nii.gz \n",
      "11/12/2019 04:30:32 PM correlation matrix finished : /Users/gracer/Google Drive/HCP_graph/1200/test/245333_zr_matrix.nii.gz \n",
      "11/12/2019 04:30:32 PM correlation matrix finished : /Users/gracer/Google Drive/HCP_graph/1200/test/245333_mask_matrix.nii.gz \n",
      "11/12/2019 04:30:32 PM correlation matrix finished : /Users/gracer/Google Drive/HCP_graph/1200/test/245333_zr_matrix.csv \n",
      "11/12/2019 04:30:32 PM correlation matrix finished : /Users/gracer/Google Drive/HCP_graph/1200/test/245333_r_matrix.csv \n",
      "11/12/2019 04:30:32 PM starting correlation \n"
     ]
    },
    {
     "name": "stdout",
     "output_type": "stream",
     "text": [
      "250932\n",
      "/Users/gracer/Google Drive/HCP_graph/1200/datasets/HCP_PTN1200/graph_analysis/node_timeseries/3T_HCP1200_MSMAll_d100_ts2/250932.txt\n"
     ]
    },
    {
     "name": "stderr",
     "output_type": "stream",
     "text": [
      "11/12/2019 04:30:32 PM correlation matrix finished : /Users/gracer/Google Drive/HCP_graph/1200/test/250932_r_matrix.nii.gz \n",
      "11/12/2019 04:30:32 PM correlation matrix finished : /Users/gracer/Google Drive/HCP_graph/1200/test/250932_zr_matrix.nii.gz \n",
      "11/12/2019 04:30:32 PM correlation matrix finished : /Users/gracer/Google Drive/HCP_graph/1200/test/250932_mask_matrix.nii.gz \n",
      "11/12/2019 04:30:32 PM correlation matrix finished : /Users/gracer/Google Drive/HCP_graph/1200/test/250932_zr_matrix.csv \n",
      "11/12/2019 04:30:32 PM correlation matrix finished : /Users/gracer/Google Drive/HCP_graph/1200/test/250932_r_matrix.csv \n",
      "11/12/2019 04:30:32 PM starting correlation \n"
     ]
    },
    {
     "name": "stdout",
     "output_type": "stream",
     "text": [
      "256540\n",
      "/Users/gracer/Google Drive/HCP_graph/1200/datasets/HCP_PTN1200/graph_analysis/node_timeseries/3T_HCP1200_MSMAll_d100_ts2/256540.txt\n"
     ]
    },
    {
     "name": "stderr",
     "output_type": "stream",
     "text": [
      "11/12/2019 04:30:33 PM correlation matrix finished : /Users/gracer/Google Drive/HCP_graph/1200/test/256540_r_matrix.nii.gz \n",
      "11/12/2019 04:30:33 PM correlation matrix finished : /Users/gracer/Google Drive/HCP_graph/1200/test/256540_zr_matrix.nii.gz \n",
      "11/12/2019 04:30:33 PM correlation matrix finished : /Users/gracer/Google Drive/HCP_graph/1200/test/256540_mask_matrix.nii.gz \n",
      "11/12/2019 04:30:33 PM correlation matrix finished : /Users/gracer/Google Drive/HCP_graph/1200/test/256540_zr_matrix.csv \n",
      "11/12/2019 04:30:33 PM correlation matrix finished : /Users/gracer/Google Drive/HCP_graph/1200/test/256540_r_matrix.csv \n",
      "11/12/2019 04:30:33 PM starting correlation \n"
     ]
    },
    {
     "name": "stdout",
     "output_type": "stream",
     "text": [
      "281135\n",
      "/Users/gracer/Google Drive/HCP_graph/1200/datasets/HCP_PTN1200/graph_analysis/node_timeseries/3T_HCP1200_MSMAll_d100_ts2/281135.txt\n"
     ]
    },
    {
     "name": "stderr",
     "output_type": "stream",
     "text": [
      "11/12/2019 04:30:34 PM correlation matrix finished : /Users/gracer/Google Drive/HCP_graph/1200/test/281135_r_matrix.nii.gz \n",
      "11/12/2019 04:30:34 PM correlation matrix finished : /Users/gracer/Google Drive/HCP_graph/1200/test/281135_zr_matrix.nii.gz \n",
      "11/12/2019 04:30:34 PM correlation matrix finished : /Users/gracer/Google Drive/HCP_graph/1200/test/281135_mask_matrix.nii.gz \n",
      "11/12/2019 04:30:34 PM correlation matrix finished : /Users/gracer/Google Drive/HCP_graph/1200/test/281135_zr_matrix.csv \n",
      "11/12/2019 04:30:34 PM correlation matrix finished : /Users/gracer/Google Drive/HCP_graph/1200/test/281135_r_matrix.csv \n",
      "11/12/2019 04:30:34 PM starting correlation \n"
     ]
    },
    {
     "name": "stdout",
     "output_type": "stream",
     "text": [
      "285345\n",
      "/Users/gracer/Google Drive/HCP_graph/1200/datasets/HCP_PTN1200/graph_analysis/node_timeseries/3T_HCP1200_MSMAll_d100_ts2/285345.txt\n"
     ]
    },
    {
     "name": "stderr",
     "output_type": "stream",
     "text": [
      "11/12/2019 04:30:35 PM correlation matrix finished : /Users/gracer/Google Drive/HCP_graph/1200/test/285345_r_matrix.nii.gz \n",
      "11/12/2019 04:30:35 PM correlation matrix finished : /Users/gracer/Google Drive/HCP_graph/1200/test/285345_zr_matrix.nii.gz \n",
      "11/12/2019 04:30:35 PM correlation matrix finished : /Users/gracer/Google Drive/HCP_graph/1200/test/285345_mask_matrix.nii.gz \n",
      "11/12/2019 04:30:35 PM correlation matrix finished : /Users/gracer/Google Drive/HCP_graph/1200/test/285345_zr_matrix.csv \n",
      "11/12/2019 04:30:35 PM correlation matrix finished : /Users/gracer/Google Drive/HCP_graph/1200/test/285345_r_matrix.csv \n",
      "11/12/2019 04:30:35 PM starting correlation \n"
     ]
    },
    {
     "name": "stdout",
     "output_type": "stream",
     "text": [
      "285446\n",
      "/Users/gracer/Google Drive/HCP_graph/1200/datasets/HCP_PTN1200/graph_analysis/node_timeseries/3T_HCP1200_MSMAll_d100_ts2/285446.txt\n"
     ]
    },
    {
     "name": "stderr",
     "output_type": "stream",
     "text": [
      "11/12/2019 04:30:35 PM correlation matrix finished : /Users/gracer/Google Drive/HCP_graph/1200/test/285446_r_matrix.nii.gz \n",
      "11/12/2019 04:30:35 PM correlation matrix finished : /Users/gracer/Google Drive/HCP_graph/1200/test/285446_zr_matrix.nii.gz \n",
      "11/12/2019 04:30:35 PM correlation matrix finished : /Users/gracer/Google Drive/HCP_graph/1200/test/285446_mask_matrix.nii.gz \n",
      "11/12/2019 04:30:35 PM correlation matrix finished : /Users/gracer/Google Drive/HCP_graph/1200/test/285446_zr_matrix.csv \n",
      "11/12/2019 04:30:35 PM correlation matrix finished : /Users/gracer/Google Drive/HCP_graph/1200/test/285446_r_matrix.csv \n",
      "11/12/2019 04:30:35 PM starting correlation \n"
     ]
    },
    {
     "name": "stdout",
     "output_type": "stream",
     "text": [
      "309636\n",
      "/Users/gracer/Google Drive/HCP_graph/1200/datasets/HCP_PTN1200/graph_analysis/node_timeseries/3T_HCP1200_MSMAll_d100_ts2/309636.txt\n"
     ]
    },
    {
     "name": "stderr",
     "output_type": "stream",
     "text": [
      "11/12/2019 04:30:36 PM correlation matrix finished : /Users/gracer/Google Drive/HCP_graph/1200/test/309636_r_matrix.nii.gz \n",
      "11/12/2019 04:30:36 PM correlation matrix finished : /Users/gracer/Google Drive/HCP_graph/1200/test/309636_zr_matrix.nii.gz \n",
      "11/12/2019 04:30:36 PM correlation matrix finished : /Users/gracer/Google Drive/HCP_graph/1200/test/309636_mask_matrix.nii.gz \n",
      "11/12/2019 04:30:36 PM correlation matrix finished : /Users/gracer/Google Drive/HCP_graph/1200/test/309636_zr_matrix.csv \n",
      "11/12/2019 04:30:36 PM correlation matrix finished : /Users/gracer/Google Drive/HCP_graph/1200/test/309636_r_matrix.csv \n",
      "11/12/2019 04:30:36 PM starting correlation \n"
     ]
    },
    {
     "name": "stdout",
     "output_type": "stream",
     "text": [
      "316633\n",
      "/Users/gracer/Google Drive/HCP_graph/1200/datasets/HCP_PTN1200/graph_analysis/node_timeseries/3T_HCP1200_MSMAll_d100_ts2/316633.txt\n"
     ]
    },
    {
     "name": "stderr",
     "output_type": "stream",
     "text": [
      "11/12/2019 04:30:37 PM correlation matrix finished : /Users/gracer/Google Drive/HCP_graph/1200/test/316633_r_matrix.nii.gz \n",
      "11/12/2019 04:30:37 PM correlation matrix finished : /Users/gracer/Google Drive/HCP_graph/1200/test/316633_zr_matrix.nii.gz \n",
      "11/12/2019 04:30:37 PM correlation matrix finished : /Users/gracer/Google Drive/HCP_graph/1200/test/316633_mask_matrix.nii.gz \n",
      "11/12/2019 04:30:37 PM correlation matrix finished : /Users/gracer/Google Drive/HCP_graph/1200/test/316633_zr_matrix.csv \n",
      "11/12/2019 04:30:37 PM correlation matrix finished : /Users/gracer/Google Drive/HCP_graph/1200/test/316633_r_matrix.csv \n",
      "11/12/2019 04:30:37 PM starting correlation \n"
     ]
    },
    {
     "name": "stdout",
     "output_type": "stream",
     "text": [
      "329440\n",
      "/Users/gracer/Google Drive/HCP_graph/1200/datasets/HCP_PTN1200/graph_analysis/node_timeseries/3T_HCP1200_MSMAll_d100_ts2/329440.txt\n"
     ]
    },
    {
     "name": "stderr",
     "output_type": "stream",
     "text": [
      "11/12/2019 04:30:37 PM correlation matrix finished : /Users/gracer/Google Drive/HCP_graph/1200/test/329440_r_matrix.nii.gz \n",
      "11/12/2019 04:30:37 PM correlation matrix finished : /Users/gracer/Google Drive/HCP_graph/1200/test/329440_zr_matrix.nii.gz \n",
      "11/12/2019 04:30:37 PM correlation matrix finished : /Users/gracer/Google Drive/HCP_graph/1200/test/329440_mask_matrix.nii.gz \n",
      "11/12/2019 04:30:37 PM correlation matrix finished : /Users/gracer/Google Drive/HCP_graph/1200/test/329440_zr_matrix.csv \n",
      "11/12/2019 04:30:37 PM correlation matrix finished : /Users/gracer/Google Drive/HCP_graph/1200/test/329440_r_matrix.csv \n",
      "11/12/2019 04:30:37 PM starting correlation \n"
     ]
    },
    {
     "name": "stdout",
     "output_type": "stream",
     "text": [
      "336841\n",
      "/Users/gracer/Google Drive/HCP_graph/1200/datasets/HCP_PTN1200/graph_analysis/node_timeseries/3T_HCP1200_MSMAll_d100_ts2/336841.txt\n"
     ]
    },
    {
     "name": "stderr",
     "output_type": "stream",
     "text": [
      "11/12/2019 04:30:38 PM correlation matrix finished : /Users/gracer/Google Drive/HCP_graph/1200/test/336841_r_matrix.nii.gz \n",
      "11/12/2019 04:30:38 PM correlation matrix finished : /Users/gracer/Google Drive/HCP_graph/1200/test/336841_zr_matrix.nii.gz \n",
      "11/12/2019 04:30:38 PM correlation matrix finished : /Users/gracer/Google Drive/HCP_graph/1200/test/336841_mask_matrix.nii.gz \n",
      "11/12/2019 04:30:38 PM correlation matrix finished : /Users/gracer/Google Drive/HCP_graph/1200/test/336841_zr_matrix.csv \n",
      "11/12/2019 04:30:38 PM correlation matrix finished : /Users/gracer/Google Drive/HCP_graph/1200/test/336841_r_matrix.csv \n",
      "11/12/2019 04:30:38 PM starting correlation \n"
     ]
    },
    {
     "name": "stdout",
     "output_type": "stream",
     "text": [
      "349244\n",
      "/Users/gracer/Google Drive/HCP_graph/1200/datasets/HCP_PTN1200/graph_analysis/node_timeseries/3T_HCP1200_MSMAll_d100_ts2/349244.txt\n"
     ]
    },
    {
     "name": "stderr",
     "output_type": "stream",
     "text": [
      "11/12/2019 04:30:39 PM correlation matrix finished : /Users/gracer/Google Drive/HCP_graph/1200/test/349244_r_matrix.nii.gz \n",
      "11/12/2019 04:30:39 PM correlation matrix finished : /Users/gracer/Google Drive/HCP_graph/1200/test/349244_zr_matrix.nii.gz \n",
      "11/12/2019 04:30:39 PM correlation matrix finished : /Users/gracer/Google Drive/HCP_graph/1200/test/349244_mask_matrix.nii.gz \n",
      "11/12/2019 04:30:39 PM correlation matrix finished : /Users/gracer/Google Drive/HCP_graph/1200/test/349244_zr_matrix.csv \n",
      "11/12/2019 04:30:39 PM correlation matrix finished : /Users/gracer/Google Drive/HCP_graph/1200/test/349244_r_matrix.csv \n",
      "11/12/2019 04:30:39 PM starting correlation \n"
     ]
    },
    {
     "name": "stdout",
     "output_type": "stream",
     "text": [
      "350330\n",
      "/Users/gracer/Google Drive/HCP_graph/1200/datasets/HCP_PTN1200/graph_analysis/node_timeseries/3T_HCP1200_MSMAll_d100_ts2/350330.txt\n"
     ]
    },
    {
     "name": "stderr",
     "output_type": "stream",
     "text": [
      "11/12/2019 04:30:39 PM correlation matrix finished : /Users/gracer/Google Drive/HCP_graph/1200/test/350330_r_matrix.nii.gz \n",
      "11/12/2019 04:30:39 PM correlation matrix finished : /Users/gracer/Google Drive/HCP_graph/1200/test/350330_zr_matrix.nii.gz \n",
      "11/12/2019 04:30:39 PM correlation matrix finished : /Users/gracer/Google Drive/HCP_graph/1200/test/350330_mask_matrix.nii.gz \n",
      "11/12/2019 04:30:39 PM correlation matrix finished : /Users/gracer/Google Drive/HCP_graph/1200/test/350330_zr_matrix.csv \n",
      "11/12/2019 04:30:39 PM correlation matrix finished : /Users/gracer/Google Drive/HCP_graph/1200/test/350330_r_matrix.csv \n",
      "11/12/2019 04:30:39 PM starting correlation \n"
     ]
    },
    {
     "name": "stdout",
     "output_type": "stream",
     "text": [
      "351938\n",
      "no 351938\n",
      "361234\n",
      "/Users/gracer/Google Drive/HCP_graph/1200/datasets/HCP_PTN1200/graph_analysis/node_timeseries/3T_HCP1200_MSMAll_d100_ts2/361234.txt\n"
     ]
    },
    {
     "name": "stderr",
     "output_type": "stream",
     "text": [
      "11/12/2019 04:30:40 PM correlation matrix finished : /Users/gracer/Google Drive/HCP_graph/1200/test/361234_r_matrix.nii.gz \n",
      "11/12/2019 04:30:40 PM correlation matrix finished : /Users/gracer/Google Drive/HCP_graph/1200/test/361234_zr_matrix.nii.gz \n",
      "11/12/2019 04:30:40 PM correlation matrix finished : /Users/gracer/Google Drive/HCP_graph/1200/test/361234_mask_matrix.nii.gz \n",
      "11/12/2019 04:30:40 PM correlation matrix finished : /Users/gracer/Google Drive/HCP_graph/1200/test/361234_zr_matrix.csv \n",
      "11/12/2019 04:30:40 PM correlation matrix finished : /Users/gracer/Google Drive/HCP_graph/1200/test/361234_r_matrix.csv \n",
      "11/12/2019 04:30:40 PM starting correlation \n"
     ]
    },
    {
     "name": "stdout",
     "output_type": "stream",
     "text": [
      "361941\n",
      "/Users/gracer/Google Drive/HCP_graph/1200/datasets/HCP_PTN1200/graph_analysis/node_timeseries/3T_HCP1200_MSMAll_d100_ts2/361941.txt\n"
     ]
    },
    {
     "name": "stderr",
     "output_type": "stream",
     "text": [
      "11/12/2019 04:30:41 PM correlation matrix finished : /Users/gracer/Google Drive/HCP_graph/1200/test/361941_r_matrix.nii.gz \n",
      "11/12/2019 04:30:41 PM correlation matrix finished : /Users/gracer/Google Drive/HCP_graph/1200/test/361941_zr_matrix.nii.gz \n",
      "11/12/2019 04:30:41 PM correlation matrix finished : /Users/gracer/Google Drive/HCP_graph/1200/test/361941_mask_matrix.nii.gz \n",
      "11/12/2019 04:30:41 PM correlation matrix finished : /Users/gracer/Google Drive/HCP_graph/1200/test/361941_zr_matrix.csv \n",
      "11/12/2019 04:30:41 PM correlation matrix finished : /Users/gracer/Google Drive/HCP_graph/1200/test/361941_r_matrix.csv \n",
      "11/12/2019 04:30:41 PM starting correlation \n"
     ]
    },
    {
     "name": "stdout",
     "output_type": "stream",
     "text": [
      "366042\n",
      "/Users/gracer/Google Drive/HCP_graph/1200/datasets/HCP_PTN1200/graph_analysis/node_timeseries/3T_HCP1200_MSMAll_d100_ts2/366042.txt\n"
     ]
    },
    {
     "name": "stderr",
     "output_type": "stream",
     "text": [
      "11/12/2019 04:30:41 PM correlation matrix finished : /Users/gracer/Google Drive/HCP_graph/1200/test/366042_r_matrix.nii.gz \n",
      "11/12/2019 04:30:41 PM correlation matrix finished : /Users/gracer/Google Drive/HCP_graph/1200/test/366042_zr_matrix.nii.gz \n",
      "11/12/2019 04:30:41 PM correlation matrix finished : /Users/gracer/Google Drive/HCP_graph/1200/test/366042_mask_matrix.nii.gz \n",
      "11/12/2019 04:30:41 PM correlation matrix finished : /Users/gracer/Google Drive/HCP_graph/1200/test/366042_zr_matrix.csv \n",
      "11/12/2019 04:30:41 PM correlation matrix finished : /Users/gracer/Google Drive/HCP_graph/1200/test/366042_r_matrix.csv \n",
      "11/12/2019 04:30:41 PM starting correlation \n"
     ]
    },
    {
     "name": "stdout",
     "output_type": "stream",
     "text": [
      "371843\n",
      "/Users/gracer/Google Drive/HCP_graph/1200/datasets/HCP_PTN1200/graph_analysis/node_timeseries/3T_HCP1200_MSMAll_d100_ts2/371843.txt\n"
     ]
    },
    {
     "name": "stderr",
     "output_type": "stream",
     "text": [
      "11/12/2019 04:30:42 PM correlation matrix finished : /Users/gracer/Google Drive/HCP_graph/1200/test/371843_r_matrix.nii.gz \n",
      "11/12/2019 04:30:42 PM correlation matrix finished : /Users/gracer/Google Drive/HCP_graph/1200/test/371843_zr_matrix.nii.gz \n",
      "11/12/2019 04:30:42 PM correlation matrix finished : /Users/gracer/Google Drive/HCP_graph/1200/test/371843_mask_matrix.nii.gz \n",
      "11/12/2019 04:30:42 PM correlation matrix finished : /Users/gracer/Google Drive/HCP_graph/1200/test/371843_zr_matrix.csv \n",
      "11/12/2019 04:30:42 PM correlation matrix finished : /Users/gracer/Google Drive/HCP_graph/1200/test/371843_r_matrix.csv \n",
      "11/12/2019 04:30:42 PM starting correlation \n"
     ]
    },
    {
     "name": "stdout",
     "output_type": "stream",
     "text": [
      "378857\n",
      "/Users/gracer/Google Drive/HCP_graph/1200/datasets/HCP_PTN1200/graph_analysis/node_timeseries/3T_HCP1200_MSMAll_d100_ts2/378857.txt\n"
     ]
    },
    {
     "name": "stderr",
     "output_type": "stream",
     "text": [
      "11/12/2019 04:30:43 PM correlation matrix finished : /Users/gracer/Google Drive/HCP_graph/1200/test/378857_r_matrix.nii.gz \n",
      "11/12/2019 04:30:43 PM correlation matrix finished : /Users/gracer/Google Drive/HCP_graph/1200/test/378857_zr_matrix.nii.gz \n",
      "11/12/2019 04:30:43 PM correlation matrix finished : /Users/gracer/Google Drive/HCP_graph/1200/test/378857_mask_matrix.nii.gz \n",
      "11/12/2019 04:30:43 PM correlation matrix finished : /Users/gracer/Google Drive/HCP_graph/1200/test/378857_zr_matrix.csv \n",
      "11/12/2019 04:30:43 PM correlation matrix finished : /Users/gracer/Google Drive/HCP_graph/1200/test/378857_r_matrix.csv \n",
      "11/12/2019 04:30:43 PM starting correlation \n"
     ]
    },
    {
     "name": "stdout",
     "output_type": "stream",
     "text": [
      "379657\n",
      "/Users/gracer/Google Drive/HCP_graph/1200/datasets/HCP_PTN1200/graph_analysis/node_timeseries/3T_HCP1200_MSMAll_d100_ts2/379657.txt\n"
     ]
    },
    {
     "name": "stderr",
     "output_type": "stream",
     "text": [
      "11/12/2019 04:30:43 PM correlation matrix finished : /Users/gracer/Google Drive/HCP_graph/1200/test/379657_r_matrix.nii.gz \n",
      "11/12/2019 04:30:43 PM correlation matrix finished : /Users/gracer/Google Drive/HCP_graph/1200/test/379657_zr_matrix.nii.gz \n",
      "11/12/2019 04:30:43 PM correlation matrix finished : /Users/gracer/Google Drive/HCP_graph/1200/test/379657_mask_matrix.nii.gz \n",
      "11/12/2019 04:30:43 PM correlation matrix finished : /Users/gracer/Google Drive/HCP_graph/1200/test/379657_zr_matrix.csv \n",
      "11/12/2019 04:30:43 PM correlation matrix finished : /Users/gracer/Google Drive/HCP_graph/1200/test/379657_r_matrix.csv \n",
      "11/12/2019 04:30:43 PM starting correlation \n"
     ]
    },
    {
     "name": "stdout",
     "output_type": "stream",
     "text": [
      "381543\n",
      "/Users/gracer/Google Drive/HCP_graph/1200/datasets/HCP_PTN1200/graph_analysis/node_timeseries/3T_HCP1200_MSMAll_d100_ts2/381543.txt\n"
     ]
    },
    {
     "name": "stderr",
     "output_type": "stream",
     "text": [
      "11/12/2019 04:30:44 PM correlation matrix finished : /Users/gracer/Google Drive/HCP_graph/1200/test/381543_r_matrix.nii.gz \n",
      "11/12/2019 04:30:44 PM correlation matrix finished : /Users/gracer/Google Drive/HCP_graph/1200/test/381543_zr_matrix.nii.gz \n",
      "11/12/2019 04:30:44 PM correlation matrix finished : /Users/gracer/Google Drive/HCP_graph/1200/test/381543_mask_matrix.nii.gz \n",
      "11/12/2019 04:30:44 PM correlation matrix finished : /Users/gracer/Google Drive/HCP_graph/1200/test/381543_zr_matrix.csv \n",
      "11/12/2019 04:30:44 PM correlation matrix finished : /Users/gracer/Google Drive/HCP_graph/1200/test/381543_r_matrix.csv \n",
      "11/12/2019 04:30:44 PM starting correlation \n"
     ]
    },
    {
     "name": "stdout",
     "output_type": "stream",
     "text": [
      "386250\n",
      "/Users/gracer/Google Drive/HCP_graph/1200/datasets/HCP_PTN1200/graph_analysis/node_timeseries/3T_HCP1200_MSMAll_d100_ts2/386250.txt\n"
     ]
    },
    {
     "name": "stderr",
     "output_type": "stream",
     "text": [
      "11/12/2019 04:30:45 PM correlation matrix finished : /Users/gracer/Google Drive/HCP_graph/1200/test/386250_r_matrix.nii.gz \n",
      "11/12/2019 04:30:45 PM correlation matrix finished : /Users/gracer/Google Drive/HCP_graph/1200/test/386250_zr_matrix.nii.gz \n",
      "11/12/2019 04:30:45 PM correlation matrix finished : /Users/gracer/Google Drive/HCP_graph/1200/test/386250_mask_matrix.nii.gz \n",
      "11/12/2019 04:30:45 PM correlation matrix finished : /Users/gracer/Google Drive/HCP_graph/1200/test/386250_zr_matrix.csv \n",
      "11/12/2019 04:30:45 PM correlation matrix finished : /Users/gracer/Google Drive/HCP_graph/1200/test/386250_r_matrix.csv \n",
      "11/12/2019 04:30:45 PM starting correlation \n"
     ]
    },
    {
     "name": "stdout",
     "output_type": "stream",
     "text": [
      "397154\n",
      "/Users/gracer/Google Drive/HCP_graph/1200/datasets/HCP_PTN1200/graph_analysis/node_timeseries/3T_HCP1200_MSMAll_d100_ts2/397154.txt\n"
     ]
    },
    {
     "name": "stderr",
     "output_type": "stream",
     "text": [
      "11/12/2019 04:30:46 PM correlation matrix finished : /Users/gracer/Google Drive/HCP_graph/1200/test/397154_r_matrix.nii.gz \n",
      "11/12/2019 04:30:46 PM correlation matrix finished : /Users/gracer/Google Drive/HCP_graph/1200/test/397154_zr_matrix.nii.gz \n",
      "11/12/2019 04:30:46 PM correlation matrix finished : /Users/gracer/Google Drive/HCP_graph/1200/test/397154_mask_matrix.nii.gz \n",
      "11/12/2019 04:30:46 PM correlation matrix finished : /Users/gracer/Google Drive/HCP_graph/1200/test/397154_zr_matrix.csv \n",
      "11/12/2019 04:30:46 PM correlation matrix finished : /Users/gracer/Google Drive/HCP_graph/1200/test/397154_r_matrix.csv \n",
      "11/12/2019 04:30:46 PM starting correlation \n"
     ]
    },
    {
     "name": "stdout",
     "output_type": "stream",
     "text": [
      "432332\n",
      "/Users/gracer/Google Drive/HCP_graph/1200/datasets/HCP_PTN1200/graph_analysis/node_timeseries/3T_HCP1200_MSMAll_d100_ts2/432332.txt\n"
     ]
    },
    {
     "name": "stderr",
     "output_type": "stream",
     "text": [
      "11/12/2019 04:30:47 PM correlation matrix finished : /Users/gracer/Google Drive/HCP_graph/1200/test/432332_r_matrix.nii.gz \n",
      "11/12/2019 04:30:47 PM correlation matrix finished : /Users/gracer/Google Drive/HCP_graph/1200/test/432332_zr_matrix.nii.gz \n",
      "11/12/2019 04:30:47 PM correlation matrix finished : /Users/gracer/Google Drive/HCP_graph/1200/test/432332_mask_matrix.nii.gz \n",
      "11/12/2019 04:30:47 PM correlation matrix finished : /Users/gracer/Google Drive/HCP_graph/1200/test/432332_zr_matrix.csv \n",
      "11/12/2019 04:30:47 PM correlation matrix finished : /Users/gracer/Google Drive/HCP_graph/1200/test/432332_r_matrix.csv \n",
      "11/12/2019 04:30:47 PM starting correlation \n"
     ]
    },
    {
     "name": "stdout",
     "output_type": "stream",
     "text": [
      "448347\n",
      "/Users/gracer/Google Drive/HCP_graph/1200/datasets/HCP_PTN1200/graph_analysis/node_timeseries/3T_HCP1200_MSMAll_d100_ts2/448347.txt\n"
     ]
    },
    {
     "name": "stderr",
     "output_type": "stream",
     "text": [
      "11/12/2019 04:30:48 PM correlation matrix finished : /Users/gracer/Google Drive/HCP_graph/1200/test/448347_r_matrix.nii.gz \n",
      "11/12/2019 04:30:48 PM correlation matrix finished : /Users/gracer/Google Drive/HCP_graph/1200/test/448347_zr_matrix.nii.gz \n",
      "11/12/2019 04:30:48 PM correlation matrix finished : /Users/gracer/Google Drive/HCP_graph/1200/test/448347_mask_matrix.nii.gz \n",
      "11/12/2019 04:30:48 PM correlation matrix finished : /Users/gracer/Google Drive/HCP_graph/1200/test/448347_zr_matrix.csv \n",
      "11/12/2019 04:30:48 PM correlation matrix finished : /Users/gracer/Google Drive/HCP_graph/1200/test/448347_r_matrix.csv \n",
      "11/12/2019 04:30:48 PM starting correlation \n"
     ]
    },
    {
     "name": "stdout",
     "output_type": "stream",
     "text": [
      "459453\n",
      "/Users/gracer/Google Drive/HCP_graph/1200/datasets/HCP_PTN1200/graph_analysis/node_timeseries/3T_HCP1200_MSMAll_d100_ts2/459453.txt\n"
     ]
    },
    {
     "name": "stderr",
     "output_type": "stream",
     "text": [
      "11/12/2019 04:30:48 PM correlation matrix finished : /Users/gracer/Google Drive/HCP_graph/1200/test/459453_r_matrix.nii.gz \n",
      "11/12/2019 04:30:48 PM correlation matrix finished : /Users/gracer/Google Drive/HCP_graph/1200/test/459453_zr_matrix.nii.gz \n",
      "11/12/2019 04:30:48 PM correlation matrix finished : /Users/gracer/Google Drive/HCP_graph/1200/test/459453_mask_matrix.nii.gz \n",
      "11/12/2019 04:30:48 PM correlation matrix finished : /Users/gracer/Google Drive/HCP_graph/1200/test/459453_zr_matrix.csv \n",
      "11/12/2019 04:30:48 PM correlation matrix finished : /Users/gracer/Google Drive/HCP_graph/1200/test/459453_r_matrix.csv \n",
      "11/12/2019 04:30:48 PM starting correlation \n"
     ]
    },
    {
     "name": "stdout",
     "output_type": "stream",
     "text": [
      "465852\n",
      "/Users/gracer/Google Drive/HCP_graph/1200/datasets/HCP_PTN1200/graph_analysis/node_timeseries/3T_HCP1200_MSMAll_d100_ts2/465852.txt\n"
     ]
    },
    {
     "name": "stderr",
     "output_type": "stream",
     "text": [
      "11/12/2019 04:30:49 PM correlation matrix finished : /Users/gracer/Google Drive/HCP_graph/1200/test/465852_r_matrix.nii.gz \n",
      "11/12/2019 04:30:49 PM correlation matrix finished : /Users/gracer/Google Drive/HCP_graph/1200/test/465852_zr_matrix.nii.gz \n",
      "11/12/2019 04:30:49 PM correlation matrix finished : /Users/gracer/Google Drive/HCP_graph/1200/test/465852_mask_matrix.nii.gz \n",
      "11/12/2019 04:30:49 PM correlation matrix finished : /Users/gracer/Google Drive/HCP_graph/1200/test/465852_zr_matrix.csv \n",
      "11/12/2019 04:30:49 PM correlation matrix finished : /Users/gracer/Google Drive/HCP_graph/1200/test/465852_r_matrix.csv \n",
      "11/12/2019 04:30:49 PM starting correlation \n"
     ]
    },
    {
     "name": "stdout",
     "output_type": "stream",
     "text": [
      "475855\n",
      "/Users/gracer/Google Drive/HCP_graph/1200/datasets/HCP_PTN1200/graph_analysis/node_timeseries/3T_HCP1200_MSMAll_d100_ts2/475855.txt\n"
     ]
    },
    {
     "name": "stderr",
     "output_type": "stream",
     "text": [
      "11/12/2019 04:30:50 PM correlation matrix finished : /Users/gracer/Google Drive/HCP_graph/1200/test/475855_r_matrix.nii.gz \n",
      "11/12/2019 04:30:50 PM correlation matrix finished : /Users/gracer/Google Drive/HCP_graph/1200/test/475855_zr_matrix.nii.gz \n",
      "11/12/2019 04:30:50 PM correlation matrix finished : /Users/gracer/Google Drive/HCP_graph/1200/test/475855_mask_matrix.nii.gz \n",
      "11/12/2019 04:30:50 PM correlation matrix finished : /Users/gracer/Google Drive/HCP_graph/1200/test/475855_zr_matrix.csv \n",
      "11/12/2019 04:30:50 PM correlation matrix finished : /Users/gracer/Google Drive/HCP_graph/1200/test/475855_r_matrix.csv \n",
      "11/12/2019 04:30:50 PM starting correlation \n"
     ]
    },
    {
     "name": "stdout",
     "output_type": "stream",
     "text": [
      "479762\n",
      "/Users/gracer/Google Drive/HCP_graph/1200/datasets/HCP_PTN1200/graph_analysis/node_timeseries/3T_HCP1200_MSMAll_d100_ts2/479762.txt\n"
     ]
    },
    {
     "name": "stderr",
     "output_type": "stream",
     "text": [
      "11/12/2019 04:30:51 PM correlation matrix finished : /Users/gracer/Google Drive/HCP_graph/1200/test/479762_r_matrix.nii.gz \n",
      "11/12/2019 04:30:51 PM correlation matrix finished : /Users/gracer/Google Drive/HCP_graph/1200/test/479762_zr_matrix.nii.gz \n",
      "11/12/2019 04:30:51 PM correlation matrix finished : /Users/gracer/Google Drive/HCP_graph/1200/test/479762_mask_matrix.nii.gz \n",
      "11/12/2019 04:30:51 PM correlation matrix finished : /Users/gracer/Google Drive/HCP_graph/1200/test/479762_zr_matrix.csv \n",
      "11/12/2019 04:30:51 PM correlation matrix finished : /Users/gracer/Google Drive/HCP_graph/1200/test/479762_r_matrix.csv \n",
      "11/12/2019 04:30:51 PM starting correlation \n"
     ]
    },
    {
     "name": "stdout",
     "output_type": "stream",
     "text": [
      "499566\n",
      "/Users/gracer/Google Drive/HCP_graph/1200/datasets/HCP_PTN1200/graph_analysis/node_timeseries/3T_HCP1200_MSMAll_d100_ts2/499566.txt\n"
     ]
    },
    {
     "name": "stderr",
     "output_type": "stream",
     "text": [
      "11/12/2019 04:30:51 PM correlation matrix finished : /Users/gracer/Google Drive/HCP_graph/1200/test/499566_r_matrix.nii.gz \n",
      "11/12/2019 04:30:51 PM correlation matrix finished : /Users/gracer/Google Drive/HCP_graph/1200/test/499566_zr_matrix.nii.gz \n",
      "11/12/2019 04:30:51 PM correlation matrix finished : /Users/gracer/Google Drive/HCP_graph/1200/test/499566_mask_matrix.nii.gz \n",
      "11/12/2019 04:30:51 PM correlation matrix finished : /Users/gracer/Google Drive/HCP_graph/1200/test/499566_zr_matrix.csv \n",
      "11/12/2019 04:30:51 PM correlation matrix finished : /Users/gracer/Google Drive/HCP_graph/1200/test/499566_r_matrix.csv \n",
      "11/12/2019 04:30:51 PM starting correlation \n"
     ]
    },
    {
     "name": "stdout",
     "output_type": "stream",
     "text": [
      "513736\n",
      "/Users/gracer/Google Drive/HCP_graph/1200/datasets/HCP_PTN1200/graph_analysis/node_timeseries/3T_HCP1200_MSMAll_d100_ts2/513736.txt\n"
     ]
    },
    {
     "name": "stderr",
     "output_type": "stream",
     "text": [
      "11/12/2019 04:30:52 PM correlation matrix finished : /Users/gracer/Google Drive/HCP_graph/1200/test/513736_r_matrix.nii.gz \n",
      "11/12/2019 04:30:52 PM correlation matrix finished : /Users/gracer/Google Drive/HCP_graph/1200/test/513736_zr_matrix.nii.gz \n",
      "11/12/2019 04:30:52 PM correlation matrix finished : /Users/gracer/Google Drive/HCP_graph/1200/test/513736_mask_matrix.nii.gz \n",
      "11/12/2019 04:30:52 PM correlation matrix finished : /Users/gracer/Google Drive/HCP_graph/1200/test/513736_zr_matrix.csv \n",
      "11/12/2019 04:30:52 PM correlation matrix finished : /Users/gracer/Google Drive/HCP_graph/1200/test/513736_r_matrix.csv \n",
      "11/12/2019 04:30:52 PM starting correlation \n"
     ]
    },
    {
     "name": "stdout",
     "output_type": "stream",
     "text": [
      "516742\n",
      "/Users/gracer/Google Drive/HCP_graph/1200/datasets/HCP_PTN1200/graph_analysis/node_timeseries/3T_HCP1200_MSMAll_d100_ts2/516742.txt\n"
     ]
    },
    {
     "name": "stderr",
     "output_type": "stream",
     "text": [
      "11/12/2019 04:30:52 PM correlation matrix finished : /Users/gracer/Google Drive/HCP_graph/1200/test/516742_r_matrix.nii.gz \n",
      "11/12/2019 04:30:52 PM correlation matrix finished : /Users/gracer/Google Drive/HCP_graph/1200/test/516742_zr_matrix.nii.gz \n",
      "11/12/2019 04:30:52 PM correlation matrix finished : /Users/gracer/Google Drive/HCP_graph/1200/test/516742_mask_matrix.nii.gz \n",
      "11/12/2019 04:30:52 PM correlation matrix finished : /Users/gracer/Google Drive/HCP_graph/1200/test/516742_zr_matrix.csv \n",
      "11/12/2019 04:30:52 PM correlation matrix finished : /Users/gracer/Google Drive/HCP_graph/1200/test/516742_r_matrix.csv \n",
      "11/12/2019 04:30:52 PM starting correlation \n"
     ]
    },
    {
     "name": "stdout",
     "output_type": "stream",
     "text": [
      "529549\n",
      "/Users/gracer/Google Drive/HCP_graph/1200/datasets/HCP_PTN1200/graph_analysis/node_timeseries/3T_HCP1200_MSMAll_d100_ts2/529549.txt\n"
     ]
    },
    {
     "name": "stderr",
     "output_type": "stream",
     "text": [
      "11/12/2019 04:30:53 PM correlation matrix finished : /Users/gracer/Google Drive/HCP_graph/1200/test/529549_r_matrix.nii.gz \n",
      "11/12/2019 04:30:53 PM correlation matrix finished : /Users/gracer/Google Drive/HCP_graph/1200/test/529549_zr_matrix.nii.gz \n",
      "11/12/2019 04:30:53 PM correlation matrix finished : /Users/gracer/Google Drive/HCP_graph/1200/test/529549_mask_matrix.nii.gz \n",
      "11/12/2019 04:30:53 PM correlation matrix finished : /Users/gracer/Google Drive/HCP_graph/1200/test/529549_zr_matrix.csv \n",
      "11/12/2019 04:30:53 PM correlation matrix finished : /Users/gracer/Google Drive/HCP_graph/1200/test/529549_r_matrix.csv \n",
      "11/12/2019 04:30:53 PM starting correlation \n"
     ]
    },
    {
     "name": "stdout",
     "output_type": "stream",
     "text": [
      "553344\n",
      "/Users/gracer/Google Drive/HCP_graph/1200/datasets/HCP_PTN1200/graph_analysis/node_timeseries/3T_HCP1200_MSMAll_d100_ts2/553344.txt\n"
     ]
    },
    {
     "name": "stderr",
     "output_type": "stream",
     "text": [
      "11/12/2019 04:30:54 PM correlation matrix finished : /Users/gracer/Google Drive/HCP_graph/1200/test/553344_r_matrix.nii.gz \n",
      "11/12/2019 04:30:54 PM correlation matrix finished : /Users/gracer/Google Drive/HCP_graph/1200/test/553344_zr_matrix.nii.gz \n",
      "11/12/2019 04:30:54 PM correlation matrix finished : /Users/gracer/Google Drive/HCP_graph/1200/test/553344_mask_matrix.nii.gz \n",
      "11/12/2019 04:30:54 PM correlation matrix finished : /Users/gracer/Google Drive/HCP_graph/1200/test/553344_zr_matrix.csv \n",
      "11/12/2019 04:30:54 PM correlation matrix finished : /Users/gracer/Google Drive/HCP_graph/1200/test/553344_r_matrix.csv \n",
      "11/12/2019 04:30:54 PM starting correlation \n"
     ]
    },
    {
     "name": "stdout",
     "output_type": "stream",
     "text": [
      "555651\n",
      "/Users/gracer/Google Drive/HCP_graph/1200/datasets/HCP_PTN1200/graph_analysis/node_timeseries/3T_HCP1200_MSMAll_d100_ts2/555651.txt\n"
     ]
    },
    {
     "name": "stderr",
     "output_type": "stream",
     "text": [
      "11/12/2019 04:30:54 PM correlation matrix finished : /Users/gracer/Google Drive/HCP_graph/1200/test/555651_r_matrix.nii.gz \n",
      "11/12/2019 04:30:54 PM correlation matrix finished : /Users/gracer/Google Drive/HCP_graph/1200/test/555651_zr_matrix.nii.gz \n",
      "11/12/2019 04:30:54 PM correlation matrix finished : /Users/gracer/Google Drive/HCP_graph/1200/test/555651_mask_matrix.nii.gz \n",
      "11/12/2019 04:30:54 PM correlation matrix finished : /Users/gracer/Google Drive/HCP_graph/1200/test/555651_zr_matrix.csv \n",
      "11/12/2019 04:30:54 PM correlation matrix finished : /Users/gracer/Google Drive/HCP_graph/1200/test/555651_r_matrix.csv \n",
      "11/12/2019 04:30:54 PM starting correlation \n"
     ]
    },
    {
     "name": "stdout",
     "output_type": "stream",
     "text": [
      "558960\n",
      "/Users/gracer/Google Drive/HCP_graph/1200/datasets/HCP_PTN1200/graph_analysis/node_timeseries/3T_HCP1200_MSMAll_d100_ts2/558960.txt\n"
     ]
    },
    {
     "name": "stderr",
     "output_type": "stream",
     "text": [
      "11/12/2019 04:30:55 PM correlation matrix finished : /Users/gracer/Google Drive/HCP_graph/1200/test/558960_r_matrix.nii.gz \n",
      "11/12/2019 04:30:55 PM correlation matrix finished : /Users/gracer/Google Drive/HCP_graph/1200/test/558960_zr_matrix.nii.gz \n",
      "11/12/2019 04:30:55 PM correlation matrix finished : /Users/gracer/Google Drive/HCP_graph/1200/test/558960_mask_matrix.nii.gz \n",
      "11/12/2019 04:30:55 PM correlation matrix finished : /Users/gracer/Google Drive/HCP_graph/1200/test/558960_zr_matrix.csv \n",
      "11/12/2019 04:30:55 PM correlation matrix finished : /Users/gracer/Google Drive/HCP_graph/1200/test/558960_r_matrix.csv \n",
      "11/12/2019 04:30:55 PM starting correlation \n"
     ]
    },
    {
     "name": "stdout",
     "output_type": "stream",
     "text": [
      "561444\n",
      "/Users/gracer/Google Drive/HCP_graph/1200/datasets/HCP_PTN1200/graph_analysis/node_timeseries/3T_HCP1200_MSMAll_d100_ts2/561444.txt\n"
     ]
    },
    {
     "name": "stderr",
     "output_type": "stream",
     "text": [
      "11/12/2019 04:30:55 PM correlation matrix finished : /Users/gracer/Google Drive/HCP_graph/1200/test/561444_r_matrix.nii.gz \n",
      "11/12/2019 04:30:55 PM correlation matrix finished : /Users/gracer/Google Drive/HCP_graph/1200/test/561444_zr_matrix.nii.gz \n",
      "11/12/2019 04:30:55 PM correlation matrix finished : /Users/gracer/Google Drive/HCP_graph/1200/test/561444_mask_matrix.nii.gz \n",
      "11/12/2019 04:30:55 PM correlation matrix finished : /Users/gracer/Google Drive/HCP_graph/1200/test/561444_zr_matrix.csv \n",
      "11/12/2019 04:30:55 PM correlation matrix finished : /Users/gracer/Google Drive/HCP_graph/1200/test/561444_r_matrix.csv \n",
      "11/12/2019 04:30:55 PM starting correlation \n"
     ]
    },
    {
     "name": "stdout",
     "output_type": "stream",
     "text": [
      "567759\n",
      "/Users/gracer/Google Drive/HCP_graph/1200/datasets/HCP_PTN1200/graph_analysis/node_timeseries/3T_HCP1200_MSMAll_d100_ts2/567759.txt\n"
     ]
    },
    {
     "name": "stderr",
     "output_type": "stream",
     "text": [
      "11/12/2019 04:30:56 PM correlation matrix finished : /Users/gracer/Google Drive/HCP_graph/1200/test/567759_r_matrix.nii.gz \n",
      "11/12/2019 04:30:56 PM correlation matrix finished : /Users/gracer/Google Drive/HCP_graph/1200/test/567759_zr_matrix.nii.gz \n",
      "11/12/2019 04:30:56 PM correlation matrix finished : /Users/gracer/Google Drive/HCP_graph/1200/test/567759_mask_matrix.nii.gz \n",
      "11/12/2019 04:30:56 PM correlation matrix finished : /Users/gracer/Google Drive/HCP_graph/1200/test/567759_zr_matrix.csv \n",
      "11/12/2019 04:30:56 PM correlation matrix finished : /Users/gracer/Google Drive/HCP_graph/1200/test/567759_r_matrix.csv \n",
      "11/12/2019 04:30:56 PM starting correlation \n"
     ]
    },
    {
     "name": "stdout",
     "output_type": "stream",
     "text": [
      "569864\n",
      "no 569864\n",
      "571144\n",
      "/Users/gracer/Google Drive/HCP_graph/1200/datasets/HCP_PTN1200/graph_analysis/node_timeseries/3T_HCP1200_MSMAll_d100_ts2/571144.txt\n"
     ]
    },
    {
     "name": "stderr",
     "output_type": "stream",
     "text": [
      "11/12/2019 04:30:56 PM correlation matrix finished : /Users/gracer/Google Drive/HCP_graph/1200/test/571144_r_matrix.nii.gz \n",
      "11/12/2019 04:30:56 PM correlation matrix finished : /Users/gracer/Google Drive/HCP_graph/1200/test/571144_zr_matrix.nii.gz \n",
      "11/12/2019 04:30:56 PM correlation matrix finished : /Users/gracer/Google Drive/HCP_graph/1200/test/571144_mask_matrix.nii.gz \n",
      "11/12/2019 04:30:56 PM correlation matrix finished : /Users/gracer/Google Drive/HCP_graph/1200/test/571144_zr_matrix.csv \n",
      "11/12/2019 04:30:56 PM correlation matrix finished : /Users/gracer/Google Drive/HCP_graph/1200/test/571144_r_matrix.csv \n",
      "11/12/2019 04:30:56 PM starting correlation \n"
     ]
    },
    {
     "name": "stdout",
     "output_type": "stream",
     "text": [
      "580347\n",
      "/Users/gracer/Google Drive/HCP_graph/1200/datasets/HCP_PTN1200/graph_analysis/node_timeseries/3T_HCP1200_MSMAll_d100_ts2/580347.txt\n"
     ]
    },
    {
     "name": "stderr",
     "output_type": "stream",
     "text": [
      "11/12/2019 04:30:57 PM correlation matrix finished : /Users/gracer/Google Drive/HCP_graph/1200/test/580347_r_matrix.nii.gz \n",
      "11/12/2019 04:30:57 PM correlation matrix finished : /Users/gracer/Google Drive/HCP_graph/1200/test/580347_zr_matrix.nii.gz \n",
      "11/12/2019 04:30:57 PM correlation matrix finished : /Users/gracer/Google Drive/HCP_graph/1200/test/580347_mask_matrix.nii.gz \n",
      "11/12/2019 04:30:57 PM correlation matrix finished : /Users/gracer/Google Drive/HCP_graph/1200/test/580347_zr_matrix.csv \n",
      "11/12/2019 04:30:57 PM correlation matrix finished : /Users/gracer/Google Drive/HCP_graph/1200/test/580347_r_matrix.csv \n",
      "11/12/2019 04:30:57 PM starting correlation \n"
     ]
    },
    {
     "name": "stdout",
     "output_type": "stream",
     "text": [
      "613235\n",
      "no 613235\n",
      "616645\n",
      "/Users/gracer/Google Drive/HCP_graph/1200/datasets/HCP_PTN1200/graph_analysis/node_timeseries/3T_HCP1200_MSMAll_d100_ts2/616645.txt\n"
     ]
    },
    {
     "name": "stderr",
     "output_type": "stream",
     "text": [
      "11/12/2019 04:30:58 PM correlation matrix finished : /Users/gracer/Google Drive/HCP_graph/1200/test/616645_r_matrix.nii.gz \n",
      "11/12/2019 04:30:58 PM correlation matrix finished : /Users/gracer/Google Drive/HCP_graph/1200/test/616645_zr_matrix.nii.gz \n",
      "11/12/2019 04:30:58 PM correlation matrix finished : /Users/gracer/Google Drive/HCP_graph/1200/test/616645_mask_matrix.nii.gz \n",
      "11/12/2019 04:30:58 PM correlation matrix finished : /Users/gracer/Google Drive/HCP_graph/1200/test/616645_zr_matrix.csv \n",
      "11/12/2019 04:30:58 PM correlation matrix finished : /Users/gracer/Google Drive/HCP_graph/1200/test/616645_r_matrix.csv \n",
      "11/12/2019 04:30:58 PM starting correlation \n"
     ]
    },
    {
     "name": "stdout",
     "output_type": "stream",
     "text": [
      "622236\n",
      "/Users/gracer/Google Drive/HCP_graph/1200/datasets/HCP_PTN1200/graph_analysis/node_timeseries/3T_HCP1200_MSMAll_d100_ts2/622236.txt\n"
     ]
    },
    {
     "name": "stderr",
     "output_type": "stream",
     "text": [
      "11/12/2019 04:30:59 PM correlation matrix finished : /Users/gracer/Google Drive/HCP_graph/1200/test/622236_r_matrix.nii.gz \n",
      "11/12/2019 04:30:59 PM correlation matrix finished : /Users/gracer/Google Drive/HCP_graph/1200/test/622236_zr_matrix.nii.gz \n",
      "11/12/2019 04:30:59 PM correlation matrix finished : /Users/gracer/Google Drive/HCP_graph/1200/test/622236_mask_matrix.nii.gz \n",
      "11/12/2019 04:30:59 PM correlation matrix finished : /Users/gracer/Google Drive/HCP_graph/1200/test/622236_zr_matrix.csv \n",
      "11/12/2019 04:30:59 PM correlation matrix finished : /Users/gracer/Google Drive/HCP_graph/1200/test/622236_r_matrix.csv \n",
      "11/12/2019 04:30:59 PM starting correlation \n"
     ]
    },
    {
     "name": "stdout",
     "output_type": "stream",
     "text": [
      "623137\n",
      "no 623137\n",
      "630134\n",
      "no 630134\n",
      "645551\n",
      "/Users/gracer/Google Drive/HCP_graph/1200/datasets/HCP_PTN1200/graph_analysis/node_timeseries/3T_HCP1200_MSMAll_d100_ts2/645551.txt\n"
     ]
    },
    {
     "name": "stderr",
     "output_type": "stream",
     "text": [
      "11/12/2019 04:31:00 PM correlation matrix finished : /Users/gracer/Google Drive/HCP_graph/1200/test/645551_r_matrix.nii.gz \n",
      "11/12/2019 04:31:00 PM correlation matrix finished : /Users/gracer/Google Drive/HCP_graph/1200/test/645551_zr_matrix.nii.gz \n",
      "11/12/2019 04:31:00 PM correlation matrix finished : /Users/gracer/Google Drive/HCP_graph/1200/test/645551_mask_matrix.nii.gz \n",
      "11/12/2019 04:31:00 PM correlation matrix finished : /Users/gracer/Google Drive/HCP_graph/1200/test/645551_zr_matrix.csv \n",
      "11/12/2019 04:31:00 PM correlation matrix finished : /Users/gracer/Google Drive/HCP_graph/1200/test/645551_r_matrix.csv \n",
      "11/12/2019 04:31:00 PM starting correlation \n"
     ]
    },
    {
     "name": "stdout",
     "output_type": "stream",
     "text": [
      "654754\n",
      "/Users/gracer/Google Drive/HCP_graph/1200/datasets/HCP_PTN1200/graph_analysis/node_timeseries/3T_HCP1200_MSMAll_d100_ts2/654754.txt\n"
     ]
    },
    {
     "name": "stderr",
     "output_type": "stream",
     "text": [
      "11/12/2019 04:31:01 PM correlation matrix finished : /Users/gracer/Google Drive/HCP_graph/1200/test/654754_r_matrix.nii.gz \n",
      "11/12/2019 04:31:01 PM correlation matrix finished : /Users/gracer/Google Drive/HCP_graph/1200/test/654754_zr_matrix.nii.gz \n",
      "11/12/2019 04:31:01 PM correlation matrix finished : /Users/gracer/Google Drive/HCP_graph/1200/test/654754_mask_matrix.nii.gz \n",
      "11/12/2019 04:31:01 PM correlation matrix finished : /Users/gracer/Google Drive/HCP_graph/1200/test/654754_zr_matrix.csv \n",
      "11/12/2019 04:31:01 PM correlation matrix finished : /Users/gracer/Google Drive/HCP_graph/1200/test/654754_r_matrix.csv \n",
      "11/12/2019 04:31:01 PM starting correlation \n"
     ]
    },
    {
     "name": "stdout",
     "output_type": "stream",
     "text": [
      "689470\n",
      "no 689470\n",
      "701535\n",
      "no 701535\n",
      "704238\n",
      "/Users/gracer/Google Drive/HCP_graph/1200/datasets/HCP_PTN1200/graph_analysis/node_timeseries/3T_HCP1200_MSMAll_d100_ts2/704238.txt\n"
     ]
    },
    {
     "name": "stderr",
     "output_type": "stream",
     "text": [
      "11/12/2019 04:31:01 PM correlation matrix finished : /Users/gracer/Google Drive/HCP_graph/1200/test/704238_r_matrix.nii.gz \n",
      "11/12/2019 04:31:01 PM correlation matrix finished : /Users/gracer/Google Drive/HCP_graph/1200/test/704238_zr_matrix.nii.gz \n",
      "11/12/2019 04:31:01 PM correlation matrix finished : /Users/gracer/Google Drive/HCP_graph/1200/test/704238_mask_matrix.nii.gz \n",
      "11/12/2019 04:31:01 PM correlation matrix finished : /Users/gracer/Google Drive/HCP_graph/1200/test/704238_zr_matrix.csv \n",
      "11/12/2019 04:31:01 PM correlation matrix finished : /Users/gracer/Google Drive/HCP_graph/1200/test/704238_r_matrix.csv \n",
      "11/12/2019 04:31:01 PM starting correlation \n"
     ]
    },
    {
     "name": "stdout",
     "output_type": "stream",
     "text": [
      "715041\n",
      "/Users/gracer/Google Drive/HCP_graph/1200/datasets/HCP_PTN1200/graph_analysis/node_timeseries/3T_HCP1200_MSMAll_d100_ts2/715041.txt\n"
     ]
    },
    {
     "name": "stderr",
     "output_type": "stream",
     "text": [
      "11/12/2019 04:31:02 PM correlation matrix finished : /Users/gracer/Google Drive/HCP_graph/1200/test/715041_r_matrix.nii.gz \n",
      "11/12/2019 04:31:02 PM correlation matrix finished : /Users/gracer/Google Drive/HCP_graph/1200/test/715041_zr_matrix.nii.gz \n",
      "11/12/2019 04:31:02 PM correlation matrix finished : /Users/gracer/Google Drive/HCP_graph/1200/test/715041_mask_matrix.nii.gz \n",
      "11/12/2019 04:31:02 PM correlation matrix finished : /Users/gracer/Google Drive/HCP_graph/1200/test/715041_zr_matrix.csv \n",
      "11/12/2019 04:31:02 PM correlation matrix finished : /Users/gracer/Google Drive/HCP_graph/1200/test/715041_r_matrix.csv \n",
      "11/12/2019 04:31:02 PM starting correlation \n"
     ]
    },
    {
     "name": "stdout",
     "output_type": "stream",
     "text": [
      "727553\n",
      "/Users/gracer/Google Drive/HCP_graph/1200/datasets/HCP_PTN1200/graph_analysis/node_timeseries/3T_HCP1200_MSMAll_d100_ts2/727553.txt\n"
     ]
    },
    {
     "name": "stderr",
     "output_type": "stream",
     "text": [
      "11/12/2019 04:31:03 PM correlation matrix finished : /Users/gracer/Google Drive/HCP_graph/1200/test/727553_r_matrix.nii.gz \n",
      "11/12/2019 04:31:03 PM correlation matrix finished : /Users/gracer/Google Drive/HCP_graph/1200/test/727553_zr_matrix.nii.gz \n",
      "11/12/2019 04:31:03 PM correlation matrix finished : /Users/gracer/Google Drive/HCP_graph/1200/test/727553_mask_matrix.nii.gz \n",
      "11/12/2019 04:31:03 PM correlation matrix finished : /Users/gracer/Google Drive/HCP_graph/1200/test/727553_zr_matrix.csv \n",
      "11/12/2019 04:31:03 PM correlation matrix finished : /Users/gracer/Google Drive/HCP_graph/1200/test/727553_r_matrix.csv \n",
      "11/12/2019 04:31:03 PM starting correlation \n"
     ]
    },
    {
     "name": "stdout",
     "output_type": "stream",
     "text": [
      "729557\n",
      "/Users/gracer/Google Drive/HCP_graph/1200/datasets/HCP_PTN1200/graph_analysis/node_timeseries/3T_HCP1200_MSMAll_d100_ts2/729557.txt\n"
     ]
    },
    {
     "name": "stderr",
     "output_type": "stream",
     "text": [
      "11/12/2019 04:31:03 PM correlation matrix finished : /Users/gracer/Google Drive/HCP_graph/1200/test/729557_r_matrix.nii.gz \n",
      "11/12/2019 04:31:03 PM correlation matrix finished : /Users/gracer/Google Drive/HCP_graph/1200/test/729557_zr_matrix.nii.gz \n",
      "11/12/2019 04:31:04 PM correlation matrix finished : /Users/gracer/Google Drive/HCP_graph/1200/test/729557_mask_matrix.nii.gz \n",
      "11/12/2019 04:31:04 PM correlation matrix finished : /Users/gracer/Google Drive/HCP_graph/1200/test/729557_zr_matrix.csv \n",
      "11/12/2019 04:31:04 PM correlation matrix finished : /Users/gracer/Google Drive/HCP_graph/1200/test/729557_r_matrix.csv \n",
      "11/12/2019 04:31:04 PM starting correlation \n"
     ]
    },
    {
     "name": "stdout",
     "output_type": "stream",
     "text": [
      "749361\n",
      "/Users/gracer/Google Drive/HCP_graph/1200/datasets/HCP_PTN1200/graph_analysis/node_timeseries/3T_HCP1200_MSMAll_d100_ts2/749361.txt\n"
     ]
    },
    {
     "name": "stderr",
     "output_type": "stream",
     "text": [
      "11/12/2019 04:31:04 PM correlation matrix finished : /Users/gracer/Google Drive/HCP_graph/1200/test/749361_r_matrix.nii.gz \n",
      "11/12/2019 04:31:04 PM correlation matrix finished : /Users/gracer/Google Drive/HCP_graph/1200/test/749361_zr_matrix.nii.gz \n",
      "11/12/2019 04:31:04 PM correlation matrix finished : /Users/gracer/Google Drive/HCP_graph/1200/test/749361_mask_matrix.nii.gz \n",
      "11/12/2019 04:31:04 PM correlation matrix finished : /Users/gracer/Google Drive/HCP_graph/1200/test/749361_zr_matrix.csv \n",
      "11/12/2019 04:31:04 PM correlation matrix finished : /Users/gracer/Google Drive/HCP_graph/1200/test/749361_r_matrix.csv \n",
      "11/12/2019 04:31:04 PM starting correlation \n"
     ]
    },
    {
     "name": "stdout",
     "output_type": "stream",
     "text": [
      "802844\n",
      "/Users/gracer/Google Drive/HCP_graph/1200/datasets/HCP_PTN1200/graph_analysis/node_timeseries/3T_HCP1200_MSMAll_d100_ts2/802844.txt\n"
     ]
    },
    {
     "name": "stderr",
     "output_type": "stream",
     "text": [
      "11/12/2019 04:31:05 PM correlation matrix finished : /Users/gracer/Google Drive/HCP_graph/1200/test/802844_r_matrix.nii.gz \n",
      "11/12/2019 04:31:05 PM correlation matrix finished : /Users/gracer/Google Drive/HCP_graph/1200/test/802844_zr_matrix.nii.gz \n",
      "11/12/2019 04:31:05 PM correlation matrix finished : /Users/gracer/Google Drive/HCP_graph/1200/test/802844_mask_matrix.nii.gz \n",
      "11/12/2019 04:31:05 PM correlation matrix finished : /Users/gracer/Google Drive/HCP_graph/1200/test/802844_zr_matrix.csv \n",
      "11/12/2019 04:31:05 PM correlation matrix finished : /Users/gracer/Google Drive/HCP_graph/1200/test/802844_r_matrix.csv \n",
      "11/12/2019 04:31:05 PM starting correlation \n"
     ]
    },
    {
     "name": "stdout",
     "output_type": "stream",
     "text": [
      "835657\n",
      "/Users/gracer/Google Drive/HCP_graph/1200/datasets/HCP_PTN1200/graph_analysis/node_timeseries/3T_HCP1200_MSMAll_d100_ts2/835657.txt\n"
     ]
    },
    {
     "name": "stderr",
     "output_type": "stream",
     "text": [
      "11/12/2019 04:31:05 PM correlation matrix finished : /Users/gracer/Google Drive/HCP_graph/1200/test/835657_r_matrix.nii.gz \n",
      "11/12/2019 04:31:05 PM correlation matrix finished : /Users/gracer/Google Drive/HCP_graph/1200/test/835657_zr_matrix.nii.gz \n",
      "11/12/2019 04:31:05 PM correlation matrix finished : /Users/gracer/Google Drive/HCP_graph/1200/test/835657_mask_matrix.nii.gz \n",
      "11/12/2019 04:31:05 PM correlation matrix finished : /Users/gracer/Google Drive/HCP_graph/1200/test/835657_zr_matrix.csv \n",
      "11/12/2019 04:31:05 PM correlation matrix finished : /Users/gracer/Google Drive/HCP_graph/1200/test/835657_r_matrix.csv \n",
      "11/12/2019 04:31:05 PM starting correlation \n"
     ]
    },
    {
     "name": "stdout",
     "output_type": "stream",
     "text": [
      "837560\n",
      "/Users/gracer/Google Drive/HCP_graph/1200/datasets/HCP_PTN1200/graph_analysis/node_timeseries/3T_HCP1200_MSMAll_d100_ts2/837560.txt\n"
     ]
    },
    {
     "name": "stderr",
     "output_type": "stream",
     "text": [
      "11/12/2019 04:31:06 PM correlation matrix finished : /Users/gracer/Google Drive/HCP_graph/1200/test/837560_r_matrix.nii.gz \n",
      "11/12/2019 04:31:06 PM correlation matrix finished : /Users/gracer/Google Drive/HCP_graph/1200/test/837560_zr_matrix.nii.gz \n",
      "11/12/2019 04:31:06 PM correlation matrix finished : /Users/gracer/Google Drive/HCP_graph/1200/test/837560_mask_matrix.nii.gz \n",
      "11/12/2019 04:31:06 PM correlation matrix finished : /Users/gracer/Google Drive/HCP_graph/1200/test/837560_zr_matrix.csv \n",
      "11/12/2019 04:31:06 PM correlation matrix finished : /Users/gracer/Google Drive/HCP_graph/1200/test/837560_r_matrix.csv \n",
      "11/12/2019 04:31:06 PM starting correlation \n"
     ]
    },
    {
     "name": "stdout",
     "output_type": "stream",
     "text": [
      "849971\n",
      "/Users/gracer/Google Drive/HCP_graph/1200/datasets/HCP_PTN1200/graph_analysis/node_timeseries/3T_HCP1200_MSMAll_d100_ts2/849971.txt\n"
     ]
    },
    {
     "name": "stderr",
     "output_type": "stream",
     "text": [
      "11/12/2019 04:31:07 PM correlation matrix finished : /Users/gracer/Google Drive/HCP_graph/1200/test/849971_r_matrix.nii.gz \n",
      "11/12/2019 04:31:07 PM correlation matrix finished : /Users/gracer/Google Drive/HCP_graph/1200/test/849971_zr_matrix.nii.gz \n",
      "11/12/2019 04:31:07 PM correlation matrix finished : /Users/gracer/Google Drive/HCP_graph/1200/test/849971_mask_matrix.nii.gz \n",
      "11/12/2019 04:31:07 PM correlation matrix finished : /Users/gracer/Google Drive/HCP_graph/1200/test/849971_zr_matrix.csv \n",
      "11/12/2019 04:31:07 PM correlation matrix finished : /Users/gracer/Google Drive/HCP_graph/1200/test/849971_r_matrix.csv \n",
      "11/12/2019 04:31:07 PM starting correlation \n"
     ]
    },
    {
     "name": "stdout",
     "output_type": "stream",
     "text": [
      "979984\n",
      "/Users/gracer/Google Drive/HCP_graph/1200/datasets/HCP_PTN1200/graph_analysis/node_timeseries/3T_HCP1200_MSMAll_d100_ts2/979984.txt\n"
     ]
    },
    {
     "name": "stderr",
     "output_type": "stream",
     "text": [
      "11/12/2019 04:31:08 PM correlation matrix finished : /Users/gracer/Google Drive/HCP_graph/1200/test/979984_r_matrix.nii.gz \n",
      "11/12/2019 04:31:08 PM correlation matrix finished : /Users/gracer/Google Drive/HCP_graph/1200/test/979984_zr_matrix.nii.gz \n",
      "11/12/2019 04:31:08 PM correlation matrix finished : /Users/gracer/Google Drive/HCP_graph/1200/test/979984_mask_matrix.nii.gz \n",
      "11/12/2019 04:31:08 PM correlation matrix finished : /Users/gracer/Google Drive/HCP_graph/1200/test/979984_zr_matrix.csv \n",
      "11/12/2019 04:31:08 PM correlation matrix finished : /Users/gracer/Google Drive/HCP_graph/1200/test/979984_r_matrix.csv \n",
      "11/12/2019 04:31:08 PM starting correlation \n"
     ]
    },
    {
     "name": "stdout",
     "output_type": "stream",
     "text": [
      "ov\n",
      "100004\n",
      "no 100004\n",
      "100206\n",
      "/Users/gracer/Google Drive/HCP_graph/1200/datasets/HCP_PTN1200/graph_analysis/node_timeseries/3T_HCP1200_MSMAll_d100_ts2/100206.txt\n"
     ]
    },
    {
     "name": "stderr",
     "output_type": "stream",
     "text": [
      "11/12/2019 04:31:08 PM correlation matrix finished : /Users/gracer/Google Drive/HCP_graph/1200/test/100206_r_matrix.nii.gz \n",
      "11/12/2019 04:31:08 PM correlation matrix finished : /Users/gracer/Google Drive/HCP_graph/1200/test/100206_zr_matrix.nii.gz \n",
      "11/12/2019 04:31:08 PM correlation matrix finished : /Users/gracer/Google Drive/HCP_graph/1200/test/100206_mask_matrix.nii.gz \n",
      "11/12/2019 04:31:08 PM correlation matrix finished : /Users/gracer/Google Drive/HCP_graph/1200/test/100206_zr_matrix.csv \n",
      "11/12/2019 04:31:08 PM correlation matrix finished : /Users/gracer/Google Drive/HCP_graph/1200/test/100206_r_matrix.csv \n",
      "11/12/2019 04:31:08 PM starting correlation \n"
     ]
    },
    {
     "name": "stdout",
     "output_type": "stream",
     "text": [
      "102513\n",
      "/Users/gracer/Google Drive/HCP_graph/1200/datasets/HCP_PTN1200/graph_analysis/node_timeseries/3T_HCP1200_MSMAll_d100_ts2/102513.txt\n"
     ]
    },
    {
     "name": "stderr",
     "output_type": "stream",
     "text": [
      "11/12/2019 04:31:09 PM correlation matrix finished : /Users/gracer/Google Drive/HCP_graph/1200/test/102513_r_matrix.nii.gz \n",
      "11/12/2019 04:31:09 PM correlation matrix finished : /Users/gracer/Google Drive/HCP_graph/1200/test/102513_zr_matrix.nii.gz \n",
      "11/12/2019 04:31:09 PM correlation matrix finished : /Users/gracer/Google Drive/HCP_graph/1200/test/102513_mask_matrix.nii.gz \n",
      "11/12/2019 04:31:09 PM correlation matrix finished : /Users/gracer/Google Drive/HCP_graph/1200/test/102513_zr_matrix.csv \n",
      "11/12/2019 04:31:09 PM correlation matrix finished : /Users/gracer/Google Drive/HCP_graph/1200/test/102513_r_matrix.csv \n",
      "11/12/2019 04:31:09 PM starting correlation \n"
     ]
    },
    {
     "name": "stdout",
     "output_type": "stream",
     "text": [
      "102614\n",
      "/Users/gracer/Google Drive/HCP_graph/1200/datasets/HCP_PTN1200/graph_analysis/node_timeseries/3T_HCP1200_MSMAll_d100_ts2/102614.txt\n"
     ]
    },
    {
     "name": "stderr",
     "output_type": "stream",
     "text": [
      "11/12/2019 04:31:10 PM correlation matrix finished : /Users/gracer/Google Drive/HCP_graph/1200/test/102614_r_matrix.nii.gz \n",
      "11/12/2019 04:31:10 PM correlation matrix finished : /Users/gracer/Google Drive/HCP_graph/1200/test/102614_zr_matrix.nii.gz \n",
      "11/12/2019 04:31:10 PM correlation matrix finished : /Users/gracer/Google Drive/HCP_graph/1200/test/102614_mask_matrix.nii.gz \n",
      "11/12/2019 04:31:10 PM correlation matrix finished : /Users/gracer/Google Drive/HCP_graph/1200/test/102614_zr_matrix.csv \n",
      "11/12/2019 04:31:10 PM correlation matrix finished : /Users/gracer/Google Drive/HCP_graph/1200/test/102614_r_matrix.csv \n",
      "11/12/2019 04:31:10 PM starting correlation \n"
     ]
    },
    {
     "name": "stdout",
     "output_type": "stream",
     "text": [
      "105216\n",
      "/Users/gracer/Google Drive/HCP_graph/1200/datasets/HCP_PTN1200/graph_analysis/node_timeseries/3T_HCP1200_MSMAll_d100_ts2/105216.txt\n"
     ]
    },
    {
     "name": "stderr",
     "output_type": "stream",
     "text": [
      "11/12/2019 04:31:11 PM correlation matrix finished : /Users/gracer/Google Drive/HCP_graph/1200/test/105216_r_matrix.nii.gz \n",
      "11/12/2019 04:31:11 PM correlation matrix finished : /Users/gracer/Google Drive/HCP_graph/1200/test/105216_zr_matrix.nii.gz \n",
      "11/12/2019 04:31:11 PM correlation matrix finished : /Users/gracer/Google Drive/HCP_graph/1200/test/105216_mask_matrix.nii.gz \n",
      "11/12/2019 04:31:11 PM correlation matrix finished : /Users/gracer/Google Drive/HCP_graph/1200/test/105216_zr_matrix.csv \n",
      "11/12/2019 04:31:11 PM correlation matrix finished : /Users/gracer/Google Drive/HCP_graph/1200/test/105216_r_matrix.csv \n",
      "11/12/2019 04:31:11 PM starting correlation \n"
     ]
    },
    {
     "name": "stdout",
     "output_type": "stream",
     "text": [
      "106218\n",
      "no 106218\n",
      "107725\n",
      "/Users/gracer/Google Drive/HCP_graph/1200/datasets/HCP_PTN1200/graph_analysis/node_timeseries/3T_HCP1200_MSMAll_d100_ts2/107725.txt\n"
     ]
    },
    {
     "name": "stderr",
     "output_type": "stream",
     "text": [
      "11/12/2019 04:31:12 PM correlation matrix finished : /Users/gracer/Google Drive/HCP_graph/1200/test/107725_r_matrix.nii.gz \n",
      "11/12/2019 04:31:12 PM correlation matrix finished : /Users/gracer/Google Drive/HCP_graph/1200/test/107725_zr_matrix.nii.gz \n",
      "11/12/2019 04:31:12 PM correlation matrix finished : /Users/gracer/Google Drive/HCP_graph/1200/test/107725_mask_matrix.nii.gz \n",
      "11/12/2019 04:31:12 PM correlation matrix finished : /Users/gracer/Google Drive/HCP_graph/1200/test/107725_zr_matrix.csv \n",
      "11/12/2019 04:31:12 PM correlation matrix finished : /Users/gracer/Google Drive/HCP_graph/1200/test/107725_r_matrix.csv \n",
      "11/12/2019 04:31:12 PM starting correlation \n"
     ]
    },
    {
     "name": "stdout",
     "output_type": "stream",
     "text": [
      "108525\n",
      "/Users/gracer/Google Drive/HCP_graph/1200/datasets/HCP_PTN1200/graph_analysis/node_timeseries/3T_HCP1200_MSMAll_d100_ts2/108525.txt\n"
     ]
    },
    {
     "name": "stderr",
     "output_type": "stream",
     "text": [
      "11/12/2019 04:31:14 PM correlation matrix finished : /Users/gracer/Google Drive/HCP_graph/1200/test/108525_r_matrix.nii.gz \n",
      "11/12/2019 04:31:14 PM correlation matrix finished : /Users/gracer/Google Drive/HCP_graph/1200/test/108525_zr_matrix.nii.gz \n",
      "11/12/2019 04:31:14 PM correlation matrix finished : /Users/gracer/Google Drive/HCP_graph/1200/test/108525_mask_matrix.nii.gz \n",
      "11/12/2019 04:31:14 PM correlation matrix finished : /Users/gracer/Google Drive/HCP_graph/1200/test/108525_zr_matrix.csv \n",
      "11/12/2019 04:31:14 PM correlation matrix finished : /Users/gracer/Google Drive/HCP_graph/1200/test/108525_r_matrix.csv \n",
      "11/12/2019 04:31:14 PM starting correlation \n"
     ]
    },
    {
     "name": "stdout",
     "output_type": "stream",
     "text": [
      "108828\n",
      "/Users/gracer/Google Drive/HCP_graph/1200/datasets/HCP_PTN1200/graph_analysis/node_timeseries/3T_HCP1200_MSMAll_d100_ts2/108828.txt\n"
     ]
    },
    {
     "name": "stderr",
     "output_type": "stream",
     "text": [
      "11/12/2019 04:31:14 PM correlation matrix finished : /Users/gracer/Google Drive/HCP_graph/1200/test/108828_r_matrix.nii.gz \n",
      "11/12/2019 04:31:14 PM correlation matrix finished : /Users/gracer/Google Drive/HCP_graph/1200/test/108828_zr_matrix.nii.gz \n",
      "11/12/2019 04:31:14 PM correlation matrix finished : /Users/gracer/Google Drive/HCP_graph/1200/test/108828_mask_matrix.nii.gz \n",
      "11/12/2019 04:31:14 PM correlation matrix finished : /Users/gracer/Google Drive/HCP_graph/1200/test/108828_zr_matrix.csv \n",
      "11/12/2019 04:31:14 PM correlation matrix finished : /Users/gracer/Google Drive/HCP_graph/1200/test/108828_r_matrix.csv \n",
      "11/12/2019 04:31:14 PM starting correlation \n"
     ]
    },
    {
     "name": "stdout",
     "output_type": "stream",
     "text": [
      "110613\n",
      "/Users/gracer/Google Drive/HCP_graph/1200/datasets/HCP_PTN1200/graph_analysis/node_timeseries/3T_HCP1200_MSMAll_d100_ts2/110613.txt\n"
     ]
    },
    {
     "name": "stderr",
     "output_type": "stream",
     "text": [
      "11/12/2019 04:31:15 PM correlation matrix finished : /Users/gracer/Google Drive/HCP_graph/1200/test/110613_r_matrix.nii.gz \n",
      "11/12/2019 04:31:15 PM correlation matrix finished : /Users/gracer/Google Drive/HCP_graph/1200/test/110613_zr_matrix.nii.gz \n",
      "11/12/2019 04:31:15 PM correlation matrix finished : /Users/gracer/Google Drive/HCP_graph/1200/test/110613_mask_matrix.nii.gz \n",
      "11/12/2019 04:31:15 PM correlation matrix finished : /Users/gracer/Google Drive/HCP_graph/1200/test/110613_zr_matrix.csv \n",
      "11/12/2019 04:31:15 PM correlation matrix finished : /Users/gracer/Google Drive/HCP_graph/1200/test/110613_r_matrix.csv \n",
      "11/12/2019 04:31:15 PM starting correlation \n"
     ]
    },
    {
     "name": "stdout",
     "output_type": "stream",
     "text": [
      "112920\n",
      "/Users/gracer/Google Drive/HCP_graph/1200/datasets/HCP_PTN1200/graph_analysis/node_timeseries/3T_HCP1200_MSMAll_d100_ts2/112920.txt\n"
     ]
    },
    {
     "name": "stderr",
     "output_type": "stream",
     "text": [
      "11/12/2019 04:31:16 PM correlation matrix finished : /Users/gracer/Google Drive/HCP_graph/1200/test/112920_r_matrix.nii.gz \n",
      "11/12/2019 04:31:16 PM correlation matrix finished : /Users/gracer/Google Drive/HCP_graph/1200/test/112920_zr_matrix.nii.gz \n",
      "11/12/2019 04:31:16 PM correlation matrix finished : /Users/gracer/Google Drive/HCP_graph/1200/test/112920_mask_matrix.nii.gz \n",
      "11/12/2019 04:31:16 PM correlation matrix finished : /Users/gracer/Google Drive/HCP_graph/1200/test/112920_zr_matrix.csv \n",
      "11/12/2019 04:31:16 PM correlation matrix finished : /Users/gracer/Google Drive/HCP_graph/1200/test/112920_r_matrix.csv \n",
      "11/12/2019 04:31:16 PM starting correlation \n"
     ]
    },
    {
     "name": "stdout",
     "output_type": "stream",
     "text": [
      "113215\n",
      "/Users/gracer/Google Drive/HCP_graph/1200/datasets/HCP_PTN1200/graph_analysis/node_timeseries/3T_HCP1200_MSMAll_d100_ts2/113215.txt\n"
     ]
    },
    {
     "name": "stderr",
     "output_type": "stream",
     "text": [
      "11/12/2019 04:31:17 PM correlation matrix finished : /Users/gracer/Google Drive/HCP_graph/1200/test/113215_r_matrix.nii.gz \n",
      "11/12/2019 04:31:17 PM correlation matrix finished : /Users/gracer/Google Drive/HCP_graph/1200/test/113215_zr_matrix.nii.gz \n",
      "11/12/2019 04:31:17 PM correlation matrix finished : /Users/gracer/Google Drive/HCP_graph/1200/test/113215_mask_matrix.nii.gz \n",
      "11/12/2019 04:31:17 PM correlation matrix finished : /Users/gracer/Google Drive/HCP_graph/1200/test/113215_zr_matrix.csv \n",
      "11/12/2019 04:31:17 PM correlation matrix finished : /Users/gracer/Google Drive/HCP_graph/1200/test/113215_r_matrix.csv \n",
      "11/12/2019 04:31:17 PM starting correlation \n"
     ]
    },
    {
     "name": "stdout",
     "output_type": "stream",
     "text": [
      "113821\n",
      "no 113821\n",
      "114621\n",
      "/Users/gracer/Google Drive/HCP_graph/1200/datasets/HCP_PTN1200/graph_analysis/node_timeseries/3T_HCP1200_MSMAll_d100_ts2/114621.txt\n"
     ]
    },
    {
     "name": "stderr",
     "output_type": "stream",
     "text": [
      "11/12/2019 04:31:17 PM correlation matrix finished : /Users/gracer/Google Drive/HCP_graph/1200/test/114621_r_matrix.nii.gz \n",
      "11/12/2019 04:31:17 PM correlation matrix finished : /Users/gracer/Google Drive/HCP_graph/1200/test/114621_zr_matrix.nii.gz \n",
      "11/12/2019 04:31:17 PM correlation matrix finished : /Users/gracer/Google Drive/HCP_graph/1200/test/114621_mask_matrix.nii.gz \n",
      "11/12/2019 04:31:17 PM correlation matrix finished : /Users/gracer/Google Drive/HCP_graph/1200/test/114621_zr_matrix.csv \n",
      "11/12/2019 04:31:17 PM correlation matrix finished : /Users/gracer/Google Drive/HCP_graph/1200/test/114621_r_matrix.csv \n",
      "11/12/2019 04:31:17 PM starting correlation \n"
     ]
    },
    {
     "name": "stdout",
     "output_type": "stream",
     "text": [
      "115219\n",
      "/Users/gracer/Google Drive/HCP_graph/1200/datasets/HCP_PTN1200/graph_analysis/node_timeseries/3T_HCP1200_MSMAll_d100_ts2/115219.txt\n"
     ]
    },
    {
     "name": "stderr",
     "output_type": "stream",
     "text": [
      "11/12/2019 04:31:18 PM correlation matrix finished : /Users/gracer/Google Drive/HCP_graph/1200/test/115219_r_matrix.nii.gz \n",
      "11/12/2019 04:31:18 PM correlation matrix finished : /Users/gracer/Google Drive/HCP_graph/1200/test/115219_zr_matrix.nii.gz \n",
      "11/12/2019 04:31:18 PM correlation matrix finished : /Users/gracer/Google Drive/HCP_graph/1200/test/115219_mask_matrix.nii.gz \n",
      "11/12/2019 04:31:18 PM correlation matrix finished : /Users/gracer/Google Drive/HCP_graph/1200/test/115219_zr_matrix.csv \n",
      "11/12/2019 04:31:18 PM correlation matrix finished : /Users/gracer/Google Drive/HCP_graph/1200/test/115219_r_matrix.csv \n",
      "11/12/2019 04:31:18 PM starting correlation \n"
     ]
    },
    {
     "name": "stdout",
     "output_type": "stream",
     "text": [
      "118528\n",
      "/Users/gracer/Google Drive/HCP_graph/1200/datasets/HCP_PTN1200/graph_analysis/node_timeseries/3T_HCP1200_MSMAll_d100_ts2/118528.txt\n"
     ]
    },
    {
     "name": "stderr",
     "output_type": "stream",
     "text": [
      "11/12/2019 04:31:19 PM correlation matrix finished : /Users/gracer/Google Drive/HCP_graph/1200/test/118528_r_matrix.nii.gz \n",
      "11/12/2019 04:31:19 PM correlation matrix finished : /Users/gracer/Google Drive/HCP_graph/1200/test/118528_zr_matrix.nii.gz \n",
      "11/12/2019 04:31:19 PM correlation matrix finished : /Users/gracer/Google Drive/HCP_graph/1200/test/118528_mask_matrix.nii.gz \n",
      "11/12/2019 04:31:19 PM correlation matrix finished : /Users/gracer/Google Drive/HCP_graph/1200/test/118528_zr_matrix.csv \n",
      "11/12/2019 04:31:19 PM correlation matrix finished : /Users/gracer/Google Drive/HCP_graph/1200/test/118528_r_matrix.csv \n",
      "11/12/2019 04:31:19 PM starting correlation \n"
     ]
    },
    {
     "name": "stdout",
     "output_type": "stream",
     "text": [
      "118932\n",
      "/Users/gracer/Google Drive/HCP_graph/1200/datasets/HCP_PTN1200/graph_analysis/node_timeseries/3T_HCP1200_MSMAll_d100_ts2/118932.txt\n"
     ]
    },
    {
     "name": "stderr",
     "output_type": "stream",
     "text": [
      "11/12/2019 04:31:20 PM correlation matrix finished : /Users/gracer/Google Drive/HCP_graph/1200/test/118932_r_matrix.nii.gz \n",
      "11/12/2019 04:31:20 PM correlation matrix finished : /Users/gracer/Google Drive/HCP_graph/1200/test/118932_zr_matrix.nii.gz \n",
      "11/12/2019 04:31:20 PM correlation matrix finished : /Users/gracer/Google Drive/HCP_graph/1200/test/118932_mask_matrix.nii.gz \n",
      "11/12/2019 04:31:20 PM correlation matrix finished : /Users/gracer/Google Drive/HCP_graph/1200/test/118932_zr_matrix.csv \n",
      "11/12/2019 04:31:20 PM correlation matrix finished : /Users/gracer/Google Drive/HCP_graph/1200/test/118932_r_matrix.csv \n",
      "11/12/2019 04:31:20 PM starting correlation \n"
     ]
    },
    {
     "name": "stdout",
     "output_type": "stream",
     "text": [
      "119025\n",
      "/Users/gracer/Google Drive/HCP_graph/1200/datasets/HCP_PTN1200/graph_analysis/node_timeseries/3T_HCP1200_MSMAll_d100_ts2/119025.txt\n"
     ]
    },
    {
     "name": "stderr",
     "output_type": "stream",
     "text": [
      "11/12/2019 04:31:20 PM correlation matrix finished : /Users/gracer/Google Drive/HCP_graph/1200/test/119025_r_matrix.nii.gz \n",
      "11/12/2019 04:31:20 PM correlation matrix finished : /Users/gracer/Google Drive/HCP_graph/1200/test/119025_zr_matrix.nii.gz \n",
      "11/12/2019 04:31:20 PM correlation matrix finished : /Users/gracer/Google Drive/HCP_graph/1200/test/119025_mask_matrix.nii.gz \n",
      "11/12/2019 04:31:20 PM correlation matrix finished : /Users/gracer/Google Drive/HCP_graph/1200/test/119025_zr_matrix.csv \n",
      "11/12/2019 04:31:20 PM correlation matrix finished : /Users/gracer/Google Drive/HCP_graph/1200/test/119025_r_matrix.csv \n",
      "11/12/2019 04:31:20 PM starting correlation \n"
     ]
    },
    {
     "name": "stdout",
     "output_type": "stream",
     "text": [
      "120515\n",
      "/Users/gracer/Google Drive/HCP_graph/1200/datasets/HCP_PTN1200/graph_analysis/node_timeseries/3T_HCP1200_MSMAll_d100_ts2/120515.txt\n"
     ]
    },
    {
     "name": "stderr",
     "output_type": "stream",
     "text": [
      "11/12/2019 04:31:21 PM correlation matrix finished : /Users/gracer/Google Drive/HCP_graph/1200/test/120515_r_matrix.nii.gz \n",
      "11/12/2019 04:31:21 PM correlation matrix finished : /Users/gracer/Google Drive/HCP_graph/1200/test/120515_zr_matrix.nii.gz \n",
      "11/12/2019 04:31:21 PM correlation matrix finished : /Users/gracer/Google Drive/HCP_graph/1200/test/120515_mask_matrix.nii.gz \n",
      "11/12/2019 04:31:21 PM correlation matrix finished : /Users/gracer/Google Drive/HCP_graph/1200/test/120515_zr_matrix.csv \n",
      "11/12/2019 04:31:21 PM correlation matrix finished : /Users/gracer/Google Drive/HCP_graph/1200/test/120515_r_matrix.csv \n",
      "11/12/2019 04:31:21 PM starting correlation \n"
     ]
    },
    {
     "name": "stdout",
     "output_type": "stream",
     "text": [
      "121315\n",
      "no 121315\n",
      "121416\n",
      "/Users/gracer/Google Drive/HCP_graph/1200/datasets/HCP_PTN1200/graph_analysis/node_timeseries/3T_HCP1200_MSMAll_d100_ts2/121416.txt\n"
     ]
    },
    {
     "name": "stderr",
     "output_type": "stream",
     "text": [
      "11/12/2019 04:31:22 PM correlation matrix finished : /Users/gracer/Google Drive/HCP_graph/1200/test/121416_r_matrix.nii.gz \n",
      "11/12/2019 04:31:22 PM correlation matrix finished : /Users/gracer/Google Drive/HCP_graph/1200/test/121416_zr_matrix.nii.gz \n",
      "11/12/2019 04:31:22 PM correlation matrix finished : /Users/gracer/Google Drive/HCP_graph/1200/test/121416_mask_matrix.nii.gz \n",
      "11/12/2019 04:31:22 PM correlation matrix finished : /Users/gracer/Google Drive/HCP_graph/1200/test/121416_zr_matrix.csv \n",
      "11/12/2019 04:31:22 PM correlation matrix finished : /Users/gracer/Google Drive/HCP_graph/1200/test/121416_r_matrix.csv \n",
      "11/12/2019 04:31:22 PM starting correlation \n"
     ]
    },
    {
     "name": "stdout",
     "output_type": "stream",
     "text": [
      "121618\n",
      "/Users/gracer/Google Drive/HCP_graph/1200/datasets/HCP_PTN1200/graph_analysis/node_timeseries/3T_HCP1200_MSMAll_d100_ts2/121618.txt\n"
     ]
    },
    {
     "name": "stderr",
     "output_type": "stream",
     "text": [
      "11/12/2019 04:31:22 PM correlation matrix finished : /Users/gracer/Google Drive/HCP_graph/1200/test/121618_r_matrix.nii.gz \n",
      "11/12/2019 04:31:22 PM correlation matrix finished : /Users/gracer/Google Drive/HCP_graph/1200/test/121618_zr_matrix.nii.gz \n",
      "11/12/2019 04:31:22 PM correlation matrix finished : /Users/gracer/Google Drive/HCP_graph/1200/test/121618_mask_matrix.nii.gz \n",
      "11/12/2019 04:31:22 PM correlation matrix finished : /Users/gracer/Google Drive/HCP_graph/1200/test/121618_zr_matrix.csv \n",
      "11/12/2019 04:31:22 PM correlation matrix finished : /Users/gracer/Google Drive/HCP_graph/1200/test/121618_r_matrix.csv \n",
      "11/12/2019 04:31:22 PM starting correlation \n"
     ]
    },
    {
     "name": "stdout",
     "output_type": "stream",
     "text": [
      "123420\n",
      "/Users/gracer/Google Drive/HCP_graph/1200/datasets/HCP_PTN1200/graph_analysis/node_timeseries/3T_HCP1200_MSMAll_d100_ts2/123420.txt\n"
     ]
    },
    {
     "name": "stderr",
     "output_type": "stream",
     "text": [
      "11/12/2019 04:31:24 PM correlation matrix finished : /Users/gracer/Google Drive/HCP_graph/1200/test/123420_r_matrix.nii.gz \n",
      "11/12/2019 04:31:24 PM correlation matrix finished : /Users/gracer/Google Drive/HCP_graph/1200/test/123420_zr_matrix.nii.gz \n",
      "11/12/2019 04:31:24 PM correlation matrix finished : /Users/gracer/Google Drive/HCP_graph/1200/test/123420_mask_matrix.nii.gz \n",
      "11/12/2019 04:31:24 PM correlation matrix finished : /Users/gracer/Google Drive/HCP_graph/1200/test/123420_zr_matrix.csv \n",
      "11/12/2019 04:31:24 PM correlation matrix finished : /Users/gracer/Google Drive/HCP_graph/1200/test/123420_r_matrix.csv \n",
      "11/12/2019 04:31:24 PM starting correlation \n"
     ]
    },
    {
     "name": "stdout",
     "output_type": "stream",
     "text": [
      "126628\n",
      "/Users/gracer/Google Drive/HCP_graph/1200/datasets/HCP_PTN1200/graph_analysis/node_timeseries/3T_HCP1200_MSMAll_d100_ts2/126628.txt\n"
     ]
    },
    {
     "name": "stderr",
     "output_type": "stream",
     "text": [
      "11/12/2019 04:31:25 PM correlation matrix finished : /Users/gracer/Google Drive/HCP_graph/1200/test/126628_r_matrix.nii.gz \n",
      "11/12/2019 04:31:25 PM correlation matrix finished : /Users/gracer/Google Drive/HCP_graph/1200/test/126628_zr_matrix.nii.gz \n",
      "11/12/2019 04:31:25 PM correlation matrix finished : /Users/gracer/Google Drive/HCP_graph/1200/test/126628_mask_matrix.nii.gz \n",
      "11/12/2019 04:31:25 PM correlation matrix finished : /Users/gracer/Google Drive/HCP_graph/1200/test/126628_zr_matrix.csv \n",
      "11/12/2019 04:31:25 PM correlation matrix finished : /Users/gracer/Google Drive/HCP_graph/1200/test/126628_r_matrix.csv \n",
      "11/12/2019 04:31:25 PM starting correlation \n"
     ]
    },
    {
     "name": "stdout",
     "output_type": "stream",
     "text": [
      "127327\n",
      "/Users/gracer/Google Drive/HCP_graph/1200/datasets/HCP_PTN1200/graph_analysis/node_timeseries/3T_HCP1200_MSMAll_d100_ts2/127327.txt\n"
     ]
    },
    {
     "name": "stderr",
     "output_type": "stream",
     "text": [
      "11/12/2019 04:31:26 PM correlation matrix finished : /Users/gracer/Google Drive/HCP_graph/1200/test/127327_r_matrix.nii.gz \n",
      "11/12/2019 04:31:26 PM correlation matrix finished : /Users/gracer/Google Drive/HCP_graph/1200/test/127327_zr_matrix.nii.gz \n",
      "11/12/2019 04:31:26 PM correlation matrix finished : /Users/gracer/Google Drive/HCP_graph/1200/test/127327_mask_matrix.nii.gz \n",
      "11/12/2019 04:31:26 PM correlation matrix finished : /Users/gracer/Google Drive/HCP_graph/1200/test/127327_zr_matrix.csv \n",
      "11/12/2019 04:31:26 PM correlation matrix finished : /Users/gracer/Google Drive/HCP_graph/1200/test/127327_r_matrix.csv \n",
      "11/12/2019 04:31:26 PM starting correlation \n"
     ]
    },
    {
     "name": "stdout",
     "output_type": "stream",
     "text": [
      "127630\n",
      "/Users/gracer/Google Drive/HCP_graph/1200/datasets/HCP_PTN1200/graph_analysis/node_timeseries/3T_HCP1200_MSMAll_d100_ts2/127630.txt\n"
     ]
    },
    {
     "name": "stderr",
     "output_type": "stream",
     "text": [
      "11/12/2019 04:31:26 PM correlation matrix finished : /Users/gracer/Google Drive/HCP_graph/1200/test/127630_r_matrix.nii.gz \n",
      "11/12/2019 04:31:26 PM correlation matrix finished : /Users/gracer/Google Drive/HCP_graph/1200/test/127630_zr_matrix.nii.gz \n",
      "11/12/2019 04:31:26 PM correlation matrix finished : /Users/gracer/Google Drive/HCP_graph/1200/test/127630_mask_matrix.nii.gz \n",
      "11/12/2019 04:31:26 PM correlation matrix finished : /Users/gracer/Google Drive/HCP_graph/1200/test/127630_zr_matrix.csv \n",
      "11/12/2019 04:31:26 PM correlation matrix finished : /Users/gracer/Google Drive/HCP_graph/1200/test/127630_r_matrix.csv \n",
      "11/12/2019 04:31:27 PM starting correlation \n"
     ]
    },
    {
     "name": "stdout",
     "output_type": "stream",
     "text": [
      "127933\n",
      "/Users/gracer/Google Drive/HCP_graph/1200/datasets/HCP_PTN1200/graph_analysis/node_timeseries/3T_HCP1200_MSMAll_d100_ts2/127933.txt\n"
     ]
    },
    {
     "name": "stderr",
     "output_type": "stream",
     "text": [
      "11/12/2019 04:31:27 PM correlation matrix finished : /Users/gracer/Google Drive/HCP_graph/1200/test/127933_r_matrix.nii.gz \n",
      "11/12/2019 04:31:27 PM correlation matrix finished : /Users/gracer/Google Drive/HCP_graph/1200/test/127933_zr_matrix.nii.gz \n",
      "11/12/2019 04:31:27 PM correlation matrix finished : /Users/gracer/Google Drive/HCP_graph/1200/test/127933_mask_matrix.nii.gz \n",
      "11/12/2019 04:31:27 PM correlation matrix finished : /Users/gracer/Google Drive/HCP_graph/1200/test/127933_zr_matrix.csv \n",
      "11/12/2019 04:31:27 PM correlation matrix finished : /Users/gracer/Google Drive/HCP_graph/1200/test/127933_r_matrix.csv \n",
      "11/12/2019 04:31:27 PM starting correlation \n"
     ]
    },
    {
     "name": "stdout",
     "output_type": "stream",
     "text": [
      "133221\n",
      "no 133221\n",
      "133928\n",
      "/Users/gracer/Google Drive/HCP_graph/1200/datasets/HCP_PTN1200/graph_analysis/node_timeseries/3T_HCP1200_MSMAll_d100_ts2/133928.txt\n"
     ]
    },
    {
     "name": "stderr",
     "output_type": "stream",
     "text": [
      "11/12/2019 04:31:28 PM correlation matrix finished : /Users/gracer/Google Drive/HCP_graph/1200/test/133928_r_matrix.nii.gz \n",
      "11/12/2019 04:31:28 PM correlation matrix finished : /Users/gracer/Google Drive/HCP_graph/1200/test/133928_zr_matrix.nii.gz \n",
      "11/12/2019 04:31:28 PM correlation matrix finished : /Users/gracer/Google Drive/HCP_graph/1200/test/133928_mask_matrix.nii.gz \n",
      "11/12/2019 04:31:28 PM correlation matrix finished : /Users/gracer/Google Drive/HCP_graph/1200/test/133928_zr_matrix.csv \n",
      "11/12/2019 04:31:28 PM correlation matrix finished : /Users/gracer/Google Drive/HCP_graph/1200/test/133928_r_matrix.csv \n",
      "11/12/2019 04:31:28 PM starting correlation \n"
     ]
    },
    {
     "name": "stdout",
     "output_type": "stream",
     "text": [
      "134223\n",
      "/Users/gracer/Google Drive/HCP_graph/1200/datasets/HCP_PTN1200/graph_analysis/node_timeseries/3T_HCP1200_MSMAll_d100_ts2/134223.txt\n"
     ]
    },
    {
     "name": "stderr",
     "output_type": "stream",
     "text": [
      "11/12/2019 04:31:29 PM correlation matrix finished : /Users/gracer/Google Drive/HCP_graph/1200/test/134223_r_matrix.nii.gz \n",
      "11/12/2019 04:31:29 PM correlation matrix finished : /Users/gracer/Google Drive/HCP_graph/1200/test/134223_zr_matrix.nii.gz \n",
      "11/12/2019 04:31:29 PM correlation matrix finished : /Users/gracer/Google Drive/HCP_graph/1200/test/134223_mask_matrix.nii.gz \n",
      "11/12/2019 04:31:29 PM correlation matrix finished : /Users/gracer/Google Drive/HCP_graph/1200/test/134223_zr_matrix.csv \n",
      "11/12/2019 04:31:29 PM correlation matrix finished : /Users/gracer/Google Drive/HCP_graph/1200/test/134223_r_matrix.csv \n",
      "11/12/2019 04:31:29 PM starting correlation \n"
     ]
    },
    {
     "name": "stdout",
     "output_type": "stream",
     "text": [
      "134324\n",
      "/Users/gracer/Google Drive/HCP_graph/1200/datasets/HCP_PTN1200/graph_analysis/node_timeseries/3T_HCP1200_MSMAll_d100_ts2/134324.txt\n"
     ]
    },
    {
     "name": "stderr",
     "output_type": "stream",
     "text": [
      "11/12/2019 04:31:29 PM correlation matrix finished : /Users/gracer/Google Drive/HCP_graph/1200/test/134324_r_matrix.nii.gz \n",
      "11/12/2019 04:31:29 PM correlation matrix finished : /Users/gracer/Google Drive/HCP_graph/1200/test/134324_zr_matrix.nii.gz \n",
      "11/12/2019 04:31:29 PM correlation matrix finished : /Users/gracer/Google Drive/HCP_graph/1200/test/134324_mask_matrix.nii.gz \n",
      "11/12/2019 04:31:29 PM correlation matrix finished : /Users/gracer/Google Drive/HCP_graph/1200/test/134324_zr_matrix.csv \n",
      "11/12/2019 04:31:29 PM correlation matrix finished : /Users/gracer/Google Drive/HCP_graph/1200/test/134324_r_matrix.csv \n",
      "11/12/2019 04:31:29 PM starting correlation \n"
     ]
    },
    {
     "name": "stdout",
     "output_type": "stream",
     "text": [
      "136126\n",
      "/Users/gracer/Google Drive/HCP_graph/1200/datasets/HCP_PTN1200/graph_analysis/node_timeseries/3T_HCP1200_MSMAll_d100_ts2/136126.txt\n"
     ]
    },
    {
     "name": "stderr",
     "output_type": "stream",
     "text": [
      "11/12/2019 04:31:30 PM correlation matrix finished : /Users/gracer/Google Drive/HCP_graph/1200/test/136126_r_matrix.nii.gz \n",
      "11/12/2019 04:31:30 PM correlation matrix finished : /Users/gracer/Google Drive/HCP_graph/1200/test/136126_zr_matrix.nii.gz \n",
      "11/12/2019 04:31:30 PM correlation matrix finished : /Users/gracer/Google Drive/HCP_graph/1200/test/136126_mask_matrix.nii.gz \n",
      "11/12/2019 04:31:30 PM correlation matrix finished : /Users/gracer/Google Drive/HCP_graph/1200/test/136126_zr_matrix.csv \n",
      "11/12/2019 04:31:30 PM correlation matrix finished : /Users/gracer/Google Drive/HCP_graph/1200/test/136126_r_matrix.csv \n",
      "11/12/2019 04:31:30 PM starting correlation \n"
     ]
    },
    {
     "name": "stdout",
     "output_type": "stream",
     "text": [
      "136227\n",
      "/Users/gracer/Google Drive/HCP_graph/1200/datasets/HCP_PTN1200/graph_analysis/node_timeseries/3T_HCP1200_MSMAll_d100_ts2/136227.txt\n"
     ]
    },
    {
     "name": "stderr",
     "output_type": "stream",
     "text": [
      "11/12/2019 04:31:31 PM correlation matrix finished : /Users/gracer/Google Drive/HCP_graph/1200/test/136227_r_matrix.nii.gz \n",
      "11/12/2019 04:31:31 PM correlation matrix finished : /Users/gracer/Google Drive/HCP_graph/1200/test/136227_zr_matrix.nii.gz \n",
      "11/12/2019 04:31:31 PM correlation matrix finished : /Users/gracer/Google Drive/HCP_graph/1200/test/136227_mask_matrix.nii.gz \n",
      "11/12/2019 04:31:31 PM correlation matrix finished : /Users/gracer/Google Drive/HCP_graph/1200/test/136227_zr_matrix.csv \n",
      "11/12/2019 04:31:31 PM correlation matrix finished : /Users/gracer/Google Drive/HCP_graph/1200/test/136227_r_matrix.csv \n",
      "11/12/2019 04:31:31 PM starting correlation \n"
     ]
    },
    {
     "name": "stdout",
     "output_type": "stream",
     "text": [
      "137936\n",
      "/Users/gracer/Google Drive/HCP_graph/1200/datasets/HCP_PTN1200/graph_analysis/node_timeseries/3T_HCP1200_MSMAll_d100_ts2/137936.txt\n"
     ]
    },
    {
     "name": "stderr",
     "output_type": "stream",
     "text": [
      "11/12/2019 04:31:32 PM correlation matrix finished : /Users/gracer/Google Drive/HCP_graph/1200/test/137936_r_matrix.nii.gz \n",
      "11/12/2019 04:31:32 PM correlation matrix finished : /Users/gracer/Google Drive/HCP_graph/1200/test/137936_zr_matrix.nii.gz \n",
      "11/12/2019 04:31:32 PM correlation matrix finished : /Users/gracer/Google Drive/HCP_graph/1200/test/137936_mask_matrix.nii.gz \n",
      "11/12/2019 04:31:32 PM correlation matrix finished : /Users/gracer/Google Drive/HCP_graph/1200/test/137936_zr_matrix.csv \n",
      "11/12/2019 04:31:32 PM correlation matrix finished : /Users/gracer/Google Drive/HCP_graph/1200/test/137936_r_matrix.csv \n",
      "11/12/2019 04:31:32 PM starting correlation \n"
     ]
    },
    {
     "name": "stdout",
     "output_type": "stream",
     "text": [
      "139233\n",
      "/Users/gracer/Google Drive/HCP_graph/1200/datasets/HCP_PTN1200/graph_analysis/node_timeseries/3T_HCP1200_MSMAll_d100_ts2/139233.txt\n"
     ]
    },
    {
     "name": "stderr",
     "output_type": "stream",
     "text": [
      "11/12/2019 04:31:33 PM correlation matrix finished : /Users/gracer/Google Drive/HCP_graph/1200/test/139233_r_matrix.nii.gz \n",
      "11/12/2019 04:31:33 PM correlation matrix finished : /Users/gracer/Google Drive/HCP_graph/1200/test/139233_zr_matrix.nii.gz \n",
      "11/12/2019 04:31:33 PM correlation matrix finished : /Users/gracer/Google Drive/HCP_graph/1200/test/139233_mask_matrix.nii.gz \n",
      "11/12/2019 04:31:33 PM correlation matrix finished : /Users/gracer/Google Drive/HCP_graph/1200/test/139233_zr_matrix.csv \n",
      "11/12/2019 04:31:33 PM correlation matrix finished : /Users/gracer/Google Drive/HCP_graph/1200/test/139233_r_matrix.csv \n",
      "11/12/2019 04:31:33 PM starting correlation \n"
     ]
    },
    {
     "name": "stdout",
     "output_type": "stream",
     "text": [
      "142424\n",
      "no 142424\n",
      "144832\n",
      "/Users/gracer/Google Drive/HCP_graph/1200/datasets/HCP_PTN1200/graph_analysis/node_timeseries/3T_HCP1200_MSMAll_d100_ts2/144832.txt\n"
     ]
    },
    {
     "name": "stderr",
     "output_type": "stream",
     "text": [
      "11/12/2019 04:31:34 PM correlation matrix finished : /Users/gracer/Google Drive/HCP_graph/1200/test/144832_r_matrix.nii.gz \n",
      "11/12/2019 04:31:34 PM correlation matrix finished : /Users/gracer/Google Drive/HCP_graph/1200/test/144832_zr_matrix.nii.gz \n",
      "11/12/2019 04:31:34 PM correlation matrix finished : /Users/gracer/Google Drive/HCP_graph/1200/test/144832_mask_matrix.nii.gz \n",
      "11/12/2019 04:31:34 PM correlation matrix finished : /Users/gracer/Google Drive/HCP_graph/1200/test/144832_zr_matrix.csv \n",
      "11/12/2019 04:31:34 PM correlation matrix finished : /Users/gracer/Google Drive/HCP_graph/1200/test/144832_r_matrix.csv \n",
      "11/12/2019 04:31:34 PM starting correlation \n"
     ]
    },
    {
     "name": "stdout",
     "output_type": "stream",
     "text": [
      "146836\n",
      "/Users/gracer/Google Drive/HCP_graph/1200/datasets/HCP_PTN1200/graph_analysis/node_timeseries/3T_HCP1200_MSMAll_d100_ts2/146836.txt\n"
     ]
    },
    {
     "name": "stderr",
     "output_type": "stream",
     "text": [
      "11/12/2019 04:31:36 PM correlation matrix finished : /Users/gracer/Google Drive/HCP_graph/1200/test/146836_r_matrix.nii.gz \n",
      "11/12/2019 04:31:36 PM correlation matrix finished : /Users/gracer/Google Drive/HCP_graph/1200/test/146836_zr_matrix.nii.gz \n",
      "11/12/2019 04:31:36 PM correlation matrix finished : /Users/gracer/Google Drive/HCP_graph/1200/test/146836_mask_matrix.nii.gz \n",
      "11/12/2019 04:31:36 PM correlation matrix finished : /Users/gracer/Google Drive/HCP_graph/1200/test/146836_zr_matrix.csv \n",
      "11/12/2019 04:31:36 PM correlation matrix finished : /Users/gracer/Google Drive/HCP_graph/1200/test/146836_r_matrix.csv \n",
      "11/12/2019 04:31:36 PM starting correlation \n"
     ]
    },
    {
     "name": "stdout",
     "output_type": "stream",
     "text": [
      "147636\n",
      "/Users/gracer/Google Drive/HCP_graph/1200/datasets/HCP_PTN1200/graph_analysis/node_timeseries/3T_HCP1200_MSMAll_d100_ts2/147636.txt\n"
     ]
    },
    {
     "name": "stderr",
     "output_type": "stream",
     "text": [
      "11/12/2019 04:31:37 PM correlation matrix finished : /Users/gracer/Google Drive/HCP_graph/1200/test/147636_r_matrix.nii.gz \n",
      "11/12/2019 04:31:37 PM correlation matrix finished : /Users/gracer/Google Drive/HCP_graph/1200/test/147636_zr_matrix.nii.gz \n",
      "11/12/2019 04:31:37 PM correlation matrix finished : /Users/gracer/Google Drive/HCP_graph/1200/test/147636_mask_matrix.nii.gz \n",
      "11/12/2019 04:31:37 PM correlation matrix finished : /Users/gracer/Google Drive/HCP_graph/1200/test/147636_zr_matrix.csv \n",
      "11/12/2019 04:31:37 PM correlation matrix finished : /Users/gracer/Google Drive/HCP_graph/1200/test/147636_r_matrix.csv \n",
      "11/12/2019 04:31:37 PM starting correlation \n"
     ]
    },
    {
     "name": "stdout",
     "output_type": "stream",
     "text": [
      "149236\n",
      "/Users/gracer/Google Drive/HCP_graph/1200/datasets/HCP_PTN1200/graph_analysis/node_timeseries/3T_HCP1200_MSMAll_d100_ts2/149236.txt\n"
     ]
    },
    {
     "name": "stderr",
     "output_type": "stream",
     "text": [
      "11/12/2019 04:31:38 PM correlation matrix finished : /Users/gracer/Google Drive/HCP_graph/1200/test/149236_r_matrix.nii.gz \n",
      "11/12/2019 04:31:38 PM correlation matrix finished : /Users/gracer/Google Drive/HCP_graph/1200/test/149236_zr_matrix.nii.gz \n",
      "11/12/2019 04:31:38 PM correlation matrix finished : /Users/gracer/Google Drive/HCP_graph/1200/test/149236_mask_matrix.nii.gz \n",
      "11/12/2019 04:31:38 PM correlation matrix finished : /Users/gracer/Google Drive/HCP_graph/1200/test/149236_zr_matrix.csv \n",
      "11/12/2019 04:31:38 PM correlation matrix finished : /Users/gracer/Google Drive/HCP_graph/1200/test/149236_r_matrix.csv \n",
      "11/12/2019 04:31:38 PM starting correlation \n"
     ]
    },
    {
     "name": "stdout",
     "output_type": "stream",
     "text": [
      "150726\n",
      "/Users/gracer/Google Drive/HCP_graph/1200/datasets/HCP_PTN1200/graph_analysis/node_timeseries/3T_HCP1200_MSMAll_d100_ts2/150726.txt\n"
     ]
    },
    {
     "name": "stderr",
     "output_type": "stream",
     "text": [
      "11/12/2019 04:31:39 PM correlation matrix finished : /Users/gracer/Google Drive/HCP_graph/1200/test/150726_r_matrix.nii.gz \n",
      "11/12/2019 04:31:39 PM correlation matrix finished : /Users/gracer/Google Drive/HCP_graph/1200/test/150726_zr_matrix.nii.gz \n",
      "11/12/2019 04:31:39 PM correlation matrix finished : /Users/gracer/Google Drive/HCP_graph/1200/test/150726_mask_matrix.nii.gz \n",
      "11/12/2019 04:31:39 PM correlation matrix finished : /Users/gracer/Google Drive/HCP_graph/1200/test/150726_zr_matrix.csv \n",
      "11/12/2019 04:31:39 PM correlation matrix finished : /Users/gracer/Google Drive/HCP_graph/1200/test/150726_r_matrix.csv \n",
      "11/12/2019 04:31:39 PM starting correlation \n"
     ]
    },
    {
     "name": "stdout",
     "output_type": "stream",
     "text": [
      "151627\n",
      "/Users/gracer/Google Drive/HCP_graph/1200/datasets/HCP_PTN1200/graph_analysis/node_timeseries/3T_HCP1200_MSMAll_d100_ts2/151627.txt\n"
     ]
    },
    {
     "name": "stderr",
     "output_type": "stream",
     "text": [
      "11/12/2019 04:31:39 PM correlation matrix finished : /Users/gracer/Google Drive/HCP_graph/1200/test/151627_r_matrix.nii.gz \n",
      "11/12/2019 04:31:39 PM correlation matrix finished : /Users/gracer/Google Drive/HCP_graph/1200/test/151627_zr_matrix.nii.gz \n",
      "11/12/2019 04:31:39 PM correlation matrix finished : /Users/gracer/Google Drive/HCP_graph/1200/test/151627_mask_matrix.nii.gz \n",
      "11/12/2019 04:31:39 PM correlation matrix finished : /Users/gracer/Google Drive/HCP_graph/1200/test/151627_zr_matrix.csv \n",
      "11/12/2019 04:31:39 PM correlation matrix finished : /Users/gracer/Google Drive/HCP_graph/1200/test/151627_r_matrix.csv \n",
      "11/12/2019 04:31:39 PM starting correlation \n"
     ]
    },
    {
     "name": "stdout",
     "output_type": "stream",
     "text": [
      "152225\n",
      "/Users/gracer/Google Drive/HCP_graph/1200/datasets/HCP_PTN1200/graph_analysis/node_timeseries/3T_HCP1200_MSMAll_d100_ts2/152225.txt\n"
     ]
    },
    {
     "name": "stderr",
     "output_type": "stream",
     "text": [
      "11/12/2019 04:31:40 PM correlation matrix finished : /Users/gracer/Google Drive/HCP_graph/1200/test/152225_r_matrix.nii.gz \n",
      "11/12/2019 04:31:40 PM correlation matrix finished : /Users/gracer/Google Drive/HCP_graph/1200/test/152225_zr_matrix.nii.gz \n",
      "11/12/2019 04:31:40 PM correlation matrix finished : /Users/gracer/Google Drive/HCP_graph/1200/test/152225_mask_matrix.nii.gz \n",
      "11/12/2019 04:31:40 PM correlation matrix finished : /Users/gracer/Google Drive/HCP_graph/1200/test/152225_zr_matrix.csv \n",
      "11/12/2019 04:31:40 PM correlation matrix finished : /Users/gracer/Google Drive/HCP_graph/1200/test/152225_r_matrix.csv \n",
      "11/12/2019 04:31:40 PM starting correlation \n"
     ]
    },
    {
     "name": "stdout",
     "output_type": "stream",
     "text": [
      "153227\n",
      "/Users/gracer/Google Drive/HCP_graph/1200/datasets/HCP_PTN1200/graph_analysis/node_timeseries/3T_HCP1200_MSMAll_d100_ts2/153227.txt\n"
     ]
    },
    {
     "name": "stderr",
     "output_type": "stream",
     "text": [
      "11/12/2019 04:31:41 PM correlation matrix finished : /Users/gracer/Google Drive/HCP_graph/1200/test/153227_r_matrix.nii.gz \n",
      "11/12/2019 04:31:41 PM correlation matrix finished : /Users/gracer/Google Drive/HCP_graph/1200/test/153227_zr_matrix.nii.gz \n",
      "11/12/2019 04:31:42 PM correlation matrix finished : /Users/gracer/Google Drive/HCP_graph/1200/test/153227_mask_matrix.nii.gz \n",
      "11/12/2019 04:31:42 PM correlation matrix finished : /Users/gracer/Google Drive/HCP_graph/1200/test/153227_zr_matrix.csv \n",
      "11/12/2019 04:31:42 PM correlation matrix finished : /Users/gracer/Google Drive/HCP_graph/1200/test/153227_r_matrix.csv \n",
      "11/12/2019 04:31:42 PM starting correlation \n"
     ]
    },
    {
     "name": "stdout",
     "output_type": "stream",
     "text": [
      "154229\n",
      "/Users/gracer/Google Drive/HCP_graph/1200/datasets/HCP_PTN1200/graph_analysis/node_timeseries/3T_HCP1200_MSMAll_d100_ts2/154229.txt\n"
     ]
    },
    {
     "name": "stderr",
     "output_type": "stream",
     "text": [
      "11/12/2019 04:31:42 PM correlation matrix finished : /Users/gracer/Google Drive/HCP_graph/1200/test/154229_r_matrix.nii.gz \n",
      "11/12/2019 04:31:42 PM correlation matrix finished : /Users/gracer/Google Drive/HCP_graph/1200/test/154229_zr_matrix.nii.gz \n",
      "11/12/2019 04:31:42 PM correlation matrix finished : /Users/gracer/Google Drive/HCP_graph/1200/test/154229_mask_matrix.nii.gz \n",
      "11/12/2019 04:31:42 PM correlation matrix finished : /Users/gracer/Google Drive/HCP_graph/1200/test/154229_zr_matrix.csv \n",
      "11/12/2019 04:31:42 PM correlation matrix finished : /Users/gracer/Google Drive/HCP_graph/1200/test/154229_r_matrix.csv \n",
      "11/12/2019 04:31:42 PM starting correlation \n"
     ]
    },
    {
     "name": "stdout",
     "output_type": "stream",
     "text": [
      "154936\n",
      "/Users/gracer/Google Drive/HCP_graph/1200/datasets/HCP_PTN1200/graph_analysis/node_timeseries/3T_HCP1200_MSMAll_d100_ts2/154936.txt\n"
     ]
    },
    {
     "name": "stderr",
     "output_type": "stream",
     "text": [
      "11/12/2019 04:31:43 PM correlation matrix finished : /Users/gracer/Google Drive/HCP_graph/1200/test/154936_r_matrix.nii.gz \n",
      "11/12/2019 04:31:43 PM correlation matrix finished : /Users/gracer/Google Drive/HCP_graph/1200/test/154936_zr_matrix.nii.gz \n",
      "11/12/2019 04:31:43 PM correlation matrix finished : /Users/gracer/Google Drive/HCP_graph/1200/test/154936_mask_matrix.nii.gz \n",
      "11/12/2019 04:31:43 PM correlation matrix finished : /Users/gracer/Google Drive/HCP_graph/1200/test/154936_zr_matrix.csv \n",
      "11/12/2019 04:31:43 PM correlation matrix finished : /Users/gracer/Google Drive/HCP_graph/1200/test/154936_r_matrix.csv \n",
      "11/12/2019 04:31:43 PM starting correlation \n"
     ]
    },
    {
     "name": "stdout",
     "output_type": "stream",
     "text": [
      "155231\n",
      "no 155231\n",
      "156233\n",
      "/Users/gracer/Google Drive/HCP_graph/1200/datasets/HCP_PTN1200/graph_analysis/node_timeseries/3T_HCP1200_MSMAll_d100_ts2/156233.txt\n"
     ]
    },
    {
     "name": "stderr",
     "output_type": "stream",
     "text": [
      "11/12/2019 04:31:44 PM correlation matrix finished : /Users/gracer/Google Drive/HCP_graph/1200/test/156233_r_matrix.nii.gz \n",
      "11/12/2019 04:31:44 PM correlation matrix finished : /Users/gracer/Google Drive/HCP_graph/1200/test/156233_zr_matrix.nii.gz \n",
      "11/12/2019 04:31:44 PM correlation matrix finished : /Users/gracer/Google Drive/HCP_graph/1200/test/156233_mask_matrix.nii.gz \n",
      "11/12/2019 04:31:44 PM correlation matrix finished : /Users/gracer/Google Drive/HCP_graph/1200/test/156233_zr_matrix.csv \n",
      "11/12/2019 04:31:44 PM correlation matrix finished : /Users/gracer/Google Drive/HCP_graph/1200/test/156233_r_matrix.csv \n",
      "11/12/2019 04:31:44 PM starting correlation \n"
     ]
    },
    {
     "name": "stdout",
     "output_type": "stream",
     "text": [
      "159744\n",
      "/Users/gracer/Google Drive/HCP_graph/1200/datasets/HCP_PTN1200/graph_analysis/node_timeseries/3T_HCP1200_MSMAll_d100_ts2/159744.txt\n"
     ]
    },
    {
     "name": "stderr",
     "output_type": "stream",
     "text": [
      "11/12/2019 04:31:44 PM correlation matrix finished : /Users/gracer/Google Drive/HCP_graph/1200/test/159744_r_matrix.nii.gz \n",
      "11/12/2019 04:31:44 PM correlation matrix finished : /Users/gracer/Google Drive/HCP_graph/1200/test/159744_zr_matrix.nii.gz \n",
      "11/12/2019 04:31:44 PM correlation matrix finished : /Users/gracer/Google Drive/HCP_graph/1200/test/159744_mask_matrix.nii.gz \n",
      "11/12/2019 04:31:44 PM correlation matrix finished : /Users/gracer/Google Drive/HCP_graph/1200/test/159744_zr_matrix.csv \n",
      "11/12/2019 04:31:44 PM correlation matrix finished : /Users/gracer/Google Drive/HCP_graph/1200/test/159744_r_matrix.csv \n",
      "11/12/2019 04:31:44 PM starting correlation \n"
     ]
    },
    {
     "name": "stdout",
     "output_type": "stream",
     "text": [
      "159946\n",
      "no 159946\n",
      "160830\n",
      "/Users/gracer/Google Drive/HCP_graph/1200/datasets/HCP_PTN1200/graph_analysis/node_timeseries/3T_HCP1200_MSMAll_d100_ts2/160830.txt\n"
     ]
    },
    {
     "name": "stderr",
     "output_type": "stream",
     "text": [
      "11/12/2019 04:31:45 PM correlation matrix finished : /Users/gracer/Google Drive/HCP_graph/1200/test/160830_r_matrix.nii.gz \n",
      "11/12/2019 04:31:45 PM correlation matrix finished : /Users/gracer/Google Drive/HCP_graph/1200/test/160830_zr_matrix.nii.gz \n",
      "11/12/2019 04:31:45 PM correlation matrix finished : /Users/gracer/Google Drive/HCP_graph/1200/test/160830_mask_matrix.nii.gz \n",
      "11/12/2019 04:31:45 PM correlation matrix finished : /Users/gracer/Google Drive/HCP_graph/1200/test/160830_zr_matrix.csv \n",
      "11/12/2019 04:31:45 PM correlation matrix finished : /Users/gracer/Google Drive/HCP_graph/1200/test/160830_r_matrix.csv \n",
      "11/12/2019 04:31:45 PM starting correlation \n"
     ]
    },
    {
     "name": "stdout",
     "output_type": "stream",
     "text": [
      "164030\n",
      "/Users/gracer/Google Drive/HCP_graph/1200/datasets/HCP_PTN1200/graph_analysis/node_timeseries/3T_HCP1200_MSMAll_d100_ts2/164030.txt\n"
     ]
    },
    {
     "name": "stderr",
     "output_type": "stream",
     "text": [
      "11/12/2019 04:31:46 PM correlation matrix finished : /Users/gracer/Google Drive/HCP_graph/1200/test/164030_r_matrix.nii.gz \n",
      "11/12/2019 04:31:46 PM correlation matrix finished : /Users/gracer/Google Drive/HCP_graph/1200/test/164030_zr_matrix.nii.gz \n",
      "11/12/2019 04:31:46 PM correlation matrix finished : /Users/gracer/Google Drive/HCP_graph/1200/test/164030_mask_matrix.nii.gz \n",
      "11/12/2019 04:31:46 PM correlation matrix finished : /Users/gracer/Google Drive/HCP_graph/1200/test/164030_zr_matrix.csv \n",
      "11/12/2019 04:31:46 PM correlation matrix finished : /Users/gracer/Google Drive/HCP_graph/1200/test/164030_r_matrix.csv \n",
      "11/12/2019 04:31:46 PM starting correlation \n"
     ]
    },
    {
     "name": "stdout",
     "output_type": "stream",
     "text": [
      "165840\n",
      "/Users/gracer/Google Drive/HCP_graph/1200/datasets/HCP_PTN1200/graph_analysis/node_timeseries/3T_HCP1200_MSMAll_d100_ts2/165840.txt\n"
     ]
    },
    {
     "name": "stderr",
     "output_type": "stream",
     "text": [
      "11/12/2019 04:31:47 PM correlation matrix finished : /Users/gracer/Google Drive/HCP_graph/1200/test/165840_r_matrix.nii.gz \n",
      "11/12/2019 04:31:47 PM correlation matrix finished : /Users/gracer/Google Drive/HCP_graph/1200/test/165840_zr_matrix.nii.gz \n",
      "11/12/2019 04:31:47 PM correlation matrix finished : /Users/gracer/Google Drive/HCP_graph/1200/test/165840_mask_matrix.nii.gz \n",
      "11/12/2019 04:31:47 PM correlation matrix finished : /Users/gracer/Google Drive/HCP_graph/1200/test/165840_zr_matrix.csv \n",
      "11/12/2019 04:31:47 PM correlation matrix finished : /Users/gracer/Google Drive/HCP_graph/1200/test/165840_r_matrix.csv \n",
      "11/12/2019 04:31:47 PM starting correlation \n"
     ]
    },
    {
     "name": "stdout",
     "output_type": "stream",
     "text": [
      "168745\n",
      "/Users/gracer/Google Drive/HCP_graph/1200/datasets/HCP_PTN1200/graph_analysis/node_timeseries/3T_HCP1200_MSMAll_d100_ts2/168745.txt\n"
     ]
    },
    {
     "name": "stderr",
     "output_type": "stream",
     "text": [
      "11/12/2019 04:31:48 PM correlation matrix finished : /Users/gracer/Google Drive/HCP_graph/1200/test/168745_r_matrix.nii.gz \n",
      "11/12/2019 04:31:48 PM correlation matrix finished : /Users/gracer/Google Drive/HCP_graph/1200/test/168745_zr_matrix.nii.gz \n",
      "11/12/2019 04:31:48 PM correlation matrix finished : /Users/gracer/Google Drive/HCP_graph/1200/test/168745_mask_matrix.nii.gz \n",
      "11/12/2019 04:31:48 PM correlation matrix finished : /Users/gracer/Google Drive/HCP_graph/1200/test/168745_zr_matrix.csv \n",
      "11/12/2019 04:31:48 PM correlation matrix finished : /Users/gracer/Google Drive/HCP_graph/1200/test/168745_r_matrix.csv \n",
      "11/12/2019 04:31:48 PM starting correlation \n"
     ]
    },
    {
     "name": "stdout",
     "output_type": "stream",
     "text": [
      "170934\n",
      "no 170934\n",
      "173132\n",
      "no 173132\n",
      "177241\n",
      "/Users/gracer/Google Drive/HCP_graph/1200/datasets/HCP_PTN1200/graph_analysis/node_timeseries/3T_HCP1200_MSMAll_d100_ts2/177241.txt\n"
     ]
    },
    {
     "name": "stderr",
     "output_type": "stream",
     "text": [
      "11/12/2019 04:31:48 PM correlation matrix finished : /Users/gracer/Google Drive/HCP_graph/1200/test/177241_r_matrix.nii.gz \n",
      "11/12/2019 04:31:48 PM correlation matrix finished : /Users/gracer/Google Drive/HCP_graph/1200/test/177241_zr_matrix.nii.gz \n",
      "11/12/2019 04:31:48 PM correlation matrix finished : /Users/gracer/Google Drive/HCP_graph/1200/test/177241_mask_matrix.nii.gz \n",
      "11/12/2019 04:31:48 PM correlation matrix finished : /Users/gracer/Google Drive/HCP_graph/1200/test/177241_zr_matrix.csv \n",
      "11/12/2019 04:31:48 PM correlation matrix finished : /Users/gracer/Google Drive/HCP_graph/1200/test/177241_r_matrix.csv \n",
      "11/12/2019 04:31:48 PM starting correlation \n"
     ]
    },
    {
     "name": "stdout",
     "output_type": "stream",
     "text": [
      "180230\n",
      "/Users/gracer/Google Drive/HCP_graph/1200/datasets/HCP_PTN1200/graph_analysis/node_timeseries/3T_HCP1200_MSMAll_d100_ts2/180230.txt\n"
     ]
    },
    {
     "name": "stderr",
     "output_type": "stream",
     "text": [
      "11/12/2019 04:31:49 PM correlation matrix finished : /Users/gracer/Google Drive/HCP_graph/1200/test/180230_r_matrix.nii.gz \n",
      "11/12/2019 04:31:49 PM correlation matrix finished : /Users/gracer/Google Drive/HCP_graph/1200/test/180230_zr_matrix.nii.gz \n",
      "11/12/2019 04:31:49 PM correlation matrix finished : /Users/gracer/Google Drive/HCP_graph/1200/test/180230_mask_matrix.nii.gz \n",
      "11/12/2019 04:31:49 PM correlation matrix finished : /Users/gracer/Google Drive/HCP_graph/1200/test/180230_zr_matrix.csv \n",
      "11/12/2019 04:31:49 PM correlation matrix finished : /Users/gracer/Google Drive/HCP_graph/1200/test/180230_r_matrix.csv \n",
      "11/12/2019 04:31:49 PM starting correlation \n"
     ]
    },
    {
     "name": "stdout",
     "output_type": "stream",
     "text": [
      "186141\n",
      "/Users/gracer/Google Drive/HCP_graph/1200/datasets/HCP_PTN1200/graph_analysis/node_timeseries/3T_HCP1200_MSMAll_d100_ts2/186141.txt\n"
     ]
    },
    {
     "name": "stderr",
     "output_type": "stream",
     "text": [
      "11/12/2019 04:31:50 PM correlation matrix finished : /Users/gracer/Google Drive/HCP_graph/1200/test/186141_r_matrix.nii.gz \n",
      "11/12/2019 04:31:50 PM correlation matrix finished : /Users/gracer/Google Drive/HCP_graph/1200/test/186141_zr_matrix.nii.gz \n",
      "11/12/2019 04:31:50 PM correlation matrix finished : /Users/gracer/Google Drive/HCP_graph/1200/test/186141_mask_matrix.nii.gz \n",
      "11/12/2019 04:31:50 PM correlation matrix finished : /Users/gracer/Google Drive/HCP_graph/1200/test/186141_zr_matrix.csv \n",
      "11/12/2019 04:31:50 PM correlation matrix finished : /Users/gracer/Google Drive/HCP_graph/1200/test/186141_r_matrix.csv \n",
      "11/12/2019 04:31:50 PM starting correlation \n"
     ]
    },
    {
     "name": "stdout",
     "output_type": "stream",
     "text": [
      "189450\n",
      "/Users/gracer/Google Drive/HCP_graph/1200/datasets/HCP_PTN1200/graph_analysis/node_timeseries/3T_HCP1200_MSMAll_d100_ts2/189450.txt\n"
     ]
    },
    {
     "name": "stderr",
     "output_type": "stream",
     "text": [
      "11/12/2019 04:31:50 PM correlation matrix finished : /Users/gracer/Google Drive/HCP_graph/1200/test/189450_r_matrix.nii.gz \n",
      "11/12/2019 04:31:50 PM correlation matrix finished : /Users/gracer/Google Drive/HCP_graph/1200/test/189450_zr_matrix.nii.gz \n",
      "11/12/2019 04:31:50 PM correlation matrix finished : /Users/gracer/Google Drive/HCP_graph/1200/test/189450_mask_matrix.nii.gz \n",
      "11/12/2019 04:31:50 PM correlation matrix finished : /Users/gracer/Google Drive/HCP_graph/1200/test/189450_zr_matrix.csv \n",
      "11/12/2019 04:31:50 PM correlation matrix finished : /Users/gracer/Google Drive/HCP_graph/1200/test/189450_r_matrix.csv \n",
      "11/12/2019 04:31:50 PM starting correlation \n"
     ]
    },
    {
     "name": "stdout",
     "output_type": "stream",
     "text": [
      "190940\n",
      "no 190940\n",
      "191942\n",
      "/Users/gracer/Google Drive/HCP_graph/1200/datasets/HCP_PTN1200/graph_analysis/node_timeseries/3T_HCP1200_MSMAll_d100_ts2/191942.txt\n"
     ]
    },
    {
     "name": "stderr",
     "output_type": "stream",
     "text": [
      "11/12/2019 04:31:51 PM correlation matrix finished : /Users/gracer/Google Drive/HCP_graph/1200/test/191942_r_matrix.nii.gz \n",
      "11/12/2019 04:31:51 PM correlation matrix finished : /Users/gracer/Google Drive/HCP_graph/1200/test/191942_zr_matrix.nii.gz \n",
      "11/12/2019 04:31:51 PM correlation matrix finished : /Users/gracer/Google Drive/HCP_graph/1200/test/191942_mask_matrix.nii.gz \n",
      "11/12/2019 04:31:51 PM correlation matrix finished : /Users/gracer/Google Drive/HCP_graph/1200/test/191942_zr_matrix.csv \n",
      "11/12/2019 04:31:51 PM correlation matrix finished : /Users/gracer/Google Drive/HCP_graph/1200/test/191942_r_matrix.csv \n",
      "11/12/2019 04:31:51 PM starting correlation \n"
     ]
    },
    {
     "name": "stdout",
     "output_type": "stream",
     "text": [
      "192136\n",
      "/Users/gracer/Google Drive/HCP_graph/1200/datasets/HCP_PTN1200/graph_analysis/node_timeseries/3T_HCP1200_MSMAll_d100_ts2/192136.txt\n"
     ]
    },
    {
     "name": "stderr",
     "output_type": "stream",
     "text": [
      "11/12/2019 04:31:51 PM correlation matrix finished : /Users/gracer/Google Drive/HCP_graph/1200/test/192136_r_matrix.nii.gz \n",
      "11/12/2019 04:31:51 PM correlation matrix finished : /Users/gracer/Google Drive/HCP_graph/1200/test/192136_zr_matrix.nii.gz \n",
      "11/12/2019 04:31:51 PM correlation matrix finished : /Users/gracer/Google Drive/HCP_graph/1200/test/192136_mask_matrix.nii.gz \n",
      "11/12/2019 04:31:51 PM correlation matrix finished : /Users/gracer/Google Drive/HCP_graph/1200/test/192136_zr_matrix.csv \n",
      "11/12/2019 04:31:51 PM correlation matrix finished : /Users/gracer/Google Drive/HCP_graph/1200/test/192136_r_matrix.csv \n",
      "11/12/2019 04:31:51 PM starting correlation \n"
     ]
    },
    {
     "name": "stdout",
     "output_type": "stream",
     "text": [
      "192237\n",
      "/Users/gracer/Google Drive/HCP_graph/1200/datasets/HCP_PTN1200/graph_analysis/node_timeseries/3T_HCP1200_MSMAll_d100_ts2/192237.txt\n"
     ]
    },
    {
     "name": "stderr",
     "output_type": "stream",
     "text": [
      "11/12/2019 04:31:52 PM correlation matrix finished : /Users/gracer/Google Drive/HCP_graph/1200/test/192237_r_matrix.nii.gz \n",
      "11/12/2019 04:31:52 PM correlation matrix finished : /Users/gracer/Google Drive/HCP_graph/1200/test/192237_zr_matrix.nii.gz \n",
      "11/12/2019 04:31:52 PM correlation matrix finished : /Users/gracer/Google Drive/HCP_graph/1200/test/192237_mask_matrix.nii.gz \n",
      "11/12/2019 04:31:52 PM correlation matrix finished : /Users/gracer/Google Drive/HCP_graph/1200/test/192237_zr_matrix.csv \n",
      "11/12/2019 04:31:52 PM correlation matrix finished : /Users/gracer/Google Drive/HCP_graph/1200/test/192237_r_matrix.csv \n",
      "11/12/2019 04:31:52 PM starting correlation \n"
     ]
    },
    {
     "name": "stdout",
     "output_type": "stream",
     "text": [
      "194746\n",
      "/Users/gracer/Google Drive/HCP_graph/1200/datasets/HCP_PTN1200/graph_analysis/node_timeseries/3T_HCP1200_MSMAll_d100_ts2/194746.txt\n"
     ]
    },
    {
     "name": "stderr",
     "output_type": "stream",
     "text": [
      "11/12/2019 04:31:53 PM correlation matrix finished : /Users/gracer/Google Drive/HCP_graph/1200/test/194746_r_matrix.nii.gz \n",
      "11/12/2019 04:31:53 PM correlation matrix finished : /Users/gracer/Google Drive/HCP_graph/1200/test/194746_zr_matrix.nii.gz \n",
      "11/12/2019 04:31:53 PM correlation matrix finished : /Users/gracer/Google Drive/HCP_graph/1200/test/194746_mask_matrix.nii.gz \n",
      "11/12/2019 04:31:53 PM correlation matrix finished : /Users/gracer/Google Drive/HCP_graph/1200/test/194746_zr_matrix.csv \n",
      "11/12/2019 04:31:53 PM correlation matrix finished : /Users/gracer/Google Drive/HCP_graph/1200/test/194746_r_matrix.csv \n",
      "11/12/2019 04:31:53 PM starting correlation \n"
     ]
    },
    {
     "name": "stdout",
     "output_type": "stream",
     "text": [
      "195647\n",
      "/Users/gracer/Google Drive/HCP_graph/1200/datasets/HCP_PTN1200/graph_analysis/node_timeseries/3T_HCP1200_MSMAll_d100_ts2/195647.txt\n"
     ]
    },
    {
     "name": "stderr",
     "output_type": "stream",
     "text": [
      "11/12/2019 04:31:54 PM correlation matrix finished : /Users/gracer/Google Drive/HCP_graph/1200/test/195647_r_matrix.nii.gz \n",
      "11/12/2019 04:31:54 PM correlation matrix finished : /Users/gracer/Google Drive/HCP_graph/1200/test/195647_zr_matrix.nii.gz \n",
      "11/12/2019 04:31:54 PM correlation matrix finished : /Users/gracer/Google Drive/HCP_graph/1200/test/195647_mask_matrix.nii.gz \n",
      "11/12/2019 04:31:54 PM correlation matrix finished : /Users/gracer/Google Drive/HCP_graph/1200/test/195647_zr_matrix.csv \n",
      "11/12/2019 04:31:54 PM correlation matrix finished : /Users/gracer/Google Drive/HCP_graph/1200/test/195647_r_matrix.csv \n",
      "11/12/2019 04:31:54 PM starting correlation \n"
     ]
    },
    {
     "name": "stdout",
     "output_type": "stream",
     "text": [
      "196346\n",
      "/Users/gracer/Google Drive/HCP_graph/1200/datasets/HCP_PTN1200/graph_analysis/node_timeseries/3T_HCP1200_MSMAll_d100_ts2/196346.txt\n"
     ]
    },
    {
     "name": "stderr",
     "output_type": "stream",
     "text": [
      "11/12/2019 04:31:54 PM correlation matrix finished : /Users/gracer/Google Drive/HCP_graph/1200/test/196346_r_matrix.nii.gz \n",
      "11/12/2019 04:31:54 PM correlation matrix finished : /Users/gracer/Google Drive/HCP_graph/1200/test/196346_zr_matrix.nii.gz \n",
      "11/12/2019 04:31:54 PM correlation matrix finished : /Users/gracer/Google Drive/HCP_graph/1200/test/196346_mask_matrix.nii.gz \n",
      "11/12/2019 04:31:55 PM correlation matrix finished : /Users/gracer/Google Drive/HCP_graph/1200/test/196346_zr_matrix.csv \n",
      "11/12/2019 04:31:55 PM correlation matrix finished : /Users/gracer/Google Drive/HCP_graph/1200/test/196346_r_matrix.csv \n",
      "11/12/2019 04:31:55 PM starting correlation \n"
     ]
    },
    {
     "name": "stdout",
     "output_type": "stream",
     "text": [
      "199554\n",
      "no 199554\n",
      "199958\n",
      "/Users/gracer/Google Drive/HCP_graph/1200/datasets/HCP_PTN1200/graph_analysis/node_timeseries/3T_HCP1200_MSMAll_d100_ts2/199958.txt\n"
     ]
    },
    {
     "name": "stderr",
     "output_type": "stream",
     "text": [
      "11/12/2019 04:31:55 PM correlation matrix finished : /Users/gracer/Google Drive/HCP_graph/1200/test/199958_r_matrix.nii.gz \n",
      "11/12/2019 04:31:55 PM correlation matrix finished : /Users/gracer/Google Drive/HCP_graph/1200/test/199958_zr_matrix.nii.gz \n",
      "11/12/2019 04:31:55 PM correlation matrix finished : /Users/gracer/Google Drive/HCP_graph/1200/test/199958_mask_matrix.nii.gz \n",
      "11/12/2019 04:31:55 PM correlation matrix finished : /Users/gracer/Google Drive/HCP_graph/1200/test/199958_zr_matrix.csv \n",
      "11/12/2019 04:31:55 PM correlation matrix finished : /Users/gracer/Google Drive/HCP_graph/1200/test/199958_r_matrix.csv \n",
      "11/12/2019 04:31:55 PM starting correlation \n"
     ]
    },
    {
     "name": "stdout",
     "output_type": "stream",
     "text": [
      "201717\n",
      "no 201717\n",
      "202113\n",
      "/Users/gracer/Google Drive/HCP_graph/1200/datasets/HCP_PTN1200/graph_analysis/node_timeseries/3T_HCP1200_MSMAll_d100_ts2/202113.txt\n"
     ]
    },
    {
     "name": "stderr",
     "output_type": "stream",
     "text": [
      "11/12/2019 04:31:56 PM correlation matrix finished : /Users/gracer/Google Drive/HCP_graph/1200/test/202113_r_matrix.nii.gz \n",
      "11/12/2019 04:31:56 PM correlation matrix finished : /Users/gracer/Google Drive/HCP_graph/1200/test/202113_zr_matrix.nii.gz \n",
      "11/12/2019 04:31:56 PM correlation matrix finished : /Users/gracer/Google Drive/HCP_graph/1200/test/202113_mask_matrix.nii.gz \n",
      "11/12/2019 04:31:56 PM correlation matrix finished : /Users/gracer/Google Drive/HCP_graph/1200/test/202113_zr_matrix.csv \n",
      "11/12/2019 04:31:56 PM correlation matrix finished : /Users/gracer/Google Drive/HCP_graph/1200/test/202113_r_matrix.csv \n",
      "11/12/2019 04:31:56 PM starting correlation \n"
     ]
    },
    {
     "name": "stdout",
     "output_type": "stream",
     "text": [
      "204016\n",
      "/Users/gracer/Google Drive/HCP_graph/1200/datasets/HCP_PTN1200/graph_analysis/node_timeseries/3T_HCP1200_MSMAll_d100_ts2/204016.txt\n"
     ]
    },
    {
     "name": "stderr",
     "output_type": "stream",
     "text": [
      "11/12/2019 04:31:57 PM correlation matrix finished : /Users/gracer/Google Drive/HCP_graph/1200/test/204016_r_matrix.nii.gz \n",
      "11/12/2019 04:31:57 PM correlation matrix finished : /Users/gracer/Google Drive/HCP_graph/1200/test/204016_zr_matrix.nii.gz \n",
      "11/12/2019 04:31:57 PM correlation matrix finished : /Users/gracer/Google Drive/HCP_graph/1200/test/204016_mask_matrix.nii.gz \n",
      "11/12/2019 04:31:57 PM correlation matrix finished : /Users/gracer/Google Drive/HCP_graph/1200/test/204016_zr_matrix.csv \n",
      "11/12/2019 04:31:57 PM correlation matrix finished : /Users/gracer/Google Drive/HCP_graph/1200/test/204016_r_matrix.csv \n",
      "11/12/2019 04:31:57 PM starting correlation \n"
     ]
    },
    {
     "name": "stdout",
     "output_type": "stream",
     "text": [
      "204218\n",
      "/Users/gracer/Google Drive/HCP_graph/1200/datasets/HCP_PTN1200/graph_analysis/node_timeseries/3T_HCP1200_MSMAll_d100_ts2/204218.txt\n"
     ]
    },
    {
     "name": "stderr",
     "output_type": "stream",
     "text": [
      "11/12/2019 04:31:58 PM correlation matrix finished : /Users/gracer/Google Drive/HCP_graph/1200/test/204218_r_matrix.nii.gz \n",
      "11/12/2019 04:31:58 PM correlation matrix finished : /Users/gracer/Google Drive/HCP_graph/1200/test/204218_zr_matrix.nii.gz \n",
      "11/12/2019 04:31:58 PM correlation matrix finished : /Users/gracer/Google Drive/HCP_graph/1200/test/204218_mask_matrix.nii.gz \n",
      "11/12/2019 04:31:58 PM correlation matrix finished : /Users/gracer/Google Drive/HCP_graph/1200/test/204218_zr_matrix.csv \n",
      "11/12/2019 04:31:58 PM correlation matrix finished : /Users/gracer/Google Drive/HCP_graph/1200/test/204218_r_matrix.csv \n",
      "11/12/2019 04:31:58 PM starting correlation \n"
     ]
    },
    {
     "name": "stdout",
     "output_type": "stream",
     "text": [
      "204622\n",
      "/Users/gracer/Google Drive/HCP_graph/1200/datasets/HCP_PTN1200/graph_analysis/node_timeseries/3T_HCP1200_MSMAll_d100_ts2/204622.txt\n"
     ]
    },
    {
     "name": "stderr",
     "output_type": "stream",
     "text": [
      "11/12/2019 04:31:59 PM correlation matrix finished : /Users/gracer/Google Drive/HCP_graph/1200/test/204622_r_matrix.nii.gz \n",
      "11/12/2019 04:31:59 PM correlation matrix finished : /Users/gracer/Google Drive/HCP_graph/1200/test/204622_zr_matrix.nii.gz \n",
      "11/12/2019 04:31:59 PM correlation matrix finished : /Users/gracer/Google Drive/HCP_graph/1200/test/204622_mask_matrix.nii.gz \n",
      "11/12/2019 04:31:59 PM correlation matrix finished : /Users/gracer/Google Drive/HCP_graph/1200/test/204622_zr_matrix.csv \n",
      "11/12/2019 04:31:59 PM correlation matrix finished : /Users/gracer/Google Drive/HCP_graph/1200/test/204622_r_matrix.csv \n",
      "11/12/2019 04:31:59 PM starting correlation \n"
     ]
    },
    {
     "name": "stdout",
     "output_type": "stream",
     "text": [
      "206323\n",
      "/Users/gracer/Google Drive/HCP_graph/1200/datasets/HCP_PTN1200/graph_analysis/node_timeseries/3T_HCP1200_MSMAll_d100_ts2/206323.txt\n"
     ]
    },
    {
     "name": "stderr",
     "output_type": "stream",
     "text": [
      "11/12/2019 04:32:00 PM correlation matrix finished : /Users/gracer/Google Drive/HCP_graph/1200/test/206323_r_matrix.nii.gz \n",
      "11/12/2019 04:32:00 PM correlation matrix finished : /Users/gracer/Google Drive/HCP_graph/1200/test/206323_zr_matrix.nii.gz \n",
      "11/12/2019 04:32:00 PM correlation matrix finished : /Users/gracer/Google Drive/HCP_graph/1200/test/206323_mask_matrix.nii.gz \n",
      "11/12/2019 04:32:00 PM correlation matrix finished : /Users/gracer/Google Drive/HCP_graph/1200/test/206323_zr_matrix.csv \n",
      "11/12/2019 04:32:00 PM correlation matrix finished : /Users/gracer/Google Drive/HCP_graph/1200/test/206323_r_matrix.csv \n",
      "11/12/2019 04:32:00 PM starting correlation \n"
     ]
    },
    {
     "name": "stdout",
     "output_type": "stream",
     "text": [
      "206929\n",
      "/Users/gracer/Google Drive/HCP_graph/1200/datasets/HCP_PTN1200/graph_analysis/node_timeseries/3T_HCP1200_MSMAll_d100_ts2/206929.txt\n"
     ]
    },
    {
     "name": "stderr",
     "output_type": "stream",
     "text": [
      "11/12/2019 04:32:02 PM correlation matrix finished : /Users/gracer/Google Drive/HCP_graph/1200/test/206929_r_matrix.nii.gz \n",
      "11/12/2019 04:32:02 PM correlation matrix finished : /Users/gracer/Google Drive/HCP_graph/1200/test/206929_zr_matrix.nii.gz \n",
      "11/12/2019 04:32:02 PM correlation matrix finished : /Users/gracer/Google Drive/HCP_graph/1200/test/206929_mask_matrix.nii.gz \n",
      "11/12/2019 04:32:02 PM correlation matrix finished : /Users/gracer/Google Drive/HCP_graph/1200/test/206929_zr_matrix.csv \n",
      "11/12/2019 04:32:02 PM correlation matrix finished : /Users/gracer/Google Drive/HCP_graph/1200/test/206929_r_matrix.csv \n",
      "11/12/2019 04:32:02 PM starting correlation \n"
     ]
    },
    {
     "name": "stdout",
     "output_type": "stream",
     "text": [
      "207628\n",
      "no 207628\n",
      "208630\n",
      "/Users/gracer/Google Drive/HCP_graph/1200/datasets/HCP_PTN1200/graph_analysis/node_timeseries/3T_HCP1200_MSMAll_d100_ts2/208630.txt\n"
     ]
    },
    {
     "name": "stderr",
     "output_type": "stream",
     "text": [
      "11/12/2019 04:32:02 PM correlation matrix finished : /Users/gracer/Google Drive/HCP_graph/1200/test/208630_r_matrix.nii.gz \n",
      "11/12/2019 04:32:02 PM correlation matrix finished : /Users/gracer/Google Drive/HCP_graph/1200/test/208630_zr_matrix.nii.gz \n",
      "11/12/2019 04:32:02 PM correlation matrix finished : /Users/gracer/Google Drive/HCP_graph/1200/test/208630_mask_matrix.nii.gz \n",
      "11/12/2019 04:32:02 PM correlation matrix finished : /Users/gracer/Google Drive/HCP_graph/1200/test/208630_zr_matrix.csv \n",
      "11/12/2019 04:32:02 PM correlation matrix finished : /Users/gracer/Google Drive/HCP_graph/1200/test/208630_r_matrix.csv \n",
      "11/12/2019 04:32:02 PM starting correlation \n"
     ]
    },
    {
     "name": "stdout",
     "output_type": "stream",
     "text": [
      "211316\n",
      "/Users/gracer/Google Drive/HCP_graph/1200/datasets/HCP_PTN1200/graph_analysis/node_timeseries/3T_HCP1200_MSMAll_d100_ts2/211316.txt\n"
     ]
    },
    {
     "name": "stderr",
     "output_type": "stream",
     "text": [
      "11/12/2019 04:32:03 PM correlation matrix finished : /Users/gracer/Google Drive/HCP_graph/1200/test/211316_r_matrix.nii.gz \n",
      "11/12/2019 04:32:03 PM correlation matrix finished : /Users/gracer/Google Drive/HCP_graph/1200/test/211316_zr_matrix.nii.gz \n",
      "11/12/2019 04:32:03 PM correlation matrix finished : /Users/gracer/Google Drive/HCP_graph/1200/test/211316_mask_matrix.nii.gz \n",
      "11/12/2019 04:32:03 PM correlation matrix finished : /Users/gracer/Google Drive/HCP_graph/1200/test/211316_zr_matrix.csv \n",
      "11/12/2019 04:32:03 PM correlation matrix finished : /Users/gracer/Google Drive/HCP_graph/1200/test/211316_r_matrix.csv \n",
      "11/12/2019 04:32:03 PM starting correlation \n"
     ]
    },
    {
     "name": "stdout",
     "output_type": "stream",
     "text": [
      "212015\n",
      "/Users/gracer/Google Drive/HCP_graph/1200/datasets/HCP_PTN1200/graph_analysis/node_timeseries/3T_HCP1200_MSMAll_d100_ts2/212015.txt\n"
     ]
    },
    {
     "name": "stderr",
     "output_type": "stream",
     "text": [
      "11/12/2019 04:32:04 PM correlation matrix finished : /Users/gracer/Google Drive/HCP_graph/1200/test/212015_r_matrix.nii.gz \n",
      "11/12/2019 04:32:04 PM correlation matrix finished : /Users/gracer/Google Drive/HCP_graph/1200/test/212015_zr_matrix.nii.gz \n",
      "11/12/2019 04:32:04 PM correlation matrix finished : /Users/gracer/Google Drive/HCP_graph/1200/test/212015_mask_matrix.nii.gz \n",
      "11/12/2019 04:32:04 PM correlation matrix finished : /Users/gracer/Google Drive/HCP_graph/1200/test/212015_zr_matrix.csv \n",
      "11/12/2019 04:32:04 PM correlation matrix finished : /Users/gracer/Google Drive/HCP_graph/1200/test/212015_r_matrix.csv \n",
      "11/12/2019 04:32:04 PM starting correlation \n"
     ]
    },
    {
     "name": "stdout",
     "output_type": "stream",
     "text": [
      "212217\n",
      "/Users/gracer/Google Drive/HCP_graph/1200/datasets/HCP_PTN1200/graph_analysis/node_timeseries/3T_HCP1200_MSMAll_d100_ts2/212217.txt\n"
     ]
    },
    {
     "name": "stderr",
     "output_type": "stream",
     "text": [
      "11/12/2019 04:32:04 PM correlation matrix finished : /Users/gracer/Google Drive/HCP_graph/1200/test/212217_r_matrix.nii.gz \n",
      "11/12/2019 04:32:04 PM correlation matrix finished : /Users/gracer/Google Drive/HCP_graph/1200/test/212217_zr_matrix.nii.gz \n",
      "11/12/2019 04:32:04 PM correlation matrix finished : /Users/gracer/Google Drive/HCP_graph/1200/test/212217_mask_matrix.nii.gz \n",
      "11/12/2019 04:32:04 PM correlation matrix finished : /Users/gracer/Google Drive/HCP_graph/1200/test/212217_zr_matrix.csv \n",
      "11/12/2019 04:32:04 PM correlation matrix finished : /Users/gracer/Google Drive/HCP_graph/1200/test/212217_r_matrix.csv \n",
      "11/12/2019 04:32:04 PM starting correlation \n"
     ]
    },
    {
     "name": "stdout",
     "output_type": "stream",
     "text": [
      "214221\n",
      "/Users/gracer/Google Drive/HCP_graph/1200/datasets/HCP_PTN1200/graph_analysis/node_timeseries/3T_HCP1200_MSMAll_d100_ts2/214221.txt\n"
     ]
    },
    {
     "name": "stderr",
     "output_type": "stream",
     "text": [
      "11/12/2019 04:32:05 PM correlation matrix finished : /Users/gracer/Google Drive/HCP_graph/1200/test/214221_r_matrix.nii.gz \n",
      "11/12/2019 04:32:05 PM correlation matrix finished : /Users/gracer/Google Drive/HCP_graph/1200/test/214221_zr_matrix.nii.gz \n",
      "11/12/2019 04:32:05 PM correlation matrix finished : /Users/gracer/Google Drive/HCP_graph/1200/test/214221_mask_matrix.nii.gz \n",
      "11/12/2019 04:32:05 PM correlation matrix finished : /Users/gracer/Google Drive/HCP_graph/1200/test/214221_zr_matrix.csv \n",
      "11/12/2019 04:32:05 PM correlation matrix finished : /Users/gracer/Google Drive/HCP_graph/1200/test/214221_r_matrix.csv \n",
      "11/12/2019 04:32:05 PM starting correlation \n"
     ]
    },
    {
     "name": "stdout",
     "output_type": "stream",
     "text": [
      "219231\n",
      "/Users/gracer/Google Drive/HCP_graph/1200/datasets/HCP_PTN1200/graph_analysis/node_timeseries/3T_HCP1200_MSMAll_d100_ts2/219231.txt\n"
     ]
    },
    {
     "name": "stderr",
     "output_type": "stream",
     "text": [
      "11/12/2019 04:32:07 PM correlation matrix finished : /Users/gracer/Google Drive/HCP_graph/1200/test/219231_r_matrix.nii.gz \n",
      "11/12/2019 04:32:07 PM correlation matrix finished : /Users/gracer/Google Drive/HCP_graph/1200/test/219231_zr_matrix.nii.gz \n",
      "11/12/2019 04:32:07 PM correlation matrix finished : /Users/gracer/Google Drive/HCP_graph/1200/test/219231_mask_matrix.nii.gz \n",
      "11/12/2019 04:32:07 PM correlation matrix finished : /Users/gracer/Google Drive/HCP_graph/1200/test/219231_zr_matrix.csv \n",
      "11/12/2019 04:32:07 PM correlation matrix finished : /Users/gracer/Google Drive/HCP_graph/1200/test/219231_r_matrix.csv \n",
      "11/12/2019 04:32:07 PM starting correlation \n"
     ]
    },
    {
     "name": "stdout",
     "output_type": "stream",
     "text": [
      "220721\n",
      "/Users/gracer/Google Drive/HCP_graph/1200/datasets/HCP_PTN1200/graph_analysis/node_timeseries/3T_HCP1200_MSMAll_d100_ts2/220721.txt\n"
     ]
    },
    {
     "name": "stderr",
     "output_type": "stream",
     "text": [
      "11/12/2019 04:32:08 PM correlation matrix finished : /Users/gracer/Google Drive/HCP_graph/1200/test/220721_r_matrix.nii.gz \n",
      "11/12/2019 04:32:08 PM correlation matrix finished : /Users/gracer/Google Drive/HCP_graph/1200/test/220721_zr_matrix.nii.gz \n",
      "11/12/2019 04:32:08 PM correlation matrix finished : /Users/gracer/Google Drive/HCP_graph/1200/test/220721_mask_matrix.nii.gz \n",
      "11/12/2019 04:32:08 PM correlation matrix finished : /Users/gracer/Google Drive/HCP_graph/1200/test/220721_zr_matrix.csv \n",
      "11/12/2019 04:32:08 PM correlation matrix finished : /Users/gracer/Google Drive/HCP_graph/1200/test/220721_r_matrix.csv \n",
      "11/12/2019 04:32:08 PM starting correlation \n"
     ]
    },
    {
     "name": "stdout",
     "output_type": "stream",
     "text": [
      "236130\n",
      "/Users/gracer/Google Drive/HCP_graph/1200/datasets/HCP_PTN1200/graph_analysis/node_timeseries/3T_HCP1200_MSMAll_d100_ts2/236130.txt\n"
     ]
    },
    {
     "name": "stderr",
     "output_type": "stream",
     "text": [
      "11/12/2019 04:32:09 PM correlation matrix finished : /Users/gracer/Google Drive/HCP_graph/1200/test/236130_r_matrix.nii.gz \n",
      "11/12/2019 04:32:09 PM correlation matrix finished : /Users/gracer/Google Drive/HCP_graph/1200/test/236130_zr_matrix.nii.gz \n",
      "11/12/2019 04:32:09 PM correlation matrix finished : /Users/gracer/Google Drive/HCP_graph/1200/test/236130_mask_matrix.nii.gz \n",
      "11/12/2019 04:32:09 PM correlation matrix finished : /Users/gracer/Google Drive/HCP_graph/1200/test/236130_zr_matrix.csv \n",
      "11/12/2019 04:32:09 PM correlation matrix finished : /Users/gracer/Google Drive/HCP_graph/1200/test/236130_r_matrix.csv \n",
      "11/12/2019 04:32:09 PM starting correlation \n"
     ]
    },
    {
     "name": "stdout",
     "output_type": "stream",
     "text": [
      "239944\n",
      "/Users/gracer/Google Drive/HCP_graph/1200/datasets/HCP_PTN1200/graph_analysis/node_timeseries/3T_HCP1200_MSMAll_d100_ts2/239944.txt\n"
     ]
    },
    {
     "name": "stderr",
     "output_type": "stream",
     "text": [
      "11/12/2019 04:32:09 PM correlation matrix finished : /Users/gracer/Google Drive/HCP_graph/1200/test/239944_r_matrix.nii.gz \n",
      "11/12/2019 04:32:09 PM correlation matrix finished : /Users/gracer/Google Drive/HCP_graph/1200/test/239944_zr_matrix.nii.gz \n",
      "11/12/2019 04:32:09 PM correlation matrix finished : /Users/gracer/Google Drive/HCP_graph/1200/test/239944_mask_matrix.nii.gz \n",
      "11/12/2019 04:32:09 PM correlation matrix finished : /Users/gracer/Google Drive/HCP_graph/1200/test/239944_zr_matrix.csv \n",
      "11/12/2019 04:32:09 PM correlation matrix finished : /Users/gracer/Google Drive/HCP_graph/1200/test/239944_r_matrix.csv \n",
      "11/12/2019 04:32:09 PM starting correlation \n"
     ]
    },
    {
     "name": "stdout",
     "output_type": "stream",
     "text": [
      "257946\n",
      "/Users/gracer/Google Drive/HCP_graph/1200/datasets/HCP_PTN1200/graph_analysis/node_timeseries/3T_HCP1200_MSMAll_d100_ts2/257946.txt\n"
     ]
    },
    {
     "name": "stderr",
     "output_type": "stream",
     "text": [
      "11/12/2019 04:32:10 PM correlation matrix finished : /Users/gracer/Google Drive/HCP_graph/1200/test/257946_r_matrix.nii.gz \n",
      "11/12/2019 04:32:10 PM correlation matrix finished : /Users/gracer/Google Drive/HCP_graph/1200/test/257946_zr_matrix.nii.gz \n",
      "11/12/2019 04:32:10 PM correlation matrix finished : /Users/gracer/Google Drive/HCP_graph/1200/test/257946_mask_matrix.nii.gz \n",
      "11/12/2019 04:32:10 PM correlation matrix finished : /Users/gracer/Google Drive/HCP_graph/1200/test/257946_zr_matrix.csv \n",
      "11/12/2019 04:32:10 PM correlation matrix finished : /Users/gracer/Google Drive/HCP_graph/1200/test/257946_r_matrix.csv \n",
      "11/12/2019 04:32:10 PM starting correlation \n"
     ]
    },
    {
     "name": "stdout",
     "output_type": "stream",
     "text": [
      "268749\n",
      "/Users/gracer/Google Drive/HCP_graph/1200/datasets/HCP_PTN1200/graph_analysis/node_timeseries/3T_HCP1200_MSMAll_d100_ts2/268749.txt\n"
     ]
    },
    {
     "name": "stderr",
     "output_type": "stream",
     "text": [
      "11/12/2019 04:32:11 PM correlation matrix finished : /Users/gracer/Google Drive/HCP_graph/1200/test/268749_r_matrix.nii.gz \n",
      "11/12/2019 04:32:11 PM correlation matrix finished : /Users/gracer/Google Drive/HCP_graph/1200/test/268749_zr_matrix.nii.gz \n",
      "11/12/2019 04:32:11 PM correlation matrix finished : /Users/gracer/Google Drive/HCP_graph/1200/test/268749_mask_matrix.nii.gz \n",
      "11/12/2019 04:32:11 PM correlation matrix finished : /Users/gracer/Google Drive/HCP_graph/1200/test/268749_zr_matrix.csv \n",
      "11/12/2019 04:32:11 PM correlation matrix finished : /Users/gracer/Google Drive/HCP_graph/1200/test/268749_r_matrix.csv \n",
      "11/12/2019 04:32:11 PM starting correlation \n"
     ]
    },
    {
     "name": "stdout",
     "output_type": "stream",
     "text": [
      "270332\n",
      "/Users/gracer/Google Drive/HCP_graph/1200/datasets/HCP_PTN1200/graph_analysis/node_timeseries/3T_HCP1200_MSMAll_d100_ts2/270332.txt\n"
     ]
    },
    {
     "name": "stderr",
     "output_type": "stream",
     "text": [
      "11/12/2019 04:32:11 PM correlation matrix finished : /Users/gracer/Google Drive/HCP_graph/1200/test/270332_r_matrix.nii.gz \n",
      "11/12/2019 04:32:11 PM correlation matrix finished : /Users/gracer/Google Drive/HCP_graph/1200/test/270332_zr_matrix.nii.gz \n",
      "11/12/2019 04:32:11 PM correlation matrix finished : /Users/gracer/Google Drive/HCP_graph/1200/test/270332_mask_matrix.nii.gz \n",
      "11/12/2019 04:32:11 PM correlation matrix finished : /Users/gracer/Google Drive/HCP_graph/1200/test/270332_zr_matrix.csv \n",
      "11/12/2019 04:32:11 PM correlation matrix finished : /Users/gracer/Google Drive/HCP_graph/1200/test/270332_r_matrix.csv \n",
      "11/12/2019 04:32:11 PM starting correlation \n"
     ]
    },
    {
     "name": "stdout",
     "output_type": "stream",
     "text": [
      "314225\n",
      "/Users/gracer/Google Drive/HCP_graph/1200/datasets/HCP_PTN1200/graph_analysis/node_timeseries/3T_HCP1200_MSMAll_d100_ts2/314225.txt\n"
     ]
    },
    {
     "name": "stderr",
     "output_type": "stream",
     "text": [
      "11/12/2019 04:32:12 PM correlation matrix finished : /Users/gracer/Google Drive/HCP_graph/1200/test/314225_r_matrix.nii.gz \n",
      "11/12/2019 04:32:12 PM correlation matrix finished : /Users/gracer/Google Drive/HCP_graph/1200/test/314225_zr_matrix.nii.gz \n",
      "11/12/2019 04:32:12 PM correlation matrix finished : /Users/gracer/Google Drive/HCP_graph/1200/test/314225_mask_matrix.nii.gz \n",
      "11/12/2019 04:32:12 PM correlation matrix finished : /Users/gracer/Google Drive/HCP_graph/1200/test/314225_zr_matrix.csv \n",
      "11/12/2019 04:32:12 PM correlation matrix finished : /Users/gracer/Google Drive/HCP_graph/1200/test/314225_r_matrix.csv \n",
      "11/12/2019 04:32:12 PM starting correlation \n"
     ]
    },
    {
     "name": "stdout",
     "output_type": "stream",
     "text": [
      "329844\n",
      "/Users/gracer/Google Drive/HCP_graph/1200/datasets/HCP_PTN1200/graph_analysis/node_timeseries/3T_HCP1200_MSMAll_d100_ts2/329844.txt\n"
     ]
    },
    {
     "name": "stderr",
     "output_type": "stream",
     "text": [
      "11/12/2019 04:32:13 PM correlation matrix finished : /Users/gracer/Google Drive/HCP_graph/1200/test/329844_r_matrix.nii.gz \n",
      "11/12/2019 04:32:13 PM correlation matrix finished : /Users/gracer/Google Drive/HCP_graph/1200/test/329844_zr_matrix.nii.gz \n",
      "11/12/2019 04:32:13 PM correlation matrix finished : /Users/gracer/Google Drive/HCP_graph/1200/test/329844_mask_matrix.nii.gz \n",
      "11/12/2019 04:32:13 PM correlation matrix finished : /Users/gracer/Google Drive/HCP_graph/1200/test/329844_zr_matrix.csv \n",
      "11/12/2019 04:32:13 PM correlation matrix finished : /Users/gracer/Google Drive/HCP_graph/1200/test/329844_r_matrix.csv \n",
      "11/12/2019 04:32:13 PM starting correlation \n"
     ]
    },
    {
     "name": "stdout",
     "output_type": "stream",
     "text": [
      "348545\n",
      "/Users/gracer/Google Drive/HCP_graph/1200/datasets/HCP_PTN1200/graph_analysis/node_timeseries/3T_HCP1200_MSMAll_d100_ts2/348545.txt\n"
     ]
    },
    {
     "name": "stderr",
     "output_type": "stream",
     "text": [
      "11/12/2019 04:32:14 PM correlation matrix finished : /Users/gracer/Google Drive/HCP_graph/1200/test/348545_r_matrix.nii.gz \n",
      "11/12/2019 04:32:14 PM correlation matrix finished : /Users/gracer/Google Drive/HCP_graph/1200/test/348545_zr_matrix.nii.gz \n",
      "11/12/2019 04:32:14 PM correlation matrix finished : /Users/gracer/Google Drive/HCP_graph/1200/test/348545_mask_matrix.nii.gz \n",
      "11/12/2019 04:32:14 PM correlation matrix finished : /Users/gracer/Google Drive/HCP_graph/1200/test/348545_zr_matrix.csv \n",
      "11/12/2019 04:32:14 PM correlation matrix finished : /Users/gracer/Google Drive/HCP_graph/1200/test/348545_r_matrix.csv \n",
      "11/12/2019 04:32:14 PM starting correlation \n"
     ]
    },
    {
     "name": "stdout",
     "output_type": "stream",
     "text": [
      "387959\n",
      "/Users/gracer/Google Drive/HCP_graph/1200/datasets/HCP_PTN1200/graph_analysis/node_timeseries/3T_HCP1200_MSMAll_d100_ts2/387959.txt\n"
     ]
    },
    {
     "name": "stderr",
     "output_type": "stream",
     "text": [
      "11/12/2019 04:32:14 PM correlation matrix finished : /Users/gracer/Google Drive/HCP_graph/1200/test/387959_r_matrix.nii.gz \n",
      "11/12/2019 04:32:14 PM correlation matrix finished : /Users/gracer/Google Drive/HCP_graph/1200/test/387959_zr_matrix.nii.gz \n",
      "11/12/2019 04:32:14 PM correlation matrix finished : /Users/gracer/Google Drive/HCP_graph/1200/test/387959_mask_matrix.nii.gz \n",
      "11/12/2019 04:32:14 PM correlation matrix finished : /Users/gracer/Google Drive/HCP_graph/1200/test/387959_zr_matrix.csv \n",
      "11/12/2019 04:32:14 PM correlation matrix finished : /Users/gracer/Google Drive/HCP_graph/1200/test/387959_r_matrix.csv \n",
      "11/12/2019 04:32:14 PM starting correlation \n"
     ]
    },
    {
     "name": "stdout",
     "output_type": "stream",
     "text": [
      "422632\n",
      "/Users/gracer/Google Drive/HCP_graph/1200/datasets/HCP_PTN1200/graph_analysis/node_timeseries/3T_HCP1200_MSMAll_d100_ts2/422632.txt\n"
     ]
    },
    {
     "name": "stderr",
     "output_type": "stream",
     "text": [
      "11/12/2019 04:32:15 PM correlation matrix finished : /Users/gracer/Google Drive/HCP_graph/1200/test/422632_r_matrix.nii.gz \n",
      "11/12/2019 04:32:15 PM correlation matrix finished : /Users/gracer/Google Drive/HCP_graph/1200/test/422632_zr_matrix.nii.gz \n",
      "11/12/2019 04:32:15 PM correlation matrix finished : /Users/gracer/Google Drive/HCP_graph/1200/test/422632_mask_matrix.nii.gz \n",
      "11/12/2019 04:32:15 PM correlation matrix finished : /Users/gracer/Google Drive/HCP_graph/1200/test/422632_zr_matrix.csv \n",
      "11/12/2019 04:32:15 PM correlation matrix finished : /Users/gracer/Google Drive/HCP_graph/1200/test/422632_r_matrix.csv \n",
      "11/12/2019 04:32:15 PM starting correlation \n"
     ]
    },
    {
     "name": "stdout",
     "output_type": "stream",
     "text": [
      "445543\n",
      "/Users/gracer/Google Drive/HCP_graph/1200/datasets/HCP_PTN1200/graph_analysis/node_timeseries/3T_HCP1200_MSMAll_d100_ts2/445543.txt\n"
     ]
    },
    {
     "name": "stderr",
     "output_type": "stream",
     "text": [
      "11/12/2019 04:32:16 PM correlation matrix finished : /Users/gracer/Google Drive/HCP_graph/1200/test/445543_r_matrix.nii.gz \n",
      "11/12/2019 04:32:16 PM correlation matrix finished : /Users/gracer/Google Drive/HCP_graph/1200/test/445543_zr_matrix.nii.gz \n",
      "11/12/2019 04:32:16 PM correlation matrix finished : /Users/gracer/Google Drive/HCP_graph/1200/test/445543_mask_matrix.nii.gz \n",
      "11/12/2019 04:32:16 PM correlation matrix finished : /Users/gracer/Google Drive/HCP_graph/1200/test/445543_zr_matrix.csv \n",
      "11/12/2019 04:32:16 PM correlation matrix finished : /Users/gracer/Google Drive/HCP_graph/1200/test/445543_r_matrix.csv \n",
      "11/12/2019 04:32:16 PM starting correlation \n"
     ]
    },
    {
     "name": "stdout",
     "output_type": "stream",
     "text": [
      "454140\n",
      "/Users/gracer/Google Drive/HCP_graph/1200/datasets/HCP_PTN1200/graph_analysis/node_timeseries/3T_HCP1200_MSMAll_d100_ts2/454140.txt\n"
     ]
    },
    {
     "name": "stderr",
     "output_type": "stream",
     "text": [
      "11/12/2019 04:32:17 PM correlation matrix finished : /Users/gracer/Google Drive/HCP_graph/1200/test/454140_r_matrix.nii.gz \n",
      "11/12/2019 04:32:17 PM correlation matrix finished : /Users/gracer/Google Drive/HCP_graph/1200/test/454140_zr_matrix.nii.gz \n",
      "11/12/2019 04:32:17 PM correlation matrix finished : /Users/gracer/Google Drive/HCP_graph/1200/test/454140_mask_matrix.nii.gz \n",
      "11/12/2019 04:32:17 PM correlation matrix finished : /Users/gracer/Google Drive/HCP_graph/1200/test/454140_zr_matrix.csv \n",
      "11/12/2019 04:32:17 PM correlation matrix finished : /Users/gracer/Google Drive/HCP_graph/1200/test/454140_r_matrix.csv \n",
      "11/12/2019 04:32:17 PM starting correlation \n"
     ]
    },
    {
     "name": "stdout",
     "output_type": "stream",
     "text": [
      "468050\n",
      "/Users/gracer/Google Drive/HCP_graph/1200/datasets/HCP_PTN1200/graph_analysis/node_timeseries/3T_HCP1200_MSMAll_d100_ts2/468050.txt\n"
     ]
    },
    {
     "name": "stderr",
     "output_type": "stream",
     "text": [
      "11/12/2019 04:32:17 PM correlation matrix finished : /Users/gracer/Google Drive/HCP_graph/1200/test/468050_r_matrix.nii.gz \n",
      "11/12/2019 04:32:17 PM correlation matrix finished : /Users/gracer/Google Drive/HCP_graph/1200/test/468050_zr_matrix.nii.gz \n",
      "11/12/2019 04:32:17 PM correlation matrix finished : /Users/gracer/Google Drive/HCP_graph/1200/test/468050_mask_matrix.nii.gz \n",
      "11/12/2019 04:32:17 PM correlation matrix finished : /Users/gracer/Google Drive/HCP_graph/1200/test/468050_zr_matrix.csv \n",
      "11/12/2019 04:32:17 PM correlation matrix finished : /Users/gracer/Google Drive/HCP_graph/1200/test/468050_r_matrix.csv \n",
      "11/12/2019 04:32:17 PM starting correlation \n"
     ]
    },
    {
     "name": "stdout",
     "output_type": "stream",
     "text": [
      "510326\n",
      "/Users/gracer/Google Drive/HCP_graph/1200/datasets/HCP_PTN1200/graph_analysis/node_timeseries/3T_HCP1200_MSMAll_d100_ts2/510326.txt\n"
     ]
    },
    {
     "name": "stderr",
     "output_type": "stream",
     "text": [
      "11/12/2019 04:32:18 PM correlation matrix finished : /Users/gracer/Google Drive/HCP_graph/1200/test/510326_r_matrix.nii.gz \n",
      "11/12/2019 04:32:18 PM correlation matrix finished : /Users/gracer/Google Drive/HCP_graph/1200/test/510326_zr_matrix.nii.gz \n",
      "11/12/2019 04:32:18 PM correlation matrix finished : /Users/gracer/Google Drive/HCP_graph/1200/test/510326_mask_matrix.nii.gz \n",
      "11/12/2019 04:32:18 PM correlation matrix finished : /Users/gracer/Google Drive/HCP_graph/1200/test/510326_zr_matrix.csv \n",
      "11/12/2019 04:32:18 PM correlation matrix finished : /Users/gracer/Google Drive/HCP_graph/1200/test/510326_r_matrix.csv \n",
      "11/12/2019 04:32:18 PM starting correlation \n"
     ]
    },
    {
     "name": "stdout",
     "output_type": "stream",
     "text": [
      "529953\n",
      "/Users/gracer/Google Drive/HCP_graph/1200/datasets/HCP_PTN1200/graph_analysis/node_timeseries/3T_HCP1200_MSMAll_d100_ts2/529953.txt\n"
     ]
    },
    {
     "name": "stderr",
     "output_type": "stream",
     "text": [
      "11/12/2019 04:32:19 PM correlation matrix finished : /Users/gracer/Google Drive/HCP_graph/1200/test/529953_r_matrix.nii.gz \n",
      "11/12/2019 04:32:19 PM correlation matrix finished : /Users/gracer/Google Drive/HCP_graph/1200/test/529953_zr_matrix.nii.gz \n",
      "11/12/2019 04:32:19 PM correlation matrix finished : /Users/gracer/Google Drive/HCP_graph/1200/test/529953_mask_matrix.nii.gz \n",
      "11/12/2019 04:32:19 PM correlation matrix finished : /Users/gracer/Google Drive/HCP_graph/1200/test/529953_zr_matrix.csv \n",
      "11/12/2019 04:32:19 PM correlation matrix finished : /Users/gracer/Google Drive/HCP_graph/1200/test/529953_r_matrix.csv \n",
      "11/12/2019 04:32:19 PM starting correlation \n"
     ]
    },
    {
     "name": "stdout",
     "output_type": "stream",
     "text": [
      "555954\n",
      "/Users/gracer/Google Drive/HCP_graph/1200/datasets/HCP_PTN1200/graph_analysis/node_timeseries/3T_HCP1200_MSMAll_d100_ts2/555954.txt\n"
     ]
    },
    {
     "name": "stderr",
     "output_type": "stream",
     "text": [
      "11/12/2019 04:32:20 PM correlation matrix finished : /Users/gracer/Google Drive/HCP_graph/1200/test/555954_r_matrix.nii.gz \n",
      "11/12/2019 04:32:20 PM correlation matrix finished : /Users/gracer/Google Drive/HCP_graph/1200/test/555954_zr_matrix.nii.gz \n",
      "11/12/2019 04:32:20 PM correlation matrix finished : /Users/gracer/Google Drive/HCP_graph/1200/test/555954_mask_matrix.nii.gz \n",
      "11/12/2019 04:32:20 PM correlation matrix finished : /Users/gracer/Google Drive/HCP_graph/1200/test/555954_zr_matrix.csv \n",
      "11/12/2019 04:32:20 PM correlation matrix finished : /Users/gracer/Google Drive/HCP_graph/1200/test/555954_r_matrix.csv \n",
      "11/12/2019 04:32:20 PM starting correlation \n"
     ]
    },
    {
     "name": "stdout",
     "output_type": "stream",
     "text": [
      "580751\n",
      "/Users/gracer/Google Drive/HCP_graph/1200/datasets/HCP_PTN1200/graph_analysis/node_timeseries/3T_HCP1200_MSMAll_d100_ts2/580751.txt\n"
     ]
    },
    {
     "name": "stderr",
     "output_type": "stream",
     "text": [
      "11/12/2019 04:32:20 PM correlation matrix finished : /Users/gracer/Google Drive/HCP_graph/1200/test/580751_r_matrix.nii.gz \n",
      "11/12/2019 04:32:20 PM correlation matrix finished : /Users/gracer/Google Drive/HCP_graph/1200/test/580751_zr_matrix.nii.gz \n",
      "11/12/2019 04:32:20 PM correlation matrix finished : /Users/gracer/Google Drive/HCP_graph/1200/test/580751_mask_matrix.nii.gz \n",
      "11/12/2019 04:32:20 PM correlation matrix finished : /Users/gracer/Google Drive/HCP_graph/1200/test/580751_zr_matrix.csv \n",
      "11/12/2019 04:32:20 PM correlation matrix finished : /Users/gracer/Google Drive/HCP_graph/1200/test/580751_r_matrix.csv \n",
      "11/12/2019 04:32:20 PM starting correlation \n"
     ]
    },
    {
     "name": "stdout",
     "output_type": "stream",
     "text": [
      "583858\n",
      "/Users/gracer/Google Drive/HCP_graph/1200/datasets/HCP_PTN1200/graph_analysis/node_timeseries/3T_HCP1200_MSMAll_d100_ts2/583858.txt\n"
     ]
    },
    {
     "name": "stderr",
     "output_type": "stream",
     "text": [
      "11/12/2019 04:32:21 PM correlation matrix finished : /Users/gracer/Google Drive/HCP_graph/1200/test/583858_r_matrix.nii.gz \n",
      "11/12/2019 04:32:21 PM correlation matrix finished : /Users/gracer/Google Drive/HCP_graph/1200/test/583858_zr_matrix.nii.gz \n",
      "11/12/2019 04:32:21 PM correlation matrix finished : /Users/gracer/Google Drive/HCP_graph/1200/test/583858_mask_matrix.nii.gz \n",
      "11/12/2019 04:32:21 PM correlation matrix finished : /Users/gracer/Google Drive/HCP_graph/1200/test/583858_zr_matrix.csv \n",
      "11/12/2019 04:32:21 PM correlation matrix finished : /Users/gracer/Google Drive/HCP_graph/1200/test/583858_r_matrix.csv \n",
      "11/12/2019 04:32:21 PM starting correlation \n"
     ]
    },
    {
     "name": "stdout",
     "output_type": "stream",
     "text": [
      "588565\n",
      "/Users/gracer/Google Drive/HCP_graph/1200/datasets/HCP_PTN1200/graph_analysis/node_timeseries/3T_HCP1200_MSMAll_d100_ts2/588565.txt\n"
     ]
    },
    {
     "name": "stderr",
     "output_type": "stream",
     "text": [
      "11/12/2019 04:32:22 PM correlation matrix finished : /Users/gracer/Google Drive/HCP_graph/1200/test/588565_r_matrix.nii.gz \n",
      "11/12/2019 04:32:22 PM correlation matrix finished : /Users/gracer/Google Drive/HCP_graph/1200/test/588565_zr_matrix.nii.gz \n",
      "11/12/2019 04:32:22 PM correlation matrix finished : /Users/gracer/Google Drive/HCP_graph/1200/test/588565_mask_matrix.nii.gz \n",
      "11/12/2019 04:32:22 PM correlation matrix finished : /Users/gracer/Google Drive/HCP_graph/1200/test/588565_zr_matrix.csv \n",
      "11/12/2019 04:32:22 PM correlation matrix finished : /Users/gracer/Google Drive/HCP_graph/1200/test/588565_r_matrix.csv \n",
      "11/12/2019 04:32:22 PM starting correlation \n"
     ]
    },
    {
     "name": "stdout",
     "output_type": "stream",
     "text": [
      "618952\n",
      "/Users/gracer/Google Drive/HCP_graph/1200/datasets/HCP_PTN1200/graph_analysis/node_timeseries/3T_HCP1200_MSMAll_d100_ts2/618952.txt\n"
     ]
    },
    {
     "name": "stderr",
     "output_type": "stream",
     "text": [
      "11/12/2019 04:32:23 PM correlation matrix finished : /Users/gracer/Google Drive/HCP_graph/1200/test/618952_r_matrix.nii.gz \n",
      "11/12/2019 04:32:23 PM correlation matrix finished : /Users/gracer/Google Drive/HCP_graph/1200/test/618952_zr_matrix.nii.gz \n",
      "11/12/2019 04:32:23 PM correlation matrix finished : /Users/gracer/Google Drive/HCP_graph/1200/test/618952_mask_matrix.nii.gz \n",
      "11/12/2019 04:32:23 PM correlation matrix finished : /Users/gracer/Google Drive/HCP_graph/1200/test/618952_zr_matrix.csv \n",
      "11/12/2019 04:32:23 PM correlation matrix finished : /Users/gracer/Google Drive/HCP_graph/1200/test/618952_r_matrix.csv \n",
      "11/12/2019 04:32:23 PM starting correlation \n"
     ]
    },
    {
     "name": "stdout",
     "output_type": "stream",
     "text": [
      "628248\n",
      "/Users/gracer/Google Drive/HCP_graph/1200/datasets/HCP_PTN1200/graph_analysis/node_timeseries/3T_HCP1200_MSMAll_d100_ts2/628248.txt\n"
     ]
    },
    {
     "name": "stderr",
     "output_type": "stream",
     "text": [
      "11/12/2019 04:32:23 PM correlation matrix finished : /Users/gracer/Google Drive/HCP_graph/1200/test/628248_r_matrix.nii.gz \n",
      "11/12/2019 04:32:23 PM correlation matrix finished : /Users/gracer/Google Drive/HCP_graph/1200/test/628248_zr_matrix.nii.gz \n",
      "11/12/2019 04:32:23 PM correlation matrix finished : /Users/gracer/Google Drive/HCP_graph/1200/test/628248_mask_matrix.nii.gz \n",
      "11/12/2019 04:32:23 PM correlation matrix finished : /Users/gracer/Google Drive/HCP_graph/1200/test/628248_zr_matrix.csv \n",
      "11/12/2019 04:32:23 PM correlation matrix finished : /Users/gracer/Google Drive/HCP_graph/1200/test/628248_r_matrix.csv \n",
      "11/12/2019 04:32:23 PM starting correlation \n"
     ]
    },
    {
     "name": "stdout",
     "output_type": "stream",
     "text": [
      "645450\n",
      "/Users/gracer/Google Drive/HCP_graph/1200/datasets/HCP_PTN1200/graph_analysis/node_timeseries/3T_HCP1200_MSMAll_d100_ts2/645450.txt\n"
     ]
    },
    {
     "name": "stderr",
     "output_type": "stream",
     "text": [
      "11/12/2019 04:32:24 PM correlation matrix finished : /Users/gracer/Google Drive/HCP_graph/1200/test/645450_r_matrix.nii.gz \n",
      "11/12/2019 04:32:24 PM correlation matrix finished : /Users/gracer/Google Drive/HCP_graph/1200/test/645450_zr_matrix.nii.gz \n",
      "11/12/2019 04:32:24 PM correlation matrix finished : /Users/gracer/Google Drive/HCP_graph/1200/test/645450_mask_matrix.nii.gz \n",
      "11/12/2019 04:32:24 PM correlation matrix finished : /Users/gracer/Google Drive/HCP_graph/1200/test/645450_zr_matrix.csv \n",
      "11/12/2019 04:32:24 PM correlation matrix finished : /Users/gracer/Google Drive/HCP_graph/1200/test/645450_r_matrix.csv \n",
      "11/12/2019 04:32:24 PM starting correlation \n"
     ]
    },
    {
     "name": "stdout",
     "output_type": "stream",
     "text": [
      "650746\n",
      "no 650746\n",
      "656253\n",
      "/Users/gracer/Google Drive/HCP_graph/1200/datasets/HCP_PTN1200/graph_analysis/node_timeseries/3T_HCP1200_MSMAll_d100_ts2/656253.txt\n"
     ]
    },
    {
     "name": "stderr",
     "output_type": "stream",
     "text": [
      "11/12/2019 04:32:25 PM correlation matrix finished : /Users/gracer/Google Drive/HCP_graph/1200/test/656253_r_matrix.nii.gz \n",
      "11/12/2019 04:32:25 PM correlation matrix finished : /Users/gracer/Google Drive/HCP_graph/1200/test/656253_zr_matrix.nii.gz \n",
      "11/12/2019 04:32:25 PM correlation matrix finished : /Users/gracer/Google Drive/HCP_graph/1200/test/656253_mask_matrix.nii.gz \n",
      "11/12/2019 04:32:25 PM correlation matrix finished : /Users/gracer/Google Drive/HCP_graph/1200/test/656253_zr_matrix.csv \n",
      "11/12/2019 04:32:25 PM correlation matrix finished : /Users/gracer/Google Drive/HCP_graph/1200/test/656253_r_matrix.csv \n",
      "11/12/2019 04:32:25 PM starting correlation \n"
     ]
    },
    {
     "name": "stdout",
     "output_type": "stream",
     "text": [
      "685058\n",
      "/Users/gracer/Google Drive/HCP_graph/1200/datasets/HCP_PTN1200/graph_analysis/node_timeseries/3T_HCP1200_MSMAll_d100_ts2/685058.txt\n"
     ]
    },
    {
     "name": "stderr",
     "output_type": "stream",
     "text": [
      "11/12/2019 04:32:25 PM correlation matrix finished : /Users/gracer/Google Drive/HCP_graph/1200/test/685058_r_matrix.nii.gz \n",
      "11/12/2019 04:32:25 PM correlation matrix finished : /Users/gracer/Google Drive/HCP_graph/1200/test/685058_zr_matrix.nii.gz \n",
      "11/12/2019 04:32:25 PM correlation matrix finished : /Users/gracer/Google Drive/HCP_graph/1200/test/685058_mask_matrix.nii.gz \n",
      "11/12/2019 04:32:25 PM correlation matrix finished : /Users/gracer/Google Drive/HCP_graph/1200/test/685058_zr_matrix.csv \n",
      "11/12/2019 04:32:25 PM correlation matrix finished : /Users/gracer/Google Drive/HCP_graph/1200/test/685058_r_matrix.csv \n",
      "11/12/2019 04:32:25 PM starting correlation \n"
     ]
    },
    {
     "name": "stdout",
     "output_type": "stream",
     "text": [
      "734045\n",
      "/Users/gracer/Google Drive/HCP_graph/1200/datasets/HCP_PTN1200/graph_analysis/node_timeseries/3T_HCP1200_MSMAll_d100_ts2/734045.txt\n"
     ]
    },
    {
     "name": "stderr",
     "output_type": "stream",
     "text": [
      "11/12/2019 04:32:26 PM correlation matrix finished : /Users/gracer/Google Drive/HCP_graph/1200/test/734045_r_matrix.nii.gz \n",
      "11/12/2019 04:32:26 PM correlation matrix finished : /Users/gracer/Google Drive/HCP_graph/1200/test/734045_zr_matrix.nii.gz \n",
      "11/12/2019 04:32:26 PM correlation matrix finished : /Users/gracer/Google Drive/HCP_graph/1200/test/734045_mask_matrix.nii.gz \n",
      "11/12/2019 04:32:26 PM correlation matrix finished : /Users/gracer/Google Drive/HCP_graph/1200/test/734045_zr_matrix.csv \n",
      "11/12/2019 04:32:26 PM correlation matrix finished : /Users/gracer/Google Drive/HCP_graph/1200/test/734045_r_matrix.csv \n",
      "11/12/2019 04:32:26 PM starting correlation \n"
     ]
    },
    {
     "name": "stdout",
     "output_type": "stream",
     "text": [
      "748258\n",
      "/Users/gracer/Google Drive/HCP_graph/1200/datasets/HCP_PTN1200/graph_analysis/node_timeseries/3T_HCP1200_MSMAll_d100_ts2/748258.txt\n"
     ]
    },
    {
     "name": "stderr",
     "output_type": "stream",
     "text": [
      "11/12/2019 04:32:26 PM correlation matrix finished : /Users/gracer/Google Drive/HCP_graph/1200/test/748258_r_matrix.nii.gz \n",
      "11/12/2019 04:32:26 PM correlation matrix finished : /Users/gracer/Google Drive/HCP_graph/1200/test/748258_zr_matrix.nii.gz \n",
      "11/12/2019 04:32:26 PM correlation matrix finished : /Users/gracer/Google Drive/HCP_graph/1200/test/748258_mask_matrix.nii.gz \n",
      "11/12/2019 04:32:26 PM correlation matrix finished : /Users/gracer/Google Drive/HCP_graph/1200/test/748258_zr_matrix.csv \n",
      "11/12/2019 04:32:26 PM correlation matrix finished : /Users/gracer/Google Drive/HCP_graph/1200/test/748258_r_matrix.csv \n",
      "11/12/2019 04:32:26 PM starting correlation \n"
     ]
    },
    {
     "name": "stdout",
     "output_type": "stream",
     "text": [
      "774663\n",
      "/Users/gracer/Google Drive/HCP_graph/1200/datasets/HCP_PTN1200/graph_analysis/node_timeseries/3T_HCP1200_MSMAll_d100_ts2/774663.txt\n"
     ]
    },
    {
     "name": "stderr",
     "output_type": "stream",
     "text": [
      "11/12/2019 04:32:27 PM correlation matrix finished : /Users/gracer/Google Drive/HCP_graph/1200/test/774663_r_matrix.nii.gz \n",
      "11/12/2019 04:32:27 PM correlation matrix finished : /Users/gracer/Google Drive/HCP_graph/1200/test/774663_zr_matrix.nii.gz \n",
      "11/12/2019 04:32:27 PM correlation matrix finished : /Users/gracer/Google Drive/HCP_graph/1200/test/774663_mask_matrix.nii.gz \n",
      "11/12/2019 04:32:27 PM correlation matrix finished : /Users/gracer/Google Drive/HCP_graph/1200/test/774663_zr_matrix.csv \n",
      "11/12/2019 04:32:27 PM correlation matrix finished : /Users/gracer/Google Drive/HCP_graph/1200/test/774663_r_matrix.csv \n",
      "11/12/2019 04:32:27 PM starting correlation \n"
     ]
    },
    {
     "name": "stdout",
     "output_type": "stream",
     "text": [
      "786569\n",
      "no 786569\n",
      "792766\n",
      "/Users/gracer/Google Drive/HCP_graph/1200/datasets/HCP_PTN1200/graph_analysis/node_timeseries/3T_HCP1200_MSMAll_d100_ts2/792766.txt\n"
     ]
    },
    {
     "name": "stderr",
     "output_type": "stream",
     "text": [
      "11/12/2019 04:32:28 PM correlation matrix finished : /Users/gracer/Google Drive/HCP_graph/1200/test/792766_r_matrix.nii.gz \n",
      "11/12/2019 04:32:28 PM correlation matrix finished : /Users/gracer/Google Drive/HCP_graph/1200/test/792766_zr_matrix.nii.gz \n",
      "11/12/2019 04:32:28 PM correlation matrix finished : /Users/gracer/Google Drive/HCP_graph/1200/test/792766_mask_matrix.nii.gz \n",
      "11/12/2019 04:32:28 PM correlation matrix finished : /Users/gracer/Google Drive/HCP_graph/1200/test/792766_zr_matrix.csv \n",
      "11/12/2019 04:32:28 PM correlation matrix finished : /Users/gracer/Google Drive/HCP_graph/1200/test/792766_r_matrix.csv \n",
      "11/12/2019 04:32:28 PM starting correlation \n"
     ]
    },
    {
     "name": "stdout",
     "output_type": "stream",
     "text": [
      "809252\n",
      "/Users/gracer/Google Drive/HCP_graph/1200/datasets/HCP_PTN1200/graph_analysis/node_timeseries/3T_HCP1200_MSMAll_d100_ts2/809252.txt\n"
     ]
    },
    {
     "name": "stderr",
     "output_type": "stream",
     "text": [
      "11/12/2019 04:32:28 PM correlation matrix finished : /Users/gracer/Google Drive/HCP_graph/1200/test/809252_r_matrix.nii.gz \n",
      "11/12/2019 04:32:28 PM correlation matrix finished : /Users/gracer/Google Drive/HCP_graph/1200/test/809252_zr_matrix.nii.gz \n",
      "11/12/2019 04:32:28 PM correlation matrix finished : /Users/gracer/Google Drive/HCP_graph/1200/test/809252_mask_matrix.nii.gz \n",
      "11/12/2019 04:32:28 PM correlation matrix finished : /Users/gracer/Google Drive/HCP_graph/1200/test/809252_zr_matrix.csv \n",
      "11/12/2019 04:32:28 PM correlation matrix finished : /Users/gracer/Google Drive/HCP_graph/1200/test/809252_r_matrix.csv \n",
      "11/12/2019 04:32:28 PM starting correlation \n"
     ]
    },
    {
     "name": "stdout",
     "output_type": "stream",
     "text": [
      "816653\n",
      "/Users/gracer/Google Drive/HCP_graph/1200/datasets/HCP_PTN1200/graph_analysis/node_timeseries/3T_HCP1200_MSMAll_d100_ts2/816653.txt\n"
     ]
    },
    {
     "name": "stderr",
     "output_type": "stream",
     "text": [
      "11/12/2019 04:32:29 PM correlation matrix finished : /Users/gracer/Google Drive/HCP_graph/1200/test/816653_r_matrix.nii.gz \n",
      "11/12/2019 04:32:29 PM correlation matrix finished : /Users/gracer/Google Drive/HCP_graph/1200/test/816653_zr_matrix.nii.gz \n",
      "11/12/2019 04:32:29 PM correlation matrix finished : /Users/gracer/Google Drive/HCP_graph/1200/test/816653_mask_matrix.nii.gz \n",
      "11/12/2019 04:32:29 PM correlation matrix finished : /Users/gracer/Google Drive/HCP_graph/1200/test/816653_zr_matrix.csv \n",
      "11/12/2019 04:32:29 PM correlation matrix finished : /Users/gracer/Google Drive/HCP_graph/1200/test/816653_r_matrix.csv \n",
      "11/12/2019 04:32:29 PM starting correlation \n"
     ]
    },
    {
     "name": "stdout",
     "output_type": "stream",
     "text": [
      "841349\n",
      "/Users/gracer/Google Drive/HCP_graph/1200/datasets/HCP_PTN1200/graph_analysis/node_timeseries/3T_HCP1200_MSMAll_d100_ts2/841349.txt\n"
     ]
    },
    {
     "name": "stderr",
     "output_type": "stream",
     "text": [
      "11/12/2019 04:32:29 PM correlation matrix finished : /Users/gracer/Google Drive/HCP_graph/1200/test/841349_r_matrix.nii.gz \n",
      "11/12/2019 04:32:29 PM correlation matrix finished : /Users/gracer/Google Drive/HCP_graph/1200/test/841349_zr_matrix.nii.gz \n",
      "11/12/2019 04:32:29 PM correlation matrix finished : /Users/gracer/Google Drive/HCP_graph/1200/test/841349_mask_matrix.nii.gz \n",
      "11/12/2019 04:32:29 PM correlation matrix finished : /Users/gracer/Google Drive/HCP_graph/1200/test/841349_zr_matrix.csv \n",
      "11/12/2019 04:32:29 PM correlation matrix finished : /Users/gracer/Google Drive/HCP_graph/1200/test/841349_r_matrix.csv \n",
      "11/12/2019 04:32:29 PM starting correlation \n"
     ]
    },
    {
     "name": "stdout",
     "output_type": "stream",
     "text": [
      "849264\n",
      "/Users/gracer/Google Drive/HCP_graph/1200/datasets/HCP_PTN1200/graph_analysis/node_timeseries/3T_HCP1200_MSMAll_d100_ts2/849264.txt\n"
     ]
    },
    {
     "name": "stderr",
     "output_type": "stream",
     "text": [
      "11/12/2019 04:32:30 PM correlation matrix finished : /Users/gracer/Google Drive/HCP_graph/1200/test/849264_r_matrix.nii.gz \n",
      "11/12/2019 04:32:30 PM correlation matrix finished : /Users/gracer/Google Drive/HCP_graph/1200/test/849264_zr_matrix.nii.gz \n",
      "11/12/2019 04:32:30 PM correlation matrix finished : /Users/gracer/Google Drive/HCP_graph/1200/test/849264_mask_matrix.nii.gz \n",
      "11/12/2019 04:32:30 PM correlation matrix finished : /Users/gracer/Google Drive/HCP_graph/1200/test/849264_zr_matrix.csv \n",
      "11/12/2019 04:32:30 PM correlation matrix finished : /Users/gracer/Google Drive/HCP_graph/1200/test/849264_r_matrix.csv \n",
      "11/12/2019 04:32:30 PM starting correlation \n"
     ]
    },
    {
     "name": "stdout",
     "output_type": "stream",
     "text": [
      "857263\n",
      "/Users/gracer/Google Drive/HCP_graph/1200/datasets/HCP_PTN1200/graph_analysis/node_timeseries/3T_HCP1200_MSMAll_d100_ts2/857263.txt\n"
     ]
    },
    {
     "name": "stderr",
     "output_type": "stream",
     "text": [
      "11/12/2019 04:32:31 PM correlation matrix finished : /Users/gracer/Google Drive/HCP_graph/1200/test/857263_r_matrix.nii.gz \n",
      "11/12/2019 04:32:31 PM correlation matrix finished : /Users/gracer/Google Drive/HCP_graph/1200/test/857263_zr_matrix.nii.gz \n",
      "11/12/2019 04:32:31 PM correlation matrix finished : /Users/gracer/Google Drive/HCP_graph/1200/test/857263_mask_matrix.nii.gz \n",
      "11/12/2019 04:32:31 PM correlation matrix finished : /Users/gracer/Google Drive/HCP_graph/1200/test/857263_zr_matrix.csv \n",
      "11/12/2019 04:32:31 PM correlation matrix finished : /Users/gracer/Google Drive/HCP_graph/1200/test/857263_r_matrix.csv \n",
      "11/12/2019 04:32:31 PM starting correlation \n"
     ]
    },
    {
     "name": "stdout",
     "output_type": "stream",
     "text": [
      "865363\n",
      "/Users/gracer/Google Drive/HCP_graph/1200/datasets/HCP_PTN1200/graph_analysis/node_timeseries/3T_HCP1200_MSMAll_d100_ts2/865363.txt\n"
     ]
    },
    {
     "name": "stderr",
     "output_type": "stream",
     "text": [
      "11/12/2019 04:32:31 PM correlation matrix finished : /Users/gracer/Google Drive/HCP_graph/1200/test/865363_r_matrix.nii.gz \n",
      "11/12/2019 04:32:31 PM correlation matrix finished : /Users/gracer/Google Drive/HCP_graph/1200/test/865363_zr_matrix.nii.gz \n",
      "11/12/2019 04:32:31 PM correlation matrix finished : /Users/gracer/Google Drive/HCP_graph/1200/test/865363_mask_matrix.nii.gz \n",
      "11/12/2019 04:32:31 PM correlation matrix finished : /Users/gracer/Google Drive/HCP_graph/1200/test/865363_zr_matrix.csv \n",
      "11/12/2019 04:32:31 PM correlation matrix finished : /Users/gracer/Google Drive/HCP_graph/1200/test/865363_r_matrix.csv \n",
      "11/12/2019 04:32:31 PM starting correlation \n"
     ]
    },
    {
     "name": "stdout",
     "output_type": "stream",
     "text": [
      "869472\n",
      "/Users/gracer/Google Drive/HCP_graph/1200/datasets/HCP_PTN1200/graph_analysis/node_timeseries/3T_HCP1200_MSMAll_d100_ts2/869472.txt\n"
     ]
    },
    {
     "name": "stderr",
     "output_type": "stream",
     "text": [
      "11/12/2019 04:32:32 PM correlation matrix finished : /Users/gracer/Google Drive/HCP_graph/1200/test/869472_r_matrix.nii.gz \n",
      "11/12/2019 04:32:32 PM correlation matrix finished : /Users/gracer/Google Drive/HCP_graph/1200/test/869472_zr_matrix.nii.gz \n",
      "11/12/2019 04:32:32 PM correlation matrix finished : /Users/gracer/Google Drive/HCP_graph/1200/test/869472_mask_matrix.nii.gz \n",
      "11/12/2019 04:32:32 PM correlation matrix finished : /Users/gracer/Google Drive/HCP_graph/1200/test/869472_zr_matrix.csv \n",
      "11/12/2019 04:32:32 PM correlation matrix finished : /Users/gracer/Google Drive/HCP_graph/1200/test/869472_r_matrix.csv \n",
      "11/12/2019 04:32:32 PM starting correlation \n"
     ]
    },
    {
     "name": "stdout",
     "output_type": "stream",
     "text": [
      "872562\n",
      "/Users/gracer/Google Drive/HCP_graph/1200/datasets/HCP_PTN1200/graph_analysis/node_timeseries/3T_HCP1200_MSMAll_d100_ts2/872562.txt\n"
     ]
    },
    {
     "name": "stderr",
     "output_type": "stream",
     "text": [
      "11/12/2019 04:32:32 PM correlation matrix finished : /Users/gracer/Google Drive/HCP_graph/1200/test/872562_r_matrix.nii.gz \n",
      "11/12/2019 04:32:32 PM correlation matrix finished : /Users/gracer/Google Drive/HCP_graph/1200/test/872562_zr_matrix.nii.gz \n",
      "11/12/2019 04:32:32 PM correlation matrix finished : /Users/gracer/Google Drive/HCP_graph/1200/test/872562_mask_matrix.nii.gz \n",
      "11/12/2019 04:32:32 PM correlation matrix finished : /Users/gracer/Google Drive/HCP_graph/1200/test/872562_zr_matrix.csv \n",
      "11/12/2019 04:32:32 PM correlation matrix finished : /Users/gracer/Google Drive/HCP_graph/1200/test/872562_r_matrix.csv \n",
      "11/12/2019 04:32:32 PM starting correlation \n"
     ]
    },
    {
     "name": "stdout",
     "output_type": "stream",
     "text": [
      "912548\n",
      "no 912548\n",
      "970764\n",
      "/Users/gracer/Google Drive/HCP_graph/1200/datasets/HCP_PTN1200/graph_analysis/node_timeseries/3T_HCP1200_MSMAll_d100_ts2/970764.txt\n"
     ]
    },
    {
     "name": "stderr",
     "output_type": "stream",
     "text": [
      "11/12/2019 04:32:33 PM correlation matrix finished : /Users/gracer/Google Drive/HCP_graph/1200/test/970764_r_matrix.nii.gz \n",
      "11/12/2019 04:32:33 PM correlation matrix finished : /Users/gracer/Google Drive/HCP_graph/1200/test/970764_zr_matrix.nii.gz \n",
      "11/12/2019 04:32:33 PM correlation matrix finished : /Users/gracer/Google Drive/HCP_graph/1200/test/970764_mask_matrix.nii.gz \n",
      "11/12/2019 04:32:33 PM correlation matrix finished : /Users/gracer/Google Drive/HCP_graph/1200/test/970764_zr_matrix.csv \n",
      "11/12/2019 04:32:33 PM correlation matrix finished : /Users/gracer/Google Drive/HCP_graph/1200/test/970764_r_matrix.csv \n",
      "11/12/2019 04:32:33 PM starting correlation \n"
     ]
    },
    {
     "name": "stdout",
     "output_type": "stream",
     "text": [
      "991267\n",
      "/Users/gracer/Google Drive/HCP_graph/1200/datasets/HCP_PTN1200/graph_analysis/node_timeseries/3T_HCP1200_MSMAll_d100_ts2/991267.txt\n"
     ]
    },
    {
     "name": "stderr",
     "output_type": "stream",
     "text": [
      "11/12/2019 04:32:33 PM correlation matrix finished : /Users/gracer/Google Drive/HCP_graph/1200/test/991267_r_matrix.nii.gz \n",
      "11/12/2019 04:32:33 PM correlation matrix finished : /Users/gracer/Google Drive/HCP_graph/1200/test/991267_zr_matrix.nii.gz \n",
      "11/12/2019 04:32:33 PM correlation matrix finished : /Users/gracer/Google Drive/HCP_graph/1200/test/991267_mask_matrix.nii.gz \n",
      "11/12/2019 04:32:33 PM correlation matrix finished : /Users/gracer/Google Drive/HCP_graph/1200/test/991267_zr_matrix.csv \n",
      "11/12/2019 04:32:33 PM correlation matrix finished : /Users/gracer/Google Drive/HCP_graph/1200/test/991267_r_matrix.csv \n",
      "11/12/2019 04:32:33 PM starting correlation \n"
     ]
    },
    {
     "name": "stdout",
     "output_type": "stream",
     "text": [
      "994273\n",
      "/Users/gracer/Google Drive/HCP_graph/1200/datasets/HCP_PTN1200/graph_analysis/node_timeseries/3T_HCP1200_MSMAll_d100_ts2/994273.txt\n"
     ]
    },
    {
     "name": "stderr",
     "output_type": "stream",
     "text": [
      "11/12/2019 04:32:34 PM correlation matrix finished : /Users/gracer/Google Drive/HCP_graph/1200/test/994273_r_matrix.nii.gz \n",
      "11/12/2019 04:32:34 PM correlation matrix finished : /Users/gracer/Google Drive/HCP_graph/1200/test/994273_zr_matrix.nii.gz \n",
      "11/12/2019 04:32:34 PM correlation matrix finished : /Users/gracer/Google Drive/HCP_graph/1200/test/994273_mask_matrix.nii.gz \n",
      "11/12/2019 04:32:34 PM correlation matrix finished : /Users/gracer/Google Drive/HCP_graph/1200/test/994273_zr_matrix.csv \n",
      "11/12/2019 04:32:34 PM correlation matrix finished : /Users/gracer/Google Drive/HCP_graph/1200/test/994273_r_matrix.csv \n",
      "11/12/2019 04:32:34 PM starting correlation \n"
     ]
    },
    {
     "name": "stdout",
     "output_type": "stream",
     "text": [
      "ob\n",
      "101006\n",
      "/Users/gracer/Google Drive/HCP_graph/1200/datasets/HCP_PTN1200/graph_analysis/node_timeseries/3T_HCP1200_MSMAll_d100_ts2/101006.txt\n"
     ]
    },
    {
     "name": "stderr",
     "output_type": "stream",
     "text": [
      "11/12/2019 04:32:35 PM correlation matrix finished : /Users/gracer/Google Drive/HCP_graph/1200/test/101006_r_matrix.nii.gz \n",
      "11/12/2019 04:32:35 PM correlation matrix finished : /Users/gracer/Google Drive/HCP_graph/1200/test/101006_zr_matrix.nii.gz \n",
      "11/12/2019 04:32:35 PM correlation matrix finished : /Users/gracer/Google Drive/HCP_graph/1200/test/101006_mask_matrix.nii.gz \n",
      "11/12/2019 04:32:35 PM correlation matrix finished : /Users/gracer/Google Drive/HCP_graph/1200/test/101006_zr_matrix.csv \n",
      "11/12/2019 04:32:35 PM correlation matrix finished : /Users/gracer/Google Drive/HCP_graph/1200/test/101006_r_matrix.csv \n",
      "11/12/2019 04:32:35 PM starting correlation \n"
     ]
    },
    {
     "name": "stdout",
     "output_type": "stream",
     "text": [
      "101612\n",
      "no 101612\n",
      "102008\n",
      "/Users/gracer/Google Drive/HCP_graph/1200/datasets/HCP_PTN1200/graph_analysis/node_timeseries/3T_HCP1200_MSMAll_d100_ts2/102008.txt\n"
     ]
    },
    {
     "name": "stderr",
     "output_type": "stream",
     "text": [
      "11/12/2019 04:32:35 PM correlation matrix finished : /Users/gracer/Google Drive/HCP_graph/1200/test/102008_r_matrix.nii.gz \n",
      "11/12/2019 04:32:35 PM correlation matrix finished : /Users/gracer/Google Drive/HCP_graph/1200/test/102008_zr_matrix.nii.gz \n",
      "11/12/2019 04:32:35 PM correlation matrix finished : /Users/gracer/Google Drive/HCP_graph/1200/test/102008_mask_matrix.nii.gz \n",
      "11/12/2019 04:32:35 PM correlation matrix finished : /Users/gracer/Google Drive/HCP_graph/1200/test/102008_zr_matrix.csv \n",
      "11/12/2019 04:32:35 PM correlation matrix finished : /Users/gracer/Google Drive/HCP_graph/1200/test/102008_r_matrix.csv \n",
      "11/12/2019 04:32:35 PM starting correlation \n"
     ]
    },
    {
     "name": "stdout",
     "output_type": "stream",
     "text": [
      "103111\n",
      "/Users/gracer/Google Drive/HCP_graph/1200/datasets/HCP_PTN1200/graph_analysis/node_timeseries/3T_HCP1200_MSMAll_d100_ts2/103111.txt\n"
     ]
    },
    {
     "name": "stderr",
     "output_type": "stream",
     "text": [
      "11/12/2019 04:32:36 PM correlation matrix finished : /Users/gracer/Google Drive/HCP_graph/1200/test/103111_r_matrix.nii.gz \n",
      "11/12/2019 04:32:36 PM correlation matrix finished : /Users/gracer/Google Drive/HCP_graph/1200/test/103111_zr_matrix.nii.gz \n",
      "11/12/2019 04:32:36 PM correlation matrix finished : /Users/gracer/Google Drive/HCP_graph/1200/test/103111_mask_matrix.nii.gz \n",
      "11/12/2019 04:32:36 PM correlation matrix finished : /Users/gracer/Google Drive/HCP_graph/1200/test/103111_zr_matrix.csv \n",
      "11/12/2019 04:32:36 PM correlation matrix finished : /Users/gracer/Google Drive/HCP_graph/1200/test/103111_r_matrix.csv \n",
      "11/12/2019 04:32:36 PM starting correlation \n"
     ]
    },
    {
     "name": "stdout",
     "output_type": "stream",
     "text": [
      "103212\n",
      "/Users/gracer/Google Drive/HCP_graph/1200/datasets/HCP_PTN1200/graph_analysis/node_timeseries/3T_HCP1200_MSMAll_d100_ts2/103212.txt\n"
     ]
    },
    {
     "name": "stderr",
     "output_type": "stream",
     "text": [
      "11/12/2019 04:32:36 PM correlation matrix finished : /Users/gracer/Google Drive/HCP_graph/1200/test/103212_r_matrix.nii.gz \n",
      "11/12/2019 04:32:36 PM correlation matrix finished : /Users/gracer/Google Drive/HCP_graph/1200/test/103212_zr_matrix.nii.gz \n",
      "11/12/2019 04:32:36 PM correlation matrix finished : /Users/gracer/Google Drive/HCP_graph/1200/test/103212_mask_matrix.nii.gz \n",
      "11/12/2019 04:32:36 PM correlation matrix finished : /Users/gracer/Google Drive/HCP_graph/1200/test/103212_zr_matrix.csv \n",
      "11/12/2019 04:32:36 PM correlation matrix finished : /Users/gracer/Google Drive/HCP_graph/1200/test/103212_r_matrix.csv \n",
      "11/12/2019 04:32:36 PM starting correlation \n"
     ]
    },
    {
     "name": "stdout",
     "output_type": "stream",
     "text": [
      "104113\n",
      "no 104113\n",
      "107119\n",
      "no 107119\n",
      "107220\n",
      "no 107220\n",
      "107523\n",
      "no 107523\n",
      "108121\n",
      "/Users/gracer/Google Drive/HCP_graph/1200/datasets/HCP_PTN1200/graph_analysis/node_timeseries/3T_HCP1200_MSMAll_d100_ts2/108121.txt\n"
     ]
    },
    {
     "name": "stderr",
     "output_type": "stream",
     "text": [
      "11/12/2019 04:32:37 PM correlation matrix finished : /Users/gracer/Google Drive/HCP_graph/1200/test/108121_r_matrix.nii.gz \n",
      "11/12/2019 04:32:37 PM correlation matrix finished : /Users/gracer/Google Drive/HCP_graph/1200/test/108121_zr_matrix.nii.gz \n",
      "11/12/2019 04:32:37 PM correlation matrix finished : /Users/gracer/Google Drive/HCP_graph/1200/test/108121_mask_matrix.nii.gz \n",
      "11/12/2019 04:32:37 PM correlation matrix finished : /Users/gracer/Google Drive/HCP_graph/1200/test/108121_zr_matrix.csv \n",
      "11/12/2019 04:32:37 PM correlation matrix finished : /Users/gracer/Google Drive/HCP_graph/1200/test/108121_r_matrix.csv \n",
      "11/12/2019 04:32:37 PM starting correlation \n"
     ]
    },
    {
     "name": "stdout",
     "output_type": "stream",
     "text": [
      "109325\n",
      "/Users/gracer/Google Drive/HCP_graph/1200/datasets/HCP_PTN1200/graph_analysis/node_timeseries/3T_HCP1200_MSMAll_d100_ts2/109325.txt\n"
     ]
    },
    {
     "name": "stderr",
     "output_type": "stream",
     "text": [
      "11/12/2019 04:32:38 PM correlation matrix finished : /Users/gracer/Google Drive/HCP_graph/1200/test/109325_r_matrix.nii.gz \n",
      "11/12/2019 04:32:38 PM correlation matrix finished : /Users/gracer/Google Drive/HCP_graph/1200/test/109325_zr_matrix.nii.gz \n",
      "11/12/2019 04:32:38 PM correlation matrix finished : /Users/gracer/Google Drive/HCP_graph/1200/test/109325_mask_matrix.nii.gz \n",
      "11/12/2019 04:32:38 PM correlation matrix finished : /Users/gracer/Google Drive/HCP_graph/1200/test/109325_zr_matrix.csv \n",
      "11/12/2019 04:32:38 PM correlation matrix finished : /Users/gracer/Google Drive/HCP_graph/1200/test/109325_r_matrix.csv \n",
      "11/12/2019 04:32:38 PM starting correlation \n"
     ]
    },
    {
     "name": "stdout",
     "output_type": "stream",
     "text": [
      "112314\n",
      "/Users/gracer/Google Drive/HCP_graph/1200/datasets/HCP_PTN1200/graph_analysis/node_timeseries/3T_HCP1200_MSMAll_d100_ts2/112314.txt\n"
     ]
    },
    {
     "name": "stderr",
     "output_type": "stream",
     "text": [
      "11/12/2019 04:32:38 PM correlation matrix finished : /Users/gracer/Google Drive/HCP_graph/1200/test/112314_r_matrix.nii.gz \n",
      "11/12/2019 04:32:38 PM correlation matrix finished : /Users/gracer/Google Drive/HCP_graph/1200/test/112314_zr_matrix.nii.gz \n",
      "11/12/2019 04:32:38 PM correlation matrix finished : /Users/gracer/Google Drive/HCP_graph/1200/test/112314_mask_matrix.nii.gz \n",
      "11/12/2019 04:32:38 PM correlation matrix finished : /Users/gracer/Google Drive/HCP_graph/1200/test/112314_zr_matrix.csv \n",
      "11/12/2019 04:32:38 PM correlation matrix finished : /Users/gracer/Google Drive/HCP_graph/1200/test/112314_r_matrix.csv \n",
      "11/12/2019 04:32:38 PM starting correlation \n"
     ]
    },
    {
     "name": "stdout",
     "output_type": "stream",
     "text": [
      "114419\n",
      "/Users/gracer/Google Drive/HCP_graph/1200/datasets/HCP_PTN1200/graph_analysis/node_timeseries/3T_HCP1200_MSMAll_d100_ts2/114419.txt\n"
     ]
    },
    {
     "name": "stderr",
     "output_type": "stream",
     "text": [
      "11/12/2019 04:32:39 PM correlation matrix finished : /Users/gracer/Google Drive/HCP_graph/1200/test/114419_r_matrix.nii.gz \n",
      "11/12/2019 04:32:39 PM correlation matrix finished : /Users/gracer/Google Drive/HCP_graph/1200/test/114419_zr_matrix.nii.gz \n",
      "11/12/2019 04:32:39 PM correlation matrix finished : /Users/gracer/Google Drive/HCP_graph/1200/test/114419_mask_matrix.nii.gz \n",
      "11/12/2019 04:32:39 PM correlation matrix finished : /Users/gracer/Google Drive/HCP_graph/1200/test/114419_zr_matrix.csv \n",
      "11/12/2019 04:32:39 PM correlation matrix finished : /Users/gracer/Google Drive/HCP_graph/1200/test/114419_r_matrix.csv \n",
      "11/12/2019 04:32:39 PM starting correlation \n"
     ]
    },
    {
     "name": "stdout",
     "output_type": "stream",
     "text": [
      "117728\n",
      "no 117728\n",
      "117930\n",
      "/Users/gracer/Google Drive/HCP_graph/1200/datasets/HCP_PTN1200/graph_analysis/node_timeseries/3T_HCP1200_MSMAll_d100_ts2/117930.txt\n"
     ]
    },
    {
     "name": "stderr",
     "output_type": "stream",
     "text": [
      "11/12/2019 04:32:40 PM correlation matrix finished : /Users/gracer/Google Drive/HCP_graph/1200/test/117930_r_matrix.nii.gz \n",
      "11/12/2019 04:32:40 PM correlation matrix finished : /Users/gracer/Google Drive/HCP_graph/1200/test/117930_zr_matrix.nii.gz \n",
      "11/12/2019 04:32:40 PM correlation matrix finished : /Users/gracer/Google Drive/HCP_graph/1200/test/117930_mask_matrix.nii.gz \n",
      "11/12/2019 04:32:40 PM correlation matrix finished : /Users/gracer/Google Drive/HCP_graph/1200/test/117930_zr_matrix.csv \n",
      "11/12/2019 04:32:40 PM correlation matrix finished : /Users/gracer/Google Drive/HCP_graph/1200/test/117930_r_matrix.csv \n",
      "11/12/2019 04:32:40 PM starting correlation \n"
     ]
    },
    {
     "name": "stdout",
     "output_type": "stream",
     "text": [
      "118124\n",
      "/Users/gracer/Google Drive/HCP_graph/1200/datasets/HCP_PTN1200/graph_analysis/node_timeseries/3T_HCP1200_MSMAll_d100_ts2/118124.txt\n"
     ]
    },
    {
     "name": "stderr",
     "output_type": "stream",
     "text": [
      "11/12/2019 04:32:40 PM correlation matrix finished : /Users/gracer/Google Drive/HCP_graph/1200/test/118124_r_matrix.nii.gz \n",
      "11/12/2019 04:32:40 PM correlation matrix finished : /Users/gracer/Google Drive/HCP_graph/1200/test/118124_zr_matrix.nii.gz \n",
      "11/12/2019 04:32:40 PM correlation matrix finished : /Users/gracer/Google Drive/HCP_graph/1200/test/118124_mask_matrix.nii.gz \n",
      "11/12/2019 04:32:40 PM correlation matrix finished : /Users/gracer/Google Drive/HCP_graph/1200/test/118124_zr_matrix.csv \n",
      "11/12/2019 04:32:40 PM correlation matrix finished : /Users/gracer/Google Drive/HCP_graph/1200/test/118124_r_matrix.csv \n",
      "11/12/2019 04:32:40 PM starting correlation \n"
     ]
    },
    {
     "name": "stdout",
     "output_type": "stream",
     "text": [
      "118730\n",
      "/Users/gracer/Google Drive/HCP_graph/1200/datasets/HCP_PTN1200/graph_analysis/node_timeseries/3T_HCP1200_MSMAll_d100_ts2/118730.txt\n"
     ]
    },
    {
     "name": "stderr",
     "output_type": "stream",
     "text": [
      "11/12/2019 04:32:41 PM correlation matrix finished : /Users/gracer/Google Drive/HCP_graph/1200/test/118730_r_matrix.nii.gz \n",
      "11/12/2019 04:32:41 PM correlation matrix finished : /Users/gracer/Google Drive/HCP_graph/1200/test/118730_zr_matrix.nii.gz \n",
      "11/12/2019 04:32:41 PM correlation matrix finished : /Users/gracer/Google Drive/HCP_graph/1200/test/118730_mask_matrix.nii.gz \n",
      "11/12/2019 04:32:41 PM correlation matrix finished : /Users/gracer/Google Drive/HCP_graph/1200/test/118730_zr_matrix.csv \n",
      "11/12/2019 04:32:41 PM correlation matrix finished : /Users/gracer/Google Drive/HCP_graph/1200/test/118730_r_matrix.csv \n",
      "11/12/2019 04:32:41 PM starting correlation \n"
     ]
    },
    {
     "name": "stdout",
     "output_type": "stream",
     "text": [
      "119126\n",
      "/Users/gracer/Google Drive/HCP_graph/1200/datasets/HCP_PTN1200/graph_analysis/node_timeseries/3T_HCP1200_MSMAll_d100_ts2/119126.txt\n"
     ]
    },
    {
     "name": "stderr",
     "output_type": "stream",
     "text": [
      "11/12/2019 04:32:41 PM correlation matrix finished : /Users/gracer/Google Drive/HCP_graph/1200/test/119126_r_matrix.nii.gz \n",
      "11/12/2019 04:32:41 PM correlation matrix finished : /Users/gracer/Google Drive/HCP_graph/1200/test/119126_zr_matrix.nii.gz \n",
      "11/12/2019 04:32:41 PM correlation matrix finished : /Users/gracer/Google Drive/HCP_graph/1200/test/119126_mask_matrix.nii.gz \n",
      "11/12/2019 04:32:41 PM correlation matrix finished : /Users/gracer/Google Drive/HCP_graph/1200/test/119126_zr_matrix.csv \n",
      "11/12/2019 04:32:41 PM correlation matrix finished : /Users/gracer/Google Drive/HCP_graph/1200/test/119126_r_matrix.csv \n",
      "11/12/2019 04:32:41 PM starting correlation \n"
     ]
    },
    {
     "name": "stdout",
     "output_type": "stream",
     "text": [
      "121719\n",
      "no 121719\n",
      "122519\n",
      "no 122519\n",
      "123117\n",
      "/Users/gracer/Google Drive/HCP_graph/1200/datasets/HCP_PTN1200/graph_analysis/node_timeseries/3T_HCP1200_MSMAll_d100_ts2/123117.txt\n"
     ]
    },
    {
     "name": "stderr",
     "output_type": "stream",
     "text": [
      "11/12/2019 04:32:42 PM correlation matrix finished : /Users/gracer/Google Drive/HCP_graph/1200/test/123117_r_matrix.nii.gz \n",
      "11/12/2019 04:32:42 PM correlation matrix finished : /Users/gracer/Google Drive/HCP_graph/1200/test/123117_zr_matrix.nii.gz \n",
      "11/12/2019 04:32:42 PM correlation matrix finished : /Users/gracer/Google Drive/HCP_graph/1200/test/123117_mask_matrix.nii.gz \n",
      "11/12/2019 04:32:42 PM correlation matrix finished : /Users/gracer/Google Drive/HCP_graph/1200/test/123117_zr_matrix.csv \n",
      "11/12/2019 04:32:42 PM correlation matrix finished : /Users/gracer/Google Drive/HCP_graph/1200/test/123117_r_matrix.csv \n",
      "11/12/2019 04:32:42 PM starting correlation \n"
     ]
    },
    {
     "name": "stdout",
     "output_type": "stream",
     "text": [
      "124220\n",
      "/Users/gracer/Google Drive/HCP_graph/1200/datasets/HCP_PTN1200/graph_analysis/node_timeseries/3T_HCP1200_MSMAll_d100_ts2/124220.txt\n"
     ]
    },
    {
     "name": "stderr",
     "output_type": "stream",
     "text": [
      "11/12/2019 04:32:43 PM correlation matrix finished : /Users/gracer/Google Drive/HCP_graph/1200/test/124220_r_matrix.nii.gz \n",
      "11/12/2019 04:32:43 PM correlation matrix finished : /Users/gracer/Google Drive/HCP_graph/1200/test/124220_zr_matrix.nii.gz \n",
      "11/12/2019 04:32:43 PM correlation matrix finished : /Users/gracer/Google Drive/HCP_graph/1200/test/124220_mask_matrix.nii.gz \n",
      "11/12/2019 04:32:43 PM correlation matrix finished : /Users/gracer/Google Drive/HCP_graph/1200/test/124220_zr_matrix.csv \n",
      "11/12/2019 04:32:43 PM correlation matrix finished : /Users/gracer/Google Drive/HCP_graph/1200/test/124220_r_matrix.csv \n",
      "11/12/2019 04:32:43 PM starting correlation \n"
     ]
    },
    {
     "name": "stdout",
     "output_type": "stream",
     "text": [
      "128026\n",
      "/Users/gracer/Google Drive/HCP_graph/1200/datasets/HCP_PTN1200/graph_analysis/node_timeseries/3T_HCP1200_MSMAll_d100_ts2/128026.txt\n"
     ]
    },
    {
     "name": "stderr",
     "output_type": "stream",
     "text": [
      "11/12/2019 04:32:43 PM correlation matrix finished : /Users/gracer/Google Drive/HCP_graph/1200/test/128026_r_matrix.nii.gz \n",
      "11/12/2019 04:32:43 PM correlation matrix finished : /Users/gracer/Google Drive/HCP_graph/1200/test/128026_zr_matrix.nii.gz \n",
      "11/12/2019 04:32:43 PM correlation matrix finished : /Users/gracer/Google Drive/HCP_graph/1200/test/128026_mask_matrix.nii.gz \n",
      "11/12/2019 04:32:43 PM correlation matrix finished : /Users/gracer/Google Drive/HCP_graph/1200/test/128026_zr_matrix.csv \n",
      "11/12/2019 04:32:43 PM correlation matrix finished : /Users/gracer/Google Drive/HCP_graph/1200/test/128026_r_matrix.csv \n",
      "11/12/2019 04:32:43 PM starting correlation \n"
     ]
    },
    {
     "name": "stdout",
     "output_type": "stream",
     "text": [
      "128329\n",
      "no 128329\n",
      "129129\n",
      "/Users/gracer/Google Drive/HCP_graph/1200/datasets/HCP_PTN1200/graph_analysis/node_timeseries/3T_HCP1200_MSMAll_d100_ts2/129129.txt\n"
     ]
    },
    {
     "name": "stderr",
     "output_type": "stream",
     "text": [
      "11/12/2019 04:32:44 PM correlation matrix finished : /Users/gracer/Google Drive/HCP_graph/1200/test/129129_r_matrix.nii.gz \n",
      "11/12/2019 04:32:44 PM correlation matrix finished : /Users/gracer/Google Drive/HCP_graph/1200/test/129129_zr_matrix.nii.gz \n",
      "11/12/2019 04:32:44 PM correlation matrix finished : /Users/gracer/Google Drive/HCP_graph/1200/test/129129_mask_matrix.nii.gz \n",
      "11/12/2019 04:32:44 PM correlation matrix finished : /Users/gracer/Google Drive/HCP_graph/1200/test/129129_zr_matrix.csv \n",
      "11/12/2019 04:32:44 PM correlation matrix finished : /Users/gracer/Google Drive/HCP_graph/1200/test/129129_r_matrix.csv \n",
      "11/12/2019 04:32:44 PM starting correlation \n"
     ]
    },
    {
     "name": "stdout",
     "output_type": "stream",
     "text": [
      "132320\n",
      "no 132320\n",
      "133827\n",
      "/Users/gracer/Google Drive/HCP_graph/1200/datasets/HCP_PTN1200/graph_analysis/node_timeseries/3T_HCP1200_MSMAll_d100_ts2/133827.txt\n"
     ]
    },
    {
     "name": "stderr",
     "output_type": "stream",
     "text": [
      "11/12/2019 04:32:45 PM correlation matrix finished : /Users/gracer/Google Drive/HCP_graph/1200/test/133827_r_matrix.nii.gz \n",
      "11/12/2019 04:32:45 PM correlation matrix finished : /Users/gracer/Google Drive/HCP_graph/1200/test/133827_zr_matrix.nii.gz \n",
      "11/12/2019 04:32:45 PM correlation matrix finished : /Users/gracer/Google Drive/HCP_graph/1200/test/133827_mask_matrix.nii.gz \n",
      "11/12/2019 04:32:45 PM correlation matrix finished : /Users/gracer/Google Drive/HCP_graph/1200/test/133827_zr_matrix.csv \n",
      "11/12/2019 04:32:45 PM correlation matrix finished : /Users/gracer/Google Drive/HCP_graph/1200/test/133827_r_matrix.csv \n",
      "11/12/2019 04:32:45 PM starting correlation \n"
     ]
    },
    {
     "name": "stdout",
     "output_type": "stream",
     "text": [
      "135427\n",
      "no 135427\n",
      "136631\n",
      "/Users/gracer/Google Drive/HCP_graph/1200/datasets/HCP_PTN1200/graph_analysis/node_timeseries/3T_HCP1200_MSMAll_d100_ts2/136631.txt\n"
     ]
    },
    {
     "name": "stderr",
     "output_type": "stream",
     "text": [
      "11/12/2019 04:32:45 PM correlation matrix finished : /Users/gracer/Google Drive/HCP_graph/1200/test/136631_r_matrix.nii.gz \n",
      "11/12/2019 04:32:45 PM correlation matrix finished : /Users/gracer/Google Drive/HCP_graph/1200/test/136631_zr_matrix.nii.gz \n",
      "11/12/2019 04:32:45 PM correlation matrix finished : /Users/gracer/Google Drive/HCP_graph/1200/test/136631_mask_matrix.nii.gz \n",
      "11/12/2019 04:32:45 PM correlation matrix finished : /Users/gracer/Google Drive/HCP_graph/1200/test/136631_zr_matrix.csv \n",
      "11/12/2019 04:32:45 PM correlation matrix finished : /Users/gracer/Google Drive/HCP_graph/1200/test/136631_r_matrix.csv \n",
      "11/12/2019 04:32:45 PM starting correlation \n"
     ]
    },
    {
     "name": "stdout",
     "output_type": "stream",
     "text": [
      "136732\n",
      "/Users/gracer/Google Drive/HCP_graph/1200/datasets/HCP_PTN1200/graph_analysis/node_timeseries/3T_HCP1200_MSMAll_d100_ts2/136732.txt\n"
     ]
    },
    {
     "name": "stderr",
     "output_type": "stream",
     "text": [
      "11/12/2019 04:32:46 PM correlation matrix finished : /Users/gracer/Google Drive/HCP_graph/1200/test/136732_r_matrix.nii.gz \n",
      "11/12/2019 04:32:46 PM correlation matrix finished : /Users/gracer/Google Drive/HCP_graph/1200/test/136732_zr_matrix.nii.gz \n",
      "11/12/2019 04:32:46 PM correlation matrix finished : /Users/gracer/Google Drive/HCP_graph/1200/test/136732_mask_matrix.nii.gz \n",
      "11/12/2019 04:32:46 PM correlation matrix finished : /Users/gracer/Google Drive/HCP_graph/1200/test/136732_zr_matrix.csv \n",
      "11/12/2019 04:32:46 PM correlation matrix finished : /Users/gracer/Google Drive/HCP_graph/1200/test/136732_r_matrix.csv \n",
      "11/12/2019 04:32:46 PM starting correlation \n"
     ]
    },
    {
     "name": "stdout",
     "output_type": "stream",
     "text": [
      "136833\n",
      "/Users/gracer/Google Drive/HCP_graph/1200/datasets/HCP_PTN1200/graph_analysis/node_timeseries/3T_HCP1200_MSMAll_d100_ts2/136833.txt\n"
     ]
    },
    {
     "name": "stderr",
     "output_type": "stream",
     "text": [
      "11/12/2019 04:32:46 PM correlation matrix finished : /Users/gracer/Google Drive/HCP_graph/1200/test/136833_r_matrix.nii.gz \n",
      "11/12/2019 04:32:46 PM correlation matrix finished : /Users/gracer/Google Drive/HCP_graph/1200/test/136833_zr_matrix.nii.gz \n",
      "11/12/2019 04:32:46 PM correlation matrix finished : /Users/gracer/Google Drive/HCP_graph/1200/test/136833_mask_matrix.nii.gz \n",
      "11/12/2019 04:32:46 PM correlation matrix finished : /Users/gracer/Google Drive/HCP_graph/1200/test/136833_zr_matrix.csv \n",
      "11/12/2019 04:32:46 PM correlation matrix finished : /Users/gracer/Google Drive/HCP_graph/1200/test/136833_r_matrix.csv \n",
      "11/12/2019 04:32:46 PM starting correlation \n"
     ]
    },
    {
     "name": "stdout",
     "output_type": "stream",
     "text": [
      "137229\n",
      "/Users/gracer/Google Drive/HCP_graph/1200/datasets/HCP_PTN1200/graph_analysis/node_timeseries/3T_HCP1200_MSMAll_d100_ts2/137229.txt\n"
     ]
    },
    {
     "name": "stderr",
     "output_type": "stream",
     "text": [
      "11/12/2019 04:32:47 PM correlation matrix finished : /Users/gracer/Google Drive/HCP_graph/1200/test/137229_r_matrix.nii.gz \n",
      "11/12/2019 04:32:47 PM correlation matrix finished : /Users/gracer/Google Drive/HCP_graph/1200/test/137229_zr_matrix.nii.gz \n",
      "11/12/2019 04:32:47 PM correlation matrix finished : /Users/gracer/Google Drive/HCP_graph/1200/test/137229_mask_matrix.nii.gz \n",
      "11/12/2019 04:32:47 PM correlation matrix finished : /Users/gracer/Google Drive/HCP_graph/1200/test/137229_zr_matrix.csv \n",
      "11/12/2019 04:32:47 PM correlation matrix finished : /Users/gracer/Google Drive/HCP_graph/1200/test/137229_r_matrix.csv \n",
      "11/12/2019 04:32:47 PM starting correlation \n"
     ]
    },
    {
     "name": "stdout",
     "output_type": "stream",
     "text": [
      "138130\n",
      "/Users/gracer/Google Drive/HCP_graph/1200/datasets/HCP_PTN1200/graph_analysis/node_timeseries/3T_HCP1200_MSMAll_d100_ts2/138130.txt\n"
     ]
    },
    {
     "name": "stderr",
     "output_type": "stream",
     "text": [
      "11/12/2019 04:32:48 PM correlation matrix finished : /Users/gracer/Google Drive/HCP_graph/1200/test/138130_r_matrix.nii.gz \n",
      "11/12/2019 04:32:48 PM correlation matrix finished : /Users/gracer/Google Drive/HCP_graph/1200/test/138130_zr_matrix.nii.gz \n",
      "11/12/2019 04:32:48 PM correlation matrix finished : /Users/gracer/Google Drive/HCP_graph/1200/test/138130_mask_matrix.nii.gz \n",
      "11/12/2019 04:32:48 PM correlation matrix finished : /Users/gracer/Google Drive/HCP_graph/1200/test/138130_zr_matrix.csv \n",
      "11/12/2019 04:32:48 PM correlation matrix finished : /Users/gracer/Google Drive/HCP_graph/1200/test/138130_r_matrix.csv \n",
      "11/12/2019 04:32:48 PM starting correlation \n"
     ]
    },
    {
     "name": "stdout",
     "output_type": "stream",
     "text": [
      "140723\n",
      "no 140723\n",
      "140925\n",
      "/Users/gracer/Google Drive/HCP_graph/1200/datasets/HCP_PTN1200/graph_analysis/node_timeseries/3T_HCP1200_MSMAll_d100_ts2/140925.txt\n"
     ]
    },
    {
     "name": "stderr",
     "output_type": "stream",
     "text": [
      "11/12/2019 04:32:48 PM correlation matrix finished : /Users/gracer/Google Drive/HCP_graph/1200/test/140925_r_matrix.nii.gz \n",
      "11/12/2019 04:32:48 PM correlation matrix finished : /Users/gracer/Google Drive/HCP_graph/1200/test/140925_zr_matrix.nii.gz \n",
      "11/12/2019 04:32:48 PM correlation matrix finished : /Users/gracer/Google Drive/HCP_graph/1200/test/140925_mask_matrix.nii.gz \n",
      "11/12/2019 04:32:48 PM correlation matrix finished : /Users/gracer/Google Drive/HCP_graph/1200/test/140925_zr_matrix.csv \n",
      "11/12/2019 04:32:48 PM correlation matrix finished : /Users/gracer/Google Drive/HCP_graph/1200/test/140925_r_matrix.csv \n",
      "11/12/2019 04:32:48 PM starting correlation \n"
     ]
    },
    {
     "name": "stdout",
     "output_type": "stream",
     "text": [
      "145531\n",
      "no 145531\n",
      "147030\n",
      "/Users/gracer/Google Drive/HCP_graph/1200/datasets/HCP_PTN1200/graph_analysis/node_timeseries/3T_HCP1200_MSMAll_d100_ts2/147030.txt\n"
     ]
    },
    {
     "name": "stderr",
     "output_type": "stream",
     "text": [
      "11/12/2019 04:32:49 PM correlation matrix finished : /Users/gracer/Google Drive/HCP_graph/1200/test/147030_r_matrix.nii.gz \n",
      "11/12/2019 04:32:49 PM correlation matrix finished : /Users/gracer/Google Drive/HCP_graph/1200/test/147030_zr_matrix.nii.gz \n",
      "11/12/2019 04:32:49 PM correlation matrix finished : /Users/gracer/Google Drive/HCP_graph/1200/test/147030_mask_matrix.nii.gz \n",
      "11/12/2019 04:32:49 PM correlation matrix finished : /Users/gracer/Google Drive/HCP_graph/1200/test/147030_zr_matrix.csv \n",
      "11/12/2019 04:32:49 PM correlation matrix finished : /Users/gracer/Google Drive/HCP_graph/1200/test/147030_r_matrix.csv \n",
      "11/12/2019 04:32:49 PM starting correlation \n"
     ]
    },
    {
     "name": "stdout",
     "output_type": "stream",
     "text": [
      "147737\n",
      "/Users/gracer/Google Drive/HCP_graph/1200/datasets/HCP_PTN1200/graph_analysis/node_timeseries/3T_HCP1200_MSMAll_d100_ts2/147737.txt\n"
     ]
    },
    {
     "name": "stderr",
     "output_type": "stream",
     "text": [
      "11/12/2019 04:32:49 PM correlation matrix finished : /Users/gracer/Google Drive/HCP_graph/1200/test/147737_r_matrix.nii.gz \n",
      "11/12/2019 04:32:49 PM correlation matrix finished : /Users/gracer/Google Drive/HCP_graph/1200/test/147737_zr_matrix.nii.gz \n",
      "11/12/2019 04:32:49 PM correlation matrix finished : /Users/gracer/Google Drive/HCP_graph/1200/test/147737_mask_matrix.nii.gz \n",
      "11/12/2019 04:32:49 PM correlation matrix finished : /Users/gracer/Google Drive/HCP_graph/1200/test/147737_zr_matrix.csv \n",
      "11/12/2019 04:32:49 PM correlation matrix finished : /Users/gracer/Google Drive/HCP_graph/1200/test/147737_r_matrix.csv \n",
      "11/12/2019 04:32:49 PM starting correlation \n"
     ]
    },
    {
     "name": "stdout",
     "output_type": "stream",
     "text": [
      "151223\n",
      "/Users/gracer/Google Drive/HCP_graph/1200/datasets/HCP_PTN1200/graph_analysis/node_timeseries/3T_HCP1200_MSMAll_d100_ts2/151223.txt\n"
     ]
    },
    {
     "name": "stderr",
     "output_type": "stream",
     "text": [
      "11/12/2019 04:32:50 PM correlation matrix finished : /Users/gracer/Google Drive/HCP_graph/1200/test/151223_r_matrix.nii.gz \n",
      "11/12/2019 04:32:50 PM correlation matrix finished : /Users/gracer/Google Drive/HCP_graph/1200/test/151223_zr_matrix.nii.gz \n",
      "11/12/2019 04:32:50 PM correlation matrix finished : /Users/gracer/Google Drive/HCP_graph/1200/test/151223_mask_matrix.nii.gz \n",
      "11/12/2019 04:32:50 PM correlation matrix finished : /Users/gracer/Google Drive/HCP_graph/1200/test/151223_zr_matrix.csv \n",
      "11/12/2019 04:32:50 PM correlation matrix finished : /Users/gracer/Google Drive/HCP_graph/1200/test/151223_r_matrix.csv \n",
      "11/12/2019 04:32:50 PM starting correlation \n"
     ]
    },
    {
     "name": "stdout",
     "output_type": "stream",
     "text": [
      "151324\n",
      "/Users/gracer/Google Drive/HCP_graph/1200/datasets/HCP_PTN1200/graph_analysis/node_timeseries/3T_HCP1200_MSMAll_d100_ts2/151324.txt\n"
     ]
    },
    {
     "name": "stderr",
     "output_type": "stream",
     "text": [
      "11/12/2019 04:32:50 PM correlation matrix finished : /Users/gracer/Google Drive/HCP_graph/1200/test/151324_r_matrix.nii.gz \n",
      "11/12/2019 04:32:50 PM correlation matrix finished : /Users/gracer/Google Drive/HCP_graph/1200/test/151324_zr_matrix.nii.gz \n",
      "11/12/2019 04:32:50 PM correlation matrix finished : /Users/gracer/Google Drive/HCP_graph/1200/test/151324_mask_matrix.nii.gz \n",
      "11/12/2019 04:32:50 PM correlation matrix finished : /Users/gracer/Google Drive/HCP_graph/1200/test/151324_zr_matrix.csv \n",
      "11/12/2019 04:32:50 PM correlation matrix finished : /Users/gracer/Google Drive/HCP_graph/1200/test/151324_r_matrix.csv \n",
      "11/12/2019 04:32:50 PM starting correlation \n"
     ]
    },
    {
     "name": "stdout",
     "output_type": "stream",
     "text": [
      "153126\n",
      "/Users/gracer/Google Drive/HCP_graph/1200/datasets/HCP_PTN1200/graph_analysis/node_timeseries/3T_HCP1200_MSMAll_d100_ts2/153126.txt\n"
     ]
    },
    {
     "name": "stderr",
     "output_type": "stream",
     "text": [
      "11/12/2019 04:32:51 PM correlation matrix finished : /Users/gracer/Google Drive/HCP_graph/1200/test/153126_r_matrix.nii.gz \n",
      "11/12/2019 04:32:51 PM correlation matrix finished : /Users/gracer/Google Drive/HCP_graph/1200/test/153126_zr_matrix.nii.gz \n",
      "11/12/2019 04:32:51 PM correlation matrix finished : /Users/gracer/Google Drive/HCP_graph/1200/test/153126_mask_matrix.nii.gz \n",
      "11/12/2019 04:32:51 PM correlation matrix finished : /Users/gracer/Google Drive/HCP_graph/1200/test/153126_zr_matrix.csv \n",
      "11/12/2019 04:32:51 PM correlation matrix finished : /Users/gracer/Google Drive/HCP_graph/1200/test/153126_r_matrix.csv \n",
      "11/12/2019 04:32:51 PM starting correlation \n"
     ]
    },
    {
     "name": "stdout",
     "output_type": "stream",
     "text": [
      "153833\n",
      "/Users/gracer/Google Drive/HCP_graph/1200/datasets/HCP_PTN1200/graph_analysis/node_timeseries/3T_HCP1200_MSMAll_d100_ts2/153833.txt\n"
     ]
    },
    {
     "name": "stderr",
     "output_type": "stream",
     "text": [
      "11/12/2019 04:32:52 PM correlation matrix finished : /Users/gracer/Google Drive/HCP_graph/1200/test/153833_r_matrix.nii.gz \n",
      "11/12/2019 04:32:52 PM correlation matrix finished : /Users/gracer/Google Drive/HCP_graph/1200/test/153833_zr_matrix.nii.gz \n",
      "11/12/2019 04:32:52 PM correlation matrix finished : /Users/gracer/Google Drive/HCP_graph/1200/test/153833_mask_matrix.nii.gz \n",
      "11/12/2019 04:32:52 PM correlation matrix finished : /Users/gracer/Google Drive/HCP_graph/1200/test/153833_zr_matrix.csv \n",
      "11/12/2019 04:32:52 PM correlation matrix finished : /Users/gracer/Google Drive/HCP_graph/1200/test/153833_r_matrix.csv \n",
      "11/12/2019 04:32:52 PM starting correlation \n"
     ]
    },
    {
     "name": "stdout",
     "output_type": "stream",
     "text": [
      "154330\n",
      "/Users/gracer/Google Drive/HCP_graph/1200/datasets/HCP_PTN1200/graph_analysis/node_timeseries/3T_HCP1200_MSMAll_d100_ts2/154330.txt\n"
     ]
    },
    {
     "name": "stderr",
     "output_type": "stream",
     "text": [
      "11/12/2019 04:32:52 PM correlation matrix finished : /Users/gracer/Google Drive/HCP_graph/1200/test/154330_r_matrix.nii.gz \n",
      "11/12/2019 04:32:52 PM correlation matrix finished : /Users/gracer/Google Drive/HCP_graph/1200/test/154330_zr_matrix.nii.gz \n",
      "11/12/2019 04:32:52 PM correlation matrix finished : /Users/gracer/Google Drive/HCP_graph/1200/test/154330_mask_matrix.nii.gz \n",
      "11/12/2019 04:32:52 PM correlation matrix finished : /Users/gracer/Google Drive/HCP_graph/1200/test/154330_zr_matrix.csv \n",
      "11/12/2019 04:32:52 PM correlation matrix finished : /Users/gracer/Google Drive/HCP_graph/1200/test/154330_r_matrix.csv \n",
      "11/12/2019 04:32:52 PM starting correlation \n"
     ]
    },
    {
     "name": "stdout",
     "output_type": "stream",
     "text": [
      "155635\n",
      "/Users/gracer/Google Drive/HCP_graph/1200/datasets/HCP_PTN1200/graph_analysis/node_timeseries/3T_HCP1200_MSMAll_d100_ts2/155635.txt\n"
     ]
    },
    {
     "name": "stderr",
     "output_type": "stream",
     "text": [
      "11/12/2019 04:32:53 PM correlation matrix finished : /Users/gracer/Google Drive/HCP_graph/1200/test/155635_r_matrix.nii.gz \n",
      "11/12/2019 04:32:53 PM correlation matrix finished : /Users/gracer/Google Drive/HCP_graph/1200/test/155635_zr_matrix.nii.gz \n",
      "11/12/2019 04:32:53 PM correlation matrix finished : /Users/gracer/Google Drive/HCP_graph/1200/test/155635_mask_matrix.nii.gz \n",
      "11/12/2019 04:32:53 PM correlation matrix finished : /Users/gracer/Google Drive/HCP_graph/1200/test/155635_zr_matrix.csv \n",
      "11/12/2019 04:32:53 PM correlation matrix finished : /Users/gracer/Google Drive/HCP_graph/1200/test/155635_r_matrix.csv \n",
      "11/12/2019 04:32:53 PM starting correlation \n"
     ]
    },
    {
     "name": "stdout",
     "output_type": "stream",
     "text": [
      "156031\n",
      "/Users/gracer/Google Drive/HCP_graph/1200/datasets/HCP_PTN1200/graph_analysis/node_timeseries/3T_HCP1200_MSMAll_d100_ts2/156031.txt\n"
     ]
    },
    {
     "name": "stderr",
     "output_type": "stream",
     "text": [
      "11/12/2019 04:32:54 PM correlation matrix finished : /Users/gracer/Google Drive/HCP_graph/1200/test/156031_r_matrix.nii.gz \n",
      "11/12/2019 04:32:54 PM correlation matrix finished : /Users/gracer/Google Drive/HCP_graph/1200/test/156031_zr_matrix.nii.gz \n",
      "11/12/2019 04:32:54 PM correlation matrix finished : /Users/gracer/Google Drive/HCP_graph/1200/test/156031_mask_matrix.nii.gz \n",
      "11/12/2019 04:32:54 PM correlation matrix finished : /Users/gracer/Google Drive/HCP_graph/1200/test/156031_zr_matrix.csv \n",
      "11/12/2019 04:32:54 PM correlation matrix finished : /Users/gracer/Google Drive/HCP_graph/1200/test/156031_r_matrix.csv \n",
      "11/12/2019 04:32:54 PM starting correlation \n"
     ]
    },
    {
     "name": "stdout",
     "output_type": "stream",
     "text": [
      "156637\n",
      "/Users/gracer/Google Drive/HCP_graph/1200/datasets/HCP_PTN1200/graph_analysis/node_timeseries/3T_HCP1200_MSMAll_d100_ts2/156637.txt\n"
     ]
    },
    {
     "name": "stderr",
     "output_type": "stream",
     "text": [
      "11/12/2019 04:32:54 PM correlation matrix finished : /Users/gracer/Google Drive/HCP_graph/1200/test/156637_r_matrix.nii.gz \n",
      "11/12/2019 04:32:54 PM correlation matrix finished : /Users/gracer/Google Drive/HCP_graph/1200/test/156637_zr_matrix.nii.gz \n",
      "11/12/2019 04:32:54 PM correlation matrix finished : /Users/gracer/Google Drive/HCP_graph/1200/test/156637_mask_matrix.nii.gz \n",
      "11/12/2019 04:32:54 PM correlation matrix finished : /Users/gracer/Google Drive/HCP_graph/1200/test/156637_zr_matrix.csv \n",
      "11/12/2019 04:32:54 PM correlation matrix finished : /Users/gracer/Google Drive/HCP_graph/1200/test/156637_r_matrix.csv \n",
      "11/12/2019 04:32:54 PM starting correlation \n"
     ]
    },
    {
     "name": "stdout",
     "output_type": "stream",
     "text": [
      "161630\n",
      "/Users/gracer/Google Drive/HCP_graph/1200/datasets/HCP_PTN1200/graph_analysis/node_timeseries/3T_HCP1200_MSMAll_d100_ts2/161630.txt\n"
     ]
    },
    {
     "name": "stderr",
     "output_type": "stream",
     "text": [
      "11/12/2019 04:32:55 PM correlation matrix finished : /Users/gracer/Google Drive/HCP_graph/1200/test/161630_r_matrix.nii.gz \n",
      "11/12/2019 04:32:55 PM correlation matrix finished : /Users/gracer/Google Drive/HCP_graph/1200/test/161630_zr_matrix.nii.gz \n",
      "11/12/2019 04:32:55 PM correlation matrix finished : /Users/gracer/Google Drive/HCP_graph/1200/test/161630_mask_matrix.nii.gz \n",
      "11/12/2019 04:32:55 PM correlation matrix finished : /Users/gracer/Google Drive/HCP_graph/1200/test/161630_zr_matrix.csv \n",
      "11/12/2019 04:32:55 PM correlation matrix finished : /Users/gracer/Google Drive/HCP_graph/1200/test/161630_r_matrix.csv \n",
      "11/12/2019 04:32:55 PM starting correlation \n"
     ]
    },
    {
     "name": "stdout",
     "output_type": "stream",
     "text": [
      "162329\n",
      "/Users/gracer/Google Drive/HCP_graph/1200/datasets/HCP_PTN1200/graph_analysis/node_timeseries/3T_HCP1200_MSMAll_d100_ts2/162329.txt\n"
     ]
    },
    {
     "name": "stderr",
     "output_type": "stream",
     "text": [
      "11/12/2019 04:32:55 PM correlation matrix finished : /Users/gracer/Google Drive/HCP_graph/1200/test/162329_r_matrix.nii.gz \n",
      "11/12/2019 04:32:55 PM correlation matrix finished : /Users/gracer/Google Drive/HCP_graph/1200/test/162329_zr_matrix.nii.gz \n",
      "11/12/2019 04:32:55 PM correlation matrix finished : /Users/gracer/Google Drive/HCP_graph/1200/test/162329_mask_matrix.nii.gz \n",
      "11/12/2019 04:32:55 PM correlation matrix finished : /Users/gracer/Google Drive/HCP_graph/1200/test/162329_zr_matrix.csv \n",
      "11/12/2019 04:32:55 PM correlation matrix finished : /Users/gracer/Google Drive/HCP_graph/1200/test/162329_r_matrix.csv \n",
      "11/12/2019 04:32:55 PM starting correlation \n"
     ]
    },
    {
     "name": "stdout",
     "output_type": "stream",
     "text": [
      "162733\n",
      "/Users/gracer/Google Drive/HCP_graph/1200/datasets/HCP_PTN1200/graph_analysis/node_timeseries/3T_HCP1200_MSMAll_d100_ts2/162733.txt\n"
     ]
    },
    {
     "name": "stderr",
     "output_type": "stream",
     "text": [
      "11/12/2019 04:32:56 PM correlation matrix finished : /Users/gracer/Google Drive/HCP_graph/1200/test/162733_r_matrix.nii.gz \n",
      "11/12/2019 04:32:56 PM correlation matrix finished : /Users/gracer/Google Drive/HCP_graph/1200/test/162733_zr_matrix.nii.gz \n",
      "11/12/2019 04:32:56 PM correlation matrix finished : /Users/gracer/Google Drive/HCP_graph/1200/test/162733_mask_matrix.nii.gz \n",
      "11/12/2019 04:32:56 PM correlation matrix finished : /Users/gracer/Google Drive/HCP_graph/1200/test/162733_zr_matrix.csv \n",
      "11/12/2019 04:32:56 PM correlation matrix finished : /Users/gracer/Google Drive/HCP_graph/1200/test/162733_r_matrix.csv \n",
      "11/12/2019 04:32:56 PM starting correlation \n"
     ]
    },
    {
     "name": "stdout",
     "output_type": "stream",
     "text": [
      "162834\n",
      "no 162834\n",
      "163331\n",
      "/Users/gracer/Google Drive/HCP_graph/1200/datasets/HCP_PTN1200/graph_analysis/node_timeseries/3T_HCP1200_MSMAll_d100_ts2/163331.txt\n"
     ]
    },
    {
     "name": "stderr",
     "output_type": "stream",
     "text": [
      "11/12/2019 04:32:57 PM correlation matrix finished : /Users/gracer/Google Drive/HCP_graph/1200/test/163331_r_matrix.nii.gz \n",
      "11/12/2019 04:32:57 PM correlation matrix finished : /Users/gracer/Google Drive/HCP_graph/1200/test/163331_zr_matrix.nii.gz \n",
      "11/12/2019 04:32:57 PM correlation matrix finished : /Users/gracer/Google Drive/HCP_graph/1200/test/163331_mask_matrix.nii.gz \n",
      "11/12/2019 04:32:57 PM correlation matrix finished : /Users/gracer/Google Drive/HCP_graph/1200/test/163331_zr_matrix.csv \n",
      "11/12/2019 04:32:57 PM correlation matrix finished : /Users/gracer/Google Drive/HCP_graph/1200/test/163331_r_matrix.csv \n",
      "11/12/2019 04:32:57 PM starting correlation \n"
     ]
    },
    {
     "name": "stdout",
     "output_type": "stream",
     "text": [
      "164939\n",
      "/Users/gracer/Google Drive/HCP_graph/1200/datasets/HCP_PTN1200/graph_analysis/node_timeseries/3T_HCP1200_MSMAll_d100_ts2/164939.txt\n"
     ]
    },
    {
     "name": "stderr",
     "output_type": "stream",
     "text": [
      "11/12/2019 04:32:57 PM correlation matrix finished : /Users/gracer/Google Drive/HCP_graph/1200/test/164939_r_matrix.nii.gz \n",
      "11/12/2019 04:32:57 PM correlation matrix finished : /Users/gracer/Google Drive/HCP_graph/1200/test/164939_zr_matrix.nii.gz \n",
      "11/12/2019 04:32:57 PM correlation matrix finished : /Users/gracer/Google Drive/HCP_graph/1200/test/164939_mask_matrix.nii.gz \n",
      "11/12/2019 04:32:57 PM correlation matrix finished : /Users/gracer/Google Drive/HCP_graph/1200/test/164939_zr_matrix.csv \n",
      "11/12/2019 04:32:57 PM correlation matrix finished : /Users/gracer/Google Drive/HCP_graph/1200/test/164939_r_matrix.csv \n",
      "11/12/2019 04:32:57 PM starting correlation \n"
     ]
    },
    {
     "name": "stdout",
     "output_type": "stream",
     "text": [
      "165234\n",
      "no 165234\n",
      "167743\n",
      "/Users/gracer/Google Drive/HCP_graph/1200/datasets/HCP_PTN1200/graph_analysis/node_timeseries/3T_HCP1200_MSMAll_d100_ts2/167743.txt\n"
     ]
    },
    {
     "name": "stderr",
     "output_type": "stream",
     "text": [
      "11/12/2019 04:32:58 PM correlation matrix finished : /Users/gracer/Google Drive/HCP_graph/1200/test/167743_r_matrix.nii.gz \n",
      "11/12/2019 04:32:58 PM correlation matrix finished : /Users/gracer/Google Drive/HCP_graph/1200/test/167743_zr_matrix.nii.gz \n",
      "11/12/2019 04:32:58 PM correlation matrix finished : /Users/gracer/Google Drive/HCP_graph/1200/test/167743_mask_matrix.nii.gz \n",
      "11/12/2019 04:32:58 PM correlation matrix finished : /Users/gracer/Google Drive/HCP_graph/1200/test/167743_zr_matrix.csv \n",
      "11/12/2019 04:32:58 PM correlation matrix finished : /Users/gracer/Google Drive/HCP_graph/1200/test/167743_r_matrix.csv \n",
      "11/12/2019 04:32:58 PM starting correlation \n"
     ]
    },
    {
     "name": "stdout",
     "output_type": "stream",
     "text": [
      "171431\n",
      "no 171431\n",
      "171532\n",
      "/Users/gracer/Google Drive/HCP_graph/1200/datasets/HCP_PTN1200/graph_analysis/node_timeseries/3T_HCP1200_MSMAll_d100_ts2/171532.txt\n"
     ]
    },
    {
     "name": "stderr",
     "output_type": "stream",
     "text": [
      "11/12/2019 04:32:58 PM correlation matrix finished : /Users/gracer/Google Drive/HCP_graph/1200/test/171532_r_matrix.nii.gz \n",
      "11/12/2019 04:32:58 PM correlation matrix finished : /Users/gracer/Google Drive/HCP_graph/1200/test/171532_zr_matrix.nii.gz \n",
      "11/12/2019 04:32:58 PM correlation matrix finished : /Users/gracer/Google Drive/HCP_graph/1200/test/171532_mask_matrix.nii.gz \n",
      "11/12/2019 04:32:58 PM correlation matrix finished : /Users/gracer/Google Drive/HCP_graph/1200/test/171532_zr_matrix.csv \n",
      "11/12/2019 04:32:58 PM correlation matrix finished : /Users/gracer/Google Drive/HCP_graph/1200/test/171532_r_matrix.csv \n",
      "11/12/2019 04:32:58 PM starting correlation \n"
     ]
    },
    {
     "name": "stdout",
     "output_type": "stream",
     "text": [
      "176239\n",
      "/Users/gracer/Google Drive/HCP_graph/1200/datasets/HCP_PTN1200/graph_analysis/node_timeseries/3T_HCP1200_MSMAll_d100_ts2/176239.txt\n"
     ]
    },
    {
     "name": "stderr",
     "output_type": "stream",
     "text": [
      "11/12/2019 04:32:59 PM correlation matrix finished : /Users/gracer/Google Drive/HCP_graph/1200/test/176239_r_matrix.nii.gz \n",
      "11/12/2019 04:32:59 PM correlation matrix finished : /Users/gracer/Google Drive/HCP_graph/1200/test/176239_zr_matrix.nii.gz \n",
      "11/12/2019 04:32:59 PM correlation matrix finished : /Users/gracer/Google Drive/HCP_graph/1200/test/176239_mask_matrix.nii.gz \n",
      "11/12/2019 04:32:59 PM correlation matrix finished : /Users/gracer/Google Drive/HCP_graph/1200/test/176239_zr_matrix.csv \n",
      "11/12/2019 04:32:59 PM correlation matrix finished : /Users/gracer/Google Drive/HCP_graph/1200/test/176239_r_matrix.csv \n",
      "11/12/2019 04:32:59 PM starting correlation \n"
     ]
    },
    {
     "name": "stdout",
     "output_type": "stream",
     "text": [
      "179245\n",
      "/Users/gracer/Google Drive/HCP_graph/1200/datasets/HCP_PTN1200/graph_analysis/node_timeseries/3T_HCP1200_MSMAll_d100_ts2/179245.txt\n"
     ]
    },
    {
     "name": "stderr",
     "output_type": "stream",
     "text": [
      "11/12/2019 04:33:00 PM correlation matrix finished : /Users/gracer/Google Drive/HCP_graph/1200/test/179245_r_matrix.nii.gz \n",
      "11/12/2019 04:33:00 PM correlation matrix finished : /Users/gracer/Google Drive/HCP_graph/1200/test/179245_zr_matrix.nii.gz \n",
      "11/12/2019 04:33:00 PM correlation matrix finished : /Users/gracer/Google Drive/HCP_graph/1200/test/179245_mask_matrix.nii.gz \n",
      "11/12/2019 04:33:00 PM correlation matrix finished : /Users/gracer/Google Drive/HCP_graph/1200/test/179245_zr_matrix.csv \n",
      "11/12/2019 04:33:00 PM correlation matrix finished : /Users/gracer/Google Drive/HCP_graph/1200/test/179245_r_matrix.csv \n",
      "11/12/2019 04:33:00 PM starting correlation \n"
     ]
    },
    {
     "name": "stdout",
     "output_type": "stream",
     "text": [
      "180129\n",
      "/Users/gracer/Google Drive/HCP_graph/1200/datasets/HCP_PTN1200/graph_analysis/node_timeseries/3T_HCP1200_MSMAll_d100_ts2/180129.txt\n"
     ]
    },
    {
     "name": "stderr",
     "output_type": "stream",
     "text": [
      "11/12/2019 04:33:00 PM correlation matrix finished : /Users/gracer/Google Drive/HCP_graph/1200/test/180129_r_matrix.nii.gz \n",
      "11/12/2019 04:33:00 PM correlation matrix finished : /Users/gracer/Google Drive/HCP_graph/1200/test/180129_zr_matrix.nii.gz \n",
      "11/12/2019 04:33:00 PM correlation matrix finished : /Users/gracer/Google Drive/HCP_graph/1200/test/180129_mask_matrix.nii.gz \n",
      "11/12/2019 04:33:00 PM correlation matrix finished : /Users/gracer/Google Drive/HCP_graph/1200/test/180129_zr_matrix.csv \n",
      "11/12/2019 04:33:00 PM correlation matrix finished : /Users/gracer/Google Drive/HCP_graph/1200/test/180129_r_matrix.csv \n",
      "11/12/2019 04:33:00 PM starting correlation \n"
     ]
    },
    {
     "name": "stdout",
     "output_type": "stream",
     "text": [
      "183741\n",
      "no 183741\n",
      "187143\n",
      "/Users/gracer/Google Drive/HCP_graph/1200/datasets/HCP_PTN1200/graph_analysis/node_timeseries/3T_HCP1200_MSMAll_d100_ts2/187143.txt\n"
     ]
    },
    {
     "name": "stderr",
     "output_type": "stream",
     "text": [
      "11/12/2019 04:33:01 PM correlation matrix finished : /Users/gracer/Google Drive/HCP_graph/1200/test/187143_r_matrix.nii.gz \n",
      "11/12/2019 04:33:01 PM correlation matrix finished : /Users/gracer/Google Drive/HCP_graph/1200/test/187143_zr_matrix.nii.gz \n",
      "11/12/2019 04:33:01 PM correlation matrix finished : /Users/gracer/Google Drive/HCP_graph/1200/test/187143_mask_matrix.nii.gz \n",
      "11/12/2019 04:33:01 PM correlation matrix finished : /Users/gracer/Google Drive/HCP_graph/1200/test/187143_zr_matrix.csv \n",
      "11/12/2019 04:33:01 PM correlation matrix finished : /Users/gracer/Google Drive/HCP_graph/1200/test/187143_r_matrix.csv \n",
      "11/12/2019 04:33:01 PM starting correlation \n"
     ]
    },
    {
     "name": "stdout",
     "output_type": "stream",
     "text": [
      "197449\n",
      "no 197449\n",
      "197550\n",
      "/Users/gracer/Google Drive/HCP_graph/1200/datasets/HCP_PTN1200/graph_analysis/node_timeseries/3T_HCP1200_MSMAll_d100_ts2/197550.txt\n"
     ]
    },
    {
     "name": "stderr",
     "output_type": "stream",
     "text": [
      "11/12/2019 04:33:01 PM correlation matrix finished : /Users/gracer/Google Drive/HCP_graph/1200/test/197550_r_matrix.nii.gz \n",
      "11/12/2019 04:33:01 PM correlation matrix finished : /Users/gracer/Google Drive/HCP_graph/1200/test/197550_zr_matrix.nii.gz \n",
      "11/12/2019 04:33:01 PM correlation matrix finished : /Users/gracer/Google Drive/HCP_graph/1200/test/197550_mask_matrix.nii.gz \n",
      "11/12/2019 04:33:01 PM correlation matrix finished : /Users/gracer/Google Drive/HCP_graph/1200/test/197550_zr_matrix.csv \n",
      "11/12/2019 04:33:01 PM correlation matrix finished : /Users/gracer/Google Drive/HCP_graph/1200/test/197550_r_matrix.csv \n",
      "11/12/2019 04:33:01 PM starting correlation \n"
     ]
    },
    {
     "name": "stdout",
     "output_type": "stream",
     "text": [
      "197954\n",
      "no 197954\n",
      "204117\n",
      "no 204117\n",
      "206727\n",
      "/Users/gracer/Google Drive/HCP_graph/1200/datasets/HCP_PTN1200/graph_analysis/node_timeseries/3T_HCP1200_MSMAll_d100_ts2/206727.txt\n"
     ]
    },
    {
     "name": "stderr",
     "output_type": "stream",
     "text": [
      "11/12/2019 04:33:02 PM correlation matrix finished : /Users/gracer/Google Drive/HCP_graph/1200/test/206727_r_matrix.nii.gz \n",
      "11/12/2019 04:33:02 PM correlation matrix finished : /Users/gracer/Google Drive/HCP_graph/1200/test/206727_zr_matrix.nii.gz \n",
      "11/12/2019 04:33:02 PM correlation matrix finished : /Users/gracer/Google Drive/HCP_graph/1200/test/206727_mask_matrix.nii.gz \n",
      "11/12/2019 04:33:02 PM correlation matrix finished : /Users/gracer/Google Drive/HCP_graph/1200/test/206727_zr_matrix.csv \n",
      "11/12/2019 04:33:02 PM correlation matrix finished : /Users/gracer/Google Drive/HCP_graph/1200/test/206727_r_matrix.csv \n",
      "11/12/2019 04:33:02 PM starting correlation \n"
     ]
    },
    {
     "name": "stdout",
     "output_type": "stream",
     "text": [
      "206828\n",
      "/Users/gracer/Google Drive/HCP_graph/1200/datasets/HCP_PTN1200/graph_analysis/node_timeseries/3T_HCP1200_MSMAll_d100_ts2/206828.txt\n"
     ]
    },
    {
     "name": "stderr",
     "output_type": "stream",
     "text": [
      "11/12/2019 04:33:02 PM correlation matrix finished : /Users/gracer/Google Drive/HCP_graph/1200/test/206828_r_matrix.nii.gz \n",
      "11/12/2019 04:33:02 PM correlation matrix finished : /Users/gracer/Google Drive/HCP_graph/1200/test/206828_zr_matrix.nii.gz \n",
      "11/12/2019 04:33:02 PM correlation matrix finished : /Users/gracer/Google Drive/HCP_graph/1200/test/206828_mask_matrix.nii.gz \n",
      "11/12/2019 04:33:02 PM correlation matrix finished : /Users/gracer/Google Drive/HCP_graph/1200/test/206828_zr_matrix.csv \n",
      "11/12/2019 04:33:02 PM correlation matrix finished : /Users/gracer/Google Drive/HCP_graph/1200/test/206828_r_matrix.csv \n",
      "11/12/2019 04:33:02 PM starting correlation \n"
     ]
    },
    {
     "name": "stdout",
     "output_type": "stream",
     "text": [
      "209127\n",
      "/Users/gracer/Google Drive/HCP_graph/1200/datasets/HCP_PTN1200/graph_analysis/node_timeseries/3T_HCP1200_MSMAll_d100_ts2/209127.txt\n"
     ]
    },
    {
     "name": "stderr",
     "output_type": "stream",
     "text": [
      "11/12/2019 04:33:03 PM correlation matrix finished : /Users/gracer/Google Drive/HCP_graph/1200/test/209127_r_matrix.nii.gz \n",
      "11/12/2019 04:33:03 PM correlation matrix finished : /Users/gracer/Google Drive/HCP_graph/1200/test/209127_zr_matrix.nii.gz \n",
      "11/12/2019 04:33:03 PM correlation matrix finished : /Users/gracer/Google Drive/HCP_graph/1200/test/209127_mask_matrix.nii.gz \n",
      "11/12/2019 04:33:03 PM correlation matrix finished : /Users/gracer/Google Drive/HCP_graph/1200/test/209127_zr_matrix.csv \n",
      "11/12/2019 04:33:03 PM correlation matrix finished : /Users/gracer/Google Drive/HCP_graph/1200/test/209127_r_matrix.csv \n",
      "11/12/2019 04:33:03 PM starting correlation \n"
     ]
    },
    {
     "name": "stdout",
     "output_type": "stream",
     "text": [
      "210415\n",
      "/Users/gracer/Google Drive/HCP_graph/1200/datasets/HCP_PTN1200/graph_analysis/node_timeseries/3T_HCP1200_MSMAll_d100_ts2/210415.txt\n"
     ]
    },
    {
     "name": "stderr",
     "output_type": "stream",
     "text": [
      "11/12/2019 04:33:04 PM correlation matrix finished : /Users/gracer/Google Drive/HCP_graph/1200/test/210415_r_matrix.nii.gz \n",
      "11/12/2019 04:33:04 PM correlation matrix finished : /Users/gracer/Google Drive/HCP_graph/1200/test/210415_zr_matrix.nii.gz \n",
      "11/12/2019 04:33:04 PM correlation matrix finished : /Users/gracer/Google Drive/HCP_graph/1200/test/210415_mask_matrix.nii.gz \n",
      "11/12/2019 04:33:04 PM correlation matrix finished : /Users/gracer/Google Drive/HCP_graph/1200/test/210415_zr_matrix.csv \n",
      "11/12/2019 04:33:04 PM correlation matrix finished : /Users/gracer/Google Drive/HCP_graph/1200/test/210415_r_matrix.csv \n",
      "11/12/2019 04:33:04 PM starting correlation \n"
     ]
    },
    {
     "name": "stdout",
     "output_type": "stream",
     "text": [
      "211114\n",
      "/Users/gracer/Google Drive/HCP_graph/1200/datasets/HCP_PTN1200/graph_analysis/node_timeseries/3T_HCP1200_MSMAll_d100_ts2/211114.txt\n"
     ]
    },
    {
     "name": "stderr",
     "output_type": "stream",
     "text": [
      "11/12/2019 04:33:04 PM correlation matrix finished : /Users/gracer/Google Drive/HCP_graph/1200/test/211114_r_matrix.nii.gz \n",
      "11/12/2019 04:33:04 PM correlation matrix finished : /Users/gracer/Google Drive/HCP_graph/1200/test/211114_zr_matrix.nii.gz \n",
      "11/12/2019 04:33:04 PM correlation matrix finished : /Users/gracer/Google Drive/HCP_graph/1200/test/211114_mask_matrix.nii.gz \n",
      "11/12/2019 04:33:04 PM correlation matrix finished : /Users/gracer/Google Drive/HCP_graph/1200/test/211114_zr_matrix.csv \n",
      "11/12/2019 04:33:04 PM correlation matrix finished : /Users/gracer/Google Drive/HCP_graph/1200/test/211114_r_matrix.csv \n",
      "11/12/2019 04:33:04 PM starting correlation \n"
     ]
    },
    {
     "name": "stdout",
     "output_type": "stream",
     "text": [
      "211518\n",
      "no 211518\n",
      "212318\n",
      "/Users/gracer/Google Drive/HCP_graph/1200/datasets/HCP_PTN1200/graph_analysis/node_timeseries/3T_HCP1200_MSMAll_d100_ts2/212318.txt\n"
     ]
    },
    {
     "name": "stderr",
     "output_type": "stream",
     "text": [
      "11/12/2019 04:33:05 PM correlation matrix finished : /Users/gracer/Google Drive/HCP_graph/1200/test/212318_r_matrix.nii.gz \n",
      "11/12/2019 04:33:05 PM correlation matrix finished : /Users/gracer/Google Drive/HCP_graph/1200/test/212318_zr_matrix.nii.gz \n",
      "11/12/2019 04:33:05 PM correlation matrix finished : /Users/gracer/Google Drive/HCP_graph/1200/test/212318_mask_matrix.nii.gz \n",
      "11/12/2019 04:33:05 PM correlation matrix finished : /Users/gracer/Google Drive/HCP_graph/1200/test/212318_zr_matrix.csv \n",
      "11/12/2019 04:33:05 PM correlation matrix finished : /Users/gracer/Google Drive/HCP_graph/1200/test/212318_r_matrix.csv \n",
      "11/12/2019 04:33:05 PM starting correlation \n"
     ]
    },
    {
     "name": "stdout",
     "output_type": "stream",
     "text": [
      "213017\n",
      "/Users/gracer/Google Drive/HCP_graph/1200/datasets/HCP_PTN1200/graph_analysis/node_timeseries/3T_HCP1200_MSMAll_d100_ts2/213017.txt\n"
     ]
    },
    {
     "name": "stderr",
     "output_type": "stream",
     "text": [
      "11/12/2019 04:33:05 PM correlation matrix finished : /Users/gracer/Google Drive/HCP_graph/1200/test/213017_r_matrix.nii.gz \n",
      "11/12/2019 04:33:05 PM correlation matrix finished : /Users/gracer/Google Drive/HCP_graph/1200/test/213017_zr_matrix.nii.gz \n",
      "11/12/2019 04:33:05 PM correlation matrix finished : /Users/gracer/Google Drive/HCP_graph/1200/test/213017_mask_matrix.nii.gz \n",
      "11/12/2019 04:33:05 PM correlation matrix finished : /Users/gracer/Google Drive/HCP_graph/1200/test/213017_zr_matrix.csv \n",
      "11/12/2019 04:33:05 PM correlation matrix finished : /Users/gracer/Google Drive/HCP_graph/1200/test/213017_r_matrix.csv \n",
      "11/12/2019 04:33:05 PM starting correlation \n"
     ]
    },
    {
     "name": "stdout",
     "output_type": "stream",
     "text": [
      "213421\n",
      "/Users/gracer/Google Drive/HCP_graph/1200/datasets/HCP_PTN1200/graph_analysis/node_timeseries/3T_HCP1200_MSMAll_d100_ts2/213421.txt\n"
     ]
    },
    {
     "name": "stderr",
     "output_type": "stream",
     "text": [
      "11/12/2019 04:33:06 PM correlation matrix finished : /Users/gracer/Google Drive/HCP_graph/1200/test/213421_r_matrix.nii.gz \n",
      "11/12/2019 04:33:06 PM correlation matrix finished : /Users/gracer/Google Drive/HCP_graph/1200/test/213421_zr_matrix.nii.gz \n",
      "11/12/2019 04:33:06 PM correlation matrix finished : /Users/gracer/Google Drive/HCP_graph/1200/test/213421_mask_matrix.nii.gz \n",
      "11/12/2019 04:33:06 PM correlation matrix finished : /Users/gracer/Google Drive/HCP_graph/1200/test/213421_zr_matrix.csv \n",
      "11/12/2019 04:33:06 PM correlation matrix finished : /Users/gracer/Google Drive/HCP_graph/1200/test/213421_r_matrix.csv \n",
      "11/12/2019 04:33:06 PM starting correlation \n"
     ]
    },
    {
     "name": "stdout",
     "output_type": "stream",
     "text": [
      "275645\n",
      "/Users/gracer/Google Drive/HCP_graph/1200/datasets/HCP_PTN1200/graph_analysis/node_timeseries/3T_HCP1200_MSMAll_d100_ts2/275645.txt\n"
     ]
    },
    {
     "name": "stderr",
     "output_type": "stream",
     "text": [
      "11/12/2019 04:33:07 PM correlation matrix finished : /Users/gracer/Google Drive/HCP_graph/1200/test/275645_r_matrix.nii.gz \n",
      "11/12/2019 04:33:07 PM correlation matrix finished : /Users/gracer/Google Drive/HCP_graph/1200/test/275645_zr_matrix.nii.gz \n",
      "11/12/2019 04:33:07 PM correlation matrix finished : /Users/gracer/Google Drive/HCP_graph/1200/test/275645_mask_matrix.nii.gz \n",
      "11/12/2019 04:33:07 PM correlation matrix finished : /Users/gracer/Google Drive/HCP_graph/1200/test/275645_zr_matrix.csv \n",
      "11/12/2019 04:33:07 PM correlation matrix finished : /Users/gracer/Google Drive/HCP_graph/1200/test/275645_r_matrix.csv \n",
      "11/12/2019 04:33:07 PM starting correlation \n"
     ]
    },
    {
     "name": "stdout",
     "output_type": "stream",
     "text": [
      "286650\n",
      "/Users/gracer/Google Drive/HCP_graph/1200/datasets/HCP_PTN1200/graph_analysis/node_timeseries/3T_HCP1200_MSMAll_d100_ts2/286650.txt\n"
     ]
    },
    {
     "name": "stderr",
     "output_type": "stream",
     "text": [
      "11/12/2019 04:33:07 PM correlation matrix finished : /Users/gracer/Google Drive/HCP_graph/1200/test/286650_r_matrix.nii.gz \n",
      "11/12/2019 04:33:07 PM correlation matrix finished : /Users/gracer/Google Drive/HCP_graph/1200/test/286650_zr_matrix.nii.gz \n",
      "11/12/2019 04:33:07 PM correlation matrix finished : /Users/gracer/Google Drive/HCP_graph/1200/test/286650_mask_matrix.nii.gz \n",
      "11/12/2019 04:33:07 PM correlation matrix finished : /Users/gracer/Google Drive/HCP_graph/1200/test/286650_zr_matrix.csv \n",
      "11/12/2019 04:33:07 PM correlation matrix finished : /Users/gracer/Google Drive/HCP_graph/1200/test/286650_r_matrix.csv \n",
      "11/12/2019 04:33:07 PM starting correlation \n"
     ]
    },
    {
     "name": "stdout",
     "output_type": "stream",
     "text": [
      "298051\n",
      "/Users/gracer/Google Drive/HCP_graph/1200/datasets/HCP_PTN1200/graph_analysis/node_timeseries/3T_HCP1200_MSMAll_d100_ts2/298051.txt\n"
     ]
    },
    {
     "name": "stderr",
     "output_type": "stream",
     "text": [
      "11/12/2019 04:33:08 PM correlation matrix finished : /Users/gracer/Google Drive/HCP_graph/1200/test/298051_r_matrix.nii.gz \n",
      "11/12/2019 04:33:08 PM correlation matrix finished : /Users/gracer/Google Drive/HCP_graph/1200/test/298051_zr_matrix.nii.gz \n",
      "11/12/2019 04:33:08 PM correlation matrix finished : /Users/gracer/Google Drive/HCP_graph/1200/test/298051_mask_matrix.nii.gz \n",
      "11/12/2019 04:33:08 PM correlation matrix finished : /Users/gracer/Google Drive/HCP_graph/1200/test/298051_zr_matrix.csv \n",
      "11/12/2019 04:33:08 PM correlation matrix finished : /Users/gracer/Google Drive/HCP_graph/1200/test/298051_r_matrix.csv \n",
      "11/12/2019 04:33:08 PM starting correlation \n"
     ]
    },
    {
     "name": "stdout",
     "output_type": "stream",
     "text": [
      "304020\n",
      "/Users/gracer/Google Drive/HCP_graph/1200/datasets/HCP_PTN1200/graph_analysis/node_timeseries/3T_HCP1200_MSMAll_d100_ts2/304020.txt\n"
     ]
    },
    {
     "name": "stderr",
     "output_type": "stream",
     "text": [
      "11/12/2019 04:33:09 PM correlation matrix finished : /Users/gracer/Google Drive/HCP_graph/1200/test/304020_r_matrix.nii.gz \n",
      "11/12/2019 04:33:09 PM correlation matrix finished : /Users/gracer/Google Drive/HCP_graph/1200/test/304020_zr_matrix.nii.gz \n",
      "11/12/2019 04:33:09 PM correlation matrix finished : /Users/gracer/Google Drive/HCP_graph/1200/test/304020_mask_matrix.nii.gz \n",
      "11/12/2019 04:33:09 PM correlation matrix finished : /Users/gracer/Google Drive/HCP_graph/1200/test/304020_zr_matrix.csv \n",
      "11/12/2019 04:33:09 PM correlation matrix finished : /Users/gracer/Google Drive/HCP_graph/1200/test/304020_r_matrix.csv \n",
      "11/12/2019 04:33:09 PM starting correlation \n"
     ]
    },
    {
     "name": "stdout",
     "output_type": "stream",
     "text": [
      "311320\n",
      "/Users/gracer/Google Drive/HCP_graph/1200/datasets/HCP_PTN1200/graph_analysis/node_timeseries/3T_HCP1200_MSMAll_d100_ts2/311320.txt\n"
     ]
    },
    {
     "name": "stderr",
     "output_type": "stream",
     "text": [
      "11/12/2019 04:33:09 PM correlation matrix finished : /Users/gracer/Google Drive/HCP_graph/1200/test/311320_r_matrix.nii.gz \n",
      "11/12/2019 04:33:09 PM correlation matrix finished : /Users/gracer/Google Drive/HCP_graph/1200/test/311320_zr_matrix.nii.gz \n",
      "11/12/2019 04:33:09 PM correlation matrix finished : /Users/gracer/Google Drive/HCP_graph/1200/test/311320_mask_matrix.nii.gz \n",
      "11/12/2019 04:33:09 PM correlation matrix finished : /Users/gracer/Google Drive/HCP_graph/1200/test/311320_zr_matrix.csv \n",
      "11/12/2019 04:33:09 PM correlation matrix finished : /Users/gracer/Google Drive/HCP_graph/1200/test/311320_r_matrix.csv \n",
      "11/12/2019 04:33:09 PM starting correlation \n"
     ]
    },
    {
     "name": "stdout",
     "output_type": "stream",
     "text": [
      "346137\n",
      "/Users/gracer/Google Drive/HCP_graph/1200/datasets/HCP_PTN1200/graph_analysis/node_timeseries/3T_HCP1200_MSMAll_d100_ts2/346137.txt\n"
     ]
    },
    {
     "name": "stderr",
     "output_type": "stream",
     "text": [
      "11/12/2019 04:33:10 PM correlation matrix finished : /Users/gracer/Google Drive/HCP_graph/1200/test/346137_r_matrix.nii.gz \n",
      "11/12/2019 04:33:10 PM correlation matrix finished : /Users/gracer/Google Drive/HCP_graph/1200/test/346137_zr_matrix.nii.gz \n",
      "11/12/2019 04:33:10 PM correlation matrix finished : /Users/gracer/Google Drive/HCP_graph/1200/test/346137_mask_matrix.nii.gz \n",
      "11/12/2019 04:33:10 PM correlation matrix finished : /Users/gracer/Google Drive/HCP_graph/1200/test/346137_zr_matrix.csv \n",
      "11/12/2019 04:33:10 PM correlation matrix finished : /Users/gracer/Google Drive/HCP_graph/1200/test/346137_r_matrix.csv \n",
      "11/12/2019 04:33:10 PM starting correlation \n"
     ]
    },
    {
     "name": "stdout",
     "output_type": "stream",
     "text": [
      "355542\n",
      "no 355542\n",
      "384448\n",
      "no 384448\n",
      "403628\n",
      "no 403628\n",
      "419239\n",
      "/Users/gracer/Google Drive/HCP_graph/1200/datasets/HCP_PTN1200/graph_analysis/node_timeseries/3T_HCP1200_MSMAll_d100_ts2/419239.txt\n"
     ]
    },
    {
     "name": "stderr",
     "output_type": "stream",
     "text": [
      "11/12/2019 04:33:11 PM correlation matrix finished : /Users/gracer/Google Drive/HCP_graph/1200/test/419239_r_matrix.nii.gz \n",
      "11/12/2019 04:33:11 PM correlation matrix finished : /Users/gracer/Google Drive/HCP_graph/1200/test/419239_zr_matrix.nii.gz \n",
      "11/12/2019 04:33:11 PM correlation matrix finished : /Users/gracer/Google Drive/HCP_graph/1200/test/419239_mask_matrix.nii.gz \n",
      "11/12/2019 04:33:11 PM correlation matrix finished : /Users/gracer/Google Drive/HCP_graph/1200/test/419239_zr_matrix.csv \n",
      "11/12/2019 04:33:11 PM correlation matrix finished : /Users/gracer/Google Drive/HCP_graph/1200/test/419239_r_matrix.csv \n",
      "11/12/2019 04:33:11 PM starting correlation \n"
     ]
    },
    {
     "name": "stdout",
     "output_type": "stream",
     "text": [
      "435136\n",
      "no 435136\n",
      "456346\n",
      "/Users/gracer/Google Drive/HCP_graph/1200/datasets/HCP_PTN1200/graph_analysis/node_timeseries/3T_HCP1200_MSMAll_d100_ts2/456346.txt\n"
     ]
    },
    {
     "name": "stderr",
     "output_type": "stream",
     "text": [
      "11/12/2019 04:33:11 PM correlation matrix finished : /Users/gracer/Google Drive/HCP_graph/1200/test/456346_r_matrix.nii.gz \n",
      "11/12/2019 04:33:11 PM correlation matrix finished : /Users/gracer/Google Drive/HCP_graph/1200/test/456346_zr_matrix.nii.gz \n",
      "11/12/2019 04:33:11 PM correlation matrix finished : /Users/gracer/Google Drive/HCP_graph/1200/test/456346_mask_matrix.nii.gz \n",
      "11/12/2019 04:33:11 PM correlation matrix finished : /Users/gracer/Google Drive/HCP_graph/1200/test/456346_zr_matrix.csv \n",
      "11/12/2019 04:33:11 PM correlation matrix finished : /Users/gracer/Google Drive/HCP_graph/1200/test/456346_r_matrix.csv \n",
      "11/12/2019 04:33:11 PM starting correlation \n"
     ]
    },
    {
     "name": "stdout",
     "output_type": "stream",
     "text": [
      "481143\n",
      "no 481143\n",
      "485757\n",
      "/Users/gracer/Google Drive/HCP_graph/1200/datasets/HCP_PTN1200/graph_analysis/node_timeseries/3T_HCP1200_MSMAll_d100_ts2/485757.txt\n"
     ]
    },
    {
     "name": "stderr",
     "output_type": "stream",
     "text": [
      "11/12/2019 04:33:12 PM correlation matrix finished : /Users/gracer/Google Drive/HCP_graph/1200/test/485757_r_matrix.nii.gz \n",
      "11/12/2019 04:33:12 PM correlation matrix finished : /Users/gracer/Google Drive/HCP_graph/1200/test/485757_zr_matrix.nii.gz \n",
      "11/12/2019 04:33:12 PM correlation matrix finished : /Users/gracer/Google Drive/HCP_graph/1200/test/485757_mask_matrix.nii.gz \n",
      "11/12/2019 04:33:12 PM correlation matrix finished : /Users/gracer/Google Drive/HCP_graph/1200/test/485757_zr_matrix.csv \n",
      "11/12/2019 04:33:12 PM correlation matrix finished : /Users/gracer/Google Drive/HCP_graph/1200/test/485757_r_matrix.csv \n",
      "11/12/2019 04:33:12 PM starting correlation \n"
     ]
    },
    {
     "name": "stdout",
     "output_type": "stream",
     "text": [
      "497764\n",
      "no 497764\n",
      "518746\n",
      "/Users/gracer/Google Drive/HCP_graph/1200/datasets/HCP_PTN1200/graph_analysis/node_timeseries/3T_HCP1200_MSMAll_d100_ts2/518746.txt\n"
     ]
    },
    {
     "name": "stderr",
     "output_type": "stream",
     "text": [
      "11/12/2019 04:33:13 PM correlation matrix finished : /Users/gracer/Google Drive/HCP_graph/1200/test/518746_r_matrix.nii.gz \n",
      "11/12/2019 04:33:13 PM correlation matrix finished : /Users/gracer/Google Drive/HCP_graph/1200/test/518746_zr_matrix.nii.gz \n",
      "11/12/2019 04:33:13 PM correlation matrix finished : /Users/gracer/Google Drive/HCP_graph/1200/test/518746_mask_matrix.nii.gz \n",
      "11/12/2019 04:33:13 PM correlation matrix finished : /Users/gracer/Google Drive/HCP_graph/1200/test/518746_zr_matrix.csv \n",
      "11/12/2019 04:33:13 PM correlation matrix finished : /Users/gracer/Google Drive/HCP_graph/1200/test/518746_r_matrix.csv \n",
      "11/12/2019 04:33:13 PM starting correlation \n"
     ]
    },
    {
     "name": "stdout",
     "output_type": "stream",
     "text": [
      "550035\n",
      "no 550035\n",
      "569965\n",
      "no 569965\n",
      "574958\n",
      "no 574958\n",
      "576255\n",
      "/Users/gracer/Google Drive/HCP_graph/1200/datasets/HCP_PTN1200/graph_analysis/node_timeseries/3T_HCP1200_MSMAll_d100_ts2/576255.txt\n"
     ]
    },
    {
     "name": "stderr",
     "output_type": "stream",
     "text": [
      "11/12/2019 04:33:13 PM correlation matrix finished : /Users/gracer/Google Drive/HCP_graph/1200/test/576255_r_matrix.nii.gz \n",
      "11/12/2019 04:33:13 PM correlation matrix finished : /Users/gracer/Google Drive/HCP_graph/1200/test/576255_zr_matrix.nii.gz \n",
      "11/12/2019 04:33:13 PM correlation matrix finished : /Users/gracer/Google Drive/HCP_graph/1200/test/576255_mask_matrix.nii.gz \n",
      "11/12/2019 04:33:13 PM correlation matrix finished : /Users/gracer/Google Drive/HCP_graph/1200/test/576255_zr_matrix.csv \n",
      "11/12/2019 04:33:13 PM correlation matrix finished : /Users/gracer/Google Drive/HCP_graph/1200/test/576255_r_matrix.csv \n",
      "11/12/2019 04:33:13 PM starting correlation \n"
     ]
    },
    {
     "name": "stdout",
     "output_type": "stream",
     "text": [
      "584355\n",
      "no 584355\n",
      "589567\n",
      "/Users/gracer/Google Drive/HCP_graph/1200/datasets/HCP_PTN1200/graph_analysis/node_timeseries/3T_HCP1200_MSMAll_d100_ts2/589567.txt\n"
     ]
    },
    {
     "name": "stderr",
     "output_type": "stream",
     "text": [
      "11/12/2019 04:33:14 PM correlation matrix finished : /Users/gracer/Google Drive/HCP_graph/1200/test/589567_r_matrix.nii.gz \n",
      "11/12/2019 04:33:14 PM correlation matrix finished : /Users/gracer/Google Drive/HCP_graph/1200/test/589567_zr_matrix.nii.gz \n",
      "11/12/2019 04:33:14 PM correlation matrix finished : /Users/gracer/Google Drive/HCP_graph/1200/test/589567_mask_matrix.nii.gz \n",
      "11/12/2019 04:33:14 PM correlation matrix finished : /Users/gracer/Google Drive/HCP_graph/1200/test/589567_zr_matrix.csv \n",
      "11/12/2019 04:33:14 PM correlation matrix finished : /Users/gracer/Google Drive/HCP_graph/1200/test/589567_r_matrix.csv \n",
      "11/12/2019 04:33:14 PM starting correlation \n"
     ]
    },
    {
     "name": "stdout",
     "output_type": "stream",
     "text": [
      "592455\n",
      "/Users/gracer/Google Drive/HCP_graph/1200/datasets/HCP_PTN1200/graph_analysis/node_timeseries/3T_HCP1200_MSMAll_d100_ts2/592455.txt\n"
     ]
    },
    {
     "name": "stderr",
     "output_type": "stream",
     "text": [
      "11/12/2019 04:33:15 PM correlation matrix finished : /Users/gracer/Google Drive/HCP_graph/1200/test/592455_r_matrix.nii.gz \n",
      "11/12/2019 04:33:15 PM correlation matrix finished : /Users/gracer/Google Drive/HCP_graph/1200/test/592455_zr_matrix.nii.gz \n",
      "11/12/2019 04:33:15 PM correlation matrix finished : /Users/gracer/Google Drive/HCP_graph/1200/test/592455_mask_matrix.nii.gz \n",
      "11/12/2019 04:33:15 PM correlation matrix finished : /Users/gracer/Google Drive/HCP_graph/1200/test/592455_zr_matrix.csv \n",
      "11/12/2019 04:33:15 PM correlation matrix finished : /Users/gracer/Google Drive/HCP_graph/1200/test/592455_r_matrix.csv \n",
      "11/12/2019 04:33:15 PM starting correlation \n"
     ]
    },
    {
     "name": "stdout",
     "output_type": "stream",
     "text": [
      "609143\n",
      "/Users/gracer/Google Drive/HCP_graph/1200/datasets/HCP_PTN1200/graph_analysis/node_timeseries/3T_HCP1200_MSMAll_d100_ts2/609143.txt\n"
     ]
    },
    {
     "name": "stderr",
     "output_type": "stream",
     "text": [
      "11/12/2019 04:33:15 PM correlation matrix finished : /Users/gracer/Google Drive/HCP_graph/1200/test/609143_r_matrix.nii.gz \n",
      "11/12/2019 04:33:15 PM correlation matrix finished : /Users/gracer/Google Drive/HCP_graph/1200/test/609143_zr_matrix.nii.gz \n",
      "11/12/2019 04:33:15 PM correlation matrix finished : /Users/gracer/Google Drive/HCP_graph/1200/test/609143_mask_matrix.nii.gz \n",
      "11/12/2019 04:33:15 PM correlation matrix finished : /Users/gracer/Google Drive/HCP_graph/1200/test/609143_zr_matrix.csv \n",
      "11/12/2019 04:33:15 PM correlation matrix finished : /Users/gracer/Google Drive/HCP_graph/1200/test/609143_r_matrix.csv \n",
      "11/12/2019 04:33:15 PM starting correlation \n"
     ]
    },
    {
     "name": "stdout",
     "output_type": "stream",
     "text": [
      "611231\n",
      "no 611231\n",
      "672756\n",
      "/Users/gracer/Google Drive/HCP_graph/1200/datasets/HCP_PTN1200/graph_analysis/node_timeseries/3T_HCP1200_MSMAll_d100_ts2/672756.txt\n"
     ]
    },
    {
     "name": "stderr",
     "output_type": "stream",
     "text": [
      "11/12/2019 04:33:16 PM correlation matrix finished : /Users/gracer/Google Drive/HCP_graph/1200/test/672756_r_matrix.nii.gz \n",
      "11/12/2019 04:33:16 PM correlation matrix finished : /Users/gracer/Google Drive/HCP_graph/1200/test/672756_zr_matrix.nii.gz \n",
      "11/12/2019 04:33:16 PM correlation matrix finished : /Users/gracer/Google Drive/HCP_graph/1200/test/672756_mask_matrix.nii.gz \n",
      "11/12/2019 04:33:16 PM correlation matrix finished : /Users/gracer/Google Drive/HCP_graph/1200/test/672756_zr_matrix.csv \n",
      "11/12/2019 04:33:16 PM correlation matrix finished : /Users/gracer/Google Drive/HCP_graph/1200/test/672756_r_matrix.csv \n",
      "11/12/2019 04:33:16 PM starting correlation \n"
     ]
    },
    {
     "name": "stdout",
     "output_type": "stream",
     "text": [
      "700634\n",
      "/Users/gracer/Google Drive/HCP_graph/1200/datasets/HCP_PTN1200/graph_analysis/node_timeseries/3T_HCP1200_MSMAll_d100_ts2/700634.txt\n"
     ]
    },
    {
     "name": "stderr",
     "output_type": "stream",
     "text": [
      "11/12/2019 04:33:16 PM correlation matrix finished : /Users/gracer/Google Drive/HCP_graph/1200/test/700634_r_matrix.nii.gz \n",
      "11/12/2019 04:33:16 PM correlation matrix finished : /Users/gracer/Google Drive/HCP_graph/1200/test/700634_zr_matrix.nii.gz \n",
      "11/12/2019 04:33:16 PM correlation matrix finished : /Users/gracer/Google Drive/HCP_graph/1200/test/700634_mask_matrix.nii.gz \n",
      "11/12/2019 04:33:16 PM correlation matrix finished : /Users/gracer/Google Drive/HCP_graph/1200/test/700634_zr_matrix.csv \n",
      "11/12/2019 04:33:16 PM correlation matrix finished : /Users/gracer/Google Drive/HCP_graph/1200/test/700634_r_matrix.csv \n",
      "11/12/2019 04:33:16 PM starting correlation \n"
     ]
    },
    {
     "name": "stdout",
     "output_type": "stream",
     "text": [
      "748662\n",
      "/Users/gracer/Google Drive/HCP_graph/1200/datasets/HCP_PTN1200/graph_analysis/node_timeseries/3T_HCP1200_MSMAll_d100_ts2/748662.txt\n"
     ]
    },
    {
     "name": "stderr",
     "output_type": "stream",
     "text": [
      "11/12/2019 04:33:17 PM correlation matrix finished : /Users/gracer/Google Drive/HCP_graph/1200/test/748662_r_matrix.nii.gz \n",
      "11/12/2019 04:33:17 PM correlation matrix finished : /Users/gracer/Google Drive/HCP_graph/1200/test/748662_zr_matrix.nii.gz \n",
      "11/12/2019 04:33:17 PM correlation matrix finished : /Users/gracer/Google Drive/HCP_graph/1200/test/748662_mask_matrix.nii.gz \n",
      "11/12/2019 04:33:17 PM correlation matrix finished : /Users/gracer/Google Drive/HCP_graph/1200/test/748662_zr_matrix.csv \n",
      "11/12/2019 04:33:17 PM correlation matrix finished : /Users/gracer/Google Drive/HCP_graph/1200/test/748662_r_matrix.csv \n",
      "11/12/2019 04:33:17 PM starting correlation \n"
     ]
    },
    {
     "name": "stdout",
     "output_type": "stream",
     "text": [
      "753251\n",
      "/Users/gracer/Google Drive/HCP_graph/1200/datasets/HCP_PTN1200/graph_analysis/node_timeseries/3T_HCP1200_MSMAll_d100_ts2/753251.txt\n"
     ]
    },
    {
     "name": "stderr",
     "output_type": "stream",
     "text": [
      "11/12/2019 04:33:18 PM correlation matrix finished : /Users/gracer/Google Drive/HCP_graph/1200/test/753251_r_matrix.nii.gz \n",
      "11/12/2019 04:33:18 PM correlation matrix finished : /Users/gracer/Google Drive/HCP_graph/1200/test/753251_zr_matrix.nii.gz \n",
      "11/12/2019 04:33:18 PM correlation matrix finished : /Users/gracer/Google Drive/HCP_graph/1200/test/753251_mask_matrix.nii.gz \n",
      "11/12/2019 04:33:18 PM correlation matrix finished : /Users/gracer/Google Drive/HCP_graph/1200/test/753251_zr_matrix.csv \n",
      "11/12/2019 04:33:18 PM correlation matrix finished : /Users/gracer/Google Drive/HCP_graph/1200/test/753251_r_matrix.csv \n",
      "11/12/2019 04:33:18 PM starting correlation \n"
     ]
    },
    {
     "name": "stdout",
     "output_type": "stream",
     "text": [
      "810843\n",
      "/Users/gracer/Google Drive/HCP_graph/1200/datasets/HCP_PTN1200/graph_analysis/node_timeseries/3T_HCP1200_MSMAll_d100_ts2/810843.txt\n"
     ]
    },
    {
     "name": "stderr",
     "output_type": "stream",
     "text": [
      "11/12/2019 04:33:18 PM correlation matrix finished : /Users/gracer/Google Drive/HCP_graph/1200/test/810843_r_matrix.nii.gz \n",
      "11/12/2019 04:33:18 PM correlation matrix finished : /Users/gracer/Google Drive/HCP_graph/1200/test/810843_zr_matrix.nii.gz \n",
      "11/12/2019 04:33:18 PM correlation matrix finished : /Users/gracer/Google Drive/HCP_graph/1200/test/810843_mask_matrix.nii.gz \n",
      "11/12/2019 04:33:18 PM correlation matrix finished : /Users/gracer/Google Drive/HCP_graph/1200/test/810843_zr_matrix.csv \n",
      "11/12/2019 04:33:18 PM correlation matrix finished : /Users/gracer/Google Drive/HCP_graph/1200/test/810843_r_matrix.csv \n",
      "11/12/2019 04:33:18 PM starting correlation \n"
     ]
    },
    {
     "name": "stdout",
     "output_type": "stream",
     "text": [
      "818455\n",
      "/Users/gracer/Google Drive/HCP_graph/1200/datasets/HCP_PTN1200/graph_analysis/node_timeseries/3T_HCP1200_MSMAll_d100_ts2/818455.txt\n"
     ]
    },
    {
     "name": "stderr",
     "output_type": "stream",
     "text": [
      "11/12/2019 04:33:19 PM correlation matrix finished : /Users/gracer/Google Drive/HCP_graph/1200/test/818455_r_matrix.nii.gz \n",
      "11/12/2019 04:33:19 PM correlation matrix finished : /Users/gracer/Google Drive/HCP_graph/1200/test/818455_zr_matrix.nii.gz \n",
      "11/12/2019 04:33:19 PM correlation matrix finished : /Users/gracer/Google Drive/HCP_graph/1200/test/818455_mask_matrix.nii.gz \n",
      "11/12/2019 04:33:19 PM correlation matrix finished : /Users/gracer/Google Drive/HCP_graph/1200/test/818455_zr_matrix.csv \n",
      "11/12/2019 04:33:19 PM correlation matrix finished : /Users/gracer/Google Drive/HCP_graph/1200/test/818455_r_matrix.csv \n",
      "11/12/2019 04:33:19 PM starting correlation \n"
     ]
    },
    {
     "name": "stdout",
     "output_type": "stream",
     "text": [
      "889579\n",
      "/Users/gracer/Google Drive/HCP_graph/1200/datasets/HCP_PTN1200/graph_analysis/node_timeseries/3T_HCP1200_MSMAll_d100_ts2/889579.txt\n"
     ]
    },
    {
     "name": "stderr",
     "output_type": "stream",
     "text": [
      "11/12/2019 04:33:19 PM correlation matrix finished : /Users/gracer/Google Drive/HCP_graph/1200/test/889579_r_matrix.nii.gz \n",
      "11/12/2019 04:33:19 PM correlation matrix finished : /Users/gracer/Google Drive/HCP_graph/1200/test/889579_zr_matrix.nii.gz \n",
      "11/12/2019 04:33:19 PM correlation matrix finished : /Users/gracer/Google Drive/HCP_graph/1200/test/889579_mask_matrix.nii.gz \n",
      "11/12/2019 04:33:19 PM correlation matrix finished : /Users/gracer/Google Drive/HCP_graph/1200/test/889579_zr_matrix.csv \n",
      "11/12/2019 04:33:19 PM correlation matrix finished : /Users/gracer/Google Drive/HCP_graph/1200/test/889579_r_matrix.csv \n",
      "11/12/2019 04:33:19 PM starting correlation \n"
     ]
    },
    {
     "name": "stdout",
     "output_type": "stream",
     "text": [
      "894067\n",
      "/Users/gracer/Google Drive/HCP_graph/1200/datasets/HCP_PTN1200/graph_analysis/node_timeseries/3T_HCP1200_MSMAll_d100_ts2/894067.txt\n"
     ]
    },
    {
     "name": "stderr",
     "output_type": "stream",
     "text": [
      "11/12/2019 04:33:20 PM correlation matrix finished : /Users/gracer/Google Drive/HCP_graph/1200/test/894067_r_matrix.nii.gz \n",
      "11/12/2019 04:33:20 PM correlation matrix finished : /Users/gracer/Google Drive/HCP_graph/1200/test/894067_zr_matrix.nii.gz \n",
      "11/12/2019 04:33:20 PM correlation matrix finished : /Users/gracer/Google Drive/HCP_graph/1200/test/894067_mask_matrix.nii.gz \n",
      "11/12/2019 04:33:20 PM correlation matrix finished : /Users/gracer/Google Drive/HCP_graph/1200/test/894067_zr_matrix.csv \n",
      "11/12/2019 04:33:20 PM correlation matrix finished : /Users/gracer/Google Drive/HCP_graph/1200/test/894067_r_matrix.csv \n",
      "11/12/2019 04:33:20 PM starting correlation \n"
     ]
    },
    {
     "name": "stdout",
     "output_type": "stream",
     "text": [
      "894774\n",
      "/Users/gracer/Google Drive/HCP_graph/1200/datasets/HCP_PTN1200/graph_analysis/node_timeseries/3T_HCP1200_MSMAll_d100_ts2/894774.txt\n"
     ]
    },
    {
     "name": "stderr",
     "output_type": "stream",
     "text": [
      "11/12/2019 04:33:21 PM correlation matrix finished : /Users/gracer/Google Drive/HCP_graph/1200/test/894774_r_matrix.nii.gz \n",
      "11/12/2019 04:33:21 PM correlation matrix finished : /Users/gracer/Google Drive/HCP_graph/1200/test/894774_zr_matrix.nii.gz \n",
      "11/12/2019 04:33:21 PM correlation matrix finished : /Users/gracer/Google Drive/HCP_graph/1200/test/894774_mask_matrix.nii.gz \n",
      "11/12/2019 04:33:21 PM correlation matrix finished : /Users/gracer/Google Drive/HCP_graph/1200/test/894774_zr_matrix.csv \n",
      "11/12/2019 04:33:21 PM correlation matrix finished : /Users/gracer/Google Drive/HCP_graph/1200/test/894774_r_matrix.csv \n",
      "11/12/2019 04:33:21 PM starting correlation \n"
     ]
    },
    {
     "name": "stdout",
     "output_type": "stream",
     "text": [
      "915554\n",
      "no 915554\n",
      "937160\n",
      "/Users/gracer/Google Drive/HCP_graph/1200/datasets/HCP_PTN1200/graph_analysis/node_timeseries/3T_HCP1200_MSMAll_d100_ts2/937160.txt\n"
     ]
    },
    {
     "name": "stderr",
     "output_type": "stream",
     "text": [
      "11/12/2019 04:33:22 PM correlation matrix finished : /Users/gracer/Google Drive/HCP_graph/1200/test/937160_r_matrix.nii.gz \n",
      "11/12/2019 04:33:22 PM correlation matrix finished : /Users/gracer/Google Drive/HCP_graph/1200/test/937160_zr_matrix.nii.gz \n",
      "11/12/2019 04:33:22 PM correlation matrix finished : /Users/gracer/Google Drive/HCP_graph/1200/test/937160_mask_matrix.nii.gz \n",
      "11/12/2019 04:33:22 PM correlation matrix finished : /Users/gracer/Google Drive/HCP_graph/1200/test/937160_zr_matrix.csv \n",
      "11/12/2019 04:33:22 PM correlation matrix finished : /Users/gracer/Google Drive/HCP_graph/1200/test/937160_r_matrix.csv \n",
      "11/12/2019 04:33:22 PM starting correlation \n"
     ]
    },
    {
     "name": "stdout",
     "output_type": "stream",
     "text": [
      "940553\n",
      "no 940553\n",
      "947668\n",
      "/Users/gracer/Google Drive/HCP_graph/1200/datasets/HCP_PTN1200/graph_analysis/node_timeseries/3T_HCP1200_MSMAll_d100_ts2/947668.txt\n"
     ]
    },
    {
     "name": "stderr",
     "output_type": "stream",
     "text": [
      "11/12/2019 04:33:22 PM correlation matrix finished : /Users/gracer/Google Drive/HCP_graph/1200/test/947668_r_matrix.nii.gz \n",
      "11/12/2019 04:33:22 PM correlation matrix finished : /Users/gracer/Google Drive/HCP_graph/1200/test/947668_zr_matrix.nii.gz \n",
      "11/12/2019 04:33:22 PM correlation matrix finished : /Users/gracer/Google Drive/HCP_graph/1200/test/947668_mask_matrix.nii.gz \n",
      "11/12/2019 04:33:22 PM correlation matrix finished : /Users/gracer/Google Drive/HCP_graph/1200/test/947668_zr_matrix.csv \n",
      "11/12/2019 04:33:22 PM correlation matrix finished : /Users/gracer/Google Drive/HCP_graph/1200/test/947668_r_matrix.csv \n"
     ]
    }
   ],
   "source": [
    "for key, value in ovob_dict.items():\n",
    "    print(key)\n",
    "    for k, v in value.items():\n",
    "        print(k)\n",
    "        if os.path.exists(v):\n",
    "            corr_dict[key][k]=duke_corr(v)\n",
    "        else:\n",
    "            print('no %s'%k)\n",
    "            corr_dict['miss'][k]=v\n",
    "        "
   ]
  },
  {
   "cell_type": "code",
   "execution_count": 42,
   "metadata": {},
   "outputs": [
    {
     "data": {
      "text/plain": [
       "78"
      ]
     },
     "execution_count": 42,
     "metadata": {},
     "output_type": "execute_result"
    }
   ],
   "source": [
    "len(list(corr_dict['ob'].keys()))"
   ]
  },
  {
   "cell_type": "code",
   "execution_count": 43,
   "metadata": {},
   "outputs": [],
   "source": [
    "def make_graphs(list_o_data, direction, min_cor):\n",
    "    edge_dict={}\n",
    "    cor_dict={}\n",
    "    FC_dict={}\n",
    "    graph_dict={}\n",
    "    partition_dict={}\n",
    "    for key, values in list_o_data.items():\n",
    "            ########################################\n",
    "            edge_dict.setdefault(key, []).append(values)\n",
    "            ########################################\n",
    "            cor_matrix = np.asmatrix(values)\n",
    "            x=abs(cor_matrix)\n",
    "            mu=x.mean()\n",
    "            ########################################\n",
    "            cor_dict.setdefault(key, []).append(x)\n",
    "            ########################################\n",
    "            FC_dict.setdefault(key, []).append(mu)\n",
    "            ########################################\n",
    "            G = nx.from_numpy_matrix(cor_matrix)\n",
    "            #for i, nlrow in labels.iterrows():\n",
    "                #G.node[i].update(nlrow[0:].to_dict())\n",
    "            ########################################\n",
    "            graph_dict.setdefault(key, []).append(G)\n",
    "            ########################################\n",
    "            #partition = community.best_partition(create_corr_network_5(G, direction,min_cor))\n",
    "            ########################################\n",
    "            #partition_dict.setdefault(key, []).append(partition)\n",
    "            ########################################\n",
    "    return({'edges':edge_dict, 'correlations':cor_dict, 'mean_FC':FC_dict, 'graphs':graph_dict}) #'modules':partition_dict})"
   ]
  },
  {
   "cell_type": "code",
   "execution_count": 44,
   "metadata": {},
   "outputs": [
    {
     "name": "stdout",
     "output_type": "stream",
     "text": [
      "no\n",
      "ov\n",
      "ob\n",
      "miss\n",
      "skip\n"
     ]
    }
   ],
   "source": [
    "graphs={'no':{},'ov':{},'ob':{}}\n",
    "for key, value in corr_dict.items():\n",
    "    print(key)\n",
    "    if key == 'miss':\n",
    "        print('skip')\n",
    "    else:\n",
    "        graphs[key]=make_graphs(value, 'positive',0)"
   ]
  },
  {
   "cell_type": "code",
   "execution_count": 45,
   "metadata": {
    "scrolled": false
   },
   "outputs": [
    {
     "name": "stdout",
     "output_type": "stream",
     "text": [
      "this is no mean 0.128643\n",
      "this is no sd 0.022119\n",
      "this is ov mean 0.124296\n",
      "this is ov sd 0.020359\n",
      "this is ob mean 0.122282\n",
      "this is ob sd 0.019700\n"
     ]
    }
   ],
   "source": [
    "for key, value in graphs.items():  \n",
    "    o=[]\n",
    "    for k,v in value.items():\n",
    "        if k == 'mean_FC':\n",
    "            for i, j in v.items():\n",
    "                o.append(j[0])\n",
    "    print('this is %s mean %f'%(key,statistics.mean(o)))\n",
    "    print('this is %s sd %f'%(key,statistics.stdev(o)))"
   ]
  },
  {
   "cell_type": "markdown",
   "metadata": {},
   "source": [
    "If this value is low (<0.1) then you don't need to threshold the graph? "
   ]
  },
  {
   "cell_type": "code",
   "execution_count": 46,
   "metadata": {},
   "outputs": [],
   "source": [
    "#make the function to combine\n",
    "def make_total_graphs(dict_o_data):\n",
    "    mylist=[]\n",
    "    for key, val_list in dict_o_data.items():\n",
    "        for i in val_list:\n",
    "            cor_matrix = np.asarray(i)\n",
    "            mylist.append(cor_matrix)\n",
    "    x=np.stack(mylist, axis=2)\n",
    "    mu=np.median(x, axis=(2))\n",
    "    return(mu)"
   ]
  },
  {
   "cell_type": "code",
   "execution_count": 47,
   "metadata": {},
   "outputs": [
    {
     "name": "stdout",
     "output_type": "stream",
     "text": [
      "no\n",
      "dict_keys(['edges', 'correlations', 'mean_FC', 'graphs'])\n",
      "ov\n",
      "dict_keys(['edges', 'correlations', 'mean_FC', 'graphs'])\n",
      "ob\n",
      "dict_keys(['edges', 'correlations', 'mean_FC', 'graphs'])\n"
     ]
    }
   ],
   "source": [
    "total_graphs={'no':{}, 'ov':{},'ob':{}}\n",
    "for key, value in graphs.items():\n",
    "    print(key)\n",
    "    print(value.keys())\n",
    "    total_graphs[key]=make_total_graphs(value['correlations'])\n",
    "    "
   ]
  },
  {
   "cell_type": "code",
   "execution_count": 48,
   "metadata": {
    "scrolled": false
   },
   "outputs": [
    {
     "data": {
      "text/plain": [
       "array([[1.        , 0.08913704, 0.37471215, ..., 0.02521382, 0.03279483,\n",
       "        0.04459487],\n",
       "       [0.08913704, 1.        , 0.10879102, ..., 0.03347942, 0.03568274,\n",
       "        0.03360623],\n",
       "       [0.37471215, 0.10879102, 1.        , ..., 0.03913156, 0.05719495,\n",
       "        0.0504471 ],\n",
       "       ...,\n",
       "       [0.02521382, 0.03347942, 0.03913156, ..., 1.        , 0.04700598,\n",
       "        0.05547095],\n",
       "       [0.03279483, 0.03568274, 0.05719495, ..., 0.04700598, 1.        ,\n",
       "        0.06277449],\n",
       "       [0.04459487, 0.03360623, 0.0504471 , ..., 0.05547095, 0.06277449,\n",
       "        1.        ]])"
      ]
     },
     "execution_count": 48,
     "metadata": {},
     "output_type": "execute_result"
    }
   ],
   "source": [
    "total_graphs['no']"
   ]
  },
  {
   "cell_type": "code",
   "execution_count": 50,
   "metadata": {},
   "outputs": [],
   "source": [
    "def ges(mu):\n",
    "    G=nx.from_numpy_matrix(np.matrix(mu))\n",
    "    partition = community.best_partition(G)\n",
    "    vals = list(partition.values())\n",
    "    nx.set_node_attributes(G, partition, 'modules')\n",
    "    return((partition,vals, G))"
   ]
  },
  {
   "cell_type": "code",
   "execution_count": 51,
   "metadata": {},
   "outputs": [],
   "source": [
    "from sklearn.metrics.pairwise import euclidean_distances\n",
    "# distance between rows of X\n",
    "no_test=euclidean_distances(total_graphs['no'], total_graphs['no'])\n",
    "ov_test=euclidean_distances(total_graphs['ov'], total_graphs['ov'])\n",
    "ob_test=euclidean_distances(total_graphs['ob'], total_graphs['ob'])"
   ]
  },
  {
   "cell_type": "code",
   "execution_count": 52,
   "metadata": {},
   "outputs": [],
   "source": [
    "euNO = nx.from_numpy_matrix(np.matrix(no_test))"
   ]
  },
  {
   "cell_type": "code",
   "execution_count": 53,
   "metadata": {},
   "outputs": [
    {
     "data": {
      "text/plain": [
       "1.6325626661926587"
      ]
     },
     "execution_count": 53,
     "metadata": {},
     "output_type": "execute_result"
    }
   ],
   "source": [
    "no_test.mean()"
   ]
  },
  {
   "cell_type": "code",
   "execution_count": 54,
   "metadata": {},
   "outputs": [
    {
     "data": {
      "text/plain": [
       "1.626911695968336"
      ]
     },
     "execution_count": 54,
     "metadata": {},
     "output_type": "execute_result"
    }
   ],
   "source": [
    "ov_test.mean()"
   ]
  },
  {
   "cell_type": "code",
   "execution_count": 55,
   "metadata": {},
   "outputs": [
    {
     "data": {
      "text/plain": [
       "1.6200658099887362"
      ]
     },
     "execution_count": 55,
     "metadata": {},
     "output_type": "execute_result"
    }
   ],
   "source": [
    "ob_test.mean()"
   ]
  },
  {
   "cell_type": "code",
   "execution_count": 56,
   "metadata": {},
   "outputs": [],
   "source": [
    "graph_parts={'no':{},'ov':{}, 'ob':{}}\n",
    "for key, value in total_graphs.items():\n",
    "    [partion,vals, graph]=ges(value)\n",
    "    graph_parts[key]=[partion,vals, graph]"
   ]
  },
  {
   "cell_type": "code",
   "execution_count": 59,
   "metadata": {
    "collapsed": true
   },
   "outputs": [
    {
     "data": {
      "text/plain": [
       "NodeDataView({0: {'modules': 0}, 1: {'modules': 1}, 2: {'modules': 0}, 3: {'modules': 0}, 4: {'modules': 2}, 5: {'modules': 2}, 6: {'modules': 2}, 7: {'modules': 0}, 8: {'modules': 2}, 9: {'modules': 2}, 10: {'modules': 0}, 11: {'modules': 1}, 12: {'modules': 0}, 13: {'modules': 3}, 14: {'modules': 4}, 15: {'modules': 0}, 16: {'modules': 0}, 17: {'modules': 2}, 18: {'modules': 0}, 19: {'modules': 0}, 20: {'modules': 4}, 21: {'modules': 2}, 22: {'modules': 5}, 23: {'modules': 3}, 24: {'modules': 0}, 25: {'modules': 2}, 26: {'modules': 1}, 27: {'modules': 0}, 28: {'modules': 2}, 29: {'modules': 0}, 30: {'modules': 2}, 31: {'modules': 0}, 32: {'modules': 3}, 33: {'modules': 5}, 34: {'modules': 1}, 35: {'modules': 2}, 36: {'modules': 2}, 37: {'modules': 1}, 38: {'modules': 0}, 39: {'modules': 3}, 40: {'modules': 4}, 41: {'modules': 2}, 42: {'modules': 4}, 43: {'modules': 2}, 44: {'modules': 4}, 45: {'modules': 1}, 46: {'modules': 4}, 47: {'modules': 1}, 48: {'modules': 4}, 49: {'modules': 1}, 50: {'modules': 1}, 51: {'modules': 1}, 52: {'modules': 1}, 53: {'modules': 1}, 54: {'modules': 6}, 55: {'modules': 1}, 56: {'modules': 3}, 57: {'modules': 2}, 58: {'modules': 6}, 59: {'modules': 2}, 60: {'modules': 1}, 61: {'modules': 7}, 62: {'modules': 4}, 63: {'modules': 4}, 64: {'modules': 4}, 65: {'modules': 1}, 66: {'modules': 4}, 67: {'modules': 4}, 68: {'modules': 4}, 69: {'modules': 2}, 70: {'modules': 8}, 71: {'modules': 2}, 72: {'modules': 9}, 73: {'modules': 6}, 74: {'modules': 7}, 75: {'modules': 4}, 76: {'modules': 7}, 77: {'modules': 7}, 78: {'modules': 4}, 79: {'modules': 10}, 80: {'modules': 11}, 81: {'modules': 7}, 82: {'modules': 2}, 83: {'modules': 7}, 84: {'modules': 7}, 85: {'modules': 10}, 86: {'modules': 4}, 87: {'modules': 7}, 88: {'modules': 7}, 89: {'modules': 7}, 90: {'modules': 10}, 91: {'modules': 7}, 92: {'modules': 7}, 93: {'modules': 10}, 94: {'modules': 10}, 95: {'modules': 6}, 96: {'modules': 11}, 97: {'modules': 10}, 98: {'modules': 10}, 99: {'modules': 10}})"
      ]
     },
     "execution_count": 59,
     "metadata": {},
     "output_type": "execute_result"
    }
   ],
   "source": [
    "graph_parts['no'][2].node(data=True)"
   ]
  },
  {
   "cell_type": "code",
   "execution_count": 66,
   "metadata": {},
   "outputs": [],
   "source": [
    "def jenny_graph(graph):\n",
    "    edges,weights = zip(*nx.get_edge_attributes(graph, 'weight').items())\n",
    "    nodes, color = zip(*nx.get_node_attributes(graph,'modules').items()) #if your modules are named different change here\n",
    "    nodes, positions = zip(*nx.get_node_attributes(graph,'modules').items())\n",
    "    #positions\n",
    "    positions=nx.circular_layout(graph) #this is defining a circluar graph, if you want a different one you change the circular part of this line\n",
    "    \n",
    "    #Figure size\n",
    "    plt.figure(figsize=(40,25))\n",
    "    \n",
    "    \n",
    "    #draws nodes\n",
    "    color = np.array(color)\n",
    "    nColormap=plt.cm.Spectral #check here if you want different colors https://matplotlib.org/3.1.1/gallery/color/colormap_reference.html\n",
    "    cM=color.max()\n",
    "    cm=color.min()\n",
    "    y=nx.draw_networkx_nodes(graph,positions, \n",
    "                           node_color=color,\n",
    "                           node_size=40,\n",
    "                           alpha=0.8, \n",
    "                           cmap= nColormap,\n",
    "                           vmin=cm ,vmax=cM)\n",
    "\n",
    "    #Styling for labels\n",
    "    nx.draw_networkx_labels(graph, positions, font_size=10, \n",
    "                            font_family='sans-serif', fontweight = 'bold')\n",
    "    \n",
    "    \n",
    "    #draw edges\n",
    "    weights=np.array(weights)\n",
    "    eColormap=plt.cm.bwr #check here if you want different colors https://matplotlib.org/3.1.1/gallery/color/colormap_reference.html\n",
    "    wt=weights*5\n",
    "    M=wt.max()\n",
    "    m=wt.min()\n",
    "    x=nx.draw_networkx_edges(graph, positions, edge_list=edges, style='solid', width = wt, edge_color = wt,\n",
    "                           cmap=eColormap,\n",
    "                           edge_vmin=m,\n",
    "                           edge_vmax=M)\n",
    "    \n",
    "    #format the colorbar\n",
    "    node_bar=plt.colorbar(y)\n",
    "    edge_bar=plt.colorbar(x)\n",
    "\n",
    "    node_bar.set_label('Modularity',fontsize = 25)\n",
    "    edge_bar.set_label('Strength of edge weight',fontsize = 25)\n",
    "\n",
    "    plt.axis('off')\n",
    "    plt.title(\"Modularity and Edge Weights of Average Graph\", fontsize = 30)\n",
    "    #plt.savefig(os.path.join(basepath,\"betaseries_bevel/5_analysis/modularity_circle_reward.png\", format=\"PNG\")\n",
    "    plt.show()"
   ]
  },
  {
   "cell_type": "code",
   "execution_count": 68,
   "metadata": {},
   "outputs": [],
   "source": [
    "def threshold(G, corr_direction, min_correlation):\n",
    "\n",
    "    ##Creates a copy of the graph\n",
    "    H = G.copy()\n",
    "    \n",
    "    ##Checks all the edges and removes some based on corr_direction\n",
    "    for stock1, stock2, weight in list(G.edges(data=True)):\n",
    "        ##if we only want to see the positive correlations we then delete the edges with weight smaller than 0        \n",
    "        if corr_direction == \"positive\":\n",
    "            ####it adds a minimum value for correlation. \n",
    "            ####If correlation weaker than the min, then it deletes the edge\n",
    "            if weight[\"weight\"] <0 or weight[\"weight\"] < min_correlation:\n",
    "                H.remove_edge(stock1, stock2)\n",
    "        ##this part runs if the corr_direction is negative and removes edges with weights equal or largen than 0\n",
    "        else:\n",
    "            ####it adds a minimum value for correlation. \n",
    "            ####If correlation weaker than the min, then it deletes the edge\n",
    "            if weight[\"weight\"] >=0 or weight[\"weight\"] > min_correlation:\n",
    "                H.remove_edge(stock1, stock2)\n",
    "    return(H)"
   ]
  },
  {
   "cell_type": "code",
   "execution_count": 70,
   "metadata": {},
   "outputs": [
    {
     "data": {
      "text/plain": [
       "EdgeDataView([(0, 0, {'weight': 1.0}), (0, 1, {'weight': 0.08913704421775988}), (0, 2, {'weight': 0.37471215222372206}), (0, 3, {'weight': 0.33457858709782407}), (0, 4, {'weight': 0.08074017039463634}), (0, 5, {'weight': 0.0880022145469172}), (0, 6, {'weight': 0.06411464309289774}), (0, 7, {'weight': 0.1023867662495238}), (0, 8, {'weight': 0.12320954864410769}), (0, 9, {'weight': 0.07519453000694787}), (0, 10, {'weight': 0.303406593377481}), (0, 11, {'weight': 0.07608906935304391}), (0, 12, {'weight': 0.1504742209688523}), (0, 13, {'weight': 0.07599178497007149}), (0, 14, {'weight': 0.1634599723235906}), (0, 15, {'weight': 0.18058769787824142}), (0, 16, {'weight': 0.13614212290013378}), (0, 17, {'weight': 0.09491041732770476}), (0, 18, {'weight': 0.18411140285052613}), (0, 19, {'weight': 0.13929232453231993}), (0, 20, {'weight': 0.09861597218665562}), (0, 21, {'weight': 0.05662827010454825}), (0, 22, {'weight': 0.11702168241745936}), (0, 23, {'weight': 0.08129613237435904}), (0, 24, {'weight': 0.5863260584139967}), (0, 25, {'weight': 0.08222225788173187}), (0, 26, {'weight': 0.09363575469843502}), (0, 27, {'weight': 0.170256807862246}), (0, 28, {'weight': 0.08836581286489692}), (0, 29, {'weight': 0.1956243149720564}), (0, 30, {'weight': 0.08787170751527673}), (0, 31, {'weight': 0.4335810299259255}), (0, 32, {'weight': 0.05773873501002315}), (0, 33, {'weight': 0.22141751772797777}), (0, 34, {'weight': 0.18326220454933762}), (0, 35, {'weight': 0.15033509804708417}), (0, 36, {'weight': 0.06675363089899705}), (0, 37, {'weight': 0.14503027785970563}), (0, 38, {'weight': 0.5361069422358986}), (0, 39, {'weight': 0.08757458258570537}), (0, 40, {'weight': 0.11356764580893873}), (0, 41, {'weight': 0.05569616509309788}), (0, 42, {'weight': 0.13333986540373902}), (0, 43, {'weight': 0.06887414012709227}), (0, 44, {'weight': 0.11897139137751747}), (0, 45, {'weight': 0.11079708199665095}), (0, 46, {'weight': 0.09769081029638074}), (0, 47, {'weight': 0.08190080348708537}), (0, 48, {'weight': 0.10124905035706033}), (0, 49, {'weight': 0.13156204306355357}), (0, 50, {'weight': 0.10766475693105995}), (0, 51, {'weight': 0.09135469107210593}), (0, 52, {'weight': 0.14354243958734136}), (0, 53, {'weight': 0.08225846290133867}), (0, 54, {'weight': 0.06421009698634991}), (0, 55, {'weight': 0.08525411318746501}), (0, 56, {'weight': 0.08747340728164435}), (0, 57, {'weight': 0.06878066266500307}), (0, 58, {'weight': 0.07841057930090543}), (0, 59, {'weight': 0.07777760130631775}), (0, 60, {'weight': 0.06339766914135075}), (0, 61, {'weight': 0.0813307291709649}), (0, 62, {'weight': 0.09863040634235132}), (0, 63, {'weight': 0.1082184840955532}), (0, 64, {'weight': 0.06276864398697253}), (0, 65, {'weight': 0.0678845979626131}), (0, 66, {'weight': 0.16332606105298864}), (0, 67, {'weight': 0.06714653647080647}), (0, 68, {'weight': 0.0637960083165276}), (0, 69, {'weight': 0.0493823416958633}), (0, 70, {'weight': 0.02008523768061048}), (0, 71, {'weight': 0.048191258449496406}), (0, 72, {'weight': 0.08316856887970027}), (0, 73, {'weight': 0.08372512374467486}), (0, 74, {'weight': 0.05822426853117854}), (0, 75, {'weight': 0.04419394383150163}), (0, 76, {'weight': 0.04742595627209095}), (0, 77, {'weight': 0.04827915476771726}), (0, 78, {'weight': 0.06676055396268323}), (0, 79, {'weight': 0.0491565096154355}), (0, 80, {'weight': 0.03438409410528882}), (0, 81, {'weight': 0.039874453891647704}), (0, 82, {'weight': 0.06944409085324912}), (0, 83, {'weight': 0.0650862791786126}), (0, 84, {'weight': 0.06969555414141324}), (0, 85, {'weight': 0.044073615791769175}), (0, 86, {'weight': 0.06308076365680419}), (0, 87, {'weight': 0.05400129641203438}), (0, 88, {'weight': 0.0746487092879679}), (0, 89, {'weight': 0.05507220925763366}), (0, 90, {'weight': 0.02841602747736506}), (0, 91, {'weight': 0.046454566377440804}), (0, 92, {'weight': 0.058064758956307264}), (0, 93, {'weight': 0.032863729409648934}), (0, 94, {'weight': 0.02333906621039883}), (0, 95, {'weight': 0.03651968716389565}), (0, 96, {'weight': 0.041402170940438486}), (0, 97, {'weight': 0.025213815034605406}), (0, 98, {'weight': 0.032794828944305285}), (0, 99, {'weight': 0.04459487486075842}), (1, 1, {'weight': 1.0}), (1, 2, {'weight': 0.10879102439849397}), (1, 3, {'weight': 0.24548504637201837}), (1, 4, {'weight': 0.41513558591717287}), (1, 5, {'weight': 0.25608980373601725}), (1, 6, {'weight': 0.13716012742987474}), (1, 7, {'weight': 0.20255523460652827}), (1, 8, {'weight': 0.4171641691525533}), (1, 9, {'weight': 0.2834690357747012}), (1, 10, {'weight': 0.21097071041157772}), (1, 11, {'weight': 0.4155637247735471}), (1, 12, {'weight': 0.2832456234882821}), (1, 13, {'weight': 0.10561690437948199}), (1, 14, {'weight': 0.1842086038646747}), (1, 15, {'weight': 0.14374422630008887}), (1, 16, {'weight': 0.2722319824319061}), (1, 17, {'weight': 0.3310981069030551}), (1, 18, {'weight': 0.10306646667244729}), (1, 19, {'weight': 0.31595512993691566}), (1, 20, {'weight': 0.06446674240167455}), (1, 21, {'weight': 0.4447306175578876}), (1, 22, {'weight': 0.26686841965969277}), (1, 23, {'weight': 0.17324676962540148}), (1, 24, {'weight': 0.06570944989137843}), (1, 25, {'weight': 0.22405473084457644}), (1, 26, {'weight': 0.3573222874151848}), (1, 27, {'weight': 0.2049402025933813}), (1, 28, {'weight': 0.14162000710509925}), (1, 29, {'weight': 0.21463842678969197}), (1, 30, {'weight': 0.11900305671387933}), (1, 31, {'weight': 0.07514944866494344}), (1, 32, {'weight': 0.1738120688216832}), (1, 33, {'weight': 0.1954521804407549}), (1, 34, {'weight': 0.319206618820292}), (1, 35, {'weight': 0.322402975607753}), (1, 36, {'weight': 0.0901329925059687}), (1, 37, {'weight': 0.3980237737234199}), (1, 38, {'weight': 0.06474815043389195}), (1, 39, {'weight': 0.09258333943353222}), (1, 40, {'weight': 0.1155493781755287}), (1, 41, {'weight': 0.1864802027590705}), (1, 42, {'weight': 0.08804367290586473}), (1, 43, {'weight': 0.11818201100010056}), (1, 44, {'weight': 0.1962350689737177}), (1, 45, {'weight': 0.4712485208814218}), (1, 46, {'weight': 0.11877988896984674}), (1, 47, {'weight': 0.5056454176817119}), (1, 48, {'weight': 0.11337732839934855}), (1, 49, {'weight': 0.26061530744049444}), (1, 50, {'weight': 0.19854883687285357}), (1, 51, {'weight': 0.35325731394099935}), (1, 52, {'weight': 0.2672500654629164}), (1, 53, {'weight': 0.4007258999636756}), (1, 54, {'weight': 0.0874326670974937}), (1, 55, {'weight': 0.13977588555173365}), (1, 56, {'weight': 0.11893448023519328}), (1, 57, {'weight': 0.127532849038687}), (1, 58, {'weight': 0.23154007350872402}), (1, 59, {'weight': 0.0832033289345823}), (1, 60, {'weight': 0.2082749257414354}), (1, 61, {'weight': 0.14275836736987058}), (1, 62, {'weight': 0.047911008285302877}), (1, 63, {'weight': 0.08475767460084555}), (1, 64, {'weight': 0.138061012123781}), (1, 65, {'weight': 0.13489547448322264}), (1, 66, {'weight': 0.09267170616784784}), (1, 67, {'weight': 0.0820186316042649}), (1, 68, {'weight': 0.06524290193720082}), (1, 69, {'weight': 0.2297694788309546}), (1, 70, {'weight': 0.024192671973503364}), (1, 71, {'weight': 0.17401702575178224}), (1, 72, {'weight': 0.1498893028327585}), (1, 73, {'weight': 0.0963360813907998}), (1, 74, {'weight': 0.1486586468811648}), (1, 75, {'weight': 0.04914443911204957}), (1, 76, {'weight': 0.06165967765511049}), (1, 77, {'weight': 0.06013780869796029}), (1, 78, {'weight': 0.07593770908552355}), (1, 79, {'weight': 0.07003525170825392}), (1, 80, {'weight': 0.03439367192171794}), (1, 81, {'weight': 0.13600258806205523}), (1, 82, {'weight': 0.18935866322607317}), (1, 83, {'weight': 0.05321423521560879}), (1, 84, {'weight': 0.05469975608178963}), (1, 85, {'weight': 0.057295768785049786}), (1, 86, {'weight': 0.03642217342662324}), (1, 87, {'weight': 0.19531156108019215}), (1, 88, {'weight': 0.0785365491702929}), (1, 89, {'weight': 0.06909624606836434}), (1, 90, {'weight': 0.047970809106992876}), (1, 91, {'weight': 0.05264385287591862}), (1, 92, {'weight': 0.08120426230464628}), (1, 93, {'weight': 0.043917686410157884}), (1, 94, {'weight': 0.030310702163660337}), (1, 95, {'weight': 0.10447668686951635}), (1, 96, {'weight': 0.07183990629353057}), (1, 97, {'weight': 0.03347942063189585}), (1, 98, {'weight': 0.03568274214929153}), (1, 99, {'weight': 0.033606229635919346}), (2, 2, {'weight': 1.0}), (2, 3, {'weight': 0.2192285578081793}), (2, 4, {'weight': 0.09896239102636359}), (2, 5, {'weight': 0.21233673764252953}), (2, 6, {'weight': 0.1356181562691144}), (2, 7, {'weight': 0.5971385589508533}), (2, 8, {'weight': 0.08879080847017354}), (2, 9, {'weight': 0.1212497131825079}), (2, 10, {'weight': 0.38025852612143163}), (2, 11, {'weight': 0.0693330272370179}), (2, 12, {'weight': 0.5057663523691013}), (2, 13, {'weight': 0.11211485848011712}), (2, 14, {'weight': 0.08782710932653931}), (2, 15, {'weight': 0.214671230380588}), (2, 16, {'weight': 0.2359462965107336}), (2, 17, {'weight': 0.13178461645538603}), (2, 18, {'weight': 0.2869978661014719}), (2, 19, {'weight': 0.25747713556493323}), (2, 20, {'weight': 0.08114027339723703}), (2, 21, {'weight': 0.07849006485345046}), (2, 22, {'weight': 0.18594715305932993}), (2, 23, {'weight': 0.07844495376722915}), (2, 24, {'weight': 0.4736104970313296}), (2, 25, {'weight': 0.08861453626941787}), (2, 26, {'weight': 0.10123145555181778}), (2, 27, {'weight': 0.3978937034951816}), (2, 28, {'weight': 0.08522062217190757}), (2, 29, {'weight': 0.38240924063735676}), (2, 30, {'weight': 0.09851198764353253}), (2, 31, {'weight': 0.37865403712917467}), (2, 32, {'weight': 0.1324740021280702}), (2, 33, {'weight': 0.09658766707602426}), (2, 34, {'weight': 0.08677985347021222}), (2, 35, {'weight': 0.08647560081579034}), (2, 36, {'weight': 0.06207051087738095}), (2, 37, {'weight': 0.10850987288238337}), (2, 38, {'weight': 0.4268324593328389}), (2, 39, {'weight': 0.08142408248866967}), (2, 40, {'weight': 0.09947576088866941}), (2, 41, {'weight': 0.09506859917745786}), (2, 42, {'weight': 0.10036824999576395}), (2, 43, {'weight': 0.08930500649739317}), (2, 44, {'weight': 0.09751669639981947}), (2, 45, {'weight': 0.15603441190097833}), (2, 46, {'weight': 0.09206464693494881}), (2, 47, {'weight': 0.07078274315783525}), (2, 48, {'weight': 0.09344534910275545}), (2, 49, {'weight': 0.1406737091025635}), (2, 50, {'weight': 0.1334112221012603}), (2, 51, {'weight': 0.1078313251347426}), (2, 52, {'weight': 0.1134848431146793}), (2, 53, {'weight': 0.1365598129797696}), (2, 54, {'weight': 0.10342205756426714}), (2, 55, {'weight': 0.0684769842872252}), (2, 56, {'weight': 0.14922290609167693}), (2, 57, {'weight': 0.07604028601076787}), (2, 58, {'weight': 0.165601745158066}), (2, 59, {'weight': 0.06909300957251932}), (2, 60, {'weight': 0.06128051746334006}), (2, 61, {'weight': 0.14774524265937014}), (2, 62, {'weight': 0.06285967053397673}), (2, 63, {'weight': 0.08336687807786292}), (2, 64, {'weight': 0.06057878129497709}), (2, 65, {'weight': 0.08081461943163354}), (2, 66, {'weight': 0.08556016630726629}), (2, 67, {'weight': 0.1170382794940565}), (2, 68, {'weight': 0.07837189358513166}), (2, 69, {'weight': 0.12352384313380099}), (2, 70, {'weight': 0.03836135344457169}), (2, 71, {'weight': 0.0729106246291104}), (2, 72, {'weight': 0.039813545014641266}), (2, 73, {'weight': 0.20027749687312232}), (2, 74, {'weight': 0.057671797967852066}), (2, 75, {'weight': 0.06390493815504489}), (2, 76, {'weight': 0.054552024859621885}), (2, 77, {'weight': 0.1071795802359291}), (2, 78, {'weight': 0.06986683707761032}), (2, 79, {'weight': 0.0660895945614076}), (2, 80, {'weight': 0.038909201012958375}), (2, 81, {'weight': 0.05214255227838729}), (2, 82, {'weight': 0.09613879721148882}), (2, 83, {'weight': 0.08798952793203994}), (2, 84, {'weight': 0.07704340024239675}), (2, 85, {'weight': 0.03552072184536298}), (2, 86, {'weight': 0.07082412802170085}), (2, 87, {'weight': 0.07960451350722372}), (2, 88, {'weight': 0.08439787306495086}), (2, 89, {'weight': 0.07380739176618555}), (2, 90, {'weight': 0.03857891343278743}), (2, 91, {'weight': 0.07162671517123878}), (2, 92, {'weight': 0.1029722509155288}), (2, 93, {'weight': 0.05946154735219583}), (2, 94, {'weight': 0.03991478454830274}), (2, 95, {'weight': 0.05319703702108454}), (2, 96, {'weight': 0.04458497584495058}), (2, 97, {'weight': 0.039131564936423516}), (2, 98, {'weight': 0.05719494586575398}), (2, 99, {'weight': 0.05044709779688942}), (3, 3, {'weight': 1.0}), (3, 4, {'weight': 0.12140041962009933}), (3, 5, {'weight': 0.1757856998418445}), (3, 6, {'weight': 0.12092353833668275}), (3, 7, {'weight': 0.3698418401958164}), (3, 8, {'weight': 0.2151825969857868}), (3, 9, {'weight': 0.15016333135038976}), (3, 10, {'weight': 0.6743833816706049}), (3, 11, {'weight': 0.10273553360704861}), (3, 12, {'weight': 0.6031648181418191}), (3, 13, {'weight': 0.08148764016856067}), (3, 14, {'weight': 0.11177891583340142}), (3, 15, {'weight': 0.5611072555328528}), (3, 16, {'weight': 0.6235854897650113}), (3, 17, {'weight': 0.1377434042321919}), (3, 18, {'weight': 0.35667912639615934}), (3, 19, {'weight': 0.36191231670896296}), (3, 20, {'weight': 0.14827991187459916}), (3, 21, {'weight': 0.1770715330060273}), (3, 22, {'weight': 0.11134693099605655}), (3, 23, {'weight': 0.10719458302339735}), (3, 24, {'weight': 0.13516381961962287}), (3, 25, {'weight': 0.11024937804294012}), (3, 26, {'weight': 0.21379669276231847}), (3, 27, {'weight': 0.33814586621323905}), (3, 28, {'weight': 0.1192776454115812}), (3, 29, {'weight': 0.43770663608423777}), (3, 30, {'weight': 0.09505907002693245}), (3, 31, {'weight': 0.1422384768146399}), (3, 32, {'weight': 0.10768377478191604}), (3, 33, {'weight': 0.19707196011090553}), (3, 34, {'weight': 0.17487575494022245}), (3, 35, {'weight': 0.22739905438870806}), (3, 36, {'weight': 0.06626643641665883}), (3, 37, {'weight': 0.26142444188674197}), (3, 38, {'weight': 0.13685267387516656}), (3, 39, {'weight': 0.16091681300825106}), (3, 40, {'weight': 0.21758526111030785}), (3, 41, {'weight': 0.12392432236782355}), (3, 42, {'weight': 0.21292559138073225}), (3, 43, {'weight': 0.14534769412174672}), (3, 44, {'weight': 0.1847696764960992}), (3, 45, {'weight': 0.27452810340029266}), (3, 46, {'weight': 0.18675855905532296}), (3, 47, {'weight': 0.12177270250838232}), (3, 48, {'weight': 0.13777752651170977}), (3, 49, {'weight': 0.28748672608234643}), (3, 50, {'weight': 0.23896306387115615}), (3, 51, {'weight': 0.2958806887752866}), (3, 52, {'weight': 0.24043254104149198}), (3, 53, {'weight': 0.21212000426031524}), (3, 54, {'weight': 0.11434199455574201}), (3, 55, {'weight': 0.0832899379874393}), (3, 56, {'weight': 0.2272574105980668}), (3, 57, {'weight': 0.10038076198200482}), (3, 58, {'weight': 0.18827643115398576}), (3, 59, {'weight': 0.08898190006491152}), (3, 60, {'weight': 0.1404503952314195}), (3, 61, {'weight': 0.16427094236605513}), (3, 62, {'weight': 0.16434336006316183}), (3, 63, {'weight': 0.1281387021335566}), (3, 64, {'weight': 0.10025508397753283}), (3, 65, {'weight': 0.1592450340208239}), (3, 66, {'weight': 0.19170429152725854}), (3, 67, {'weight': 0.18514445933708623}), (3, 68, {'weight': 0.12156529115131955}), (3, 69, {'weight': 0.0935513852571597}), (3, 70, {'weight': 0.028767541216330267}), (3, 71, {'weight': 0.07798948858427535}), (3, 72, {'weight': 0.12099098218146027}), (3, 73, {'weight': 0.14106132488586753}), (3, 74, {'weight': 0.07073394469206142}), (3, 75, {'weight': 0.08875461052598027}), (3, 76, {'weight': 0.06486363833233101}), (3, 77, {'weight': 0.10651363028961086}), (3, 78, {'weight': 0.14839984854913615}), (3, 79, {'weight': 0.10291694363303999}), (3, 80, {'weight': 0.0416839795273727}), (3, 81, {'weight': 0.06525148358347384}), (3, 82, {'weight': 0.08389005585926676}), (3, 83, {'weight': 0.0909431267315684}), (3, 84, {'weight': 0.073148778814364}), (3, 85, {'weight': 0.08821930137421072}), (3, 86, {'weight': 0.11612718681271839}), (3, 87, {'weight': 0.08577444968492168}), (3, 88, {'weight': 0.07595709595750619}), (3, 89, {'weight': 0.07104373525160843}), (3, 90, {'weight': 0.04886135973924853}), (3, 91, {'weight': 0.05697091978480487}), (3, 92, {'weight': 0.10414213177708398}), (3, 93, {'weight': 0.06374910106136245}), (3, 94, {'weight': 0.035378388657859874}), (3, 95, {'weight': 0.04480621064007349}), (3, 96, {'weight': 0.032300023117041006}), (3, 97, {'weight': 0.03409287181826139}), (3, 98, {'weight': 0.10236155119347327}), (3, 99, {'weight': 0.09888889207415813}), (4, 4, {'weight': 1.0}), (4, 5, {'weight': 0.2946269305641811}), (4, 6, {'weight': 0.2894922983736279}), (4, 7, {'weight': 0.10753872120829588}), (4, 8, {'weight': 0.5137957942365207}), (4, 9, {'weight': 0.48414622526090756}), (4, 10, {'weight': 0.14846554063859607}), (4, 11, {'weight': 0.097470221090082}), (4, 12, {'weight': 0.10018981202192084}), (4, 13, {'weight': 0.12240197193641955}), (4, 14, {'weight': 0.08163104339555274}), (4, 15, {'weight': 0.09831405135686987}), (4, 16, {'weight': 0.11743257745463609}), (4, 17, {'weight': 0.3891830541418169}), (4, 18, {'weight': 0.10792787572713322}), (4, 19, {'weight': 0.179550248461483}), (4, 20, {'weight': 0.13682391650525272}), (4, 21, {'weight': 0.30278983622192635}), (4, 22, {'weight': 0.16905408035994854}), (4, 23, {'weight': 0.06974369724237589}), (4, 24, {'weight': 0.07621506504715993}), (4, 25, {'weight': 0.40661682142797767}), (4, 26, {'weight': 0.33872624528255274}), (4, 27, {'weight': 0.09449920018985056}), (4, 28, {'weight': 0.25499514698395875}), (4, 29, {'weight': 0.12637850027241598}), (4, 30, {'weight': 0.381529676703414}), (4, 31, {'weight': 0.0908968674952413}), (4, 32, {'weight': 0.07452624566425292}), (4, 33, {'weight': 0.13742243487977746}), (4, 34, {'weight': 0.2779512931039946}), (4, 35, {'weight': 0.44331884866112536}), (4, 36, {'weight': 0.1471720485651306}), (4, 37, {'weight': 0.3429281057673854}), (4, 38, {'weight': 0.06956195409187055}), (4, 39, {'weight': 0.1297420012511801}), (4, 40, {'weight': 0.1716806797640688}), (4, 41, {'weight': 0.26028451616959036}), (4, 42, {'weight': 0.19657437312730663}), (4, 43, {'weight': 0.09590570343492116}), (4, 44, {'weight': 0.09105959223326482}), (4, 45, {'weight': 0.21474470048293504}), (4, 46, {'weight': 0.1701771910062197}), (4, 47, {'weight': 0.1830532004373973}), (4, 48, {'weight': 0.1917184162682344}), (4, 49, {'weight': 0.08160134350892803}), (4, 50, {'weight': 0.09761717370117892}), (4, 51, {'weight': 0.10032407243261476}), (4, 52, {'weight': 0.14710375020366928}), (4, 53, {'weight': 0.3577366673383569}), (4, 54, {'weight': 0.08835221755755314}), (4, 55, {'weight': 0.0728218065271174}), (4, 56, {'weight': 0.09141209735191233}), (4, 57, {'weight': 0.24670834600740021}), (4, 58, {'weight': 0.09220797985870104}), (4, 59, {'weight': 0.24686994621660752}), (4, 60, {'weight': 0.1407301019115299}), (4, 61, {'weight': 0.11914616898559224}), (4, 62, {'weight': 0.10983766666433414}), (4, 63, {'weight': 0.07089007299221482}), (4, 64, {'weight': 0.17258259160506578}), (4, 65, {'weight': 0.16124263831091948}), (4, 66, {'weight': 0.06624449141779476}), (4, 67, {'weight': 0.07389567827026096}), (4, 68, {'weight': 0.12031799562817473}), (4, 69, {'weight': 0.17532070933778082}), (4, 70, {'weight': 0.022075070906121225}), (4, 71, {'weight': 0.2744259980883811}), (4, 72, {'weight': 0.1311637592662544}), (4, 73, {'weight': 0.11286399698402863}), (4, 74, {'weight': 0.10591166140720107}), (4, 75, {'weight': 0.058660039616310417}), (4, 76, {'weight': 0.07591405276797122}), (4, 77, {'weight': 0.06003111283847346}), (4, 78, {'weight': 0.10979869791536331}), (4, 79, {'weight': 0.06457352728115343}), (4, 80, {'weight': 0.033131362612414283}), (4, 81, {'weight': 0.07172934090825471}), (4, 82, {'weight': 0.23394698952442383}), (4, 83, {'weight': 0.06347358448919327}), (4, 84, {'weight': 0.05999503382131021}), (4, 85, {'weight': 0.044075447267453716}), (4, 86, {'weight': 0.0828161364674789}), (4, 87, {'weight': 0.14878073442798656}), (4, 88, {'weight': 0.0756890386962421}), (4, 89, {'weight': 0.08610999315931009}), (4, 90, {'weight': 0.029684473535669713}), (4, 91, {'weight': 0.05702157377958261}), (4, 92, {'weight': 0.12816335792018335}), (4, 93, {'weight': 0.03273139660388718}), (4, 94, {'weight': 0.03039597821216409}), (4, 95, {'weight': 0.045353228362085746}), (4, 96, {'weight': 0.04626880788187661}), (4, 97, {'weight': 0.030354959108493947}), (4, 98, {'weight': 0.03678388667269919}), (4, 99, {'weight': 0.03560763619722442}), (5, 5, {'weight': 1.0}), (5, 6, {'weight': 0.0963238180112324}), (5, 7, {'weight': 0.26779003688392644}), (5, 8, {'weight': 0.20893951838321018}), (5, 9, {'weight': 0.5352476064319255}), (5, 10, {'weight': 0.08579256791490106}), (5, 11, {'weight': 0.07439177791129156}), (5, 12, {'weight': 0.29448368890498094}), (5, 13, {'weight': 0.1982780639015287}), (5, 14, {'weight': 0.2674567146100142}), (5, 15, {'weight': 0.10385433562435997}), (5, 16, {'weight': 0.09226982559315103}), (5, 17, {'weight': 0.18142091007859967}), (5, 18, {'weight': 0.0866790227351119}), (5, 19, {'weight': 0.1676328613543821}), (5, 20, {'weight': 0.06540839991919664}), (5, 21, {'weight': 0.11793696978386307}), (5, 22, {'weight': 0.09232595710209282}), (5, 23, {'weight': 0.08923823820660147}), (5, 24, {'weight': 0.07624893950395156}), (5, 25, {'weight': 0.09173753184879901}), (5, 26, {'weight': 0.1263113933696826}), (5, 27, {'weight': 0.08715767105698674}), (5, 28, {'weight': 0.11765352525336821}), (5, 29, {'weight': 0.2242471786811044}), (5, 30, {'weight': 0.3036745945672121}), (5, 31, {'weight': 0.08477780929775255}), (5, 32, {'weight': 0.07993745901573857}), (5, 33, {'weight': 0.06212516234002391}), (5, 34, {'weight': 0.24568172978483863}), (5, 35, {'weight': 0.35390055981784796}), (5, 36, {'weight': 0.22789678835761384}), (5, 37, {'weight': 0.2542499636308436}), (5, 38, {'weight': 0.07013686453003341}), (5, 39, {'weight': 0.1191873055192959}), (5, 40, {'weight': 0.0722561129370417}), (5, 41, {'weight': 0.129960363046966}), (5, 42, {'weight': 0.08862148023646432}), (5, 43, {'weight': 0.21856558682801064}), (5, 44, {'weight': 0.07762822503281097}), (5, 45, {'weight': 0.09894122959785265}), (5, 46, {'weight': 0.06892751094831073}), (5, 47, {'weight': 0.10976729362799059}), (5, 48, {'weight': 0.13872132057331796}), (5, 49, {'weight': 0.07035909709579784}), (5, 50, {'weight': 0.1432101917080793}), (5, 51, {'weight': 0.09997809508802227}), (5, 52, {'weight': 0.09386802309121375}), (5, 53, {'weight': 0.1303728114474954}), (5, 54, {'weight': 0.15188958328374647}), (5, 55, {'weight': 0.09260493225257777}), (5, 56, {'weight': 0.11590304807255125}), (5, 57, {'weight': 0.12161033614949718}), (5, 58, {'weight': 0.07178492157776492}), (5, 59, {'weight': 0.14046537580207527}), (5, 60, {'weight': 0.1329782943630124}), (5, 61, {'weight': 0.189368453306841}), (5, 62, {'weight': 0.047414128874211564}), (5, 63, {'weight': 0.2572892013116327}), (5, 64, {'weight': 0.1067751063913078}), (5, 65, {'weight': 0.09358481116098663}), (5, 66, {'weight': 0.06836829220458583}), (5, 67, {'weight': 0.05068499000318682}), (5, 68, {'weight': 0.11293149048499045}), (5, 69, {'weight': 0.16768521504960987}), (5, 70, {'weight': 0.03533955879444317}), (5, 71, {'weight': 0.15909642595693296}), (5, 72, {'weight': 0.13706827615986295}), (5, 73, {'weight': 0.08520817694041768}), (5, 74, {'weight': 0.17032684409688603}), (5, 75, {'weight': 0.07630729120985286}), (5, 76, {'weight': 0.07576547429737363}), (5, 77, {'weight': 0.0716638804363513}), (5, 78, {'weight': 0.039709963959590706}), (5, 79, {'weight': 0.040536921847021574}), (5, 80, {'weight': 0.033599786202618}), (5, 81, {'weight': 0.12292700024953218}), (5, 82, {'weight': 0.269316865745108}), (5, 83, {'weight': 0.0431580372389801}), (5, 84, {'weight': 0.07310033939619331}), (5, 85, {'weight': 0.03390147981154577}), (5, 86, {'weight': 0.045884041168947814}), (5, 87, {'weight': 0.09553624652906939}), (5, 88, {'weight': 0.14878856268340585}), (5, 89, {'weight': 0.1075566295383083}), (5, 90, {'weight': 0.02217464867915452}), (5, 91, {'weight': 0.07774387317901796}), (5, 92, {'weight': 0.12703689270694765}), (5, 93, {'weight': 0.0345657779646512}), (5, 94, {'weight': 0.02608602192080554}), (5, 95, {'weight': 0.035486109968294946}), (5, 96, {'weight': 0.030592190579567864}), (5, 97, {'weight': 0.04642421014958753}), (5, 98, {'weight': 0.03590864653949172}), (5, 99, {'weight': 0.03495253022823683}), (6, 6, {'weight': 1.0}), (6, 7, {'weight': 0.2186039314163008}), (6, 8, {'weight': 0.26285831268890714}), (6, 9, {'weight': 0.3792871878256754}), (6, 10, {'weight': 0.13056004429465717}), (6, 11, {'weight': 0.09863040990002744}), (6, 12, {'weight': 0.09712427828181716}), (6, 13, {'weight': 0.42127734815948026}), (6, 14, {'weight': 0.24464326498951047}), (6, 15, {'weight': 0.058951927679888994}), (6, 16, {'weight': 0.08602780780088859}), (6, 17, {'weight': 0.30902304398310904}), (6, 18, {'weight': 0.062036001623576156}), (6, 19, {'weight': 0.08682690313521468}), (6, 20, {'weight': 0.14769128052524239}), (6, 21, {'weight': 0.31890917844902456}), (6, 22, {'weight': 0.09992773788825593}), (6, 23, {'weight': 0.425249610869909}), (6, 24, {'weight': 0.07248727811335837}), (6, 25, {'weight': 0.38601822635584526}), (6, 26, {'weight': 0.08739616016631102}), (6, 27, {'weight': 0.12360001445067116}), (6, 28, {'weight': 0.4782396804981362}), (6, 29, {'weight': 0.1872046434741234}), (6, 30, {'weight': 0.11397527722479006}), (6, 31, {'weight': 0.07347904792337279}), (6, 32, {'weight': 0.2468578165189946}), (6, 33, {'weight': 0.07993036728625441}), (6, 34, {'weight': 0.06431163496202891}), (6, 35, {'weight': 0.27331645469502935}), (6, 36, {'weight': 0.18105897473384902}), (6, 37, {'weight': 0.07344910290415198}), (6, 38, {'weight': 0.07035405500467702}), (6, 39, {'weight': 0.3858642911509942}), (6, 40, {'weight': 0.17237314174905172}), (6, 41, {'weight': 0.3645694863355413}), (6, 42, {'weight': 0.19020978761867308}), (6, 43, {'weight': 0.08795283735246497}), (6, 44, {'weight': 0.11210139160492963}), (6, 45, {'weight': 0.08631193652477687}), (6, 46, {'weight': 0.18125892000550947}), (6, 47, {'weight': 0.3304074705755938}), (6, 48, {'weight': 0.1393019707917576}), (6, 49, {'weight': 0.12711212533863825}), (6, 50, {'weight': 0.17979005778923937}), (6, 51, {'weight': 0.33393787865035507}), (6, 52, {'weight': 0.08719875678306921}), (6, 53, {'weight': 0.08562625973118757}), (6, 54, {'weight': 0.13157322453010944}), (6, 55, {'weight': 0.12982354469460378}), (6, 56, {'weight': 0.2040471898651468}), (6, 57, {'weight': 0.1149852685181189}), (6, 58, {'weight': 0.2896924935577282}), (6, 59, {'weight': 0.23028436452732087}), (6, 60, {'weight': 0.10457018745604982}), (6, 61, {'weight': 0.0814616528913097}), (6, 62, {'weight': 0.10105438990320545}), (6, 63, {'weight': 0.08273393685347699}), (6, 64, {'weight': 0.05899881682116337}), (6, 65, {'weight': 0.21266899297126748}), (6, 66, {'weight': 0.07409500142946862}), (6, 67, {'weight': 0.06674389893442381}), (6, 68, {'weight': 0.0501556917889233}), (6, 69, {'weight': 0.06488679516922495}), (6, 70, {'weight': 0.02232611867611682}), (6, 71, {'weight': 0.1353047969935507}), (6, 72, {'weight': 0.05528006679916951}), (6, 73, {'weight': 0.09482614598521176}), (6, 74, {'weight': 0.05932680532611312}), (6, 75, {'weight': 0.057883846741385414}), (6, 76, {'weight': 0.04930678214008516}), (6, 77, {'weight': 0.053103887703963695}), (6, 78, {'weight': 0.04730427901495523}), (6, 79, {'weight': 0.0302958748875612}), (6, 80, {'weight': 0.029395165127194908}), (6, 81, {'weight': 0.05202337927009729}), (6, 82, {'weight': 0.07708319035186165}), (6, 83, {'weight': 0.051057647855037025}), (6, 84, {'weight': 0.04643593471024651}), (6, 85, {'weight': 0.02988029741728569}), (6, 86, {'weight': 0.0346775848662743}), (6, 87, {'weight': 0.056677168583614754}), (6, 88, {'weight': 0.09634882907282796}), (6, 89, {'weight': 0.05448842498660292}), (6, 90, {'weight': 0.029021048837276225}), (6, 91, {'weight': 0.044398711432592}), (6, 92, {'weight': 0.06533252657809152}), (6, 93, {'weight': 0.035099896364355204}), (6, 94, {'weight': 0.02728811631738351}), (6, 95, {'weight': 0.04856172868165895}), (6, 96, {'weight': 0.0364194938587962}), (6, 97, {'weight': 0.029714686712833654}), (6, 98, {'weight': 0.029401657333924275}), (6, 99, {'weight': 0.03465527256459054}), (7, 7, {'weight': 1.0}), (7, 8, {'weight': 0.11205951127599188}), (7, 9, {'weight': 0.092832696915392}), (7, 10, {'weight': 0.49840451639182126}), (7, 11, {'weight': 0.08934701016932592}), (7, 12, {'weight': 0.613666529040912}), (7, 13, {'weight': 0.17117670764880308}), (7, 14, {'weight': 0.11023545501584935}), (7, 15, {'weight': 0.2571470354558659}), (7, 16, {'weight': 0.319549750210824}), (7, 17, {'weight': 0.2407371236575899}), (7, 18, {'weight': 0.1626589691835488}), (7, 19, {'weight': 0.3576505445306333}), (7, 20, {'weight': 0.08461150445013416}), (7, 21, {'weight': 0.08040346059942372}), (7, 22, {'weight': 0.2913522471512827}), (7, 23, {'weight': 0.09344968689531867}), (7, 24, {'weight': 0.1065803968278303}), (7, 25, {'weight': 0.09337146614599363}), (7, 26, {'weight': 0.1095944305517246}), (7, 27, {'weight': 0.434073074927668}), (7, 28, {'weight': 0.11201796154255529}), (7, 29, {'weight': 0.4585677442669734}), (7, 30, {'weight': 0.11805037546823241}), (7, 31, {'weight': 0.12268862695008739}), (7, 32, {'weight': 0.2207741167428969}), (7, 33, {'weight': 0.176198594070121}), (7, 34, {'weight': 0.1518864024330846}), (7, 35, {'weight': 0.1042052975766692}), (7, 36, {'weight': 0.06014614018479642}), (7, 37, {'weight': 0.16515041989109142}), (7, 38, {'weight': 0.12908637170231868}), (7, 39, {'weight': 0.07497784554954944}), (7, 40, {'weight': 0.11927136133942992}), (7, 41, {'weight': 0.08326032528420345}), (7, 42, {'weight': 0.17048672723505576}), (7, 43, {'weight': 0.08550392994171677}), (7, 44, {'weight': 0.1470547858238479}), (7, 45, {'weight': 0.20940917889004565}), (7, 46, {'weight': 0.10305641375220792}), (7, 47, {'weight': 0.1191418189888962}), (7, 48, {'weight': 0.09860114111709162}), (7, 49, {'weight': 0.22390722828631704}), (7, 50, {'weight': 0.18817276448942283}), (7, 51, {'weight': 0.2070590183177511}), (7, 52, {'weight': 0.19725516741335952}), (7, 53, {'weight': 0.17305970222980352}), (7, 54, {'weight': 0.1058038228391166}), (7, 55, {'weight': 0.0801705659314334}), (7, 56, {'weight': 0.21914267649826819}), (7, 57, {'weight': 0.0770375788725837}), (7, 58, {'weight': 0.19876108406159543}), (7, 59, {'weight': 0.0585016813561437}), (7, 60, {'weight': 0.06871730324872638}), (7, 61, {'weight': 0.16381738411373709}), (7, 62, {'weight': 0.10810255576145567}), (7, 63, {'weight': 0.10304338571687931}), (7, 64, {'weight': 0.06628723292833982}), (7, 65, {'weight': 0.14935239488261837}), (7, 66, {'weight': 0.16110609195773237}), (7, 67, {'weight': 0.17453466572659}), (7, 68, {'weight': 0.07608797137956805}), (7, 69, {'weight': 0.14880050522370053}), (7, 70, {'weight': 0.03332627796220236}), (7, 71, {'weight': 0.0731146864748167}), (7, 72, {'weight': 0.06290831922712085}), (7, 73, {'weight': 0.20692751039501572}), (7, 74, {'weight': 0.05939358115754681}), (7, 75, {'weight': 0.0733342685553065}), (7, 76, {'weight': 0.04958329626747679}), (7, 77, {'weight': 0.08043030500556174}), (7, 78, {'weight': 0.09428437675140865}), (7, 79, {'weight': 0.08596114126901153}), (7, 80, {'weight': 0.04036110747886509}), (7, 81, {'weight': 0.04840362380155025}), (7, 82, {'weight': 0.0892129301029406}), (7, 83, {'weight': 0.11014446018576476}), (7, 84, {'weight': 0.0776626299169203}), (7, 85, {'weight': 0.053466868475398124}), (7, 86, {'weight': 0.09012785275299717}), (7, 87, {'weight': 0.1021165917276545}), (7, 88, {'weight': 0.07419602198173084}), (7, 89, {'weight': 0.06309726858881536}), (7, 90, {'weight': 0.031161032278753137}), (7, 91, {'weight': 0.05571432948296677}), (7, 92, {'weight': 0.12393356199167702}), (7, 93, {'weight': 0.07026891851253916}), (7, 94, {'weight': 0.03898046953315838}), (7, 95, {'weight': 0.05823393943722868}), (7, 96, {'weight': 0.03328523250399963}), (7, 97, {'weight': 0.034804468155714675}), (7, 98, {'weight': 0.07569328421267253}), (7, 99, {'weight': 0.08146534131773564}), (8, 8, {'weight': 1.0}), (8, 9, {'weight': 0.4853160463854821}), (8, 10, {'weight': 0.18128409439611715}), (8, 11, {'weight': 0.179044057031019}), (8, 12, {'weight': 0.26936701343020575}), (8, 13, {'weight': 0.07788210100797262}), (8, 14, {'weight': 0.0900967763414168}), (8, 15, {'weight': 0.18096712561296985}), (8, 16, {'weight': 0.2784366319491167}), (8, 17, {'weight': 0.3809687185255229}), (8, 18, {'weight': 0.11840387956638872}), (8, 19, {'weight': 0.33478656244293226}), (8, 20, {'weight': 0.06742435995153943}), (8, 21, {'weight': 0.4234707339907119}), (8, 22, {'weight': 0.15811669192908245}), (8, 23, {'weight': 0.08306727014090302}), (8, 24, {'weight': 0.0618875985690889}), (8, 25, {'weight': 0.45106974148744794}), (8, 26, {'weight': 0.3650222193478931}), (8, 27, {'weight': 0.13003210255628136}), (8, 28, {'weight': 0.2944695979140433}), (8, 29, {'weight': 0.1354798037701027}), (8, 30, {'weight': 0.4125678345182182}), (8, 31, {'weight': 0.07125847249913479}), (8, 32, {'weight': 0.24975706080618487}), (8, 33, {'weight': 0.22412387404018833}), (8, 34, {'weight': 0.2412517196631917}), (8, 35, {'weight': 0.5113579320890342}), (8, 36, {'weight': 0.10205530867793294}), (8, 37, {'weight': 0.38903588875183803}), (8, 38, {'weight': 0.06354600616003037}), (8, 39, {'weight': 0.11293923801606673}), (8, 40, {'weight': 0.07853742704558996}), (8, 41, {'weight': 0.39173541680030743}), (8, 42, {'weight': 0.06317740453393356}), (8, 43, {'weight': 0.38892475902182627}), (8, 44, {'weight': 0.19498520662100582}), (8, 45, {'weight': 0.29553428713342345}), (8, 46, {'weight': 0.08566977930352182}), (8, 47, {'weight': 0.18593364876967622}), (8, 48, {'weight': 0.12261930507317341}), (8, 49, {'weight': 0.20695498477806107}), (8, 50, {'weight': 0.23250589274954248}), (8, 51, {'weight': 0.10925780528545463}), (8, 52, {'weight': 0.3280129344773321}), (8, 53, {'weight': 0.43868535441328105}), (8, 54, {'weight': 0.10273901818144116}), (8, 55, {'weight': 0.09423734323327762}), (8, 56, {'weight': 0.16287500336937183}), (8, 57, {'weight': 0.2449555378099284}), (8, 58, {'weight': 0.09144459765816844}), (8, 59, {'weight': 0.1951429251014542}), (8, 60, {'weight': 0.21787850301958228}), (8, 61, {'weight': 0.10600821340497779}), (8, 62, {'weight': 0.057207690609765605}), (8, 63, {'weight': 0.10353234250407202}), (8, 64, {'weight': 0.13555970691423203}), (8, 65, {'weight': 0.1269599544413063}), (8, 66, {'weight': 0.05974858039101769}), (8, 67, {'weight': 0.06462285566221526}), (8, 68, {'weight': 0.0503672193040581}), (8, 69, {'weight': 0.20075755887208338}), (8, 70, {'weight': 0.02598931398206321}), (8, 71, {'weight': 0.18689029468431137}), (8, 72, {'weight': 0.14668208027969695}), (8, 73, {'weight': 0.10551406750827466}), (8, 74, {'weight': 0.1017403951416857}), (8, 75, {'weight': 0.055781509422881556}), (8, 76, {'weight': 0.05275409525117111}), (8, 77, {'weight': 0.07358326953603292}), (8, 78, {'weight': 0.08507591332900029}), (8, 79, {'weight': 0.07606436196656696}), (8, 80, {'weight': 0.03520092884962997}), (8, 81, {'weight': 0.05373404878095921}), (8, 82, {'weight': 0.154438125742216}), (8, 83, {'weight': 0.056379595136050537}), (8, 84, {'weight': 0.06212006198536192}), (8, 85, {'weight': 0.051572885172324334}), (8, 86, {'weight': 0.05927088123090636}), (8, 87, {'weight': 0.1456867235502866}), (8, 88, {'weight': 0.05506953230523047}), (8, 89, {'weight': 0.06374328003175006}), (8, 90, {'weight': 0.02664404881576084}), (8, 91, {'weight': 0.046607354670033185}), (8, 92, {'weight': 0.07538724708018191}), (8, 93, {'weight': 0.04802128993972489}), (8, 94, {'weight': 0.04272051360587025}), (8, 95, {'weight': 0.07855690115193945}), (8, 96, {'weight': 0.11911043213519056}), (8, 97, {'weight': 0.029186038373417343}), (8, 98, {'weight': 0.030111216817611825}), (8, 99, {'weight': 0.040782793332229283}), (9, 9, {'weight': 1.0}), (9, 10, {'weight': 0.2060288097262405}), (9, 11, {'weight': 0.1176500467928657}), (9, 12, {'weight': 0.16229205066224536}), (9, 13, {'weight': 0.0942566849800501}), (9, 14, {'weight': 0.11917753326984934}), (9, 15, {'weight': 0.09908784316295953}), (9, 16, {'weight': 0.13514246677074632}), (9, 17, {'weight': 0.2421786704715499}), (9, 18, {'weight': 0.12930092820957434}), (9, 19, {'weight': 0.12640686518921745}), (9, 20, {'weight': 0.10910952231753693}), (9, 21, {'weight': 0.26295804855611804}), (9, 22, {'weight': 0.1173596808493606}), (9, 23, {'weight': 0.07971740655173676}), (9, 24, {'weight': 0.08494925121436744}), (9, 25, {'weight': 0.35043842274934567}), (9, 26, {'weight': 0.19143837839076044}), (9, 27, {'weight': 0.11362413314732212}), (9, 28, {'weight': 0.3424830963571135}), (9, 29, {'weight': 0.2135378226001229}), (9, 30, {'weight': 0.24243580328390524}), (9, 31, {'weight': 0.08580716575263474}), (9, 32, {'weight': 0.10884573452567711}), (9, 33, {'weight': 0.09393307784939164}), (9, 34, {'weight': 0.1597977110913151}), (9, 35, {'weight': 0.4459623565132258}), (9, 36, {'weight': 0.0881193526668829}), (9, 37, {'weight': 0.2516154768041967}), (9, 38, {'weight': 0.09139434971288915}), (9, 39, {'weight': 0.0791808944087708}), (9, 40, {'weight': 0.09378616466322454}), (9, 41, {'weight': 0.22606908470507928}), (9, 42, {'weight': 0.13356534390686833}), (9, 43, {'weight': 0.2585601960960192}), (9, 44, {'weight': 0.15436627477165044}), (9, 45, {'weight': 0.15529303096629854}), (9, 46, {'weight': 0.10498029210727401}), (9, 47, {'weight': 0.10374848628594424}), (9, 48, {'weight': 0.23844210256579768}), (9, 49, {'weight': 0.12030731822137677}), (9, 50, {'weight': 0.16023336506711433}), (9, 51, {'weight': 0.09974642937582662}), (9, 52, {'weight': 0.13369856100251826}), (9, 53, {'weight': 0.24363841235418288}), (9, 54, {'weight': 0.22546188594112515}), (9, 55, {'weight': 0.08644909677899121}), (9, 56, {'weight': 0.10496964519936672}), (9, 57, {'weight': 0.2312248001309395}), (9, 58, {'weight': 0.2207235373251787}), (9, 59, {'weight': 0.2534935640361947}), (9, 60, {'weight': 0.13688103680407437}), (9, 61, {'weight': 0.1997462935059315}), (9, 62, {'weight': 0.08592242273470752}), (9, 63, {'weight': 0.1640015837462151}), (9, 64, {'weight': 0.19493898157695422}), (9, 65, {'weight': 0.1463648319862012}), (9, 66, {'weight': 0.10005449594921684}), (9, 67, {'weight': 0.09608421611828774}), (9, 68, {'weight': 0.13989239109430285}), (9, 69, {'weight': 0.15486349953342363}), (9, 70, {'weight': 0.044614862550659405}), (9, 71, {'weight': 0.24472010613132883}), (9, 72, {'weight': 0.16598401042221061}), (9, 73, {'weight': 0.1475104762482092}), (9, 74, {'weight': 0.16231975043921248}), (9, 75, {'weight': 0.09572958373075573}), (9, 76, {'weight': 0.09425788159113743}), (9, 77, {'weight': 0.08681070230053739}), (9, 78, {'weight': 0.06927447971754469}), (9, 79, {'weight': 0.038496869614482065}), (9, 80, {'weight': 0.035657159572996894}), (9, 81, {'weight': 0.13299260977592925}), (9, 82, {'weight': 0.3307042515956836}), (9, 83, {'weight': 0.07366101508514766}), (9, 84, {'weight': 0.0965333450572935}), (9, 85, {'weight': 0.050821143953413084}), (9, 86, {'weight': 0.10331827240193345}), (9, 87, {'weight': 0.0955339692400477}), (9, 88, {'weight': 0.10718909274453968}), (9, 89, {'weight': 0.11978129265956072}), (9, 90, {'weight': 0.04112117672835538}), (9, 91, {'weight': 0.090700441016174}), (9, 92, {'weight': 0.2085118604367045}), (9, 93, {'weight': 0.05635636036158695}), (9, 94, {'weight': 0.03334210931672067}), (9, 95, {'weight': 0.057963984668569404}), (9, 96, {'weight': 0.06837861579690005}), (9, 97, {'weight': 0.034925200907599}), (9, 98, {'weight': 0.06490174430820056}), (9, 99, {'weight': 0.05122125513067448}), (10, 10, {'weight': 1.0}), (10, 11, {'weight': 0.11071810071017804}), (10, 12, {'weight': 0.6459250158019678}), (10, 13, {'weight': 0.07833381192777365}), (10, 14, {'weight': 0.11006745969150246}), (10, 15, {'weight': 0.567540257535303}), (10, 16, {'weight': 0.6699406675630326}), (10, 17, {'weight': 0.14413766763360694}), (10, 18, {'weight': 0.5061651143894597}), (10, 19, {'weight': 0.5149809365751425}), (10, 20, {'weight': 0.16981997775522295}), (10, 21, {'weight': 0.15065684149109215}), (10, 22, {'weight': 0.22148474786717992}), (10, 23, {'weight': 0.08934828262284153}), (10, 24, {'weight': 0.16931751328424233}), (10, 25, {'weight': 0.11013768701913142}), (10, 26, {'weight': 0.15544087354163083}), (10, 27, {'weight': 0.5435274629656365}), (10, 28, {'weight': 0.13966067245745298}), (10, 29, {'weight': 0.4614779630861937}), (10, 30, {'weight': 0.09182383467276764}), (10, 31, {'weight': 0.14731731388123956}), (10, 32, {'weight': 0.13093514964548167}), (10, 33, {'weight': 0.22735865441213998}), (10, 34, {'weight': 0.18461797713086342}), (10, 35, {'weight': 0.13102965045136178}), (10, 36, {'weight': 0.07121130974197191}), (10, 37, {'weight': 0.1963283399053137}), (10, 38, {'weight': 0.17127899781868788}), (10, 39, {'weight': 0.0783956677912713}), (10, 40, {'weight': 0.2024356046700543}), (10, 41, {'weight': 0.15861257729726208}), (10, 42, {'weight': 0.2289761156684833}), (10, 43, {'weight': 0.07888514236776718}), (10, 44, {'weight': 0.24155072083404977}), (10, 45, {'weight': 0.3386667272375756}), (10, 46, {'weight': 0.1807042705803394}), (10, 47, {'weight': 0.19029742972684796}), (10, 48, {'weight': 0.18654056407761804}), (10, 49, {'weight': 0.31692196557632923}), (10, 50, {'weight': 0.30908340386999983}), (10, 51, {'weight': 0.30141565955847127}), (10, 52, {'weight': 0.2753129840599793}), (10, 53, {'weight': 0.21899726433110817}), (10, 54, {'weight': 0.17631999213884672}), (10, 55, {'weight': 0.11464345146860908}), (10, 56, {'weight': 0.24675609247025104}), (10, 57, {'weight': 0.11280750884784564}), (10, 58, {'weight': 0.31579257836111707}), (10, 59, {'weight': 0.10194026523972508}), (10, 60, {'weight': 0.09299490024966048}), (10, 61, {'weight': 0.18284965190785032}), (10, 62, {'weight': 0.1418555359581598}), (10, 63, {'weight': 0.09171335544151069}), (10, 64, {'weight': 0.11170047503233754}), (10, 65, {'weight': 0.19967431975562766}), (10, 66, {'weight': 0.21192033907691044}), (10, 67, {'weight': 0.18256158429635722}), (10, 68, {'weight': 0.1840933489747126}), (10, 69, {'weight': 0.07541907220212633}), (10, 70, {'weight': 0.05006487470460948}), (10, 71, {'weight': 0.078862439477566}), (10, 72, {'weight': 0.08647687416953428}), (10, 73, {'weight': 0.25752627437776165}), (10, 74, {'weight': 0.07683385419426206}), (10, 75, {'weight': 0.09908904898016505}), (10, 76, {'weight': 0.06289699400014265}), (10, 77, {'weight': 0.14219180271271936}), (10, 78, {'weight': 0.16309879699164193}), (10, 79, {'weight': 0.10071201879766414}), (10, 80, {'weight': 0.05435740742406041}), (10, 81, {'weight': 0.08026816064932234}), (10, 82, {'weight': 0.1608653312318205}), (10, 83, {'weight': 0.09939571781826521}), (10, 84, {'weight': 0.06509354242900811}), (10, 85, {'weight': 0.07853089866037048}), (10, 86, {'weight': 0.1288445367818756}), (10, 87, {'weight': 0.0908128260960338}), (10, 88, {'weight': 0.10511333794868064}), (10, 89, {'weight': 0.0944166281602353}), (10, 90, {'weight': 0.05337206186600335}), (10, 91, {'weight': 0.06898301379381808}), (10, 92, {'weight': 0.19256146789448664}), (10, 93, {'weight': 0.10264980432698657}), (10, 94, {'weight': 0.053921701051733106}), (10, 95, {'weight': 0.09484766224776633}), (10, 96, {'weight': 0.04748656919372339}), (10, 97, {'weight': 0.044537976183567266}), (10, 98, {'weight': 0.12632890018985835}), (10, 99, {'weight': 0.11958165790247324}), (11, 11, {'weight': 1.0}), (11, 12, {'weight': 0.08132984499014304}), (11, 13, {'weight': 0.08020231961609339}), (11, 14, {'weight': 0.25555045693184336}), (11, 15, {'weight': 0.06816811615811133}), (11, 16, {'weight': 0.10389961739131093}), (11, 17, {'weight': 0.0951583028916047}), (11, 18, {'weight': 0.06451394810391234}), (11, 19, {'weight': 0.13499897227690383}), (11, 20, {'weight': 0.10036051003419012}), (11, 21, {'weight': 0.4632026921618167}), (11, 22, {'weight': 0.22192484460453482}), (11, 23, {'weight': 0.07847308564307605}), (11, 24, {'weight': 0.058952349138655644}), (11, 25, {'weight': 0.09035685272303681}), (11, 26, {'weight': 0.15463803448683078}), (11, 27, {'weight': 0.15229993928041752}), (11, 28, {'weight': 0.2042236901165898}), (11, 29, {'weight': 0.11740845430983228}), (11, 30, {'weight': 0.22142290284945434}), (11, 31, {'weight': 0.0635500552073016}), (11, 32, {'weight': 0.3316863919870001}), (11, 33, {'weight': 0.1777164835581326}), (11, 34, {'weight': 0.2376396478518255}), (11, 35, {'weight': 0.10610160201085368}), (11, 36, {'weight': 0.26269854145614213}), (11, 37, {'weight': 0.26423190290402143}), (11, 38, {'weight': 0.06261968547061281}), (11, 39, {'weight': 0.17346223284302542}), (11, 40, {'weight': 0.15764982151135187}), (11, 41, {'weight': 0.23827531211156133}), (11, 42, {'weight': 0.150811367932132}), (11, 43, {'weight': 0.09179619798586391}), (11, 44, {'weight': 0.16024487763171227}), (11, 45, {'weight': 0.17758229909548814}), (11, 46, {'weight': 0.15803793985850362}), (11, 47, {'weight': 0.3474293335115427}), (11, 48, {'weight': 0.07661871026505845}), (11, 49, {'weight': 0.32106789187502904}), (11, 50, {'weight': 0.11192462009399677}), (11, 51, {'weight': 0.18195948972941428}), (11, 52, {'weight': 0.16401046370391806}), (11, 53, {'weight': 0.15634496132740808}), (11, 54, {'weight': 0.08007033188240717}), (11, 55, {'weight': 0.15593482052041757}), (11, 56, {'weight': 0.073509865491624}), (11, 57, {'weight': 0.0749407899004502}), (11, 58, {'weight': 0.10595992653683567}), (11, 59, {'weight': 0.19112429927870261}), (11, 60, {'weight': 0.16524879637070705}), (11, 61, {'weight': 0.12656278574419294}), (11, 62, {'weight': 0.09534888209185632}), (11, 63, {'weight': 0.060021680384427914}), (11, 64, {'weight': 0.0762661847856747}), (11, 65, {'weight': 0.14560723957348864}), (11, 66, {'weight': 0.08296297277201337}), (11, 67, {'weight': 0.06704315829922905}), (11, 68, {'weight': 0.04433392563007334}), (11, 69, {'weight': 0.10581829859336225}), (11, 70, {'weight': 0.024481765923370535}), (11, 71, {'weight': 0.09286217880540276}), (11, 72, {'weight': 0.052913733734076804}), (11, 73, {'weight': 0.08583597206446578}), (11, 74, {'weight': 0.12910318904216034}), (11, 75, {'weight': 0.04595356333585293}), (11, 76, {'weight': 0.06552818638033067}), (11, 77, {'weight': 0.08789026057730509}), (11, 78, {'weight': 0.04224365982237996}), (11, 79, {'weight': 0.032577950962072416}), (11, 80, {'weight': 0.05259540820257039}), (11, 81, {'weight': 0.10753191163952495}), (11, 82, {'weight': 0.07195520812019345}), (11, 83, {'weight': 0.05030490177060677}), (11, 84, {'weight': 0.0597494377178787}), (11, 85, {'weight': 0.03931201548679353}), (11, 86, {'weight': 0.046541971633823016}), (11, 87, {'weight': 0.09355622074197946}), (11, 88, {'weight': 0.10581470032346811}), (11, 89, {'weight': 0.10993879381575672}), (11, 90, {'weight': 0.023316596312010468}), (11, 91, {'weight': 0.052470464541463535}), (11, 92, {'weight': 0.11031776815463953}), (11, 93, {'weight': 0.034813692223805356}), (11, 94, {'weight': 0.024627369982587223}), (11, 95, {'weight': 0.06369556837890723}), (11, 96, {'weight': 0.052625263646586345}), (11, 97, {'weight': 0.03065654977514533}), (11, 98, {'weight': 0.026965523710710586}), (11, 99, {'weight': 0.02894866422503524}), (12, 12, {'weight': 1.0}), (12, 13, {'weight': 0.08263392675680328}), (12, 14, {'weight': 0.07579993538479896}), (12, 15, {'weight': 0.5155544512011985}), (12, 16, {'weight': 0.5969795951383632}), (12, 17, {'weight': 0.25864346663719695}), (12, 18, {'weight': 0.42352844310843857}), (12, 19, {'weight': 0.3916863208691348}), (12, 20, {'weight': 0.09566764780611477}), (12, 21, {'weight': 0.223596213296759}), (12, 22, {'weight': 0.205654149829814}), (12, 23, {'weight': 0.07179864699025744}), (12, 24, {'weight': 0.1243401240427488}), (12, 25, {'weight': 0.12239140759107672}), (12, 26, {'weight': 0.20574142051237135}), (12, 27, {'weight': 0.5071722073733171}), (12, 28, {'weight': 0.11422088296810731}), (12, 29, {'weight': 0.4689051188974938}), (12, 30, {'weight': 0.1227972828678287}), (12, 31, {'weight': 0.12606227031227843}), (12, 32, {'weight': 0.16640363643809097}), (12, 33, {'weight': 0.17927028303392928}), (12, 34, {'weight': 0.19824023365609883}), (12, 35, {'weight': 0.2323308878468277}), (12, 36, {'weight': 0.07012601745380204}), (12, 37, {'weight': 0.2765951591031122}), (12, 38, {'weight': 0.13933760219872732}), (12, 39, {'weight': 0.07085296426517787}), (12, 40, {'weight': 0.14763351534307068}), (12, 41, {'weight': 0.18956713997733854}), (12, 42, {'weight': 0.14582775275642265}), (12, 43, {'weight': 0.19962232709640276}), (12, 44, {'weight': 0.2012983426886918}), (12, 45, {'weight': 0.32771705474554214}), (12, 46, {'weight': 0.11614124408783588}), (12, 47, {'weight': 0.18576945065157463}), (12, 48, {'weight': 0.11227831624101321}), (12, 49, {'weight': 0.2808662947974391}), (12, 50, {'weight': 0.2581875629448501}), (12, 51, {'weight': 0.23798572677938967}), (12, 52, {'weight': 0.2471125197707088}), (12, 53, {'weight': 0.28730409445805816}), (12, 54, {'weight': 0.15788871570982976}), (12, 55, {'weight': 0.08907631448962379}), (12, 56, {'weight': 0.23176843222148774}), (12, 57, {'weight': 0.10312561941314735}), (12, 58, {'weight': 0.21058116879054956}), (12, 59, {'weight': 0.10164752863085807}), (12, 60, {'weight': 0.12298815078691899}), (12, 61, {'weight': 0.1848283041807522}), (12, 62, {'weight': 0.08283121003651006}), (12, 63, {'weight': 0.09050928383858442}), (12, 64, {'weight': 0.06568733444796677}), (12, 65, {'weight': 0.16411637209805824}), (12, 66, {'weight': 0.10068654539732907}), (12, 67, {'weight': 0.16579191493429485}), (12, 68, {'weight': 0.10670726103169609}), (12, 69, {'weight': 0.14726746181919803}), (12, 70, {'weight': 0.041013067370348315}), (12, 71, {'weight': 0.09382053198388275}), (12, 72, {'weight': 0.11255411909106061}), (12, 73, {'weight': 0.23090276677163132}), (12, 74, {'weight': 0.0676365725953295}), (12, 75, {'weight': 0.06840435791176407}), (12, 76, {'weight': 0.06397414565276782}), (12, 77, {'weight': 0.13992101316805217}), (12, 78, {'weight': 0.11180838753838226}), (12, 79, {'weight': 0.07991476852030907}), (12, 80, {'weight': 0.04931507588558383}), (12, 81, {'weight': 0.0705476441437068}), (12, 82, {'weight': 0.09472369922615546}), (12, 83, {'weight': 0.0956202860441957}), (12, 84, {'weight': 0.06836760483019091}), (12, 85, {'weight': 0.054901947820829855}), (12, 86, {'weight': 0.055709677894672974}), (12, 87, {'weight': 0.14850378963878588}), (12, 88, {'weight': 0.07337241676147399}), (12, 89, {'weight': 0.08311626489890667}), (12, 90, {'weight': 0.046912795448135175}), (12, 91, {'weight': 0.06736025595488479}), (12, 92, {'weight': 0.12245649801421962}), (12, 93, {'weight': 0.0781689230212015}), (12, 94, {'weight': 0.04254214399921556}), (12, 95, {'weight': 0.09092183149482957}), (12, 96, {'weight': 0.07576350026963491}), (12, 97, {'weight': 0.04882217803393131}), (12, 98, {'weight': 0.0800177763713535}), (12, 99, {'weight': 0.0730181971040546}), (13, 13, {'weight': 1.0}), (13, 14, {'weight': 0.10022238778415832}), (13, 15, {'weight': 0.07038606923778307}), (13, 16, {'weight': 0.08336838719227652}), (13, 17, {'weight': 0.34454355075011855}), (13, 18, {'weight': 0.09505528121046483}), (13, 19, {'weight': 0.10531646581420949}), (13, 20, {'weight': 0.05100910030135257}), (13, 21, {'weight': 0.302175910014266}), (13, 22, {'weight': 0.25154563228531157}), (13, 23, {'weight': 0.37761090336833447}), (13, 24, {'weight': 0.07155825412837297}), (13, 25, {'weight': 0.13819058920960703}), (13, 26, {'weight': 0.1559368994798706}), (13, 27, {'weight': 0.07963784523125228}), (13, 28, {'weight': 0.26444311758423733}), (13, 29, {'weight': 0.10064324704332966}), (13, 30, {'weight': 0.24690904408997422}), (13, 31, {'weight': 0.07074946403741897}), (13, 32, {'weight': 0.43796520943627126}), (13, 33, {'weight': 0.15392589865986844}), (13, 34, {'weight': 0.0726852232549193}), (13, 35, {'weight': 0.15415965192949083}), (13, 36, {'weight': 0.0846377606109493}), (13, 37, {'weight': 0.08724731108550783}), (13, 38, {'weight': 0.05642801513276746}), (13, 39, {'weight': 0.4347686132824404}), (13, 40, {'weight': 0.06556348769890588}), (13, 41, {'weight': 0.19573148806446553}), (13, 42, {'weight': 0.07601597930823958}), (13, 43, {'weight': 0.3107496694772832}), (13, 44, {'weight': 0.07026412835853883}), (13, 45, {'weight': 0.12709404870406638}), (13, 46, {'weight': 0.05545781187467076}), (13, 47, {'weight': 0.08534065053927084}), (13, 48, {'weight': 0.07137290913477355}), (13, 49, {'weight': 0.10507818834565336}), (13, 50, {'weight': 0.16880388507494848}), (13, 51, {'weight': 0.10288003831028983}), (13, 52, {'weight': 0.0810025604648354}), (13, 53, {'weight': 0.07832744004724904}), (13, 54, {'weight': 0.19507678582090443}), (13, 55, {'weight': 0.20532870962434363}), (13, 56, {'weight': 0.26614523646722354}), (13, 57, {'weight': 0.07826969661673921}), (13, 58, {'weight': 0.09427383825347381}), (13, 59, {'weight': 0.07332151726151209}), (13, 60, {'weight': 0.09056857960457929}), (13, 61, {'weight': 0.06553630489598346}), (13, 62, {'weight': 0.0667818254062644}), (13, 63, {'weight': 0.06754417173597241}), (13, 64, {'weight': 0.06090785893691761}), (13, 65, {'weight': 0.12916174045845674}), (13, 66, {'weight': 0.05370418500821306}), (13, 67, {'weight': 0.0719366489789405}), (13, 68, {'weight': 0.07205893132271021}), (13, 69, {'weight': 0.0733506344411462}), (13, 70, {'weight': 0.024592149974425777}), (13, 71, {'weight': 0.0645340152327283}), (13, 72, {'weight': 0.04816244029537847}), (13, 73, {'weight': 0.06894615738668528}), (13, 74, {'weight': 0.0877625625664023}), (13, 75, {'weight': 0.0602049020988513}), (13, 76, {'weight': 0.06558544857361584}), (13, 77, {'weight': 0.10103413899005542}), (13, 78, {'weight': 0.05899857486489701}), (13, 79, {'weight': 0.04616549066979226}), (13, 80, {'weight': 0.03056002724388626}), (13, 81, {'weight': 0.045589993096346246}), (13, 82, {'weight': 0.06883453335745861}), (13, 83, {'weight': 0.044908643129244745}), (13, 84, {'weight': 0.05897613457450672}), (13, 85, {'weight': 0.036755696466826124}), (13, 86, {'weight': 0.05096950476892405}), (13, 87, {'weight': 0.05426058857935262}), (13, 88, {'weight': 0.1778898358984316}), (13, 89, {'weight': 0.07858800249674969}), (13, 90, {'weight': 0.02365873788494074}), (13, 91, {'weight': 0.04036775411925758}), (13, 92, {'weight': 0.06567178791503925}), (13, 93, {'weight': 0.041511945153622415}), (13, 94, {'weight': 0.02372959266774522}), (13, 95, {'weight': 0.03293043319822486}), (13, 96, {'weight': 0.027899861796251008}), (13, 97, {'weight': 0.03150022041010991}), (13, 98, {'weight': 0.049899480414892575}), (13, 99, {'weight': 0.032712275559256425}), (14, 14, {'weight': 1.0}), (14, 15, {'weight': 0.09150105843875928}), (14, 16, {'weight': 0.09805797709812289}), (14, 17, {'weight': 0.08620292146601027}), (14, 18, {'weight': 0.10420901298787666}), (14, 19, {'weight': 0.07311032936193568}), (14, 20, {'weight': 0.1794541658884687}), (14, 21, {'weight': 0.15396081362288727}), (14, 22, {'weight': 0.2140499477631923}), (14, 23, {'weight': 0.16464520860815884}), (14, 24, {'weight': 0.10861204146795556}), (14, 25, {'weight': 0.278302450050505}), (14, 26, {'weight': 0.07114414596567216}), (14, 27, {'weight': 0.08196087310276706}), (14, 28, {'weight': 0.25830578441987806}), (14, 29, {'weight': 0.2598404152720479}), (14, 30, {'weight': 0.0932252113559573}), (14, 31, {'weight': 0.09234191284272361}), (14, 32, {'weight': 0.08135861075389839}), (14, 33, {'weight': 0.18321719722572483}), (14, 34, {'weight': 0.2846624857048576}), (14, 35, {'weight': 0.1874212055036324}), (14, 36, {'weight': 0.1917657722505462}), (14, 37, {'weight': 0.22525148157909905}), (14, 38, {'weight': 0.10502795486145053}), (14, 39, {'weight': 0.10147658423915697}), (14, 40, {'weight': 0.18527937354369944}), (14, 41, {'weight': 0.1638965405655253}), (14, 42, {'weight': 0.2793806944914021}), (14, 43, {'weight': 0.2063169299899485}), (14, 44, {'weight': 0.15800727258802127}), (14, 45, {'weight': 0.08132168024214281}), (14, 46, {'weight': 0.24877811150373064}), (14, 47, {'weight': 0.24051987462005936}), (14, 48, {'weight': 0.09085163994378198}), (14, 49, {'weight': 0.08443998196388514}), (14, 50, {'weight': 0.09019708547992}), (14, 51, {'weight': 0.10878577460573999}), (14, 52, {'weight': 0.08947202842400578}), (14, 53, {'weight': 0.0724353200409479}), (14, 54, {'weight': 0.08492772795999746}), (14, 55, {'weight': 0.08120827751729034}), (14, 56, {'weight': 0.07790704996562373}), (14, 57, {'weight': 0.0935255829874922}), (14, 58, {'weight': 0.17481204093344366}), (14, 59, {'weight': 0.23802931181993733}), (14, 60, {'weight': 0.13359015891851062}), (14, 61, {'weight': 0.06542421880125542}), (14, 62, {'weight': 0.10592779210807063}), (14, 63, {'weight': 0.23204595114697468}), (14, 64, {'weight': 0.058373090252031246}), (14, 65, {'weight': 0.08043826229286274}), (14, 66, {'weight': 0.1930607568441644}), (14, 67, {'weight': 0.05978424337073204}), (14, 68, {'weight': 0.060243643593029084}), (14, 69, {'weight': 0.06794736235026}), (14, 70, {'weight': 0.029353494103553094}), (14, 71, {'weight': 0.06700063703313988}), (14, 72, {'weight': 0.09193797503174905}), (14, 73, {'weight': 0.06614259254710417}), (14, 74, {'weight': 0.11912214681754707}), (14, 75, {'weight': 0.0603923499586635}), (14, 76, {'weight': 0.04958940692238366}), (14, 77, {'weight': 0.06300263858875231}), (14, 78, {'weight': 0.0470326119147535}), (14, 79, {'weight': 0.06623911116762546}), (14, 80, {'weight': 0.03731310059010165}), (14, 81, {'weight': 0.049785085548431175}), (14, 82, {'weight': 0.10025785827513442}), (14, 83, {'weight': 0.0679346640506009}), (14, 84, {'weight': 0.054473502571413104}), (14, 85, {'weight': 0.06174381886008737}), (14, 86, {'weight': 0.09117055866311419}), (14, 87, {'weight': 0.06406007819045259}), (14, 88, {'weight': 0.09586546665424754}), (14, 89, {'weight': 0.10640640432762785}), (14, 90, {'weight': 0.02502210754894773}), (14, 91, {'weight': 0.05428541613222478}), (14, 92, {'weight': 0.06949237577146093}), (14, 93, {'weight': 0.034803074205667264}), (14, 94, {'weight': 0.03176507472141303}), (14, 95, {'weight': 0.051127467611067484}), (14, 96, {'weight': 0.04157789852368065}), (14, 97, {'weight': 0.033956138130069084}), (14, 98, {'weight': 0.036561312560993486}), (14, 99, {'weight': 0.03473087836606024}), (15, 15, {'weight': 1.0}), (15, 16, {'weight': 0.46280604306231427}), (15, 17, {'weight': 0.1153212429608641}), (15, 18, {'weight': 0.45609187693843795}), (15, 19, {'weight': 0.18795093222851367}), (15, 20, {'weight': 0.0734391794953037}), (15, 21, {'weight': 0.13183570948451553}), (15, 22, {'weight': 0.10855941018074733}), (15, 23, {'weight': 0.06321975015934586}), (15, 24, {'weight': 0.13775515555685508}), (15, 25, {'weight': 0.12844493256883455}), (15, 26, {'weight': 0.13869670400863146}), (15, 27, {'weight': 0.3658538012380778}), (15, 28, {'weight': 0.11708366683098118}), (15, 29, {'weight': 0.216614484957727}), (15, 30, {'weight': 0.0836005136357923}), (15, 31, {'weight': 0.23580498751033876}), (15, 32, {'weight': 0.08122097369575701}), (15, 33, {'weight': 0.15092043934837485}), (15, 34, {'weight': 0.0875809380344566}), (15, 35, {'weight': 0.16864957683489662}), (15, 36, {'weight': 0.058680374280099964}), (15, 37, {'weight': 0.1212761533373303}), (15, 38, {'weight': 0.14285812555247587}), (15, 39, {'weight': 0.08746076897483201}), (15, 40, {'weight': 0.09091745741154159}), (15, 41, {'weight': 0.1487064658102268}), (15, 42, {'weight': 0.09774045661395378}), (15, 43, {'weight': 0.13625591859616176}), (15, 44, {'weight': 0.0812728129609731}), (15, 45, {'weight': 0.21338206992164477}), (15, 46, {'weight': 0.09508169659884325}), (15, 47, {'weight': 0.08801503976292935}), (15, 48, {'weight': 0.11001411280432022}), (15, 49, {'weight': 0.16454218413685995}), (15, 50, {'weight': 0.14471841256009116}), (15, 51, {'weight': 0.16692131423357442}), (15, 52, {'weight': 0.14514248792382037}), (15, 53, {'weight': 0.1811856545996326}), (15, 54, {'weight': 0.09101877861855108}), (15, 55, {'weight': 0.07578751896735053}), (15, 56, {'weight': 0.13547835588171125}), (15, 57, {'weight': 0.08155018296441047}), (15, 58, {'weight': 0.09570457261924648}), (15, 59, {'weight': 0.123171683657089}), (15, 60, {'weight': 0.06896267065126344}), (15, 61, {'weight': 0.1276237301767627}), (15, 62, {'weight': 0.08404269543293957}), (15, 63, {'weight': 0.07095216816366738}), (15, 64, {'weight': 0.05942790975329275}), (15, 65, {'weight': 0.11304278548581348}), (15, 66, {'weight': 0.081840498706506}), (15, 67, {'weight': 0.08233659602562378}), (15, 68, {'weight': 0.08282909691313892}), (15, 69, {'weight': 0.06103669644102509}), (15, 70, {'weight': 0.03156461812541221}), (15, 71, {'weight': 0.06541763109693649}), (15, 72, {'weight': 0.0774603169169215}), (15, 73, {'weight': 0.08967606220657029}), (15, 74, {'weight': 0.05300351066943022}), (15, 75, {'weight': 0.0656408937188735}), (15, 76, {'weight': 0.04765769307098702}), (15, 77, {'weight': 0.0736415533053601}), (15, 78, {'weight': 0.07849449193150704}), (15, 79, {'weight': 0.05297942151002849}), (15, 80, {'weight': 0.04426636377165809}), (15, 81, {'weight': 0.056486920028139376}), (15, 82, {'weight': 0.07484123191853603}), (15, 83, {'weight': 0.06165419561637186}), (15, 84, {'weight': 0.0481720878196823}), (15, 85, {'weight': 0.04288774112323254}), (15, 86, {'weight': 0.04946395345166783}), (15, 87, {'weight': 0.07456013497833561}), (15, 88, {'weight': 0.06457518740687498}), (15, 89, {'weight': 0.0705306991620831}), (15, 90, {'weight': 0.03264376086862854}), (15, 91, {'weight': 0.052624677067559016}), (15, 92, {'weight': 0.0715022961340529}), (15, 93, {'weight': 0.0643785220023522}), (15, 94, {'weight': 0.04290668655727244}), (15, 95, {'weight': 0.04716141545982118}), (15, 96, {'weight': 0.03158938930199312}), (15, 97, {'weight': 0.03161039069375395}), (15, 98, {'weight': 0.060402716205435296}), (15, 99, {'weight': 0.04457812224152129}), (16, 16, {'weight': 1.0}), (16, 17, {'weight': 0.10797871006746765}), (16, 18, {'weight': 0.5754815298198853}), (16, 19, {'weight': 0.40651949176207086}), (16, 20, {'weight': 0.16690700467963834}), (16, 21, {'weight': 0.24780521175987158}), (16, 22, {'weight': 0.07595214978248362}), (16, 23, {'weight': 0.1316001694039971}), (16, 24, {'weight': 0.12339696646531799}), (16, 25, {'weight': 0.1526368832344508}), (16, 26, {'weight': 0.36332577143663175}), (16, 27, {'weight': 0.47742026071649}), (16, 28, {'weight': 0.11696428060207718}), (16, 29, {'weight': 0.23765077221426426}), (16, 30, {'weight': 0.10514950182379924}), (16, 31, {'weight': 0.12024176708929338}), (16, 32, {'weight': 0.20023513114512798}), (16, 33, {'weight': 0.12374483042860815}), (16, 34, {'weight': 0.1291550312757798}), (16, 35, {'weight': 0.09764989873229009}), (16, 36, {'weight': 0.06096705030033943}), (16, 37, {'weight': 0.29419236819622496}), (16, 38, {'weight': 0.12132204448186529}), (16, 39, {'weight': 0.07993263363969727}), (16, 40, {'weight': 0.14121644213776507}), (16, 41, {'weight': 0.2717019111634783}), (16, 42, {'weight': 0.1412247722466093}), (16, 43, {'weight': 0.20532676068446448}), (16, 44, {'weight': 0.28304698775718795}), (16, 45, {'weight': 0.4195610031241266}), (16, 46, {'weight': 0.16991834466750455}), (16, 47, {'weight': 0.27153224422383815}), (16, 48, {'weight': 0.1402524797708105}), (16, 49, {'weight': 0.29221160602885093}), (16, 50, {'weight': 0.3469351450219143}), (16, 51, {'weight': 0.35234039629574077}), (16, 52, {'weight': 0.28443645903480547}), (16, 53, {'weight': 0.33060676721314103}), (16, 54, {'weight': 0.28359537783231037}), (16, 55, {'weight': 0.1655003511917162}), (16, 56, {'weight': 0.2791717524555256}), (16, 57, {'weight': 0.11894168634239269}), (16, 58, {'weight': 0.30561602048021863}), (16, 59, {'weight': 0.07686117472613921}), (16, 60, {'weight': 0.13462724806317897}), (16, 61, {'weight': 0.17071500302618753}), (16, 62, {'weight': 0.07824843400124763}), (16, 63, {'weight': 0.09278133801028028}), (16, 64, {'weight': 0.093145860466633}), (16, 65, {'weight': 0.28660947488363164}), (16, 66, {'weight': 0.08801285124378735}), (16, 67, {'weight': 0.12707251862400878}), (16, 68, {'weight': 0.15933638557867433}), (16, 69, {'weight': 0.09029636998115713}), (16, 70, {'weight': 0.06427771428415813}), (16, 71, {'weight': 0.08953452540712556}), (16, 72, {'weight': 0.08086470635079111}), (16, 73, {'weight': 0.34532865955167447}), (16, 74, {'weight': 0.08136061659967689}), (16, 75, {'weight': 0.09452188006274154}), (16, 76, {'weight': 0.074667565380261}), (16, 77, {'weight': 0.20869151241198947}), (16, 78, {'weight': 0.1156594362495422}), (16, 79, {'weight': 0.06803079263601469}), (16, 80, {'weight': 0.06254195895817902}), (16, 81, {'weight': 0.08584406314012008}), (16, 82, {'weight': 0.16613029063127216}), (16, 83, {'weight': 0.07210377840969012}), (16, 84, {'weight': 0.07720404997371719}), (16, 85, {'weight': 0.055578013299590986}), (16, 86, {'weight': 0.05533252350446969}), (16, 87, {'weight': 0.12187991760261084}), (16, 88, {'weight': 0.08636676375584101}), (16, 89, {'weight': 0.15726750298674042}), (16, 90, {'weight': 0.049338137434157374}), (16, 91, {'weight': 0.0746940993898301}), (16, 92, {'weight': 0.2251240400381267}), (16, 93, {'weight': 0.09969084512262594}), (16, 94, {'weight': 0.07032132351752446}), (16, 95, {'weight': 0.12531878408432692}), (16, 96, {'weight': 0.0952254578684775}), (16, 97, {'weight': 0.04407354134549579}), (16, 98, {'weight': 0.07406140488624463}), (16, 99, {'weight': 0.06604156578954914}), (17, 17, {'weight': 1.0}), (17, 18, {'weight': 0.09366348721106142}), (17, 19, {'weight': 0.37361440055702844}), (17, 20, {'weight': 0.10899787762750851}), (17, 21, {'weight': 0.3299026719672864}), (17, 22, {'weight': 0.44451894108896317}), (17, 23, {'weight': 0.1933312450326473}), (17, 24, {'weight': 0.07036889485501599}), (17, 25, {'weight': 0.2927593331054069}), (17, 26, {'weight': 0.09927456032441608}), (17, 27, {'weight': 0.07903863154094853}), (17, 28, {'weight': 0.24877103629045283}), (17, 29, {'weight': 0.13751436004251522}), (17, 30, {'weight': 0.09261140397826184}), (17, 31, {'weight': 0.0775498284950677}), (17, 32, {'weight': 0.08475937138086949}), (17, 33, {'weight': 0.4401974033246552}), (17, 34, {'weight': 0.22887201858706896}), (17, 35, {'weight': 0.4951854311878632}), (17, 36, {'weight': 0.08477845240474446}), (17, 37, {'weight': 0.21681524237738928}), (17, 38, {'weight': 0.06457754542935233}), (17, 39, {'weight': 0.19751947520174165}), (17, 40, {'weight': 0.1193322752036762}), (17, 41, {'weight': 0.19909224201278536}), (17, 42, {'weight': 0.08639831642181092}), (17, 43, {'weight': 0.10412035171267486}), (17, 44, {'weight': 0.08292650487547726}), (17, 45, {'weight': 0.19750023167616904}), (17, 46, {'weight': 0.07780298594958135}), (17, 47, {'weight': 0.08474603423530729}), (17, 48, {'weight': 0.14812488401398638}), (17, 49, {'weight': 0.09985712773705684}), (17, 50, {'weight': 0.0929925442047699}), (17, 51, {'weight': 0.07330766669535378}), (17, 52, {'weight': 0.15368021205183868}), (17, 53, {'weight': 0.2570915496361506}), (17, 54, {'weight': 0.1108834312637126}), (17, 55, {'weight': 0.10000860720815999}), (17, 56, {'weight': 0.10917293624821683}), (17, 57, {'weight': 0.09103596801706386}), (17, 58, {'weight': 0.07430194341506668}), (17, 59, {'weight': 0.2163533233353362}), (17, 60, {'weight': 0.10147905681982428}), (17, 61, {'weight': 0.19072806006481116}), (17, 62, {'weight': 0.044875119589577836}), (17, 63, {'weight': 0.0761342242719915}), (17, 64, {'weight': 0.04764739327485146}), (17, 65, {'weight': 0.14585783766299926}), (17, 66, {'weight': 0.06101380498492637}), (17, 67, {'weight': 0.05865431099113613}), (17, 68, {'weight': 0.04889960859136084}), (17, 69, {'weight': 0.16279076857891644}), (17, 70, {'weight': 0.025833630772287463}), (17, 71, {'weight': 0.1539945496917864}), (17, 72, {'weight': 0.11897970724439395}), (17, 73, {'weight': 0.08746887920949031}), (17, 74, {'weight': 0.07182124803678838}), (17, 75, {'weight': 0.038353506113478306}), (17, 76, {'weight': 0.03686685382656972}), (17, 77, {'weight': 0.04831077395616315}), (17, 78, {'weight': 0.08617996938257266}), (17, 79, {'weight': 0.07618487873250764}), (17, 80, {'weight': 0.03352328616718951}), (17, 81, {'weight': 0.07728331710243586}), (17, 82, {'weight': 0.10917565299048594}), (17, 83, {'weight': 0.05803145762103368}), (17, 84, {'weight': 0.05337049283101432}), (17, 85, {'weight': 0.050703210087183495}), (17, 86, {'weight': 0.0385030524294131}), (17, 87, {'weight': 0.106915485287116}), (17, 88, {'weight': 0.07827950822420887}), (17, 89, {'weight': 0.06898744861686967}), (17, 90, {'weight': 0.02230329616389187}), (17, 91, {'weight': 0.042245316705637234}), (17, 92, {'weight': 0.07168894672331694}), (17, 93, {'weight': 0.037943723217350435}), (17, 94, {'weight': 0.02511829531767784}), (17, 95, {'weight': 0.03560518475655483}), (17, 96, {'weight': 0.050779154243936246}), (17, 97, {'weight': 0.023288841195045068}), (17, 98, {'weight': 0.051467774566525765}), (17, 99, {'weight': 0.05355817644607536}), (18, 18, {'weight': 1.0}), (18, 19, {'weight': 0.1862053054055943}), (18, 20, {'weight': 0.09543381567185702}), (18, 21, {'weight': 0.14652863719480058}), (18, 22, {'weight': 0.0793997196531952}), (18, 23, {'weight': 0.05832332852682011}), (18, 24, {'weight': 0.2341343719303252}), (18, 25, {'weight': 0.0841845803105758}), (18, 26, {'weight': 0.1231845027579736}), (18, 27, {'weight': 0.32030395910040044}), (18, 28, {'weight': 0.16089002509182407}), (18, 29, {'weight': 0.12142098951374675}), (18, 30, {'weight': 0.09561705153892751}), (18, 31, {'weight': 0.21345885402098785}), (18, 32, {'weight': 0.054351034473020976}), (18, 33, {'weight': 0.09139599303495888}), (18, 34, {'weight': 0.10895775412837294}), (18, 35, {'weight': 0.08493172264885818}), (18, 36, {'weight': 0.06758580439895412}), (18, 37, {'weight': 0.12921539623763612}), (18, 38, {'weight': 0.3383521777281201}), (18, 39, {'weight': 0.10536836475116759}), (18, 40, {'weight': 0.08001735094898699}), (18, 41, {'weight': 0.13691216732120448}), (18, 42, {'weight': 0.12307318910669413}), (18, 43, {'weight': 0.07392304131527117}), (18, 44, {'weight': 0.10542049950179319}), (18, 45, {'weight': 0.1836987154382828}), (18, 46, {'weight': 0.13833639647343998}), (18, 47, {'weight': 0.0931293035030494}), (18, 48, {'weight': 0.13724821127032794}), (18, 49, {'weight': 0.10055539595003285}), (18, 50, {'weight': 0.1335746446198502}), (18, 51, {'weight': 0.15126734083236465}), (18, 52, {'weight': 0.11650463942661066}), (18, 53, {'weight': 0.14557127848199797}), (18, 54, {'weight': 0.13088981153952328}), (18, 55, {'weight': 0.08119086972023984}), (18, 56, {'weight': 0.10657982768359586}), (18, 57, {'weight': 0.0789294798562003}), (18, 58, {'weight': 0.14853806967937966}), (18, 59, {'weight': 0.1399594975571018}), (18, 60, {'weight': 0.07980141076389824}), (18, 61, {'weight': 0.1309815644707309}), (18, 62, {'weight': 0.11943467627070972}), (18, 63, {'weight': 0.1354964055894562}), (18, 64, {'weight': 0.06479328751462282}), (18, 65, {'weight': 0.12510772695178654}), (18, 66, {'weight': 0.1066416828373409}), (18, 67, {'weight': 0.09271565216913742}), (18, 68, {'weight': 0.07582633797450627}), (18, 69, {'weight': 0.059754396947063054}), (18, 70, {'weight': 0.04872139346118823}), (18, 71, {'weight': 0.07183493411265346}), (18, 72, {'weight': 0.049043025417875426}), (18, 73, {'weight': 0.1610246162101055}), (18, 74, {'weight': 0.085570080329571}), (18, 75, {'weight': 0.05698261440255111}), (18, 76, {'weight': 0.05212814845524346}), (18, 77, {'weight': 0.12828778427698778}), (18, 78, {'weight': 0.06511369736054254}), (18, 79, {'weight': 0.0438306088069763}), (18, 80, {'weight': 0.04118661164559286}), (18, 81, {'weight': 0.0712504373947325}), (18, 82, {'weight': 0.09101975794319123}), (18, 83, {'weight': 0.07184754077083522}), (18, 84, {'weight': 0.05843787073045105}), (18, 85, {'weight': 0.03934575412264342}), (18, 86, {'weight': 0.06147461858205672}), (18, 87, {'weight': 0.06505930346883845}), (18, 88, {'weight': 0.09138268704731166}), (18, 89, {'weight': 0.13443574774491746}), (18, 90, {'weight': 0.038252195184122206}), (18, 91, {'weight': 0.06422124055951081}), (18, 92, {'weight': 0.10664448007895723}), (18, 93, {'weight': 0.051357881427071914}), (18, 94, {'weight': 0.04006292663503629}), (18, 95, {'weight': 0.06037079025607506}), (18, 96, {'weight': 0.06046327195423462}), (18, 97, {'weight': 0.036367967990436}), (18, 98, {'weight': 0.04152810879448189}), (18, 99, {'weight': 0.039115050655043136}), (19, 19, {'weight': 1.0}), (19, 20, {'weight': 0.10366698564485485}), (19, 21, {'weight': 0.2864516960245239}), (19, 22, {'weight': 0.3298326444226859}), (19, 23, {'weight': 0.07901260880006356}), (19, 24, {'weight': 0.0995129913023168}), (19, 25, {'weight': 0.15545521973017512}), (19, 26, {'weight': 0.1269354616783937}), (19, 27, {'weight': 0.2701486913655178}), (19, 28, {'weight': 0.13802875012360766}), (19, 29, {'weight': 0.31850292822101534}), (19, 30, {'weight': 0.08601201768079297}), (19, 31, {'weight': 0.10843689460844771}), (19, 32, {'weight': 0.2263044232732248}), (19, 33, {'weight': 0.32576087666066855}), (19, 34, {'weight': 0.10978543037538037}), (19, 35, {'weight': 0.20482438117811053}), (19, 36, {'weight': 0.16302818998443733}), (19, 37, {'weight': 0.14924096967472605}), (19, 38, {'weight': 0.08900225051206155}), (19, 39, {'weight': 0.11034074780037514}), (19, 40, {'weight': 0.11485477699364051}), (19, 41, {'weight': 0.22913060219196388}), (19, 42, {'weight': 0.1250931617778303}), (19, 43, {'weight': 0.0803617742882064}), (19, 44, {'weight': 0.10952129419430404}), (19, 45, {'weight': 0.30616156718798254}), (19, 46, {'weight': 0.11885317866053598}), (19, 47, {'weight': 0.2426820545960101}), (19, 48, {'weight': 0.11897426633767344}), (19, 49, {'weight': 0.2537782710557054}), (19, 50, {'weight': 0.24591558859288487}), (19, 51, {'weight': 0.16704807131408023}), (19, 52, {'weight': 0.23964349511016264}), (19, 53, {'weight': 0.27595342264506506}), (19, 54, {'weight': 0.16564740754708857}), (19, 55, {'weight': 0.12042475437067318}), (19, 56, {'weight': 0.1113522026289928}), (19, 57, {'weight': 0.07520730955088639}), (19, 58, {'weight': 0.1898120114951492}), (19, 59, {'weight': 0.08212404910381359}), (19, 60, {'weight': 0.08249246161009191}), (19, 61, {'weight': 0.11668679450131393}), (19, 62, {'weight': 0.08473537893662272}), (19, 63, {'weight': 0.10774170110058018}), (19, 64, {'weight': 0.059226574516384495}), (19, 65, {'weight': 0.13475807517900823}), (19, 66, {'weight': 0.15479514864137167}), (19, 67, {'weight': 0.15233415683033164}), (19, 68, {'weight': 0.11965905190142936}), (19, 69, {'weight': 0.12336317412090728}), (19, 70, {'weight': 0.050670626804387664}), (19, 71, {'weight': 0.08948711796656855}), (19, 72, {'weight': 0.05926216465275898}), (19, 73, {'weight': 0.13540573214177806}), (19, 74, {'weight': 0.05745137196015837}), (19, 75, {'weight': 0.08605697451073774}), (19, 76, {'weight': 0.058654389420267294}), (19, 77, {'weight': 0.09819089000614467}), (19, 78, {'weight': 0.2085703534969555}), (19, 79, {'weight': 0.10750490455154066}), (19, 80, {'weight': 0.04044908025902727}), (19, 81, {'weight': 0.04835437852117424}), (19, 82, {'weight': 0.12381437490989833}), (19, 83, {'weight': 0.11653537622689988}), (19, 84, {'weight': 0.07995889379748522}), (19, 85, {'weight': 0.06164980871223241}), (19, 86, {'weight': 0.10219482373848318}), (19, 87, {'weight': 0.08629103002711291}), (19, 88, {'weight': 0.08662479584064262}), (19, 89, {'weight': 0.06374658625582505}), (19, 90, {'weight': 0.03987452214866506}), (19, 91, {'weight': 0.09541040112350702}), (19, 92, {'weight': 0.09445561247132259}), (19, 93, {'weight': 0.05548581122087345}), (19, 94, {'weight': 0.030337103237925038}), (19, 95, {'weight': 0.051123520245977605}), (19, 96, {'weight': 0.036099641525717874}), (19, 97, {'weight': 0.05152313517483167}), (19, 98, {'weight': 0.09642494062469648}), (19, 99, {'weight': 0.11428263672371683}), (20, 20, {'weight': 1.0}), (20, 21, {'weight': 0.05513715845499192}), (20, 22, {'weight': 0.09381521308110512}), (20, 23, {'weight': 0.061700274171635754}), (20, 24, {'weight': 0.09022069537022465}), (20, 25, {'weight': 0.16002554852457376}), (20, 26, {'weight': 0.21735939713296182}), (20, 27, {'weight': 0.21222344448065272}), (20, 28, {'weight': 0.1583723845305779}), (20, 29, {'weight': 0.16630085276104745}), (20, 30, {'weight': 0.09034602467612265}), (20, 31, {'weight': 0.0897802988953256}), (20, 32, {'weight': 0.05151336181919599}), (20, 33, {'weight': 0.10865235476246049}), (20, 34, {'weight': 0.20802668418007822}), (20, 35, {'weight': 0.0607001521356213}), (20, 36, {'weight': 0.10821477405261175}), (20, 37, {'weight': 0.35510570014185583}), (20, 38, {'weight': 0.08537518885368224}), (20, 39, {'weight': 0.0908729799508246}), (20, 40, {'weight': 0.28494502599914107}), (20, 41, {'weight': 0.07197846188015458}), (20, 42, {'weight': 0.3119828144343103}), (20, 43, {'weight': 0.07072321042467555}), (20, 44, {'weight': 0.3858541461094528}), (20, 45, {'weight': 0.15235580029486723}), (20, 46, {'weight': 0.2966761227364996}), (20, 47, {'weight': 0.13036849967604233}), (20, 48, {'weight': 0.16615175880679744}), (20, 49, {'weight': 0.2033865724145596}), (20, 50, {'weight': 0.13688825312102532}), (20, 51, {'weight': 0.23936922283391282}), (20, 52, {'weight': 0.11960461712005643}), (20, 53, {'weight': 0.07483980163265053}), (20, 54, {'weight': 0.1109025153871147}), (20, 55, {'weight': 0.08896773580660391}), (20, 56, {'weight': 0.18432495656640188}), (20, 57, {'weight': 0.11367369979505057}), (20, 58, {'weight': 0.17605247151351325}), (20, 59, {'weight': 0.1483036588673427}), (20, 60, {'weight': 0.09716203312331884}), (20, 61, {'weight': 0.13921268432011302}), (20, 62, {'weight': 0.12039692766757548}), (20, 63, {'weight': 0.16925552010612668}), (20, 64, {'weight': 0.08543289010608143}), (20, 65, {'weight': 0.17033415871453064}), (20, 66, {'weight': 0.14407653090018163}), (20, 67, {'weight': 0.11973842955639272}), (20, 68, {'weight': 0.08503085522583287}), (20, 69, {'weight': 0.06354241661493815}), (20, 70, {'weight': 0.02910705846953879}), (20, 71, {'weight': 0.07136406957982754}), (20, 72, {'weight': 0.07558350482022763}), (20, 73, {'weight': 0.1785740464874084}), (20, 74, {'weight': 0.058168756905400666}), (20, 75, {'weight': 0.06442248122969413}), (20, 76, {'weight': 0.11675754769903596}), (20, 77, {'weight': 0.10556296324165601}), (20, 78, {'weight': 0.08055895509176217}), (20, 79, {'weight': 0.0674140724308622}), (20, 80, {'weight': 0.04304789753685913}), (20, 81, {'weight': 0.06940729432107538}), (20, 82, {'weight': 0.0772782788866031}), (20, 83, {'weight': 0.07394610450371589}), (20, 84, {'weight': 0.053685261227478645}), (20, 85, {'weight': 0.06820875655718986}), (20, 86, {'weight': 0.08203560663492537}), (20, 87, {'weight': 0.0784566694096665}), (20, 88, {'weight': 0.07214137287045408}), (20, 89, {'weight': 0.07279677913123263}), (20, 90, {'weight': 0.04452442744038507}), (20, 91, {'weight': 0.1396768573055187}), (20, 92, {'weight': 0.12497955206246544}), (20, 93, {'weight': 0.06940089511739578}), (20, 94, {'weight': 0.03278511321382849}), (20, 95, {'weight': 0.07411299831822338}), (20, 96, {'weight': 0.048945396108724656}), (20, 97, {'weight': 0.043206524514057695}), (20, 98, {'weight': 0.07644856287712123}), (20, 99, {'weight': 0.06584263221233219}), (21, 21, {'weight': 1.0}), (21, 22, {'weight': 0.13046586310191932}), (21, 23, {'weight': 0.21831318213598644}), (21, 24, {'weight': 0.05715973937242792}), (21, 25, {'weight': 0.376461262493541}), (21, 26, {'weight': 0.2572876574389801}), (21, 27, {'weight': 0.1316403213475792}), (21, 28, {'weight': 0.5248016985812217}), (21, 29, {'weight': 0.11271397775320964}), (21, 30, {'weight': 0.13709721121672708}), (21, 31, {'weight': 0.06521396946798635}), (21, 32, {'weight': 0.14963181345218463}), (21, 33, {'weight': 0.1862582690497699}), (21, 34, {'weight': 0.16354501843311245}), (21, 35, {'weight': 0.35955789268511706}), (21, 36, {'weight': 0.38177953031155354}), (21, 37, {'weight': 0.28461676829605254}), (21, 38, {'weight': 0.06093920104409828}), (21, 39, {'weight': 0.08784467649665638}), (21, 40, {'weight': 0.06695150861576003}), (21, 41, {'weight': 0.4944974146424225}), (21, 42, {'weight': 0.08162714482374425}), (21, 43, {'weight': 0.18108695740122996}), (21, 44, {'weight': 0.16202532262674468}), (21, 45, {'weight': 0.31459479731259077}), (21, 46, {'weight': 0.05756723964034321}), (21, 47, {'weight': 0.13631625194607733}), (21, 48, {'weight': 0.1328496564089687}), (21, 49, {'weight': 0.22762162369103392}), (21, 50, {'weight': 0.1661787942053305}), (21, 51, {'weight': 0.09505206383085615}), (21, 52, {'weight': 0.172722837758497}), (21, 53, {'weight': 0.2857341174045801}), (21, 54, {'weight': 0.07526271467331841}), (21, 55, {'weight': 0.17509621887868032}), (21, 56, {'weight': 0.10571825496112301}), (21, 57, {'weight': 0.11111833005481413}), (21, 58, {'weight': 0.09375256929744266}), (21, 59, {'weight': 0.08536741830835565}), (21, 60, {'weight': 0.10833612901634833}), (21, 61, {'weight': 0.1638388738282037}), (21, 62, {'weight': 0.06509603343959136}), (21, 63, {'weight': 0.10864948367895674}), (21, 64, {'weight': 0.10997572197616984}), (21, 65, {'weight': 0.14694239347608123}), (21, 66, {'weight': 0.0619616787441144}), (21, 67, {'weight': 0.06731507419764665}), (21, 68, {'weight': 0.03614908982902544}), (21, 69, {'weight': 0.0998919996906869}), (21, 70, {'weight': 0.02434495701489179}), (21, 71, {'weight': 0.14972193190334165}), (21, 72, {'weight': 0.08286458150601533}), (21, 73, {'weight': 0.09049423048934564}), (21, 74, {'weight': 0.0722361323042675}), (21, 75, {'weight': 0.040298333686735535}), (21, 76, {'weight': 0.058401940420687005}), (21, 77, {'weight': 0.04774494880552682}), (21, 78, {'weight': 0.05875372130726772}), (21, 79, {'weight': 0.04264520656589506}), (21, 80, {'weight': 0.034973605034143096}), (21, 81, {'weight': 0.10000691003693908}), (21, 82, {'weight': 0.0830111486987143}), (21, 83, {'weight': 0.05698924611352292}), (21, 84, {'weight': 0.05254653831186175}), (21, 85, {'weight': 0.033114663470649154}), (21, 86, {'weight': 0.042787953081384764}), (21, 87, {'weight': 0.11800073788890149}), (21, 88, {'weight': 0.06490668312269132}), (21, 89, {'weight': 0.07135498067133245}), (21, 90, {'weight': 0.02676471703520731}), (21, 91, {'weight': 0.04836785660502149}), (21, 92, {'weight': 0.06250576570170437}), (21, 93, {'weight': 0.03615235364566192}), (21, 94, {'weight': 0.02888196807867823}), (21, 95, {'weight': 0.08078717163097421}), (21, 96, {'weight': 0.09899543449608303}), (21, 97, {'weight': 0.0340068940628636}), (21, 98, {'weight': 0.029224173919458724}), (21, 99, {'weight': 0.03596626070799208}), (22, 22, {'weight': 1.0}), (22, 23, {'weight': 0.07013335139303262}), (22, 24, {'weight': 0.07858478373745775}), (22, 25, {'weight': 0.08633910056726382}), (22, 26, {'weight': 0.08219206360429122}), (22, 27, {'weight': 0.11610097187606663}), (22, 28, {'weight': 0.13684824133982898}), (22, 29, {'weight': 0.24406886500024352}), (22, 30, {'weight': 0.12419201819688303}), (22, 31, {'weight': 0.07262267306116227}), (22, 32, {'weight': 0.08762962055737702}), (22, 33, {'weight': 0.527004575950615}), (22, 34, {'weight': 0.41799340844942123}), (22, 35, {'weight': 0.20444669288524908}), (22, 36, {'weight': 0.10414936676836176}), (22, 37, {'weight': 0.14971130339340305}), (22, 38, {'weight': 0.06547258640519427}), (22, 39, {'weight': 0.09447268927885615}), (22, 40, {'weight': 0.13869047251572142}), (22, 41, {'weight': 0.11176975545263995}), (22, 42, {'weight': 0.19341836374217275}), (22, 43, {'weight': 0.11349711634723995}), (22, 44, {'weight': 0.09626296884191729}), (22, 45, {'weight': 0.2078225175439572}), (22, 46, {'weight': 0.10715209712885666}), (22, 47, {'weight': 0.2428294336773765}), (22, 48, {'weight': 0.10606432971156125}), (22, 49, {'weight': 0.20906162193932426}), (22, 50, {'weight': 0.16458983230456894}), (22, 51, {'weight': 0.08961024085540283}), (22, 52, {'weight': 0.19656319000554875}), (22, 53, {'weight': 0.15883623557200932}), (22, 54, {'weight': 0.08150985233437526}), (22, 55, {'weight': 0.1487248985605172}), (22, 56, {'weight': 0.09079919997461323}), (22, 57, {'weight': 0.1193297311192742}), (22, 58, {'weight': 0.16650952334514163}), (22, 59, {'weight': 0.07361278945891003}), (22, 60, {'weight': 0.07969273960381532}), (22, 61, {'weight': 0.09631896885551877}), (22, 62, {'weight': 0.06575906319579494}), (22, 63, {'weight': 0.08251356207813919}), (22, 64, {'weight': 0.05897352032019544}), (22, 65, {'weight': 0.0971709167121935}), (22, 66, {'weight': 0.13594557433794738}), (22, 67, {'weight': 0.09367040155678505}), (22, 68, {'weight': 0.06583184003944481}), (22, 69, {'weight': 0.06549181866682796}), (22, 70, {'weight': 0.031634544054088616}), (22, 71, {'weight': 0.0988490818915409}), (22, 72, {'weight': 0.08827898894999252}), (22, 73, {'weight': 0.07980902713022617}), (22, 74, {'weight': 0.059621514434769235}), (22, 75, {'weight': 0.05226497862028481}), (22, 76, {'weight': 0.048524959805144346}), (22, 77, {'weight': 0.05199103395468407}), (22, 78, {'weight': 0.1243071992338107}), (22, 79, {'weight': 0.10257035560191413}), (22, 80, {'weight': 0.03520407924646338}), (22, 81, {'weight': 0.06913480317428891}), (22, 82, {'weight': 0.07238383035023307}), (22, 83, {'weight': 0.10670205375794059}), (22, 84, {'weight': 0.05632857169734155}), (22, 85, {'weight': 0.05796547090237503}), (22, 86, {'weight': 0.11201696087551286}), (22, 87, {'weight': 0.1250152211650628}), (22, 88, {'weight': 0.07235167447565598}), (22, 89, {'weight': 0.06058736483964815}), (22, 90, {'weight': 0.04092816140162004}), (22, 91, {'weight': 0.05088061730226007}), (22, 92, {'weight': 0.07358349540971659}), (22, 93, {'weight': 0.05188816275499337}), (22, 94, {'weight': 0.02850191873822893}), (22, 95, {'weight': 0.07752476576400165}), (22, 96, {'weight': 0.041969247774371846}), (22, 97, {'weight': 0.029272923857119777}), (22, 98, {'weight': 0.08619235432936223}), (22, 99, {'weight': 0.07903321219883797}), (23, 23, {'weight': 1.0}), (23, 24, {'weight': 0.06132004044553624}), (23, 25, {'weight': 0.07630614172980159}), (23, 26, {'weight': 0.16325068867807546}), (23, 27, {'weight': 0.07318892267813625}), (23, 28, {'weight': 0.1584647595364969}), (23, 29, {'weight': 0.08332483621040498}), (23, 30, {'weight': 0.16279276112296803}), (23, 31, {'weight': 0.0626731803543425}), (23, 32, {'weight': 0.2584049109239519}), (23, 33, {'weight': 0.07925991328625381}), (23, 34, {'weight': 0.07462117589185796}), (23, 35, {'weight': 0.14417965063612298}), (23, 36, {'weight': 0.11461157321985427}), (23, 37, {'weight': 0.09336446977695831}), (23, 38, {'weight': 0.0582148177491984}), (23, 39, {'weight': 0.3954732359977312}), (23, 40, {'weight': 0.08526839632240615}), (23, 41, {'weight': 0.19071859010413858}), (23, 42, {'weight': 0.08572267677008755}), (23, 43, {'weight': 0.13442501049315836}), (23, 44, {'weight': 0.07588129460234902}), (23, 45, {'weight': 0.11331444038057234}), (23, 46, {'weight': 0.08317269089959553}), (23, 47, {'weight': 0.2820106859147699}), (23, 48, {'weight': 0.06354854616319897}), (23, 49, {'weight': 0.13417130720893417}), (23, 50, {'weight': 0.18708167010749713}), (23, 51, {'weight': 0.26105450812497233}), (23, 52, {'weight': 0.082171760869446}), (23, 53, {'weight': 0.0917620621553812}), (23, 54, {'weight': 0.0798991078311187}), (23, 55, {'weight': 0.08473094218875624}), (23, 56, {'weight': 0.23405575349095997}), (23, 57, {'weight': 0.059974615278471685}), (23, 58, {'weight': 0.12308328186855128}), (23, 59, {'weight': 0.07506198301904846}), (23, 60, {'weight': 0.0646774101489947}), (23, 61, {'weight': 0.07888284001702298}), (23, 62, {'weight': 0.05425577579186007}), (23, 63, {'weight': 0.06625780303573464}), (23, 64, {'weight': 0.05074653714877994}), (23, 65, {'weight': 0.12599621273192432}), (23, 66, {'weight': 0.04523405165281134}), (23, 67, {'weight': 0.07813737189575617}), (23, 68, {'weight': 0.0426530832905133}), (23, 69, {'weight': 0.06060549785286261}), (23, 70, {'weight': 0.0221503862359477}), (23, 71, {'weight': 0.056147451926684314}), (23, 72, {'weight': 0.03785861058862582}), (23, 73, {'weight': 0.08900641051234612}), (23, 74, {'weight': 0.046025409999525195}), (23, 75, {'weight': 0.042144644858871226}), (23, 76, {'weight': 0.0590311909408612}), (23, 77, {'weight': 0.05218519283902984}), (23, 78, {'weight': 0.05614045260876106}), (23, 79, {'weight': 0.026115483157652514}), (23, 80, {'weight': 0.026866960138537913}), (23, 81, {'weight': 0.05495653947340748}), (23, 82, {'weight': 0.08959729913428294}), (23, 83, {'weight': 0.04951319410836087}), (23, 84, {'weight': 0.04525112409550994}), (23, 85, {'weight': 0.02703194523833332}), (23, 86, {'weight': 0.04078996652602214}), (23, 87, {'weight': 0.04694888987108753}), (23, 88, {'weight': 0.10939333468873721}), (23, 89, {'weight': 0.05330962426664869}), (23, 90, {'weight': 0.02036791829212631}), (23, 91, {'weight': 0.046364370692322326}), (23, 92, {'weight': 0.04794794914109339}), (23, 93, {'weight': 0.026304549203065214}), (23, 94, {'weight': 0.020147586275616837}), (23, 95, {'weight': 0.024794970438710845}), (23, 96, {'weight': 0.030550482092836662}), (23, 97, {'weight': 0.032088169222591154}), (23, 98, {'weight': 0.026256718620626014}), (23, 99, {'weight': 0.02988950716163221}), (24, 24, {'weight': 1.0}), (24, 25, {'weight': 0.07817077100282756}), (24, 26, {'weight': 0.13286651094087934}), (24, 27, {'weight': 0.14851632160662137}), (24, 28, {'weight': 0.09353173349700558}), (24, 29, {'weight': 0.1231133814525491}), (24, 30, {'weight': 0.0865445221689578}), (24, 31, {'weight': 0.5335393635093668}), (24, 32, {'weight': 0.06261719967547333}), (24, 33, {'weight': 0.10288836321664446}), (24, 34, {'weight': 0.1425226046188573}), (24, 35, {'weight': 0.05633403261366127}), (24, 36, {'weight': 0.060866898945312484}), (24, 37, {'weight': 0.15112634994410562}), (24, 38, {'weight': 0.5545170110234112}), (24, 39, {'weight': 0.07667337823494375}), (24, 40, {'weight': 0.09969698020338053}), (24, 41, {'weight': 0.07255859438107981}), (24, 42, {'weight': 0.09576258215579997}), (24, 43, {'weight': 0.06978017570336464}), (24, 44, {'weight': 0.12046557178310024}), (24, 45, {'weight': 0.1036806632753671}), (24, 46, {'weight': 0.0870202113828836}), (24, 47, {'weight': 0.0953303208566379}), (24, 48, {'weight': 0.11556036974463275}), (24, 49, {'weight': 0.10941795713907523}), (24, 50, {'weight': 0.10811788874432116}), (24, 51, {'weight': 0.0955967893494772}), (24, 52, {'weight': 0.12142694649946503}), (24, 53, {'weight': 0.08322991354953069}), (24, 54, {'weight': 0.08294969805678634}), (24, 55, {'weight': 0.10823887856618528}), (24, 56, {'weight': 0.07773829574616088}), (24, 57, {'weight': 0.06572319338348351}), (24, 58, {'weight': 0.08137254496636409}), (24, 59, {'weight': 0.10210119173136988}), (24, 60, {'weight': 0.057230934543303164}), (24, 61, {'weight': 0.08390474914425378}), (24, 62, {'weight': 0.06932371522427816}), (24, 63, {'weight': 0.06935038597663934}), (24, 64, {'weight': 0.04640393862340279}), (24, 65, {'weight': 0.07900537146560355}), (24, 66, {'weight': 0.09302311924863757}), (24, 67, {'weight': 0.0647353170634293}), (24, 68, {'weight': 0.052976591282204624}), (24, 69, {'weight': 0.04730817284963772}), (24, 70, {'weight': 0.019739527046786335}), (24, 71, {'weight': 0.04829415655507098}), (24, 72, {'weight': 0.0513433729354761}), (24, 73, {'weight': 0.0738178529634078}), (24, 74, {'weight': 0.044749108744046806}), (24, 75, {'weight': 0.041138520839290295}), (24, 76, {'weight': 0.039285205480652174}), (24, 77, {'weight': 0.04985285844432047}), (24, 78, {'weight': 0.0485496628538799}), (24, 79, {'weight': 0.0291908682021148}), (24, 80, {'weight': 0.0279227879240027}), (24, 81, {'weight': 0.04284030929757066}), (24, 82, {'weight': 0.0685819617991762}), (24, 83, {'weight': 0.05259730760477281}), (24, 84, {'weight': 0.04454804266920899}), (24, 85, {'weight': 0.034092255725900564}), (24, 86, {'weight': 0.04091789344413503}), (24, 87, {'weight': 0.04819272352303651}), (24, 88, {'weight': 0.06766988359002007}), (24, 89, {'weight': 0.04981174061355542}), (24, 90, {'weight': 0.026356370948864134}), (24, 91, {'weight': 0.04813644430603528}), (24, 92, {'weight': 0.053319936624964995}), (24, 93, {'weight': 0.03357786091873669}), (24, 94, {'weight': 0.026675818584665403}), (24, 95, {'weight': 0.029772466256344943}), (24, 96, {'weight': 0.030552546657089313}), (24, 97, {'weight': 0.025781221095958387}), (24, 98, {'weight': 0.03236559347452148}), (24, 99, {'weight': 0.03966959979310031}), (25, 25, {'weight': 1.0}), (25, 26, {'weight': 0.22768452980893725}), (25, 27, {'weight': 0.0766237861336119}), (25, 28, {'weight': 0.4853671628398941}), (25, 29, {'weight': 0.12539347209034157}), (25, 30, {'weight': 0.26554742867636694}), (25, 31, {'weight': 0.0812250330648844}), (25, 32, {'weight': 0.07987845401605265}), (25, 33, {'weight': 0.1262564373798697}), (25, 34, {'weight': 0.10107831512308829}), (25, 35, {'weight': 0.18633057881952292}), (25, 36, {'weight': 0.10848985753699869}), (25, 37, {'weight': 0.2225189958788764}), (25, 38, {'weight': 0.08898806116845512}), (25, 39, {'weight': 0.10036672262008864}), (25, 40, {'weight': 0.16271943999968763}), (25, 41, {'weight': 0.3091989564719272}), (25, 42, {'weight': 0.21800174005073417}), (25, 43, {'weight': 0.3660668214035766}), (25, 44, {'weight': 0.10148073008210054}), (25, 45, {'weight': 0.18086719755534114}), (25, 46, {'weight': 0.2044148949878662}), (25, 47, {'weight': 0.08105544562465812}), (25, 48, {'weight': 0.19020606106318977}), (25, 49, {'weight': 0.0997260675891331}), (25, 50, {'weight': 0.1355932669780967}), (25, 51, {'weight': 0.09025177782026321}), (25, 52, {'weight': 0.12434470847236367}), (25, 53, {'weight': 0.19548988466662665}), (25, 54, {'weight': 0.09550555464198965}), (25, 55, {'weight': 0.09946198183042032}), (25, 56, {'weight': 0.08269176967230546}), (25, 57, {'weight': 0.33077987047276197}), (25, 58, {'weight': 0.22596736311744142}), (25, 59, {'weight': 0.3207983578565099}), (25, 60, {'weight': 0.10147100587695698}), (25, 61, {'weight': 0.10896841251374585}), (25, 62, {'weight': 0.12824096316551936}), (25, 63, {'weight': 0.07737149082085817}), (25, 64, {'weight': 0.18479293623295717}), (25, 65, {'weight': 0.11764651053137656}), (25, 66, {'weight': 0.09399154568108603}), (25, 67, {'weight': 0.13674250193678503}), (25, 68, {'weight': 0.07229030137163642}), (25, 69, {'weight': 0.0878790570129789}), (25, 70, {'weight': 0.02048766087643175}), (25, 71, {'weight': 0.166926956136884}), (25, 72, {'weight': 0.08687112916411366}), (25, 73, {'weight': 0.14097447878105102}), (25, 74, {'weight': 0.06445124933277671}), (25, 75, {'weight': 0.05716358078092118}), (25, 76, {'weight': 0.05573185935855658}), (25, 77, {'weight': 0.06094631498869908}), (25, 78, {'weight': 0.057010129923294454}), (25, 79, {'weight': 0.03357839832078094}), (25, 80, {'weight': 0.03138516496949994}), (25, 81, {'weight': 0.0800385281653891}), (25, 82, {'weight': 0.16297016506200884}), (25, 83, {'weight': 0.06666900552536129}), (25, 84, {'weight': 0.05562963764383548}), (25, 85, {'weight': 0.028671137018758584}), (25, 86, {'weight': 0.08792210072189843}), (25, 87, {'weight': 0.0877945795892975}), (25, 88, {'weight': 0.07142839448950364}), (25, 89, {'weight': 0.057814896490574905}), (25, 90, {'weight': 0.02569445218392819}), (25, 91, {'weight': 0.05562366415920138}), (25, 92, {'weight': 0.10248886033236826}), (25, 93, {'weight': 0.04265328964991476}), (25, 94, {'weight': 0.034129776131354685}), (25, 95, {'weight': 0.03785555880617913}), (25, 96, {'weight': 0.04022018576913369}), (25, 97, {'weight': 0.029623832807144805}), (25, 98, {'weight': 0.031195956561000986}), (25, 99, {'weight': 0.033827654333191626}), (26, 26, {'weight': 1.0}), (26, 27, {'weight': 0.24667973167926371}), (26, 28, {'weight': 0.09673997246880531}), (26, 29, {'weight': 0.15453574060982778}), (26, 30, {'weight': 0.20062289554957005}), (26, 31, {'weight': 0.13476823762994325}), (26, 32, {'weight': 0.20538658347506267}), (26, 33, {'weight': 0.15620506949335902}), (26, 34, {'weight': 0.3993681200266876}), (26, 35, {'weight': 0.2008539383053209}), (26, 36, {'weight': 0.13230206039268347}), (26, 37, {'weight': 0.6212519212437135}), (26, 38, {'weight': 0.08692347419991917}), (26, 39, {'weight': 0.13956690392115506}), (26, 40, {'weight': 0.2738004560282319}), (26, 41, {'weight': 0.26286195762051323}), (26, 42, {'weight': 0.21310599065709543}), (26, 43, {'weight': 0.29466727948155613}), (26, 44, {'weight': 0.35697929195855405}), (26, 45, {'weight': 0.40194053131506097}), (26, 46, {'weight': 0.22039896609863485}), (26, 47, {'weight': 0.30736101032529506}), (26, 48, {'weight': 0.13420457747249362}), (26, 49, {'weight': 0.30493122477784984}), (26, 50, {'weight': 0.25184935423312516}), (26, 51, {'weight': 0.35629152004618586}), (26, 52, {'weight': 0.23137985358888224}), (26, 53, {'weight': 0.3671706104941155}), (26, 54, {'weight': 0.21369658961523413}), (26, 55, {'weight': 0.13067230510808087}), (26, 56, {'weight': 0.3098707860980825}), (26, 57, {'weight': 0.12776345459615335}), (26, 58, {'weight': 0.16823719547824506}), (26, 59, {'weight': 0.1284209704435011}), (26, 60, {'weight': 0.24999356528125694}), (26, 61, {'weight': 0.11200868736201111}), (26, 62, {'weight': 0.10220385586996046}), (26, 63, {'weight': 0.10808149821926881}), (26, 64, {'weight': 0.0837700399461408}), (26, 65, {'weight': 0.20727800978280808}), (26, 66, {'weight': 0.09161137823813978}), (26, 67, {'weight': 0.09538732571959505}), (26, 68, {'weight': 0.10009604165479838}), (26, 69, {'weight': 0.11002301452269136}), (26, 70, {'weight': 0.03598086807530919}), (26, 71, {'weight': 0.12884944566885354}), (26, 72, {'weight': 0.1472287493521276}), (26, 73, {'weight': 0.1701419403143056}), (26, 74, {'weight': 0.12931859752554367}), (26, 75, {'weight': 0.0560029220414818}), (26, 76, {'weight': 0.07959029201483674}), (26, 77, {'weight': 0.09633793852332173}), (26, 78, {'weight': 0.1046490056751652}), (26, 79, {'weight': 0.06634952263444785}), (26, 80, {'weight': 0.05773871278049405}), (26, 81, {'weight': 0.09209261901200239}), (26, 82, {'weight': 0.10378099745867961}), (26, 83, {'weight': 0.08332433495126676}), (26, 84, {'weight': 0.14205507026024736}), (26, 85, {'weight': 0.06077697615306415}), (26, 86, {'weight': 0.05414791052997164}), (26, 87, {'weight': 0.16095341093934007}), (26, 88, {'weight': 0.08819137178245762}), (26, 89, {'weight': 0.0915051245701754}), (26, 90, {'weight': 0.0442675086338149}), (26, 91, {'weight': 0.06953969513608968}), (26, 92, {'weight': 0.11684886803337474}), (26, 93, {'weight': 0.0843248860602634}), (26, 94, {'weight': 0.05946495413134523}), (26, 95, {'weight': 0.11542601472422656}), (26, 96, {'weight': 0.12221062602247271}), (26, 97, {'weight': 0.04078166783945639}), (26, 98, {'weight': 0.04979111145738521}), (26, 99, {'weight': 0.05292565411207512}), (27, 27, {'weight': 1.0}), (27, 28, {'weight': 0.09610868981819076}), (27, 29, {'weight': 0.37019071698911027}), (27, 30, {'weight': 0.0861422546305754}), (27, 31, {'weight': 0.16192916987720757}), (27, 32, {'weight': 0.17806977401769597}), (27, 33, {'weight': 0.12232619800808046}), (27, 34, {'weight': 0.12250437855034271}), (27, 35, {'weight': 0.06485811687048373}), (27, 36, {'weight': 0.05925259754993298}), (27, 37, {'weight': 0.194521094897814}), (27, 38, {'weight': 0.17709259152583456}), (27, 39, {'weight': 0.07144356285106446}), (27, 40, {'weight': 0.19059761433992062}), (27, 41, {'weight': 0.16055153800379557}), (27, 42, {'weight': 0.19366219134417123}), (27, 43, {'weight': 0.08206807798010723}), (27, 44, {'weight': 0.23729231427668068}), (27, 45, {'weight': 0.321299890293806}), (27, 46, {'weight': 0.17856091418097064}), (27, 47, {'weight': 0.1952596990307262}), (27, 48, {'weight': 0.13194979164171436}), (27, 49, {'weight': 0.2624750381242873}), (27, 50, {'weight': 0.21740976276728669}), (27, 51, {'weight': 0.2735612224113231}), (27, 52, {'weight': 0.16926054964991516}), (27, 53, {'weight': 0.2317792886209042}), (27, 54, {'weight': 0.16366207370237654}), (27, 55, {'weight': 0.08900586284678383}), (27, 56, {'weight': 0.23318554752848641}), (27, 57, {'weight': 0.07973866445434502}), (27, 58, {'weight': 0.2615448872760401}), (27, 59, {'weight': 0.12993764416785017}), (27, 60, {'weight': 0.10631105053139861}), (27, 61, {'weight': 0.09805930085809628}), (27, 62, {'weight': 0.12350523009890581}), (27, 63, {'weight': 0.08903723590706344}), (27, 64, {'weight': 0.06657091465936682}), (27, 65, {'weight': 0.1937584951422165}), (27, 66, {'weight': 0.12081260850898695}), (27, 67, {'weight': 0.15823337216914207}), (27, 68, {'weight': 0.14251271796261067}), (27, 69, {'weight': 0.08130668376519795}), (27, 70, {'weight': 0.049456113472941265}), (27, 71, {'weight': 0.06549051503096488}), (27, 72, {'weight': 0.0794831431015969}), (27, 73, {'weight': 0.26205922836601614}), (27, 74, {'weight': 0.05308564590299143}), (27, 75, {'weight': 0.11670981120765253}), (27, 76, {'weight': 0.05703051772180205}), (27, 77, {'weight': 0.155493527008445}), (27, 78, {'weight': 0.07785707547800388}), (27, 79, {'weight': 0.062052112003239394}), (27, 80, {'weight': 0.06032129292104901}), (27, 81, {'weight': 0.05820786682540682}), (27, 82, {'weight': 0.09705166973745909}), (27, 83, {'weight': 0.08142549958131559}), (27, 84, {'weight': 0.06834182320173163}), (27, 85, {'weight': 0.056267334775684415}), (27, 86, {'weight': 0.06521541008055139}), (27, 87, {'weight': 0.11430201426342489}), (27, 88, {'weight': 0.07955509831150677}), (27, 89, {'weight': 0.08706626746336285}), (27, 90, {'weight': 0.0432415144546045}), (27, 91, {'weight': 0.057757107076479366}), (27, 92, {'weight': 0.16165731490059582}), (27, 93, {'weight': 0.08072098623479163}), (27, 94, {'weight': 0.053597458936481546}), (27, 95, {'weight': 0.06927136988128926}), (27, 96, {'weight': 0.05397019030197599}), (27, 97, {'weight': 0.04289931377213815}), (27, 98, {'weight': 0.08588890390632173}), (27, 99, {'weight': 0.07184216574453892}), (28, 28, {'weight': 1.0}), (28, 29, {'weight': 0.2135287693909963}), (28, 30, {'weight': 0.18029928637732945}), (28, 31, {'weight': 0.09171169841460142}), (28, 32, {'weight': 0.09012435887400749}), (28, 33, {'weight': 0.13128359671689555}), (28, 34, {'weight': 0.15003970259471722}), (28, 35, {'weight': 0.1859761865589078}), (28, 36, {'weight': 0.412089645525809}), (28, 37, {'weight': 0.11972410524799192}), (28, 38, {'weight': 0.0876848877728221}), (28, 39, {'weight': 0.1388973127689757}), (28, 40, {'weight': 0.16975478999808152}), (28, 41, {'weight': 0.3835886848489652}), (28, 42, {'weight': 0.22499388415588706}), (28, 43, {'weight': 0.1451172615959639}), (28, 44, {'weight': 0.18334227944564097}), (28, 45, {'weight': 0.12657170932757678}), (28, 46, {'weight': 0.14208928845186247}), (28, 47, {'weight': 0.08297305437369275}), (28, 48, {'weight': 0.2570174566074813}), (28, 49, {'weight': 0.1253981097887751}), (28, 50, {'weight': 0.165119779966261}), (28, 51, {'weight': 0.16813085792124305}), (28, 52, {'weight': 0.1426213221452561}), (28, 53, {'weight': 0.11328647733996719}), (28, 54, {'weight': 0.11278064858005546}), (28, 55, {'weight': 0.13120715236344804}), (28, 56, {'weight': 0.173758157989508}), (28, 57, {'weight': 0.178254476677124}), (28, 58, {'weight': 0.2069602811929943}), (28, 59, {'weight': 0.2700339927488657}), (28, 60, {'weight': 0.11088014362244868}), (28, 61, {'weight': 0.1559885782705996}), (28, 62, {'weight': 0.1507286430698732}), (28, 63, {'weight': 0.26882852298283166}), (28, 64, {'weight': 0.14054161757807243}), (28, 65, {'weight': 0.15415893862399596}), (28, 66, {'weight': 0.21825180945383826}), (28, 67, {'weight': 0.09121145386669532}), (28, 68, {'weight': 0.06338016809804567}), (28, 69, {'weight': 0.06422076877044375}), (28, 70, {'weight': 0.02402668818767099}), (28, 71, {'weight': 0.1443003219319875}), (28, 72, {'weight': 0.05037722345809746}), (28, 73, {'weight': 0.12412649785994095}), (28, 74, {'weight': 0.05902480447746759}), (28, 75, {'weight': 0.07747493087201113}), (28, 76, {'weight': 0.048653630666616474}), (28, 77, {'weight': 0.06269736038001839}), (28, 78, {'weight': 0.08400574229499716}), (28, 79, {'weight': 0.0411367996735542}), (28, 80, {'weight': 0.033905692317582246}), (28, 81, {'weight': 0.07044005213438717}), (28, 82, {'weight': 0.09500207485237398}), (28, 83, {'weight': 0.0884150541572089}), (28, 84, {'weight': 0.056366642581140915}), (28, 85, {'weight': 0.044898292450089694}), (28, 86, {'weight': 0.11405556562105723}), (28, 87, {'weight': 0.055618332972551955}), (28, 88, {'weight': 0.08007262013621372}), (28, 89, {'weight': 0.07219943879617458}), (28, 90, {'weight': 0.03273154863883368}), (28, 91, {'weight': 0.05209996836422513}), (28, 92, {'weight': 0.09826039012502574}), (28, 93, {'weight': 0.045598180193991034}), (28, 94, {'weight': 0.024182240317972926}), (28, 95, {'weight': 0.04223143857269693}), (28, 96, {'weight': 0.09265958428519491}), (28, 97, {'weight': 0.02743899470288627}), (28, 98, {'weight': 0.05531603494003964}), (28, 99, {'weight': 0.04473280834896231}), (29, 29, {'weight': 1.0}), (29, 30, {'weight': 0.12607793642572773}), (29, 31, {'weight': 0.12564091029845897}), (29, 32, {'weight': 0.1733618508577994}), (29, 33, {'weight': 0.2336625109404728}), (29, 34, {'weight': 0.2837122037317655}), (29, 35, {'weight': 0.14209199589619298}), (29, 36, {'weight': 0.08188085578639304}), (29, 37, {'weight': 0.2590132002280604}), (29, 38, {'weight': 0.12775683818339384}), (29, 39, {'weight': 0.1359341188653179}), (29, 40, {'weight': 0.21638189466692903}), (29, 41, {'weight': 0.08850191793415962}), (29, 42, {'weight': 0.29886677946715545}), (29, 43, {'weight': 0.09834124199053419}), (29, 44, {'weight': 0.30448018887351314}), (29, 45, {'weight': 0.2490635500038483}), (29, 46, {'weight': 0.24752166496006295}), (29, 47, {'weight': 0.12027420120901088}), (29, 48, {'weight': 0.18189967433835091}), (29, 49, {'weight': 0.2975356124899751}), (29, 50, {'weight': 0.19917362987918463}), (29, 51, {'weight': 0.22497422134078646}), (29, 52, {'weight': 0.1866814897021042}), (29, 53, {'weight': 0.15926758039881217}), (29, 54, {'weight': 0.08508283209553924}), (29, 55, {'weight': 0.07602145320962046}), (29, 56, {'weight': 0.2383490328443393}), (29, 57, {'weight': 0.11037261194390768}), (29, 58, {'weight': 0.19519679368388804}), (29, 59, {'weight': 0.15950303319569753}), (29, 60, {'weight': 0.08407696677842183}), (29, 61, {'weight': 0.11851111130782468}), (29, 62, {'weight': 0.19011671796062402}), (29, 63, {'weight': 0.19300934277466875}), (29, 64, {'weight': 0.12248772969018842}), (29, 65, {'weight': 0.1012962384176973}), (29, 66, {'weight': 0.25380572523046085}), (29, 67, {'weight': 0.1844521463268463}), (29, 68, {'weight': 0.11542149438065212}), (29, 69, {'weight': 0.11585018238866389}), (29, 70, {'weight': 0.029684391881075734}), (29, 71, {'weight': 0.07915097222407269}), (29, 72, {'weight': 0.12093413264007041}), (29, 73, {'weight': 0.16900079742003643}), (29, 74, {'weight': 0.09004146372579214}), (29, 75, {'weight': 0.10529608950568228}), (29, 76, {'weight': 0.05054331623098999}), (29, 77, {'weight': 0.08954751363610783}), (29, 78, {'weight': 0.12065837904365852}), (29, 79, {'weight': 0.09582798735773898}), (29, 80, {'weight': 0.04427972804531816}), (29, 81, {'weight': 0.06925587744010447}), (29, 82, {'weight': 0.09724899095255393}), (29, 83, {'weight': 0.11531292125473458}), (29, 84, {'weight': 0.07763145173818818}), (29, 85, {'weight': 0.0844445460451298}), (29, 86, {'weight': 0.12670970978567891}), (29, 87, {'weight': 0.10321696865287255}), (29, 88, {'weight': 0.10135678797452032}), (29, 89, {'weight': 0.08286643168240854}), (29, 90, {'weight': 0.03557571809162778}), (29, 91, {'weight': 0.05225120724553193}), (29, 92, {'weight': 0.11030990189380044}), (29, 93, {'weight': 0.06969627422175688}), (29, 94, {'weight': 0.03259339971070549}), (29, 95, {'weight': 0.06410588728884009}), (29, 96, {'weight': 0.043361169533442226}), (29, 97, {'weight': 0.0487117600733806}), (29, 98, {'weight': 0.10981010193481394}), (29, 99, {'weight': 0.10009819805618779}), (30, 30, {'weight': 1.0}), (30, 31, {'weight': 0.0920447170706733}), (30, 32, {'weight': 0.1796906761620372}), (30, 33, {'weight': 0.09297400101724909}), (30, 34, {'weight': 0.13322723726260585}), (30, 35, {'weight': 0.22390417178180735}), (30, 36, {'weight': 0.2206921242298128}), (30, 37, {'weight': 0.21148035286841402}), (30, 38, {'weight': 0.07186770882458919}), (30, 39, {'weight': 0.12412401616229325}), (30, 40, {'weight': 0.10807383959370703}), (30, 41, {'weight': 0.10330092163523166}), (30, 42, {'weight': 0.08899066142641913}), (30, 43, {'weight': 0.24019760218156794}), (30, 44, {'weight': 0.1113202464326577}), (30, 45, {'weight': 0.10420823011790038}), (30, 46, {'weight': 0.10191632245131707}), (30, 47, {'weight': 0.08460392785291518}), (30, 48, {'weight': 0.07873865740441698}), (30, 49, {'weight': 0.08035473129958923}), (30, 50, {'weight': 0.14192724206873975}), (30, 51, {'weight': 0.06397760651224041}), (30, 52, {'weight': 0.14052623503201692}), (30, 53, {'weight': 0.22474289828946425}), (30, 54, {'weight': 0.08142131620004298}), (30, 55, {'weight': 0.18279749845382204}), (30, 56, {'weight': 0.13658468360878934}), (30, 57, {'weight': 0.19313556824133993}), (30, 58, {'weight': 0.08414219785512118}), (30, 59, {'weight': 0.17652899480724454}), (30, 60, {'weight': 0.13829371504667537}), (30, 61, {'weight': 0.06640034653117804}), (30, 62, {'weight': 0.05988690555106597}), (30, 63, {'weight': 0.1707520245842501}), (30, 64, {'weight': 0.10082106385094347}), (30, 65, {'weight': 0.10704075781603511}), (30, 66, {'weight': 0.07787877058051991}), (30, 67, {'weight': 0.06053778886869038}), (30, 68, {'weight': 0.04364343472609975}), (30, 69, {'weight': 0.1295535137666543}), (30, 70, {'weight': 0.020387146489967492}), (30, 71, {'weight': 0.10958028207104746}), (30, 72, {'weight': 0.07587440612057317}), (30, 73, {'weight': 0.06150824183033033}), (30, 74, {'weight': 0.08319870127540796}), (30, 75, {'weight': 0.08124039253937555}), (30, 76, {'weight': 0.04217426444780753}), (30, 77, {'weight': 0.04683022222774026}), (30, 78, {'weight': 0.05728091442804829}), (30, 79, {'weight': 0.04592036561546682}), (30, 80, {'weight': 0.03622331360503694}), (30, 81, {'weight': 0.052425550657729525}), (30, 82, {'weight': 0.16592997389977668}), (30, 83, {'weight': 0.04615947658780194}), (30, 84, {'weight': 0.05058043223264492}), (30, 85, {'weight': 0.04574553047921391}), (30, 86, {'weight': 0.03712548112750883}), (30, 87, {'weight': 0.06252513322126138}), (30, 88, {'weight': 0.06592397042567627}), (30, 89, {'weight': 0.07582116077382987}), (30, 90, {'weight': 0.024598578362605927}), (30, 91, {'weight': 0.04242726354985558}), (30, 92, {'weight': 0.05610910360285077}), (30, 93, {'weight': 0.025845857678362692}), (30, 94, {'weight': 0.025300376146690416}), (30, 95, {'weight': 0.03672595816820634}), (30, 96, {'weight': 0.0366785935347967}), (30, 97, {'weight': 0.028115180884936655}), (30, 98, {'weight': 0.027560071031581746}), (30, 99, {'weight': 0.027395148415190418}), (31, 31, {'weight': 1.0}), (31, 32, {'weight': 0.05011429864947438}), (31, 33, {'weight': 0.08769481375316335}), (31, 34, {'weight': 0.1260984118506126}), (31, 35, {'weight': 0.06836127064794179}), (31, 36, {'weight': 0.06608029569150126}), (31, 37, {'weight': 0.1508434734886611}), (31, 38, {'weight': 0.4063782038651958}), (31, 39, {'weight': 0.06706236115315296}), (31, 40, {'weight': 0.08194112182809882}), (31, 41, {'weight': 0.08385208721373852}), (31, 42, {'weight': 0.07116676709665345}), (31, 43, {'weight': 0.059040993408813386}), (31, 44, {'weight': 0.13557072596890274}), (31, 45, {'weight': 0.10487617462294527}), (31, 46, {'weight': 0.06707141520403144}), (31, 47, {'weight': 0.08118788820097567}), (31, 48, {'weight': 0.12935821548097498}), (31, 49, {'weight': 0.09894834953716687}), (31, 50, {'weight': 0.09740115920061301}), (31, 51, {'weight': 0.08285040340153921}), (31, 52, {'weight': 0.11386536160643052}), (31, 53, {'weight': 0.08164443728322239}), (31, 54, {'weight': 0.08190968129795029}), (31, 55, {'weight': 0.09928429334948094}), (31, 56, {'weight': 0.08103280364934262}), (31, 57, {'weight': 0.06866117494992514}), (31, 58, {'weight': 0.08036850870819023}), (31, 59, {'weight': 0.09600674935474368}), (31, 60, {'weight': 0.06557867920162777}), (31, 61, {'weight': 0.1021042303278028}), (31, 62, {'weight': 0.07549090639218484}), (31, 63, {'weight': 0.07556467806620987}), (31, 64, {'weight': 0.0515307214817181}), (31, 65, {'weight': 0.07170511392422159}), (31, 66, {'weight': 0.0926041206427172}), (31, 67, {'weight': 0.060545207776281376}), (31, 68, {'weight': 0.05997826793773651}), (31, 69, {'weight': 0.049717455432508134}), (31, 70, {'weight': 0.020374146881894303}), (31, 71, {'weight': 0.04268868387979379}), (31, 72, {'weight': 0.043208165235741294}), (31, 73, {'weight': 0.07646455360554644}), (31, 74, {'weight': 0.039230541743017544}), (31, 75, {'weight': 0.04392325475463227}), (31, 76, {'weight': 0.041903661612235285}), (31, 77, {'weight': 0.04417844139178054}), (31, 78, {'weight': 0.05096150968767088}), (31, 79, {'weight': 0.029831702748098217}), (31, 80, {'weight': 0.032127180393563146}), (31, 81, {'weight': 0.04330774078296354}), (31, 82, {'weight': 0.0733642720112921}), (31, 83, {'weight': 0.05320172396757182}), (31, 84, {'weight': 0.04484885631644128}), (31, 85, {'weight': 0.03474957513575939}), (31, 86, {'weight': 0.037227182165485144}), (31, 87, {'weight': 0.05203996611398448}), (31, 88, {'weight': 0.05552245752738835}), (31, 89, {'weight': 0.04810443070299198}), (31, 90, {'weight': 0.0234170555328983}), (31, 91, {'weight': 0.04470678137921291}), (31, 92, {'weight': 0.05703802915906912}), (31, 93, {'weight': 0.035283985606507764}), (31, 94, {'weight': 0.024067343387323366}), (31, 95, {'weight': 0.03880124706313226}), (31, 96, {'weight': 0.031242295075955016}), (31, 97, {'weight': 0.028437124829759765}), (31, 98, {'weight': 0.03211440915658517}), (31, 99, {'weight': 0.03311743191241412}), (32, 32, {'weight': 1.0}), (32, 33, {'weight': 0.12002058926383952}), (32, 34, {'weight': 0.10031829822822161}), (32, 35, {'weight': 0.08901397661930747}), (32, 36, {'weight': 0.2797844058752694}), (32, 37, {'weight': 0.13162230646590317}), (32, 38, {'weight': 0.05211151679302131}), (32, 39, {'weight': 0.3072855847732867}), (32, 40, {'weight': 0.0817077445352008}), (32, 41, {'weight': 0.11401936769065815}), (32, 42, {'weight': 0.07045025267916408}), (32, 43, {'weight': 0.2928192942997739}), (32, 44, {'weight': 0.08707325830938109}), (32, 45, {'weight': 0.11818585730564768}), (32, 46, {'weight': 0.07476811721861217}), (32, 47, {'weight': 0.1628346025345821}), (32, 48, {'weight': 0.06522141444647206}), (32, 49, {'weight': 0.30042312506264723}), (32, 50, {'weight': 0.29514699553421797}), (32, 51, {'weight': 0.1695541022453224}), (32, 52, {'weight': 0.1679912999006999}), (32, 53, {'weight': 0.18093119275012087}), (32, 54, {'weight': 0.14415321321985214}), (32, 55, {'weight': 0.07838680178239685}), (32, 56, {'weight': 0.27020094337298695}), (32, 57, {'weight': 0.053621672777573945}), (32, 58, {'weight': 0.07338618746829156}), (32, 59, {'weight': 0.12741153731540147}), (32, 60, {'weight': 0.08088569902815575}), (32, 61, {'weight': 0.06963283564137282}), (32, 62, {'weight': 0.14555222745560378}), (32, 63, {'weight': 0.07481270767392563}), (32, 64, {'weight': 0.05634144575700713}), (32, 65, {'weight': 0.13076984398420033}), (32, 66, {'weight': 0.05034648620630103}), (32, 67, {'weight': 0.060085907013409275}), (32, 68, {'weight': 0.0497810653773489}), (32, 69, {'weight': 0.15256123360095217}), (32, 70, {'weight': 0.022604130269034198}), (32, 71, {'weight': 0.06132895299718795}), (32, 72, {'weight': 0.03637017706037733}), (32, 73, {'weight': 0.07102869035474982}), (32, 74, {'weight': 0.11135422562829521}), (32, 75, {'weight': 0.04137875709257622}), (32, 76, {'weight': 0.06897580462713254}), (32, 77, {'weight': 0.05352125943393411}), (32, 78, {'weight': 0.04706548803525147}), (32, 79, {'weight': 0.032566349164283845}), (32, 80, {'weight': 0.041513114794116124}), (32, 81, {'weight': 0.09711600680241311}), (32, 82, {'weight': 0.07798899336561822}), (32, 83, {'weight': 0.049460523425426214}), (32, 84, {'weight': 0.07399743476164133}), (32, 85, {'weight': 0.026675037285989016}), (32, 86, {'weight': 0.033413090089683725}), (32, 87, {'weight': 0.04935175972329113}), (32, 88, {'weight': 0.11726238826526428}), (32, 89, {'weight': 0.08995380276614381}), (32, 90, {'weight': 0.024698811616485808}), (32, 91, {'weight': 0.03399907303039243}), (32, 92, {'weight': 0.07137156259533309}), (32, 93, {'weight': 0.028038387228075213}), (32, 94, {'weight': 0.04631362957763527}), (32, 95, {'weight': 0.029797643556813976}), (32, 96, {'weight': 0.041522972883443865}), (32, 97, {'weight': 0.03568970386539545}), (32, 98, {'weight': 0.03197820017866432}), (32, 99, {'weight': 0.02486810216559504}), (33, 33, {'weight': 1.0}), (33, 34, {'weight': 0.3632773536657389}), (33, 35, {'weight': 0.255664083810899}), (33, 36, {'weight': 0.13066142902103947}), (33, 37, {'weight': 0.19034013461266636}), (33, 38, {'weight': 0.10597524446964757}), (33, 39, {'weight': 0.08730318787975541}), (33, 40, {'weight': 0.2575800666548975}), (33, 41, {'weight': 0.13611131581947847}), (33, 42, {'weight': 0.24346386495645925}), (33, 43, {'weight': 0.09120758769878025}), (33, 44, {'weight': 0.08774833868144136}), (33, 45, {'weight': 0.1488869931433922}), (33, 46, {'weight': 0.16195415173077027}), (33, 47, {'weight': 0.16028059904624564}), (33, 48, {'weight': 0.10424756880710631}), (33, 49, {'weight': 0.2300776967587399}), (33, 50, {'weight': 0.1611375735974772}), (33, 51, {'weight': 0.11545687550569156}), (33, 52, {'weight': 0.15830790598827993}), (33, 53, {'weight': 0.14174569906575607}), (33, 54, {'weight': 0.08473263815515886}), (33, 55, {'weight': 0.1085372334889721}), (33, 56, {'weight': 0.10579865137076958}), (33, 57, {'weight': 0.07940949580282641}), (33, 58, {'weight': 0.08215554293058219}), (33, 59, {'weight': 0.07413104124906303}), (33, 60, {'weight': 0.08667722971130379}), (33, 61, {'weight': 0.08435117701103445}), (33, 62, {'weight': 0.15593087213580836}), (33, 63, {'weight': 0.09359588248354608}), (33, 64, {'weight': 0.07897048790090766}), (33, 65, {'weight': 0.08733252186238283}), (33, 66, {'weight': 0.1560512997175939}), (33, 67, {'weight': 0.06361657425096406}), (33, 68, {'weight': 0.08377276956054727}), (33, 69, {'weight': 0.08396954020906919}), (33, 70, {'weight': 0.027839345679540065}), (33, 71, {'weight': 0.0708457786607746}), (33, 72, {'weight': 0.11206006470528618}), (33, 73, {'weight': 0.10145323356400365}), (33, 74, {'weight': 0.14704884145490293}), (33, 75, {'weight': 0.07385026538091866}), (33, 76, {'weight': 0.04686937138767813}), (33, 77, {'weight': 0.05944394996909881}), (33, 78, {'weight': 0.1204963626320178}), (33, 79, {'weight': 0.07675192005113624}), (33, 80, {'weight': 0.037072707790774186}), (33, 81, {'weight': 0.06731292489795296}), (33, 82, {'weight': 0.07902836746862363}), (33, 83, {'weight': 0.08536975860053969}), (33, 84, {'weight': 0.06898931874547895}), (33, 85, {'weight': 0.06304261305080862}), (33, 86, {'weight': 0.11997419688992304}), (33, 87, {'weight': 0.09598382398408185}), (33, 88, {'weight': 0.08264966321329703}), (33, 89, {'weight': 0.08978974294286729}), (33, 90, {'weight': 0.03705727966429301}), (33, 91, {'weight': 0.046884805885151044}), (33, 92, {'weight': 0.11415033608606626}), (33, 93, {'weight': 0.07551346023829075}), (33, 94, {'weight': 0.031822072881200036}), (33, 95, {'weight': 0.05020501021592656}), (33, 96, {'weight': 0.0400927529721778}), (33, 97, {'weight': 0.033612452909738105}), (33, 98, {'weight': 0.08093666645825887}), (33, 99, {'weight': 0.07394655103619774}), (34, 34, {'weight': 1.0}), (34, 35, {'weight': 0.2562931111630128}), (34, 36, {'weight': 0.08413441016908946}), (34, 37, {'weight': 0.5227539698849741}), (34, 38, {'weight': 0.11361159648823314}), (34, 39, {'weight': 0.08543182224490628}), (34, 40, {'weight': 0.301285711362839}), (34, 41, {'weight': 0.15058508187187541}), (34, 42, {'weight': 0.31046968019692034}), (34, 43, {'weight': 0.1408125032135888}), (34, 44, {'weight': 0.2825429213844277}), (34, 45, {'weight': 0.3017407794015785}), (34, 46, {'weight': 0.13297003540540103}), (34, 47, {'weight': 0.24639175674737535}), (34, 48, {'weight': 0.13490691598089166}), (34, 49, {'weight': 0.25965183767875555}), (34, 50, {'weight': 0.20161909345073026}), (34, 51, {'weight': 0.25636097254481244}), (34, 52, {'weight': 0.26456576722106695}), (34, 53, {'weight': 0.271958438963793}), (34, 54, {'weight': 0.12225862509566454}), (34, 55, {'weight': 0.1847429595534575}), (34, 56, {'weight': 0.21030636102872602}), (34, 57, {'weight': 0.09009917965540487}), (34, 58, {'weight': 0.16006704768177277}), (34, 59, {'weight': 0.0988014899924694}), (34, 60, {'weight': 0.2191701272553821}), (34, 61, {'weight': 0.09649619734262324}), (34, 62, {'weight': 0.11982337114521507}), (34, 63, {'weight': 0.24249086529843825}), (34, 64, {'weight': 0.06642495924314393}), (34, 65, {'weight': 0.12898746869026853}), (34, 66, {'weight': 0.18744100936515723}), (34, 67, {'weight': 0.10547987287680997}), (34, 68, {'weight': 0.07616813782102398}), (34, 69, {'weight': 0.10767428740977339}), (34, 70, {'weight': 0.025150156878583844}), (34, 71, {'weight': 0.17061198028211874}), (34, 72, {'weight': 0.16094733829638616}), (34, 73, {'weight': 0.12556346417525566}), (34, 74, {'weight': 0.13596694183880426}), (34, 75, {'weight': 0.061666681572270274}), (34, 76, {'weight': 0.08571760779479135}), (34, 77, {'weight': 0.06180775558316376}), (34, 78, {'weight': 0.12381027215482726}), (34, 79, {'weight': 0.09091431519563682}), (34, 80, {'weight': 0.03351366187903189}), (34, 81, {'weight': 0.09312292413074127}), (34, 82, {'weight': 0.09607043009650058}), (34, 83, {'weight': 0.060793536140012844}), (34, 84, {'weight': 0.10860041035544152}), (34, 85, {'weight': 0.08651967351794074}), (34, 86, {'weight': 0.0719444532142999}), (34, 87, {'weight': 0.17060812755120683}), (34, 88, {'weight': 0.06901877195873715}), (34, 89, {'weight': 0.08677040892078244}), (34, 90, {'weight': 0.047394393256491016}), (34, 91, {'weight': 0.07739054645079016}), (34, 92, {'weight': 0.0841293843598333}), (34, 93, {'weight': 0.07736627318432342}), (34, 94, {'weight': 0.03635890152250544}), (34, 95, {'weight': 0.07661612511654291}), (34, 96, {'weight': 0.050065446568814446}), (34, 97, {'weight': 0.07309415889201895}), (34, 98, {'weight': 0.08006182056461286}), (34, 99, {'weight': 0.07008283002200644}), (35, 35, {'weight': 1.0}), (35, 36, {'weight': 0.07321521459218616}), (35, 37, {'weight': 0.3042983534714684}), (35, 38, {'weight': 0.06407285294200343}), (35, 39, {'weight': 0.11714763986500631}), (35, 40, {'weight': 0.07353351659039248}), (35, 41, {'weight': 0.21880331966079156}), (35, 42, {'weight': 0.06656775782470235}), (35, 43, {'weight': 0.17015480191245477}), (35, 44, {'weight': 0.07646795337718684}), (35, 45, {'weight': 0.16145523804343342}), (35, 46, {'weight': 0.08775722290142413}), (35, 47, {'weight': 0.0849268082004323}), (35, 48, {'weight': 0.17176887454546574}), (35, 49, {'weight': 0.07755971567273703}), (35, 50, {'weight': 0.09000086905418317}), (35, 51, {'weight': 0.07853405826167954}), (35, 52, {'weight': 0.134362977246547}), (35, 53, {'weight': 0.26626213706201224}), (35, 54, {'weight': 0.16473802945031663}), (35, 55, {'weight': 0.0840688832065587}), (35, 56, {'weight': 0.080433292551889}), (35, 57, {'weight': 0.1392562196869302}), (35, 58, {'weight': 0.08051477165129903}), (35, 59, {'weight': 0.23204325870953116}), (35, 60, {'weight': 0.16151199526386356}), (35, 61, {'weight': 0.2265897338873299}), (35, 62, {'weight': 0.05998010849462976}), (35, 63, {'weight': 0.08546718103311018}), (35, 64, {'weight': 0.06046441921020759}), (35, 65, {'weight': 0.13972202163828185}), (35, 66, {'weight': 0.05516545681946267}), (35, 67, {'weight': 0.05417844997172931}), (35, 68, {'weight': 0.07166371726603979}), (35, 69, {'weight': 0.18098049107931768}), (35, 70, {'weight': 0.03493699542407941}), (35, 71, {'weight': 0.19851477390794947}), (35, 72, {'weight': 0.16354626930588234}), (35, 73, {'weight': 0.09532689810733785}), (35, 74, {'weight': 0.15645492482057227}), (35, 75, {'weight': 0.06979039410529367}), (35, 76, {'weight': 0.06630588292695985}), (35, 77, {'weight': 0.08106248919773153}), (35, 78, {'weight': 0.17411081712775942}), (35, 79, {'weight': 0.0766697718700362}), (35, 80, {'weight': 0.040283808705290663}), (35, 81, {'weight': 0.11891702138505003}), (35, 82, {'weight': 0.20733718152220948}), (35, 83, {'weight': 0.06511143256809448}), (35, 84, {'weight': 0.06729363122082481}), (35, 85, {'weight': 0.04980541115737927}), (35, 86, {'weight': 0.03819966721018686}), (35, 87, {'weight': 0.1588544041698971}), (35, 88, {'weight': 0.06992328133505495}), (35, 89, {'weight': 0.1218639586407482}), (35, 90, {'weight': 0.029459426517793347}), (35, 91, {'weight': 0.0801006097539166}), (35, 92, {'weight': 0.1555521055836872}), (35, 93, {'weight': 0.03734413581299619}), (35, 94, {'weight': 0.024698529717561375}), (35, 95, {'weight': 0.053192381703261224}), (35, 96, {'weight': 0.07249490540823823}), (35, 97, {'weight': 0.03079976267800085}), (35, 98, {'weight': 0.03300846160116994}), (35, 99, {'weight': 0.05507392085070709}), (36, 36, {'weight': 1.0}), (36, 37, {'weight': 0.10121039359224408}), (36, 38, {'weight': 0.054200416621867656}), (36, 39, {'weight': 0.11499173945887917}), (36, 40, {'weight': 0.07478769999463146}), (36, 41, {'weight': 0.27454338291099567}), (36, 42, {'weight': 0.11015746305056884}), (36, 43, {'weight': 0.07545719831968875}), (36, 44, {'weight': 0.13402589549759467}), (36, 45, {'weight': 0.06711741281766188}), (36, 46, {'weight': 0.08959460434352848}), (36, 47, {'weight': 0.07836240200602185}), (36, 48, {'weight': 0.08752718069703075}), (36, 49, {'weight': 0.1279357718264051}), (36, 50, {'weight': 0.09386310567336863}), (36, 51, {'weight': 0.057819447372023554}), (36, 52, {'weight': 0.08122727302557807}), (36, 53, {'weight': 0.05996183957783736}), (36, 54, {'weight': 0.10259475699192533}), (36, 55, {'weight': 0.06981285943448826}), (36, 56, {'weight': 0.07822403519292366}), (36, 57, {'weight': 0.06704134450547944}), (36, 58, {'weight': 0.11293131443489603}), (36, 59, {'weight': 0.08678589636560605}), (36, 60, {'weight': 0.07591122438179494}), (36, 61, {'weight': 0.08952359225276438}), (36, 62, {'weight': 0.08496394448221635}), (36, 63, {'weight': 0.22878734832432107}), (36, 64, {'weight': 0.045870620953702285}), (36, 65, {'weight': 0.07895650795952655}), (36, 66, {'weight': 0.08172881213703648}), (36, 67, {'weight': 0.07689590698457899}), (36, 68, {'weight': 0.043830776544038885}), (36, 69, {'weight': 0.058541001038971446}), (36, 70, {'weight': 0.022502398573142086}), (36, 71, {'weight': 0.08724313038002629}), (36, 72, {'weight': 0.04685610492897119}), (36, 73, {'weight': 0.0802032648399945}), (36, 74, {'weight': 0.06532405968818397}), (36, 75, {'weight': 0.04323449657178073}), (36, 76, {'weight': 0.038933389757516944}), (36, 77, {'weight': 0.06213597584214446}), (36, 78, {'weight': 0.0623078795485527}), (36, 79, {'weight': 0.03856825014647556}), (36, 80, {'weight': 0.024977737637667124}), (36, 81, {'weight': 0.05959069349706802}), (36, 82, {'weight': 0.14047643415796746}), (36, 83, {'weight': 0.05812505648500137}), (36, 84, {'weight': 0.043905269526986354}), (36, 85, {'weight': 0.032085751104537805}), (36, 86, {'weight': 0.0476316467631709}), (36, 87, {'weight': 0.04571713358542344}), (36, 88, {'weight': 0.05729710378467374}), (36, 89, {'weight': 0.06107494902569978}), (36, 90, {'weight': 0.03525109461241542}), (36, 91, {'weight': 0.04438520821846495}), (36, 92, {'weight': 0.0616493326665208}), (36, 93, {'weight': 0.04694302874000568}), (36, 94, {'weight': 0.02426887090495554}), (36, 95, {'weight': 0.03136232910383516}), (36, 96, {'weight': 0.055120433168648245}), (36, 97, {'weight': 0.052845980079027355}), (36, 98, {'weight': 0.04129115283368319}), (36, 99, {'weight': 0.03370338631878452}), (37, 37, {'weight': 1.0}), (37, 38, {'weight': 0.09763015971747376}), (37, 39, {'weight': 0.10063205316724697}), (37, 40, {'weight': 0.27969282947765706}), (37, 41, {'weight': 0.2581169226874024}), (37, 42, {'weight': 0.3017682002340714}), (37, 43, {'weight': 0.22943803052411157}), (37, 44, {'weight': 0.3953788913592704}), (37, 45, {'weight': 0.35814882896571887}), (37, 46, {'weight': 0.30025632992151496}), (37, 47, {'weight': 0.340405613786808}), (37, 48, {'weight': 0.14569906550225054}), (37, 49, {'weight': 0.3252023435224436}), (37, 50, {'weight': 0.232652884094101}), (37, 51, {'weight': 0.30945998453639467}), (37, 52, {'weight': 0.27098903845632283}), (37, 53, {'weight': 0.33239673899639366}), (37, 54, {'weight': 0.13234706620965497}), (37, 55, {'weight': 0.19690496760100037}), (37, 56, {'weight': 0.26491123880487555}), (37, 57, {'weight': 0.13899173303699275}), (37, 58, {'weight': 0.16343726640797857}), (37, 59, {'weight': 0.10740127897742968}), (37, 60, {'weight': 0.30185543567752976}), (37, 61, {'weight': 0.11578120844450593}), (37, 62, {'weight': 0.08688400344210007}), (37, 63, {'weight': 0.26733414127406285}), (37, 64, {'weight': 0.09406662191501086}), (37, 65, {'weight': 0.16983125949349154}), (37, 66, {'weight': 0.12090781966588701}), (37, 67, {'weight': 0.08306429557628082}), (37, 68, {'weight': 0.11166106512269014}), (37, 69, {'weight': 0.1338331241178774}), (37, 70, {'weight': 0.03046493723605506}), (37, 71, {'weight': 0.14292402386458247}), (37, 72, {'weight': 0.19457495679328207}), (37, 73, {'weight': 0.1545628425214433}), (37, 74, {'weight': 0.1328855789662291}), (37, 75, {'weight': 0.08086896044098324}), (37, 76, {'weight': 0.10312452639584747}), (37, 77, {'weight': 0.09570874730000009}), (37, 78, {'weight': 0.12303176938741106}), (37, 79, {'weight': 0.09765636467856018}), (37, 80, {'weight': 0.05125157121977612}), (37, 81, {'weight': 0.07472319311338602}), (37, 82, {'weight': 0.12238092475555}), (37, 83, {'weight': 0.07743652097198572}), (37, 84, {'weight': 0.08911021926328702}), (37, 85, {'weight': 0.10694640876781975}), (37, 86, {'weight': 0.059284607946109985}), (37, 87, {'weight': 0.15100251027030742}), (37, 88, {'weight': 0.09007124353732304}), (37, 89, {'weight': 0.08913173737756269}), (37, 90, {'weight': 0.04489848447808015}), (37, 91, {'weight': 0.07556180330893982}), (37, 92, {'weight': 0.08794874211387613}), (37, 93, {'weight': 0.07903519545973867}), (37, 94, {'weight': 0.05583659537784001}), (37, 95, {'weight': 0.094141403018109}), (37, 96, {'weight': 0.08926980132980247}), (37, 97, {'weight': 0.042841069305849674}), (37, 98, {'weight': 0.06274866209924823}), (37, 99, {'weight': 0.07102824996188105}), (38, 38, {'weight': 1.0}), (38, 39, {'weight': 0.08739782522073683}), (38, 40, {'weight': 0.10222311082212054}), (38, 41, {'weight': 0.07151737953280486}), (38, 42, {'weight': 0.10991637979616613}), (38, 43, {'weight': 0.0702540157976346}), (38, 44, {'weight': 0.08078548634942756}), (38, 45, {'weight': 0.0857028125609153}), (38, 46, {'weight': 0.08442239126366763}), (38, 47, {'weight': 0.06911610226525434}), (38, 48, {'weight': 0.1024162123337018}), (38, 49, {'weight': 0.09404453844946661}), (38, 50, {'weight': 0.07775934235620113}), (38, 51, {'weight': 0.07491844599470213}), (38, 52, {'weight': 0.08362515108641691}), (38, 53, {'weight': 0.07353626749777359}), (38, 54, {'weight': 0.07951275219186385}), (38, 55, {'weight': 0.07445417661820503}), (38, 56, {'weight': 0.07276970043711098}), (38, 57, {'weight': 0.06538983364903789}), (38, 58, {'weight': 0.08110298291975061}), (38, 59, {'weight': 0.0974318003341601}), (38, 60, {'weight': 0.052650897472269}), (38, 61, {'weight': 0.08214920161757672}), (38, 62, {'weight': 0.07402126152364702}), (38, 63, {'weight': 0.09860408743655448}), (38, 64, {'weight': 0.050877543851700346}), (38, 65, {'weight': 0.057539488702303215}), (38, 66, {'weight': 0.11335390153762957}), (38, 67, {'weight': 0.07344550706352446}), (38, 68, {'weight': 0.06050567078593187}), (38, 69, {'weight': 0.05635946562648428}), (38, 70, {'weight': 0.027487005805745136}), (38, 71, {'weight': 0.05283582439584678}), (38, 72, {'weight': 0.05384068038399775}), (38, 73, {'weight': 0.07978245499313684}), (38, 74, {'weight': 0.05771160400759294}), (38, 75, {'weight': 0.04916828306278262}), (38, 76, {'weight': 0.04893373932273141}), (38, 77, {'weight': 0.057801403156499495}), (38, 78, {'weight': 0.053051448383248226}), (38, 79, {'weight': 0.03612820253741421}), (38, 80, {'weight': 0.027395898516270396}), (38, 81, {'weight': 0.051025083693604006}), (38, 82, {'weight': 0.062397763181125165}), (38, 83, {'weight': 0.05067025247858052}), (38, 84, {'weight': 0.05849860983865224}), (38, 85, {'weight': 0.03407823403302711}), (38, 86, {'weight': 0.047628385756876716}), (38, 87, {'weight': 0.061877321270014884}), (38, 88, {'weight': 0.06448214641282089}), (38, 89, {'weight': 0.06887388313396586}), (38, 90, {'weight': 0.02658217374339568}), (38, 91, {'weight': 0.054768082270755004}), (38, 92, {'weight': 0.06871781665406002}), (38, 93, {'weight': 0.0391072343410295}), (38, 94, {'weight': 0.024922885744305522}), (38, 95, {'weight': 0.04526098223449858}), (38, 96, {'weight': 0.032617417544630184}), (38, 97, {'weight': 0.03362803645837824}), (38, 98, {'weight': 0.03630013217177672}), (38, 99, {'weight': 0.03478321310765586}), (39, 39, {'weight': 1.0}), (39, 40, {'weight': 0.15733811682776971}), (39, 41, {'weight': 0.23435317452030258}), (39, 42, {'weight': 0.15977706122260218}), (39, 43, {'weight': 0.24402185581333202}), (39, 44, {'weight': 0.08684210444910251}), (39, 45, {'weight': 0.11450779724136328}), (39, 46, {'weight': 0.14245268092929592}), (39, 47, {'weight': 0.22344819864384607}), (39, 48, {'weight': 0.09776577640034775}), (39, 49, {'weight': 0.2517652240324494}), (39, 50, {'weight': 0.14249971404988826}), (39, 51, {'weight': 0.13637153105384953}), (39, 52, {'weight': 0.08173311280502776}), (39, 53, {'weight': 0.12198573599540444}), (39, 54, {'weight': 0.07211049541089518}), (39, 55, {'weight': 0.10304087139356008}), (39, 56, {'weight': 0.22415704034379147}), (39, 57, {'weight': 0.060998302189583305}), (39, 58, {'weight': 0.08218570887084686}), (39, 59, {'weight': 0.11686561098337821}), (39, 60, {'weight': 0.11195532205155118}), (39, 61, {'weight': 0.08738614886331778}), (39, 62, {'weight': 0.2101181846610283}), (39, 63, {'weight': 0.06934634846079754}), (39, 64, {'weight': 0.04791758003123281}), (39, 65, {'weight': 0.127833409320812}), (39, 66, {'weight': 0.06121837817818432}), (39, 67, {'weight': 0.06209096793665704}), (39, 68, {'weight': 0.06632363264930025}), (39, 69, {'weight': 0.07928661812854128}), (39, 70, {'weight': 0.03777005514091254}), (39, 71, {'weight': 0.056014173942594475}), (39, 72, {'weight': 0.04771436628209345}), (39, 73, {'weight': 0.1405733662589106}), (39, 74, {'weight': 0.15904875425046444}), (39, 75, {'weight': 0.04015497221114668}), (39, 76, {'weight': 0.08952979104613384}), (39, 77, {'weight': 0.09258044730388906}), (39, 78, {'weight': 0.08364175119720371}), (39, 79, {'weight': 0.03741029272814141}), (39, 80, {'weight': 0.035238859067158346}), (39, 81, {'weight': 0.07586299820876302}), (39, 82, {'weight': 0.09425913964158086}), (39, 83, {'weight': 0.07950143923440398}), (39, 84, {'weight': 0.09210275002834747}), (39, 85, {'weight': 0.03552623932424026}), (39, 86, {'weight': 0.03622714327490635}), (39, 87, {'weight': 0.061835470663049334}), (39, 88, {'weight': 0.140368038726785}), (39, 89, {'weight': 0.1448279128757954}), (39, 90, {'weight': 0.026687101144700666}), (39, 91, {'weight': 0.06791108697308225}), (39, 92, {'weight': 0.11179046142306096}), (39, 93, {'weight': 0.050085565381647976}), (39, 94, {'weight': 0.02862491679044142}), (39, 95, {'weight': 0.03544300373088661}), (39, 96, {'weight': 0.03232659744293802}), (39, 97, {'weight': 0.032403779210970846}), (39, 98, {'weight': 0.03560402987621157}), (39, 99, {'weight': 0.02926595047377114}), (40, 40, {'weight': 1.0}), (40, 41, {'weight': 0.061425555878039814}), (40, 42, {'weight': 0.4954682548738042}), (40, 43, {'weight': 0.08630741049513038}), (40, 44, {'weight': 0.26329638059530874}), (40, 45, {'weight': 0.14882955675037096}), (40, 46, {'weight': 0.3820469482105307}), (40, 47, {'weight': 0.15204146539138164}), (40, 48, {'weight': 0.19062435203603806}), (40, 49, {'weight': 0.24255162414188403}), (40, 50, {'weight': 0.15202779298850652}), (40, 51, {'weight': 0.2448231845083429}), (40, 52, {'weight': 0.10836180052222665}), (40, 53, {'weight': 0.08265028467151248}), (40, 54, {'weight': 0.08283889099399386}), (40, 55, {'weight': 0.09838475033042691}), (40, 56, {'weight': 0.21538763969280766}), (40, 57, {'weight': 0.1530074836682781}), (40, 58, {'weight': 0.1363343429483145}), (40, 59, {'weight': 0.1540013941858283}), (40, 60, {'weight': 0.1244173752572888}), (40, 61, {'weight': 0.09749949125339705}), (40, 62, {'weight': 0.1911636258367128}), (40, 63, {'weight': 0.20475555854949543}), (40, 64, {'weight': 0.10957675726843208}), (40, 65, {'weight': 0.13253138916759455}), (40, 66, {'weight': 0.1671558959131576}), (40, 67, {'weight': 0.10167593574798217}), (40, 68, {'weight': 0.084854528542393}), (40, 69, {'weight': 0.05065965638170684}), (40, 70, {'weight': 0.027041841670208656}), (40, 71, {'weight': 0.06601999763311922}), (40, 72, {'weight': 0.09821826386290133}), (40, 73, {'weight': 0.09629189826566507}), (40, 74, {'weight': 0.1445616040553996}), (40, 75, {'weight': 0.08473688588525749}), (40, 76, {'weight': 0.050918466003724135}), (40, 77, {'weight': 0.08911112839027285}), (40, 78, {'weight': 0.06467922211842166}), (40, 79, {'weight': 0.06201905220072901}), (40, 80, {'weight': 0.05616346806988607}), (40, 81, {'weight': 0.06636453299713782}), (40, 82, {'weight': 0.06578487456685825}), (40, 83, {'weight': 0.09043092721822675}), (40, 84, {'weight': 0.1637573350363458}), (40, 85, {'weight': 0.07792994207553729}), (40, 86, {'weight': 0.09827596337755257}), (40, 87, {'weight': 0.09270893366003788}), (40, 88, {'weight': 0.0824473559211499}), (40, 89, {'weight': 0.07816933006406054}), (40, 90, {'weight': 0.039379027871793815}), (40, 91, {'weight': 0.1140913524558459}), (40, 92, {'weight': 0.07236987528751869}), (40, 93, {'weight': 0.06263882137980553}), (40, 94, {'weight': 0.03499303711343455}), (40, 95, {'weight': 0.08198720784123181}), (40, 96, {'weight': 0.047258724814986976}), (40, 97, {'weight': 0.047376216751779804}), (40, 98, {'weight': 0.06837138778104787}), (40, 99, {'weight': 0.06371222762417264}), (41, 41, {'weight': 1.0}), (41, 42, {'weight': 0.0863277481170058}), (41, 43, {'weight': 0.12310770785067819}), (41, 44, {'weight': 0.17948071753877215}), (41, 45, {'weight': 0.3678294416443147}), (41, 46, {'weight': 0.08273184700567016}), (41, 47, {'weight': 0.09048455148768975}), (41, 48, {'weight': 0.10035676370060377}), (41, 49, {'weight': 0.25389868793718523}), (41, 50, {'weight': 0.22171197290802008}), (41, 51, {'weight': 0.09694765965040715}), (41, 52, {'weight': 0.24600944995810686}), (41, 53, {'weight': 0.377674248949755}), (41, 54, {'weight': 0.11105426277818724}), (41, 55, {'weight': 0.20543216350822985}), (41, 56, {'weight': 0.1543033432746132}), (41, 57, {'weight': 0.10496211338019976}), (41, 58, {'weight': 0.1114135603003635}), (41, 59, {'weight': 0.08007485963278219}), (41, 60, {'weight': 0.16621007563589849}), (41, 61, {'weight': 0.08931731850168313}), (41, 62, {'weight': 0.06247505724441541}), (41, 63, {'weight': 0.07578335411770466}), (41, 64, {'weight': 0.07781179920441247}), (41, 65, {'weight': 0.1361131584710678}), (41, 66, {'weight': 0.05858488254673268}), (41, 67, {'weight': 0.12227040025548483}), (41, 68, {'weight': 0.046286217928161094}), (41, 69, {'weight': 0.08773719581270563}), (41, 70, {'weight': 0.033497123488786}), (41, 71, {'weight': 0.11725376365538767}), (41, 72, {'weight': 0.08095089554519463}), (41, 73, {'weight': 0.15234370063107922}), (41, 74, {'weight': 0.06300443660456348}), (41, 75, {'weight': 0.042330933150258335}), (41, 76, {'weight': 0.059193575405929344}), (41, 77, {'weight': 0.09745058833157288}), (41, 78, {'weight': 0.07993248622422}), (41, 79, {'weight': 0.03954365702605321}), (41, 80, {'weight': 0.04467286126087415}), (41, 81, {'weight': 0.07025849793174815}), (41, 82, {'weight': 0.08857019369255474}), (41, 83, {'weight': 0.049505763597334995}), (41, 84, {'weight': 0.049802697406582074}), (41, 85, {'weight': 0.037576306404465964}), (41, 86, {'weight': 0.05180944503915217}), (41, 87, {'weight': 0.07124714486224162}), (41, 88, {'weight': 0.10002708690339648}), (41, 89, {'weight': 0.08484978359520805}), (41, 90, {'weight': 0.02907633752362348}), (41, 91, {'weight': 0.0570487355586684}), (41, 92, {'weight': 0.07299918318818938}), (41, 93, {'weight': 0.0505012997395151}), (41, 94, {'weight': 0.042899319183040845}), (41, 95, {'weight': 0.06645006170707754}), (41, 96, {'weight': 0.09198658150128786}), (41, 97, {'weight': 0.030974866285510893}), (41, 98, {'weight': 0.03398540153223094}), (41, 99, {'weight': 0.04738739971589645}), (42, 42, {'weight': 1.0}), (42, 43, {'weight': 0.06598113766972091}), (42, 44, {'weight': 0.2792314504906689}), (42, 45, {'weight': 0.1238599947014643}), (42, 46, {'weight': 0.43018261629291243}), (42, 47, {'weight': 0.1570272065972122}), (42, 48, {'weight': 0.24302991487833042}), (42, 49, {'weight': 0.21918584066700597}), (42, 50, {'weight': 0.14611378939613728}), (42, 51, {'weight': 0.23215859200932462}), (42, 52, {'weight': 0.14524012271904807}), (42, 53, {'weight': 0.07000499434826124}), (42, 54, {'weight': 0.07311426508348406}), (42, 55, {'weight': 0.10140935598031237}), (42, 56, {'weight': 0.22463285516325615}), (42, 57, {'weight': 0.16599066470843488}), (42, 58, {'weight': 0.18232864431592022}), (42, 59, {'weight': 0.21233308205407814}), (42, 60, {'weight': 0.0936844357014047}), (42, 61, {'weight': 0.10529706333438762}), (42, 62, {'weight': 0.2233300426629644}), (42, 63, {'weight': 0.2492050646602339}), (42, 64, {'weight': 0.14266286417807028}), (42, 65, {'weight': 0.10213039506952054}), (42, 66, {'weight': 0.20927936785859363}), (42, 67, {'weight': 0.1673623204908608}), (42, 68, {'weight': 0.09575786901181584}), (42, 69, {'weight': 0.05718831501998091}), (42, 70, {'weight': 0.02746366183523572}), (42, 71, {'weight': 0.08241104480655756}), (42, 72, {'weight': 0.0920183056437347}), (42, 73, {'weight': 0.14121067645590807}), (42, 74, {'weight': 0.07393223084129696}), (42, 75, {'weight': 0.06641617150521656}), (42, 76, {'weight': 0.05933062244653588}), (42, 77, {'weight': 0.08362292365637213}), (42, 78, {'weight': 0.08092434540281154}), (42, 79, {'weight': 0.05490073981825644}), (42, 80, {'weight': 0.0626247382639009}), (42, 81, {'weight': 0.07754414294138715}), (42, 82, {'weight': 0.07383206346043245}), (42, 83, {'weight': 0.06967827639940533}), (42, 84, {'weight': 0.11420546939460435}), (42, 85, {'weight': 0.06494301404002259}), (42, 86, {'weight': 0.13403487186933277}), (42, 87, {'weight': 0.07740836344640742}), (42, 88, {'weight': 0.07105659340246942}), (42, 89, {'weight': 0.06570470036992554}), (42, 90, {'weight': 0.05216308710556393}), (42, 91, {'weight': 0.05977248534595962}), (42, 92, {'weight': 0.08176147742652921}), (42, 93, {'weight': 0.08888375973315865}), (42, 94, {'weight': 0.048678773234736135}), (42, 95, {'weight': 0.09674729660665055}), (42, 96, {'weight': 0.04754762258382621}), (42, 97, {'weight': 0.058468491790250515}), (42, 98, {'weight': 0.09201326124427339}), (42, 99, {'weight': 0.06398259354202332}), (43, 43, {'weight': 1.0}), (43, 44, {'weight': 0.06937112671131368}), (43, 45, {'weight': 0.11553518214550654}), (43, 46, {'weight': 0.07704593053661038}), (43, 47, {'weight': 0.07098950684429747}), (43, 48, {'weight': 0.11273916399056311}), (43, 49, {'weight': 0.14983673539908243}), (43, 50, {'weight': 0.2200144289000922}), (43, 51, {'weight': 0.07734191042099006}), (43, 52, {'weight': 0.13729431250882923}), (43, 53, {'weight': 0.17428056669712194}), (43, 54, {'weight': 0.08151678237708168}), (43, 55, {'weight': 0.07513083533846557}), (43, 56, {'weight': 0.15456509268977603}), (43, 57, {'weight': 0.23527382112375722}), (43, 58, {'weight': 0.16075784773123436}), (43, 59, {'weight': 0.22131768259870915}), (43, 60, {'weight': 0.09427476932121837}), (43, 61, {'weight': 0.09400647900659309}), (43, 62, {'weight': 0.05384536124109897}), (43, 63, {'weight': 0.08023276022343466}), (43, 64, {'weight': 0.14164142846259115}), (43, 65, {'weight': 0.12231890917725738}), (43, 66, {'weight': 0.07154918206908085}), (43, 67, {'weight': 0.10294607732628873}), (43, 68, {'weight': 0.06169702551097792}), (43, 69, {'weight': 0.1004107880850223}), (43, 70, {'weight': 0.02012228517653086}), (43, 71, {'weight': 0.07509002158706216}), (43, 72, {'weight': 0.056154045545930314}), (43, 73, {'weight': 0.06037904081552689}), (43, 74, {'weight': 0.12116790729020213}), (43, 75, {'weight': 0.05236595303001833}), (43, 76, {'weight': 0.10130981058591765}), (43, 77, {'weight': 0.05075953345395175}), (43, 78, {'weight': 0.07262433908791951}), (43, 79, {'weight': 0.03996358558952034}), (43, 80, {'weight': 0.027711133234758226}), (43, 81, {'weight': 0.06053491452914186}), (43, 82, {'weight': 0.12446760576089065}), (43, 83, {'weight': 0.08398197309404964}), (43, 84, {'weight': 0.11875908004355928}), (43, 85, {'weight': 0.029654973530314994}), (43, 86, {'weight': 0.07758867821006424}), (43, 87, {'weight': 0.08487853149268983}), (43, 88, {'weight': 0.13971630441812494}), (43, 89, {'weight': 0.052465360379699746}), (43, 90, {'weight': 0.027943812770293255}), (43, 91, {'weight': 0.0717057788721213}), (43, 92, {'weight': 0.08806417370239743}), (43, 93, {'weight': 0.031056598326877634}), (43, 94, {'weight': 0.021913022658745993}), (43, 95, {'weight': 0.038722195006425736}), (43, 96, {'weight': 0.06112560463395016}), (43, 97, {'weight': 0.027582752577313397}), (43, 98, {'weight': 0.04665808033445448}), (43, 99, {'weight': 0.033771302361209316}), (44, 44, {'weight': 1.0}), (44, 45, {'weight': 0.2870921844848876}), (44, 46, {'weight': 0.258233231324007}), (44, 47, {'weight': 0.1514622113027662}), (44, 48, {'weight': 0.21765435868926014}), (44, 49, {'weight': 0.26879118889824727}), (44, 50, {'weight': 0.21057870438004458}), (44, 51, {'weight': 0.2514821250942115}), (44, 52, {'weight': 0.21937378976121963}), (44, 53, {'weight': 0.18967113178360712}), (44, 54, {'weight': 0.16972403643684583}), (44, 55, {'weight': 0.14980795933293567}), (44, 56, {'weight': 0.23243941706656313}), (44, 57, {'weight': 0.0894622847339327}), (44, 58, {'weight': 0.197754898851435}), (44, 59, {'weight': 0.1340222209998459}), (44, 60, {'weight': 0.13466521958620253}), (44, 61, {'weight': 0.12836666646956035}), (44, 62, {'weight': 0.1351418869650685}), (44, 63, {'weight': 0.19780749075478138}), (44, 64, {'weight': 0.08552630671187142}), (44, 65, {'weight': 0.14163682770173508}), (44, 66, {'weight': 0.1844427555510032}), (44, 67, {'weight': 0.17607876232761605}), (44, 68, {'weight': 0.09354870868756493}), (44, 69, {'weight': 0.059599658609830804}), (44, 70, {'weight': 0.03219611158185262}), (44, 71, {'weight': 0.09209393645835631}), (44, 72, {'weight': 0.1046784213183191}), (44, 73, {'weight': 0.22839903360121117}), (44, 74, {'weight': 0.07001295615864674}), (44, 75, {'weight': 0.06690378790313534}), (44, 76, {'weight': 0.04868171752683231}), (44, 77, {'weight': 0.10375068452136132}), (44, 78, {'weight': 0.09886785711623151}), (44, 79, {'weight': 0.07528760273976208}), (44, 80, {'weight': 0.05186535719185981}), (44, 81, {'weight': 0.0705379556882661}), (44, 82, {'weight': 0.10293446646985599}), (44, 83, {'weight': 0.07149084018088775}), (44, 84, {'weight': 0.05423350501851969}), (44, 85, {'weight': 0.07805298176718936}), (44, 86, {'weight': 0.07963864860853306}), (44, 87, {'weight': 0.10127903983761166}), (44, 88, {'weight': 0.08167800188043893}), (44, 89, {'weight': 0.08594563331992508}), (44, 90, {'weight': 0.04996577601474045}), (44, 91, {'weight': 0.04718703183812735}), (44, 92, {'weight': 0.1262313946362141}), (44, 93, {'weight': 0.08971822327123893}), (44, 94, {'weight': 0.04948290121102234}), (44, 95, {'weight': 0.1050674949973543}), (44, 96, {'weight': 0.06030141137172361}), (44, 97, {'weight': 0.045223219255929745}), (44, 98, {'weight': 0.07063216041859752}), (44, 99, {'weight': 0.07726147794358079}), (45, 45, {'weight': 1.0}), (45, 46, {'weight': 0.1305679558870924}), (45, 47, {'weight': 0.3835637076602517}), (45, 48, {'weight': 0.16141035644954502}), (45, 49, {'weight': 0.3831203782147077}), (45, 50, {'weight': 0.37534791391178823}), (45, 51, {'weight': 0.3743719319780392}), (45, 52, {'weight': 0.3766557498786721}), (45, 53, {'weight': 0.4894456614222652}), (45, 54, {'weight': 0.15340004113372435}), (45, 55, {'weight': 0.299251063910311}), (45, 56, {'weight': 0.24287393400971535}), (45, 57, {'weight': 0.10418406325698946}), (45, 58, {'weight': 0.2756966934671957}), (45, 59, {'weight': 0.0793239886600089}), (45, 60, {'weight': 0.20977526184669293}), (45, 61, {'weight': 0.11407042020824695}), (45, 62, {'weight': 0.0828474643474055}), (45, 63, {'weight': 0.11612640253515502}), (45, 64, {'weight': 0.0922519985946372}), (45, 65, {'weight': 0.2621142412480383}), (45, 66, {'weight': 0.11696114733663326}), (45, 67, {'weight': 0.150579614839518}), (45, 68, {'weight': 0.08234916566628225}), (45, 69, {'weight': 0.09841324907158179}), (45, 70, {'weight': 0.034355767070561954}), (45, 71, {'weight': 0.0962765037879999}), (45, 72, {'weight': 0.13740000644107658}), (45, 73, {'weight': 0.20650227877685207}), (45, 74, {'weight': 0.07938731397196236}), (45, 75, {'weight': 0.06657930362718353}), (45, 76, {'weight': 0.06109368091927457}), (45, 77, {'weight': 0.13107471790542435}), (45, 78, {'weight': 0.12258323449155135}), (45, 79, {'weight': 0.06426272023143788}), (45, 80, {'weight': 0.0529708990884719}), (45, 81, {'weight': 0.08150843193876123}), (45, 82, {'weight': 0.13897903370330672}), (45, 83, {'weight': 0.0619330954179074}), (45, 84, {'weight': 0.06912687859666028}), (45, 85, {'weight': 0.05530833852971943}), (45, 86, {'weight': 0.04218233407245958}), (45, 87, {'weight': 0.15413907835610272}), (45, 88, {'weight': 0.08437851156999934}), (45, 89, {'weight': 0.10416106827401125}), (45, 90, {'weight': 0.041841248678068446}), (45, 91, {'weight': 0.05431708005185755}), (45, 92, {'weight': 0.09769562372986312}), (45, 93, {'weight': 0.05939534994790015}), (45, 94, {'weight': 0.038021748189788596}), (45, 95, {'weight': 0.12549024974463646}), (45, 96, {'weight': 0.09265821271393769}), (45, 97, {'weight': 0.03385685502693904}), (45, 98, {'weight': 0.05163579190486588}), (45, 99, {'weight': 0.04378958916586562}), (46, 46, {'weight': 1.0}), (46, 47, {'weight': 0.162486537858873}), (46, 48, {'weight': 0.1809266190912338}), (46, 49, {'weight': 0.22340179314791622}), (46, 50, {'weight': 0.144293613049291}), (46, 51, {'weight': 0.19180231014709753}), (46, 52, {'weight': 0.11419157839462192}), (46, 53, {'weight': 0.0937447791544236}), (46, 54, {'weight': 0.09694192586627748}), (46, 55, {'weight': 0.09412608082499731}), (46, 56, {'weight': 0.14591230832998}), (46, 57, {'weight': 0.18830345847557495}), (46, 58, {'weight': 0.13649075145946238}), (46, 59, {'weight': 0.1706964145631053}), (46, 60, {'weight': 0.09888396911898552}), (46, 61, {'weight': 0.10755876777561836}), (46, 62, {'weight': 0.1938843570936525}), (46, 63, {'weight': 0.13139175919236973}), (46, 64, {'weight': 0.12015970666415232}), (46, 65, {'weight': 0.13271631086307767}), (46, 66, {'weight': 0.16128982179920093}), (46, 67, {'weight': 0.12392608392336568}), (46, 68, {'weight': 0.08033526197886215}), (46, 69, {'weight': 0.04745593237971654}), (46, 70, {'weight': 0.025198969198228723}), (46, 71, {'weight': 0.1041478493940762}), (46, 72, {'weight': 0.07682698543010037}), (46, 73, {'weight': 0.11303218723235886}), (46, 74, {'weight': 0.06167555738688797}), (46, 75, {'weight': 0.0815448086530852}), (46, 76, {'weight': 0.07823315216332341}), (46, 77, {'weight': 0.09024904668238838}), (46, 78, {'weight': 0.07705088783571305}), (46, 79, {'weight': 0.041572412762640495}), (46, 80, {'weight': 0.048895601488186745}), (46, 81, {'weight': 0.06655933218128957}), (46, 82, {'weight': 0.0660523704356476}), (46, 83, {'weight': 0.06982716047859544}), (46, 84, {'weight': 0.09300728932402375}), (46, 85, {'weight': 0.05061068333942779}), (46, 86, {'weight': 0.07391449057120336}), (46, 87, {'weight': 0.048085668205555286}), (46, 88, {'weight': 0.10823010990659879}), (46, 89, {'weight': 0.08424078891377401}), (46, 90, {'weight': 0.04421455691387114}), (46, 91, {'weight': 0.07116253411587566}), (46, 92, {'weight': 0.08684830736626495}), (46, 93, {'weight': 0.05631525411868986}), (46, 94, {'weight': 0.039298497258351925}), (46, 95, {'weight': 0.11678713605731342}), (46, 96, {'weight': 0.0583627798474687}), (46, 97, {'weight': 0.04495084032912795}), (46, 98, {'weight': 0.06703545286869694}), (46, 99, {'weight': 0.06008955787634272}), (47, 47, {'weight': 1.0}), (47, 48, {'weight': 0.08780181621597462}), (47, 49, {'weight': 0.3222361079084711}), (47, 50, {'weight': 0.27503710300613865}), (47, 51, {'weight': 0.3508829120696145}), (47, 52, {'weight': 0.25589147874140183}), (47, 53, {'weight': 0.2757098804397991}), (47, 54, {'weight': 0.15240996739397325}), (47, 55, {'weight': 0.23553354254015668}), (47, 56, {'weight': 0.20004352220693827}), (47, 57, {'weight': 0.08374496170124518}), (47, 58, {'weight': 0.2931718718081651}), (47, 59, {'weight': 0.11129923375647352}), (47, 60, {'weight': 0.15019753014960519}), (47, 61, {'weight': 0.07812890910197778}), (47, 62, {'weight': 0.05531230230036367}), (47, 63, {'weight': 0.08976892178755674}), (47, 64, {'weight': 0.08324980091642895}), (47, 65, {'weight': 0.22210740382869243}), (47, 66, {'weight': 0.07374521874608259}), (47, 67, {'weight': 0.06038558599811948}), (47, 68, {'weight': 0.05880766835671995}), (47, 69, {'weight': 0.10287173235578978}), (47, 70, {'weight': 0.025809975516440424}), (47, 71, {'weight': 0.05326125503267287}), (47, 72, {'weight': 0.08712620818917663}), (47, 73, {'weight': 0.12362572370676961}), (47, 74, {'weight': 0.07691181189005311}), (47, 75, {'weight': 0.04708743780911018}), (47, 76, {'weight': 0.06251452493648366}), (47, 77, {'weight': 0.06269880508203599}), (47, 78, {'weight': 0.12995778105585032}), (47, 79, {'weight': 0.05815790104461982}), (47, 80, {'weight': 0.03500380576615027}), (47, 81, {'weight': 0.06023570538184865}), (47, 82, {'weight': 0.09058446442801907}), (47, 83, {'weight': 0.04873586043024093}), (47, 84, {'weight': 0.0917053675312813}), (47, 85, {'weight': 0.03625482724982603}), (47, 86, {'weight': 0.038962159620857174}), (47, 87, {'weight': 0.17314810314837786}), (47, 88, {'weight': 0.0808577050476573}), (47, 89, {'weight': 0.07471334807956256}), (47, 90, {'weight': 0.04853467414858133}), (47, 91, {'weight': 0.04649993733573186}), (47, 92, {'weight': 0.07551090748559097}), (47, 93, {'weight': 0.035307185163714894}), (47, 94, {'weight': 0.022987944885276668}), (47, 95, {'weight': 0.1371952920920816}), (47, 96, {'weight': 0.08393772275407532}), (47, 97, {'weight': 0.03566170095411907}), (47, 98, {'weight': 0.03169198878767003}), (47, 99, {'weight': 0.0259308010391849}), (48, 48, {'weight': 1.0}), (48, 49, {'weight': 0.16644672935966703}), (48, 50, {'weight': 0.18264383543278012}), (48, 51, {'weight': 0.13914774007684955}), (48, 52, {'weight': 0.1650433082605956}), (48, 53, {'weight': 0.11667343387348392}), (48, 54, {'weight': 0.12025545708764519}), (48, 55, {'weight': 0.1857645321319702}), (48, 56, {'weight': 0.1979174104134003}), (48, 57, {'weight': 0.1844073370013996}), (48, 58, {'weight': 0.1589088482067888}), (48, 59, {'weight': 0.17938776473659188}), (48, 60, {'weight': 0.08230464055584176}), (48, 61, {'weight': 0.2255141856799741}), (48, 62, {'weight': 0.216740357282315}), (48, 63, {'weight': 0.22329233673241847}), (48, 64, {'weight': 0.1502721961015871}), (48, 65, {'weight': 0.14956485090936816}), (48, 66, {'weight': 0.255669248849134}), (48, 67, {'weight': 0.26988288602554555}), (48, 68, {'weight': 0.14457561720157108}), (48, 69, {'weight': 0.07096162251515048}), (48, 70, {'weight': 0.022351071528967592}), (48, 71, {'weight': 0.13124637374364231}), (48, 72, {'weight': 0.0594934791925003}), (48, 73, {'weight': 0.14212015272124973}), (48, 74, {'weight': 0.10026462033665445}), (48, 75, {'weight': 0.0838005750301894}), (48, 76, {'weight': 0.07524534442954063}), (48, 77, {'weight': 0.10559795002961897}), (48, 78, {'weight': 0.07665759977372444}), (48, 79, {'weight': 0.04973591490869558}), (48, 80, {'weight': 0.051012530862808644}), (48, 81, {'weight': 0.11659928579153009}), (48, 82, {'weight': 0.15693276193245598}), (48, 83, {'weight': 0.11967666032323965}), (48, 84, {'weight': 0.058549281656936236}), (48, 85, {'weight': 0.05354794569291285}), (48, 86, {'weight': 0.06347764731036584}), (48, 87, {'weight': 0.10871929801470093}), (48, 88, {'weight': 0.08602016515870453}), (48, 89, {'weight': 0.07182285244561523}), (48, 90, {'weight': 0.0364235995179793}), (48, 91, {'weight': 0.06941126750179011}), (48, 92, {'weight': 0.15389242298951936}), (48, 93, {'weight': 0.06898268829284347}), (48, 94, {'weight': 0.027072452957896016}), (48, 95, {'weight': 0.07957182632189877}), (48, 96, {'weight': 0.04077046695668984}), (48, 97, {'weight': 0.037009240379446966}), (48, 98, {'weight': 0.058713023429042596}), (48, 99, {'weight': 0.05665605121049069}), (49, 49, {'weight': 1.0}), (49, 50, {'weight': 0.3884741997691964}), (49, 51, {'weight': 0.3000459499523906}), (49, 52, {'weight': 0.3083557993216465}), (49, 53, {'weight': 0.31253116740917997}), (49, 54, {'weight': 0.17884524506693938}), (49, 55, {'weight': 0.2286710259898057}), (49, 56, {'weight': 0.36031666615297087}), (49, 57, {'weight': 0.09733983343010594}), (49, 58, {'weight': 0.1557343948789699}), (49, 59, {'weight': 0.11782797845396116}), (49, 60, {'weight': 0.1360911437441345}), (49, 61, {'weight': 0.09719984096636584}), (49, 62, {'weight': 0.17426391063024055}), (49, 63, {'weight': 0.11429235030951174}), (49, 64, {'weight': 0.05817822279778661}), (49, 65, {'weight': 0.25707637488586543}), (49, 66, {'weight': 0.13823389064198988}), (49, 67, {'weight': 0.12357383870755934}), (49, 68, {'weight': 0.07110874910466194}), (49, 69, {'weight': 0.07918032358593943}), (49, 70, {'weight': 0.028631441409724633}), (49, 71, {'weight': 0.07825489210083882}), (49, 72, {'weight': 0.13658555771888914}), (49, 73, {'weight': 0.13457125521141616}), (49, 74, {'weight': 0.07663758367791017}), (49, 75, {'weight': 0.04903207871621751}), (49, 76, {'weight': 0.04504570514924531}), (49, 77, {'weight': 0.08649561162295283}), (49, 78, {'weight': 0.0683837128219342}), (49, 79, {'weight': 0.049757096658637055}), (49, 80, {'weight': 0.03971000700043438}), (49, 81, {'weight': 0.07219791155590205}), (49, 82, {'weight': 0.07349880630124034}), (49, 83, {'weight': 0.08010374982086352}), (49, 84, {'weight': 0.09975145797248622}), (49, 85, {'weight': 0.0526116277972563}), (49, 86, {'weight': 0.07350639527093353}), (49, 87, {'weight': 0.08041877190042365}), (49, 88, {'weight': 0.09832369768806161}), (49, 89, {'weight': 0.08265832648676552}), (49, 90, {'weight': 0.036053608911358705}), (49, 91, {'weight': 0.05860344991461813}), (49, 92, {'weight': 0.07102761991605182}), (49, 93, {'weight': 0.048252422919311394}), (49, 94, {'weight': 0.034816470611493275}), (49, 95, {'weight': 0.08221132503127325}), (49, 96, {'weight': 0.050453501828388495}), (49, 97, {'weight': 0.026691904092372987}), (49, 98, {'weight': 0.05308621367351629}), (49, 99, {'weight': 0.06535776596496506}), (50, 50, {'weight': 1.0}), (50, 51, {'weight': 0.26111286185177796}), (50, 52, {'weight': 0.3608206782603864}), (50, 53, {'weight': 0.3129366268016649}), (50, 54, {'weight': 0.25305956861127604}), (50, 55, {'weight': 0.20855493327883123}), (50, 56, {'weight': 0.27450582553967356}), (50, 57, {'weight': 0.08941645583534844}), (50, 58, {'weight': 0.20645158359815557}), (50, 59, {'weight': 0.07521244391249675}), (50, 60, {'weight': 0.16745623045534275}), (50, 61, {'weight': 0.08247784702465513}), (50, 62, {'weight': 0.10468848494097442}), (50, 63, {'weight': 0.09598474144662092}), (50, 64, {'weight': 0.07628370176149159}), (50, 65, {'weight': 0.2476732069582645}), (50, 66, {'weight': 0.11861448092632002}), (50, 67, {'weight': 0.11667734743921532}), (50, 68, {'weight': 0.0737745910306381}), (50, 69, {'weight': 0.07035799438641399}), (50, 70, {'weight': 0.030584429021281084}), (50, 71, {'weight': 0.08049128291924215}), (50, 72, {'weight': 0.054936819729419065}), (50, 73, {'weight': 0.17724679698515977}), (50, 74, {'weight': 0.06287927273191882}), (50, 75, {'weight': 0.06071559829927324}), (50, 76, {'weight': 0.0628652651351942}), (50, 77, {'weight': 0.09190804454325194}), (50, 78, {'weight': 0.07628707379090348}), (50, 79, {'weight': 0.041236940811512295}), (50, 80, {'weight': 0.04291099118189752}), (50, 81, {'weight': 0.054027557267994145}), (50, 82, {'weight': 0.117814688163591}), (50, 83, {'weight': 0.05884535809723807}), (50, 84, {'weight': 0.08316672476680845}), (50, 85, {'weight': 0.04525519595597827}), (50, 86, {'weight': 0.04506036410750454}), (50, 87, {'weight': 0.07412701091988745}), (50, 88, {'weight': 0.08393245741906441}), (50, 89, {'weight': 0.08278973808894081}), (50, 90, {'weight': 0.027911937360220837}), (50, 91, {'weight': 0.058390356102922036}), (50, 92, {'weight': 0.08784014618852315}), (50, 93, {'weight': 0.042751036924264296}), (50, 94, {'weight': 0.03465527310587737}), (50, 95, {'weight': 0.1040202095873147}), (50, 96, {'weight': 0.05913455189912958}), (50, 97, {'weight': 0.03481182318680298}), (50, 98, {'weight': 0.047269804250329034}), (50, 99, {'weight': 0.04697815376483726}), (51, 51, {'weight': 1.0}), (51, 52, {'weight': 0.18647224755639172}), (51, 53, {'weight': 0.24735073009905081}), (51, 54, {'weight': 0.12966449475464248}), (51, 55, {'weight': 0.18228282679986152}), (51, 56, {'weight': 0.2688631429336863}), (51, 57, {'weight': 0.0917437284851728}), (51, 58, {'weight': 0.3732253323904124}), (51, 59, {'weight': 0.13275818119660815}), (51, 60, {'weight': 0.15722203454810257}), (51, 61, {'weight': 0.11349729506034334}), (51, 62, {'weight': 0.1080790826517327}), (51, 63, {'weight': 0.11498200437955589}), (51, 64, {'weight': 0.059859138203036386}), (51, 65, {'weight': 0.29539695060530863}), (51, 66, {'weight': 0.12863328768882848}), (51, 67, {'weight': 0.16733470051035398}), (51, 68, {'weight': 0.07165236325958466}), (51, 69, {'weight': 0.076192263671094}), (51, 70, {'weight': 0.02800014455296735}), (51, 71, {'weight': 0.07893078189003949}), (51, 72, {'weight': 0.08631708639392945}), (51, 73, {'weight': 0.1808099617078027}), (51, 74, {'weight': 0.06635105497481336}), (51, 75, {'weight': 0.051079401759809996}), (51, 76, {'weight': 0.04161722145949192}), (51, 77, {'weight': 0.09991049808554882}), (51, 78, {'weight': 0.06410428880238421}), (51, 79, {'weight': 0.05999550555221422}), (51, 80, {'weight': 0.041560866100808766}), (51, 81, {'weight': 0.07151417010674305}), (51, 82, {'weight': 0.07387693448354636}), (51, 83, {'weight': 0.06227603687412852}), (51, 84, {'weight': 0.05897484782698771}), (51, 85, {'weight': 0.05218450270246293}), (51, 86, {'weight': 0.047570386326236065}), (51, 87, {'weight': 0.08518323090083632}), (51, 88, {'weight': 0.07561378610733091}), (51, 89, {'weight': 0.07524333076480777}), (51, 90, {'weight': 0.03484975683377329}), (51, 91, {'weight': 0.05343262324775905}), (51, 92, {'weight': 0.11110142135438358}), (51, 93, {'weight': 0.04359087943176819}), (51, 94, {'weight': 0.030353372048599732}), (51, 95, {'weight': 0.07604246923706759}), (51, 96, {'weight': 0.05172925331092661}), (51, 97, {'weight': 0.03187504045242521}), (51, 98, {'weight': 0.03828418491196548}), (51, 99, {'weight': 0.041748224197867216}), (52, 52, {'weight': 1.0}), (52, 53, {'weight': 0.3304118532822379}), (52, 54, {'weight': 0.21653935809787536}), (52, 55, {'weight': 0.2501974475907335}), (52, 56, {'weight': 0.2133394909234934}), (52, 57, {'weight': 0.09465460140759595}), (52, 58, {'weight': 0.18222109000355508}), (52, 59, {'weight': 0.07539508582428697}), (52, 60, {'weight': 0.15940969035373959}), (52, 61, {'weight': 0.09562656488436341}), (52, 62, {'weight': 0.12400237890718256}), (52, 63, {'weight': 0.12661309316955582}), (52, 64, {'weight': 0.06950148318706079}), (52, 65, {'weight': 0.18624460201028004}), (52, 66, {'weight': 0.16754693132335644}), (52, 67, {'weight': 0.13826262025841163}), (52, 68, {'weight': 0.07316555825641227}), (52, 69, {'weight': 0.09990000024524212}), (52, 70, {'weight': 0.026698082421768965}), (52, 71, {'weight': 0.09744110950878371}), (52, 72, {'weight': 0.08479603238824837}), (52, 73, {'weight': 0.1862269346536255}), (52, 74, {'weight': 0.07177439099195626}), (52, 75, {'weight': 0.04797400459714328}), (52, 76, {'weight': 0.050750077969267546}), (52, 77, {'weight': 0.07339881011146993}), (52, 78, {'weight': 0.09074940334112398}), (52, 79, {'weight': 0.06890112834341472}), (52, 80, {'weight': 0.0453568739569923}), (52, 81, {'weight': 0.06753303115890341}), (52, 82, {'weight': 0.10329456264800604}), (52, 83, {'weight': 0.06320423991598755}), (52, 84, {'weight': 0.06857670329668333}), (52, 85, {'weight': 0.04515383203376568}), (52, 86, {'weight': 0.046334225247815}), (52, 87, {'weight': 0.0825396797613167}), (52, 88, {'weight': 0.07193853326430852}), (52, 89, {'weight': 0.08642958003911065}), (52, 90, {'weight': 0.02776365528594283}), (52, 91, {'weight': 0.05765131719703684}), (52, 92, {'weight': 0.09269112023012112}), (52, 93, {'weight': 0.039707846225162366}), (52, 94, {'weight': 0.029759279858803323}), (52, 95, {'weight': 0.12564841338331123}), (52, 96, {'weight': 0.08544315860551371}), (52, 97, {'weight': 0.03594777470801523}), (52, 98, {'weight': 0.034963123287375}), (52, 99, {'weight': 0.05151860810226547}), (53, 53, {'weight': 1.0}), (53, 54, {'weight': 0.12058522200586906}), (53, 55, {'weight': 0.17163911298403084}), (53, 56, {'weight': 0.2155537885686511}), (53, 57, {'weight': 0.09974395071111027}), (53, 58, {'weight': 0.15077197899038494}), (53, 59, {'weight': 0.08071903649949369}), (53, 60, {'weight': 0.26745802810839586}), (53, 61, {'weight': 0.10201766466410508}), (53, 62, {'weight': 0.06399719082660094}), (53, 63, {'weight': 0.11950773062615733}), (53, 64, {'weight': 0.09149749422311992}), (53, 65, {'weight': 0.1805846084619918}), (53, 66, {'weight': 0.08641545337786571}), (53, 67, {'weight': 0.11216144363398667}), (53, 68, {'weight': 0.05677522002013745}), (53, 69, {'weight': 0.1324869546100914}), (53, 70, {'weight': 0.030515608278361018}), (53, 71, {'weight': 0.1186246239750762}), (53, 72, {'weight': 0.12820805034431249}), (53, 73, {'weight': 0.14525909864956355}), (53, 74, {'weight': 0.06782746544368909}), (53, 75, {'weight': 0.04215912083335982}), (53, 76, {'weight': 0.07920723008476258}), (53, 77, {'weight': 0.09052625040268004}), (53, 78, {'weight': 0.10053773609054538}), (53, 79, {'weight': 0.06520695050726297}), (53, 80, {'weight': 0.03917168780856868}), (53, 81, {'weight': 0.08350425369290111}), (53, 82, {'weight': 0.14426022041619674}), (53, 83, {'weight': 0.05128694656960879}), (53, 84, {'weight': 0.05601904072319548}), (53, 85, {'weight': 0.0660083653658481}), (53, 86, {'weight': 0.04270489922547922}), (53, 87, {'weight': 0.10066751121263945}), (53, 88, {'weight': 0.06807107336722767}), (53, 89, {'weight': 0.07644367152585635}), (53, 90, {'weight': 0.02604159423397491}), (53, 91, {'weight': 0.05617137555102089}), (53, 92, {'weight': 0.08374978984467925}), (53, 93, {'weight': 0.045937839378862186}), (53, 94, {'weight': 0.034740738660165846}), (53, 95, {'weight': 0.08938058077183442}), (53, 96, {'weight': 0.09685622442654442}), (53, 97, {'weight': 0.03403159444013791}), (53, 98, {'weight': 0.041033384998652715}), (53, 99, {'weight': 0.03713280660096133}), (54, 54, {'weight': 1.0}), (54, 55, {'weight': 0.09104159584876209}), (54, 56, {'weight': 0.14910102277160178}), (54, 57, {'weight': 0.08464432167056102}), (54, 58, {'weight': 0.1782826877979118}), (54, 59, {'weight': 0.08036586358904929}), (54, 60, {'weight': 0.1298063090276108}), (54, 61, {'weight': 0.15542023803091004}), (54, 62, {'weight': 0.06930533590328865}), (54, 63, {'weight': 0.08705146915664672}), (54, 64, {'weight': 0.06078230450758332}), (54, 65, {'weight': 0.18661945768447963}), (54, 66, {'weight': 0.06463218535431722}), (54, 67, {'weight': 0.0754663921457498}), (54, 68, {'weight': 0.06630894601678208}), (54, 69, {'weight': 0.07769049061188442}), (54, 70, {'weight': 0.039852267498551766}), (54, 71, {'weight': 0.07361315250663342}), (54, 72, {'weight': 0.06282661020814656}), (54, 73, {'weight': 0.21275714208129787}), (54, 74, {'weight': 0.11098581461110582}), (54, 75, {'weight': 0.05065056310822717}), (54, 76, {'weight': 0.06840418157955226}), (54, 77, {'weight': 0.0705308762279303}), (54, 78, {'weight': 0.09914528560885996}), (54, 79, {'weight': 0.039870450606336746}), (54, 80, {'weight': 0.04807534057792568}), (54, 81, {'weight': 0.15875742541200472}), (54, 82, {'weight': 0.2617423027187886}), (54, 83, {'weight': 0.05753972533798417}), (54, 84, {'weight': 0.07719254219198968}), (54, 85, {'weight': 0.043451375379718306}), (54, 86, {'weight': 0.047957664636564305}), (54, 87, {'weight': 0.06973031251861218}), (54, 88, {'weight': 0.0604769720001765}), (54, 89, {'weight': 0.13580844045671236}), (54, 90, {'weight': 0.02984345380712067}), (54, 91, {'weight': 0.09695230615818551}), (54, 92, {'weight': 0.17515558390341052}), (54, 93, {'weight': 0.044105998771354946}), (54, 94, {'weight': 0.038200310742898314}), (54, 95, {'weight': 0.08406367490600083}), (54, 96, {'weight': 0.0564053678516596}), (54, 97, {'weight': 0.03324224246110981}), (54, 98, {'weight': 0.03195235910922639}), (54, 99, {'weight': 0.03428802130150814}), (55, 55, {'weight': 1.0}), (55, 56, {'weight': 0.11852891978087882}), (55, 57, {'weight': 0.07302319499704218}), (55, 58, {'weight': 0.17723344184346057}), (55, 59, {'weight': 0.08352500917665048}), (55, 60, {'weight': 0.08518031578428192}), (55, 61, {'weight': 0.10676034984113453}), (55, 62, {'weight': 0.08254410688067654}), (55, 63, {'weight': 0.14420170959986647}), (55, 64, {'weight': 0.04686611482795421}), (55, 65, {'weight': 0.25769006292460683}), (55, 66, {'weight': 0.09399080945089261}), (55, 67, {'weight': 0.07170473589607236}), (55, 68, {'weight': 0.04508631503916052}), (55, 69, {'weight': 0.06884979665876378}), (55, 70, {'weight': 0.02551996608159563}), (55, 71, {'weight': 0.06302805386144344}), (55, 72, {'weight': 0.08423756516390557}), (55, 73, {'weight': 0.0968303465192217}), (55, 74, {'weight': 0.06308423839901486}), (55, 75, {'weight': 0.03920269487353423}), (55, 76, {'weight': 0.04245286418299074}), (55, 77, {'weight': 0.06735144509267932}), (55, 78, {'weight': 0.0661689689741952}), (55, 79, {'weight': 0.029534681072706438}), (55, 80, {'weight': 0.03820796077673416}), (55, 81, {'weight': 0.04944064350500159}), (55, 82, {'weight': 0.07742707119696213}), (55, 83, {'weight': 0.06319063413480211}), (55, 84, {'weight': 0.04461667493236148}), (55, 85, {'weight': 0.04343455209336923}), (55, 86, {'weight': 0.03428726492694643}), (55, 87, {'weight': 0.06141859607424072}), (55, 88, {'weight': 0.05932027739475551}), (55, 89, {'weight': 0.08492764993293017}), (55, 90, {'weight': 0.021645066421253162}), (55, 91, {'weight': 0.038630499289677836}), (55, 92, {'weight': 0.07750188093162337}), (55, 93, {'weight': 0.04435836086672949}), (55, 94, {'weight': 0.024490456498649345}), (55, 95, {'weight': 0.08052629189326482}), (55, 96, {'weight': 0.04558907162482169}), (55, 97, {'weight': 0.026002539974198997}), (55, 98, {'weight': 0.030625179481527286}), (55, 99, {'weight': 0.027707833974480737}), (56, 56, {'weight': 1.0}), (56, 57, {'weight': 0.07636131942052468}), (56, 58, {'weight': 0.20889965131705157}), (56, 59, {'weight': 0.09283354972077862}), (56, 60, {'weight': 0.1112384458002515}), (56, 61, {'weight': 0.11520849236499238}), (56, 62, {'weight': 0.11608145717529803}), (56, 63, {'weight': 0.15933575817988935}), (56, 64, {'weight': 0.05782789927488665}), (56, 65, {'weight': 0.22414345348308373}), (56, 66, {'weight': 0.11551482488968949}), (56, 67, {'weight': 0.16669262517530573}), (56, 68, {'weight': 0.056736610782050736}), (56, 69, {'weight': 0.09920399559134449}), (56, 70, {'weight': 0.03031473754162984}), (56, 71, {'weight': 0.07404383618517694}), (56, 72, {'weight': 0.09707660608769145}), (56, 73, {'weight': 0.240777421516319}), (56, 74, {'weight': 0.10983319664178975}), (56, 75, {'weight': 0.05593893755561039}), (56, 76, {'weight': 0.05225777938021377}), (56, 77, {'weight': 0.10407692700886845}), (56, 78, {'weight': 0.05345060881299535}), (56, 79, {'weight': 0.03471857397812898}), (56, 80, {'weight': 0.07863076034711085}), (56, 81, {'weight': 0.05962559488489575}), (56, 82, {'weight': 0.07858088647640149}), (56, 83, {'weight': 0.058553471198953266}), (56, 84, {'weight': 0.06810801839825771}), (56, 85, {'weight': 0.05160387740182812}), (56, 86, {'weight': 0.045419423181410255}), (56, 87, {'weight': 0.06651529178197178}), (56, 88, {'weight': 0.07383411612836853}), (56, 89, {'weight': 0.07617109258851318}), (56, 90, {'weight': 0.03860376030381213}), (56, 91, {'weight': 0.05083003067894143}), (56, 92, {'weight': 0.08407003100136246}), (56, 93, {'weight': 0.11128251090559611}), (56, 94, {'weight': 0.05607513205831029}), (56, 95, {'weight': 0.08492895573523634}), (56, 96, {'weight': 0.05821644046565284}), (56, 97, {'weight': 0.043221122906877296}), (56, 98, {'weight': 0.03932124958229786}), (56, 99, {'weight': 0.03500693060132165}), (57, 57, {'weight': 1.0}), (57, 58, {'weight': 0.1367009750435309}), (57, 59, {'weight': 0.18434561475255956}), (57, 60, {'weight': 0.07403191083859305}), (57, 61, {'weight': 0.1430294792431208}), (57, 62, {'weight': 0.09090239647362264}), (57, 63, {'weight': 0.09055473350817128}), (57, 64, {'weight': 0.10760281300171184}), (57, 65, {'weight': 0.11339869661607849}), (57, 66, {'weight': 0.07349160278816042}), (57, 67, {'weight': 0.11651695293248616}), (57, 68, {'weight': 0.04555967799832067}), (57, 69, {'weight': 0.14692675934676377}), (57, 70, {'weight': 0.01897276608165294}), (57, 71, {'weight': 0.1275337495790374}), (57, 72, {'weight': 0.042418458552627325}), (57, 73, {'weight': 0.07311906208292948}), (57, 74, {'weight': 0.05948188174698587}), (57, 75, {'weight': 0.09312389093164689}), (57, 76, {'weight': 0.09336204401151407}), (57, 77, {'weight': 0.08167406834864503}), (57, 78, {'weight': 0.04252373231639561}), (57, 79, {'weight': 0.032004419898987474}), (57, 80, {'weight': 0.026590227448447704}), (57, 81, {'weight': 0.07891521849885078}), (57, 82, {'weight': 0.1364192680555511}), (57, 83, {'weight': 0.04818428743390809}), (57, 84, {'weight': 0.04454971078650393}), (57, 85, {'weight': 0.02956578684317785}), (57, 86, {'weight': 0.09192068917928867}), (57, 87, {'weight': 0.07676137035733666}), (57, 88, {'weight': 0.0490521700728907}), (57, 89, {'weight': 0.0600661716221488}), (57, 90, {'weight': 0.02320071745744116}), (57, 91, {'weight': 0.06395908090827351}), (57, 92, {'weight': 0.057339211663899076}), (57, 93, {'weight': 0.03673736628218621}), (57, 94, {'weight': 0.021738485804786482}), (57, 95, {'weight': 0.03875701313085028}), (57, 96, {'weight': 0.036424387540179924}), (57, 97, {'weight': 0.03229819683051073}), (57, 98, {'weight': 0.033143289463471434}), (57, 99, {'weight': 0.031462117110280866}), (58, 58, {'weight': 1.0}), (58, 59, {'weight': 0.17710013534479502}), (58, 60, {'weight': 0.14004748768175485}), (58, 61, {'weight': 0.12425692209202398}), (58, 62, {'weight': 0.07960130151849754}), (58, 63, {'weight': 0.07743120346726495}), (58, 64, {'weight': 0.06999693458351369}), (58, 65, {'weight': 0.21427749856373762}), (58, 66, {'weight': 0.13088471328574708}), (58, 67, {'weight': 0.17262212613111735}), (58, 68, {'weight': 0.07779649975762096}), (58, 69, {'weight': 0.06371679594103466}), (58, 70, {'weight': 0.04311415707366595}), (58, 71, {'weight': 0.06547442469529668}), (58, 72, {'weight': 0.044235590395881624}), (58, 73, {'weight': 0.318377101186504}), (58, 74, {'weight': 0.07179670473098336}), (58, 75, {'weight': 0.05829219022285415}), (58, 76, {'weight': 0.05576453940079719}), (58, 77, {'weight': 0.10821408825707568}), (58, 78, {'weight': 0.09192964056311145}), (58, 79, {'weight': 0.06646876973792959}), (58, 80, {'weight': 0.06358014988974404}), (58, 81, {'weight': 0.06142402461035594}), (58, 82, {'weight': 0.12778345272652925}), (58, 83, {'weight': 0.06268334774355644}), (58, 84, {'weight': 0.0808955833349401}), (58, 85, {'weight': 0.03444161987058743}), (58, 86, {'weight': 0.044632814088923}), (58, 87, {'weight': 0.0659644169958433}), (58, 88, {'weight': 0.06988368111792624}), (58, 89, {'weight': 0.16809052972054184}), (58, 90, {'weight': 0.047370245081182455}), (58, 91, {'weight': 0.04766999020758084}), (58, 92, {'weight': 0.2205931694923265}), (58, 93, {'weight': 0.06422403858824585}), (58, 94, {'weight': 0.036250326610507824}), (58, 95, {'weight': 0.13317790806238347}), (58, 96, {'weight': 0.05903634697652607}), (58, 97, {'weight': 0.033335796798425514}), (58, 98, {'weight': 0.058306787157704876}), (58, 99, {'weight': 0.04263158920778013}), (59, 59, {'weight': 1.0}), (59, 60, {'weight': 0.06474601812616107}), (59, 61, {'weight': 0.10323415933271488}), (59, 62, {'weight': 0.11183215040977393}), (59, 63, {'weight': 0.09059956046096487}), (59, 64, {'weight': 0.08999993941575522}), (59, 65, {'weight': 0.11248495595103636}), (59, 66, {'weight': 0.1924347844578524}), (59, 67, {'weight': 0.11294963500081864}), (59, 68, {'weight': 0.0712021118546136}), (59, 69, {'weight': 0.05433848031456605}), (59, 70, {'weight': 0.02750928044020956}), (59, 71, {'weight': 0.0903851731437523}), (59, 72, {'weight': 0.04749142146244683}), (59, 73, {'weight': 0.10827349331299094}), (59, 74, {'weight': 0.05093389854753889}), (59, 75, {'weight': 0.07465544240512925}), (59, 76, {'weight': 0.04926739987860622}), (59, 77, {'weight': 0.04465634468027724}), (59, 78, {'weight': 0.04794183114851676}), (59, 79, {'weight': 0.03861999947487952}), (59, 80, {'weight': 0.03261795568844232}), (59, 81, {'weight': 0.07111138693468769}), (59, 82, {'weight': 0.16570836778974887}), (59, 83, {'weight': 0.08873746787127476}), (59, 84, {'weight': 0.09621656023021465}), (59, 85, {'weight': 0.03328572721123936}), (59, 86, {'weight': 0.10155546900877646}), (59, 87, {'weight': 0.06624459030126795}), (59, 88, {'weight': 0.06216233685194351}), (59, 89, {'weight': 0.05314931608294746}), (59, 90, {'weight': 0.030313174233920805}), (59, 91, {'weight': 0.05209233571972419}), (59, 92, {'weight': 0.08656007918378147}), (59, 93, {'weight': 0.044524674714651144}), (59, 94, {'weight': 0.02092715651203201}), (59, 95, {'weight': 0.036913939857239605}), (59, 96, {'weight': 0.04378961374316169}), (59, 97, {'weight': 0.029390228595226827}), (59, 98, {'weight': 0.04616443571093386}), (59, 99, {'weight': 0.04433127015296317}), (60, 60, {'weight': 1.0}), (60, 61, {'weight': 0.05964749516347932}), (60, 62, {'weight': 0.064662971135017}), (60, 63, {'weight': 0.1556580431477127}), (60, 64, {'weight': 0.04958360051354545}), (60, 65, {'weight': 0.1272217615270182}), (60, 66, {'weight': 0.06388888992790334}), (60, 67, {'weight': 0.0822572475105878}), (60, 68, {'weight': 0.045636442773792696}), (60, 69, {'weight': 0.06373613729591324}), (60, 70, {'weight': 0.020559143538139108}), (60, 71, {'weight': 0.06308373766004252}), (60, 72, {'weight': 0.07306458740063204}), (60, 73, {'weight': 0.16603507237568899}), (60, 74, {'weight': 0.05719326383517777}), (60, 75, {'weight': 0.04607440755152238}), (60, 76, {'weight': 0.056783389937364315}), (60, 77, {'weight': 0.051551822722799456}), (60, 78, {'weight': 0.08826115799495815}), (60, 79, {'weight': 0.057512243134704516}), (60, 80, {'weight': 0.02671920753059473}), (60, 81, {'weight': 0.05305602642926144}), (60, 82, {'weight': 0.10572344029087544}), (60, 83, {'weight': 0.045316753430146156}), (60, 84, {'weight': 0.08535538137771528}), (60, 85, {'weight': 0.04349369099761771}), (60, 86, {'weight': 0.03123258758673997}), (60, 87, {'weight': 0.08894062633545949}), (60, 88, {'weight': 0.06537213484663922}), (60, 89, {'weight': 0.05451648388820039}), (60, 90, {'weight': 0.025236148583262875}), (60, 91, {'weight': 0.04091257482004531}), (60, 92, {'weight': 0.05576101144667897}), (60, 93, {'weight': 0.03274027813166126}), (60, 94, {'weight': 0.02938675584089321}), (60, 95, {'weight': 0.03907148703832346}), (60, 96, {'weight': 0.04055786025261794}), (60, 97, {'weight': 0.033766523304986355}), (60, 98, {'weight': 0.026630967080975565}), (60, 99, {'weight': 0.025775244246679936}), (61, 61, {'weight': 1.0}), (61, 62, {'weight': 0.05839263343194392}), (61, 63, {'weight': 0.07636806965641951}), (61, 64, {'weight': 0.05977023242868776}), (61, 65, {'weight': 0.12009487572042395}), (61, 66, {'weight': 0.07115575949032675}), (61, 67, {'weight': 0.0955752583406961}), (61, 68, {'weight': 0.054733575442726314}), (61, 69, {'weight': 0.11057481992720818}), (61, 70, {'weight': 0.021074384295180992}), (61, 71, {'weight': 0.13628986651267794}), (61, 72, {'weight': 0.049802454674760646}), (61, 73, {'weight': 0.11135806730055486}), (61, 74, {'weight': 0.12147027512314051}), (61, 75, {'weight': 0.0381383028876307}), (61, 76, {'weight': 0.11085193974716256}), (61, 77, {'weight': 0.07865696809518055}), (61, 78, {'weight': 0.0529395086963307}), (61, 79, {'weight': 0.03230290739010616}), (61, 80, {'weight': 0.031800717097985334}), (61, 81, {'weight': 0.08322139885829147}), (61, 82, {'weight': 0.12475589429650621}), (61, 83, {'weight': 0.06580887680905204}), (61, 84, {'weight': 0.052059222378971454}), (61, 85, {'weight': 0.03920784185863294}), (61, 86, {'weight': 0.04025384008842601}), (61, 87, {'weight': 0.09305520915630369}), (61, 88, {'weight': 0.09990020274960049}), (61, 89, {'weight': 0.11804223834106899}), (61, 90, {'weight': 0.025821249630731402}), (61, 91, {'weight': 0.1019965784611131}), (61, 92, {'weight': 0.1082577750903086}), (61, 93, {'weight': 0.037606461505132145}), (61, 94, {'weight': 0.022411167073898966}), (61, 95, {'weight': 0.05712486238393562}), (61, 96, {'weight': 0.0360179797825903}), (61, 97, {'weight': 0.0345795561923706}), (61, 98, {'weight': 0.032556385638796884}), (61, 99, {'weight': 0.03128985590605725}), (62, 62, {'weight': 1.0}), (62, 63, {'weight': 0.12849346367057285}), (62, 64, {'weight': 0.1539726568059145}), (62, 65, {'weight': 0.08694902151893569}), (62, 66, {'weight': 0.2620883262151642}), (62, 67, {'weight': 0.10722744921635069}), (62, 68, {'weight': 0.1211513817039617}), (62, 69, {'weight': 0.042765809732114204}), (62, 70, {'weight': 0.02917215996215876}), (62, 71, {'weight': 0.048380258790608616}), (62, 72, {'weight': 0.05396496122542119}), (62, 73, {'weight': 0.07838878781491826}), (62, 74, {'weight': 0.07579159652121473}), (62, 75, {'weight': 0.18097572488520086}), (62, 76, {'weight': 0.04469324890662703}), (62, 77, {'weight': 0.05293806203351424}), (62, 78, {'weight': 0.23645292380707728}), (62, 79, {'weight': 0.031955971907244723}), (62, 80, {'weight': 0.04358860536947809}), (62, 81, {'weight': 0.05246665571746139}), (62, 82, {'weight': 0.06059873541581774}), (62, 83, {'weight': 0.04722676164040672}), (62, 84, {'weight': 0.04889333121626306}), (62, 85, {'weight': 0.042014628820575065}), (62, 86, {'weight': 0.09720585831896109}), (62, 87, {'weight': 0.044125564216631843}), (62, 88, {'weight': 0.05632820458314396}), (62, 89, {'weight': 0.0739357800371779}), (62, 90, {'weight': 0.024121940188622244}), (62, 91, {'weight': 0.034382793892573885}), (62, 92, {'weight': 0.051264376612827636}), (62, 93, {'weight': 0.04432656606142211}), (62, 94, {'weight': 0.02352639543497643}), (62, 95, {'weight': 0.05395815544770813}), (62, 96, {'weight': 0.03807182877071137}), (62, 97, {'weight': 0.04593902064111354}), (62, 98, {'weight': 0.04943508744853686}), (62, 99, {'weight': 0.0513557121223184}), (63, 63, {'weight': 1.0}), (63, 64, {'weight': 0.0482380535958857}), (63, 65, {'weight': 0.0824061276465911}), (63, 66, {'weight': 0.22574326279556112}), (63, 67, {'weight': 0.07875795536817234}), (63, 68, {'weight': 0.053281446122073806}), (63, 69, {'weight': 0.06198548326131463}), (63, 70, {'weight': 0.03130807513188229}), (63, 71, {'weight': 0.0588155920484528}), (63, 72, {'weight': 0.16725900384792575}), (63, 73, {'weight': 0.10664257138105995}), (63, 74, {'weight': 0.054816653500293785}), (63, 75, {'weight': 0.05070481560240085}), (63, 76, {'weight': 0.06199503926251987}), (63, 77, {'weight': 0.07374546791952949}), (63, 78, {'weight': 0.06502888553112342}), (63, 79, {'weight': 0.035891643685912814}), (63, 80, {'weight': 0.06255806122878742}), (63, 81, {'weight': 0.06779760423067877}), (63, 82, {'weight': 0.1196544659624032}), (63, 83, {'weight': 0.12577174610739028}), (63, 84, {'weight': 0.11269303213577894}), (63, 85, {'weight': 0.06615652421668478}), (63, 86, {'weight': 0.07476043533791848}), (63, 87, {'weight': 0.06486202436778829}), (63, 88, {'weight': 0.10682530438377566}), (63, 89, {'weight': 0.06900906518532342}), (63, 90, {'weight': 0.03573854251202375}), (63, 91, {'weight': 0.114926793879246}), (63, 92, {'weight': 0.07484577973618167}), (63, 93, {'weight': 0.15022905758526944}), (63, 94, {'weight': 0.04036023444980706}), (63, 95, {'weight': 0.032573726897135065}), (63, 96, {'weight': 0.04981389338772885}), (63, 97, {'weight': 0.03792378565539099}), (63, 98, {'weight': 0.0396499537290332}), (63, 99, {'weight': 0.04402330025254437}), (64, 64, {'weight': 1.0}), (64, 65, {'weight': 0.057690994883661875}), (64, 66, {'weight': 0.1343004441176809}), (64, 67, {'weight': 0.06624399730137659}), (64, 68, {'weight': 0.18576992885103386}), (64, 69, {'weight': 0.04793240813707629}), (64, 70, {'weight': 0.01831463682254971}), (64, 71, {'weight': 0.0658268067125475}), (64, 72, {'weight': 0.031286689706267634}), (64, 73, {'weight': 0.05269290812803945}), (64, 74, {'weight': 0.039343317876314794}), (64, 75, {'weight': 0.2295425462459489}), (64, 76, {'weight': 0.027017588756568404}), (64, 77, {'weight': 0.05451021313511261}), (64, 78, {'weight': 0.2266803344953493}), (64, 79, {'weight': 0.02574019176828422}), (64, 80, {'weight': 0.022660071688815998}), (64, 81, {'weight': 0.04272188572902792}), (64, 82, {'weight': 0.08334669515965534}), (64, 83, {'weight': 0.04018958069768902}), (64, 84, {'weight': 0.03857732402571298}), (64, 85, {'weight': 0.024682510205672886}), (64, 86, {'weight': 0.0640705338700838}), (64, 87, {'weight': 0.041623770501541306}), (64, 88, {'weight': 0.045634133570605764}), (64, 89, {'weight': 0.04201253780992016}), (64, 90, {'weight': 0.021614805804936632}), (64, 91, {'weight': 0.030967402993290597}), (64, 92, {'weight': 0.05960533867419221}), (64, 93, {'weight': 0.027500772445009383}), (64, 94, {'weight': 0.024297144231584467}), (64, 95, {'weight': 0.04574057761303363}), (64, 96, {'weight': 0.027444270495668027}), (64, 97, {'weight': 0.04143238141849044}), (64, 98, {'weight': 0.03928537933520185}), (64, 99, {'weight': 0.03681245462314732}), (65, 65, {'weight': 1.0}), (65, 66, {'weight': 0.06962401097480406}), (65, 67, {'weight': 0.09141731011971263}), (65, 68, {'weight': 0.05045108959306542}), (65, 69, {'weight': 0.07956413226976843}), (65, 70, {'weight': 0.026237862650531324}), (65, 71, {'weight': 0.08415452343452975}), (65, 72, {'weight': 0.04896635198449224}), (65, 73, {'weight': 0.11920295558007064}), (65, 74, {'weight': 0.05834602673215988}), (65, 75, {'weight': 0.03714434344855006}), (65, 76, {'weight': 0.04282750004142795}), (65, 77, {'weight': 0.058722441386001356}), (65, 78, {'weight': 0.048856801650578055}), (65, 79, {'weight': 0.03787958519411268}), (65, 80, {'weight': 0.04174517856724168}), (65, 81, {'weight': 0.06233539118416197}), (65, 82, {'weight': 0.08536584093240888}), (65, 83, {'weight': 0.04799206411999239}), (65, 84, {'weight': 0.05723859232518619}), (65, 85, {'weight': 0.03289927881306963}), (65, 86, {'weight': 0.040396563465505866}), (65, 87, {'weight': 0.05251966965370353}), (65, 88, {'weight': 0.07568328489672933}), (65, 89, {'weight': 0.09694784088598657}), (65, 90, {'weight': 0.027537312924266297}), (65, 91, {'weight': 0.046413544633116616}), (65, 92, {'weight': 0.06306264215077205}), (65, 93, {'weight': 0.04290237035704606}), (65, 94, {'weight': 0.028094444986078687}), (65, 95, {'weight': 0.0799075669789896}), (65, 96, {'weight': 0.04956031434287152}), (65, 97, {'weight': 0.023270441621020634}), (65, 98, {'weight': 0.029413934100954775}), (65, 99, {'weight': 0.0354679101494994}), (66, 66, {'weight': 1.0}), (66, 67, {'weight': 0.12263139489605307}), (66, 68, {'weight': 0.12390579548942214}), (66, 69, {'weight': 0.05006474818114402}), (66, 70, {'weight': 0.021506662956116803}), (66, 71, {'weight': 0.05195799766396367}), (66, 72, {'weight': 0.09122590157441338}), (66, 73, {'weight': 0.07516963860877071}), (66, 74, {'weight': 0.04336548039883503}), (66, 75, {'weight': 0.04246011502119949}), (66, 76, {'weight': 0.043088607019991884}), (66, 77, {'weight': 0.06221250919102008}), (66, 78, {'weight': 0.08580881056331646}), (66, 79, {'weight': 0.058440503944581446}), (66, 80, {'weight': 0.058530174421982245}), (66, 81, {'weight': 0.05372270733576569}), (66, 82, {'weight': 0.06725005820934676}), (66, 83, {'weight': 0.05412833195527861}), (66, 84, {'weight': 0.05575809027701922}), (66, 85, {'weight': 0.06638907014686035}), (66, 86, {'weight': 0.1267621277818226}), (66, 87, {'weight': 0.04769613318869491}), (66, 88, {'weight': 0.0694427795415901}), (66, 89, {'weight': 0.052102195506859815}), (66, 90, {'weight': 0.027271960840875707}), (66, 91, {'weight': 0.04314469944814543}), (66, 92, {'weight': 0.054039555864317065}), (66, 93, {'weight': 0.04252613722187027}), (66, 94, {'weight': 0.032697422329418864}), (66, 95, {'weight': 0.04101440433977327}), (66, 96, {'weight': 0.07279406859887924}), (66, 97, {'weight': 0.03332485175956342}), (66, 98, {'weight': 0.0455860732679845}), (66, 99, {'weight': 0.06997959432971321}), (67, 67, {'weight': 1.0}), (67, 68, {'weight': 0.09873602541696863}), (67, 69, {'weight': 0.04776739036164989}), (67, 70, {'weight': 0.01929421049824198}), (67, 71, {'weight': 0.059357699765679006}), (67, 72, {'weight': 0.042634318929568024}), (67, 73, {'weight': 0.16899663265331022}), (67, 74, {'weight': 0.08809267512096472}), (67, 75, {'weight': 0.06150253752873514}), (67, 76, {'weight': 0.048508518952920646}), (67, 77, {'weight': 0.15081852336715906}), (67, 78, {'weight': 0.07548024505383831}), (67, 79, {'weight': 0.041710559383541276}), (67, 80, {'weight': 0.031002339253190535}), (67, 81, {'weight': 0.07229400803838798}), (67, 82, {'weight': 0.1471042589953484}), (67, 83, {'weight': 0.06633885327984768}), (67, 84, {'weight': 0.07304118240942539}), (67, 85, {'weight': 0.10947783263818295}), (67, 86, {'weight': 0.06025459397514328}), (67, 87, {'weight': 0.0890639633520722}), (67, 88, {'weight': 0.1123300485902626}), (67, 89, {'weight': 0.08160032361520592}), (67, 90, {'weight': 0.022439436748051225}), (67, 91, {'weight': 0.06606988655502802}), (67, 92, {'weight': 0.19050992195695526}), (67, 93, {'weight': 0.04155348077603525}), (67, 94, {'weight': 0.059683743736182175}), (67, 95, {'weight': 0.03572557973087252}), (67, 96, {'weight': 0.03529774152163215}), (67, 97, {'weight': 0.028530295210807983}), (67, 98, {'weight': 0.0580475141673685}), (67, 99, {'weight': 0.08253490024706908}), (68, 68, {'weight': 1.0}), (68, 69, {'weight': 0.033956804970877205}), (68, 70, {'weight': 0.02028674499413873}), (68, 71, {'weight': 0.054920777577202984}), (68, 72, {'weight': 0.021459680300120222}), (68, 73, {'weight': 0.0686666173094774}), (68, 74, {'weight': 0.03385929696973329}), (68, 75, {'weight': 0.19665262352972815}), (68, 76, {'weight': 0.033089879224343546}), (68, 77, {'weight': 0.08510223849704274}), (68, 78, {'weight': 0.05530134151008542}), (68, 79, {'weight': 0.023446396958821638}), (68, 80, {'weight': 0.029050933904743153}), (68, 81, {'weight': 0.04489334866831953}), (68, 82, {'weight': 0.07213331563340972}), (68, 83, {'weight': 0.06302084619575014}), (68, 84, {'weight': 0.04197819116376067}), (68, 85, {'weight': 0.025086707949521996}), (68, 86, {'weight': 0.034803220578681474}), (68, 87, {'weight': 0.045361950880021144}), (68, 88, {'weight': 0.07369425857978208}), (68, 89, {'weight': 0.057360222929334966}), (68, 90, {'weight': 0.018460028663988888}), (68, 91, {'weight': 0.05049627904417893}), (68, 92, {'weight': 0.10414768815520817}), (68, 93, {'weight': 0.03203239126232084}), (68, 94, {'weight': 0.018499489206053883}), (68, 95, {'weight': 0.03129880559240426}), (68, 96, {'weight': 0.03631685444097643}), (68, 97, {'weight': 0.027952505334440617}), (68, 98, {'weight': 0.031645408204868566}), (68, 99, {'weight': 0.02746355460971004}), (69, 69, {'weight': 1.0}), (69, 70, {'weight': 0.021976658261390065}), (69, 71, {'weight': 0.11939847089988263}), (69, 72, {'weight': 0.04676798435850901}), (69, 73, {'weight': 0.06616457381321637}), (69, 74, {'weight': 0.1089636292902268}), (69, 75, {'weight': 0.034217729715899994}), (69, 76, {'weight': 0.07273012942299918}), (69, 77, {'weight': 0.04525647563810087}), (69, 78, {'weight': 0.046648074126026506}), (69, 79, {'weight': 0.029361600463570704}), (69, 80, {'weight': 0.033056207122524786}), (69, 81, {'weight': 0.06170296660833739}), (69, 82, {'weight': 0.09820069219052868}), (69, 83, {'weight': 0.04350245827336582}), (69, 84, {'weight': 0.050659815384490575}), (69, 85, {'weight': 0.02940828811021404}), (69, 86, {'weight': 0.025663376393170383}), (69, 87, {'weight': 0.10829836680675221}), (69, 88, {'weight': 0.061941350824609345}), (69, 89, {'weight': 0.07629101089317744}), (69, 90, {'weight': 0.03168875929488585}), (69, 91, {'weight': 0.03983932199852564}), (69, 92, {'weight': 0.0963160184988686}), (69, 93, {'weight': 0.060449869371365934}), (69, 94, {'weight': 0.041851931200511075}), (69, 95, {'weight': 0.033272050964494676}), (69, 96, {'weight': 0.035779446575421744}), (69, 97, {'weight': 0.028543935393141824}), (69, 98, {'weight': 0.02350757097970018}), (69, 99, {'weight': 0.02080367698905189}), (70, 70, {'weight': 1.0}), (70, 71, {'weight': 0.019764810850220475}), (70, 72, {'weight': 0.014066131967412899}), (70, 73, {'weight': 0.04023885603643284}), (70, 74, {'weight': 0.025748708358309915}), (70, 75, {'weight': 0.020431359343010467}), (70, 76, {'weight': 0.01929357465119337}), (70, 77, {'weight': 0.03080079614679585}), (70, 78, {'weight': 0.017528311397543916}), (70, 79, {'weight': 0.020301331291450002}), (70, 80, {'weight': 0.026196150106112672}), (70, 81, {'weight': 0.023624534396104124}), (70, 82, {'weight': 0.03075809140252187}), (70, 83, {'weight': 0.027233585555789717}), (70, 84, {'weight': 0.01843564796282137}), (70, 85, {'weight': 0.021650603034464033}), (70, 86, {'weight': 0.015098070209688778}), (70, 87, {'weight': 0.026853062290608836}), (70, 88, {'weight': 0.027992132851583473}), (70, 89, {'weight': 0.03904397059208203}), (70, 90, {'weight': 0.01841734849564854}), (70, 91, {'weight': 0.01974400592951519}), (70, 92, {'weight': 0.03492924829254571}), (70, 93, {'weight': 0.04191449384279264}), (70, 94, {'weight': 0.016778901165903547}), (70, 95, {'weight': 0.019503495383760984}), (70, 96, {'weight': 0.0193415792859429}), (70, 97, {'weight': 0.018931612025226974}), (70, 98, {'weight': 0.016471237747329788}), (70, 99, {'weight': 0.01822107775071963}), (71, 71, {'weight': 1.0}), (71, 72, {'weight': 0.06533147199830779}), (71, 73, {'weight': 0.0763709037692833}), (71, 74, {'weight': 0.12014765010008378}), (71, 75, {'weight': 0.06258327077241094}), (71, 76, {'weight': 0.0615367749750879}), (71, 77, {'weight': 0.050272068016617426}), (71, 78, {'weight': 0.043332755630580935}), (71, 79, {'weight': 0.032186738710987414}), (71, 80, {'weight': 0.03187485538382166}), (71, 81, {'weight': 0.09149818204652052}), (71, 82, {'weight': 0.14206305777025818}), (71, 83, {'weight': 0.03983658162525461}), (71, 84, {'weight': 0.038491382608409286}), (71, 85, {'weight': 0.03288289821132555}), (71, 86, {'weight': 0.038557852030126946}), (71, 87, {'weight': 0.09655105838169983}), (71, 88, {'weight': 0.05623442334339586}), (71, 89, {'weight': 0.09716951474449223}), (71, 90, {'weight': 0.025941794588509395}), (71, 91, {'weight': 0.05945466352307266}), (71, 92, {'weight': 0.10164875813634106}), (71, 93, {'weight': 0.029938001077433697}), (71, 94, {'weight': 0.02481426754415919}), (71, 95, {'weight': 0.034194118958869174}), (71, 96, {'weight': 0.035164037867019174}), (71, 97, {'weight': 0.0487388530114691}), (71, 98, {'weight': 0.027438162903491676}), (71, 99, {'weight': 0.030643532472375182}), (72, 72, {'weight': 1.0}), (72, 73, {'weight': 0.051684435139926925}), (72, 74, {'weight': 0.051587421899629726}), (72, 75, {'weight': 0.024524165774863535}), (72, 76, {'weight': 0.028312204783707613}), (72, 77, {'weight': 0.030461264616039936}), (72, 78, {'weight': 0.03625093485006471}), (72, 79, {'weight': 0.03686256911542851}), (72, 80, {'weight': 0.02587268437679784}), (72, 81, {'weight': 0.03528530936997282}), (72, 82, {'weight': 0.08975232349890619}), (72, 83, {'weight': 0.04041611169583758}), (72, 84, {'weight': 0.02981242002666782}), (72, 85, {'weight': 0.03160896620115318}), (72, 86, {'weight': 0.030622643331139635}), (72, 87, {'weight': 0.04452310262638765}), (72, 88, {'weight': 0.08163194336190985}), (72, 89, {'weight': 0.043205087371509375}), (72, 90, {'weight': 0.02103496777359392}), (72, 91, {'weight': 0.0382954466759787}), (72, 92, {'weight': 0.04624583092187401}), (72, 93, {'weight': 0.08708587258940952}), (72, 94, {'weight': 0.021382292145535234}), (72, 95, {'weight': 0.040298615172471505}), (72, 96, {'weight': 0.03072709344070343}), (72, 97, {'weight': 0.027349228126711398}), (72, 98, {'weight': 0.027511560493031835}), (72, 99, {'weight': 0.02645578064406186}), (73, 73, {'weight': 1.0}), (73, 74, {'weight': 0.11377457470705832}), (73, 75, {'weight': 0.051830121509268495}), (73, 76, {'weight': 0.05346670745475852}), (73, 77, {'weight': 0.14256216579405462}), (73, 78, {'weight': 0.05486536508985827}), (73, 79, {'weight': 0.05926048483034595}), (73, 80, {'weight': 0.051786836468495544}), (73, 81, {'weight': 0.08862042168724721}), (73, 82, {'weight': 0.198173398937957}), (73, 83, {'weight': 0.06010773084184129}), (73, 84, {'weight': 0.061586659246764194}), (73, 85, {'weight': 0.03439384905003481}), (73, 86, {'weight': 0.04882198763571986}), (73, 87, {'weight': 0.08311743989792252}), (73, 88, {'weight': 0.09920811977948135}), (73, 89, {'weight': 0.14246544934755123}), (73, 90, {'weight': 0.0303250510396915}), (73, 91, {'weight': 0.06746647634094413}), (73, 92, {'weight': 0.20209340533206527}), (73, 93, {'weight': 0.06721943463495963}), (73, 94, {'weight': 0.04531152093534491}), (73, 95, {'weight': 0.12015886852928273}), (73, 96, {'weight': 0.05978949174526264}), (73, 97, {'weight': 0.04114088384115081}), (73, 98, {'weight': 0.045547550330406625}), (73, 99, {'weight': 0.039081191163705314}), (74, 74, {'weight': 1.0}), (74, 75, {'weight': 0.03674667234389223}), (74, 76, {'weight': 0.03980018792023321}), (74, 77, {'weight': 0.10620913143219217}), (74, 78, {'weight': 0.03293756565070332}), (74, 79, {'weight': 0.026932286742713467}), (74, 80, {'weight': 0.032132180415562685}), (74, 81, {'weight': 0.12347600060995352}), (74, 82, {'weight': 0.1690694465070569}), (74, 83, {'weight': 0.0679378665779101}), (74, 84, {'weight': 0.11558661263657949}), (74, 85, {'weight': 0.04819217426769082}), (74, 86, {'weight': 0.03618616830726121}), (74, 87, {'weight': 0.1778185934933496}), (74, 88, {'weight': 0.08823786944206628}), (74, 89, {'weight': 0.13791767799515608}), (74, 90, {'weight': 0.020129613394840012}), (74, 91, {'weight': 0.10104155372616228}), (74, 92, {'weight': 0.10961612989055777}), (74, 93, {'weight': 0.02696181939881352}), (74, 94, {'weight': 0.03631135712572571}), (74, 95, {'weight': 0.027117721767174148}), (74, 96, {'weight': 0.027750279496846674}), (74, 97, {'weight': 0.02596189089223807}), (74, 98, {'weight': 0.023797874184940185}), (74, 99, {'weight': 0.024358678781563753}), (75, 75, {'weight': 1.0}), (75, 76, {'weight': 0.029351085682138553}), (75, 77, {'weight': 0.05241888359854999}), (75, 78, {'weight': 0.04301850738328405}), (75, 79, {'weight': 0.022739609581016985}), (75, 80, {'weight': 0.021148397561502087}), (75, 81, {'weight': 0.03139977630563472}), (75, 82, {'weight': 0.05514012394392433}), (75, 83, {'weight': 0.03555426210107208}), (75, 84, {'weight': 0.03254049563553349}), (75, 85, {'weight': 0.02635883249178564}), (75, 86, {'weight': 0.053435516884197384}), (75, 87, {'weight': 0.03793823586230914}), (75, 88, {'weight': 0.029953301247651384}), (75, 89, {'weight': 0.037154953943960706}), (75, 90, {'weight': 0.01792711236716641}), (75, 91, {'weight': 0.032123220707883246}), (75, 92, {'weight': 0.04229788158488823}), (75, 93, {'weight': 0.02326838651200268}), (75, 94, {'weight': 0.020712357804532545}), (75, 95, {'weight': 0.026362297521992376}), (75, 96, {'weight': 0.05399654540096166}), (75, 97, {'weight': 0.019326580252609582}), (75, 98, {'weight': 0.03086893168535005}), (75, 99, {'weight': 0.021739565932576192}), (76, 76, {'weight': 1.0}), (76, 77, {'weight': 0.05973659117018229}), (76, 78, {'weight': 0.026196963550475922}), (76, 79, {'weight': 0.018722451688888676}), (76, 80, {'weight': 0.028275001124263902}), (76, 81, {'weight': 0.10573307603717363}), (76, 82, {'weight': 0.05423495944692036}), (76, 83, {'weight': 0.14184053746014402}), (76, 84, {'weight': 0.07417853710377635}), (76, 85, {'weight': 0.04594784008904552}), (76, 86, {'weight': 0.03056191609728296}), (76, 87, {'weight': 0.04980502490391817}), (76, 88, {'weight': 0.11141705468794486}), (76, 89, {'weight': 0.06502852382067392}), (76, 90, {'weight': 0.020950044699893602}), (76, 91, {'weight': 0.15392646249002662}), (76, 92, {'weight': 0.06859207214511276}), (76, 93, {'weight': 0.03220570446518732}), (76, 94, {'weight': 0.033462702391106824}), (76, 95, {'weight': 0.026787948585643716}), (76, 96, {'weight': 0.030530524074151102}), (76, 97, {'weight': 0.020854563202918508}), (76, 98, {'weight': 0.02237317933104084}), (76, 99, {'weight': 0.025023785121363024}), (77, 77, {'weight': 1.0}), (77, 78, {'weight': 0.04074718050754432}), (77, 79, {'weight': 0.09981396148404867}), (77, 80, {'weight': 0.03306675774907742}), (77, 81, {'weight': 0.09565603797810815}), (77, 82, {'weight': 0.07975506697420251}), (77, 83, {'weight': 0.11232411318343469}), (77, 84, {'weight': 0.10245305721242222}), (77, 85, {'weight': 0.044944201639487494}), (77, 86, {'weight': 0.03397818594981364}), (77, 87, {'weight': 0.07323245562154895}), (77, 88, {'weight': 0.17355394418355427}), (77, 89, {'weight': 0.08168039787552722}), (77, 90, {'weight': 0.024660590701952784}), (77, 91, {'weight': 0.08832477501004132}), (77, 92, {'weight': 0.11876757995268605}), (77, 93, {'weight': 0.036414067997650484}), (77, 94, {'weight': 0.03693937210004439}), (77, 95, {'weight': 0.03795000151895449}), (77, 96, {'weight': 0.03337697933462203}), (77, 97, {'weight': 0.08744326150692806}), (77, 98, {'weight': 0.03384565132640034}), (77, 99, {'weight': 0.028207829193559318}), (78, 78, {'weight': 1.0}), (78, 79, {'weight': 0.03262471031882899}), (78, 80, {'weight': 0.030597486634525845}), (78, 81, {'weight': 0.04360311330070943}), (78, 82, {'weight': 0.04390465099493568}), (78, 83, {'weight': 0.03729454861981947}), (78, 84, {'weight': 0.0413689973326278}), (78, 85, {'weight': 0.027615461351301933}), (78, 86, {'weight': 0.060107589885344884}), (78, 87, {'weight': 0.05516451693273293}), (78, 88, {'weight': 0.03743718088542711}), (78, 89, {'weight': 0.033889690334684225}), (78, 90, {'weight': 0.025170010270923825}), (78, 91, {'weight': 0.025052486941099135}), (78, 92, {'weight': 0.04193120714820704}), (78, 93, {'weight': 0.04099512290185976}), (78, 94, {'weight': 0.015107758488337267}), (78, 95, {'weight': 0.04232102038145352}), (78, 96, {'weight': 0.02157692506989128}), (78, 97, {'weight': 0.023289536990107315}), (78, 98, {'weight': 0.0358382669818421}), (78, 99, {'weight': 0.037337288876779166}), (79, 79, {'weight': 1.0}), (79, 80, {'weight': 0.02369669464702733}), (79, 81, {'weight': 0.0338094276817537}), (79, 82, {'weight': 0.0383555210957906}), (79, 83, {'weight': 0.05204663743581729}), (79, 84, {'weight': 0.028964901595966392}), (79, 85, {'weight': 0.028142049066520004}), (79, 86, {'weight': 0.03815084016432983}), (79, 87, {'weight': 0.02568100178628562}), (79, 88, {'weight': 0.03295405393922245}), (79, 89, {'weight': 0.03463952911081085}), (79, 90, {'weight': 0.03598054252922066}), (79, 91, {'weight': 0.03027249759988912}), (79, 92, {'weight': 0.03849790958357826}), (79, 93, {'weight': 0.08925667141646795}), (79, 94, {'weight': 0.037906877800794506}), (79, 95, {'weight': 0.02307277694299379}), (79, 96, {'weight': 0.020960066070572964}), (79, 97, {'weight': 0.033603773651178726}), (79, 98, {'weight': 0.061533394300221755}), (79, 99, {'weight': 0.04588315676757518}), (80, 80, {'weight': 1.0}), (80, 81, {'weight': 0.04287738566243861}), (80, 82, {'weight': 0.040827321991526014}), (80, 83, {'weight': 0.03933465108352922}), (80, 84, {'weight': 0.06330608238542469}), (80, 85, {'weight': 0.03517205977941128}), (80, 86, {'weight': 0.02480505767880197}), (80, 87, {'weight': 0.03932820939482829}), (80, 88, {'weight': 0.04055817293767208}), (80, 89, {'weight': 0.04251812570063114}), (80, 90, {'weight': 0.030615221706013288}), (80, 91, {'weight': 0.026762893380376743}), (80, 92, {'weight': 0.04227144321022713}), (80, 93, {'weight': 0.03690372007347375}), (80, 94, {'weight': 0.031295178947842776}), (80, 95, {'weight': 0.03457230107724331}), (80, 96, {'weight': 0.051844905915828965}), (80, 97, {'weight': 0.02519706132522444}), (80, 98, {'weight': 0.025227785650316605}), (80, 99, {'weight': 0.02948624660480354}), (81, 81, {'weight': 1.0}), (81, 82, {'weight': 0.08407525358604565}), (81, 83, {'weight': 0.13605605768955914}), (81, 84, {'weight': 0.06032052401153772}), (81, 85, {'weight': 0.021647428463913564}), (81, 86, {'weight': 0.03023292057039484}), (81, 87, {'weight': 0.04583916871944514}), (81, 88, {'weight': 0.14906988360575885}), (81, 89, {'weight': 0.10290127485679723}), (81, 90, {'weight': 0.021742719897988663}), (81, 91, {'weight': 0.06594296712325529}), (81, 92, {'weight': 0.2047706782103264}), (81, 93, {'weight': 0.027707251641000262}), (81, 94, {'weight': 0.024180748842526953}), (81, 95, {'weight': 0.0358587722561315}), (81, 96, {'weight': 0.025359445580145596}), (81, 97, {'weight': 0.03602554867329172}), (81, 98, {'weight': 0.02711733828176211}), (81, 99, {'weight': 0.02190360076682694}), (82, 82, {'weight': 1.0}), (82, 83, {'weight': 0.051245255578420315}), (82, 84, {'weight': 0.07096952032382253}), (82, 85, {'weight': 0.036323428234629015}), (82, 86, {'weight': 0.04275553304473444}), (82, 87, {'weight': 0.08572960754699493}), (82, 88, {'weight': 0.07053287793236675}), (82, 89, {'weight': 0.1659024936859473}), (82, 90, {'weight': 0.02793893601040563}), (82, 91, {'weight': 0.06393232207878091}), (82, 92, {'weight': 0.16171782587206157}), (82, 93, {'weight': 0.0369470425370891}), (82, 94, {'weight': 0.028487545912987737}), (82, 95, {'weight': 0.040392168532458195}), (82, 96, {'weight': 0.03856746967616974}), (82, 97, {'weight': 0.03232997333051445}), (82, 98, {'weight': 0.03557217731472503}), (82, 99, {'weight': 0.034185267690484814}), (83, 83, {'weight': 1.0}), (83, 84, {'weight': 0.064880984066474}), (83, 85, {'weight': 0.07798924233535418}), (83, 86, {'weight': 0.0793357956299488}), (83, 87, {'weight': 0.0394214306960521}), (83, 88, {'weight': 0.24992817087089625}), (83, 89, {'weight': 0.03994732243618075}), (83, 90, {'weight': 0.021438661311591257}), (83, 91, {'weight': 0.13010384843634834}), (83, 92, {'weight': 0.1688450472995634}), (83, 93, {'weight': 0.02819141012801259}), (83, 94, {'weight': 0.034802759025700875}), (83, 95, {'weight': 0.02916058764740464}), (83, 96, {'weight': 0.032196382422572445}), (83, 97, {'weight': 0.028462643562022966}), (83, 98, {'weight': 0.025705399786156262}), (83, 99, {'weight': 0.03524080307095036}), (84, 84, {'weight': 1.0}), (84, 85, {'weight': 0.03577432684877811}), (84, 86, {'weight': 0.030318003138887148}), (84, 87, {'weight': 0.09943458256542181}), (84, 88, {'weight': 0.14872865034937716}), (84, 89, {'weight': 0.04133724677387214}), (84, 90, {'weight': 0.03832446686297819}), (84, 91, {'weight': 0.033655091937445425}), (84, 92, {'weight': 0.07867302320416157}), (84, 93, {'weight': 0.09934203092851815}), (84, 94, {'weight': 0.041878508741510834}), (84, 95, {'weight': 0.027639543897259387}), (84, 96, {'weight': 0.024903951635987784}), (84, 97, {'weight': 0.03555057507608321}), (84, 98, {'weight': 0.028477553839703514}), (84, 99, {'weight': 0.039154945052432936}), (85, 85, {'weight': 1.0}), (85, 86, {'weight': 0.041681918684139514}), (85, 87, {'weight': 0.02997645028132235}), (85, 88, {'weight': 0.027708593321014878}), (85, 89, {'weight': 0.02510086216635151}), (85, 90, {'weight': 0.041676733993605296}), (85, 91, {'weight': 0.021575741832570938}), (85, 92, {'weight': 0.03483375213854668}), (85, 93, {'weight': 0.033976569622050715}), (85, 94, {'weight': 0.047842932718358135}), (85, 95, {'weight': 0.02630645270542594}), (85, 96, {'weight': 0.019857182203605852}), (85, 97, {'weight': 0.08041283005054287}), (85, 98, {'weight': 0.020972085911337895}), (85, 99, {'weight': 0.020021527444528165}), (86, 86, {'weight': 1.0}), (86, 87, {'weight': 0.027877288816955482}), (86, 88, {'weight': 0.03789125196102951}), (86, 89, {'weight': 0.037599652471565444}), (86, 90, {'weight': 0.026633367450483808}), (86, 91, {'weight': 0.02417484457256211}), (86, 92, {'weight': 0.034536835216390366}), (86, 93, {'weight': 0.03538667898949591}), (86, 94, {'weight': 0.023136313376913832}), (86, 95, {'weight': 0.05625963676102648}), (86, 96, {'weight': 0.06044625436648138}), (86, 97, {'weight': 0.028474976340671476}), (86, 98, {'weight': 0.07740855238837066}), (86, 99, {'weight': 0.04136416866434581}), (87, 87, {'weight': 1.0}), (87, 88, {'weight': 0.05340333911827122}), (87, 89, {'weight': 0.06285290273446664}), (87, 90, {'weight': 0.04180224115321712}), (87, 91, {'weight': 0.053711136129421785}), (87, 92, {'weight': 0.06503891108870444}), (87, 93, {'weight': 0.05719415152926539}), (87, 94, {'weight': 0.02754246116590293}), (87, 95, {'weight': 0.06425407169586436}), (87, 96, {'weight': 0.048885641953781936}), (87, 97, {'weight': 0.03220963332056655}), (87, 98, {'weight': 0.035143215029287106}), (87, 99, {'weight': 0.026095013268847604}), (88, 88, {'weight': 1.0}), (88, 89, {'weight': 0.11360810493397266}), (88, 90, {'weight': 0.020007705532908107}), (88, 91, {'weight': 0.10514104650945073}), (88, 92, {'weight': 0.17884743490363858}), (88, 93, {'weight': 0.09024045329494668}), (88, 94, {'weight': 0.025037359986930966}), (88, 95, {'weight': 0.03848891649640983}), (88, 96, {'weight': 0.03146034246549219}), (88, 97, {'weight': 0.07985844542695511}), (88, 98, {'weight': 0.04727274734358311}), (88, 99, {'weight': 0.03698172759176877}), (89, 89, {'weight': 1.0}), (89, 90, {'weight': 0.019975928427698037}), (89, 91, {'weight': 0.0785819346597568}), (89, 92, {'weight': 0.19295693430560962}), (89, 93, {'weight': 0.03186273378858931}), (89, 94, {'weight': 0.029084106555415615}), (89, 95, {'weight': 0.06875157204036149}), (89, 96, {'weight': 0.04457734626088944}), (89, 97, {'weight': 0.026443634708020813}), (89, 98, {'weight': 0.029810574709379138}), (89, 99, {'weight': 0.026899129296388463}), (90, 90, {'weight': 1.0}), (90, 91, {'weight': 0.019549296027829642}), (90, 92, {'weight': 0.02601539250528466}), (90, 93, {'weight': 0.022369483446957973}), (90, 94, {'weight': 0.02809418971744096}), (90, 95, {'weight': 0.022536709197842293}), (90, 96, {'weight': 0.017182377201896307}), (90, 97, {'weight': 0.01900855523886029}), (90, 98, {'weight': 0.031936599532109484}), (90, 99, {'weight': 0.02841758377205681}), (91, 91, {'weight': 1.0}), (91, 92, {'weight': 0.05516020695970771}), (91, 93, {'weight': 0.02925402472989544}), (91, 94, {'weight': 0.030140291695589155}), (91, 95, {'weight': 0.028591103522122484}), (91, 96, {'weight': 0.026995690413683264}), (91, 97, {'weight': 0.02253283047715462}), (91, 98, {'weight': 0.022522542563357013}), (91, 99, {'weight': 0.038453349767182184}), (92, 92, {'weight': 1.0}), (92, 93, {'weight': 0.03765805096835393}), (92, 94, {'weight': 0.02855829165981703}), (92, 95, {'weight': 0.07732641070582497}), (92, 96, {'weight': 0.037381565415969514}), (92, 97, {'weight': 0.030397967369126998}), (92, 98, {'weight': 0.03584566145623477}), (92, 99, {'weight': 0.04309619488652641}), (93, 93, {'weight': 1.0}), (93, 94, {'weight': 0.02734225704231429}), (93, 95, {'weight': 0.029009859748073494}), (93, 96, {'weight': 0.026148665960961114}), (93, 97, {'weight': 0.0633580233760563}), (93, 98, {'weight': 0.0298698902737093}), (93, 99, {'weight': 0.03768340005986143}), (94, 94, {'weight': 1.0}), (94, 95, {'weight': 0.018726877979766438}), (94, 96, {'weight': 0.025538784265402306}), (94, 97, {'weight': 0.037483050980989044}), (94, 98, {'weight': 0.021892345218317212}), (94, 99, {'weight': 0.059315149885162295}), (95, 95, {'weight': 1.0}), (95, 96, {'weight': 0.04567833320305718}), (95, 97, {'weight': 0.027109559538862866}), (95, 98, {'weight': 0.02421198052656368}), (95, 99, {'weight': 0.021418031749217255}), (96, 96, {'weight': 1.0}), (96, 97, {'weight': 0.021043139668733078}), (96, 98, {'weight': 0.021257956311421876}), (96, 99, {'weight': 0.01586420369037274}), (97, 97, {'weight': 1.0}), (97, 98, {'weight': 0.047005982466637966}), (97, 99, {'weight': 0.05547095327579182}), (98, 98, {'weight': 1.0}), (98, 99, {'weight': 0.06277449027608492}), (99, 99, {'weight': 1.0})])"
      ]
     },
     "execution_count": 70,
     "metadata": {},
     "output_type": "execute_result"
    }
   ],
   "source": [
    "graph_parts['no'][2].edges(data=True)"
   ]
  },
  {
   "cell_type": "code",
   "execution_count": 77,
   "metadata": {},
   "outputs": [],
   "source": [
    "no=threshold(graph_parts['no'][2], 'positive',.5)"
   ]
  },
  {
   "cell_type": "code",
   "execution_count": 79,
   "metadata": {},
   "outputs": [],
   "source": [
    "ov=threshold(graph_parts['ov'][2], 'positive',.5)"
   ]
  },
  {
   "cell_type": "code",
   "execution_count": 81,
   "metadata": {},
   "outputs": [],
   "source": [
    "ob=threshold(graph_parts['ob'][2], 'positive',.5)"
   ]
  },
  {
   "cell_type": "code",
   "execution_count": 82,
   "metadata": {},
   "outputs": [
    {
     "name": "stderr",
     "output_type": "stream",
     "text": [
      "/Users/gracer/anaconda3/envs/py36/lib/python3.6/site-packages/networkx/drawing/nx_pylab.py:579: MatplotlibDeprecationWarning: \n",
      "The iterable function was deprecated in Matplotlib 3.1 and will be removed in 3.3. Use np.iterable instead.\n",
      "  if not cb.iterable(width):\n",
      "/Users/gracer/anaconda3/envs/py36/lib/python3.6/site-packages/networkx/drawing/nx_pylab.py:585: MatplotlibDeprecationWarning: \n",
      "The iterable function was deprecated in Matplotlib 3.1 and will be removed in 3.3. Use np.iterable instead.\n",
      "  and cb.iterable(edge_color) \\\n",
      "/Users/gracer/anaconda3/envs/py36/lib/python3.6/site-packages/networkx/drawing/nx_pylab.py:595: MatplotlibDeprecationWarning: \n",
      "The iterable function was deprecated in Matplotlib 3.1 and will be removed in 3.3. Use np.iterable instead.\n",
      "  for c in edge_color]):\n"
     ]
    }
   ],
   "source": [
    "jenny_graph(ob)"
   ]
  },
  {
   "cell_type": "code",
   "execution_count": 105,
   "metadata": {},
   "outputs": [],
   "source": [
    "mod_ob = community.induced_graph(graph_parts['ob'][0], graph_parts['ob'][2])"
   ]
  },
  {
   "cell_type": "code",
   "execution_count": 100,
   "metadata": {},
   "outputs": [],
   "source": [
    "mod_ov = community.induced_graph(graph_parts['ov'][0], graph_parts['ov'][2])"
   ]
  },
  {
   "cell_type": "code",
   "execution_count": 102,
   "metadata": {},
   "outputs": [],
   "source": [
    "mod_no = community.induced_graph(graph_parts['no'][0], graph_parts['no'][2])"
   ]
  },
  {
   "cell_type": "code",
   "execution_count": 106,
   "metadata": {
    "scrolled": true
   },
   "outputs": [],
   "source": [
    "def module_fig(G, Type):\n",
    "    edges,weights = zip(*nx.get_edge_attributes(G,'weight').items())\n",
    "    #nodes, size = zip(*nx.get_node_attributes(G,'clustering').items())\n",
    "    \n",
    "    \n",
    "    positions=nx.circular_layout(G)\n",
    "    plt.figure(figsize=(25,20))\n",
    "    \n",
    "    color = np.array(list(G.nodes))\n",
    "    nColormap=plt.cm.Spectral #check here if you want different colors https://matplotlib.org/3.1.1/gallery/color/colormap_reference.html\n",
    "    cM=color.max()\n",
    "    cm=color.min()\n",
    "    nx.draw_networkx_nodes(G,positions, \n",
    "                           node_color=color, \n",
    "                           #node_size=size,\n",
    "                           alpha=1.0, \n",
    "                           cmap= 'Spectral',\n",
    "                           vmin=cm,vmax=cM )\n",
    "   \n",
    "    #Styling for labels\n",
    "    nx.draw_networkx_labels(G, positions, font_size=8, font_family='sans-serif')\n",
    "    wt=np.array(weights)/5\n",
    "    x=nx.draw_networkx_edges(G, positions, edge_list=edges,style='solid', width = wt, edge_color = weights)\n",
    "   \n",
    "    edge_bar=plt.colorbar(x)\n",
    "    edge_bar.set_label('Strength of edge weight',fontsize = 25)\n",
    "    \n",
    "    plt.title(\"Module Connectivity Weights %s\"%Type, fontsize = 30)\n",
    "    #plt.savefig(os.path.join(basepath,\"betaseries_bevel/5_analysis/results/modularity_edges_reward_weighted.png\"), format=\"PNG\")\n",
    "    plt.axis('off')\n",
    "    plt.show()"
   ]
  },
  {
   "cell_type": "code",
   "execution_count": 108,
   "metadata": {},
   "outputs": [],
   "source": [
    "def make_node_stats(list_o_data, direction, min_cor):\n",
    "    clustering_dict ={}\n",
    "    centrality_dict ={}\n",
    "       \n",
    "    for key, values in list_o_data.items():\n",
    "            ########################################\n",
    "            cor_matrix = np.asmatrix(values)\n",
    "            x=abs(cor_matrix)\n",
    "            mu=x.mean()\n",
    "            ########################################\n",
    "            G = nx.from_numpy_matrix(cor_matrix)\n",
    "            tG = create_corr_network_5(G, direction,min_cor)\n",
    "            ########################################\n",
    "            clustering = nx.clustering(tG, weight=True)\n",
    "            ########################################\n",
    "            clustering_dict.setdefault(key, []).append(clustering)\n",
    "            ########################################\n",
    "            centrality = nx.betweenness_centrality(tG, weight=True)\n",
    "            ########################################\n",
    "            centrality_dict.setdefault(key, []).append(centrality)\n",
    "            ########################################\n",
    "    return({'clustering_coeff':clustering_dict, 'btn_centrality':centrality_dict})"
   ]
  },
  {
   "cell_type": "code",
   "execution_count": null,
   "metadata": {},
   "outputs": [],
   "source": []
  },
  {
   "cell_type": "code",
   "execution_count": null,
   "metadata": {},
   "outputs": [],
   "source": [
    "# GRAPHS={'corr':corr_dict,'total':total_graphs, 'graphs':graphs, 'parts':graph_parts}"
   ]
  },
  {
   "cell_type": "code",
   "execution_count": null,
   "metadata": {},
   "outputs": [],
   "source": [
    "# pickle.dump(GRAPHS, open(os.path.join(basepath, 'test/GraphsGES'), 'wb'), protocol=4)"
   ]
  },
  {
   "cell_type": "code",
   "execution_count": null,
   "metadata": {},
   "outputs": [],
   "source": [
    "# basepath='/Users/gracer/Google Drive/HCP_graph/1200'\n",
    "\n",
    "# with open(os.path.join(basepath, 'test/GraphsGES'), 'rb') as pickle_file:\n",
    "#     try:\n",
    "#         while True:\n",
    "#             GRAPHS = pickle.load(pickle_file)\n",
    "# #             print (GRAPHS)\n",
    "#     except EOFError:\n",
    "#         pass"
   ]
  },
  {
   "cell_type": "code",
   "execution_count": null,
   "metadata": {},
   "outputs": [],
   "source": []
  }
 ],
 "metadata": {
  "kernelspec": {
   "display_name": "Python 3",
   "language": "python",
   "name": "python3"
  },
  "language_info": {
   "codemirror_mode": {
    "name": "ipython",
    "version": 3
   },
   "file_extension": ".py",
   "mimetype": "text/x-python",
   "name": "python",
   "nbconvert_exporter": "python",
   "pygments_lexer": "ipython3",
   "version": "3.6.8"
  }
 },
 "nbformat": 4,
 "nbformat_minor": 2
}
