{
 "cells": [
  {
   "cell_type": "code",
   "execution_count": 81,
   "metadata": {},
   "outputs": [],
   "source": [
    "import pandas as pd\n",
    "import glob\n",
    "import os\n",
    "import numpy as np\n",
    "from zipfile import ZipFile\n",
    "import tarfile\n",
    "\n"
   ]
  },
  {
   "cell_type": "code",
   "execution_count": 32,
   "metadata": {},
   "outputs": [],
   "source": [
    "df = pd.read_csv('/Users/gracer/Google Drive/HCP_graph/1200/datasets/RESTRICTED_gshearrer_4_19_2018_11_33_34.csv', sep=',')"
   ]
  },
  {
   "cell_type": "code",
   "execution_count": 33,
   "metadata": {},
   "outputs": [
    {
     "data": {
      "text/html": [
       "<div>\n",
       "<style scoped>\n",
       "    .dataframe tbody tr th:only-of-type {\n",
       "        vertical-align: middle;\n",
       "    }\n",
       "\n",
       "    .dataframe tbody tr th {\n",
       "        vertical-align: top;\n",
       "    }\n",
       "\n",
       "    .dataframe thead th {\n",
       "        text-align: right;\n",
       "    }\n",
       "</style>\n",
       "<table border=\"1\" class=\"dataframe\">\n",
       "  <thead>\n",
       "    <tr style=\"text-align: right;\">\n",
       "      <th></th>\n",
       "      <th>Subject</th>\n",
       "      <th>Age_in_Yrs</th>\n",
       "      <th>HasGT</th>\n",
       "      <th>ZygositySR</th>\n",
       "      <th>ZygosityGT</th>\n",
       "      <th>Family_ID</th>\n",
       "      <th>Mother_ID</th>\n",
       "      <th>Father_ID</th>\n",
       "      <th>TestRetestInterval</th>\n",
       "      <th>Race</th>\n",
       "      <th>...</th>\n",
       "      <th>SSAGA_Times_Used_Illicits</th>\n",
       "      <th>SSAGA_Times_Used_Cocaine</th>\n",
       "      <th>SSAGA_Times_Used_Hallucinogens</th>\n",
       "      <th>SSAGA_Times_Used_Opiates</th>\n",
       "      <th>SSAGA_Times_Used_Sedatives</th>\n",
       "      <th>SSAGA_Times_Used_Stimulants</th>\n",
       "      <th>SSAGA_Mj_Use</th>\n",
       "      <th>SSAGA_Mj_Ab_Dep</th>\n",
       "      <th>SSAGA_Mj_Age_1st_Use</th>\n",
       "      <th>SSAGA_Mj_Times_Used</th>\n",
       "    </tr>\n",
       "  </thead>\n",
       "  <tbody>\n",
       "    <tr>\n",
       "      <th>0</th>\n",
       "      <td>100004</td>\n",
       "      <td>24</td>\n",
       "      <td>True</td>\n",
       "      <td>NotTwin</td>\n",
       "      <td></td>\n",
       "      <td>52259_82122</td>\n",
       "      <td>52259</td>\n",
       "      <td>82122</td>\n",
       "      <td>NaN</td>\n",
       "      <td>White</td>\n",
       "      <td>...</td>\n",
       "      <td>0.0</td>\n",
       "      <td>0.0</td>\n",
       "      <td>0.0</td>\n",
       "      <td>0.0</td>\n",
       "      <td>0.0</td>\n",
       "      <td>0.0</td>\n",
       "      <td>0.0</td>\n",
       "      <td>0.0</td>\n",
       "      <td>NaN</td>\n",
       "      <td>0.0</td>\n",
       "    </tr>\n",
       "    <tr>\n",
       "      <th>1</th>\n",
       "      <td>100206</td>\n",
       "      <td>27</td>\n",
       "      <td>True</td>\n",
       "      <td>NotTwin</td>\n",
       "      <td></td>\n",
       "      <td>56037_85858</td>\n",
       "      <td>56037</td>\n",
       "      <td>85858</td>\n",
       "      <td>NaN</td>\n",
       "      <td>White</td>\n",
       "      <td>...</td>\n",
       "      <td>0.0</td>\n",
       "      <td>0.0</td>\n",
       "      <td>0.0</td>\n",
       "      <td>0.0</td>\n",
       "      <td>0.0</td>\n",
       "      <td>0.0</td>\n",
       "      <td>0.0</td>\n",
       "      <td>0.0</td>\n",
       "      <td>NaN</td>\n",
       "      <td>0.0</td>\n",
       "    </tr>\n",
       "    <tr>\n",
       "      <th>2</th>\n",
       "      <td>100307</td>\n",
       "      <td>27</td>\n",
       "      <td>True</td>\n",
       "      <td>NotMZ</td>\n",
       "      <td>MZ</td>\n",
       "      <td>51488_81352</td>\n",
       "      <td>51488</td>\n",
       "      <td>81352</td>\n",
       "      <td>NaN</td>\n",
       "      <td>White</td>\n",
       "      <td>...</td>\n",
       "      <td>0.0</td>\n",
       "      <td>0.0</td>\n",
       "      <td>0.0</td>\n",
       "      <td>0.0</td>\n",
       "      <td>0.0</td>\n",
       "      <td>0.0</td>\n",
       "      <td>1.0</td>\n",
       "      <td>0.0</td>\n",
       "      <td>2.0</td>\n",
       "      <td>1.0</td>\n",
       "    </tr>\n",
       "    <tr>\n",
       "      <th>3</th>\n",
       "      <td>100408</td>\n",
       "      <td>33</td>\n",
       "      <td>True</td>\n",
       "      <td>MZ</td>\n",
       "      <td>MZ</td>\n",
       "      <td>51730_81594</td>\n",
       "      <td>51730</td>\n",
       "      <td>81594</td>\n",
       "      <td>NaN</td>\n",
       "      <td>White</td>\n",
       "      <td>...</td>\n",
       "      <td>4.0</td>\n",
       "      <td>5.0</td>\n",
       "      <td>5.0</td>\n",
       "      <td>5.0</td>\n",
       "      <td>0.0</td>\n",
       "      <td>0.0</td>\n",
       "      <td>1.0</td>\n",
       "      <td>1.0</td>\n",
       "      <td>2.0</td>\n",
       "      <td>4.0</td>\n",
       "    </tr>\n",
       "    <tr>\n",
       "      <th>4</th>\n",
       "      <td>100610</td>\n",
       "      <td>27</td>\n",
       "      <td>True</td>\n",
       "      <td>NotMZ</td>\n",
       "      <td>DZ</td>\n",
       "      <td>52813_82634</td>\n",
       "      <td>52813</td>\n",
       "      <td>82634</td>\n",
       "      <td>NaN</td>\n",
       "      <td>White</td>\n",
       "      <td>...</td>\n",
       "      <td>0.0</td>\n",
       "      <td>0.0</td>\n",
       "      <td>0.0</td>\n",
       "      <td>0.0</td>\n",
       "      <td>0.0</td>\n",
       "      <td>0.0</td>\n",
       "      <td>0.0</td>\n",
       "      <td>0.0</td>\n",
       "      <td>NaN</td>\n",
       "      <td>0.0</td>\n",
       "    </tr>\n",
       "  </tbody>\n",
       "</table>\n",
       "<p>5 rows × 201 columns</p>\n",
       "</div>"
      ],
      "text/plain": [
       "   Subject  Age_in_Yrs  HasGT ZygositySR ZygosityGT    Family_ID  Mother_ID  \\\n",
       "0   100004          24   True    NotTwin             52259_82122      52259   \n",
       "1   100206          27   True    NotTwin             56037_85858      56037   \n",
       "2   100307          27   True      NotMZ         MZ  51488_81352      51488   \n",
       "3   100408          33   True         MZ         MZ  51730_81594      51730   \n",
       "4   100610          27   True      NotMZ         DZ  52813_82634      52813   \n",
       "\n",
       "   Father_ID  TestRetestInterval   Race  ... SSAGA_Times_Used_Illicits  \\\n",
       "0      82122                 NaN  White  ...                       0.0   \n",
       "1      85858                 NaN  White  ...                       0.0   \n",
       "2      81352                 NaN  White  ...                       0.0   \n",
       "3      81594                 NaN  White  ...                       4.0   \n",
       "4      82634                 NaN  White  ...                       0.0   \n",
       "\n",
       "   SSAGA_Times_Used_Cocaine  SSAGA_Times_Used_Hallucinogens  \\\n",
       "0                       0.0                             0.0   \n",
       "1                       0.0                             0.0   \n",
       "2                       0.0                             0.0   \n",
       "3                       5.0                             5.0   \n",
       "4                       0.0                             0.0   \n",
       "\n",
       "   SSAGA_Times_Used_Opiates  SSAGA_Times_Used_Sedatives  \\\n",
       "0                       0.0                         0.0   \n",
       "1                       0.0                         0.0   \n",
       "2                       0.0                         0.0   \n",
       "3                       5.0                         0.0   \n",
       "4                       0.0                         0.0   \n",
       "\n",
       "   SSAGA_Times_Used_Stimulants  SSAGA_Mj_Use  SSAGA_Mj_Ab_Dep  \\\n",
       "0                          0.0           0.0              0.0   \n",
       "1                          0.0           0.0              0.0   \n",
       "2                          0.0           1.0              0.0   \n",
       "3                          0.0           1.0              1.0   \n",
       "4                          0.0           0.0              0.0   \n",
       "\n",
       "   SSAGA_Mj_Age_1st_Use  SSAGA_Mj_Times_Used  \n",
       "0                   NaN                  0.0  \n",
       "1                   NaN                  0.0  \n",
       "2                   2.0                  1.0  \n",
       "3                   2.0                  4.0  \n",
       "4                   NaN                  0.0  \n",
       "\n",
       "[5 rows x 201 columns]"
      ]
     },
     "execution_count": 33,
     "metadata": {},
     "output_type": "execute_result"
    }
   ],
   "source": [
    "df.head()"
   ]
  },
  {
   "cell_type": "code",
   "execution_count": 34,
   "metadata": {},
   "outputs": [
    {
     "data": {
      "text/plain": [
       "['Subject',\n",
       " 'Age_in_Yrs',\n",
       " 'HasGT',\n",
       " 'ZygositySR',\n",
       " 'ZygosityGT',\n",
       " 'Family_ID',\n",
       " 'Mother_ID',\n",
       " 'Father_ID',\n",
       " 'TestRetestInterval',\n",
       " 'Race',\n",
       " 'Ethnicity',\n",
       " 'Handedness',\n",
       " 'SSAGA_Employ',\n",
       " 'SSAGA_Income',\n",
       " 'SSAGA_Educ',\n",
       " 'SSAGA_InSchool',\n",
       " 'SSAGA_Rlshp',\n",
       " 'SSAGA_MOBorn',\n",
       " 'Height',\n",
       " 'Weight',\n",
       " 'BMI',\n",
       " 'SSAGA_BMICat',\n",
       " 'SSAGA_BMICatHeaviest',\n",
       " 'Blood_Drawn',\n",
       " 'Hematocrit_1',\n",
       " 'Hematocrit_2',\n",
       " 'BPSystolic',\n",
       " 'BPDiastolic',\n",
       " 'ThyroidHormone',\n",
       " 'HbA1C',\n",
       " 'Hypothyroidism',\n",
       " 'Hypothyroidism_Onset',\n",
       " 'Hyperthyroidism',\n",
       " 'Hyperthyroidism_Onset',\n",
       " 'OtherEndocrn_Prob',\n",
       " 'OtherEndocrine_ProbOnset',\n",
       " 'Menstrual_RegCycles',\n",
       " 'Menstrual_Explain',\n",
       " 'Menstrual_AgeBegan',\n",
       " 'Menstrual_CycleLength',\n",
       " 'Menstrual_DaysSinceLast',\n",
       " 'Menstrual_AgeIrreg',\n",
       " 'Menstrual_AgeStop',\n",
       " 'Menstrual_MonthsSinceStop',\n",
       " 'Menstrual_UsingBirthControl',\n",
       " 'Menstrual_BirthControlCode',\n",
       " 'FamHist_Moth_Scz',\n",
       " 'FamHist_Fath_Scz',\n",
       " 'FamHist_Moth_Dep',\n",
       " 'FamHist_Fath_Dep',\n",
       " 'FamHist_Moth_BP',\n",
       " 'FamHist_Fath_BP',\n",
       " 'FamHist_Moth_Anx',\n",
       " 'FamHist_Fath_Anx',\n",
       " 'FamHist_Moth_DrgAlc',\n",
       " 'FamHist_Fath_DrgAlc',\n",
       " 'FamHist_Moth_Alz',\n",
       " 'FamHist_Fath_Alz',\n",
       " 'FamHist_Moth_PD',\n",
       " 'FamHist_Fath_PD',\n",
       " 'FamHist_Moth_TS',\n",
       " 'FamHist_Fath_TS',\n",
       " 'FamHist_Moth_None',\n",
       " 'FamHist_Fath_None',\n",
       " 'ASR_Anxd_Raw',\n",
       " 'ASR_Anxd_Pct',\n",
       " 'ASR_Witd_Raw',\n",
       " 'ASR_Witd_T',\n",
       " 'ASR_Soma_Raw',\n",
       " 'ASR_Soma_T',\n",
       " 'ASR_Thot_Raw',\n",
       " 'ASR_Thot_T',\n",
       " 'ASR_Attn_Raw',\n",
       " 'ASR_Attn_T',\n",
       " 'ASR_Aggr_Raw',\n",
       " 'ASR_Aggr_T',\n",
       " 'ASR_Rule_Raw',\n",
       " 'ASR_Rule_T',\n",
       " 'ASR_Intr_Raw',\n",
       " 'ASR_Intr_T',\n",
       " 'ASR_Oth_Raw',\n",
       " 'ASR_Crit_Raw',\n",
       " 'ASR_Intn_Raw',\n",
       " 'ASR_Intn_T',\n",
       " 'ASR_Extn_Raw',\n",
       " 'ASR_Extn_T',\n",
       " 'ASR_TAO_Sum',\n",
       " 'ASR_Totp_Raw',\n",
       " 'ASR_Totp_T',\n",
       " 'DSM_Depr_Raw',\n",
       " 'DSM_Depr_T',\n",
       " 'DSM_Anxi_Raw',\n",
       " 'DSM_Anxi_T',\n",
       " 'DSM_Somp_Raw',\n",
       " 'DSM_Somp_T',\n",
       " 'DSM_Avoid_Raw',\n",
       " 'DSM_Avoid_T',\n",
       " 'DSM_Adh_Raw',\n",
       " 'DSM_Adh_T',\n",
       " 'DSM_Inat_Raw',\n",
       " 'DSM_Hype_Raw',\n",
       " 'DSM_Antis_Raw',\n",
       " 'DSM_Antis_T',\n",
       " 'SSAGA_ChildhoodConduct',\n",
       " 'SSAGA_PanicDisorder',\n",
       " 'SSAGA_Agoraphobia',\n",
       " 'SSAGA_Depressive_Ep',\n",
       " 'SSAGA_Depressive_Sx',\n",
       " 'Color_Vision',\n",
       " 'Eye',\n",
       " 'EVA_Num',\n",
       " 'EVA_Denom',\n",
       " 'Correction',\n",
       " 'Breathalyzer_Over_05',\n",
       " 'Breathalyzer_Over_08',\n",
       " 'Cocaine',\n",
       " 'THC',\n",
       " 'Opiates',\n",
       " 'Amphetamines',\n",
       " 'MethAmphetamine',\n",
       " 'Oxycontin',\n",
       " 'Total_Drinks_7days',\n",
       " 'Num_Days_Drank_7days',\n",
       " 'Avg_Weekday_Drinks_7days',\n",
       " 'Avg_Weekend_Drinks_7days',\n",
       " 'Total_Beer_Wine_Cooler_7days',\n",
       " 'Avg_Weekday_Beer_Wine_Cooler_7days',\n",
       " 'Avg_Weekend_Beer_Wine_Cooler_7days',\n",
       " 'Total_Malt_Liquor_7days',\n",
       " 'Avg_Weekday_Malt_Liquor_7days',\n",
       " 'Avg_Weekend_Malt_Liquor_7days',\n",
       " 'Total_Wine_7days',\n",
       " 'Avg_Weekday_Wine_7days',\n",
       " 'Avg_Weekend_Wine_7days',\n",
       " 'Total_Hard_Liquor_7days',\n",
       " 'Avg_Weekday_Hard_Liquor_7days',\n",
       " 'Avg_Weekend_Hard_Liquor_7days',\n",
       " 'Total_Other_Alc_7days',\n",
       " 'Avg_Weekday_Other_Alc_7days',\n",
       " 'Avg_Weekend_Other_Alc_7days',\n",
       " 'SSAGA_Alc_D4_Dp_Sx',\n",
       " 'SSAGA_Alc_D4_Ab_Dx',\n",
       " 'SSAGA_Alc_D4_Ab_Sx',\n",
       " 'SSAGA_Alc_D4_Dp_Dx',\n",
       " 'SSAGA_Alc_12_Drinks_Per_Day',\n",
       " 'SSAGA_Alc_12_Frq',\n",
       " 'SSAGA_Alc_12_Frq_5plus',\n",
       " 'SSAGA_Alc_12_Frq_Drk',\n",
       " 'SSAGA_Alc_12_Max_Drinks',\n",
       " 'SSAGA_Alc_Age_1st_Use',\n",
       " 'SSAGA_Alc_Hvy_Drinks_Per_Day',\n",
       " 'SSAGA_Alc_Hvy_Frq',\n",
       " 'SSAGA_Alc_Hvy_Frq_5plus',\n",
       " 'SSAGA_Alc_Hvy_Frq_Drk',\n",
       " 'SSAGA_Alc_Hvy_Max_Drinks',\n",
       " 'Total_Any_Tobacco_7days',\n",
       " 'Times_Used_Any_Tobacco_Today',\n",
       " 'Num_Days_Used_Any_Tobacco_7days',\n",
       " 'Avg_Weekday_Any_Tobacco_7days',\n",
       " 'Avg_Weekend_Any_Tobacco_7days',\n",
       " 'Total_Cigarettes_7days',\n",
       " 'Avg_Weekday_Cigarettes_7days',\n",
       " 'Avg_Weekend_Cigarettes_7days',\n",
       " 'Total_Cigars_7days',\n",
       " 'Avg_Weekday_Cigars_7days',\n",
       " 'Avg_Weekend_Cigars_7days',\n",
       " 'Total_Pipes_7days',\n",
       " 'Avg_Weekday_Pipes_7days',\n",
       " 'Avg_Weekend_Pipes_7days',\n",
       " 'Total_Chew_7days',\n",
       " 'Avg_Weekday_Chew_7days',\n",
       " 'Avg_Weekend_Chew_7days',\n",
       " 'Total_Snuff_7days',\n",
       " 'Avg_Weekday_Snuff_7days',\n",
       " 'Avg_Weekend_Snuff_7days',\n",
       " 'Total_Other_Tobacco_7days',\n",
       " 'Avg_Weekday_Other_Tobacco_7days',\n",
       " 'Avg_Weekend_Other_Tobacco_7days',\n",
       " 'SSAGA_FTND_Score',\n",
       " 'SSAGA_HSI_Score',\n",
       " 'SSAGA_TB_Age_1st_Cig',\n",
       " 'SSAGA_TB_DSM_Difficulty_Quitting',\n",
       " 'SSAGA_TB_DSM_Tolerance',\n",
       " 'SSAGA_TB_DSM_Withdrawal',\n",
       " 'SSAGA_TB_Hvy_CPD',\n",
       " 'SSAGA_TB_Max_Cigs',\n",
       " 'SSAGA_TB_Reg_CPD',\n",
       " 'SSAGA_TB_Smoking_History',\n",
       " 'SSAGA_TB_Still_Smoking',\n",
       " 'SSAGA_TB_Yrs_Since_Quit',\n",
       " 'SSAGA_TB_Yrs_Smoked',\n",
       " 'SSAGA_Times_Used_Illicits',\n",
       " 'SSAGA_Times_Used_Cocaine',\n",
       " 'SSAGA_Times_Used_Hallucinogens',\n",
       " 'SSAGA_Times_Used_Opiates',\n",
       " 'SSAGA_Times_Used_Sedatives',\n",
       " 'SSAGA_Times_Used_Stimulants',\n",
       " 'SSAGA_Mj_Use',\n",
       " 'SSAGA_Mj_Ab_Dep',\n",
       " 'SSAGA_Mj_Age_1st_Use',\n",
       " 'SSAGA_Mj_Times_Used']"
      ]
     },
     "execution_count": 34,
     "metadata": {},
     "output_type": "execute_result"
    }
   ],
   "source": [
    "list(df.columns)"
   ]
  },
  {
   "cell_type": "code",
   "execution_count": 35,
   "metadata": {},
   "outputs": [],
   "source": [
    "myvars=['Subject', 'Age_in_Yrs', 'ZygosityGT', 'Race', 'Ethnicity', 'BMI', 'HbA1C', 'Hypothyroidism',\n",
    " 'Hyperthyroidism',\n",
    " 'OtherEndocrn_Prob', 'Mother_ID','Father_ID']"
   ]
  },
  {
   "cell_type": "code",
   "execution_count": 36,
   "metadata": {},
   "outputs": [],
   "source": [
    "df=df[myvars]"
   ]
  },
  {
   "cell_type": "code",
   "execution_count": 37,
   "metadata": {},
   "outputs": [
    {
     "data": {
      "text/plain": [
       "(1206, 12)"
      ]
     },
     "execution_count": 37,
     "metadata": {},
     "output_type": "execute_result"
    }
   ],
   "source": [
    "df.shape"
   ]
  },
  {
   "cell_type": "code",
   "execution_count": 38,
   "metadata": {},
   "outputs": [],
   "source": [
    "df=df.loc[df['Hypothyroidism'] != 1]"
   ]
  },
  {
   "cell_type": "code",
   "execution_count": 39,
   "metadata": {},
   "outputs": [
    {
     "data": {
      "text/plain": [
       "(1202, 12)"
      ]
     },
     "execution_count": 39,
     "metadata": {},
     "output_type": "execute_result"
    }
   ],
   "source": [
    "df.shape"
   ]
  },
  {
   "cell_type": "code",
   "execution_count": 40,
   "metadata": {},
   "outputs": [],
   "source": [
    "df=df.loc[df['Hyperthyroidism'] != 1]"
   ]
  },
  {
   "cell_type": "code",
   "execution_count": 41,
   "metadata": {},
   "outputs": [
    {
     "data": {
      "text/plain": [
       "(1200, 12)"
      ]
     },
     "execution_count": 41,
     "metadata": {},
     "output_type": "execute_result"
    }
   ],
   "source": [
    "df.shape"
   ]
  },
  {
   "cell_type": "code",
   "execution_count": 42,
   "metadata": {},
   "outputs": [],
   "source": [
    "df=df.loc[df['OtherEndocrn_Prob'] != 1]"
   ]
  },
  {
   "cell_type": "code",
   "execution_count": 43,
   "metadata": {},
   "outputs": [
    {
     "data": {
      "text/plain": [
       "(1180, 12)"
      ]
     },
     "execution_count": 43,
     "metadata": {},
     "output_type": "execute_result"
    }
   ],
   "source": [
    "df.shape"
   ]
  },
  {
   "cell_type": "code",
   "execution_count": 44,
   "metadata": {},
   "outputs": [
    {
     "data": {
      "text/plain": [
       "count    1179.000000\n",
       "mean       27.024139\n",
       "std         5.734938\n",
       "min        16.480000\n",
       "25%        22.960000\n",
       "50%        25.820000\n",
       "75%        29.990000\n",
       "max        48.250000\n",
       "Name: BMI, dtype: float64"
      ]
     },
     "execution_count": 44,
     "metadata": {},
     "output_type": "execute_result"
    }
   ],
   "source": [
    "df['BMI'].describe()"
   ]
  },
  {
   "cell_type": "code",
   "execution_count": 45,
   "metadata": {},
   "outputs": [],
   "source": [
    "df=df.loc[df['BMI'] > 18]"
   ]
  },
  {
   "cell_type": "code",
   "execution_count": 46,
   "metadata": {},
   "outputs": [
    {
     "data": {
      "text/plain": [
       "(1169, 12)"
      ]
     },
     "execution_count": 46,
     "metadata": {},
     "output_type": "execute_result"
    }
   ],
   "source": [
    "df.shape"
   ]
  },
  {
   "cell_type": "code",
   "execution_count": 47,
   "metadata": {},
   "outputs": [],
   "source": [
    "df=df.dropna(subset=['BMI'])"
   ]
  },
  {
   "cell_type": "code",
   "execution_count": 48,
   "metadata": {},
   "outputs": [
    {
     "data": {
      "text/plain": [
       "(1169, 12)"
      ]
     },
     "execution_count": 48,
     "metadata": {},
     "output_type": "execute_result"
    }
   ],
   "source": [
    "df.shape"
   ]
  },
  {
   "cell_type": "code",
   "execution_count": 49,
   "metadata": {},
   "outputs": [
    {
     "data": {
      "text/plain": [
       "count     1169\n",
       "unique       3\n",
       "top           \n",
       "freq       701\n",
       "Name: ZygosityGT, dtype: object"
      ]
     },
     "execution_count": 49,
     "metadata": {},
     "output_type": "execute_result"
    }
   ],
   "source": [
    "df['ZygosityGT'].describe()"
   ]
  },
  {
   "cell_type": "code",
   "execution_count": 50,
   "metadata": {},
   "outputs": [
    {
     "data": {
      "text/plain": [
       "      701\n",
       "MZ    288\n",
       "DZ    180\n",
       "Name: ZygosityGT, dtype: int64"
      ]
     },
     "execution_count": 50,
     "metadata": {},
     "output_type": "execute_result"
    }
   ],
   "source": [
    "df['ZygosityGT'].value_counts()"
   ]
  },
  {
   "cell_type": "code",
   "execution_count": 51,
   "metadata": {},
   "outputs": [],
   "source": [
    "df_mz=df.loc[df['ZygosityGT'] == 'MZ']"
   ]
  },
  {
   "cell_type": "code",
   "execution_count": 52,
   "metadata": {},
   "outputs": [],
   "source": [
    "df_dz=df.loc[df['ZygosityGT'] == 'DZ']"
   ]
  },
  {
   "cell_type": "code",
   "execution_count": 56,
   "metadata": {},
   "outputs": [],
   "source": [
    "df_nt=df.loc[df['ZygosityGT'] == ' ']"
   ]
  },
  {
   "cell_type": "code",
   "execution_count": 57,
   "metadata": {
    "scrolled": true
   },
   "outputs": [
    {
     "data": {
      "text/plain": [
       "(701, 12)"
      ]
     },
     "execution_count": 57,
     "metadata": {},
     "output_type": "execute_result"
    }
   ],
   "source": [
    "df_nt.shape"
   ]
  },
  {
   "cell_type": "code",
   "execution_count": 61,
   "metadata": {},
   "outputs": [
    {
     "name": "stderr",
     "output_type": "stream",
     "text": [
      "/Users/gracer/anaconda3/envs/py36/lib/python3.6/site-packages/ipykernel_launcher.py:1: SettingWithCopyWarning: \n",
      "A value is trying to be set on a copy of a slice from a DataFrame.\n",
      "Try using .loc[row_indexer,col_indexer] = value instead\n",
      "\n",
      "See the caveats in the documentation: http://pandas.pydata.org/pandas-docs/stable/indexing.html#indexing-view-versus-copy\n",
      "  \"\"\"Entry point for launching an IPython kernel.\n"
     ]
    },
    {
     "data": {
      "text/plain": [
       "count       701\n",
       "unique      404\n",
       "top       52385\n",
       "freq          5\n",
       "Name: Mother_ID, dtype: int64"
      ]
     },
     "execution_count": 61,
     "metadata": {},
     "output_type": "execute_result"
    }
   ],
   "source": [
    "df_nt['Mother_ID'] = pd.Categorical(df_nt.Mother_ID)\n",
    "df_nt['Mother_ID'].describe()"
   ]
  },
  {
   "cell_type": "code",
   "execution_count": 65,
   "metadata": {},
   "outputs": [],
   "source": [
    "df_unt=df_nt.drop_duplicates(['Mother_ID','Father_ID'])"
   ]
  },
  {
   "cell_type": "code",
   "execution_count": 66,
   "metadata": {},
   "outputs": [
    {
     "data": {
      "text/plain": [
       "(415, 12)"
      ]
     },
     "execution_count": 66,
     "metadata": {},
     "output_type": "execute_result"
    }
   ],
   "source": [
    "df_unt.shape"
   ]
  },
  {
   "cell_type": "code",
   "execution_count": 72,
   "metadata": {},
   "outputs": [
    {
     "name": "stderr",
     "output_type": "stream",
     "text": [
      "/Users/gracer/anaconda3/envs/py36/lib/python3.6/site-packages/pandas/core/indexing.py:543: SettingWithCopyWarning: \n",
      "A value is trying to be set on a copy of a slice from a DataFrame.\n",
      "Try using .loc[row_indexer,col_indexer] = value instead\n",
      "\n",
      "See the caveats in the documentation: http://pandas.pydata.org/pandas-docs/stable/indexing.html#indexing-view-versus-copy\n",
      "  self.obj[item] = s\n"
     ]
    }
   ],
   "source": [
    "df_unt.loc[df_unt['BMI'] <25 , 'ov_ob'] = 'no'\n",
    "df_unt.loc[(df_unt['BMI'] >= 25) & (df_unt['BMI'] < 30), 'ov_ob'] = 'ov'\n",
    "df_unt.loc[df_unt['BMI'] >= 30, 'ov_ob'] = 'ob'"
   ]
  },
  {
   "cell_type": "code",
   "execution_count": 76,
   "metadata": {},
   "outputs": [
    {
     "data": {
      "text/plain": [
       "no    177\n",
       "ov    126\n",
       "ob    112\n",
       "Name: ov_ob, dtype: int64"
      ]
     },
     "execution_count": 76,
     "metadata": {},
     "output_type": "execute_result"
    }
   ],
   "source": [
    "df_unt['ov_ob'].value_counts()"
   ]
  },
  {
   "cell_type": "code",
   "execution_count": 80,
   "metadata": {},
   "outputs": [],
   "source": [
    "df_unt.to_csv('/Users/gracer/Google Drive/HCP_graph/1200/datasets/not_related.csv', sep=',')"
   ]
  },
  {
   "cell_type": "code",
   "execution_count": 83,
   "metadata": {},
   "outputs": [],
   "source": [
    "list_intersest = [os.path.join('node_timeseries/3T_HCP1200_MSMAll_d15_ts2/','%s.txt'%x) for x in df_unt['Subject']]"
   ]
  },
  {
   "cell_type": "code",
   "execution_count": null,
   "metadata": {},
   "outputs": [],
   "source": [
    "def tar_heel(X, liist):\n",
    "    tar = tarfile.open(X)\n",
    "    tar.extractall(narp, members=[m for m in tar.getmembers() if m.name in liist])\n",
    "    tar.close()"
   ]
  },
  {
   "cell_type": "code",
   "execution_count": 99,
   "metadata": {},
   "outputs": [],
   "source": [
    "basepath='/Users/gracer/Google Drive/HCP_graph/1200'\n",
    "\n",
    "yarp=os.path.join(basepath,'datasets','HCP_PTN1200','NodeTimeseries_3T_HCP1200_MSMAll_ICAd15_ts2.tar.gz')\n",
    "narp= os.path.join(basepath,'datasets','HCP_PTN1200','graph_analysis')\n",
    "if os.path.exists(yarp):\n",
    "    tar_heel(yarp, list_intersest)\n",
    "else:\n",
    "    for (dirpath, dirnames, filenames) in os.walk(basepath):\n",
    "        for filename in filenames:\n",
    "            if filename.endswith('Netmats.zip'):\n",
    "                tmppath=os.sep.join([dirpath, filename])\n",
    "                with ZipFile(tmppath, 'r') as zipObj:\n",
    "                    # Get a list of all archived file names from the zip\n",
    "                    listOfFileNames = zipObj.namelist()\n",
    "                    for name in listOfFileNames:\n",
    "                        print(name)\n",
    "                        if name == \"HCP_PTN1200/NodeTimeseries_3T_HCP1200_MSMAll_ICAd15_ts2.tar.gz\":\n",
    "                            zipObj.extract(name, os.path.join(basepath,'datasets'))\n",
    "                            tar_heel(yarp, list_intersest)\n",
    "\n"
   ]
  },
  {
   "cell_type": "code",
   "execution_count": null,
   "metadata": {},
   "outputs": [],
   "source": []
  }
 ],
 "metadata": {
  "kernelspec": {
   "display_name": "Python 3",
   "language": "python",
   "name": "python3"
  },
  "language_info": {
   "codemirror_mode": {
    "name": "ipython",
    "version": 3
   },
   "file_extension": ".py",
   "mimetype": "text/x-python",
   "name": "python",
   "nbconvert_exporter": "python",
   "pygments_lexer": "ipython3",
   "version": "3.6.8"
  }
 },
 "nbformat": 4,
 "nbformat_minor": 2
}
