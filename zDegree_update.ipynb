{
 "cells": [
  {
   "cell_type": "code",
   "execution_count": 1,
   "metadata": {},
   "outputs": [],
   "source": [
    "import analysis as an\n",
    "import os"
   ]
  },
  {
   "cell_type": "code",
   "execution_count": 2,
   "metadata": {},
   "outputs": [],
   "source": [
    "basepath = '/Users/gracer/Google Drive/HCP/HCP_graph/1200/datasets/'\n",
    "file_dict=an.onetoughjar(os.path.join(basepath,'tmp','5_summary_dict_07-31-2020_12-26-08'))"
   ]
  },
  {
   "cell_type": "code",
   "execution_count": 60,
   "metadata": {},
   "outputs": [],
   "source": [
    "summary_dict=an.onetoughjar(os.path.join(basepath,'tmp','5_summary_dict_12-05-2019_03-29-19'))\n"
   ]
  },
  {
   "cell_type": "code",
   "execution_count": 66,
   "metadata": {
    "scrolled": true
   },
   "outputs": [
    {
     "data": {
      "text/plain": [
       "dict_keys(['partition', 'values', 'graph'])"
      ]
     },
     "execution_count": 66,
     "metadata": {},
     "output_type": "execute_result"
    }
   ],
   "source": [
    "summary_dict['NR']['no']['modules'].keys()"
   ]
  },
  {
   "cell_type": "code",
   "execution_count": 65,
   "metadata": {},
   "outputs": [
    {
     "name": "stdout",
     "output_type": "stream",
     "text": [
      "/Users/gracer/Google Drive/HCP/HCP_graph/1200/datasets/tmp/5_summary_dict_07-31-2020_12-30-21\n"
     ]
    }
   ],
   "source": [
    "import glob\n",
    "import os\n",
    "p = os.path.join(basepath,'tmp','5_summary_dict*')\n",
    "list_of_files = glob.glob(p) # * means all if need specific format then *.csv\n",
    "latest_file = max(list_of_files, key=os.path.getctime)\n",
    "print(latest_file)"
   ]
  },
  {
   "cell_type": "code",
   "execution_count": 53,
   "metadata": {},
   "outputs": [
    {
     "data": {
      "text/plain": [
       "dict_keys(['partition', 'values', 'graph', 'zdegree'])"
      ]
     },
     "execution_count": 53,
     "metadata": {},
     "output_type": "execute_result"
    }
   ],
   "source": [
    "file_dict['NR']['ob']['modules'].keys()"
   ]
  },
  {
   "cell_type": "code",
   "execution_count": 29,
   "metadata": {},
   "outputs": [],
   "source": [
    "import pandas as pd"
   ]
  },
  {
   "cell_type": "code",
   "execution_count": 44,
   "metadata": {
    "scrolled": true
   },
   "outputs": [
    {
     "name": "stdout",
     "output_type": "stream",
     "text": [
      "no\n",
      "partition\n",
      "values\n",
      "graph\n",
      "zdegree\n",
      "ov\n",
      "partition\n",
      "values\n",
      "graph\n",
      "zdegree\n",
      "ob\n",
      "partition\n",
      "values\n",
      "graph\n",
      "zdegree\n"
     ]
    }
   ],
   "source": [
    "# columns=['module','']\n",
    "# df = pd.DataFrame(columns=columns)\n",
    "tmp_dict={}\n",
    "for key, item in file_dict['NR'].items():\n",
    "    print(key)\n",
    "    for subkey, value in item.items():\n",
    "#         print(subkey)\n",
    "        if subkey in ['modules']:\n",
    "            for x, y in value.items():\n",
    "                print(x)\n",
    "                if x == 'partition':\n",
    "                    df=pd.DataFrame.from_dict(y, orient='index')\n",
    "                    df.rename({0: 'module'}, axis=1, inplace = True)\n",
    "                    df['group']=key\n",
    "                if x == 'zdegree':\n",
    "                    df['zdegree']=y\n",
    "                \n",
    "    tmp_dict[key]=df\n",
    "                    \n",
    "#                 print(y['partition'])\n",
    "#             tmp=pd.DataFrame.from_dict(value, orient='index')\n",
    "#             tmp['group'] = '%s'%key\n",
    "#             tmp.to_csv(os.path.join(basepath,'tmp','%s_%s_data_per_sub.csv'%(key,subkey)), sep=',')\n",
    "total_df=pd.concat(list(tmp_dict.values()))"
   ]
  },
  {
   "cell_type": "code",
   "execution_count": 47,
   "metadata": {},
   "outputs": [],
   "source": [
    "total_df.to_csv(os.path.join(basepath,'tmp','zDegree.csv'),sep=',')"
   ]
  },
  {
   "cell_type": "code",
   "execution_count": 43,
   "metadata": {},
   "outputs": [
    {
     "data": {
      "text/html": [
       "<div>\n",
       "<style scoped>\n",
       "    .dataframe tbody tr th:only-of-type {\n",
       "        vertical-align: middle;\n",
       "    }\n",
       "\n",
       "    .dataframe tbody tr th {\n",
       "        vertical-align: top;\n",
       "    }\n",
       "\n",
       "    .dataframe thead th {\n",
       "        text-align: right;\n",
       "    }\n",
       "</style>\n",
       "<table border=\"1\" class=\"dataframe\">\n",
       "  <thead>\n",
       "    <tr style=\"text-align: right;\">\n",
       "      <th></th>\n",
       "      <th>module</th>\n",
       "      <th>group</th>\n",
       "      <th>zdegree</th>\n",
       "    </tr>\n",
       "  </thead>\n",
       "  <tbody>\n",
       "    <tr>\n",
       "      <th>0</th>\n",
       "      <td>0</td>\n",
       "      <td>no</td>\n",
       "      <td>0.253370</td>\n",
       "    </tr>\n",
       "    <tr>\n",
       "      <th>1</th>\n",
       "      <td>1</td>\n",
       "      <td>no</td>\n",
       "      <td>1.161941</td>\n",
       "    </tr>\n",
       "    <tr>\n",
       "      <th>2</th>\n",
       "      <td>2</td>\n",
       "      <td>no</td>\n",
       "      <td>-0.041075</td>\n",
       "    </tr>\n",
       "    <tr>\n",
       "      <th>3</th>\n",
       "      <td>2</td>\n",
       "      <td>no</td>\n",
       "      <td>1.215387</td>\n",
       "    </tr>\n",
       "    <tr>\n",
       "      <th>4</th>\n",
       "      <td>3</td>\n",
       "      <td>no</td>\n",
       "      <td>1.728312</td>\n",
       "    </tr>\n",
       "    <tr>\n",
       "      <th>...</th>\n",
       "      <td>...</td>\n",
       "      <td>...</td>\n",
       "      <td>...</td>\n",
       "    </tr>\n",
       "    <tr>\n",
       "      <th>95</th>\n",
       "      <td>2</td>\n",
       "      <td>no</td>\n",
       "      <td>-1.339554</td>\n",
       "    </tr>\n",
       "    <tr>\n",
       "      <th>96</th>\n",
       "      <td>2</td>\n",
       "      <td>no</td>\n",
       "      <td>-1.855443</td>\n",
       "    </tr>\n",
       "    <tr>\n",
       "      <th>97</th>\n",
       "      <td>7</td>\n",
       "      <td>no</td>\n",
       "      <td>-1.151328</td>\n",
       "    </tr>\n",
       "    <tr>\n",
       "      <th>98</th>\n",
       "      <td>7</td>\n",
       "      <td>no</td>\n",
       "      <td>0.892225</td>\n",
       "    </tr>\n",
       "    <tr>\n",
       "      <th>99</th>\n",
       "      <td>7</td>\n",
       "      <td>no</td>\n",
       "      <td>1.449322</td>\n",
       "    </tr>\n",
       "  </tbody>\n",
       "</table>\n",
       "<p>100 rows × 3 columns</p>\n",
       "</div>"
      ],
      "text/plain": [
       "    module group   zdegree\n",
       "0        0    no  0.253370\n",
       "1        1    no  1.161941\n",
       "2        2    no -0.041075\n",
       "3        2    no  1.215387\n",
       "4        3    no  1.728312\n",
       "..     ...   ...       ...\n",
       "95       2    no -1.339554\n",
       "96       2    no -1.855443\n",
       "97       7    no -1.151328\n",
       "98       7    no  0.892225\n",
       "99       7    no  1.449322\n",
       "\n",
       "[100 rows x 3 columns]"
      ]
     },
     "execution_count": 43,
     "metadata": {},
     "output_type": "execute_result"
    }
   ],
   "source": [
    "tmp_dict['no']"
   ]
  },
  {
   "cell_type": "markdown",
   "metadata": {},
   "source": [
    "### Hubs  \n",
    "intra-modular degree greater than 2.5   \n",
    "a participant coefficient between 0 and 0.3 was considered a provincial hub   \n",
    "between 0.3 and 0.75 was considered a connector hub  \n",
    "between 0.75 and 1 was a kinless hub  \n",
    "## non-hub \n",
    "ultra-peripheral node if the participation coefficient was between 0 and 0.05   \n",
    "a peripheral node if the participation coefficient was between 0.05 and 0.62  \n",
    "and a connector node if the participation coefficient was between 0.63 and 0.8  \n",
    "kinless nodes if the participation coefficient was between 0.8 and 1   "
   ]
  },
  {
   "cell_type": "code",
   "execution_count": null,
   "metadata": {},
   "outputs": [],
   "source": []
  }
 ],
 "metadata": {
  "kernelspec": {
   "display_name": "Python 3",
   "language": "python",
   "name": "python3"
  },
  "language_info": {
   "codemirror_mode": {
    "name": "ipython",
    "version": 3
   },
   "file_extension": ".py",
   "mimetype": "text/x-python",
   "name": "python",
   "nbconvert_exporter": "python",
   "pygments_lexer": "ipython3",
   "version": "3.7.2"
  }
 },
 "nbformat": 4,
 "nbformat_minor": 4
}
